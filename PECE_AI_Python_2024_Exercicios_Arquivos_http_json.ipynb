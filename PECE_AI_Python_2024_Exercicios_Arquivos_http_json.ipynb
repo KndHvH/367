{
  "nbformat": 4,
  "nbformat_minor": 0,
  "metadata": {
    "colab": {
      "provenance": []
    },
    "kernelspec": {
      "name": "python3",
      "display_name": "Python 3"
    }
  },
  "cells": [
    {
      "cell_type": "markdown",
      "metadata": {
        "id": "EzztbdQ_7QVn"
      },
      "source": [
        "# Exercícios em Python 5: Biblioteca padrão python, arquivos, http, json\n",
        "\n",
        "\n"
      ]
    },
    {
      "cell_type": "markdown",
      "metadata": {
        "id": "u7BDz8O1qaMd"
      },
      "source": [
        "## Preparando o ambiente\n",
        "\n",
        "Este notebook usa códigos no pacote ceai_python_aula04.py.\n",
        "Verifique se o seu google drive contém a pasta cursoai_python_aula_04.\n",
        "\n",
        "Em seguida execute o código a seguir."
      ]
    },
    {
      "cell_type": "code",
      "metadata": {
        "id": "wo0Ow_IdVgtZ"
      },
      "source": [
        "!git clone https://gitlab.uspdigital.usp.br/thiago/curso_ai_python.git\n",
        "import sys\n",
        "sys.path.append('curso_ai_python')"
      ],
      "execution_count": null,
      "outputs": []
    },
    {
      "cell_type": "markdown",
      "metadata": {
        "id": "Rou0RcBHC-Z3"
      },
      "source": [
        "Se o bloco acima foi executado corretamente, importe os símbolos com a linha seguinte:"
      ]
    },
    {
      "cell_type": "code",
      "metadata": {
        "id": "r9Q1G0SXu-Ir"
      },
      "source": [
        "import ceai_python_aula07"
      ],
      "execution_count": null,
      "outputs": []
    },
    {
      "cell_type": "markdown",
      "metadata": {
        "id": "bdTCDbolwdYj"
      },
      "source": [
        "## 5.1  Arquivos\n",
        "\n",
        "A linguagem Python tem uma biblioteca de arquivos.\n",
        "\n",
        "Arquivos são abertos com a função ```open```.\n",
        "\n",
        "O código abaixo cria um arquivo ```teste.txt``` dentro do diretório ```content```, que é o diretório padrão do colab."
      ]
    },
    {
      "cell_type": "code",
      "metadata": {
        "id": "VBQEHIv0wtR2"
      },
      "source": [
        "arquivo = open(\"teste.txt\", \"tw\")\n",
        "arquivo.close()"
      ],
      "execution_count": null,
      "outputs": []
    },
    {
      "cell_type": "markdown",
      "metadata": {
        "id": "v6zPjtNNxVj0"
      },
      "source": [
        "Verifique na aba de arquivos que existe o arquivo teste.txt.\n",
        "\n",
        "a função ```open``` retorna um objeto de arquivo.\n",
        "\n",
        "Escreve-se em arquivos com o método ```write```.\n",
        "\n",
        "Por exemplo, o código abaixo escreve ```Isso é um teste``` no arquivo ```teste.txt```:"
      ]
    },
    {
      "cell_type": "code",
      "metadata": {
        "id": "rXBGURSgxxlL"
      },
      "source": [
        "arquivo = open(\"teste.txt\", \"tw\")\n",
        "arquivo.write(\"Isso é um teste\")\n",
        "arquivo.close()"
      ],
      "execution_count": null,
      "outputs": []
    },
    {
      "cell_type": "markdown",
      "metadata": {
        "id": "iA6tm_v5x685"
      },
      "source": [
        "Verifique o conteúdo do arquivo.\n",
        "\n",
        "O arquivo aberto com o modo \"tw\" é um arquivo aberto em modo texto para escrita truncada, ou seja, o conteúdo original do arquivo é *destruído*.\n",
        "\n",
        "Um arquivo pode ser lido com as funções ```read```, que retorna todo o conteúdo do arquivo, a função ```readline()``` que lê uma única linha do arquivo e a função ```readlines``` que lê *todas* as linhas de um arquivo.\n",
        "\n",
        "Por exemplo, o código a seguir lê a primeira linha do arquivo criado anteriormente."
      ]
    },
    {
      "cell_type": "code",
      "metadata": {
        "id": "LK6RFjM90J-b",
        "outputId": "87259edd-f694-4734-8ac8-4e783ac9acf5",
        "colab": {
          "base_uri": "https://localhost:8080/"
        }
      },
      "source": [
        "arquivo = open(\"teste.txt\", \"tr\")\n",
        "print(arquivo.readline())\n",
        "arquivo.close()"
      ],
      "execution_count": null,
      "outputs": [
        {
          "output_type": "stream",
          "name": "stdout",
          "text": [
            "Isso é um teste\n"
          ]
        }
      ]
    },
    {
      "cell_type": "markdown",
      "metadata": {
        "id": "pEH3Wz4p1cTT"
      },
      "source": [
        "### Exercício 5.1.1\n",
        "\n",
        "Leia todas as linhas do arquivo ```/content/curso_ai_python/dados/dados01.txt``` e coloque-as em uma sequência na variável ```linhas```"
      ]
    },
    {
      "cell_type": "code",
      "metadata": {
        "id": "xOZTUoIk17wF"
      },
      "source": [],
      "execution_count": null,
      "outputs": []
    },
    {
      "cell_type": "markdown",
      "metadata": {
        "id": "tHMiSK4Z18Pt"
      },
      "source": [
        "Teste sua resposta:"
      ]
    },
    {
      "cell_type": "code",
      "metadata": {
        "id": "RZe6XY_M19zr"
      },
      "source": [
        "ceai_python_aula07.valida_ex_05_01_01(linhas)"
      ],
      "execution_count": null,
      "outputs": []
    },
    {
      "cell_type": "markdown",
      "metadata": {
        "id": "aOYvkNYM4naH"
      },
      "source": [
        "### Exercício 5.1.2\n",
        "\n",
        "Procure usando Python no arquivo ```/curso_ai_python/dados/dados02.txt``` uma linha iniciada por ```parametro_01```...\n",
        "Atribua à variável ```linha``` o conteúdo desta linha.\n",
        "\n",
        "*Sugestão*: O método ```.startswith(valor)``` retorna ```True``` se a string sobre a qual é chamado inicia-se com ```valor```."
      ]
    },
    {
      "cell_type": "code",
      "metadata": {
        "id": "GtZVcgrc4mkK"
      },
      "source": [],
      "execution_count": null,
      "outputs": []
    },
    {
      "cell_type": "markdown",
      "metadata": {
        "id": "GYY3zawx5Dwh"
      },
      "source": [
        "Teste sua resposta:"
      ]
    },
    {
      "cell_type": "code",
      "metadata": {
        "id": "W5vSzRR74m5K"
      },
      "source": [
        "ceai_python_aula07.valida_ex_05_01_02(linha)"
      ],
      "execution_count": null,
      "outputs": []
    },
    {
      "cell_type": "markdown",
      "metadata": {
        "id": "sOdbhxzK57h6"
      },
      "source": [
        "### Exercício 5.1.3\n",
        "\n",
        "Crie o arquivo ```resultado.txt``` dentro do diretório ```content``` (que é o diretório padrão).\n",
        "\n",
        "Este arquivo deve conter os valores dos quadrados dos 10 primeiros inteiros positivos (começando por 1).\n",
        "\n",
        "*Sugestão*:\n",
        "Para delimitar uma linha em um arquivo, chame o método ```write``` passando a string ```'\\n'```.\n"
      ]
    },
    {
      "cell_type": "code",
      "metadata": {
        "id": "rvbNTUYf6iE7"
      },
      "source": [],
      "execution_count": null,
      "outputs": []
    },
    {
      "cell_type": "markdown",
      "metadata": {
        "id": "UE09_Kxb6i-h"
      },
      "source": [
        "Teste a sua resposta"
      ]
    },
    {
      "cell_type": "code",
      "metadata": {
        "id": "DI-hOzxP6lVt"
      },
      "source": [
        "ceai_python_aula07.valida_ex_05_01_03()"
      ],
      "execution_count": null,
      "outputs": []
    },
    {
      "cell_type": "markdown",
      "metadata": {
        "id": "THM5xJGDoz_A"
      },
      "source": [
        "## 5.2 Processando dados em JSON.\n",
        "\n",
        "O formato JSON (JavaScript Object Notation) tem tornado-se cada vez mais prevalente na internet para intercâmbio de objetos.\n",
        "\n",
        "Este é um formato que codifica objetos compostos em um formato similar ao da linguagem JavaScript.\n",
        "\n",
        "O Módulo ```json``` é capaz de codificar e decodificar tipos básicos em python bem como boa parte dos tipos agregados, como sequências, strings e dicionários.\n",
        "\n",
        "O exemplo a seguir mostra a codificação em JSON de tipos básicos e alguns agregados."
      ]
    },
    {
      "cell_type": "code",
      "metadata": {
        "id": "rbgteJZbp_eI",
        "outputId": "b177bfba-c703-491e-cc43-5ab8c9ea0856",
        "colab": {
          "base_uri": "https://localhost:8080/"
        }
      },
      "source": [
        "import json\n",
        "\n",
        "print(json.dumps(1))\n",
        "print(json.dumps(0.001))\n",
        "print(json.dumps('teste'))\n",
        "print(json.dumps([1,2,3]))\n",
        "print(json.dumps({'chave 1': 1}))\n",
        "print(json.dumps({1: 1}))\n",
        "print(json.dumps((1,2,3)))"
      ],
      "execution_count": null,
      "outputs": [
        {
          "output_type": "stream",
          "name": "stdout",
          "text": [
            "1\n",
            "0.001\n",
            "\"teste\"\n",
            "[1, 2, 3]\n",
            "{\"chave 1\": 1}\n",
            "{\"1\": 1}\n",
            "[1, 2, 3]\n"
          ]
        }
      ]
    },
    {
      "cell_type": "markdown",
      "metadata": {
        "id": "SbTmdcI9ru2P"
      },
      "source": [
        "Observe como a sintaxe da codificação é virtualmente idêntica a da linguagem Python.\n",
        "Uma notória exceção é a codificação de tuplas, que são condificadas como sequências, e das chaves de dicionários, que são *sempre* convertidas para Strings.\n",
        "\n",
        "É possível também escrever diretamente em um arquivo com a função ```dump```:"
      ]
    },
    {
      "cell_type": "code",
      "source": [
        "with open(\"exemplo.json\", \"wt\") as arquivo:\n",
        "  json.dump([1,2,3,4,5], arquivo)\n",
        "with open(\"exemplo.json\", \"rt\") as arquivo:\n",
        "  linhas = arquivo.readlines()\n",
        "for linha in linhas:\n",
        "  print(linha)"
      ],
      "metadata": {
        "colab": {
          "base_uri": "https://localhost:8080/"
        },
        "id": "VlQ2yVAowH4q",
        "outputId": "0056d860-1fd4-41a4-9586-ae4e391e0019"
      },
      "execution_count": null,
      "outputs": [
        {
          "output_type": "stream",
          "name": "stdout",
          "text": [
            "[1, 2, 3, 4, 5]\n"
          ]
        }
      ]
    },
    {
      "cell_type": "markdown",
      "source": [
        "### Exercício 5.2.1\n",
        "\n",
        "Escreva um arquivo com o nome ```resultado.json``` contendo um dicionário cujas chaves são números de 1 a 100 e os valores são os quadrados dos respectivos números."
      ],
      "metadata": {
        "id": "K2rAks24v6k0"
      }
    },
    {
      "cell_type": "code",
      "metadata": {
        "id": "on7v781utbwf"
      },
      "source": [],
      "execution_count": null,
      "outputs": []
    },
    {
      "cell_type": "markdown",
      "metadata": {
        "id": "ws9lZcGNtcOm"
      },
      "source": [
        "Verifique sua resposta:"
      ]
    },
    {
      "cell_type": "code",
      "metadata": {
        "id": "254-qQ2gtdub"
      },
      "source": [
        "ceai_python_aula07.valida_ex_05_02_01()"
      ],
      "execution_count": null,
      "outputs": []
    },
    {
      "cell_type": "markdown",
      "metadata": {
        "id": "cfg4lYaWbAvq"
      },
      "source": [
        "## 5.3 Acessando recursos da rede com o pacote ```urllib```\n",
        "\n",
        "O pacote ```urllib``` é um pacote que permite acessar recursos na Internet por meio de suas urls.\n",
        "\n",
        "O resultado de uma solicitação http é um objeto do tipo ```HTTPRequest```. Este objeto é relativamente complexo, dada a versatilidade do protocolo http.\n",
        "\n",
        "Exemplo: O código abaixo recupera o endereço IP da máquina atual pela url [https://api6.ipify.org/](https://api6.ipify.org/).\n"
      ]
    },
    {
      "cell_type": "code",
      "metadata": {
        "id": "XNK-tnIcgRNH",
        "colab": {
          "base_uri": "https://localhost:8080/"
        },
        "outputId": "3f271251-1dd2-49d2-a655-12e97ae9306e"
      },
      "source": [
        "import urllib.request\n",
        "resposta = urllib.request.urlopen('https://api.ipify.org/')\n",
        "codificacao='UTF-8'\n",
        "for content_spec in resposta.headers['Content-Type'].split(';'):\n",
        "    if content_spec.startswith('charset'):\n",
        "      codificacao = content_spec.split('=')[1].lstrip()\n",
        "print(resposta.read().decode(codificacao))"
      ],
      "execution_count": null,
      "outputs": [
        {
          "output_type": "stream",
          "name": "stdout",
          "text": [
            "35.245.169.103\n"
          ]
        }
      ]
    },
    {
      "cell_type": "markdown",
      "metadata": {
        "id": "w6uaqgDuhG5H"
      },
      "source": [
        "### Exercício 5.3.1\n",
        "\n",
        "Crie uma função que retorna a hora do dia em São Paulo.\n",
        "Use a URL [http://worldtimeapi.org/api/timezone/America/Sao_Paulo](http://worldtimeapi.org/api/timezone/America/Sao_Paulo).\n",
        "\n",
        "*Atenção!* O resultado desta busca é um JSON.\n",
        "Use a função ```json.loads(string)``` para converter uma string em um dicionário.\n",
        "\n",
        "A data e hora do dia será armazenada em uma string no dicionário sobre a chave ```datetime``` e em uma string.\n",
        "\n",
        "Você deve retornar esta string."
      ]
    },
    {
      "cell_type": "code",
      "metadata": {
        "id": "7sDfv9Iqlq6I"
      },
      "source": [
        "def recupera_datetime_online():\n",
        "  # Complete com seu código"
      ],
      "execution_count": null,
      "outputs": []
    },
    {
      "cell_type": "markdown",
      "metadata": {
        "id": "bJNjkVt01lt_"
      },
      "source": [
        "Verifique sua resposta:"
      ]
    },
    {
      "cell_type": "code",
      "metadata": {
        "id": "Srn5A6Q-1ndq"
      },
      "source": [
        "ceai_python_aula07.valida_ex_05_03_01(recupera_datetime_online)"
      ],
      "execution_count": null,
      "outputs": []
    }
  ]
}