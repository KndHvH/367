{
  "cells": [
    {
      "cell_type": "markdown",
      "metadata": {
        "id": "70MUTZ2CJM5B"
      },
      "source": [
        "# Aula 18\n",
        "\n",
        "# Métodos de ajuste de hiperparâmetros e regularização\n",
        "\n",
        "### Eduardo Lobo Lustosa Cabral"
      ]
    },
    {
      "cell_type": "markdown",
      "metadata": {
        "id": "2jN7e5tZJM5G"
      },
      "source": [
        "## 1. Objetivo\n",
        "\n",
        "Apresentar como realizar o ajuste de hiper parâmetros e a regularização de uma RNA."
      ]
    },
    {
      "cell_type": "markdown",
      "metadata": {
        "id": "vtYcitmyJM5G"
      },
      "source": [
        "### Importar bibliotecas"
      ]
    },
    {
      "cell_type": "code",
      "execution_count": null,
      "metadata": {
        "id": "VnNWxOcOJM5H"
      },
      "outputs": [],
      "source": [
        "import numpy as np\n",
        "import matplotlib.pyplot as plt\n",
        "import tensorflow as tf\n",
        "tf.__version__\n"
      ]
    },
    {
      "cell_type": "markdown",
      "metadata": {
        "id": "CSOGFBY2JM5I"
      },
      "source": [
        "## 2. Conjunto de dados\n",
        "\n",
        "Vamos utlizar o conjunto de dados CIFAR10, que consiste em classificação multiclasse de imagens"
      ]
    },
    {
      "cell_type": "code",
      "execution_count": null,
      "metadata": {
        "id": "ZMZ5229yJUcb"
      },
      "outputs": [],
      "source": [
        "# Carregar Dados CIFAR\n",
        "from tensorflow.keras.datasets import cifar10\n",
        "\n",
        "# load dataset\n",
        "(Xtrain, Ytrain), (Xtest, Ytest) = cifar10.load_data()\n"
      ]
    },
    {
      "cell_type": "code",
      "execution_count": null,
      "metadata": {
        "id": "N48tCji1JehT"
      },
      "outputs": [],
      "source": [
        "# Normalização das imagens\n",
        "x_train = (Xtrain - 127.5)/127.5\n",
        "x_test = (Xtest - 127.5)/127.5\n",
        "\n",
        "# Codificação one-hot das saídas\n",
        "y_train_hot = tf.keras.utils.to_categorical(Ytrain, 10)\n",
        "y_test_hot = tf.keras.utils.to_categorical(Ytest, 10)\n",
        "\n",
        "print('Dimensão dos dados de entrada:', x_train.shape, x_test.shape)\n",
        "print('Maximos e mínimos treinamento:', np.min(x_train), np.mean(x_train), np.max(x_train))\n",
        "print('Maximos e mínimos teste:', np.min(x_test), np.mean(x_test), np.max(x_test))\n",
        "print('exemplos de entradas:', x_train[0,16])\n",
        "print('Exemplos de saídas:', y_train_hot.shape, y_test_hot.shape, '\\n', Ytrain[:5].T, '\\n', y_train_hot[:5])\n"
      ]
    },
    {
      "cell_type": "code",
      "execution_count": null,
      "metadata": {
        "id": "XASCPmIwYMTp"
      },
      "outputs": [],
      "source": [
        "fig, axs = plt.subplots(2, 8, figsize=(16, 4))\n",
        "index = 0\n",
        "for i in range(2):\n",
        "    for j in range(8):\n",
        "        axs[i,j].imshow(Xtrain[index], cmap='gray')\n",
        "        index += 1\n",
        "plt.show()\n"
      ]
    },
    {
      "cell_type": "markdown",
      "metadata": {
        "id": "dXBWh2H_JM5K"
      },
      "source": [
        "## 3. Rede sem regularização\n"
      ]
    },
    {
      "cell_type": "code",
      "execution_count": null,
      "metadata": {
        "id": "Sl3lhNhMq-EY"
      },
      "outputs": [],
      "source": [
        "from tensorflow.keras import models\n",
        "from tensorflow.keras import layers\n",
        "from tensorflow.keras import optimizers\n",
        "\n",
        "rna = models.Sequential()\n",
        "rna.add(layers.Flatten(input_shape=(32,32,3)))\n",
        "rna.add(layers.Dense(64, activation='relu'))\n",
        "rna.add(layers.Dense(10, activation='softmax'))\n",
        "\n",
        "rna.summary()\n"
      ]
    },
    {
      "cell_type": "code",
      "execution_count": null,
      "metadata": {
        "collapsed": true,
        "id": "ynClr3XlrWIm"
      },
      "outputs": [],
      "source": [
        "opt = optimizers.SGD(learning_rate=0.01, momentum=0.92, nesterov=True)\n",
        "rna.compile(optimizer=opt, loss='categorical_crossentropy', metrics=['accuracy'])\n",
        "historia = rna.fit(x_train, y_train_hot, epochs=100, batch_size=256, validation_data=(x_test, y_test_hot))\n"
      ]
    },
    {
      "cell_type": "code",
      "execution_count": null,
      "metadata": {
        "id": "0eApDExLrWcv"
      },
      "outputs": [],
      "source": [
        "# Salva custo,métrica e épocas em vetores\n",
        "historia_dict = historia.history\n",
        "custo = historia_dict['loss']\n",
        "exatidao = historia_dict['accuracy']\n",
        "custo_val = historia_dict['val_loss']\n",
        "exatidao_val = historia_dict['val_accuracy']\n",
        "\n",
        "# Cria vetor de épocas\n",
        "epocas = range(1, len(custo) + 1)\n",
        "# Gráfico do custo\n",
        "plt.plot(epocas, custo, 'b')\n",
        "plt.plot(epocas, custo_val, 'r')\n",
        "plt.title('Valor da função de custo')\n",
        "plt.xlabel('Épocas')\n",
        "plt.ylabel('Custo')\n",
        "plt.legend(['Treinamento', 'Validação'])\n",
        "plt.grid()\n",
        "plt.show()\n",
        "\n",
        "# Gráfico da exatidão\n",
        "plt.plot(epocas, exatidao, 'b')\n",
        "plt.plot(epocas, exatidao_val, 'r')\n",
        "plt.title('Valor da exatidão')\n",
        "plt.xlabel('Épocas')\n",
        "plt.ylabel('Exatidão')\n",
        "plt.legend(['Treinamento', 'Validação'])\n",
        "plt.grid()\n",
        "plt.show()\n"
      ]
    },
    {
      "cell_type": "code",
      "execution_count": null,
      "metadata": {
        "id": "kaDP92JPJM5L"
      },
      "outputs": [],
      "source": [
        "from tensorflow.keras import models\n",
        "from tensorflow.keras import layers\n",
        "\n",
        "rna = models.Sequential()\n",
        "rna.add(layers.Flatten(input_shape=(32,32,3)))\n",
        "rna.add(layers.Dense(1024, activation='relu'))\n",
        "rna.add(layers.Dense(512, activation='relu'))\n",
        "rna.add(layers.Dense(256, activation='relu'))\n",
        "rna.add(layers.Dense(128, activation='relu'))\n",
        "rna.add(layers.Dense(10, activation='softmax'))\n",
        "\n",
        "rna.summary()\n"
      ]
    },
    {
      "cell_type": "code",
      "execution_count": null,
      "metadata": {
        "collapsed": true,
        "id": "RHWg2Y35JM5M"
      },
      "outputs": [],
      "source": [
        "opt = optimizers.SGD(learning_rate=0.001, momentum=0.92, nesterov=True)\n",
        "rna.compile(optimizer=opt, loss='categorical_crossentropy', metrics=['accuracy'])\n",
        "historia = rna.fit(x_train, y_train_hot, epochs=100, batch_size=256, validation_data=(x_test, y_test_hot))\n"
      ]
    },
    {
      "cell_type": "code",
      "execution_count": null,
      "metadata": {
        "id": "TXU6Ka4JJM5O"
      },
      "outputs": [],
      "source": [
        "# Salva custo,métrica e épocas em vetores\n",
        "historia_dict = historia.history\n",
        "custo = historia_dict['loss']\n",
        "exatidao = historia_dict['accuracy']\n",
        "custo_val = historia_dict['val_loss']\n",
        "exatidao_val = historia_dict['val_accuracy']\n",
        "\n",
        "# Cria vetor de épocas\n",
        "epocas = range(1, len(custo) + 1)\n",
        "# Gráfico do custo\n",
        "plt.plot(epocas, custo, 'b')\n",
        "plt.plot(epocas, custo_val, 'r')\n",
        "plt.title('Valor da função de custo')\n",
        "plt.xlabel('Épocas')\n",
        "plt.ylabel('Custo')\n",
        "plt.legend(['Treinamento', 'Validação'])\n",
        "plt.grid()\n",
        "plt.show()\n",
        "\n",
        "# Gráfico da exatidão\n",
        "plt.plot(epocas, exatidao, 'b')\n",
        "plt.plot(epocas, exatidao_val, 'r')\n",
        "plt.title('Valor da exatidão')\n",
        "plt.xlabel('Épocas')\n",
        "plt.ylabel('Exatidão')\n",
        "plt.legend(['Treinamento', 'Validação'])\n",
        "plt.grid()\n",
        "plt.show()\n"
      ]
    },
    {
      "cell_type": "code",
      "execution_count": null,
      "metadata": {
        "id": "PwN-T4oOJM5O"
      },
      "outputs": [],
      "source": [
        "cm_train = rna.evaluate(x_train, y_train_hot)\n",
        "cm_test = rna.evaluate(x_test, y_test_hot)\n"
      ]
    },
    {
      "cell_type": "markdown",
      "metadata": {
        "id": "l-jH1ZziJM5Q"
      },
      "source": [
        "## 4. Rede com regularização L2"
      ]
    },
    {
      "cell_type": "code",
      "execution_count": null,
      "metadata": {
        "id": "uu-2FAQOfGtO"
      },
      "outputs": [],
      "source": [
        "from tensorflow.keras import models\n",
        "from tensorflow.keras import layers\n",
        "\n",
        "rna = models.Sequential()\n",
        "rna.add(layers.Flatten(input_shape=(32,32,3)))\n",
        "rna.add(layers.Dense(1024, activation='relu', kernel_regularizer=tf.keras.regularizers.L2(0.003)))\n",
        "rna.add(layers.Dense(512, activation='relu', kernel_regularizer=tf.keras.regularizers.L2(0.003)))\n",
        "rna.add(layers.Dense(256, activation='relu', kernel_regularizer=tf.keras.regularizers.L2(0.003)))\n",
        "rna.add(layers.Dense(128, activation='relu'))\n",
        "rna.add(layers.Dense(10, activation='softmax'))\n",
        "\n",
        "rna.summary()\n"
      ]
    },
    {
      "cell_type": "code",
      "execution_count": null,
      "metadata": {
        "collapsed": true,
        "id": "p-HEajTVfGtx"
      },
      "outputs": [],
      "source": [
        "opt = optimizers.SGD(learning_rate=0.001, momentum=0.92, nesterov=True)\n",
        "rna.compile(optimizer=opt, loss='categorical_crossentropy', metrics=['accuracy'])\n",
        "historia = rna.fit(x_train, y_train_hot, epochs=100, batch_size=256, validation_data=(x_test, y_test_hot))\n"
      ]
    },
    {
      "cell_type": "code",
      "execution_count": null,
      "metadata": {
        "id": "uJayTyVTfGty"
      },
      "outputs": [],
      "source": [
        "# Salva custo,métrica e épocas em vetores\n",
        "historia_dict = historia.history\n",
        "custo = historia_dict['loss']\n",
        "exatidao = historia_dict['accuracy']\n",
        "custo_val = historia_dict['val_loss']\n",
        "exatidao_val = historia_dict['val_accuracy']\n",
        "\n",
        "# Cria vetor de épocas\n",
        "epocas = range(1, len(custo) + 1)\n",
        "# Gráfico do custo\n",
        "plt.plot(epocas, custo, 'b')\n",
        "plt.plot(epocas, custo_val, 'r')\n",
        "plt.title('Valor da função de custo')\n",
        "plt.xlabel('Épocas')\n",
        "plt.ylabel('Custo')\n",
        "plt.legend(['Treinamento', 'Validação'])\n",
        "plt.grid()\n",
        "plt.show()\n",
        "\n",
        "# Gráfico da exatidão\n",
        "plt.plot(epocas, exatidao, 'b')\n",
        "plt.plot(epocas, exatidao_val, 'r')\n",
        "plt.title('Valor da exatidão')\n",
        "plt.xlabel('Épocas')\n",
        "plt.ylabel('Exatidão')\n",
        "plt.legend(['Treinamento', 'Validação'])\n",
        "plt.grid()\n",
        "plt.show()\n"
      ]
    },
    {
      "cell_type": "code",
      "execution_count": null,
      "metadata": {
        "id": "0ZwvMdFkfGtz"
      },
      "outputs": [],
      "source": [
        "cm_train = rna.evaluate(x_train, y_train_hot)\n",
        "cm_test = rna.evaluate(x_test, y_test_hot)\n"
      ]
    },
    {
      "cell_type": "markdown",
      "metadata": {
        "id": "hSYQaQACJM5R"
      },
      "source": [
        "## 5. Rede com dropout"
      ]
    },
    {
      "cell_type": "code",
      "execution_count": null,
      "metadata": {
        "id": "0QvBdYoGJM5S"
      },
      "outputs": [],
      "source": [
        "from tensorflow.keras import models\n",
        "from tensorflow.keras import layers\n",
        "\n",
        "rna = models.Sequential()\n",
        "rna.add(layers.Flatten(input_shape=(32,32,3)))\n",
        "rna.add(layers.Dense(1024, activation='relu', kernel_constraint=tf.keras.constraints.MaxNorm(3.0)))\n",
        "rna.add(layers.Dropout(0.4))\n",
        "rna.add(layers.Dense(512, activation='relu', kernel_constraint=tf.keras.constraints.MaxNorm(3.0)))\n",
        "rna.add(layers.Dropout(0.3))\n",
        "rna.add(layers.Dense(256, activation='relu', kernel_constraint=tf.keras.constraints.MaxNorm(3.0)))\n",
        "rna.add(layers.Dropout(0.2))\n",
        "rna.add(layers.Dense(128, activation='relu', kernel_constraint=tf.keras.constraints.MaxNorm(3.0)))\n",
        "rna.add(layers.Dropout(0.1))\n",
        "rna.add(layers.Dense(10, activation='softmax'))\n",
        "\n",
        "rna.summary()\n"
      ]
    },
    {
      "cell_type": "code",
      "execution_count": null,
      "metadata": {
        "collapsed": true,
        "id": "rUsptx-BJM5S"
      },
      "outputs": [],
      "source": [
        "opt = optimizers.SGD(learning_rate=0.01, momentum=0.92, nesterov=True)\n",
        "rna.compile(optimizer=opt, loss='categorical_crossentropy', metrics=['accuracy'])\n",
        "historia = rna.fit(x_train, y_train_hot, batch_size=256, epochs=100, validation_data=(x_test, y_test_hot))\n"
      ]
    },
    {
      "cell_type": "code",
      "execution_count": null,
      "metadata": {
        "id": "3Smwo8f4JM5S"
      },
      "outputs": [],
      "source": [
        "# Salva custo,métrica e épocas em vetores\n",
        "historia_dict = historia.history\n",
        "custo = historia_dict['loss']\n",
        "exatidao = historia_dict['accuracy']\n",
        "custo_val = historia_dict['val_loss']\n",
        "exatidao_val = historia_dict['val_accuracy']\n",
        "\n",
        "# Cria vetor de épocas\n",
        "epocas = range(1, len(custo) + 1)\n",
        "\n",
        "# Gráfico do custo\n",
        "plt.plot(epocas, custo, 'b')\n",
        "plt.plot(epocas, custo_val, 'r')\n",
        "plt.title('Valor da função de custo')\n",
        "plt.xlabel('Épocas')\n",
        "plt.ylabel('Custo')\n",
        "plt.grid()\n",
        "plt.show()\n",
        "\n",
        "# Gráfico da exatidão\n",
        "plt.plot(epocas, exatidao, 'b')\n",
        "plt.plot(epocas, exatidao_val, 'r')\n",
        "plt.title('Valor da exatidão')\n",
        "plt.xlabel('Épocas')\n",
        "plt.ylabel('Exatidão')\n",
        "plt.grid()\n",
        "plt.show()\n"
      ]
    },
    {
      "cell_type": "code",
      "execution_count": null,
      "metadata": {
        "id": "6lVBExMEJM5S"
      },
      "outputs": [],
      "source": [
        "cm_train = rna.evaluate(x_train, y_train_hot)\n",
        "cm_test = rna.evaluate(x_test, y_test_hot)\n"
      ]
    },
    {
      "cell_type": "markdown",
      "metadata": {
        "id": "7OyaGWHKKCu_"
      },
      "source": [
        "## 6. Rede com normalização de batelada"
      ]
    },
    {
      "cell_type": "code",
      "execution_count": null,
      "metadata": {
        "id": "TyoiD7NFJM5S"
      },
      "outputs": [],
      "source": [
        "from tensorflow.keras import models\n",
        "from tensorflow.keras import layers\n",
        "\n",
        "rna = models.Sequential()\n",
        "rna.add(layers.Flatten(input_shape=(32,32,3)))\n",
        "rna.add(layers.Dense(1024, kernel_constraint=tf.keras.constraints.MaxNorm(3.0), use_bias=False))\n",
        "rna.add(layers.BatchNormalization())\n",
        "rna.add(layers.Activation('relu'))\n",
        "rna.add(layers.Dropout(0.4))\n",
        "rna.add(layers.Dense(512, kernel_constraint=tf.keras.constraints.MaxNorm(3.0), use_bias=False))\n",
        "rna.add(layers.BatchNormalization())\n",
        "rna.add(layers.Activation('relu'))\n",
        "rna.add(layers.Dropout(0.3))\n",
        "rna.add(layers.Dense(256, kernel_constraint=tf.keras.constraints.MaxNorm(3.0), use_bias=False))\n",
        "rna.add(layers.BatchNormalization())\n",
        "rna.add(layers.Activation('relu'))\n",
        "rna.add(layers.Dropout(0.2))\n",
        "rna.add(layers.Dense(128, kernel_constraint=tf.keras.constraints.MaxNorm(3.0), use_bias=False))\n",
        "rna.add(layers.BatchNormalization())\n",
        "rna.add(layers.Activation('relu'))\n",
        "rna.add(layers.Dropout(0.1))\n",
        "rna.add(layers.Dense(10, activation='softmax'))\n",
        "\n",
        "rna.summary()\n"
      ]
    },
    {
      "cell_type": "code",
      "execution_count": null,
      "metadata": {
        "collapsed": true,
        "id": "9sxl54JAJM5T"
      },
      "outputs": [],
      "source": [
        "opt = optimizers.SGD(learning_rate=0.01, momentum=0.92, nesterov=True)\n",
        "rna.compile(optimizer=opt, loss='categorical_crossentropy', metrics=['accuracy'])\n",
        "historia = rna.fit(x_train, y_train_hot, batch_size=256, epochs=100, validation_data=(x_test, y_test_hot))\n"
      ]
    },
    {
      "cell_type": "code",
      "execution_count": null,
      "metadata": {
        "id": "R-QIh-XsjjGE"
      },
      "outputs": [],
      "source": [
        "# Salva custo,métrica e épocas em vetores\n",
        "historia_dict = historia.history\n",
        "custo = historia_dict['loss']\n",
        "exatidao = historia_dict['accuracy']\n",
        "custo_val = historia_dict['val_loss']\n",
        "exatidao_val = historia_dict['val_accuracy']\n",
        "\n",
        "# Cria vetor de épocas\n",
        "epocas = range(1, len(custo) + 1)\n",
        "\n",
        "# Gráfico do custo\n",
        "plt.plot(epocas, custo, 'b')\n",
        "plt.plot(epocas, custo_val, 'r')\n",
        "plt.title('Valor da função de custo')\n",
        "plt.xlabel('Épocas')\n",
        "plt.ylabel('Custo')\n",
        "plt.grid()\n",
        "plt.show()\n",
        "\n",
        "# Gráfico da exatidão\n",
        "plt.plot(epocas, exatidao, 'b')\n",
        "plt.plot(epocas, exatidao_val, 'r')\n",
        "plt.title('Valor da exatidão')\n",
        "plt.xlabel('Épocas')\n",
        "plt.ylabel('Exatidão')\n",
        "plt.grid()\n",
        "plt.show()\n"
      ]
    },
    {
      "cell_type": "code",
      "execution_count": null,
      "metadata": {
        "id": "-5ZYxYUtlSug"
      },
      "outputs": [],
      "source": [
        "cm_train = rna.evaluate(x_train, y_train_hot)\n",
        "cm_test = rna.evaluate(x_test, y_test_hot)\n"
      ]
    },
    {
      "cell_type": "markdown",
      "metadata": {
        "id": "XEkL_8G4KU5E"
      },
      "source": [
        "## 7. Treinamento com data augmentation"
      ]
    },
    {
      "cell_type": "code",
      "execution_count": null,
      "metadata": {
        "id": "59WOM_VzKcUT"
      },
      "outputs": [],
      "source": [
        "# Cria gerador de dados\n",
        "datagen = tf.keras.preprocessing.image.ImageDataGenerator(width_shift_range=0.1, height_shift_range=0.1, horizontal_flip=True, zoom_range=0.2, rotation_range=3.0)\n"
      ]
    },
    {
      "cell_type": "code",
      "execution_count": null,
      "metadata": {
        "id": "ZxkDSSDoKebN"
      },
      "outputs": [],
      "source": [
        "# Instancia gerador de lotes\n",
        "batch_size = 256\n",
        "batches = datagen.flow(x_train, y_train_hot, batch_size=batch_size)\n"
      ]
    },
    {
      "cell_type": "code",
      "execution_count": null,
      "metadata": {
        "id": "WyWEoMMoLXQ7"
      },
      "outputs": [],
      "source": [
        "from tensorflow.keras import models\n",
        "from tensorflow.keras import layers\n",
        "\n",
        "rna = models.Sequential()\n",
        "rna = models.Sequential()\n",
        "rna.add(layers.Flatten(input_shape=(32,32,3)))\n",
        "rna.add(layers.Dense(1024, kernel_constraint=tf.keras.constraints.MaxNorm(3.0), use_bias=False))\n",
        "rna.add(layers.BatchNormalization())\n",
        "rna.add(layers.Activation('relu'))\n",
        "rna.add(layers.Dropout(0.4))\n",
        "rna.add(layers.Dense(512, kernel_constraint=tf.keras.constraints.MaxNorm(3.0), use_bias=False))\n",
        "rna.add(layers.BatchNormalization())\n",
        "rna.add(layers.Activation('relu'))\n",
        "rna.add(layers.Dropout(0.3))\n",
        "rna.add(layers.Dense(256, kernel_constraint=tf.keras.constraints.MaxNorm(3.0), use_bias=False))\n",
        "rna.add(layers.BatchNormalization())\n",
        "rna.add(layers.Activation('relu'))\n",
        "rna.add(layers.Dropout(0.2))\n",
        "rna.add(layers.Dense(128, kernel_constraint=tf.keras.constraints.MaxNorm(3.0), use_bias=False))\n",
        "rna.add(layers.BatchNormalization())\n",
        "rna.add(layers.Activation('relu'))\n",
        "rna.add(layers.Dropout(0.1))\n",
        "rna.add(layers.Dense(10, activation='softmax'))\n",
        "\n",
        "rna.summary()\n"
      ]
    },
    {
      "cell_type": "code",
      "execution_count": null,
      "metadata": {
        "id": "Qu0SupptmD7Z"
      },
      "outputs": [],
      "source": [
        "from tensorflow.keras import optimizers\n",
        "opt = optimizers.SGD(learning_rate=0.001, momentum=0.92, nesterov=True)\n",
        "rna.compile(optimizer=opt, loss='categorical_crossentropy', metrics=['accuracy'])\n",
        "historia = rna.fit(batches, epochs=200, validation_data=(x_test, y_test_hot))\n"
      ]
    },
    {
      "cell_type": "code",
      "execution_count": null,
      "metadata": {
        "id": "RIW5HdIIr3jh"
      },
      "outputs": [],
      "source": [
        "# Salva custo,métrica e épocas em vetores\n",
        "historia_dict = historia.history\n",
        "custo = historia_dict['loss']\n",
        "exatidao = historia_dict['accuracy']\n",
        "custo_val = historia_dict['val_loss']\n",
        "exatidao_val = historia_dict['val_accuracy']\n",
        "\n",
        "# Cria vetor de épocas\n",
        "epocas = range(1, len(custo) + 1)\n",
        "\n",
        "# Gráfico do custo\n",
        "plt.plot(epocas, custo, 'b', label='Treinamento')\n",
        "plt.plot(epocas, custo_val, 'r', label='validação')\n",
        "plt.title('Valor da função de custo')\n",
        "plt.xlabel('Épocas')\n",
        "plt.ylabel('Custo')\n",
        "plt.legend()\n",
        "plt.grid()\n",
        "plt.show()\n",
        "\n",
        "# Gráfico da exatidão\n",
        "plt.plot(epocas, exatidao, 'b', label='Treinamento')\n",
        "plt.plot(epocas, exatidao_val, 'r', label='validação')\n",
        "plt.title('Valor da exatidão')\n",
        "plt.xlabel('Épocas')\n",
        "plt.ylabel('Exatidão')\n",
        "plt.legend()\n",
        "plt.grid()\n",
        "plt.show()\n"
      ]
    },
    {
      "cell_type": "code",
      "execution_count": null,
      "metadata": {
        "id": "ph7zPvpgYOf1"
      },
      "outputs": [],
      "source": [
        "cm_train = rna.evaluate(x_train, y_train_hot)\n",
        "cm_test = rna.evaluate(x_test, y_test_hot)\n"
      ]
    }
  ],
  "metadata": {
    "accelerator": "GPU",
    "colab": {
      "gpuType": "T4",
      "provenance": []
    },
    "kernelspec": {
      "display_name": "dl-kl6OC-rB-py3.10",
      "language": "python",
      "name": "python3"
    },
    "language_info": {
      "codemirror_mode": {
        "name": "ipython",
        "version": 3
      },
      "file_extension": ".py",
      "mimetype": "text/x-python",
      "name": "python",
      "nbconvert_exporter": "python",
      "pygments_lexer": "ipython3",
      "version": "3.10.11"
    }
  },
  "nbformat": 4,
  "nbformat_minor": 0
}
