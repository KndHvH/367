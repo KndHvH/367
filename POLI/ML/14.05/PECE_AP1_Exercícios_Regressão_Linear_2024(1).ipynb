{
  "cells": [
    {
      "cell_type": "markdown",
      "metadata": {
        "id": "FP8y854RBU0v"
      },
      "source": [
        "# Regressão Linear\n",
        "\n",
        "A regressão linear consiste em tentar explicar o comportamento de uma variável, dita *dependente*, a partir de uma ou mais variáveis, ditas *independentes*, com um modelo linear."
      ]
    },
    {
      "cell_type": "markdown",
      "metadata": {
        "id": "d4L5gvnax19s"
      },
      "source": [
        "\n",
        "\n",
        "## 1. Regressão Linear Simples\n",
        "\n",
        "A regressão linear simples trata de apenas uma variável independente.\n",
        "\n",
        "seja $Y = \\left\\{y_1, y_2, \\ldots, y_n\\right\\}$ uma amostra do conjunto de variáveis independentes e $X = \\left\\{x_1, x_2, \\ldots, x_n\\right\\}$\n",
        "\n",
        "O modelo linear para o comportamento destas variáveis é dado pela equação:\n",
        "\n",
        "\\begin{equation}\n",
        "y_i = w_0 + w_1 x_i + \\epsilon_i\n",
        "\\end{equation}\n",
        "\n",
        "Onde $w_0, w_1$ são *parâmetros* do modelo e $\\epsilon_i$ são *resíduos* (a diferença entre o modelo real e os dados realmente observados).\n",
        "\n",
        "A hipótese do modelo linear é a de que os resíduos são variáveis aleatórias *independentes* distribuídas de acordo com uma distribuição *Gaussiana* de valor esperado *nulo*.\n",
        "\n",
        "Isso equivale a supor que as variáveis independentes são resultado da reta $y = w_0 + w_1 x$ sobreposta a um ruído Gaussiano.\n",
        "\n",
        "Adicionando-se a hipótese de que os ruídos Gaussianos são todos com a mesma covariância, os parâmetros da reta de *máxima verissimilhança* são dados por:\n",
        "\n",
        "\\begin{equation}\n",
        "\\underset{w_0, w_1}{\\mbox{arg min}} \\sum_i \\epsilon_i^2= \\sum_i \\left(y_i - w_0 - w_1 x_i\\right)^2\n",
        "\\end{equation}\n",
        "\n",
        "Definindo-se:\n",
        "\n",
        "\\begin{align}\n",
        "\\bar{x} &= \\frac{1}{n}\\sum_i x_i \\\\\n",
        "\\bar{y} &= \\frac{1}{n}\\sum_i y_i \\\\\n",
        "s_{xx} &= \\sum_i (x_i - \\bar{x})^2 \\\\\n",
        "s_{yy} &= \\sum_i (y_i - \\bar{y})^2 \\\\\n",
        "s_{xy} &= \\sum_i (x_i - \\bar{x})(y_i - \\bar{y})\n",
        "\\end{align}\n",
        "\n",
        "Então tem-se:\n",
        "\n",
        "\\begin{align}\n",
        "w_1 &= \\frac{s_{xy}}{s_{xx}}\\\\\n",
        "w_0 &= \\bar{y} - w_1 \\bar{x}\n",
        "\\end{align}\n",
        "\n",
        "E finalmente, a soma total dos quadrados dos resíduos é dada por:\n",
        "\n",
        "\\begin{equation}\n",
        "\\sum_i \\epsilon_i^2=s_{yy}\\left(1-\\frac{{s_{xy}}^2}{s_{xx} s_{yy}}\\right)\n",
        "\\end{equation}\n",
        "\n",
        "O valor\n",
        "\n",
        "\\begin{equation}\n",
        "\\frac{s_{xy}}{\\sqrt{s_{xx} s_{yy}}}\n",
        "\\end{equation}\n",
        "\n",
        "é chamado de *coeficiente de correlação de Pearson*. Este é um valor que varia de -1 a 1 e mede o quão bem a variável dependente pode ser explicada por um modelo linear da variável dependente.\n",
        "Valores mais próximos de zero significam um modelo linear menos explicativo.\n",
        "Valores mais próximos de 1 ou -1 significam um modelo linar mais explicativo.\n",
        "\n"
      ]
    },
    {
      "cell_type": "markdown",
      "metadata": {
        "id": "ajPZV2GtBcYF"
      },
      "source": [
        "### Exercício 1.1:"
      ]
    },
    {
      "cell_type": "code",
      "execution_count": 1,
      "metadata": {
        "colab": {
          "base_uri": "https://localhost:8080/",
          "height": 430
        },
        "id": "fkvhvztav7xu",
        "outputId": "a0a2302c-9358-41a7-adcf-0f60c698b64e"
      },
      "outputs": [
        {
          "data": {
            "image/png": "[encoded data removed]",
            "text/plain": [
              "<Figure size 432x288 with 1 Axes>"
            ]
          },
          "metadata": {
            "needs_background": "light"
          },
          "output_type": "display_data"
        }
      ],
      "source": [
        "import numpy as np\n",
        "import matplotlib.pyplot as plt\n",
        "\n",
        "x = np.random.normal(5, 5, 400)\n",
        "y = 5*x + 2 + np.random.normal(0, 2.5, 400)\n",
        "plt.scatter(x=x, y=y,alpha=0.125)\n",
        "plt.show()"
      ]
    },
    {
      "cell_type": "markdown",
      "metadata": {
        "id": "RMy3jlyoAPCc"
      },
      "source": [
        "A variável ```y``` é gerada artificialmente a partir de um modelo linear $y = 5x +2$ sobreposto a um ruído Gaussiano.\n",
        "\n",
        "Determine:\n",
        "\n",
        "  a) Os valores de $\\bar{x}$, $\\bar{y}$"
      ]
    },
    {
      "cell_type": "code",
      "execution_count": 2,
      "metadata": {
        "colab": {
          "base_uri": "https://localhost:8080/"
        },
        "id": "iHYmSfXzAo7D",
        "outputId": "69b75e33-53d4-4fb0-d179-9d2dfca4ad47"
      },
      "outputs": [
        {
          "name": "stdout",
          "output_type": "stream",
          "text": [
            "4.343996995536552 23.73266874474619\n"
          ]
        }
      ],
      "source": [
        "x_bar = np.mean(x)\n",
        "y_bar = np.mean(y)\n",
        "print(x_bar, y_bar)"
      ]
    },
    {
      "cell_type": "markdown",
      "metadata": {
        "id": "Km7S4dDrQTKb"
      },
      "source": [
        "b) Os valores de $S_{xx}$, $S_{xy}$, $S_{yy}$"
      ]
    },
    {
      "cell_type": "code",
      "execution_count": 3,
      "metadata": {
        "colab": {
          "base_uri": "https://localhost:8080/"
        },
        "id": "dww7kvrtAxGO",
        "outputId": "6be9558e-11ab-4d2b-bc22-440837c0e332"
      },
      "outputs": [
        {
          "data": {
            "text/plain": [
              "(9411.318891954761, 46934.924261478605, 236683.6523154222)"
            ]
          },
          "execution_count": 3,
          "metadata": {},
          "output_type": "execute_result"
        }
      ],
      "source": [
        "s_xx = np.sum((x - x_bar)**2)\n",
        "s_xy = np.sum((x - x_bar)*(y - y_bar))\n",
        "s_yy = np.sum((y - y_bar)**2)\n",
        "\n",
        "s_xx, s_xy, s_yy"
      ]
    },
    {
      "cell_type": "markdown",
      "metadata": {
        "id": "uCj92mDuAysl"
      },
      "source": [
        "c) Os valores de  $w_0$ e $w_1$ no modelo $y_i = w_0 + w_1 x_i + \\epsilon_i$ de máxima verissimilhança."
      ]
    },
    {
      "cell_type": "code",
      "execution_count": 4,
      "metadata": {
        "colab": {
          "base_uri": "https://localhost:8080/"
        },
        "id": "iMhq7bUYBi3b",
        "outputId": "2137382f-2c23-4690-ddce-25c7decb4e26"
      },
      "outputs": [
        {
          "data": {
            "text/plain": [
              "(2.068843268394591, 4.987071929057763)"
            ]
          },
          "execution_count": 4,
          "metadata": {},
          "output_type": "execute_result"
        }
      ],
      "source": [
        "w_1 = s_xy/s_xx\n",
        "w_0 = y_bar - w_1*x_bar\n",
        "w_0, w_1"
      ]
    },
    {
      "cell_type": "markdown",
      "metadata": {
        "id": "AR2MN6UUBj1L"
      },
      "source": [
        "d) Repita a plotagem *scatter* do enunciado sobreposta à reta $y=w_0 + w_1 x$"
      ]
    },
    {
      "cell_type": "code",
      "execution_count": 5,
      "metadata": {
        "colab": {
          "base_uri": "https://localhost:8080/",
          "height": 430
        },
        "id": "8xMk4r0CBxa4",
        "outputId": "f449a453-aa4d-492b-e90c-7f85b3fc16a1"
      },
      "outputs": [
        {
          "data": {
            "image/png": "[encoded data removed]",
            "text/plain": [
              "<Figure size 432x288 with 1 Axes>"
            ]
          },
          "metadata": {
            "needs_background": "light"
          },
          "output_type": "display_data"
        }
      ],
      "source": [
        "size = np.linspace(min(x),max(x),100)\n",
        "y_pred = w_0 + w_1*size\n",
        "\n",
        "plt.plot(size, y_pred, 'r')\n",
        "plt.scatter(x=x, y=y,alpha=0.125)\n",
        "plt.show()"
      ]
    },
    {
      "cell_type": "markdown",
      "metadata": {
        "id": "ys4YO7uGCOlF"
      },
      "source": [
        "e) Calcule o resíduo quadrático total $\\sum_i \\epsilon_i^2$"
      ]
    },
    {
      "cell_type": "code",
      "execution_count": 6,
      "metadata": {
        "colab": {
          "base_uri": "https://localhost:8080/"
        },
        "id": "3lpI8hjICUpc",
        "outputId": "2478eb36-da8d-49eb-d829-0b6934c9e813"
      },
      "outputs": [
        {
          "data": {
            "text/plain": [
              "2615.8090385500864"
            ]
          },
          "execution_count": 6,
          "metadata": {},
          "output_type": "execute_result"
        }
      ],
      "source": [
        "residuo = np.sum((y - (w_0 + w_1*x))**2)\n",
        "residuo"
      ]
    },
    {
      "cell_type": "markdown",
      "metadata": {
        "id": "TJ8ICLbXCVQO"
      },
      "source": [
        "f) Calcule o coeficiente de correlação de Pearson\n",
        "\\begin{equation}\n",
        "r = \\frac{s_{xy}}{\\sqrt{s_{xx} s_{yy}}}\n",
        "\\end{equation}\n",
        "\n",
        "Compare o valor $s_{yy}(1-r^2)$ com o obtido no item e)."
      ]
    },
    {
      "cell_type": "code",
      "execution_count": 7,
      "metadata": {
        "colab": {
          "base_uri": "https://localhost:8080/"
        },
        "id": "wiHJAIemEI0r",
        "outputId": "1b733b95-db84-4d5b-9d23-f07f3d84288a"
      },
      "outputs": [
        {
          "data": {
            "text/plain": [
              "(0.9944586863981894, 28.909714968575425)"
            ]
          },
          "execution_count": 7,
          "metadata": {},
          "output_type": "execute_result"
        }
      ],
      "source": [
        "pearson = s_xy/(np.sqrt(s_xx*s_yy))\n",
        "pearson, residuo*(1-pearson**2)"
      ]
    },
    {
      "cell_type": "markdown",
      "metadata": {
        "id": "7sm_eQEPVzwf"
      },
      "source": [
        "g) Repita o processo (encontrando os valores de $w_0$, $w_1$, $r$ e a plotagem) usando a biblioteca ```sklearn```\n",
        "Você deve usar a classe ```LinearRegression``` do pacote ```sklearn.linear_model```.\n",
        "\n",
        "Crie um objeto da classe ```LinearRegression``` e invoque o método ```fit```, passando como parâmetros ```x.reshape(-1,1)``` (para transformar o vetor em uma matriz coluna) e ```y```.\n",
        "\n",
        "O valor de $w_0$ pode ser encontrado no atributo ```ìntercept_```.\n",
        "O valor de $w_1$ pode ser encontrado no primeiro coeficiente do atributo ```coef_```.\n",
        "\n",
        "O coeficiente de Pearson *ao quadrado* $r²$ pode ser obtido do método ```score``` repassando a ele os mesmos dados passados em ```fit```.\n",
        "Note que você deve extrair a raiz quadrada deste valor para obter $r$.\n",
        "\n",
        "Para calcular o vetor de valores previstos, chame o método ```predict``` passando como parâmetro ```x.reshape(-1,1)```.\n"
      ]
    },
    {
      "cell_type": "code",
      "execution_count": 9,
      "metadata": {
        "id": "z-VJzVy1FvTH"
      },
      "outputs": [],
      "source": [
        "from sklearn.linear_model import LinearRegression\n",
        "reg = LinearRegression().fit(x.reshape(-1,1), y)\n",
        "w_0_sk = reg.intercept_\n",
        "w_1_sk = reg.coef_\n",
        "r_sk = np.sqrt(reg.score(x.reshape(-1,1), y))\n",
        "y_pred_sk = reg.predict(x.reshape(-1,1))"
      ]
    },
    {
      "cell_type": "code",
      "execution_count": 10,
      "metadata": {
        "colab": {
          "base_uri": "https://localhost:8080/",
          "height": 430
        },
        "id": "PoXNvhjOdtU6",
        "outputId": "66ef0a12-19fc-4753-af74-67689b93e1d5"
      },
      "outputs": [
        {
          "data": {
            "image/png": "[encoded data removed]",
            "text/plain": [
              "<Figure size 432x288 with 1 Axes>"
            ]
          },
          "metadata": {
            "needs_background": "light"
          },
          "output_type": "display_data"
        }
      ],
      "source": [
        "\n",
        "size = np.linspace(min(x),max(x),100)\n",
        "y_pred = w_0 + w_1*size\n",
        "y_pred_sk = w_0_sk + w_1_sk*size\n",
        "\n",
        "plt.plot(size, y_pred, 'r')\n",
        "plt.plot(size, y_pred_sk, 'g',linestyle='--')\n",
        "\n",
        "plt.scatter(x=x, y=y,alpha=0.125)\n",
        "plt.show()"
      ]
    },
    {
      "cell_type": "markdown",
      "metadata": {
        "id": "vt3ab0NUEJZV"
      },
      "source": [
        "### Exercício 1.2"
      ]
    },
    {
      "cell_type": "markdown",
      "metadata": {
        "id": "H-vBHAjNMDoc"
      },
      "source": [
        "Este [arquivo](https://gitlab.uspdigital.usp.br/thiago/curso-ai-intro-ap/-/raw/main/escolas_turmas_alunos_2017.csv) contém um conjunto compilado de dados da Secretaria Estadual de Educação que trata de alunos do ensino médio em 2017.\n",
        "\n",
        "A coluna ```CD_ESCOLA``` é um código interno da Secretaria que identifica uma Escola.\n",
        "\n",
        "A coluna ```APR_3``` contém a taxa de aprovação no ensino médio por escola.\n",
        "\n",
        "A coluna ```QTDE_ALUNOS``` contém o total de alunos matriculados no ensino médio por escola.\n",
        "\n",
        "A coluna ```TURMAS``` contém a quantidade total de turmas de ensino médio.\n",
        "\n",
        "O código a seguir importa os dados em uma base de dados Pandas de nome ```aprovacao_e_alunos_por_escola``` e computa uma nova coluna, ```MEDIA_POR_TURMA```, com o número médio de alunos por turma por escola.\n",
        "\n",
        "Note que a quantidade de turmas varia significativamente de escola para escola."
      ]
    },
    {
      "cell_type": "code",
      "execution_count": 11,
      "metadata": {
        "colab": {
          "base_uri": "https://localhost:8080/",
          "height": 879
        },
        "id": "8fpaqvswE10v",
        "outputId": "b4c04a43-70ef-404c-b42a-1e6e889a293d"
      },
      "outputs": [
        {
          "data": {
            "text/html": [
              "<div>\n",
              "<style scoped>\n",
              "    .dataframe tbody tr th:only-of-type {\n",
              "        vertical-align: middle;\n",
              "    }\n",
              "\n",
              "    .dataframe tbody tr th {\n",
              "        vertical-align: top;\n",
              "    }\n",
              "\n",
              "    .dataframe thead th {\n",
              "        text-align: right;\n",
              "    }\n",
              "</style>\n",
              "<table border=\"1\" class=\"dataframe\">\n",
              "  <thead>\n",
              "    <tr style=\"text-align: right;\">\n",
              "      <th></th>\n",
              "      <th>CD_ESCOLA</th>\n",
              "      <th>APR_3</th>\n",
              "      <th>QTDE_ALUNOS</th>\n",
              "      <th>TURMAS</th>\n",
              "      <th>MEDIA_POR_TURMA</th>\n",
              "    </tr>\n",
              "  </thead>\n",
              "  <tbody>\n",
              "    <tr>\n",
              "      <th>0</th>\n",
              "      <td>21623</td>\n",
              "      <td>99.42</td>\n",
              "      <td>172</td>\n",
              "      <td>6</td>\n",
              "      <td>28.666667</td>\n",
              "    </tr>\n",
              "    <tr>\n",
              "      <th>1</th>\n",
              "      <td>21726</td>\n",
              "      <td>99.71</td>\n",
              "      <td>345</td>\n",
              "      <td>10</td>\n",
              "      <td>34.500000</td>\n",
              "    </tr>\n",
              "    <tr>\n",
              "      <th>2</th>\n",
              "      <td>21748</td>\n",
              "      <td>100.00</td>\n",
              "      <td>239</td>\n",
              "      <td>7</td>\n",
              "      <td>34.142857</td>\n",
              "    </tr>\n",
              "    <tr>\n",
              "      <th>3</th>\n",
              "      <td>41661</td>\n",
              "      <td>98.76</td>\n",
              "      <td>161</td>\n",
              "      <td>6</td>\n",
              "      <td>26.833333</td>\n",
              "    </tr>\n",
              "    <tr>\n",
              "      <th>4</th>\n",
              "      <td>49967</td>\n",
              "      <td>75.92</td>\n",
              "      <td>259</td>\n",
              "      <td>9</td>\n",
              "      <td>28.777778</td>\n",
              "    </tr>\n",
              "    <tr>\n",
              "      <th>...</th>\n",
              "      <td>...</td>\n",
              "      <td>...</td>\n",
              "      <td>...</td>\n",
              "      <td>...</td>\n",
              "      <td>...</td>\n",
              "    </tr>\n",
              "    <tr>\n",
              "      <th>3702</th>\n",
              "      <td>48461</td>\n",
              "      <td>89.52</td>\n",
              "      <td>120</td>\n",
              "      <td>4</td>\n",
              "      <td>30.000000</td>\n",
              "    </tr>\n",
              "    <tr>\n",
              "      <th>3703</th>\n",
              "      <td>49517</td>\n",
              "      <td>69.68</td>\n",
              "      <td>444</td>\n",
              "      <td>15</td>\n",
              "      <td>29.600000</td>\n",
              "    </tr>\n",
              "    <tr>\n",
              "      <th>3704</th>\n",
              "      <td>909524</td>\n",
              "      <td>75.24</td>\n",
              "      <td>259</td>\n",
              "      <td>10</td>\n",
              "      <td>25.900000</td>\n",
              "    </tr>\n",
              "    <tr>\n",
              "      <th>3705</th>\n",
              "      <td>914927</td>\n",
              "      <td>85.12</td>\n",
              "      <td>204</td>\n",
              "      <td>7</td>\n",
              "      <td>29.142857</td>\n",
              "    </tr>\n",
              "    <tr>\n",
              "      <th>3706</th>\n",
              "      <td>920113</td>\n",
              "      <td>85.30</td>\n",
              "      <td>350</td>\n",
              "      <td>11</td>\n",
              "      <td>31.818182</td>\n",
              "    </tr>\n",
              "  </tbody>\n",
              "</table>\n",
              "<p>3707 rows × 5 columns</p>\n",
              "</div>"
            ],
            "text/plain": [
              "      CD_ESCOLA   APR_3  QTDE_ALUNOS  TURMAS  MEDIA_POR_TURMA\n",
              "0         21623   99.42          172       6        28.666667\n",
              "1         21726   99.71          345      10        34.500000\n",
              "2         21748  100.00          239       7        34.142857\n",
              "3         41661   98.76          161       6        26.833333\n",
              "4         49967   75.92          259       9        28.777778\n",
              "...         ...     ...          ...     ...              ...\n",
              "3702      48461   89.52          120       4        30.000000\n",
              "3703      49517   69.68          444      15        29.600000\n",
              "3704     909524   75.24          259      10        25.900000\n",
              "3705     914927   85.12          204       7        29.142857\n",
              "3706     920113   85.30          350      11        31.818182\n",
              "\n",
              "[3707 rows x 5 columns]"
            ]
          },
          "metadata": {},
          "output_type": "display_data"
        },
        {
          "data": {
            "image/png": "[encoded data removed]",
            "text/plain": [
              "<Figure size 432x288 with 1 Axes>"
            ]
          },
          "metadata": {
            "needs_background": "light"
          },
          "output_type": "display_data"
        }
      ],
      "source": [
        "import urllib.request as request\n",
        "import io\n",
        "import pandas as pd\n",
        "aprovacao_e_alunos_por_escola=pd.read_csv(io.TextIOWrapper(request.urlopen(\"https://gitlab.uspdigital.usp.br/thiago/curso-ai-intro-ap/-/raw/main/escolas_turmas_alunos_2017.csv\"), \"utf-8-sig\"))\n",
        "aprovacao_e_alunos_por_escola['MEDIA_POR_TURMA'] = aprovacao_e_alunos_por_escola['QTDE_ALUNOS']/aprovacao_e_alunos_por_escola['TURMAS']\n",
        "max_turmas = aprovacao_e_alunos_por_escola['TURMAS'].max()\n",
        "\n",
        "opacidade = np.array(aprovacao_e_alunos_por_escola['TURMAS'])/(2*max_turmas)\n",
        "aprovacao_e_alunos_por_escola.plot.scatter(x=\"MEDIA_POR_TURMA\", y=\"APR_3\", title=\"Aprovação versus média de alunos por turma\", alpha =opacidade)\n",
        "display(aprovacao_e_alunos_por_escola)\n",
        "plt.show()"
      ]
    },
    {
      "cell_type": "markdown",
      "metadata": {
        "id": "nds0zq6mTs11"
      },
      "source": [
        "Deseja-se investigar uma possível relação linear entre a média de alunos por turma e a taxa de aprovação.\n",
        "\n",
        "Para tanto determine:\n",
        "\n",
        "a) Os coeficientes $w_0$ e $w_1$ de um modelo linear de aprovação em função do total de alunos matriculados.\n",
        "Como mencionado, a quantidade de turmas varia significativamente de escola para escola.\n",
        "Isso significa que o *peso* de cada ponto é diferente!\n",
        "Você deve usar a quantidade de turmas como peso para fazer esta regressão.\n",
        "\n",
        "#### *Sugestão*:\n",
        "Use novamente a classe ```LinearModel```.\n",
        "O método ```fit``` tem um terceiro parâmetro que recebe um vetor com os pesos relativos para cada amostra."
      ]
    },
    {
      "cell_type": "code",
      "execution_count": 12,
      "metadata": {
        "colab": {
          "base_uri": "https://localhost:8080/",
          "height": 465
        },
        "id": "QctpWe8Tr7lU",
        "outputId": "d2997254-284c-48c1-b82f-804c5f71c78d"
      },
      "outputs": [
        {
          "name": "stdout",
          "output_type": "stream",
          "text": [
            "92.94108850188043 [-0.19263325]\n"
          ]
        },
        {
          "data": {
            "text/plain": [
              "[<matplotlib.lines.Line2D at 0x22b4e906f80>]"
            ]
          },
          "execution_count": 12,
          "metadata": {},
          "output_type": "execute_result"
        },
        {
          "data": {
            "image/png": "[encoded data removed]",
            "text/plain": [
              "<Figure size 432x288 with 1 Axes>"
            ]
          },
          "metadata": {
            "needs_background": "light"
          },
          "output_type": "display_data"
        }
      ],
      "source": [
        "model = LinearRegression()\n",
        "\n",
        "model.fit(aprovacao_e_alunos_por_escola[['MEDIA_POR_TURMA']], aprovacao_e_alunos_por_escola['APR_3'], sample_weight = aprovacao_e_alunos_por_escola['TURMAS'])\n",
        "\n",
        "\n",
        "w_0 = model.intercept_\n",
        "w_1 = model.coef_\n",
        "print(w_0, w_1)\n",
        "\n",
        "y_pred = model.predict(aprovacao_e_alunos_por_escola[['MEDIA_POR_TURMA']])\n",
        "plt.scatter(x=aprovacao_e_alunos_por_escola['MEDIA_POR_TURMA'], y=aprovacao_e_alunos_por_escola['APR_3'],alpha=0.125)\n",
        "plt.plot(aprovacao_e_alunos_por_escola['MEDIA_POR_TURMA'], y_pred, 'r')"
      ]
    },
    {
      "cell_type": "markdown",
      "metadata": {
        "id": "syjQEuO6MuUY"
      },
      "source": [
        "b) O coeficiente de correlação de Pearson $r$ e seu valor ao quadrado $r^2$\n",
        "\n"
      ]
    },
    {
      "cell_type": "code",
      "execution_count": 13,
      "metadata": {
        "colab": {
          "base_uri": "https://localhost:8080/"
        },
        "id": "r7anAvWAM1ol",
        "outputId": "b401e383-1932-475a-b328-8d833eb1a0aa"
      },
      "outputs": [
        {
          "data": {
            "text/plain": [
              "(0.07676288838419042, 0.005892541033083676)"
            ]
          },
          "execution_count": 13,
          "metadata": {},
          "output_type": "execute_result"
        }
      ],
      "source": [
        "pearson = np.sqrt(model.score(aprovacao_e_alunos_por_escola[['MEDIA_POR_TURMA']], aprovacao_e_alunos_por_escola['APR_3']))\n",
        "pearson, pearson**2\n"
      ]
    },
    {
      "cell_type": "markdown",
      "metadata": {
        "id": "HfFFch2OM1_b"
      },
      "source": [
        "c) O gráfico do enunciado sobreposto à reta determinada no item a)."
      ]
    },
    {
      "cell_type": "code",
      "execution_count": null,
      "metadata": {
        "id": "ee45KTW_XR-S"
      },
      "outputs": [],
      "source": []
    },
    {
      "cell_type": "markdown",
      "metadata": {
        "id": "-1Gv9pKVM9kT"
      },
      "source": [
        "## 2. Regressão multi-Linear\n",
        "\n",
        "A regressão multi-linear trata da relação de uma variável dependente com *múltiplas* variáveis independentes.\n",
        "\n",
        "\n",
        "seja\n",
        "\n",
        "\\begin{equation}\n",
        "Y = \\begin{bmatrix}y_1\\\\\n",
        "y_2\\\\\n",
        "\\vdots\\\\\n",
        "y_n\\end{bmatrix}\n",
        "\\end{equation}\n",
        "\n",
        " um vetor com uma amostra do conjunto de variáveis independentes e\n",
        "\n",
        "\\begin{equation}\n",
        "X = \\begin{bmatrix}x_{1,1} & x_{1,2} & \\ldots & x_{1,m} & 1\\\\\n",
        "x_{2,1} & x_{2,2} & \\ldots & x_{2,m} & 1\\\\\n",
        " \\vdots & \\vdots & \\ddots & \\vdots & \\vdots\\\\\n",
        "x_{n,1} & x_{n,2} & \\ldots & x_{n,m} & 1\\end{bmatrix}\n",
        "\\end{equation}\n",
        "\n",
        "uma matriz $n \\times (m+1)$ cujas primeiras $m$ colunas são compostas por uma amostra de cada uma das $m$ variáveis independetes e a sua *última* coluna é composta da constante 1.\n",
        "\n",
        "O modelo linear para o comportamento destas variáveis é dado pela equação:\n",
        "\n",
        "\\begin{equation}\n",
        "Y =  X W + E\n",
        "\\end{equation}\n",
        "\n",
        "Onde:\n",
        "\n",
        "\\begin{equation}\n",
        "W = \\begin{bmatrix}w_1\\\\\n",
        "w_2\\\\\n",
        "\\vdots\\\\\n",
        "w_m\\\\\n",
        "w_0\n",
        "\\end{bmatrix}\n",
        "\\end{equation}\n",
        "\n",
        "é o vetor  de $(m+1)$ componentes dos coeficientes de cada uma das variáveis\n",
        "independentes.\n",
        "Note que nesta notação o coeficiente $w_0$ é o *último* coeficiente (há notações distintas nas quais ele é o primeiro).\n",
        "\n",
        "$E$ é o vetor de *resíduos* (a diferença entre o modelo real e os dados realmente observados).\n",
        "\n",
        "Seguindo a mesma hipótese de que os resíduos são variáveis aleatórias *independentes* distribuídas de acordo com uma distribuição *Gaussiana* de valor esperado *nulo*, o vetor $W$ de *máxima verissimilhança* é dado por:\n",
        "\n",
        "\\begin{equation}\n",
        "\\underset{W}{\\mbox{arg min}}  \\|E\\|^2= \\|Y-XW\\|^2\n",
        "\\end{equation}\n",
        "\n",
        "Se $W^*$ é ótimo deste problema, então vale\n",
        "\n",
        "\\begin{equation}\n",
        "\\left(X^T X\\right)W^*=X^TY\n",
        "\\end{equation}\n",
        "\n",
        "A solução deste sistema linear pode ser escrita como:\n",
        "\\begin{equation}\n",
        "W^*=\\left(X^T X\\right)^{-1}X^TY\n",
        "\\end{equation}\n",
        "\n",
        "e a matriz $\\left(X^T X\\right)^{-1}X$ é dita a *pseudo-inversa* de $X$.\n",
        "\n",
        "*Nota*: Em geral não é eficiente calcular explicitamente esta matriz."
      ]
    },
    {
      "cell_type": "markdown",
      "metadata": {
        "id": "_1qupYXPBh6m"
      },
      "source": [
        "### Exercício 2.1"
      ]
    },
    {
      "cell_type": "code",
      "execution_count": 15,
      "metadata": {
        "colab": {
          "base_uri": "https://localhost:8080/",
          "height": 411
        },
        "id": "uZ7rL7FdodXj",
        "outputId": "67f34889-76ee-44fd-e7a2-1efa6a85187b"
      },
      "outputs": [
        {
          "data": {
            "image/png": "[encoded data removed]",
            "text/plain": [
              "<Figure size 432x288 with 1 Axes>"
            ]
          },
          "metadata": {
            "needs_background": "light"
          },
          "output_type": "display_data"
        }
      ],
      "source": [
        "x = np.random.normal(5, 5, 800)\n",
        "y = np.random.normal(5, 5, 800)\n",
        "z = 3*x + -2* y + 5 + np.random.normal(0,1,800)\n",
        "fig = plt.figure()\n",
        "ax = fig.add_subplot(111, projection='3d')\n",
        "ax.scatter(x,y,z, alpha=0.125)\n",
        "ax.set_xlabel('X')\n",
        "ax.set_ylabel('Y')\n",
        "ax.set_zlabel('Z')\n",
        "plt.show()"
      ]
    },
    {
      "cell_type": "markdown",
      "metadata": {
        "id": "lLhY7PnMpxLA"
      },
      "source": [
        "A variável ```z``` acima é gerada através de um modelo linear $3x - 2y + 5$ sobreposto a um ruído Gaussiano.\n",
        "\n",
        "a) Calcule através do método acima os coeficientes $w_1, w_2, w_0$ do modelo $z=w_1 x + w_2 y + w_0$ que melhor ajusta o cojunto de pontos das variáveis ```x```, ```y``` e ```z```.\n",
        "\n",
        "*Nota*: Use a função ```np.linalg.solve(a, b)``` para resolver o sistema $ax=b$."
      ]
    },
    {
      "cell_type": "code",
      "execution_count": 16,
      "metadata": {
        "id": "99u2F4dtqlAn"
      },
      "outputs": [
        {
          "name": "stdout",
          "output_type": "stream",
          "text": [
            "Coeficientes: w1 = 2.994424231697069, w2 = -1.9987977735261466, w0 = 5.041116995059207\n"
          ]
        }
      ],
      "source": [
        "A = np.vstack([x, y, np.ones(len(x))]).T\n",
        "\n",
        "At = A.T\n",
        "AtA = np.dot(At, A)\n",
        "Atz = np.dot(At, z)\n",
        "\n",
        "w = np.linalg.solve(AtA, Atz)\n",
        "\n",
        "w1, w2, w0 = w\n",
        "\n",
        "print(f\"Coeficientes: w1 = {w1}, w2 = {w2}, w0 = {w0}\")"
      ]
    },
    {
      "cell_type": "markdown",
      "metadata": {
        "id": "WHDD4v70sT6V"
      },
      "source": [
        "b) Repita a plotagem 3d do enunciado adicionando o plano que descreve a solução do item a).\n",
        "\n",
        "*Sugestão*\n",
        "\n",
        "Se as variáveis ```w_0```, ```w_1``` e ```w_2``` contém respectivamente os valores dos parâmetros $w_0$, $w_0$ e $w_2$, então o código abaixo adiciona o plano solicitado:\n",
        "\n",
        "```\n",
        "XX, YY = np.meshgrid(np.linspace(min(x),max(x),2),np.linspace(min(y),max(y),2))\n",
        "ZZ = w0 + w1*XX + w2*YY\n",
        "ax.plot_surface(XX, YY, ZZ, color='r', alpha=0.5)\n",
        "```"
      ]
    },
    {
      "cell_type": "markdown",
      "metadata": {
        "id": "DGxuhpufV__r"
      },
      "source": [
        "c) Encontre os coeficientes usando a classe ```linear_model.LinearRegression``` do pacote```sklearn```.\n",
        "Para montar o vetor de variáveis independentes, monte uma matriz com ```np.array([x,y]).T```.\n",
        "O vetor de variáveis dependentes é o próprio vetor ```z```."
      ]
    },
    {
      "cell_type": "code",
      "execution_count": 19,
      "metadata": {
        "id": "3SuXIlaJWEd4"
      },
      "outputs": [
        {
          "data": {
            "application/vnd.plotly.v1+json": {
              "config": {
                "plotlyServerURL": "https://plot.ly"
              },
              "data": [
                {
                  "marker": {
                    "opacity": 0.5,
                    "size": 2
                  },
                  "mode": "markers",
                  "type": "scatter3d",
                  "x": [
                    3.928641331113338,
                    -0.5966350794713184,
                    4.746098957042549,
                    7.842270099032783,
                    4.994879025596171,
                    5.818058864064035,
                    8.674852764375581,
                    1.5569470896429078,
                    7.8780622839527465,
                    9.855511676771226,
                    10.364329619315146,
                    6.841875357450794,
                    5.160319595177128,
                    5.6030425967047295,
                    7.320745639390584,
                    6.794846727725102,
                    0.278049413816297,
                    5.211165865368741,
                    4.989779132643129,
                    1.9410923451362398,
                    1.622157935371757,
                    19.73458831342081,
                    8.473464203677828,
                    7.509941172388274,
                    5.094756053795441,
                    10.138700706484226,
                    -2.6978444894206906,
                    4.928118211652061,
                    9.951008889763251,
                    5.88068879462432,
                    1.149585215710089,
                    -3.4726740630737236,
                    8.255906894825529,
                    11.838266095598396,
                    3.2481993996317016,
                    -4.869428517254182,
                    3.0035041899515513,
                    -5.03961395184275,
                    7.08460461587133,
                    4.431106882304886,
                    4.420457213312155,
                    -2.763759968612984,
                    7.263080207361463,
                    5.080005268027844,
                    2.648926722264547,
                    2.061734995069002,
                    6.312012169838699,
                    -2.55761437174741,
                    -1.6917100298947316,
                    6.666783347617147,
                    10.788862865668996,
                    9.381055782829883,
                    -1.4539406954302647,
                    8.934130655876913,
                    4.422887333026419,
                    15.905336533178707,
                    3.843178374813179,
                    1.1515032790045776,
                    -2.829137773200527,
                    5.623739950684237,
                    2.2621561612444645,
                    2.686006238293154,
                    8.760414410774382,
                    6.654924491667796,
                    3.6145045463336514,
                    8.380551678369574,
                    -0.3223727420077154,
                    5.311865540065842,
                    4.541398848329605,
                    7.334129249205748,
                    3.687540350211101,
                    -0.729052519078456,
                    10.603750629788141,
                    6.573680923722361,
                    10.768625302595275,
                    6.227679302769866,
                    7.85769273724691,
                    6.389993104754247,
                    -3.2735479742607527,
                    2.6204907655894165,
                    6.33500160359611,
                    8.62195492229783,
                    13.69685433076993,
                    7.131294873251105,
                    -3.8493783392949474,
                    8.68920526096604,
                    7.807025571679125,
                    -0.3332442996697873,
                    3.9966017932555102,
                    5.691358275676343,
                    11.675888718752155,
                    8.945252945884267,
                    4.219037280796546,
                    2.259712970379915,
                    6.038212796917245,
                    4.723780785133978,
                    5.10445189201845,
                    6.409910125820607,
                    13.90159345959244,
                    12.439879011859288,
                    3.0899412348119246,
                    16.00780252579935,
                    -4.006420281242482,
                    7.379075356056035,
                    3.897181044338531,
                    12.388491339067418,
                    6.180312353589595,
                    -3.4064972863181335,
                    4.290006198506809,
                    -6.213232111473365,
                    10.252543039629199,
                    -5.345959255415625,
                    18.433375078769426,
                    6.526401653917882,
                    6.653153837198245,
                    8.448980187560352,
                    6.8987841279631335,
                    8.361612038466149,
                    10.709493976867734,
                    5.277359284838726,
                    6.5607408166453265,
                    10.537873045153335,
                    6.854496394041451,
                    11.659577099636815,
                    -4.272281887911165,
                    12.655735303600952,
                    6.859227028541516,
                    -1.7827633728991499,
                    5.831962650838911,
                    1.7594198542954786,
                    4.933409951600658,
                    6.180958054894026,
                    5.25458055312229,
                    1.3773148199880603,
                    7.095642695502816,
                    -0.5769088912164619,
                    2.4036969369253,
                    13.256951188520674,
                    3.399102177582474,
                    5.055014284240208,
                    3.7597316201565585,
                    7.835906767088002,
                    5.676947002556419,
                    -1.6850907529286685,
                    9.13482018814448,
                    3.98376346401218,
                    10.627395477126534,
                    5.926075143240767,
                    7.742676004576105,
                    4.051590782205026,
                    2.865354258033034,
                    10.492606651504753,
                    5.046720071310989,
                    0.03894296048673507,
                    6.038910410703757,
                    -5.590796249560036,
                    -2.101065216401193,
                    9.032865957372142,
                    6.935400589442439,
                    -1.9832539546606451,
                    -5.15899905349594,
                    5.484029388390056,
                    0.7556002830640267,
                    -1.2749551588936692,
                    4.4347056908069575,
                    2.029795595739632,
                    13.285493095636195,
                    5.541987344550613,
                    -0.427552429261854,
                    21.579418172130566,
                    -7.491155663546198,
                    0.6175015147160643,
                    6.331933705195711,
                    8.462482341548313,
                    -0.49661475254843346,
                    -3.9430023879420197,
                    3.0346819811245043,
                    8.439678944473052,
                    4.098068721638467,
                    4.849519691572834,
                    10.221896209495931,
                    1.2336627080387497,
                    -2.86784148277769,
                    11.96456476411507,
                    7.329152599885032,
                    -4.152931722119158,
                    11.444136980342956,
                    -0.618889398726985,
                    2.4063935316367138,
                    8.679678422811783,
                    14.447183294655787,
                    8.787400916866494,
                    5.185293856679604,
                    2.3385870218839373,
                    2.607066943217108,
                    5.96091133390207,
                    -0.3257255495255764,
                    12.774798791734366,
                    4.035670484402789,
                    -5.857146078222748,
                    10.440888575118898,
                    0.39763485718262004,
                    4.39173202484759,
                    5.146795374288858,
                    3.7594580430188382,
                    11.771947276056387,
                    -4.838708488146754,
                    6.728087438124973,
                    -1.3013438416353864,
                    7.986145509663163,
                    11.067819431164537,
                    8.200618616331134,
                    1.308710363617029,
                    8.276698693701526,
                    17.15601234452808,
                    12.174491126865153,
                    7.910380145441436,
                    2.105192445423371,
                    4.9640109724992465,
                    9.519299198578839,
                    -1.0635749600062443,
                    -2.5494715665288306,
                    -2.0108417746887,
                    8.382317343673144,
                    9.866332873004964,
                    -0.22100342723910504,
                    0.6253844660858485,
                    10.070268033878357,
                    12.446653354502539,
                    1.5856090845036785,
                    7.702628838160152,
                    2.567352030564432,
                    4.308141407219835,
                    4.716437779907449,
                    6.994196425351182,
                    1.9947928612381451,
                    3.6997867672026947,
                    10.71100212324681,
                    5.825102490623122,
                    11.702729697447332,
                    -7.402024220939161,
                    16.809545086093213,
                    6.6930032548411305,
                    2.279627150345134,
                    8.841785264038053,
                    7.035753767965732,
                    0.1464053496325155,
                    7.787768069988976,
                    7.9177360375090835,
                    5.8835501319297805,
                    8.968567270420234,
                    2.2995314861960043,
                    6.427193755295479,
                    4.814713712310975,
                    7.853455067152,
                    9.692916624259965,
                    2.4195170464066917,
                    4.001813770581925,
                    6.898190130012461,
                    8.419728459633985,
                    15.390113156471664,
                    9.559162066333208,
                    -3.834893544112804,
                    0.9139962455837658,
                    4.769236721845072,
                    7.256179099566769,
                    1.4675769717038198,
                    7.256707075234345,
                    3.143895421204518,
                    -0.3380053601190882,
                    -2.7414249766851775,
                    2.0191022076133116,
                    7.250735870617476,
                    0.6765945402770956,
                    -2.502144028493765,
                    -0.5058881126518147,
                    20.21387505403066,
                    1.4361438867649836,
                    5.977938565579773,
                    10.006441025696418,
                    16.009604877630665,
                    5.659479391833788,
                    15.928149750498957,
                    1.7443741454302804,
                    1.596558381976339,
                    9.671715344366694,
                    -0.05008049970991468,
                    4.942494067957539,
                    7.085610960547443,
                    -9.434215872569203,
                    -0.014638064840607257,
                    0.8643261328119021,
                    15.687751992936075,
                    7.148008111922271,
                    0.5000758044324991,
                    8.453322537397774,
                    3.5792187154402004,
                    14.144602477305106,
                    10.074001126602951,
                    11.374532894541606,
                    11.099714640685846,
                    5.632461774733022,
                    2.1981864223784657,
                    1.2436641898774958,
                    13.565653045141302,
                    4.326250955179184,
                    0.7109073790953646,
                    10.610905285575512,
                    5.3658132494077035,
                    2.98546783663392,
                    13.141645375686474,
                    7.261380782956627,
                    6.336060218134169,
                    8.497739744816812,
                    1.2706102064814635,
                    6.278463734183204,
                    4.652910407785913,
                    3.959825297150916,
                    12.945536413467838,
                    -1.1037247292600414,
                    5.238329873749279,
                    2.316586525902493,
                    -2.498303710971439,
                    5.029953416996492,
                    3.525730285383312,
                    1.7062812739229112,
                    0.9156335585159256,
                    8.04435848946113,
                    -0.9491539276991414,
                    9.38942013811529,
                    2.1843378022738174,
                    4.140297819210321,
                    -0.1565194690645102,
                    0.3739269508769558,
                    0.41437690662995585,
                    3.593430270398059,
                    10.32190438720177,
                    1.518094753240197,
                    5.315801977016836,
                    3.432404735864165,
                    7.097722943451995,
                    -0.4389410660183044,
                    0.5827473058278496,
                    8.421942248078327,
                    -3.2635865514992304,
                    8.639474189365732,
                    3.2483404735431742,
                    3.2749914953493393,
                    0.8536707219171502,
                    3.6402410437534245,
                    8.093940883506303,
                    4.193453022273632,
                    1.3786874971279413,
                    8.001703183024109,
                    8.66325821055306,
                    3.836361363430899,
                    -0.9282712351334377,
                    14.964146663516152,
                    9.141213323712625,
                    5.7091293389577995,
                    7.619111235582346,
                    0.12066241242379672,
                    4.392427748336038,
                    1.0068971178048565,
                    6.318950283308394,
                    5.369902240666377,
                    14.023316651941663,
                    8.252813607222393,
                    4.693655334572333,
                    5.743770079212395,
                    10.256983162131107,
                    1.1293056955778393,
                    5.000472124364954,
                    8.347154003694998,
                    2.4102399822179006,
                    -8.821889680892728,
                    8.837129409443257,
                    5.654259261835355,
                    17.36240834779915,
                    0.7875456468906075,
                    4.175590783853274,
                    9.434159820615623,
                    10.129426525538193,
                    9.543447155128469,
                    2.567610123697461,
                    3.8703695232214708,
                    -1.3739387260230451,
                    4.755769677591471,
                    -2.2245720494872225,
                    -1.266452277602692,
                    5.955212943328937,
                    11.8868284175595,
                    10.55596492442255,
                    13.33297271222708,
                    7.066567630167613,
                    1.0645232432193232,
                    3.057684884309796,
                    13.308083157631497,
                    0.8420459716956179,
                    1.438630656273721,
                    3.587316518311405,
                    -1.2599402976069598,
                    7.997652086288461,
                    5.05689286248266,
                    10.974081964540678,
                    10.775191364944664,
                    -1.1729411678419597,
                    6.148193154974565,
                    9.512973402246162,
                    3.104713130238909,
                    2.553455537895482,
                    -0.026346777600949167,
                    0.5894251089511133,
                    4.9218165761305945,
                    11.033658599466579,
                    1.147689489979646,
                    8.446021845154513,
                    6.639935225567274,
                    0.7844543088944169,
                    5.30195752761042,
                    -6.515254378355191,
                    5.607630454760401,
                    -0.35564647871382693,
                    13.025165667605428,
                    9.064932194297018,
                    6.4965582195862135,
                    8.079154736902732,
                    12.721987917661407,
                    5.508670714263201,
                    -1.8827555301521146,
                    -1.7141051480295966,
                    4.73881028482335,
                    4.188675713785243,
                    -0.7695281819512925,
                    -0.44206653855435896,
                    0.3982345282396995,
                    16.224463083424553,
                    18.673838629080628,
                    4.30455422839358,
                    5.461527521358208,
                    8.674549570176168,
                    10.205811742365979,
                    14.308425247751941,
                    -2.3336184696258266,
                    0.7655165830794033,
                    2.187030455542173,
                    -0.8111139021557356,
                    0.11836526386946122,
                    2.7653308991144074,
                    11.641648799851552,
                    3.17446154444748,
                    0.2894924117790252,
                    -0.10384379920086229,
                    -3.292180069067477,
                    0.9175111728650576,
                    14.733139433467606,
                    5.8557151899029005,
                    11.229012830640416,
                    8.525570380832983,
                    -6.570264800467754,
                    2.546577310775487,
                    2.4439484835181906,
                    12.732203960218303,
                    -4.159278616670285,
                    5.731229360421011,
                    3.9097615934167136,
                    6.189481190234297,
                    7.938531033723854,
                    3.6597484582210185,
                    -1.3837802507510188,
                    2.5742674763326074,
                    6.781093308964419,
                    6.562852859879648,
                    2.1881772677075495,
                    0.5529733833798884,
                    4.691358193511616,
                    14.092478225916782,
                    6.020436211519282,
                    -9.71544280020693,
                    1.4469929412187938,
                    -2.8020611024841235,
                    14.786476096415889,
                    6.428562571983525,
                    1.0650901097570897,
                    6.515107784350988,
                    6.473785020951155,
                    5.575574169482336,
                    7.4630799883606045,
                    -0.9840914698673586,
                    9.071325257858664,
                    4.244246301937217,
                    -5.51007384298185,
                    6.284643486325247,
                    8.090509102352597,
                    8.287116212407248,
                    6.3474331120386385,
                    4.568544829650312,
                    -2.029043920997279,
                    -2.741633451086485,
                    -0.23895427205626785,
                    11.328265378109686,
                    7.114788941384442,
                    -0.18551204050445413,
                    -0.7172723925721325,
                    7.019423431400258,
                    5.256090260508218,
                    9.155488080005085,
                    11.026869133173724,
                    3.321483429625416,
                    -2.40867649579953,
                    -4.4436436254055796,
                    -3.1377222460388623,
                    14.627829666828008,
                    4.56919971161363,
                    5.786423381981939,
                    5.299911485201789,
                    4.122262704790547,
                    11.448595055562999,
                    -0.7954596740850697,
                    0.08478756971469803,
                    3.5866679885709143,
                    8.101919219251112,
                    -3.3790293834911065,
                    6.465467606335304,
                    12.492343441895768,
                    13.424871492356006,
                    4.175501275987363,
                    4.355007076110418,
                    13.006529265082966,
                    4.16984160727602,
                    3.506722750562119,
                    6.1374153588928095,
                    2.708909566796644,
                    6.132330525848525,
                    0.4445850600884951,
                    11.936671115907409,
                    2.70305625199468,
                    16.14564600628575,
                    10.606690283152872,
                    -0.09790955100346554,
                    7.822208888440446,
                    7.103442493588181,
                    7.432075087411373,
                    5.097413894291627,
                    8.35240004739547,
                    13.91483312324399,
                    6.686625038732374,
                    6.175947823930704,
                    5.762350723398564,
                    8.3230215325427,
                    2.1017034020615317,
                    12.514211972531482,
                    11.819122383456866,
                    1.562846271481797,
                    4.680842116933281,
                    0.16195855443805485,
                    3.2341538904310676,
                    5.020456492408187,
                    9.301658592687861,
                    9.255801262716687,
                    5.360249941321182,
                    7.779222326818234,
                    10.799684657772527,
                    8.335858983148427,
                    3.821861605566407,
                    14.834985990277712,
                    0.6434582030979188,
                    8.024025315541301,
                    -0.8452327293334942,
                    7.8851242717356484,
                    2.711486748001535,
                    17.666742047886554,
                    5.038844694207311,
                    2.9509204767440145,
                    8.003416111964388,
                    2.3802529432713655,
                    6.0333820516813885,
                    14.862067693487637,
                    -2.945940648053308,
                    4.530628147059902,
                    12.968341236833714,
                    14.116670817392887,
                    14.176697438226205,
                    7.061349376210236,
                    5.471115051233052,
                    8.467516304422588,
                    8.919634194937467,
                    13.06527765687994,
                    -1.2054658796244064,
                    0.2996345562599636,
                    -0.1185854182821453,
                    8.838103722702641,
                    8.235332212799573,
                    5.436072371391453,
                    9.88546632548752,
                    6.9828743836078475,
                    7.283765368386279,
                    11.822917768284091,
                    3.3054474525138593,
                    8.732066427252121,
                    -6.429165794033036,
                    3.885543120405856,
                    3.5974209585573034,
                    1.0683866102905375,
                    1.2964171518663785,
                    12.0450278652438,
                    10.942078147876497,
                    13.102026949443438,
                    -1.9698434084941372,
                    9.54599803328545,
                    1.3249932854178086,
                    -0.7038912199480851,
                    5.533928566562673,
                    7.4545930699975,
                    0.3051749885059323,
                    10.475503459067356,
                    20.062365045695532,
                    3.866160854945623,
                    8.78974134017431,
                    -1.3954411165277092,
                    14.037102763773053,
                    4.0328430501404675,
                    8.630988501844612,
                    3.721512652606637,
                    4.77352832677069,
                    1.3036703939647531,
                    6.647328111746422,
                    9.242297064558647,
                    9.55219052676755,
                    8.38046197092031,
                    2.451306904854014,
                    0.5621713336471466,
                    8.968107188285266,
                    5.157353046810512,
                    -0.2115786407276241,
                    4.536289132558508,
                    -6.161581725255143,
                    5.358288701871963,
                    8.065952205434085,
                    -0.2568488585214048,
                    9.07020757984613,
                    5.183500847616433,
                    7.095198586613776,
                    3.058290011521398,
                    4.347919911922266,
                    4.508500727254249,
                    1.6039725263551001,
                    12.246638111393775,
                    -4.0770563295441065,
                    5.42394654304603,
                    6.117070395938177,
                    4.3319454371614015,
                    3.1829383594488547,
                    7.018640183666799,
                    3.471845590673136,
                    -6.206601083406152,
                    6.060241088351453,
                    11.060597528717151,
                    0.9227714132390306,
                    12.227338391500862,
                    -1.4630891886492794,
                    6.622056950662567,
                    10.106538473220862,
                    1.501125206196491,
                    -2.487733734773723,
                    6.097857935317551,
                    13.514417526926653,
                    13.149660183610408,
                    3.178520229530477,
                    0.2192770680274041,
                    7.929833801013196,
                    2.4338342306026846,
                    10.515316670468227,
                    -0.319685267142221,
                    3.0534982768360153,
                    5.118753425414937,
                    -1.8424516148992751,
                    -0.9271652665243533,
                    -3.4043306136907105,
                    6.483481973055351,
                    -5.036224713637942,
                    -0.48886705199563263,
                    4.127887101458223,
                    6.462929980160009,
                    1.154019739971032,
                    4.853680785561361,
                    5.023152402274069,
                    1.9327476355982967,
                    3.3511056689016265,
                    8.699978166584991,
                    -1.235118472935354,
                    11.283879213922795,
                    7.979623423687871,
                    6.351081212472148,
                    6.251269315071461,
                    -2.0713035772419195,
                    5.9173838577857865,
                    4.994866565101078,
                    -4.129320622511342,
                    6.864511574670493,
                    8.087528357395868,
                    8.416845622016107,
                    8.380375001175933,
                    0.36404991079493154,
                    -1.0598094297252594,
                    3.6668984344753195,
                    7.5845614361693805,
                    5.683011525432892,
                    3.1747446699643875,
                    4.400630124541005,
                    3.173271867351366,
                    11.075184306447358,
                    2.0762343594655723,
                    1.9374679988906864,
                    11.851852644111517,
                    -5.842822175961068,
                    5.335182154464793,
                    8.590272226436547,
                    11.179238788655947,
                    5.656658568047654,
                    1.3574983145065884,
                    4.347693848176075,
                    4.623615339172462,
                    0.16833069513270082,
                    10.409132525506815,
                    9.772644894866229,
                    5.496397252012002,
                    0.1947602391747436,
                    11.647155839154326,
                    0.4544163265358243,
                    2.6263392762967586,
                    -3.230740697670832,
                    7.259312684723902,
                    3.359167897384015,
                    5.5585136852968065,
                    3.117793615316442,
                    -0.6627449323321937,
                    -0.5910917623705156,
                    9.002266059893852,
                    5.468771665194439,
                    2.9594525207946427,
                    11.88588094293932,
                    3.639561578109636,
                    -0.7778615024995954,
                    3.832992090984196,
                    6.776545499874693,
                    3.667174183928778,
                    9.06120631420105,
                    8.149802164143127,
                    3.2996592977480903,
                    3.0704951668839082,
                    -1.7892022377062764,
                    6.996381442947153,
                    3.586943137702283,
                    -1.1479160559551618,
                    10.260898987368728,
                    7.404954070051133,
                    10.931743237949203,
                    2.0785358165212036,
                    2.9766288574865536,
                    0.05779313866936686,
                    7.5857687060237735,
                    7.577509545427337,
                    5.937708854315206,
                    6.959661600454883,
                    5.140175471312894,
                    5.773584462326097,
                    5.168078846822393,
                    8.172663776877434,
                    3.2979313809567135,
                    3.4986322760083923,
                    2.6578800057432335,
                    4.8280797921281255,
                    -7.748796759345204,
                    5.554040139188579,
                    -6.123988591096763,
                    -0.38488383619216116,
                    1.5726115572126997,
                    6.315754053321803,
                    7.681513160313136,
                    15.884026773699635,
                    10.286627088201149,
                    9.637063708165233,
                    5.767846951903668,
                    13.904205721121599,
                    8.81553864097873,
                    10.376397484216277,
                    5.36499477277021,
                    5.039184630818284,
                    6.460788097507124,
                    -6.845502908664802,
                    1.9846586307188736,
                    3.6642537907915163,
                    1.6656715171526586,
                    3.263707600846566,
                    19.434759014912544,
                    -1.5119382570342363,
                    10.934747580957467,
                    5.515636108903813,
                    9.771947072749256
                  ],
                  "y": [
                    2.713258861096571,
                    2.90835752056603,
                    11.767916717634288,
                    9.309350081925942,
                    3.521658294017559,
                    11.712074274006216,
                    -10.729793503854463,
                    14.568007022360181,
                    5.974908531372696,
                    -3.505449549394223,
                    -4.578202204281558,
                    4.321427429596739,
                    2.12561346792485,
                    11.715782017453849,
                    7.587337774137559,
                    6.11636981246704,
                    3.0268990960165003,
                    3.1380477363414117,
                    1.7560072664911708,
                    1.3415061524705525,
                    1.501753862245494,
                    10.700984886016524,
                    12.433512365885807,
                    -3.5691826178586137,
                    2.3842782411853114,
                    0.28799275601940977,
                    1.2568885393898679,
                    -2.795790499689886,
                    4.89688475226137,
                    3.052721504715655,
                    -2.248636700405524,
                    -2.2097709868147133,
                    -7.981523869286688,
                    5.425321566985186,
                    10.110362144687173,
                    10.57496137692139,
                    9.641145491024872,
                    3.337049426458395,
                    4.638352511979473,
                    5.9148813562575135,
                    6.6543320892634705,
                    -1.5930309749262488,
                    2.192062008092198,
                    -1.74880633901207,
                    3.3530734143312717,
                    7.949301084858915,
                    5.56145990599824,
                    10.668761589504456,
                    9.753153392971424,
                    -1.6293055734822488,
                    4.373039414758297,
                    10.612379516882996,
                    2.5305347627859454,
                    7.430791562241224,
                    3.7043994031110943,
                    4.149830309964692,
                    -0.6915898863492416,
                    2.6402872625337666,
                    1.027868553799538,
                    1.0304494170453533,
                    10.167591385359788,
                    -0.3441033673676932,
                    10.535426755047196,
                    -1.0356432215061053,
                    -3.896436959124973,
                    6.418184177749124,
                    0.6296396357533434,
                    6.455670744542887,
                    0.0019585470305729658,
                    14.340504907470715,
                    7.246332896193438,
                    12.395749195845337,
                    7.096459115890618,
                    1.4663106216002708,
                    5.23065449722787,
                    13.846782565902329,
                    8.933172023196347,
                    -2.1174434743302086,
                    6.443614499054905,
                    1.8523356290402413,
                    6.770115008759599,
                    7.34904350062509,
                    3.6360306388641783,
                    5.139090310301179,
                    -0.14438468895344148,
                    6.472359865894925,
                    10.421450352377658,
                    6.088540048658926,
                    5.915839179128483,
                    7.160677552684895,
                    6.521176724644375,
                    9.17760891145533,
                    0.5148698982396667,
                    1.9106878471345858,
                    6.813856783426035,
                    4.958403194982437,
                    -3.714131551429805,
                    9.178082560491319,
                    12.864688736461272,
                    2.8306757947873322,
                    5.567145871708831,
                    -0.5979496270125395,
                    10.216738734648835,
                    11.701937179121288,
                    2.5218840085715706,
                    1.0777603555918964,
                    8.240439833012307,
                    7.810521023371322,
                    2.9760497520776865,
                    12.624289950747468,
                    7.543845572130893,
                    15.265700472327776,
                    -4.721633320916801,
                    7.259886728787989,
                    8.683204238404958,
                    11.992909988822188,
                    7.047123223750983,
                    0.9184530664619093,
                    10.709886515441806,
                    0.6950736264127961,
                    3.8619177069288804,
                    4.128650741849942,
                    7.579035249739553,
                    -0.3072643320475894,
                    8.335663593549691,
                    0.5827925364877249,
                    2.0102334753895694,
                    6.453356819362716,
                    2.4237120904100413,
                    5.009862612677937,
                    8.12611252342534,
                    6.89862867002399,
                    7.876883409594013,
                    8.547582519527731,
                    -8.218901303263424,
                    8.01957734098617,
                    12.123711639150505,
                    3.869910504873202,
                    2.4525909434277087,
                    4.872381427475017,
                    7.907799501959001,
                    7.094237874217715,
                    9.25893005178352,
                    11.946235715018751,
                    6.515785026814127,
                    -1.2281229164280312,
                    3.5045369099726265,
                    9.314341634249296,
                    3.383471472865823,
                    -1.6007010335533387,
                    6.1771171860032545,
                    0.9389241571794429,
                    0.773317331911862,
                    -0.5912718978444831,
                    15.782334404902638,
                    -1.1927108743478998,
                    -1.1799167430064514,
                    3.740052560099646,
                    4.893909036084147,
                    8.442935080171502,
                    -0.9916875512803784,
                    13.032372021842558,
                    1.527888544386475,
                    11.600053479944396,
                    14.600954987500485,
                    5.024591987886481,
                    13.160441130034073,
                    6.450732693998313,
                    6.450239779588458,
                    8.647876597690967,
                    4.479223321179151,
                    10.121096289330008,
                    11.111174577814612,
                    12.045521645018908,
                    10.084162759941211,
                    6.552888474233711,
                    0.5982894759046324,
                    -0.38080412641221617,
                    13.880150106230865,
                    8.41663483106,
                    3.0063657295938446,
                    8.798113863979818,
                    12.329874996024326,
                    10.53002561770031,
                    2.963191170843253,
                    -3.8215875625814473,
                    7.698592290492238,
                    10.338807808435183,
                    5.0564329137399,
                    0.5769464668315791,
                    2.1427044961615356,
                    14.012455160184977,
                    5.375907886107433,
                    3.962365317377727,
                    6.989304473298768,
                    -0.6741755906371116,
                    15.828089593858365,
                    8.971652239556194,
                    7.319685588339358,
                    10.687339890994101,
                    5.38306076654617,
                    1.2334859763568917,
                    6.3811456170262915,
                    -0.11207523197659075,
                    6.670563132075767,
                    -1.7765846775908853,
                    4.010650647902434,
                    16.762825582223037,
                    5.512647008318856,
                    12.451559666092187,
                    6.869420513686139,
                    0.24739955860132845,
                    9.176018949453455,
                    7.634537848003703,
                    8.50862004557529,
                    -2.8451612967492323,
                    8.602969199107722,
                    5.608745450471938,
                    0.620620236949744,
                    2.407217310101361,
                    3.1818227845775895,
                    13.718792273017492,
                    -2.43477989511687,
                    -7.304578759685654,
                    5.3385230648017785,
                    -9.844118615419184,
                    7.8414426975857605,
                    -0.35819209446359324,
                    3.4363688603577827,
                    8.189104793044942,
                    -0.6319673762159361,
                    11.129173166419422,
                    7.18629843376606,
                    10.34225093185654,
                    8.472210766276968,
                    4.320693824643117,
                    5.8416195872966945,
                    5.423207049256591,
                    13.125881017393006,
                    5.848881411380647,
                    6.018527797855985,
                    12.856310798297208,
                    9.769144386786994,
                    13.17667566278484,
                    -0.07138330347837218,
                    5.020306531623707,
                    5.928845957563942,
                    9.343138241501808,
                    1.977921331250422,
                    -1.8342450667924615,
                    -3.245248374452892,
                    3.8475564514077725,
                    6.071114844158107,
                    2.427455569799584,
                    3.6196735460913514,
                    5.383715486696841,
                    1.4228411032547532,
                    -2.718155117072688,
                    1.8209474734849733,
                    8.160037508018895,
                    9.657099897124493,
                    0.41290346154727864,
                    -4.945864649078116,
                    7.147049791161139,
                    9.076295202166605,
                    10.036376574636176,
                    -2.601231312036142,
                    6.756005619444865,
                    13.241245608616095,
                    -1.9139446708830263,
                    1.3864100687491012,
                    -2.109449346863512,
                    11.846712696243483,
                    1.2019023864039875,
                    -0.1886485484198932,
                    3.2037843190103814,
                    4.474198782842989,
                    5.547759893189751,
                    5.669741018984006,
                    3.583177952861998,
                    16.38831892313383,
                    10.527177877934614,
                    10.581871657423706,
                    5.043169908499155,
                    1.707805981242259,
                    9.898916645853555,
                    -0.0340940900685327,
                    -2.687025370434439,
                    0.9082656454444713,
                    9.262183524260145,
                    -0.1706749758170325,
                    -0.523785919609332,
                    2.424395584442765,
                    9.426760608065088,
                    1.6324180369425094,
                    2.8961724805952156,
                    1.041760519815642,
                    6.764592579072721,
                    -3.2081649438923403,
                    8.75219691341108,
                    2.401317416979809,
                    4.937172874427046,
                    0.21917142007968682,
                    6.341629493994389,
                    12.800564448330842,
                    -4.457360777835376,
                    2.677662200680277,
                    5.600611470242055,
                    5.949764993310832,
                    5.112738692916355,
                    15.321961738070621,
                    8.681127750099144,
                    -2.1123350104178584,
                    -2.519260714472206,
                    2.576026547210572,
                    -4.859717708201044,
                    3.568349983581196,
                    3.6130406481327184,
                    -3.360791628878534,
                    6.9687437612998275,
                    0.8161834357682558,
                    5.804458188554105,
                    -1.0650830840694265,
                    2.2331497342665774,
                    2.3864706311937773,
                    -5.832555224863087,
                    11.963250907136912,
                    13.074931159333886,
                    -3.0382601742518087,
                    12.09830196006645,
                    3.3298157202280736,
                    10.681099761638063,
                    5.128196751003872,
                    7.676652369997557,
                    11.372048402367614,
                    -3.214777483152705,
                    10.191645162756913,
                    4.993776878421723,
                    -1.8418012704200262,
                    1.1574867847863906,
                    8.284435814779558,
                    5.54239862838539,
                    1.8166007701982183,
                    7.4629689145205145,
                    8.819394661195679,
                    8.417327022049221,
                    4.6235937357949,
                    6.428157301911069,
                    0.5345654197471301,
                    5.40043173249683,
                    3.625041812692674,
                    -3.9913495220386768,
                    -1.4741871953043253,
                    5.919138423140948,
                    3.264216957002272,
                    -2.975275628219798,
                    6.009225196788036,
                    5.678050694099978,
                    5.081135180814462,
                    7.9847017474569615,
                    5.517755376321632,
                    5.826080628134611,
                    5.860604041781112,
                    5.1002146453427315,
                    10.507484802307248,
                    5.671760577557081,
                    -2.609931792759724,
                    8.608991276893711,
                    16.87841934567809,
                    -0.4025825853470195,
                    9.862420689000515,
                    16.251685387002922,
                    3.3372608090314224,
                    -1.1950944888871184,
                    -2.303936937549693,
                    -2.4659370481605105,
                    10.245508728054752,
                    16.705971302207978,
                    10.697912950994343,
                    -6.949634714408276,
                    9.077984568668155,
                    -1.8523051613180508,
                    4.597750101372688,
                    7.401373225677197,
                    0.34060060076095056,
                    1.1909280952306727,
                    2.397303473505985,
                    4.3222549418143466,
                    -0.9538019545392302,
                    4.221220687250845,
                    -4.958944801645513,
                    4.475432468627511,
                    11.276220925289683,
                    8.460670040010264,
                    -3.1590758218450574,
                    3.710698189878082,
                    -3.8070479142334097,
                    9.22811248302386,
                    19.073150684464604,
                    14.22259318829915,
                    9.532470662453823,
                    1.2723371827633012,
                    2.654663774297425,
                    7.001856450517673,
                    10.164550566444408,
                    7.282421147658425,
                    9.77585879236111,
                    6.581834127154869,
                    16.73043714701499,
                    -2.377203911034897,
                    8.941306685445932,
                    5.779105217065979,
                    5.743245046300592,
                    17.749181377518997,
                    1.623365270541223,
                    0.39304118941734956,
                    6.589839521755114,
                    -2.9335433639022455,
                    6.579117210851124,
                    8.087259626189125,
                    3.118636888136365,
                    5.565485325825033,
                    5.760802574785961,
                    3.9415504659352294,
                    7.681502126068432,
                    4.167307394611258,
                    8.487408463998703,
                    7.763072700298537,
                    9.573310124321797,
                    10.590785780707106,
                    7.16764934365381,
                    11.52535323253859,
                    1.430762701268863,
                    2.656506881459271,
                    5.597742531258628,
                    1.5020183690775193,
                    0.42194035870676405,
                    13.691126857888896,
                    1.0891213045076702,
                    2.6353064946711653,
                    2.7913023662252616,
                    9.170876029143582,
                    9.523891043888305,
                    2.292205857599552,
                    5.8781181706135746,
                    4.999645255946284,
                    7.41031582325314,
                    4.102054205896558,
                    2.786930748222989,
                    -4.748222171300082,
                    2.388515943303637,
                    7.261383670190564,
                    1.5110722522043547,
                    5.154146849213925,
                    2.998924534753841,
                    -0.22550247475508822,
                    12.61424497657243,
                    6.964204914114715,
                    4.577851757512176,
                    5.638643046055202,
                    2.422094655182505,
                    7.5145370835445675,
                    7.723551921703042,
                    -1.9261996535601167,
                    1.2788807132313673,
                    7.286847461431465,
                    -1.5210491011801395,
                    -0.8546963114112653,
                    4.759807095399388,
                    9.694444886739012,
                    3.1344593278526096,
                    13.481888796110198,
                    3.9410592490556597,
                    1.572185882087065,
                    1.7289973673040437,
                    2.1099578091046354,
                    1.0604939714349864,
                    5.4842287381741395,
                    15.501017742158968,
                    8.323842111168268,
                    5.312135185956576,
                    -3.3969460501952025,
                    3.305121941289271,
                    9.386898062309617,
                    14.040660506726347,
                    6.400461872780328,
                    -6.256629321529308,
                    10.349852764397124,
                    1.9749946927549389,
                    3.1231318564357835,
                    11.922175720547697,
                    6.251614005096271,
                    6.570723026339816,
                    11.41027659600555,
                    0.6486188299988518,
                    2.3660228236620333,
                    7.055831586892278,
                    7.185343436484944,
                    5.172755579155242,
                    4.52890140093893,
                    4.348149616829845,
                    8.857571484516225,
                    4.527774658788115,
                    9.83755622596047,
                    10.220404191200972,
                    17.225278772398514,
                    -4.851476379676564,
                    11.340531087062166,
                    6.3507159875876145,
                    1.4230293673314605,
                    3.6761838223009193,
                    -0.9793047505462438,
                    5.6827525057474535,
                    -0.0028215479541202626,
                    11.948116319546958,
                    10.531371574128945,
                    4.577112055505348,
                    0.5629536775871209,
                    2.098590035796221,
                    14.296657148202117,
                    10.326957045665315,
                    0.8655681461436329,
                    4.234093199655006,
                    3.4729119971578424,
                    4.062876458597707,
                    16.302189201784824,
                    -2.364598350823236,
                    3.6939344351033068,
                    6.044037218909619,
                    -0.07870190007810773,
                    10.298722715866875,
                    -7.6768349883036375,
                    2.336373377258198,
                    -5.231800027741178,
                    0.3185692229714707,
                    9.319163475499902,
                    7.375711909319074,
                    0.17046853404783846,
                    7.450158993036688,
                    6.54413224934763,
                    1.0055116539650486,
                    5.753939108841928,
                    -0.4303518812302398,
                    8.667072911348106,
                    4.298031473475103,
                    1.8799898254623715,
                    3.227012093598174,
                    4.217419831345507,
                    5.645456770231209,
                    4.491290673429113,
                    3.250551276454671,
                    8.007557408053403,
                    4.721188946869941,
                    -0.5864053498134165,
                    0.22174108061848408,
                    8.10860404334844,
                    6.390164345138312,
                    0.762238684803239,
                    9.50371474963356,
                    -4.855332808242409,
                    5.068504507705606,
                    9.326423667461588,
                    4.406693416602517,
                    0.39091123192192967,
                    7.797875028596588,
                    10.534701781848124,
                    6.98177437502979,
                    6.280295456655326,
                    7.8565665771590485,
                    7.543350849843513,
                    1.920740899349782,
                    9.592410546457907,
                    10.17016314784431,
                    8.496033443790672,
                    -1.7150282351049864,
                    2.2491412809392077,
                    10.414220572885068,
                    8.08144315130152,
                    12.56172754490629,
                    -3.67359109061171,
                    8.62987250658661,
                    6.5318066224122,
                    7.964254972104679,
                    0.14473979871767995,
                    9.745664886292968,
                    4.838320648484757,
                    9.642991229427853,
                    10.22313343289688,
                    10.599365543116905,
                    9.38856355016566,
                    2.441045727919003,
                    0.5048015042943703,
                    -1.7649885808600239,
                    3.008087279254612,
                    -4.89027137985428,
                    5.301037287676508,
                    3.9460396384454084,
                    13.380225921394617,
                    0.23634076266627524,
                    1.6862115402624118,
                    3.1774249929588434,
                    1.3163197505812905,
                    5.755698739307263,
                    11.045675687485502,
                    8.603661045415194,
                    9.749124347793137,
                    9.405771508989169,
                    2.136333198102371,
                    1.9435254889798061,
                    -0.039178360489325215,
                    -2.405088720555181,
                    -3.167834441821709,
                    10.52579122841675,
                    2.0597805957227253,
                    -2.1614598500684927,
                    8.617935533206246,
                    -8.009922110040282,
                    6.317653630248692,
                    -8.257345808910966,
                    8.75992527242784,
                    11.054275291802806,
                    4.538441966108896,
                    0.12810151836814931,
                    -8.416891541392795,
                    2.1541163793809694,
                    9.009231192302652,
                    7.243779571322995,
                    -0.8929529543787948,
                    2.8625889765881976,
                    8.19873768901886,
                    6.110926108110292,
                    6.233729768160762,
                    6.206372909948976,
                    9.316448002785577,
                    4.674548674872369,
                    5.7218553799913625,
                    -4.585362350376007,
                    -4.8477632444462575,
                    -0.2601120153822869,
                    7.669576819949132,
                    -1.828932937784483,
                    3.081611023434855,
                    7.008421843500726,
                    3.1737299506333834,
                    14.105899494058697,
                    10.569962803826678,
                    6.517075654043771,
                    19.04997500451906,
                    6.729119282947931,
                    3.103162486325848,
                    7.959413945522993,
                    -2.621807318234506,
                    9.901086939285232,
                    6.147543905476001,
                    3.833542365516501,
                    -2.0474198940786223,
                    7.874503938885076,
                    6.117942285391623,
                    2.835707659549043,
                    4.536738523028314,
                    5.25400078676782,
                    3.6664755631583765,
                    8.394564242864767,
                    7.475598940261187,
                    -1.7431770454520095,
                    6.190220285282644,
                    9.449265037791791,
                    3.8888621563917294,
                    -1.450634000600135,
                    7.649915897467942,
                    0.9181893471967699,
                    5.068344617345392,
                    -0.0302423175289519,
                    10.617441806271701,
                    6.585412437670176,
                    3.451898137192024,
                    13.135160887868173,
                    -1.8456368689647187,
                    -1.6598331890564468,
                    4.684077924779751,
                    -1.196996589160392,
                    2.8359291662796964,
                    -2.372217861794801,
                    3.341945239068561,
                    2.179927382079967,
                    -2.266256660748855,
                    10.085927877456164,
                    -4.319898605932758,
                    6.7039315918643885,
                    10.647969985863398,
                    2.209367564291587,
                    2.119852748047562,
                    0.5921212044744264,
                    1.8451948393236735,
                    11.286114703636446,
                    -1.7110678688594847,
                    12.601992013240265,
                    -5.617801573587947,
                    2.4938100426883283,
                    11.273356470773544,
                    6.147002633500569,
                    11.928640382166272,
                    7.891675987597413,
                    -0.3090965205427807,
                    12.40417502803382,
                    -1.37085741997649,
                    3.0918441791435765,
                    4.06362354302035,
                    11.665728094469221,
                    8.728364919880256,
                    1.9722041750669965,
                    16.024649322847267,
                    2.932225602191835,
                    0.6350665278457619,
                    6.280561495485272,
                    3.08430027889648,
                    -0.30703480872356526,
                    6.437755919098764,
                    12.571957521718435,
                    -0.8807582232515818,
                    2.262365709539681,
                    10.615676312766919,
                    4.765532490361302,
                    0.046119955779805544,
                    9.749147588487329,
                    13.77788165330235,
                    9.490303956111688,
                    6.776745417599495,
                    4.801505115939109,
                    8.700463667708412,
                    4.600562463507658,
                    -0.7972482521034792,
                    2.5806217754512115,
                    7.138169324739574,
                    2.8272442333817245,
                    4.510848353479297,
                    4.570965559580848,
                    17.393823068276472,
                    5.150064080890622,
                    6.349597411115003,
                    1.8093997220076457,
                    6.637692895120772,
                    3.438671137133414,
                    3.415048323415215,
                    4.008614734409536,
                    3.2372010773915334,
                    8.348499075487862,
                    7.098382480502136,
                    7.8490404548147525,
                    4.335496581993385,
                    5.551792992988186,
                    4.543162256390789,
                    -0.4072763546213656,
                    3.4429037544973697,
                    0.12371298091993754,
                    2.1366724947647513,
                    10.913864159467439,
                    1.3604971778818618,
                    13.01786562374879,
                    11.212360195194414,
                    9.73722971272647,
                    -0.016687593502160425,
                    14.43495628392509,
                    13.114985682116234,
                    10.685122461454306,
                    9.67780997885672,
                    2.555724348444906,
                    -0.7458908942181122,
                    12.054229162115387,
                    1.3153013182422275,
                    9.39654123522163,
                    14.095239883481929,
                    4.518837385028566,
                    10.606580026357651,
                    6.971067714205107,
                    -1.9232690532785899,
                    4.4531858523997485,
                    3.416681350197165,
                    -5.751497265854976,
                    6.831189774479696,
                    5.12227460167048,
                    11.078763734176675,
                    6.215488247986657,
                    16.305509205541433,
                    -4.217355212036699,
                    7.936027287543302,
                    8.059467335137473,
                    6.845205795258035,
                    0.5128039159028459,
                    12.491042757155817,
                    5.5349957101398495,
                    2.9425151944607895,
                    0.24666046223335059,
                    6.598803435806353,
                    3.796863626148111,
                    5.730170243898235,
                    5.391671748714121,
                    11.441821983536116,
                    8.820878764985565,
                    0.4853727511690824
                  ],
                  "z": [
                    10.605579801243294,
                    -0.9152866583619113,
                    -5.073585499569222,
                    7.978640753932914,
                    12.234441369508831,
                    -0.31516973454449637,
                    52.58178653250021,
                    -18.417039791377427,
                    16.84510044304592,
                    40.89720798631745,
                    44.34790730002434,
                    18.146295027764758,
                    16.16018061035623,
                    -0.2235746731828787,
                    11.366214667719516,
                    12.847555965541574,
                    0.2643082196819038,
                    14.445289191761699,
                    16.94905096174473,
                    7.879847763723138,
                    6.229324578437971,
                    42.681173379582944,
                    6.590414627633905,
                    34.909411538947076,
                    17.91956997973821,
                    35.31196270908343,
                    -5.709966989614941,
                    26.643512915834787,
                    25.51691590841394,
                    15.237907552689077,
                    13.481734683031231,
                    -1.1209823127631666,
                    45.42916903892815,
                    30.280059938659228,
                    -4.528638475859837,
                    -31.137692832818743,
                    -5.820012185919833,
                    -17.018138280250522,
                    16.889375736091733,
                    6.451145580191623,
                    4.756307540634609,
                    1.4470154735480032,
                    24.114995325225554,
                    22.4099438409075,
                    5.071714292481697,
                    -5.660570572705663,
                    13.04734234380306,
                    -24.705279024572317,
                    -19.029041644395743,
                    30.784555631714216,
                    28.8299708729826,
                    11.378781504838996,
                    -4.4419013339499775,
                    16.331000450670572,
                    10.112693402984268,
                    43.77733219160557,
                    17.280501692416248,
                    2.5560619387472903,
                    -6.090325067815508,
                    20.10724785910019,
                    -8.073592545248875,
                    14.696789349293715,
                    10.544033012133585,
                    27.076477124569802,
                    21.703523908848908,
                    17.372757336150727,
                    2.3825041246449397,
                    8.705360474286945,
                    18.73168038938722,
                    -2.910198091248812,
                    1.538422106338339,
                    -21.28095236109454,
                    22.643178889405956,
                    22.832751685179595,
                    27.73434978254999,
                    -2.0647288077249337,
                    11.357819310466029,
                    29.208075171590284,
                    -18.194590703401385,
                    7.815138756503465,
                    10.902437350154546,
                    17.450359205658092,
                    38.55901496365469,
                    16.640669170245904,
                    -6.873779886746202,
                    19.54508090829657,
                    7.880191411238091,
                    -8.176074301289667,
                    6.813941487315429,
                    9.783913419141562,
                    26.672084529992137,
                    14.63696600049304,
                    15.423271060614054,
                    9.190844774592914,
                    7.931938268869776,
                    10.463887868615648,
                    26.183205974403837,
                    4.8122224344304865,
                    20.872686559679316,
                    36.820066892870926,
                    2.6359471044473453,
                    54.964276341459026,
                    -27.687700033099013,
                    4.621758804090731,
                    13.241496716510396,
                    40.03501742648199,
                    8.092352938481547,
                    -21.09381776304408,
                    11.323967483222154,
                    -38.84991359937896,
                    21.026787641639903,
                    -42.60189796748956,
                    71.22234904761592,
                    9.471682027008592,
                    6.231124613709727,
                    5.01419715366118,
                    11.055417889051089,
                    27.693043175339245,
                    15.230070882691052,
                    19.0994046970253,
                    17.70172777003052,
                    27.863084872145468,
                    9.09646812211535,
                    40.6888246501332,
                    -25.40571898192121,
                    42.29510281731446,
                    22.665864610278167,
                    -13.051138876846938,
                    18.866191459155537,
                    1.4774228292316134,
                    1.9855827411242057,
                    11.346068342284271,
                    3.571395069959663,
                    -7.276826666113906,
                    43.66814172093903,
                    -13.146495298507416,
                    -12.8814225971342,
                    36.19281729017828,
                    9.619739792544857,
                    9.514693474966606,
                    -0.42082209341895815,
                    13.620908141846748,
                    1.7810998975645027,
                    -24.19781351831387,
                    16.516722513076342,
                    19.17206307544677,
                    29.775820350046622,
                    4.61134060981682,
                    21.937578167667894,
                    19.602889117894623,
                    2.443364985869038,
                    33.41705704549722,
                    20.122117505736288,
                    6.827216939025801,
                    -7.838442379432934,
                    -10.301983208859177,
                    0.7642593176750874,
                    23.91802268058599,
                    15.190021490623272,
                    -17.1952300147197,
                    -8.254585572355277,
                    -4.009289310407903,
                    4.305961587871341,
                    -22.085076004382675,
                    -12.075635049692998,
                    2.361962549390742,
                    18.72478270273122,
                    9.611696133853007,
                    -10.172042666212702,
                    52.059222247649004,
                    -25.074571646671597,
                    -13.25821183463617,
                    1.0773849139596292,
                    7.457331632151093,
                    -17.70071132380236,
                    -19.514601928377115,
                    11.179866514703836,
                    30.17498108498526,
                    -11.938829029074935,
                    3.849922813354481,
                    27.454297057144927,
                    -9.222033995473353,
                    -27.790615133252015,
                    19.906680599476786,
                    22.570265202108885,
                    0.3360565230034158,
                    24.273165459079518,
                    -16.270879598457427,
                    2.94129821708522,
                    30.03486293892456,
                    43.66161706651342,
                    4.253719645004779,
                    8.953020992479846,
                    4.4288728769641805,
                    -0.7369641813542134,
                    22.03986554119241,
                    -27.351665874045512,
                    25.280698494012356,
                    1.6573193609929726,
                    -33.17035797885909,
                    25.915329638078894,
                    4.787889437628758,
                    5.80845156201963,
                    18.922636116569006,
                    3.9365463225352726,
                    42.621383213359536,
                    -18.558072642461493,
                    -8.351206135789077,
                    -9.169502939601703,
                    4.120007634016833,
                    25.878536430714945,
                    28.918745878622715,
                    -9.224890418923955,
                    17.006670378344673,
                    40.30546262041871,
                    48.2888832810347,
                    11.844888781105038,
                    -0.1236929322004007,
                    20.28782279165233,
                    29.673748681430222,
                    -5.042272290492747,
                    -28.311799958009487,
                    5.033218840490317,
                    43.31960466527382,
                    22.663183684287194,
                    25.147766179053313,
                    -8.982616194600867,
                    34.229614811374816,
                    36.509422441414344,
                    -4.587622487597554,
                    29.473677080643277,
                    -10.570579845307542,
                    3.0701042838266335,
                    -1.5384622343001126,
                    10.085947612949681,
                    2.618790661521803,
                    4.4399155871074045,
                    27.053175130853475,
                    -5.30036181152101,
                    28.931029869923563,
                    -29.965690633705513,
                    30.256097895220897,
                    5.005062244540576,
                    -14.655866786880086,
                    29.96057124451509,
                    16.419420630803735,
                    -6.39283440663378,
                    9.076965474326812,
                    25.43125169141325,
                    26.789894959486844,
                    37.6282751535354,
                    4.560245604342378,
                    12.337692415924064,
                    14.438725093361779,
                    21.832626795870766,
                    24.829824986789426,
                    8.503959367188841,
                    20.565722824828086,
                    20.812143077101666,
                    14.867486768728583,
                    33.470827042142,
                    32.94719277520051,
                    4.457425976364874,
                    -5.023388291329592,
                    0.6619529889205626,
                    8.447412622594928,
                    13.905264460354928,
                    11.959581672279844,
                    -10.499983624322939,
                    7.985979873304455,
                    -4.05772194288749,
                    16.727177876374213,
                    3.0583023522843185,
                    4.948121147476892,
                    -2.1378757293791666,
                    -3.581450313109485,
                    56.77147951331856,
                    -0.753099073087004,
                    11.43161266872302,
                    27.875079311754714,
                    20.262593860375063,
                    -1.9586005043708514,
                    31.098309662574668,
                    -0.12109604123536766,
                    4.61915599722419,
                    13.389706187720032,
                    4.509635865555631,
                    24.84552490199834,
                    23.550589805285366,
                    -40.61123442061551,
                    5.3352362741849,
                    9.918745737025386,
                    45.665764409105186,
                    8.355339343599258,
                    2.0496172001868582,
                    25.338142125573114,
                    12.39724409448034,
                    34.42043496739828,
                    41.36133051227872,
                    22.75314764950818,
                    32.76968678692733,
                    11.923935048583996,
                    11.734910813951515,
                    -2.637729409204632,
                    20.67042019111124,
                    26.469745101671393,
                    0.2782794754169342,
                    26.864096613962502,
                    10.822042161047303,
                    5.363202464983116,
                    15.457384986504128,
                    9.203211004066493,
                    26.91431195289623,
                    35.57727440403933,
                    4.465594487446351,
                    33.976589379909505,
                    12.62628642733424,
                    10.02220217359407,
                    49.803953399297775,
                    -10.862777448107972,
                    20.902284573601964,
                    0.5887614480344767,
                    0.8901112053576115,
                    15.871724875208166,
                    9.244342414411369,
                    22.870950667335013,
                    -16.04565277678892,
                    4.4778776115971315,
                    7.902115540931906,
                    9.388456561336223,
                    4.556033753653067,
                    -4.646953769289555,
                    -5.438525746293523,
                    -10.017061552766691,
                    -16.535318114418136,
                    22.442128457917295,
                    16.53228003305971,
                    -1.3706349504149433,
                    24.516404478529225,
                    13.36099973937491,
                    8.663568296868018,
                    -9.155892648212193,
                    2.9141585237830765,
                    15.421491835670478,
                    -22.22088466994645,
                    16.986966181342506,
                    6.060563865371502,
                    0.3874754329356056,
                    5.887583264648751,
                    5.287885159369925,
                    20.767683652583496,
                    27.3069667890006,
                    13.27771180186625,
                    14.97344408710266,
                    25.000961445141073,
                    22.838967150224512,
                    -10.112367983188994,
                    40.05383406052602,
                    21.625697607393896,
                    8.106890262103875,
                    16.68367907472522,
                    -6.4043369251403295,
                    5.9396297579329485,
                    0.2450358815920035,
                    2.982531185190044,
                    9.60123876332559,
                    51.951670533931384,
                    12.423263253850754,
                    -12.614638300018118,
                    23.760422403348258,
                    17.234353495803205,
                    -24.83800405562195,
                    13.588762664327444,
                    31.429631914563036,
                    17.32655188132101,
                    -15.664818439753116,
                    10.926670272326028,
                    -11.410156364863212,
                    35.801648138950235,
                    21.537309631762216,
                    -0.2777050582764016,
                    38.176549049953806,
                    27.059345682553563,
                    18.576885998203952,
                    11.833259565092808,
                    13.535487930545557,
                    -5.777162916771056,
                    8.428412038993189,
                    0.020659276425743583,
                    -6.9789062446470105,
                    32.280346591396025,
                    32.0269803447183,
                    13.514736501052178,
                    28.94691808537441,
                    30.62648716527426,
                    0.3386941841827095,
                    21.92601539554816,
                    26.594727228639055,
                    -31.98761072886943,
                    -20.581250685813863,
                    -3.505106020693038,
                    -0.5954919527374042,
                    22.825201874602694,
                    6.375803932706751,
                    17.28814373634413,
                    22.452938561778975,
                    -16.599771308689554,
                    10.068047188729608,
                    0.5181969803249031,
                    21.050307507605886,
                    -5.309479139991661,
                    -7.9239081938575815,
                    -3.8764734566785224,
                    -13.975249719609323,
                    35.663983769148686,
                    6.840600784147121,
                    16.22776823284177,
                    29.594640497535423,
                    -7.137765535509741,
                    6.065789418053933,
                    -20.77294263017518,
                    11.062274325639343,
                    -7.392053450487142,
                    36.67656300336938,
                    18.24677964513674,
                    14.901014196947052,
                    11.4021793050527,
                    28.680926724035267,
                    2.4162852580961314,
                    -23.074308703089617,
                    -12.27536261830261,
                    -2.5819440379935426,
                    15.833809659335618,
                    -3.285660702136661,
                    -5.9834215930522765,
                    3.0384155437188243,
                    51.69072653566257,
                    34.74394421907408,
                    16.687748635892447,
                    16.187734206332323,
                    24.650735643012737,
                    17.407577130540787,
                    28.393739012630235,
                    -7.18910996894606,
                    -4.366513273999105,
                    1.6729293561103924,
                    -13.562272268160484,
                    -2.755176630511217,
                    8.180556539971544,
                    48.36690593612985,
                    10.194596691037312,
                    -7.811520940920818,
                    1.655268687905786,
                    -14.322637764350297,
                    3.6560223356207553,
                    49.97273923820025,
                    -2.6369167422662967,
                    26.051773675800213,
                    21.76775025057631,
                    -27.096294624046728,
                    8.786785714986287,
                    -3.3371109253255646,
                    28.072932765971245,
                    -1.153404436809582,
                    20.140135691830938,
                    1.2225885131356071,
                    28.457846631657034,
                    30.000266870437308,
                    7.919479765066942,
                    -18.975203222091235,
                    5.942447028512941,
                    -2.940046122651709,
                    17.433353018479394,
                    8.74104505961151,
                    1.7215882974802013,
                    14.343923229138355,
                    45.14634545994469,
                    12.691758711296002,
                    -54.32941200315509,
                    -6.076292457308462,
                    -15.160154961712141,
                    55.34224720707576,
                    17.64089268578597,
                    -10.621575215891884,
                    -3.9376132708250378,
                    12.045831412255671,
                    34.93591256237829,
                    7.7392742419645835,
                    -0.3590932217491687,
                    24.73759213716099,
                    -6.342896622871783,
                    -25.349584501482568,
                    11.567227773847527,
                    5.466487117205116,
                    28.10576922659125,
                    18.753399955287257,
                    3.707332613886269,
                    -15.383259265570024,
                    -12.186075865344039,
                    -5.4643851860691415,
                    31.189733241000514,
                    7.467824707083083,
                    -4.914016539347784,
                    -19.360466620353776,
                    6.222444603238846,
                    -15.231500053883096,
                    43.11482806617464,
                    14.907901684449113,
                    2.1464995578431108,
                    -5.877669259068176,
                    -14.513588708121913,
                    -2.3705737393253314,
                    38.79516560243292,
                    18.109839965434624,
                    -1.1897339498770108,
                    -0.6306801649962099,
                    8.554668825545038,
                    38.033869804091566,
                    -0.22646770708946162,
                    -24.937366196456118,
                    -7.0694835358046575,
                    28.611906846542585,
                    -11.789911863061462,
                    18.059803692778342,
                    34.222919946313326,
                    14.398653929080133,
                    21.63572977198772,
                    10.188076999316234,
                    30.464112628341603,
                    18.89813827393429,
                    -4.447400815375481,
                    37.56169887655705,
                    8.37489255800609,
                    34.49094338454352,
                    4.550248674454102,
                    23.372164663788826,
                    -0.4993005441499574,
                    52.7524943522331,
                    21.114249547166818,
                    -9.003071067531714,
                    25.50918670243482,
                    16.185602339042973,
                    28.359305659563383,
                    3.0281608157562268,
                    20.56582725144442,
                    42.42030940410775,
                    19.467064097943766,
                    15.042832113603568,
                    9.666176886945088,
                    21.860819303812583,
                    4.709015469884708,
                    25.454930155875957,
                    30.525313837666616,
                    11.305341757860765,
                    17.514344948661474,
                    -11.591285304402597,
                    -1.3357062219268991,
                    18.353948964972982,
                    13.31937429560472,
                    41.76522381749048,
                    12.553038419059504,
                    9.593997019095662,
                    30.440712471950583,
                    29.77884949445967,
                    0.6261670217288784,
                    28.669695319521445,
                    -5.716900340997619,
                    15.874058866202988,
                    -13.67641571810493,
                    15.32674370780088,
                    8.34627275127249,
                    37.814540962558276,
                    -0.7175182565970697,
                    -1.9465154535282931,
                    31.844818718966295,
                    9.311229413709217,
                    2.7359639006428966,
                    33.040694549172855,
                    -28.940153845470434,
                    26.407882208661245,
                    27.7116551863075,
                    35.20798788021715,
                    30.499824255546397,
                    25.40008904244735,
                    3.1167979050468566,
                    20.590620576558383,
                    10.43168131769396,
                    23.847356327090033,
                    -20.955088614606066,
                    -14.51413555896315,
                    -0.5386738990861182,
                    30.45408225497896,
                    33.188748883774416,
                    15.541803547060239,
                    45.3381008539772,
                    14.369947231680818,
                    17.691952831309717,
                    13.351879650049653,
                    13.670231624389185,
                    28.373799837575177,
                    -19.85439383068734,
                    14.25061420527902,
                    3.4467676858431857,
                    -14.174641299777498,
                    -7.774313164988998,
                    22.092117324621448,
                    17.848333528252578,
                    40.544435607040484,
                    -5.388434908559436,
                    34.16219952892422,
                    14.670179224004997,
                    9.01539072522281,
                    -1.3405249570040316,
                    23.252416879983954,
                    10.987318618904775,
                    18.47207554085216,
                    80.40978795861743,
                    2.8705933459402013,
                    48.0630042571588,
                    -16.089946211170872,
                    25.750723340740468,
                    7.623247353148178,
                    30.96042020256452,
                    33.90701701243849,
                    15.341045761571545,
                    -8.502750464839073,
                    12.23272840941647,
                    33.23785944382941,
                    27.622759255504647,
                    13.578900566865595,
                    -0.29588210137012827,
                    -5.509599087833545,
                    20.7660869621974,
                    2.864834578960563,
                    -4.324488532741019,
                    8.520066414233519,
                    -4.511422173144962,
                    30.06758733409214,
                    28.98242645554321,
                    -10.299842282851197,
                    35.64898106172865,
                    13.035956342156577,
                    12.307180046240632,
                    9.47375292611016,
                    -11.829703601285148,
                    -2.6040492370325254,
                    -3.8161195069739793,
                    4.428821316834494,
                    -20.928545256736836,
                    13.493104580662953,
                    6.622567177275373,
                    24.47374332165206,
                    -5.0178706621335865,
                    12.394321788360614,
                    7.158190154989801,
                    -9.12034614014178,
                    7.264476334189855,
                    24.837715793606744,
                    1.5134424975672713,
                    32.829574271568156,
                    -8.668810930611667,
                    18.097972759557063,
                    19.11606864075254,
                    -5.0911010990756385,
                    1.1286741461824739,
                    10.872820861385756,
                    26.559876004938626,
                    36.91834404053239,
                    17.509302483153412,
                    -8.208804075271345,
                    24.774211580975297,
                    1.4090040590859805,
                    37.31751575173379,
                    -18.489450769004407,
                    -0.29281194379471653,
                    15.183899717108435,
                    -25.540030907250884,
                    5.5235871610544764,
                    -1.68192846116038,
                    14.740458402039891,
                    -6.893733313724329,
                    -2.0179532194898253,
                    21.66277627680745,
                    16.405252072097685,
                    2.6631425258313874,
                    25.10246439674274,
                    -0.8676155792188281,
                    21.174588768106798,
                    4.466134165251795,
                    10.295236358956057,
                    -0.9125428497828407,
                    33.24128432685225,
                    27.959436925754677,
                    18.53820176636163,
                    0.8760294371505961,
                    3.1196525555454833,
                    -2.4382338298599957,
                    30.60094592510509,
                    -11.852930257355979,
                    3.877423923709905,
                    16.716892632207113,
                    4.873623103449568,
                    15.387982317378102,
                    4.595656316703197,
                    -23.144354072625138,
                    18.525324162080782,
                    22.1359501277753,
                    13.829520681390374,
                    -7.467103647556467,
                    -0.45786775468860497,
                    9.790312978545657,
                    4.034759329181682,
                    5.700688323461666,
                    10.365503735896604,
                    28.99683404186316,
                    -17.413798134218098,
                    21.69100871201667,
                    18.027636719831072,
                    12.65737256092754,
                    24.060798973460095,
                    4.417379836151317,
                    -3.503819319467189,
                    10.306299901381603,
                    6.0168019067942,
                    16.21622394229287,
                    7.447677308315251,
                    3.1500963954832275,
                    -7.212687681970392,
                    30.345282447904417,
                    -12.704187699953636,
                    4.399699746619881,
                    -3.251126014957887,
                    20.887854895261576,
                    0.448105236661763,
                    14.500404650816979,
                    5.2514480951951334,
                    -8.194486582430939,
                    -30.792940772868082,
                    23.422599886481535,
                    8.292041088916354,
                    10.244670454627949,
                    27.963354406642594,
                    8.931273060379537,
                    -3.9219261938308168,
                    6.602524185848764,
                    20.748033518393022,
                    0.12947627143880858,
                    18.149134419721022,
                    13.485119203248699,
                    6.576234659837382,
                    2.8835625966295657,
                    -9.515034656019273,
                    26.93612975701989,
                    7.896137009320313,
                    2.7474710168693672,
                    31.439133472820266,
                    4.7759771964976645,
                    36.38115927420668,
                    -15.018440359988336,
                    -6.588174439126044,
                    -13.23760847706408,
                    26.573706873127772,
                    -0.1395987702888597,
                    -2.8794211417735722,
                    3.7536205348265774,
                    -0.26516231234886445,
                    17.31954847054929,
                    21.966681074624518,
                    5.433310753284157,
                    11.062753411416562,
                    -3.6805877945176295,
                    -14.409796385878728,
                    11.286315225740385,
                    -40.44388305653044,
                    6.333492513213804,
                    -9.572684435425773,
                    -6.452805386264641,
                    2.246008904362971,
                    35.62709111443021,
                    14.486370887968281,
                    40.342390234708084,
                    13.811727256992016,
                    20.487420881873376,
                    -10.787906614048868,
                    55.29913661887433,
                    17.040886465834177,
                    18.866084402184306,
                    8.308149921732262,
                    18.280924316500826,
                    -1.1649357494014234,
                    -27.665276060559876,
                    3.8510030133425457,
                    16.02700520063816,
                    -5.002979698607064,
                    6.409004336902874,
                    50.27701316252575,
                    -10.112042181816703,
                    13.855780689107519,
                    3.0532080538284285,
                    33.895752931644545
                  ]
                },
                {
                  "colorscale": [
                    [
                      0,
                      "rgb(255,245,240)"
                    ],
                    [
                      0.125,
                      "rgb(254,224,210)"
                    ],
                    [
                      0.25,
                      "rgb(252,187,161)"
                    ],
                    [
                      0.375,
                      "rgb(252,146,114)"
                    ],
                    [
                      0.5,
                      "rgb(251,106,74)"
                    ],
                    [
                      0.625,
                      "rgb(239,59,44)"
                    ],
                    [
                      0.75,
                      "rgb(203,24,29)"
                    ],
                    [
                      0.875,
                      "rgb(165,15,21)"
                    ],
                    [
                      1,
                      "rgb(103,0,13)"
                    ]
                  ],
                  "opacity": 0.5,
                  "type": "surface",
                  "x": [
                    [
                      -9.71544280020693,
                      21.579418172130566
                    ],
                    [
                      -9.71544280020693,
                      21.579418172130566
                    ]
                  ],
                  "y": [
                    [
                      -10.729793503854463,
                      -10.729793503854463
                    ],
                    [
                      19.073150684464604,
                      19.073150684464604
                    ]
                  ],
                  "z": [
                    [
                      -2.6043529816476365,
                      91.10573704151068
                    ],
                    [
                      -62.1744114697838,
                      31.53567855337451
                    ]
                  ]
                }
              ],
              "layout": {
                "scene": {
                  "domain": {
                    "x": [
                      0,
                      1
                    ],
                    "y": [
                      0,
                      1
                    ]
                  },
                  "xaxis": {
                    "title": {
                      "text": "X"
                    }
                  },
                  "yaxis": {
                    "title": {
                      "text": "Y"
                    }
                  },
                  "zaxis": {
                    "title": {
                      "text": "Z"
                    }
                  }
                },
                "template": {
                  "data": {
                    "bar": [
                      {
                        "error_x": {
                          "color": "#2a3f5f"
                        },
                        "error_y": {
                          "color": "#2a3f5f"
                        },
                        "marker": {
                          "line": {
                            "color": "#E5ECF6",
                            "width": 0.5
                          },
                          "pattern": {
                            "fillmode": "overlay",
                            "size": 10,
                            "solidity": 0.2
                          }
                        },
                        "type": "bar"
                      }
                    ],
                    "barpolar": [
                      {
                        "marker": {
                          "line": {
                            "color": "#E5ECF6",
                            "width": 0.5
                          },
                          "pattern": {
                            "fillmode": "overlay",
                            "size": 10,
                            "solidity": 0.2
                          }
                        },
                        "type": "barpolar"
                      }
                    ],
                    "carpet": [
                      {
                        "aaxis": {
                          "endlinecolor": "#2a3f5f",
                          "gridcolor": "white",
                          "linecolor": "white",
                          "minorgridcolor": "white",
                          "startlinecolor": "#2a3f5f"
                        },
                        "baxis": {
                          "endlinecolor": "#2a3f5f",
                          "gridcolor": "white",
                          "linecolor": "white",
                          "minorgridcolor": "white",
                          "startlinecolor": "#2a3f5f"
                        },
                        "type": "carpet"
                      }
                    ],
                    "choropleth": [
                      {
                        "colorbar": {
                          "outlinewidth": 0,
                          "ticks": ""
                        },
                        "type": "choropleth"
                      }
                    ],
                    "contour": [
                      {
                        "colorbar": {
                          "outlinewidth": 0,
                          "ticks": ""
                        },
                        "colorscale": [
                          [
                            0,
                            "#0d0887"
                          ],
                          [
                            0.1111111111111111,
                            "#46039f"
                          ],
                          [
                            0.2222222222222222,
                            "#7201a8"
                          ],
                          [
                            0.3333333333333333,
                            "#9c179e"
                          ],
                          [
                            0.4444444444444444,
                            "#bd3786"
                          ],
                          [
                            0.5555555555555556,
                            "#d8576b"
                          ],
                          [
                            0.6666666666666666,
                            "#ed7953"
                          ],
                          [
                            0.7777777777777778,
                            "#fb9f3a"
                          ],
                          [
                            0.8888888888888888,
                            "#fdca26"
                          ],
                          [
                            1,
                            "#f0f921"
                          ]
                        ],
                        "type": "contour"
                      }
                    ],
                    "contourcarpet": [
                      {
                        "colorbar": {
                          "outlinewidth": 0,
                          "ticks": ""
                        },
                        "type": "contourcarpet"
                      }
                    ],
                    "heatmap": [
                      {
                        "colorbar": {
                          "outlinewidth": 0,
                          "ticks": ""
                        },
                        "colorscale": [
                          [
                            0,
                            "#0d0887"
                          ],
                          [
                            0.1111111111111111,
                            "#46039f"
                          ],
                          [
                            0.2222222222222222,
                            "#7201a8"
                          ],
                          [
                            0.3333333333333333,
                            "#9c179e"
                          ],
                          [
                            0.4444444444444444,
                            "#bd3786"
                          ],
                          [
                            0.5555555555555556,
                            "#d8576b"
                          ],
                          [
                            0.6666666666666666,
                            "#ed7953"
                          ],
                          [
                            0.7777777777777778,
                            "#fb9f3a"
                          ],
                          [
                            0.8888888888888888,
                            "#fdca26"
                          ],
                          [
                            1,
                            "#f0f921"
                          ]
                        ],
                        "type": "heatmap"
                      }
                    ],
                    "heatmapgl": [
                      {
                        "colorbar": {
                          "outlinewidth": 0,
                          "ticks": ""
                        },
                        "colorscale": [
                          [
                            0,
                            "#0d0887"
                          ],
                          [
                            0.1111111111111111,
                            "#46039f"
                          ],
                          [
                            0.2222222222222222,
                            "#7201a8"
                          ],
                          [
                            0.3333333333333333,
                            "#9c179e"
                          ],
                          [
                            0.4444444444444444,
                            "#bd3786"
                          ],
                          [
                            0.5555555555555556,
                            "#d8576b"
                          ],
                          [
                            0.6666666666666666,
                            "#ed7953"
                          ],
                          [
                            0.7777777777777778,
                            "#fb9f3a"
                          ],
                          [
                            0.8888888888888888,
                            "#fdca26"
                          ],
                          [
                            1,
                            "#f0f921"
                          ]
                        ],
                        "type": "heatmapgl"
                      }
                    ],
                    "histogram": [
                      {
                        "marker": {
                          "pattern": {
                            "fillmode": "overlay",
                            "size": 10,
                            "solidity": 0.2
                          }
                        },
                        "type": "histogram"
                      }
                    ],
                    "histogram2d": [
                      {
                        "colorbar": {
                          "outlinewidth": 0,
                          "ticks": ""
                        },
                        "colorscale": [
                          [
                            0,
                            "#0d0887"
                          ],
                          [
                            0.1111111111111111,
                            "#46039f"
                          ],
                          [
                            0.2222222222222222,
                            "#7201a8"
                          ],
                          [
                            0.3333333333333333,
                            "#9c179e"
                          ],
                          [
                            0.4444444444444444,
                            "#bd3786"
                          ],
                          [
                            0.5555555555555556,
                            "#d8576b"
                          ],
                          [
                            0.6666666666666666,
                            "#ed7953"
                          ],
                          [
                            0.7777777777777778,
                            "#fb9f3a"
                          ],
                          [
                            0.8888888888888888,
                            "#fdca26"
                          ],
                          [
                            1,
                            "#f0f921"
                          ]
                        ],
                        "type": "histogram2d"
                      }
                    ],
                    "histogram2dcontour": [
                      {
                        "colorbar": {
                          "outlinewidth": 0,
                          "ticks": ""
                        },
                        "colorscale": [
                          [
                            0,
                            "#0d0887"
                          ],
                          [
                            0.1111111111111111,
                            "#46039f"
                          ],
                          [
                            0.2222222222222222,
                            "#7201a8"
                          ],
                          [
                            0.3333333333333333,
                            "#9c179e"
                          ],
                          [
                            0.4444444444444444,
                            "#bd3786"
                          ],
                          [
                            0.5555555555555556,
                            "#d8576b"
                          ],
                          [
                            0.6666666666666666,
                            "#ed7953"
                          ],
                          [
                            0.7777777777777778,
                            "#fb9f3a"
                          ],
                          [
                            0.8888888888888888,
                            "#fdca26"
                          ],
                          [
                            1,
                            "#f0f921"
                          ]
                        ],
                        "type": "histogram2dcontour"
                      }
                    ],
                    "mesh3d": [
                      {
                        "colorbar": {
                          "outlinewidth": 0,
                          "ticks": ""
                        },
                        "type": "mesh3d"
                      }
                    ],
                    "parcoords": [
                      {
                        "line": {
                          "colorbar": {
                            "outlinewidth": 0,
                            "ticks": ""
                          }
                        },
                        "type": "parcoords"
                      }
                    ],
                    "pie": [
                      {
                        "automargin": true,
                        "type": "pie"
                      }
                    ],
                    "scatter": [
                      {
                        "fillpattern": {
                          "fillmode": "overlay",
                          "size": 10,
                          "solidity": 0.2
                        },
                        "type": "scatter"
                      }
                    ],
                    "scatter3d": [
                      {
                        "line": {
                          "colorbar": {
                            "outlinewidth": 0,
                            "ticks": ""
                          }
                        },
                        "marker": {
                          "colorbar": {
                            "outlinewidth": 0,
                            "ticks": ""
                          }
                        },
                        "type": "scatter3d"
                      }
                    ],
                    "scattercarpet": [
                      {
                        "marker": {
                          "colorbar": {
                            "outlinewidth": 0,
                            "ticks": ""
                          }
                        },
                        "type": "scattercarpet"
                      }
                    ],
                    "scattergeo": [
                      {
                        "marker": {
                          "colorbar": {
                            "outlinewidth": 0,
                            "ticks": ""
                          }
                        },
                        "type": "scattergeo"
                      }
                    ],
                    "scattergl": [
                      {
                        "marker": {
                          "colorbar": {
                            "outlinewidth": 0,
                            "ticks": ""
                          }
                        },
                        "type": "scattergl"
                      }
                    ],
                    "scattermapbox": [
                      {
                        "marker": {
                          "colorbar": {
                            "outlinewidth": 0,
                            "ticks": ""
                          }
                        },
                        "type": "scattermapbox"
                      }
                    ],
                    "scatterpolar": [
                      {
                        "marker": {
                          "colorbar": {
                            "outlinewidth": 0,
                            "ticks": ""
                          }
                        },
                        "type": "scatterpolar"
                      }
                    ],
                    "scatterpolargl": [
                      {
                        "marker": {
                          "colorbar": {
                            "outlinewidth": 0,
                            "ticks": ""
                          }
                        },
                        "type": "scatterpolargl"
                      }
                    ],
                    "scatterternary": [
                      {
                        "marker": {
                          "colorbar": {
                            "outlinewidth": 0,
                            "ticks": ""
                          }
                        },
                        "type": "scatterternary"
                      }
                    ],
                    "surface": [
                      {
                        "colorbar": {
                          "outlinewidth": 0,
                          "ticks": ""
                        },
                        "colorscale": [
                          [
                            0,
                            "#0d0887"
                          ],
                          [
                            0.1111111111111111,
                            "#46039f"
                          ],
                          [
                            0.2222222222222222,
                            "#7201a8"
                          ],
                          [
                            0.3333333333333333,
                            "#9c179e"
                          ],
                          [
                            0.4444444444444444,
                            "#bd3786"
                          ],
                          [
                            0.5555555555555556,
                            "#d8576b"
                          ],
                          [
                            0.6666666666666666,
                            "#ed7953"
                          ],
                          [
                            0.7777777777777778,
                            "#fb9f3a"
                          ],
                          [
                            0.8888888888888888,
                            "#fdca26"
                          ],
                          [
                            1,
                            "#f0f921"
                          ]
                        ],
                        "type": "surface"
                      }
                    ],
                    "table": [
                      {
                        "cells": {
                          "fill": {
                            "color": "#EBF0F8"
                          },
                          "line": {
                            "color": "white"
                          }
                        },
                        "header": {
                          "fill": {
                            "color": "#C8D4E3"
                          },
                          "line": {
                            "color": "white"
                          }
                        },
                        "type": "table"
                      }
                    ]
                  },
                  "layout": {
                    "annotationdefaults": {
                      "arrowcolor": "#2a3f5f",
                      "arrowhead": 0,
                      "arrowwidth": 1
                    },
                    "autotypenumbers": "strict",
                    "coloraxis": {
                      "colorbar": {
                        "outlinewidth": 0,
                        "ticks": ""
                      }
                    },
                    "colorscale": {
                      "diverging": [
                        [
                          0,
                          "#8e0152"
                        ],
                        [
                          0.1,
                          "#c51b7d"
                        ],
                        [
                          0.2,
                          "#de77ae"
                        ],
                        [
                          0.3,
                          "#f1b6da"
                        ],
                        [
                          0.4,
                          "#fde0ef"
                        ],
                        [
                          0.5,
                          "#f7f7f7"
                        ],
                        [
                          0.6,
                          "#e6f5d0"
                        ],
                        [
                          0.7,
                          "#b8e186"
                        ],
                        [
                          0.8,
                          "#7fbc41"
                        ],
                        [
                          0.9,
                          "#4d9221"
                        ],
                        [
                          1,
                          "#276419"
                        ]
                      ],
                      "sequential": [
                        [
                          0,
                          "#0d0887"
                        ],
                        [
                          0.1111111111111111,
                          "#46039f"
                        ],
                        [
                          0.2222222222222222,
                          "#7201a8"
                        ],
                        [
                          0.3333333333333333,
                          "#9c179e"
                        ],
                        [
                          0.4444444444444444,
                          "#bd3786"
                        ],
                        [
                          0.5555555555555556,
                          "#d8576b"
                        ],
                        [
                          0.6666666666666666,
                          "#ed7953"
                        ],
                        [
                          0.7777777777777778,
                          "#fb9f3a"
                        ],
                        [
                          0.8888888888888888,
                          "#fdca26"
                        ],
                        [
                          1,
                          "#f0f921"
                        ]
                      ],
                      "sequentialminus": [
                        [
                          0,
                          "#0d0887"
                        ],
                        [
                          0.1111111111111111,
                          "#46039f"
                        ],
                        [
                          0.2222222222222222,
                          "#7201a8"
                        ],
                        [
                          0.3333333333333333,
                          "#9c179e"
                        ],
                        [
                          0.4444444444444444,
                          "#bd3786"
                        ],
                        [
                          0.5555555555555556,
                          "#d8576b"
                        ],
                        [
                          0.6666666666666666,
                          "#ed7953"
                        ],
                        [
                          0.7777777777777778,
                          "#fb9f3a"
                        ],
                        [
                          0.8888888888888888,
                          "#fdca26"
                        ],
                        [
                          1,
                          "#f0f921"
                        ]
                      ]
                    },
                    "colorway": [
                      "#636efa",
                      "#EF553B",
                      "#00cc96",
                      "#ab63fa",
                      "#FFA15A",
                      "#19d3f3",
                      "#FF6692",
                      "#B6E880",
                      "#FF97FF",
                      "#FECB52"
                    ],
                    "font": {
                      "color": "#2a3f5f"
                    },
                    "geo": {
                      "bgcolor": "white",
                      "lakecolor": "white",
                      "landcolor": "#E5ECF6",
                      "showlakes": true,
                      "showland": true,
                      "subunitcolor": "white"
                    },
                    "hoverlabel": {
                      "align": "left"
                    },
                    "hovermode": "closest",
                    "mapbox": {
                      "style": "light"
                    },
                    "paper_bgcolor": "white",
                    "plot_bgcolor": "#E5ECF6",
                    "polar": {
                      "angularaxis": {
                        "gridcolor": "white",
                        "linecolor": "white",
                        "ticks": ""
                      },
                      "bgcolor": "#E5ECF6",
                      "radialaxis": {
                        "gridcolor": "white",
                        "linecolor": "white",
                        "ticks": ""
                      }
                    },
                    "scene": {
                      "xaxis": {
                        "backgroundcolor": "#E5ECF6",
                        "gridcolor": "white",
                        "gridwidth": 2,
                        "linecolor": "white",
                        "showbackground": true,
                        "ticks": "",
                        "zerolinecolor": "white"
                      },
                      "yaxis": {
                        "backgroundcolor": "#E5ECF6",
                        "gridcolor": "white",
                        "gridwidth": 2,
                        "linecolor": "white",
                        "showbackground": true,
                        "ticks": "",
                        "zerolinecolor": "white"
                      },
                      "zaxis": {
                        "backgroundcolor": "#E5ECF6",
                        "gridcolor": "white",
                        "gridwidth": 2,
                        "linecolor": "white",
                        "showbackground": true,
                        "ticks": "",
                        "zerolinecolor": "white"
                      }
                    },
                    "shapedefaults": {
                      "line": {
                        "color": "#2a3f5f"
                      }
                    },
                    "ternary": {
                      "aaxis": {
                        "gridcolor": "white",
                        "linecolor": "white",
                        "ticks": ""
                      },
                      "baxis": {
                        "gridcolor": "white",
                        "linecolor": "white",
                        "ticks": ""
                      },
                      "bgcolor": "#E5ECF6",
                      "caxis": {
                        "gridcolor": "white",
                        "linecolor": "white",
                        "ticks": ""
                      }
                    },
                    "title": {
                      "x": 0.05
                    },
                    "xaxis": {
                      "automargin": true,
                      "gridcolor": "white",
                      "linecolor": "white",
                      "ticks": "",
                      "title": {
                        "standoff": 15
                      },
                      "zerolinecolor": "white",
                      "zerolinewidth": 2
                    },
                    "yaxis": {
                      "automargin": true,
                      "gridcolor": "white",
                      "linecolor": "white",
                      "ticks": "",
                      "title": {
                        "standoff": 15
                      },
                      "zerolinecolor": "white",
                      "zerolinewidth": 2
                    }
                  }
                }
              }
            }
          },
          "metadata": {},
          "output_type": "display_data"
        }
      ],
      "source": [
        "import numpy as np\n",
        "import plotly.graph_objs as go\n",
        "from plotly.subplots import make_subplots\n",
        "\n",
        "\n",
        "XX, YY = np.meshgrid(np.linspace(min(x), max(x), 2), np.linspace(min(y), max(y), 2))\n",
        "ZZ = w0 + w1 * XX + w2 * YY\n",
        "\n",
        "fig = make_subplots(specs=[[{'type': 'surface'}]])\n",
        "\n",
        "scatter = go.Scatter3d(x=x, y=y, z=z, mode='markers', marker=dict(size=2, opacity=0.5))\n",
        "\n",
        "plane = go.Surface(x=XX, y=YY, z=ZZ, colorscale='reds', opacity=0.5)\n",
        "\n",
        "fig.add_trace(scatter)\n",
        "fig.add_trace(plane)\n",
        "\n",
        "fig.update_layout(scene=dict(\n",
        "    xaxis_title='X',\n",
        "    yaxis_title='Y',\n",
        "    zaxis_title='Z'\n",
        "))\n",
        "\n",
        "fig.show()"
      ]
    },
    {
      "cell_type": "markdown",
      "metadata": {
        "id": "MpwAV4mls8bK"
      },
      "source": [
        "### Exercício 2.2 - Prevendo fenômenos periódicos\n",
        "\n",
        "O seguinte [arquivo](https://gitlab.uspdigital.usp.br/thiago/curso-ai-intro-ap/-/raw/main/INMET_SE_SP_A705_BAURU.zip) contém dados do Instituto Nacional de Meterologia sobre precipitação na estação A705 em Bauru, desde 2001.\n",
        "\n",
        "O código a seguir recupera o arquivo e extrai seu conteúdo na pasta ```inmet_bauru```."
      ]
    },
    {
      "cell_type": "code",
      "execution_count": null,
      "metadata": {
        "id": "UJdBPZstZtOz"
      },
      "outputs": [],
      "source": [
        "!wget https://gitlab.uspdigital.usp.br/thiago/curso-ai-intro-ap/-/raw/main/INMET_SE_SP_A705_BAURU.zip -O inmet_bauru.zip\n",
        "!unzip -o inmet_bauru.zip -d inmet_bauru"
      ]
    },
    {
      "cell_type": "markdown",
      "metadata": {
        "id": "axP2LRQSbTcs"
      },
      "source": [
        "Podemos usar o leitor de csv do Python para processar estes arquivos.\n",
        "Note alguns aspectos:\n",
        " * As entradas estão organizadas por *horas*.\n",
        " * O campo ```PRECIPITAÇÃO TOTAL, HORÁRIO (mm)``` contém a precipitação total em milímetros que caiu durante uma hora.\n",
        " * Há uma inconsistência nos campos de data e horas.\n",
        " Alguns arquivos usam o campo ```DATA (YYYY-MM-DD)```, outros usam o campo ```Data``` para designar a data.\n",
        " Do mesmo modo, alguns usam o campo ```HORA (UTC)```, outros usam o campo ```Hora (UTC)```.\n",
        " Em ambos os casos, usa-se o fuso UTC.\n",
        " * Nem todo horário possui dados. Há uma nova inconsistência aqui.\n",
        " Alguns arquivos usam o valor -9999 para indicar uma entrada sem dados.\n",
        " Outros deixam esta entrada em vazio.\n",
        "\n",
        " O código abaixo cuida do processamento destes dados, usando a clase ```datetime```.\n",
        "\n",
        " Ele produz as seguintes variáveis:\n",
        "\n",
        " * ```data_inicial```. Um objeto ```datetime``` que marca um momento de referência (aqui, arbitrariamente definido como as zero horas do dia 1/1/2001.\n",
        "\n",
        " * ```datas```. Um vetor com objetos ```datetime``` que contém *todas* as horas contempladas pelo arquivo, inclusive as que não têm dados válidos de precipitação.\n",
        "\n",
        "  * ```datas_validas```. Um vetor com objetos ```datetime``` que contém *todas* as horas que contém dados válidos de precipitação.\n",
        "\n",
        " *```horas_validas```. Um vetor de inteiros correspondentes às horas que contém dados de precipitação. As horas são definidas como a quantidade de horas passadas entre o momento em que elas ocorreram e  ```data_inicial```.\n",
        "\n",
        " *```preps```. Um vetor de floats com os dados de precipitação em mm correspondentes às ```datas_validas```."
      ]
    },
    {
      "cell_type": "code",
      "execution_count": 5,
      "metadata": {
        "id": "pT7OjjeE0oEo"
      },
      "outputs": [
        {
          "name": "stdout",
          "output_type": "stream",
          "text": [
            "inmet_bauru\\INMET_SE_SP_A705_BAURU_30-08-2001_A_31-12-2001.CSV\n",
            "inmet_bauru\\INMET_SE_SP_A705_BAURU_01-01-2002_A_31-12-2002.CSV\n",
            "inmet_bauru\\INMET_SE_SP_A705_BAURU_01-01-2003_A_31-12-2003.CSV\n",
            "inmet_bauru\\INMET_SE_SP_A705_BAURU_01-01-2004_A_31-12-2004.CSV\n",
            "inmet_bauru\\INMET_SE_SP_A705_BAURU_01-01-2005_A_31-12-2005.CSV\n",
            "inmet_bauru\\INMET_SE_SP_A705_BAURU_01-01-2006_A_31-12-2006.CSV\n",
            "inmet_bauru\\INMET_SE_SP_A705_BAURU_01-01-2007_A_31-12-2007.CSV\n",
            "inmet_bauru\\INMET_SE_SP_A705_BAURU_01-01-2008_A_31-12-2008.CSV\n",
            "inmet_bauru\\INMET_SE_SP_A705_BAURU_01-01-2009_A_31-12-2009.CSV\n",
            "inmet_bauru\\INMET_SE_SP_A705_BAURU_01-01-2010_A_31-12-2010.CSV\n",
            "inmet_bauru\\INMET_SE_SP_A705_BAURU_01-01-2011_A_31-12-2011.CSV\n",
            "inmet_bauru\\INMET_SE_SP_A705_BAURU_01-01-2012_A_31-12-2012.CSV\n",
            "inmet_bauru\\INMET_SE_SP_A705_BAURU_01-01-2013_A_31-12-2013.CSV\n",
            "inmet_bauru\\INMET_SE_SP_A705_BAURU_01-01-2014_A_31-12-2014.CSV\n",
            "inmet_bauru\\INMET_SE_SP_A705_BAURU_01-01-2015_A_31-12-2015.CSV\n",
            "inmet_bauru\\INMET_SE_SP_A705_BAURU_01-01-2016_A_31-12-2016.CSV\n",
            "inmet_bauru\\INMET_SE_SP_A705_BAURU_01-01-2017_A_31-12-2017.CSV\n",
            "inmet_bauru\\INMET_SE_SP_A705_BAURU_01-01-2018_A_31-12-2018.CSV\n",
            "inmet_bauru\\INMET_SE_SP_A705_BAURU_01-01-2019_A_31-12-2019.CSV\n",
            "inmet_bauru\\INMET_SE_SP_A705_BAURU_01-01-2020_A_31-12-2020.CSV\n",
            "inmet_bauru\\INMET_SE_SP_A705_BAURU_01-01-2021_A_31-12-2021.CSV\n",
            "inmet_bauru\\INMET_SE_SP_A705_BAURU_01-01-2022_A_31-12-2022.CSV\n",
            "inmet_bauru\\INMET_SE_SP_A705_BAURU_01-01-2023_A_31-12-2023.CSV\n"
          ]
        }
      ],
      "source": [
        "import csv\n",
        "import datetime\n",
        "import pathlib\n",
        "\n",
        "# Data referência: 0 horas do dia 1/1/2001\n",
        "data_inicial =  datetime.datetime.strptime(\"00:00 2001-01-01\", \"%H:%M %Y-%m-%d\").replace(tzinfo=datetime.timezone.utc)\n",
        "\n",
        "horas_validas = []\n",
        "datas_validas = []\n",
        "preps = []\n",
        "datas = []\n",
        "dados_presentes = []\n",
        "arquivos = sorted(pathlib.Path(\"inmet_bauru\").glob(\"INMET_SE_SP_A705_BAURU_*_A_31-12-*.CSV\"), key=lambda path:path.name[-8:-4])\n",
        "for f in arquivos:\n",
        "    print(f)\n",
        "    with open(f, encoding=\"iso-8859-1\") as arquivo:\n",
        "        # Pula 8 linhas\n",
        "        for i in range(8):\n",
        "            arquivo.readline()\n",
        "        dr = csv.DictReader(arquivo, delimiter=\";\")\n",
        "        campo_data = 'DATA (YYYY-MM-DD)'\n",
        "        if campo_data not in dr.fieldnames:\n",
        "            campo_data = 'Data'\n",
        "        campo_hora = 'HORA (UTC)'\n",
        "        if campo_hora not in dr.fieldnames:\n",
        "            campo_hora = 'Hora UTC'\n",
        "        for row in dr:\n",
        "            dados_validos = 0\n",
        "            try:\n",
        "                data = datetime.datetime.strptime(row[campo_data] + \" \" + row[campo_hora], \"%Y-%m-%d %H:%M\").replace(tzinfo=datetime.timezone.utc)\n",
        "            except ValueError:\n",
        "                data = datetime.datetime.strptime(row[campo_data] + \" \" + row[campo_hora], \"%Y/%m/%d %H%M %Z\").replace(tzinfo=datetime.timezone.utc)\n",
        "            datas.append(data)\n",
        "            delta = data - data_inicial\n",
        "            try:\n",
        "                prep = float(row['PRECIPITAÇÃO TOTAL, HORÁRIO (mm)'].replace(\",\",\".\"))\n",
        "                if prep>=0:\n",
        "                    datas_validas.append(data)\n",
        "                    horas_validas.append(int(24*delta.days + delta.seconds/3600))\n",
        "                    preps.append(prep)\n",
        "                    dados_validos = 1\n",
        "            except ValueError:\n",
        "                pass\n",
        "            dados_presentes.append(dados_validos)\n",
        "datas_validas = np.array(datas_validas)\n",
        "horas_validas = np.array(horas_validas)\n",
        "preps = np.array(preps)\n",
        "dados_presentes = np.array(dados_presentes)"
      ]
    },
    {
      "cell_type": "markdown",
      "metadata": {
        "id": "1mpJNQDZeRhU"
      },
      "source": [
        "Observa-se que há muitos dados faltantes.\n",
        "A plotagem a seguir indica os momentos para os quais há dados.\n",
        "Note em particular a grande lacuna no início de 2004."
      ]
    },
    {
      "cell_type": "code",
      "execution_count": 21,
      "metadata": {
        "id": "StxWQ2oveXwN"
      },
      "outputs": [
        {
          "data": {
            "text/plain": [
              "<matplotlib.collections.PolyCollection at 0x22b5084e9b0>"
            ]
          },
          "execution_count": 21,
          "metadata": {},
          "output_type": "execute_result"
        },
        {
          "data": {
            "image/png": "[encoded data removed]",
            "text/plain": [
              "<Figure size 432x288 with 1 Axes>"
            ]
          },
          "metadata": {
            "needs_background": "light"
          },
          "output_type": "display_data"
        }
      ],
      "source": [
        "plt.fill_between(datas,dados_presentes,0)"
      ]
    },
    {
      "cell_type": "markdown",
      "metadata": {
        "id": "wpsJU6F4eLcZ"
      },
      "source": [
        "Podemos visualizar os dados de precipitação:"
      ]
    },
    {
      "cell_type": "code",
      "execution_count": 22,
      "metadata": {
        "id": "sDOVYufweOHw"
      },
      "outputs": [
        {
          "data": {
            "text/plain": [
              "[<matplotlib.lines.Line2D at 0x22b508b2d40>]"
            ]
          },
          "execution_count": 22,
          "metadata": {},
          "output_type": "execute_result"
        },
        {
          "data": {
            "image/png": "[encoded data removed]",
            "text/plain": [
              "<Figure size 432x288 with 1 Axes>"
            ]
          },
          "metadata": {
            "needs_background": "light"
          },
          "output_type": "display_data"
        }
      ],
      "source": [
        "plt.plot(datas_validas,preps)"
      ]
    },
    {
      "cell_type": "markdown",
      "metadata": {
        "id": "J3QMBzqDptkt"
      },
      "source": [
        "Apesar de todo o ruído, observa-se no gráfico um fenômeno semi-periódico, que parece se repetir todo ano.\n",
        "Isso é natural, dada a forte influência das estações do ano no regime pluviométrico.\n",
        "\n",
        "Podemos identificar as componentes periódicas de uma série temporal usando uma regressão multi-linear com séries harmônicas.\n",
        "\n",
        "De fato, se uma variável $y(t)$ possui uma componente periódica de período $T$, podemos aproximá-la pela série:\n",
        "\n",
        "$\\bar{y} + \\sum_{i=1}^n s_i \\sin(2\\pi it/T) + c_i \\cos(2\\pi it/T)$\n",
        "\n",
        "onde $\\bar{y}$ é o valor médio da variável e $s_i$ e $c_i$, com $i$ de $1$ até $n$, são os coeficientes das funções seno e cosseno em diferentes subharmônicas do período principal $T$.\n",
        "\n",
        "Estes coeficientes, mesmo em cenários de dados incompletos, podem ser obtidos por regressão multilinear.\n",
        "\n",
        "Vamos fazê-lo para os dados de precipitação com 6 harmônicos.\n",
        "\n",
        "Para tanto,\n",
        "\n",
        "a) Monte a matriz de variáveis explicativas:\n",
        "\n",
        "Considere que um ano *solar* tem aproximadamente 365 dias e 6 horas, ou seja, 8766 horas.\n",
        "Este será o período base.\n",
        "\n",
        "Vamos criar duas matrizes, a matriz ```senos``` com os senos e a matriz ```cossenos``` com os cossenos.\n",
        "\n",
        "A matriz dos senos deve ter 6 colunas. Na sua $j$-ésima coluna os senos do vetor ```horas_validas``` multiplicado por $j+1$ (ou seja, começando em 1 e terminando em 6) e dividido por $2\\pi/8766$.\n",
        "\n",
        "A matriz dos cossenos deve ser equivalente, mas com a função cosseno.\n",
        "\n",
        "Monte a matriz completa de variáveis explicativas ```senos_cossenos```  com o comando  ```senos_cossenos = np.concat([senos, cossenos], axis=1)```\n",
        "\n",
        "Verifique que a matriz ```senos_cossenos``` tem 12 colunas e tantas linhas quanto as entradas no vetor ```preps```.\n"
      ]
    },
    {
      "cell_type": "code",
      "execution_count": 9,
      "metadata": {
        "id": "Zj6Lw2Q48uKv"
      },
      "outputs": [
        {
          "name": "stdout",
          "output_type": "stream",
          "text": [
            "(173176, 12)\n"
          ]
        }
      ],
      "source": [
        "import numpy as np\n",
        "import matplotlib.pyplot as plt\n",
        "\n",
        "period_base = 8766\n",
        "\n",
        "num_harmonics = 6\n",
        "senos = np.zeros((len(horas_validas), num_harmonics))\n",
        "cossenos = np.zeros((len(horas_validas), num_harmonics))\n",
        "\n",
        "for j in range(num_harmonics):\n",
        "    senos[:, j] = np.sin((horas_validas * (j + 1) * 2 * np.pi) / period_base)\n",
        "    cossenos[:, j] = np.cos((horas_validas * (j + 1) * 2 * np.pi) / period_base)\n",
        "\n",
        "senos_cossenos = np.concatenate([senos, cossenos], axis=1)\n",
        "\n",
        "print(senos_cossenos.shape)\n"
      ]
    },
    {
      "cell_type": "markdown",
      "metadata": {
        "id": "pk1d7FNduMM6"
      },
      "source": [
        "b) Usando a classe ```LinearRegression```, faça a regressão linear do vetor ```preps``` usando esta variável explicativa.\n",
        "\n",
        "Mostre o comportamento anualizado.\n",
        "Para isso, monte um vetor explicativo que abrange apenas o período de um ano (repetindo o processo do item a), mas agora, no lugar de ```horas_validas```, use ```np.arange(0,8766)```.\n",
        "`\n",
        "Usando o método ```predict```do seu modelo, crie um vetor de precipitação prevista.\n",
        "Note que este vetor tem 8766 entradas, uma para cada hora de um ano.\n",
        "\n",
        "Plote este vetor com o método ```plt.plot```.\n",
        "Determine o momento de máxima precipitação."
      ]
    },
    {
      "cell_type": "code",
      "execution_count": 10,
      "metadata": {
        "id": "UK1XvKIgwHWO"
      },
      "outputs": [
        {
          "data": {
            "image/png": "[encoded data removed]",
            "text/plain": [
              "<Figure size 432x288 with 1 Axes>"
            ]
          },
          "metadata": {
            "needs_background": "light"
          },
          "output_type": "display_data"
        },
        {
          "name": "stdout",
          "output_type": "stream",
          "text": [
            "Momento de máxima precipitação: 343 horas\n"
          ]
        }
      ],
      "source": [
        "from sklearn.linear_model import LinearRegression\n",
        "\n",
        "senos_cossenos = np.concatenate([senos, cossenos], axis=1)\n",
        "\n",
        "model = LinearRegression()\n",
        "model.fit(senos_cossenos, preps)\n",
        "\n",
        "horas_ano = np.arange(0, 8766)\n",
        "senos_ano = np.zeros((len(horas_ano), num_harmonics))\n",
        "cossenos_ano = np.zeros((len(horas_ano), num_harmonics))\n",
        "\n",
        "for j in range(num_harmonics):\n",
        "    senos_ano[:, j] = np.sin((horas_ano * (j + 1) * 2 * np.pi) / period_base)\n",
        "    cossenos_ano[:, j] = np.cos((horas_ano * (j + 1) * 2 * np.pi) / period_base)\n",
        "\n",
        "senos_cossenos_ano = np.concatenate([senos_ano, cossenos_ano], axis=1)\n",
        "\n",
        "preps_pred = model.predict(senos_cossenos_ano)\n",
        "\n",
        "plt.plot(horas_ano, preps_pred)\n",
        "plt.xlabel('Horas')\n",
        "plt.ylabel('Precipitação prevista (mm)')\n",
        "plt.title('Precipitação anual prevista')\n",
        "plt.show()\n",
        "\n",
        "max_precip_time = horas_ano[np.argmax(preps_pred)]\n",
        "print(f\"Momento de máxima precipitação: {max_precip_time} horas\")"
      ]
    },
    {
      "cell_type": "markdown",
      "metadata": {
        "id": "Y8wFRzAlwHzC"
      },
      "source": [
        "c) A precipitação real é um fenômeno abrupto, que se manifesta intensamente por algumas poucas horas e cessa na maior parte do dia.\n",
        "Assim é muito difícil compará-lo com uma linha de tendência que abrange um ano inteiro como no item anterior.\n",
        "\n",
        "Podemos no entanto comparar a precipitação *acumulada* no ano.\n",
        "O ano de 2020 é de particular interesse para esta comparação por que não tem lacunas.\n",
        "\n",
        "O código abaixo usa o método ```cumsum()```, de soma cumulativa de um vetor, para obter a precipitação acumulada em 2020 na variável ```precipitacao_acumulada_2020```:"
      ]
    },
    {
      "cell_type": "code",
      "execution_count": 11,
      "metadata": {
        "id": "-f5WfxgNuvmB"
      },
      "outputs": [
        {
          "data": {
            "text/plain": [
              "[<matplotlib.lines.Line2D at 0x21de859f5b0>]"
            ]
          },
          "execution_count": 11,
          "metadata": {},
          "output_type": "execute_result"
        },
        {
          "data": {
            "image/png": "[encoded data removed]",
            "text/plain": [
              "<Figure size 432x288 with 1 Axes>"
            ]
          },
          "metadata": {
            "needs_background": "light"
          },
          "output_type": "display_data"
        }
      ],
      "source": [
        "data_inicio_acumulado = datetime.datetime.strptime(\"00:00 2020-01-01\", \"%H:%M %Y-%m-%d\").replace(tzinfo=datetime.timezone.utc)\n",
        "delta = data_inicio_acumulado - data_inicial\n",
        "hora_inicio_acumulado = int(24*(delta.days) + (delta.seconds)/3600)\n",
        "indice_inicial = np.where(np.array(horas_validas)==hora_inicio_acumulado)[0][0]\n",
        "precipitacao_acumulada_2020 = preps[indice_inicial:indice_inicial+8766].cumsum()\n",
        "plt.plot(precipitacao_acumulada_2020)"
      ]
    },
    {
      "cell_type": "markdown",
      "metadata": {
        "id": "q9lDEZwMwy8x"
      },
      "source": [
        "Use o método ```cumsum()``` no vetor de precipitação previsto obtido no ítem b) e repita a plotagem anterior, sobrepondo-a agora ao vetor de precipitação acumulada prevista."
      ]
    },
    {
      "cell_type": "code",
      "execution_count": 12,
      "metadata": {
        "id": "N7zRht7Mv9wU"
      },
      "outputs": [
        {
          "data": {
            "image/png": "[encoded data removed]",
            "text/plain": [
              "<Figure size 720x432 with 1 Axes>"
            ]
          },
          "metadata": {
            "needs_background": "light"
          },
          "output_type": "display_data"
        }
      ],
      "source": [
        "senos_cossenos_ano = np.concatenate([senos_ano, cossenos_ano], axis=1)\n",
        "\n",
        "# Preveja a precipitação\n",
        "preps_pred = model.predict(senos_cossenos_ano)\n",
        "\n",
        "data_inicio_acumulado = datetime.datetime.strptime(\"00:00 2020-01-01\", \"%H:%M %Y-%m-%d\").replace(tzinfo=datetime.timezone.utc)\n",
        "delta = data_inicio_acumulado - data_inicial\n",
        "hora_inicio_acumulado = int(24 * delta.days + delta.seconds / 3600)\n",
        "indice_inicial = np.where(horas_validas == hora_inicio_acumulado)[0][0]\n",
        "precipitacao_acumulada_2020 = preps[indice_inicial:indice_inicial + 8766].cumsum()\n",
        "\n",
        "precipitacao_acumulada_pred = preps_pred.cumsum()\n",
        "\n",
        "plt.figure(figsize=(10, 6))\n",
        "plt.plot(precipitacao_acumulada_2020, label='Precipitação Acumulada Observada 2020')\n",
        "plt.plot(precipitacao_acumulada_pred, label='Precipitação Acumulada Prevista')\n",
        "plt.xlabel('Horas')\n",
        "plt.ylabel('Precipitação Acumulada (mm)')\n",
        "plt.title('Precipitação Acumulada Observada vs Prevista')\n",
        "plt.legend()\n",
        "plt.show()"
      ]
    },
    {
      "cell_type": "markdown",
      "metadata": {
        "id": "BxrqEZNJmeka"
      },
      "source": [
        "## Regressão Polinomial\n",
        "\n",
        "Dado $m$ conjuntos de $n$ dados dispostos na matriz $\\mathbf{X} \\in {\\mathbb{R}}^{m\\times n+1}$ rotulados por $\\mathbf{y} \\in {\\mathbb{R}}^m$ já definimos anteriormente que o erro será minimizado quando\n",
        "$$\n",
        "\\newcommand{\\mw}{\\mathbf w}\\mw = (\\newcommand{\\mX}{\\mathbf X} \\mX^T \\mX)^{-1} \\mX^T \\newcommand{\\my}{\\mathbf y} \\my\n",
        "$$\n",
        "\n",
        "Seja agora o caso de uma variável ${\\mathbf y} = \\{y_1, \\ldots, y_{n}\\}$ avaliada nos pontos ${\\mathbf x} = \\{x_1, \\ldots, x_{n}\\}$.\n",
        "\n",
        "Podemos usar a mesma ideia da regressão multi-Linear para aproximar esta variável por um polinômio.\n",
        "\n",
        "De fato, considere que a matriz ${\\mX}$ é uma matriz cujas colunas são as potências dos coeficientes do vetor ${\\mathbf x}$.\n",
        "Então o vetor ${\\mathbf w}$ é o vetor dos coeficientes do polinômio $w_0 + w_1 x + w_2 x^2 + \\ldots + w_m x^m$ que aproxima a variável.\n",
        "\n",
        "Neste caso ${\\mX}_{i,j} = x_i^j$\n",
        "\n"
      ]
    },
    {
      "cell_type": "markdown",
      "metadata": {
        "id": "HSDLXxWgmqmr"
      },
      "source": [
        "### Exercício 3\n",
        "\n",
        "Os dados para o exercício foram gerados artificialmente, com a equação básica dada por,\n",
        "$$\n",
        "y=0.3x^3-20x^2+5x-4\n",
        "$$\n"
      ]
    },
    {
      "cell_type": "code",
      "execution_count": 13,
      "metadata": {
        "colab": {
          "base_uri": "https://localhost:8080/",
          "height": 430
        },
        "id": "5P0Z9qP5mjW9",
        "outputId": "d94e22da-16d3-4e06-e413-afa545ef7840"
      },
      "outputs": [
        {
          "data": {
            "image/png": "[encoded data removed]",
            "text/plain": [
              "<Figure size 432x288 with 1 Axes>"
            ]
          },
          "metadata": {
            "needs_background": "light"
          },
          "output_type": "display_data"
        }
      ],
      "source": [
        "x=np.linspace(-50,150,50)\n",
        "y=0.3*x**3 - 20*x**2 + 5*x - 4 + 5000*np.random.randn(50)\n",
        "plt.scatter(x, y, color=\"black\")\n",
        "plt.show()"
      ]
    },
    {
      "cell_type": "markdown",
      "metadata": {
        "id": "Pbn14ZQsm3jy"
      },
      "source": [
        "Recupere os coeficientes de regressão para polinômios de grau 1, 2 e 3.\n",
        "Para cada um destes, identifique o erro quadrático médio.\n",
        "\n",
        "*Sugestão*: Você pode usar numpy para construir a matriz ${\\mathbf X}$, a matriz ${\\mathbf X}^T{\\mathbf X}$ e o vetor ${\\mathbf X}^T {\\mathbf y}$. Em seguida use ```numpy.linalg.solve``` para resolver o sistema linear.\n",
        "\n",
        "Alternativamente, você pode continuar usando ```LinearModel``` e a` classe ```PolinomialFeatures``` do pacote ```sklearn.preprocessing``` para gerar a base de vetores de variáveis independentes.\n",
        "Para construir um objeto de *features* de grau ```n```, use a sintaxe ```PolinomialFeatures(degree=n)```.\n",
        "O objeto pode ser usado para construir a base de variáveis independentes nos pontos do vetor unidimensional ```x``` com a chamada ao método ```fit_transform(x.reshape(-1,1))```. A matriz de variáveis independentes resultante pode ser usada diretamente por um objeto.\n",
        "\n",
        "O valor do resíduo quadrático médio pode ser calculado diretamente por ```sklearn``` usando a função  ```sklearn.metrics.mena_squared_error```. Se ```y``` contém os valores reais da variável e ```y_previsto``` os valores previstos, então ```mean_squared_error(y, y_previsto)``` retorna o erro quadrático médio."
      ]
    },
    {
      "cell_type": "code",
      "execution_count": 15,
      "metadata": {
        "id": "QCTWJd7rmvjd"
      },
      "outputs": [],
      "source": [
        "import numpy as np\n",
        "import matplotlib.pyplot as plt\n",
        "from sklearn.preprocessing import PolynomialFeatures\n",
        "from sklearn.linear_model import LinearRegression\n",
        "from sklearn.metrics import mean_squared_error\n",
        "\n",
        "def calc_poly_fit_sklearn(x, y, degree):\n",
        "    poly = PolynomialFeatures(degree)\n",
        "    X_poly = poly.fit_transform(x.reshape(-1, 1))\n",
        "    model = LinearRegression().fit(X_poly, y)\n",
        "    y_pred = model.predict(X_poly)\n",
        "    mse = mean_squared_error(y, y_pred)\n",
        "    \n",
        "    plt.scatter(x, y, color='black', label='Dados originais')\n",
        "    plt.plot(x, y_pred, label=f'Polinômio de grau {degree}')\n",
        "    plt.legend()\n",
        "    plt.title(f'Polinômio de grau {degree} - MSE: {mse:.2f}')\n",
        "    plt.show()\n",
        "    \n",
        "    \n",
        "    return model.coef_, mse"
      ]
    },
    {
      "cell_type": "code",
      "execution_count": 16,
      "metadata": {},
      "outputs": [
        {
          "data": {
            "image/png": "[encoded data removed]",
            "text/plain": [
              "<Figure size 432x288 with 1 Axes>"
            ]
          },
          "metadata": {
            "needs_background": "light"
          },
          "output_type": "display_data"
        },
        {
          "name": "stdout",
          "output_type": "stream",
          "text": [
            "Coeficientes para grau 1: [   0.         2139.32111011]\n",
            "MSE para grau 1: 8602224776.902594\n"
          ]
        },
        {
          "data": {
            "image/png": "[encoded data removed]",
            "text/plain": [
              "<Figure size 432x288 with 1 Axes>"
            ]
          },
          "metadata": {
            "needs_background": "light"
          },
          "output_type": "display_data"
        },
        {
          "name": "stdout",
          "output_type": "stream",
          "text": [
            "Coeficientes para grau 2: [   0.         -394.57461339   25.33895723]\n",
            "MSE para grau 2: 2427018467.1910005\n"
          ]
        },
        {
          "data": {
            "image/png": "[encoded data removed]",
            "text/plain": [
              "<Figure size 432x288 with 1 Axes>"
            ]
          },
          "metadata": {
            "needs_background": "light"
          },
          "output_type": "display_data"
        },
        {
          "name": "stdout",
          "output_type": "stream",
          "text": [
            "Coeficientes para grau 3: [  0.          -9.35851887 -20.57716934   0.30610751]\n",
            "MSE para grau 3: 22777473.61083836\n"
          ]
        }
      ],
      "source": [
        "# Grau 1\n",
        "coef_1, mse_1 = calc_poly_fit_sklearn(x, y, 1)\n",
        "print(f\"Coeficientes para grau 1: {coef_1}\")\n",
        "print(f\"MSE para grau 1: {mse_1}\")\n",
        "\n",
        "# Grau 2\n",
        "coef_2, mse_2 = calc_poly_fit_sklearn(x, y, 2)\n",
        "print(f\"Coeficientes para grau 2: {coef_2}\")\n",
        "print(f\"MSE para grau 2: {mse_2}\")\n",
        "\n",
        "# Grau 3\n",
        "coef_3, mse_3 = calc_poly_fit_sklearn(x, y, 3)\n",
        "print(f\"Coeficientes para grau 3: {coef_3}\")\n",
        "print(f\"MSE para grau 3: {mse_3}\")"
      ]
    }
  ],
  "metadata": {
    "colab": {
      "provenance": []
    },
    "kernelspec": {
      "display_name": "Python 3",
      "name": "python3"
    },
    "language_info": {
      "codemirror_mode": {
        "name": "ipython",
        "version": 3
      },
      "file_extension": ".py",
      "mimetype": "text/x-python",
      "name": "python",
      "nbconvert_exporter": "python",
      "pygments_lexer": "ipython3",
      "version": "3.10.11"
    }
  },
  "nbformat": 4,
  "nbformat_minor": 0
}
