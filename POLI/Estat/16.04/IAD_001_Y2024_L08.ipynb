{
  "cells": [
    {
      "cell_type": "markdown",
      "metadata": {
        "id": "w68bvKyGYi6w"
      },
      "source": [
        "# <font face=\"Verdana\" size=6 color='#6495ED'> ANÁLISE ESTATÍSTICA DE DADOS\n",
        "\n",
        "<font face=\"Verdana\" size=3 color='#40E0D0'> Profs. Larissa Driemeier e Arturo Forner-Cordero\n",
        "\n",
        "<center><img src='https://drive.google.com/uc?export=view&id=1CJsooGWXxTqWw0VeGAoroNb509nYKiRK' width=\"800\"></center>\n",
        "\n",
        "Este notebook faz parte da aula [08](https://alunoweb.net/moodle/pluginfile.php/141064/mod_resource/content/3/EST_08_Y2024.pdf) do curso IAD-001.\n",
        "\n"
      ]
    },
    {
      "cell_type": "code",
      "execution_count": 2,
      "metadata": {
        "id": "FQtFTzfPbfWq"
      },
      "outputs": [],
      "source": [
        "# Import libraries\n",
        "import numpy as np\n",
        "import matplotlib.pyplot as plt\n",
        "import seaborn as sns\n",
        "from numpy.core.function_base import linspace\n",
        "from numpy.random import binomial\n",
        "from numpy.random import multinomial\n",
        "from scipy.stats import bernoulli, binom, geom, poisson\n",
        "from scipy.stats import multinomial as multinom\n",
        "colors=['darkblue','darkred','darkolivegreen','darkmagenta']\n",
        "# Magic function to make matplotlib inline; other style specs must come AFTER\n",
        "%matplotlib inline"
      ]
    },
    {
      "cell_type": "markdown",
      "metadata": {
        "id": "l3o2AZXxUmve"
      },
      "source": [
        "# Teorema de Bayes\n",
        "\n",
        "Pode parecer que o teorema de Bayes é algo mágico, quase místico: um pouco de matemática que, de certa forma, avalia as informações disponíveis e fornece as chances de uma determinada situação...\n",
        "\n",
        "Mas esse místico tem mais a ver com sua reputação e aplicações avançadas do que o núcleo real dele - derivá-lo é  notavelmente simples e direto. Fizemos isso em na aula anterior e não custa nada repetirmos aqui ...\n",
        "\n",
        "## Lei da Probabilidade Total\n",
        "\n",
        "Por definição, a probabilidade total de todos os $n$ resultados (eventos) possíveis para uma variável (espaço amostral) $A$ vale:\n",
        "\n",
        "$$P(A) = \\sum_n P(A_n) = 1$$\n",
        "\n",
        "\n",
        "A lei da probabilidade total leva isso adiante. Considerando-se dois espaços amostrais ($A$ e $B$), a lei da probabilidade total e relaciona suas probabilidades marginais (suas probabilidades consideradas independentemente, sem referência uma à outra) com suas probabilidades condicionais (suas probabilidades consideradas em conjunto). Uma probabilidade marginal é simplesmente, p. ex., $P(A)$, enquanto uma probabilidade condicional é $P(B|A)$, que lê-se \"probabilidade de $B$ *dado que* $A$ ocorreu\".\n",
        "\n",
        "A lei da probabilidade total diz que  a probabilidade total de $A$ é igual à soma da probabilidade condicional de $A$ em qualquer evento $B_n$ vezes a probabilidade desse evento $B_n$, para todos os eventos possíveis em $B$ .\n",
        "\n",
        "$$P(A) = \\sum_n P(A | B_n) P(B_n)$$\n",
        "\n",
        "##  Lei da Probabilidade Condicionada\n",
        "\n",
        "Para determinarmos a probabilidade de um evento condicionado à ocorrência de outro, devemos apelar voltar à teoria dos conjuntos e pensar na interseção dos conjuntos:\n",
        "\n",
        "$$P(B|A) = \\frac{P(B \\cap A)}{P(A)}$$\n",
        "\n",
        "Multiplica-se os dois lados da equação acima por $P(A)$, de modo que $P(B|A)P(A) = P(B \\cap A)$. Pode-se repetir o raciocínio para $P(A|B)$ e, portanto,  concluir que $P(A|B)P(B) = P(A \\cap B) = P(B \\cap A)$\n"
      ]
    },
    {
      "cell_type": "markdown",
      "metadata": {
        "id": "VmZAIXFBKNXA"
      },
      "source": [
        "## Teorema\n",
        "\n",
        "A regra de Bayes serve para calcular a probabilidade condicional de $H$: $p(H | E)$ a partir da probabilidade condicional de ${p(E|H)}$, com $H$ sendo a hipótese que estamos testando e $E$ sendo o evento que já ocorreu. Ou seja, o teorema de Bayes pode ser escrito como:\n",
        "$$\n",
        "\\color{firebrick}{p(H|E)=p(H) \\frac{p(E|H)}{p(E)}}\n",
        "$$\n",
        "\n",
        "Isso pode ser muito útil em caso de incerteza do evento, por exemplo, se eu perguntar: você acha que eu vou a pé para o meu trabalho? Inicialmente, você pode supor algo como uma probabilidade de $40%$ de eu ir a pé para o meu local de trabalho. No entanto, se eu lhe der informações adicionais, como minha casa fica a dez minutos a pé do meu local de trabalho, a probabilidade de eu realmente ir a pé se torna alta. Se, ao contrário, eu disser que minha casa fica a mais de 6 km do meu escritório, a probabilidade de eu ir a pé para lá se torna pequena. Esta é a probabilidade condicional, a probabilidade de eu ir a pé para o meu local de trabalho, dado que meu local de trabalho fica a dez minutos a pé da minha casa.\n",
        "\n",
        "p(H) a priori: reflete nossa crença, o que sabemos sobre o valor do parâmetro de interesse antes de dar uma olhada nos dados. Em nosso exemplo anterior, este é nosso palpite inicial de 40% de chances de eu ir a pé para o meu local de trabalho.\n",
        "\n",
        "p(E|H) verossimilhança: probabilidade de observar a evidência quando nossa hipótese H está correta. Em outras palavras: qual é a probabilidade de observar nossos dados, dada nossa crença inicial (ou hipótese)? Em nosso exemplo, a evidência é a distância entre minha casa e o escritório. Qual é a probabilidade de meu local de trabalho estar a apenas dez minutos a pé da minha casa, se eu for a pé para o meu local de trabalho?\n",
        "\n",
        "p(H|E) a posteriori: este é o resultado da análise bayesiana: contém todo o nosso conhecimento sobre um determinado problema, juntamente com nosso modelo e nossos dados. Em nosso exemplo, qual é a probabilidade de eu ir a pé para o meu local de trabalho, dado que meu local de trabalho está a dez minutos a pé da minha casa?\n",
        "\n",
        "p(E) evidência: probabilidade marginal de observar nossos dados em qualquer situação possível, independentemente de nossa hipótese. É conhecido como fator de normalização, pois garante que a probabilidade a posteriori esteja entre $0-1$.\n",
        "\n",
        "<img src='https://drive.google.com/uc?export=view&id=12sA6tTqj-4utAM1rrIg3BjphI3knO9Ob' width=\"700\">\n",
        "\n",
        "As $p(E)$ is a normalization factor,\n",
        "$$\n",
        "p(H|E) \\propto p(E|H) * p(H)\n",
        "$$"
      ]
    },
    {
      "cell_type": "markdown",
      "metadata": {
        "id": "Qz-pJHqIVs-h"
      },
      "source": [
        "## Exemplo do Bafômetro\n",
        "\n",
        "Você sabe que $8\\%$ dos testes de bafômetro são positivos. Suponha $100\\%$ de verdadeiros positivos (detectar __todos__ os motoristas bêbados que fizerem o teste).\n",
        "\n",
        "Digamos que a taxa de motoristas embriagados (e, portanto, nossa crença inicial) é de $1\\%$.\n",
        "\n",
        "![Bafometro](https://drive.google.com/uc?export=view&id=1IT40Yyn5y0axN7h7OxbsOJL1D4-pRNfd)\n",
        "$$\n",
        "\\begin{aligned}\n",
        "P(P | E) &= 1.\\\\\n",
        "P(E) &= 0.01\\\\\n",
        "P(nE) &= 1.- P(E)=0.99\\\\\n",
        "P(P) &= 0.08\\\\\n",
        "P(nP) &= 1.0 - P(P)=0.92\\\\\n",
        "\\end{aligned}\n",
        "$$\n",
        "\n",
        "Qual é a probabilidade de alguém realmente estar embriagado se o teste der positivo?\n",
        "$$\n",
        "\\begin{aligned}\n",
        "P(E| P) &= P(E)\\frac{P(P | E)}{P(P)} \\\\\n",
        "&= \\frac{1 \\times 0.01}{0.08} \\\\\n",
        "&= 0.125 = 12.5\\%\n",
        "\\end{aligned}\n",
        "$$\n",
        "onde $E$ refere-se a Embriagado e $P$ refere-se a Positivo."
      ]
    },
    {
      "cell_type": "code",
      "execution_count": 3,
      "metadata": {
        "id": "67EUwBrsWJwp"
      },
      "outputs": [
        {
          "name": "stdout",
          "output_type": "stream",
          "text": [
            "Probabilidade de estar embriagado, dado que deu positivo é: 12.50%\n"
          ]
        }
      ],
      "source": [
        "p_P_dado_E = 1.\n",
        "p_E = 0.01\n",
        "p_nE = 1.- p_E\n",
        "p_P = 0.08\n",
        "p_nP = 1.0 - p_P\n",
        "print('Probabilidade de estar embriagado, dado que deu positivo é: {:5.2%}'.format(p_P_dado_E*p_E/(p_P)))"
      ]
    },
    {
      "cell_type": "markdown",
      "metadata": {
        "id": "_4Ubg1GEuvge"
      },
      "source": [
        "Você pode pensar que exatos $100\\%$ de verdadeiros positivos (detectar alguém que está bêbado) é muito bom, mas e se ele também tiver falso positivo (indicando que alguém está bêbado quando não está)?\n",
        "\n",
        "A probabilidade de falsos positivos é,\n",
        "$$\n",
        "\\begin{aligned}\n",
        "P(P) &= P(P|E) P(E)+P(P|nE)P(nE) \\\\\n",
        "P(P|nE) &= \\frac{P(P) - P(P|E)P(E)}{P(nE)} \\\\\n",
        "&= \\frac{0.08 - 1 \\times 0.01}{0.99} \\\\\n",
        "&= 0.0707 = 7.07\\%\n",
        "\\end{aligned}\n",
        "$$\n",
        "\n",
        "O Teorema de Bayes, portanto,nos ajuda a quantificar o ceticismo e nos permite ter um entendimento mais claro do problema. Originalmente, pensávamos que a probabilidade de o motorista estar embriagado era bastante alta, mas agora vemos que é apenas cerca de $12.5\\%$.\n",
        "\n",
        "Deve-se ressaltar que existem alguns pontos importantes, e o principal, nesse caso, é a aleatoriedade do teste. Isto é, o motorista foi parado por causa da maneira que estava dirigindo, decidiram fazer o bafômetro pela atitude do motorista, a área da blitz é uma área próxima a bares?\n",
        "\n",
        "Veja mais detalhes sobre o teorema de Bayes e o exemplo usado aqui em [testes de bafômetro](https://www.bayestheorem.net/breathalyzer-example/)."
      ]
    },
    {
      "cell_type": "code",
      "execution_count": 4,
      "metadata": {
        "id": "WiFUctCLuzNw"
      },
      "outputs": [
        {
          "name": "stdout",
          "output_type": "stream",
          "text": [
            "Probabilidade de falso positivo é: 7.07%\n"
          ]
        }
      ],
      "source": [
        "print('Probabilidade de falso positivo é: {:5.2%}'.format((p_P-p_P_dado_E*p_E)/p_nE))"
      ]
    },
    {
      "cell_type": "markdown",
      "metadata": {
        "id": "uaeal674iF_7"
      },
      "source": [
        "#Distribuições de probabilidade para variáveis discretas\n",
        "\n",
        "Antes de começarmos a falar sobre distribuições, vamos recordar o que são distribuições de probabilidade.\n",
        "\n",
        "A **distribuição de probabilidades**, ou **modelo probabilístico**, indica, para uma variável aleatória, **quais são os resultados que podem ocorrer** e **qual é a probabilidade de cada resultado acontecer**.\n",
        "\n",
        "Uma função de massa de probabilidade (PMF, do inglês, *probability mass function*), $P(x)$, descreve a probabilidade de uma variável discreta obter $X$ o valor $x$. A variável $x$ assume $n$ valores discretos, de modo que,\n",
        "\\begin{align}\n",
        "\\sum_{x=x_1}^{x_n} P(x) = 1.\n",
        "\\end{align}\n",
        "\n",
        "Uma função de distribuição acumulativa (CDF, do inglês, *cumulative distribution function*), denominada $F(X)$, é definida como a probabilidade de que uma variável $X$ assuma valores menores ou iguais a $x$.\n",
        "\n",
        "Em geral, para uma distribuição discreta\n",
        "\n",
        "\\begin{align}\n",
        "F(x) = \\sum_{x_i=x_1}^x P(x_i),\n",
        "\\end{align}\n",
        "\n",
        "\n",
        "## Valor esperado e variância\n",
        "\n",
        "O valor esperado de uma variável aleatória discreta pode ser obtido como o somatório da multiplicação de cada valor $x_i$ por sua probabilidade de ocorrência, definida como $P(x_i)$\n",
        "\n",
        "\\begin{align}\n",
        "E[X] = \\sum_{i=1}^n x_i P(x_i),\n",
        "\\end{align}\n",
        "\n",
        "A variância e o desvio padrão são medidas de quanto os resultados probabilísticos se desviam do valor esperado. Assumindo que o valor esperado $E[X]$ da variável foi calculado, a variância de uma variável aleatória $X$ é igual ao valor esperado do quadrado de $X$ menos o valor esperado de $X$ ao quadrado,\n",
        "\\begin{align}\n",
        "s_x^2 &= \\textrm{Var}(X)=E[X^2]-(E[X])^2.\n",
        "\\end{align}\n",
        "\n",
        "O desvio padrão de uma variável aleatória, $s_x$, é a raiz quadrada da variância.\n",
        "\n",
        "### Porque estamos falando de *valor esperado* e não média?\n",
        "\n",
        "\n",
        "O Valor Esperado é usado no caso de Variáveis Aleatórias (ou em outras palavras, *Distribuições de Probabilidade*).\n",
        "\n",
        "Sabe-se que a *média* é definida como a soma de todos os elementos dividida pela soma de suas frequências. Mas, para o caso da distribuição de probabilidade, não podemos descrever uma variável aleatória em termos de sua frequência de antemão, portanto, usamos a probabilidade. Conceitualmente, a probabilidade de um elemento é a frequência de um evento dividida pelo tamanho do espaço amostral. Assim, a média no caso de variável aleatória pode ser dada pela soma das multiplicações de cada evento pela respectiva probabilidade. Nesse caso, $P(x_i)*x_i$ é conceitualmente a frequência de $x_i$ dividida pela frequência total.\n",
        "\n",
        "A média, por outro lado, é usada no caso em que temos o conhecimento das frequências dos elementos individuais e da contagem total dos elementos, por exemplo, no caso de um conjunto de dados ou amostra conhecido. Podemos simplesmente usar a definição fundamental de média para calculá-la.\n",
        "\n",
        "Observe que temos, em geral,\n",
        "\n",
        "\\begin{equation}\n",
        "\\bar{X}=\\frac{\\sum_{k=1}^n x_k}{n}\\neq E(X).\n",
        "\\end{equation}\n",
        "\n",
        "\n",
        "Mas, a média dos experimentos tende ao valor esperado quando o número de experimentos tende ao infinito. Esse comportamento também é chamado de *lei dos grandes números*, mas isso não pe assunto para nós...\n",
        "\n",
        "Veja o exemplo: seja $X$ o resultado de um lançamento de um dado de seis faces não viciado. Os valores possíveis para $X$ são $1, 2, 3, 4, 5$ e $6$, cada um com probabilidade de ocorrência de $1/6$. O valor esperado de $X$ é então dado por\n",
        "\n",
        "$$\n",
        "E(X) = 1\\times\\frac{1}{6}+2\\times\\frac{1}{6}+3\\times\\frac{1}{6}+4\\times\\frac{1}{6}+5\\times\\frac{1}{6}+6\\times\\frac{1}{6} = \\frac{21}{6} = 3.5\n",
        "$$\n",
        "\n",
        "Suponha que em uma sequência de dez jogadas do dado, se os resultados forem $5, 2, 6, 2, 2, 1, 2, 3, 6, 1$, então a média (média aritmética) dos resultados é dada por\n",
        "$$\n",
        "\\bar{X} = \\frac{5+2+6+2+2+1+2+3+6+1}{10} = 3.0\n",
        "$$\n",
        "\n",
        "Dizemos que o valor médio é $3.0$, com a distância de $0.5$ do valor esperado de $3.5$. Se jogarmos o dado $n$ vezes, onde $n$ é muito grande, então a média convergirá para o valor esperado, ou seja, $\\bar{X}= E(X)$. Isso ocorre evidentemente porque, quando $n$ é muito grande, cada valor possível de $X $(ou seja, 1 a 6) ocorrerá com igual probabilidade de $1/6$, transformando a média no valor esperado.\n",
        "\n",
        "## Distribuições discretas\n",
        "\n",
        "Apresentaremos PMFs e CDFs para as distribuições abaixo:\n",
        "*   Bernoulli\n",
        "*   Binomial\n",
        "*   Multinomial\n",
        "*   Geométrica\n",
        "*   Poisson\n",
        "\n",
        "## Amostragem\n",
        "Dado que conhecemos uma distribuição de probabilidade, podemos extrair amostras dela. Isso significa que podemos obter números aleatoriamente e a probabilidade de obter um determinado número $x$ é proporcional a PMF ou $P(x)$.\n",
        "\n",
        "Sugestão de [leitura complementar](http://bebi103.caltech.edu.s3-website-us-east-1.amazonaws.com/2016/tutorials/t3b_probability_stories.html#Bernoulli-distribution).\n",
        "\n"
      ]
    },
    {
      "cell_type": "markdown",
      "metadata": {
        "id": "etbpp_ilbfWs"
      },
      "source": [
        "## Distribuição Bernoulli\n",
        "\n",
        "Muitas vezes, tem-se situações onde um experimento tem dois resultados possíveis: sucesso $(x = 1,\\text{True})$ ou fracasso $(x = 0,\\text{False})$. Repetindo-se o experimento uma única vez, a distribuição de Bernoulli define a probabilidade de obter cada resultado.\n",
        "\n",
        "A distribuição de Bernoulli é parametrizada por um único valor, $p$, que define a probabilidade de sucesso.\n",
        "\n",
        "Função de massa de probabilidade (PMF) é dada por,\n",
        "\n",
        "\\begin{align}\n",
        "P(x;p) = \\left\\{ \\begin{array}{ccc}\n",
        "1-p & & x = 0 \\\\[0.5em]\n",
        "p & & x = 1 \\\\[0.5em]\n",
        "0 & & \\text{otherwise.}\n",
        "\\end{array}\n",
        "\\right.\n",
        "\\end{align}\n",
        "\n",
        "Usaremos a função `bernoulli` (`from scipy.stats`), com uma probabilidade de sucesso de $p=0.3$.\n",
        "\n",
        "A Função de Massa de Probabilidade .pmf() (do inglês, Probability Mass Function) encontra a probabilidade de um evento em um ponto específico da distribuição. A função é definida apenas em distribuições discretas onde cada evento tem uma probabilidade fixa de ocorrer."
      ]
    },
    {
      "cell_type": "code",
      "execution_count": 5,
      "metadata": {
        "id": "OkZvpAuDbfWt"
      },
      "outputs": [
        {
          "name": "stdout",
          "output_type": "stream",
          "text": [
            "A probabilidade de sucesso em 1 evento é 30% e probabilidade de fracasso é 70%\n"
          ]
        }
      ],
      "source": [
        "# Variáveis de entrada:\n",
        "# Probabilidade de sucesso de cada experimento, p\n",
        "p = 0.3\n",
        "X = bernoulli(p)\n",
        "prob1 = X.pmf(1)\n",
        "prob0 = X.pmf(0)\n",
        "print('A probabilidade de sucesso em 1 evento é {:.0%} e probabilidade de fracasso é {:.0%}'.format(prob1,prob0))"
      ]
    },
    {
      "cell_type": "markdown",
      "metadata": {
        "id": "TDeff-5CL8B7"
      },
      "source": [
        "O interessante de Bernoulli é quando usamos para simular dados. Por exemplo, simula-se 10000 experimentos com nossa variável aleatória.\n",
        "\n",
        "Usaremos a função `bernoulli.rsv` (`from scipy.stats`). `rvs` é uma abreviação, do inglês, para *Random Variable Sampling*."
      ]
    },
    {
      "cell_type": "code",
      "execution_count": 11,
      "metadata": {
        "id": "NEwU7iVFQYiy"
      },
      "outputs": [
        {
          "name": "stdout",
          "output_type": "stream",
          "text": [
            "Veja que a resposta é sucesso ou fracasso, para cada uma das 100000 simulações do evento:\n",
            "[0 0 0 ... 0 0 0]\n",
            "Número de caras:  29860.0     Número de coroas:  70140.0\n",
            "Valores esperados para Distribuição de Bernoulli:\n",
            "Valor esperado=0.300, Variância=0.210\n",
            "Modelo randômico de dados com distribuição de Bernoulli:\n",
            "Média=0.299, Variância=0.209\n"
          ]
        },
        {
          "data": {
            "image/png": "[encoded data removed]",
            "text/plain": [
              "<Figure size 800x500 with 1 Axes>"
            ]
          },
          "metadata": {},
          "output_type": "display_data"
        }
      ],
      "source": [
        "# Número de repetições do evento\n",
        "k = 100000\n",
        "# Probabilidade de sucesso de cada experimento, p\n",
        "p = 0.3\n",
        "X = bernoulli(p)\n",
        "X_samples = X.rvs(size=k) #\n",
        "print('Veja que a resposta é sucesso ou fracasso, para cada uma das %d simulações do evento:'%(k))\n",
        "print(X_samples)\n",
        "\n",
        "heads = [np.sum(X_samples) for i in range(len(X_samples)) if i == 1]\n",
        "tails = k - heads[0]\n",
        "print('Número de caras: ','{:6.1f}'.format(heads[0]), '    Número de coroas: ', '{:6.1f}'.format(tails))\n",
        "\n",
        "# Valor esperado e variância\n",
        "print(\"Valores esperados para Distribuição de Bernoulli:\")\n",
        "print('Valor esperado={:5.3f}, Variância={:5.3f}'.format(p, p*(1-p)))\n",
        "print(\"Modelo randômico de dados com distribuição de Bernoulli:\")\n",
        "print('Média={:5.3f}, Variância={:5.3f}'.format(X_samples.mean(), (X_samples.std())**2))\n",
        "\n",
        "# Plotagem dos resultados\n",
        "sns.set_style(\"darkgrid\")\n",
        "fig, ax = plt.subplots(figsize=(8,5))\n",
        "ax = sns.histplot(X_samples, bins=np.linspace(0,2,3), color=colors[0])\n",
        "ax.set_xlabel(\"Número de caras\",fontsize=16)\n",
        "ax.set_ylabel(\"Frequência\",fontsize=16);\n"
      ]
    },
    {
      "cell_type": "markdown",
      "metadata": {
        "id": "ZMaiqDIT3s9E"
      },
      "source": [
        "Podemos comparar nossa média calculada do experimento com a média teórica que acabamos de derivar. Eles são de fato muito próximos e se aproximam à medida que o tamanho da amostra aumenta. Mude o valor (atualmente 10000) e verifique o resultado."
      ]
    },
    {
      "cell_type": "markdown",
      "metadata": {
        "id": "cE3Br8j6bfWw"
      },
      "source": [
        "## Distribuição binomial\n",
        "\n",
        "\n",
        "Podemos olhar para uma distribuição binomial como um conjunto de experimentos ou tentativas de Bernoulli, nossa compreensão de como as propriedades da distribuição são derivadas torna-se significativamente mais simples.\n",
        "\n",
        "As principais condições que precisam ser cumpridas para definir noss distribuição binomial:\n",
        "* Os ensaios são independentes;\n",
        "* Cada tentativa pode ser classificada como sucesso ou fracasso;\n",
        "* Há um número fixo de tentativas;\n",
        "* A probabilidade de sucesso em cada tentativa é constante.\n",
        "\n",
        "\n",
        "Realizamos $n$ ensaios de Bernoulli com probabilidade $p$ de sucesso. O número de sucessos, $x$, é um número positivo, inteiro, e distribuído binomialmente. Portanto, existem dois parâmetros: a probabilidade $p$ de sucesso para cada tentativa de Bernoulli e o número de ensaios, $n$.\n",
        "\n",
        "Função de massa de probabilidade é dada por,\n",
        "\\begin{align}\n",
        "P(x;n,p) = \\begin{pmatrix}\n",
        "n \\\\\n",
        "x\n",
        "\\end{pmatrix}\n",
        "p^x (1-p)^{n-x}.\n",
        "\\end{align}\n",
        "onde\n",
        "\\begin{align}\n",
        "\\begin{pmatrix}\n",
        "n \\\\\n",
        "x\n",
        "\\end{pmatrix}=\\frac{n!}{x!(n-x)!}\n",
        "\\end{align}\n",
        "e\n",
        "$$\n",
        "x! = x \\times (x-1) \\times (x-2) \\times \\cdots \\times 1\n",
        "$$\n",
        "\n",
        "Particularmente, $0!=1$."
      ]
    },
    {
      "cell_type": "markdown",
      "metadata": {
        "id": "nWYvTcJ2XI4f"
      },
      "source": [
        "### Exemplo\n",
        "\n",
        "Vamos supor que eu jogue uma moeda não viciada 10 vezes. O sucesso é o número de caras. Qual a probabilidade de eu obter $0,1,2,3,4,5,6,7,8,9$ e $10$ sucessos no evento?\n"
      ]
    },
    {
      "cell_type": "code",
      "execution_count": 12,
      "metadata": {
        "id": "eAIc_rYmh2Zj"
      },
      "outputs": [],
      "source": [
        "# Variáveis de entrada:\n",
        "# Número de eventos independentes, n\n",
        "n = 10\n",
        "# Probabilidade de sucesso de cada experimento, p\n",
        "p = 0.5\n",
        "\n",
        "Y = binom(n,p)"
      ]
    },
    {
      "cell_type": "code",
      "execution_count": 13,
      "metadata": {
        "id": "bAqc_36ObfWw"
      },
      "outputs": [
        {
          "name": "stdout",
          "output_type": "stream",
          "text": [
            "Probabilidade de   0 sucesso(s) no evento: 0.10%\n",
            "Probabilidade de   1 sucesso(s) no evento: 0.98%\n",
            "Probabilidade de   2 sucesso(s) no evento: 4.39%\n",
            "Probabilidade de   3 sucesso(s) no evento: 11.72%\n",
            "Probabilidade de   4 sucesso(s) no evento: 20.51%\n",
            "Probabilidade de   5 sucesso(s) no evento: 24.61%\n",
            "Probabilidade de   6 sucesso(s) no evento: 20.51%\n",
            "Probabilidade de   7 sucesso(s) no evento: 11.72%\n",
            "Probabilidade de   8 sucesso(s) no evento: 4.39%\n",
            "Probabilidade de   9 sucesso(s) no evento: 0.98%\n",
            "Probabilidade de  10 sucesso(s) no evento: 0.10%\n"
          ]
        },
        {
          "data": {
            "image/png": "[encoded data removed]",
            "text/plain": [
              "<Figure size 800x500 with 1 Axes>"
            ]
          },
          "metadata": {},
          "output_type": "display_data"
        }
      ],
      "source": [
        "probabilities = []\n",
        "for i in range(n+1):\n",
        "  # Número de sucessos, x = i\n",
        "  print('Probabilidade de {:3d} sucesso(s) no evento: {:.2%}'.format(i,Y.pmf(i)))\n",
        "  probabilities.append([i,Y.pmf(i)])\n",
        "\n",
        "prob = np.array(probabilities)\n",
        "\n",
        "fig, ax = plt.subplots(figsize=(8,5))\n",
        "plt.scatter(prob[:,0],prob[:,1], color = colors[1])\n",
        "plt.xlabel(\"Número de caras\",fontsize=16)\n",
        "plt.ylabel(\"Probabilidade de sucesso\",fontsize=16)\n",
        "plt.show()"
      ]
    },
    {
      "cell_type": "markdown",
      "metadata": {
        "id": "u0ySKUrrX3Y_"
      },
      "source": [
        "Lembre-se que:\n",
        "\n",
        "\\begin{align}\n",
        "P(x;10,0.5) = \\begin{pmatrix}\n",
        "n \\\\\n",
        "x\n",
        "\\end{pmatrix}\n",
        "p^x (1-p)^{n-x} = \\begin{pmatrix}\n",
        "10 \\\\\n",
        "x\n",
        "\\end{pmatrix}\n",
        "0.5^x (1-0.5)^{10-x}\n",
        "\\end{align}\n",
        "onde\n",
        "\\begin{align}\n",
        "\\begin{pmatrix}\n",
        "10 \\\\\n",
        "x\n",
        "\\end{pmatrix}=\\frac{10!}{x!(10-x)!}\n",
        "\\end{align}\n",
        "\n",
        "Vamos testar a resposta para número de sucessos $x=6$:\n",
        "\\begin{align}\n",
        "\\begin{pmatrix}\n",
        "10 \\\\\n",
        "6\n",
        "\\end{pmatrix}=\\frac{10!}{6!(10-6)!}=\\frac{10\\times 9 \\times 8 \\times 7 \\times 6!}{6!4!}=\\frac{10\\times 9 \\times 8 \\times 7}{4\\times 3 \\times 2}=210\n",
        "\\end{align}\n",
        "\n",
        "Portanto,\n",
        "\\begin{align}\n",
        "P(6;10,0.5) = 210 \\times 0.5^6 0.5^4 = 20.51\\%\n",
        "\\end{align}\n"
      ]
    },
    {
      "cell_type": "code",
      "execution_count": null,
      "metadata": {
        "id": "181DEziEX3GV"
      },
      "outputs": [],
      "source": [
        "p6 = 210*0.5**10\n",
        "print(p6)"
      ]
    },
    {
      "cell_type": "markdown",
      "metadata": {
        "id": "FYrU8FlMTe5p"
      },
      "source": [
        "### Outro exemplo...\n",
        "Suponha que numa população, com muitos milhões de pessoas, $3\\%$ delas sejam canhotas. Qual a probabilidade $p$ de encontramos $4$ ou mais canhotos dentre $120$ pessoas escolhidas ao acaso desta população?"
      ]
    },
    {
      "cell_type": "code",
      "execution_count": null,
      "metadata": {
        "id": "E4F2gW74uvZ_"
      },
      "outputs": [],
      "source": [
        "# Variáveis de entrada:\n",
        "#Identifique o sucesso: Canhoto\n",
        "# Probabilidade de sucesso de cada experimento, p\n",
        "p = 0.03\n",
        "# Número de eventos independentes (repetições do experimento), n\n",
        "n = 120\n",
        "Y = binom(n,p)"
      ]
    },
    {
      "cell_type": "code",
      "execution_count": null,
      "metadata": {
        "id": "EbR1N8xsT8ng"
      },
      "outputs": [],
      "source": [
        "# Número de sucessos, x>=4\n",
        "x_min = 4\n",
        "prob = []\n",
        "for i in range(x_min):\n",
        "  # Número de sucessos, x = i\n",
        "  print('Probabilidade de {:3d} sucesso(s) no evento: {:.3%}'.format(i,Y.pmf(i)))\n",
        "  prob.append(Y.pmf(i))\n",
        "prob_tot = sum(prob)\n",
        "\n",
        "print('\\n A probabilidade de encontramos  {:3d}  ou mais canhotos dentre 120  pessoas escolhidas \\n  ao acaso desta população é: {:.3%}.'.format(x_min,1-prob_tot))\n"
      ]
    },
    {
      "cell_type": "markdown",
      "metadata": {
        "id": "f456ToPLu8ri"
      },
      "source": [
        "Veja abaixo, o cálculo da probabilidade de que sejam encontrados 3 canhotos dentre 120  pessoas escolhidas ao acaso desta população.\n",
        "\n",
        "\\begin{align}\n",
        "P(3;10,0.5) = \\frac{10!}{3!(10-3)!} 0.03^3 (1-0.0.03)^{120-3}\n",
        "\\end{align}"
      ]
    },
    {
      "cell_type": "code",
      "execution_count": null,
      "metadata": {
        "id": "HNVZFDycj4LN"
      },
      "outputs": [],
      "source": [
        "import math\n",
        "x = 3\n",
        "n = 120\n",
        "p=0.03\n",
        "p3=math.factorial(n)/(math.factorial(x)*math.factorial(n-x))*p**x*(1-p)**(n-x)\n",
        "print('A probabilidade de encontramos  {:3d}  canhotos dentre 120  pessoas escolhidas \\n  ao acaso desta população é: {:.3%}.'.format(x,p3))"
      ]
    },
    {
      "cell_type": "code",
      "execution_count": null,
      "metadata": {
        "id": "fWkikFNpqTO0"
      },
      "outputs": [],
      "source": [
        "prob_tot = Y.cdf(x_min-1)\n",
        "print('A probabilidade de encontramos  até {:3d}  canhotos : {:.2%}.'.format(x_min-1,prob_tot))\n",
        "print('A probabilidade de encontramos  {:3d}  ou mais canhotos dentre 120  pessoas escolhidas \\n  ao acaso desta população é: {:.2%}.'.format(x_min,1-prob_tot))"
      ]
    },
    {
      "cell_type": "markdown",
      "metadata": {
        "id": "ey-S2Q8k5erT"
      },
      "source": [
        "Vejam que o `CDF` calcula a probabilidade acumulada enquanto o `PMF` calcula a probabilidade de ocorrência de um único valor ocorrer."
      ]
    },
    {
      "cell_type": "code",
      "execution_count": null,
      "metadata": {
        "id": "ERN4v5463rLW"
      },
      "outputs": [],
      "source": [
        "x = 12\n",
        "a = np.array(list(map(lambda i: [i,Y.pmf(i),Y.cdf(i)], range(x))))\n",
        "\n",
        "fig, ax = plt.subplots(figsize=(8,5))\n",
        "plt.plot(a[:,0],a[:,1], color = colors[0], label = 'PMF')\n",
        "plt.plot(a[:,0],a[:,2], color = colors[2], label = 'CDF')\n",
        "plt.xlabel(\"Número de canhotos\",fontsize=14)\n",
        "plt.ylabel(\"Probabilidade de sucesso\",fontsize=14)\n",
        "plt.legend()\n",
        "plt.show()"
      ]
    },
    {
      "cell_type": "markdown",
      "metadata": {
        "id": "14x01-N0f_Am"
      },
      "source": [
        "### Probabilidade e probabilidade acumulada\n",
        "\n",
        "Retira-se uma amostra de 12 e-mails. Sabendo-se que 2% dos e-mails são spams, qual é a probabilidade de haver um único spam dentre os 12? Adicionalmente, qual a probabilidade de não haver mais de um spam em toda amostra?"
      ]
    },
    {
      "cell_type": "markdown",
      "metadata": {
        "id": "63eISHIbcSI5"
      },
      "source": [
        "Duplo-clique __aqui__ para a solução.\n",
        "\n",
        "<!-- Resposta abaixo:\n",
        "n=12; p=0.02; x=1;\n",
        "prob1 = binom.pmf(x, n, p)\n",
        "print('Probabilidade de 1 sucesso no evento:','{:.2%}'.format(prob1))\n",
        "#Posso somar as duas probabilidades, de P(0) e P(1), ou usar a\n",
        "prob2 = binom.pmf(0, n, p) + binom.pmf(1, n, p)\n",
        "# ou usar a opção cdf (que refere-se à acumulada)\n",
        "prob2b = binom.cdf(x, n, p)\n",
        "print('Probabilidade de não mais que 1 sucesso no evento:','{:.2%}'.format(prob2), 'ou', '{:.2%}'.format(prob2b))\n",
        "-->"
      ]
    },
    {
      "cell_type": "markdown",
      "metadata": {
        "id": "lgS1fWh-H2dV"
      },
      "source": [
        "A função `ppf` (percentage per function) é a inversa da `cdf` usada anteriormente."
      ]
    },
    {
      "cell_type": "code",
      "execution_count": null,
      "metadata": {
        "id": "A-2SWhCnHQBl"
      },
      "outputs": [],
      "source": [
        "n=12; p=0.02; x=1;\n",
        "prob3 = binom.ppf(0.99, n, p)\n",
        "print('Significa que, com 99% de probabilidade, o número de spams é menor que ', prob3)\n",
        "# Confira com os valores da função cmd\n",
        "for j in range(13):\n",
        "    print('P de encontrar, no máximo, %d spams em 12 e-mails testados: %.5f%%' %(j, binom.cdf(j,n,p)*100))"
      ]
    },
    {
      "cell_type": "markdown",
      "metadata": {
        "id": "OyEl-myebfW0"
      },
      "source": [
        "### Treine...\n",
        "Uma empresa envia código de desconto para 9 pessoas, cada uma com uma probabilidade estimada de sucesso de compra de 0,1. Nenhuma das 9 pessoas compra.\n",
        "1. Qual é a probabilidade disso acontecer?\n",
        "2. Qual a probabilidade de, pelo menos, 2 pessoas comprarem?"
      ]
    },
    {
      "cell_type": "markdown",
      "metadata": {
        "id": "LswtQsU0gwfq"
      },
      "source": [
        "Duplo-clique __aqui__ para a solução.\n",
        "\n",
        "<!-- Resposta abaixo:\n",
        "n=9; p=0.1; k=20000\n",
        "prob1 = binom.pmf(0, 9, 0.1)\n",
        "print('A probabilidade de nenhuma das 9 pessoas comprar é de aproximadamente:', '{:.2%}'.format(prob1))\n",
        "prob2 = 1.0 - binom.cdf(1,n,p)\n",
        "print('A probabilidade de, pelo menos, 2 pessoas comprarem é de:', '{:.2%}'.format(prob2))\n",
        "-->"
      ]
    },
    {
      "cell_type": "markdown",
      "metadata": {
        "id": "z1uut4SBPEQZ"
      },
      "source": [
        "### Simulação de dados com comportamento binomial\n",
        "\n",
        "Veja que pode-se simular vários experimentos binomiais."
      ]
    },
    {
      "cell_type": "code",
      "execution_count": null,
      "metadata": {
        "id": "HRJ1q09SNFpK"
      },
      "outputs": [],
      "source": [
        "n=3\n",
        "p=0.5\n",
        "Z = binom(n,p)"
      ]
    },
    {
      "cell_type": "code",
      "execution_count": null,
      "metadata": {
        "id": "xQDYahqlbfWy",
        "scrolled": true
      },
      "outputs": [],
      "source": [
        "#size = k = número de experimentos (eventos)\n",
        "k=5;\n",
        "# veja que você pode usar a opção: success = binomial(n, p, size=k), que importamos no início\n",
        "success = Z.rvs(size=k)\n",
        "print('Total de sucessos em cada evento:', success)\n",
        "# Momentos: média e variância\n",
        "mean, var = Z.stats(moments='mv')\n",
        "print('Média={:6.3f}, Variância={:6.3f}'.format(mean, var))"
      ]
    },
    {
      "cell_type": "code",
      "execution_count": null,
      "metadata": {
        "id": "On5EkNxubfW2"
      },
      "outputs": [],
      "source": [
        "# Variáveis de entrada:\n",
        "# Número de tentativas, trials\n",
        "trials = 10000\n",
        "# Número de eventos independentes em cada tentativa, n\n",
        "n = 10\n",
        "# Probabilidade de sucesso de cada experimento, p\n",
        "p = 0.5\n",
        "Z = binom(n,p)\n",
        "# Chama a função\n",
        "heads = Z.rvs(size = trials)\n",
        "# Plotagem dos resultados\n",
        "sns.set_style(\"darkgrid\")\n",
        "fig, ax = plt.subplots(figsize=(8,5))\n",
        "ax = sns.histplot(heads, bins=np.linspace(0,10,11), label='resultado simulacao',color=colors[0])\n",
        "ax.set_xlabel(\"Número de caras\",fontsize=16)\n",
        "ax.set_ylabel(\"Frequência\",fontsize=16);"
      ]
    },
    {
      "cell_type": "code",
      "execution_count": null,
      "metadata": {
        "id": "taYV4BClbfW4"
      },
      "outputs": [],
      "source": [
        "# Comparação entre o resultado binomial e o teste randômico\n",
        "sns.set_style(\"darkgrid\")\n",
        "fig, ax = plt.subplots(figsize=(8,5))\n",
        "ax = sns.histplot(heads, bins=np.linspace(0,10,11)+0.5, kde = False, label='Resultado simulação',color=colors[0])\n",
        "ax.set_xlabel(\"Número de caras\",fontsize=16)\n",
        "ax.set_ylabel(\"Frequência\",fontsize=16)\n",
        "x = range(0,11)\n",
        "ax.plot(x, Z.pmf(x)*trials, 'ro', label='Distribuição Binomial Real')\n",
        "ax.vlines(x, 0, Z.pmf(x)*trials, colors='r', lw=5, alpha=0.5)\n",
        "plt.legend()\n",
        "plt.show()"
      ]
    },
    {
      "cell_type": "code",
      "execution_count": null,
      "metadata": {
        "id": "sjkfjNZ5sWda"
      },
      "outputs": [],
      "source": [
        "# Probabilidade de obter 6 caras randomicamente e binomial\n",
        "#   representa a diferença entre o bloco roxo e a linha vermelha do gráfico acima em 'número de coroas' = 6\n",
        "n = 10; p = 0.5; k = 10000; x=6;\n",
        "Z = binom(n,p)\n",
        "prob_6 = sum([1 for i in Z.rvs(size=k) if i==6])/k\n",
        "prob_6b = Z.pmf(x)\n",
        "print('A probabilidade de obter {:2d} caras randomicamente em {:6d} eventos de {:4d} é: {:2.6f}'.format(x,k,n,prob_6))\n",
        "print('A probabilidade de obter {:2d} pelo modelo binomial é: {:2.6f}'.format(x,prob_6b))"
      ]
    },
    {
      "cell_type": "markdown",
      "metadata": {
        "id": "3sYYfGk3pHpn"
      },
      "source": [
        "### Exemplo do vendedor\n",
        "O exemplo é adaptado de [Binomial](https://towardsdatascience.com/fun-with-the-binomial-distribution-96a5ecabf65b)\n",
        "\n",
        "*   Um vendedor que atende via call center recebe em média 50 ligações por dia.\n",
        "*   A probabilidade de uma conversão (venda) para cada chamada é de 4%.\n",
        "*   A receita média para a empresa em cada conversão é de R\\$50.\n",
        "*   O call center que você está analisando possui 150 vendedores.\n",
        "*   Cada vendedor custa R\\$100 por dia de trabalho.\n",
        "\n",
        "Analise o lucro da empresa. E, nesse caso, o que seria mais eficiente, aumentar o número de funcionários de 150 para 200 ou aumentar a taxa de conversão de 4% para 5%?"
      ]
    },
    {
      "cell_type": "code",
      "execution_count": null,
      "metadata": {
        "id": "obz00SmOr5ht"
      },
      "outputs": [],
      "source": [
        "def metricas_vendedores(conversoes, receita, salario, vendedores):\n",
        "    metricas = []\n",
        "    metricas.append(np.mean(conversoes))\n",
        "    metricas.append(np.std(conversoes))\n",
        "    metricas.append(np.sum(conversoes))\n",
        "    metricas.append(np.sum(conversoes)*receita)\n",
        "    metricas.append(vendedores*salario)\n",
        "    metricas.append(np.sum(conversoes)*receita - vendedores*salario)\n",
        "    print('Média de conversões por vendedor: {:4.2f}'.format(metricas[0]))\n",
        "    print('Desvio padrão de conversões por vendedor: {:4.2f}'.format(metricas[1]))\n",
        "    print('Total de conversões: {:6.0f}'.format(metricas[2]))\n",
        "    print('Total de receita: {:6.0f}'.format(metricas[3]))\n",
        "    print('Total de despesas: {:6.0f}'.format(metricas[4]))\n",
        "    print('Lucro Total: {:6.0f}'.format(metricas[5]))\n",
        "    return metricas"
      ]
    },
    {
      "cell_type": "code",
      "execution_count": null,
      "metadata": {
        "id": "dACo4Z07pXTN"
      },
      "outputs": [],
      "source": [
        "# Número de vendedores\n",
        "vendedores = 150\n",
        "# Custo por empregado\n",
        "salario = 100\n",
        "# Número de ligações independentes por vendedor\n",
        "n = 50\n",
        "# Probabilidade de sucesso de cada ligação (taxa de conversão)\n",
        "p = 0.04\n",
        "# Receita média para companhia por chamada\n",
        "receita = 50\n",
        "# Modelo binomial para os vendedores\n",
        "conversoes = binomial(n, p, size=vendedores)\n",
        "# Algumas métricas importantes do call center modelado\n",
        "metricas = metricas_vendedores(conversoes, receita, salario, vendedores)\n",
        "mean, var = binom.stats(n, p, moments='mv')\n",
        "print('Para o modelo binomial, média= {:6.3f}, desvio= {:6.3f}'.format(mean, np.sqrt(var)))\n"
      ]
    },
    {
      "cell_type": "markdown",
      "metadata": {
        "id": "kruyyubSzyWJ"
      },
      "source": [
        "Veja que o número de conversões diárias de cada vendedor é uma função binomial, com $n=50$ (número de ligações por vendedor) e $p=0.04$ (probabilidade de sucesso). Comoe xistem 150 vendedres, teremos $size = 150$, ie, teremos 150 eventos binomiais."
      ]
    },
    {
      "cell_type": "code",
      "execution_count": null,
      "metadata": {
        "id": "L897-qyUzKnF"
      },
      "outputs": [],
      "source": [
        "print(conversoes.shape, sum(conversoes))\n",
        "conversoes"
      ]
    },
    {
      "cell_type": "code",
      "execution_count": null,
      "metadata": {
        "id": "V6lh_9-sy1hs"
      },
      "outputs": [],
      "source": [
        "# Plotagem dos resultados\n",
        "sns.set_style(\"darkgrid\")\n",
        "fig, ax = plt.subplots(figsize=(14,7))\n",
        "w=1\n",
        "ax = sns.histplot(conversoes, bins=np.arange(min(conversoes),max(conversoes)+2*w,w), label='Resultado das simulações',color=colors[0])\n",
        "\n",
        "ax.set_xlabel(\"Conversões diárias\",fontsize=16)\n",
        "ax.set_ylabel(\"Frequencia\",fontsize=16);"
      ]
    },
    {
      "cell_type": "markdown",
      "metadata": {
        "id": "S_Tgc77B0ocB"
      },
      "source": [
        "Veja que o modelo binomial considerando $n \\times size$ temos somente uma resposta. Emt ermos de média de sucesso, obteremos valores similares, mas perderemos a ideia de como se comporta o modelo da distribuição de sucessos entre os vendedores."
      ]
    },
    {
      "cell_type": "code",
      "execution_count": null,
      "metadata": {
        "id": "AyE_km3P0aG7"
      },
      "outputs": [],
      "source": [
        "conversoes2 = binomial(n*vendedores, p)\n",
        "print(conversoes2)"
      ]
    },
    {
      "cell_type": "markdown",
      "metadata": {
        "id": "MOTZs0lu3Wur"
      },
      "source": [
        "Para avaliar os lucros, vamos olhar para uma janela de 1000 dias."
      ]
    },
    {
      "cell_type": "code",
      "execution_count": null,
      "metadata": {
        "id": "HRebXl_5BtgR"
      },
      "outputs": [],
      "source": [
        "# Simulação de 1000 dias diferentes de trabalho\n",
        "# Número de dias para simular\n",
        "sims = 1000\n",
        "vendedores = 150; salario = 100; n = 50; p = 0.04; receita = 50;\n",
        "# sim_conversoes simula o modelo binomial que apresentamos para um dia 1000 vezes.\n",
        "sim_conversoes = [binomial(n*vendedores, p) for i in range(sims)]\n",
        "# O código acima é similar à expressão: sim_conversoes = [np.sum(binomial(n, p, size=vendedores)) for i in range(sims)]\n",
        "sim_lucro = np.array(sim_conversoes)*receita - vendedores*salario\n",
        "\n",
        "# Plotagem dos resultados\n",
        "sns.set_style(\"darkgrid\")\n",
        "fig, ax = plt.subplots(figsize=(14,7))\n",
        "ax = sns.histplot(sim_lucro, bins=20, kde = False, label='Resultado das simulações',color=colors[0])\n",
        "\n",
        "ax.set_xlabel(\"Lucro\",fontsize=16)\n",
        "ax.set_ylabel(\"Frequencia\",fontsize=16)\n",
        "\n",
        "plt.savefig(fname='Vendedores_Hist', dpi=150)"
      ]
    },
    {
      "cell_type": "code",
      "execution_count": null,
      "metadata": {
        "id": "sZ8WM2WDBAZS"
      },
      "outputs": [],
      "source": [
        "# Adicione 1 se lucro do dia é < 0\n",
        "prej = sum([1 for i in sim_lucro if i<0])\n",
        "print('Dentre os {:5d} dias analisados, a empresa teve prejuízo em {:5d} dias.'.format(sims,prej))"
      ]
    },
    {
      "cell_type": "code",
      "execution_count": null,
      "metadata": {
        "id": "rHa4q4idBRvP"
      },
      "outputs": [],
      "source": [
        "# Primeira opção: Aumentando a taxa de sucesso\n",
        "# Número de vendedores\n",
        "vendedores = 150\n",
        "# Custo por empregado\n",
        "salario = 100\n",
        "# Número de ligações independentes por empregado\n",
        "n = 50\n",
        "# Probabilidade de sucesso de cada ligação (taxa de conversão)\n",
        "p = 0.05\n",
        "# Receita média para companhia por chamada\n",
        "receita = 50\n",
        "# Modelo binomial para os vendedores\n",
        "conversoes_taxa = binomial(n, p, size=vendedores)\n",
        "# Algumas métricas importantes do call center modelado\n",
        "metricas = metricas_vendedores(conversoes_taxa, receita, salario, vendedores)\n",
        "mean, var = binom.stats(n, p, moments='mv')\n",
        "# Compare os valores da média e desvio padrão do modelo com média e desvio padrão da resposta randômica calculados acima\n",
        "print('Para o modelo binomial, média=%.3f, desvio=%.3f' % (mean, np.sqrt(var)))\n",
        "####################\n",
        "####################\n",
        "# Simulação de 1000 dias de trabalho\n",
        "# Número de dias para simular\n",
        "sims = 1000\n",
        "\n",
        "sim_conversoes_taxa = [binomial(n*vendedores, p) for i in range(sims)]\n",
        "sim_lucro_taxa = np.array(sim_conversoes_taxa)*receita - vendedores*salario\n",
        "\n",
        "# Plotagem dos resultados\n",
        "sns.set_style(\"darkgrid\")\n",
        "fig, ax = plt.subplots(figsize=(14,7))\n",
        "ax = sns.histplot(sim_lucro, bins=20, kde = False, label='Simulação original', color=colors[0])\n",
        "ax = sns.histplot(sim_lucro_taxa, bins=20, kde = False, label='Simulação com aumento de taxa', color=colors[2])\n",
        "\n",
        "ax.set_xlabel(\"Lucro\",fontsize=16)\n",
        "ax.set_ylabel(\"Frequencia\",fontsize=16)\n",
        "plt.legend()\n",
        "\n",
        "plt.savefig(fname='Vendedores_Hist_2', dpi=150)"
      ]
    },
    {
      "cell_type": "markdown",
      "metadata": {
        "id": "WF66ezOSvtdO"
      },
      "source": [
        "Agora modifique o número de funcionários e tire suas conclusões."
      ]
    },
    {
      "cell_type": "markdown",
      "metadata": {
        "id": "t8_NHqJ8vN0i"
      },
      "source": [
        "Duplo-clique __aqui__ para solução final.\n",
        "\n",
        "<!-- Resposta abaixo:\n",
        "# Segunda opção: Aumentando de vendedores para 200\n",
        "# Número de vendedores\n",
        "vendedores = 200\n",
        "# Custo por empregado\n",
        "salario = 100\n",
        "# Número de ligações independentes por empregado\n",
        "n = 50\n",
        "# Probabilidade de sucesso de cada ligação (taxa de conversão)\n",
        "p = 0.04\n",
        "# Receita média para companhia por chamada\n",
        "receita = 50\n",
        "# Modelo binomial para os vendedores\n",
        "conversoes_vend = np.random.binomial(n, p, size=vendedores)\n",
        "# Algumas métricas importantes do call center modelado\n",
        "metricas = metricas_vendedores(conversoes_vend, receita, salario, vendedores)\n",
        "mean, var = binom.stats(n, p, moments='mv')\n",
        "print('Para o modelo binomial, média=%.3f, desvio=%.3f' % (mean, np.sqrt(var)))\n",
        "###############################\n",
        "# Simulação de 1000 dias de trabalho\n",
        "# Número de dias para simular\n",
        "sims = 1000\n",
        "\n",
        "sim_conversoes_vend = [binomial(n*vendedores, p) for i in range(sims)]\n",
        "sim_lucro_vend = np.array(sim_conversoes_vend)*receita - vendedores*salario\n",
        "\n",
        "# Plotagem dos resultados\n",
        "sns.set_style(\"darkgrid\")\n",
        "fig, ax = plt.subplots(figsize=(14,7))\n",
        "ax = sns.histplot(sim_lucro, bins=20, kde = False, label='Simulação original',color=colors[0])\n",
        "ax = sns.histplot(sim_lucro_taxa, bins=20, kde = False, label='Simulação com aumento de taxa', color=colors[2])\n",
        "ax = sns.histplot(sim_lucro_vend, bins=20, kde = False, label='Simulação com aumento de vendedores', color=colors[3])\n",
        "\n",
        "ax.set_xlabel(\"Lucro\",fontsize=16)\n",
        "ax.set_ylabel(\"Frequencia\",fontsize=16)\n",
        "plt.legend()\n",
        "\n",
        "plt.savefig(fname='Call_Center_Hist_2', dpi=150)\n",
        "-->"
      ]
    },
    {
      "cell_type": "markdown",
      "metadata": {
        "id": "-InV88JQQIaL"
      },
      "source": [
        "## Distribuição multinomial"
      ]
    },
    {
      "cell_type": "markdown",
      "metadata": {
        "id": "gk3dP_8PSvJb"
      },
      "source": [
        "Distribuição multinomial é uma generalização da distribuição binomial para $k$ categorias e $n$ tentativas.  Quando $k=2$ e $n=1$, a distribuição multinomial é a distribuição de Bernoulli. Quando $k=2$ e $n>1$, é a distribuição binomial."
      ]
    },
    {
      "cell_type": "code",
      "execution_count": null,
      "metadata": {
        "id": "8Ctsu8eGTu8b"
      },
      "outputs": [],
      "source": [
        "print('Solução por multinomial:', multinom.pmf([3, 4], n=7, p=[0.4, 0.6]))\n",
        "print('Solução por binomial:',binom.pmf(3, 7, 0.4))"
      ]
    },
    {
      "cell_type": "markdown",
      "metadata": {
        "id": "CLmcX1QuVYzW"
      },
      "source": [
        "Suponha que, em uma eleição, de um grande país, com três candidatos, o candidato 𝐴 receba 20% dos votos, o candidato 𝐵 receba 30% dos votos e o candidato 𝐶 receba 50% dos votos. Se seis eleitores forem selecionados aleatoriamente, qual é a probabilidade de haver exatamente um partidário do candidato 𝐴, dois partidários do candidato 𝐵 e três partidários do candidato 𝐶 na amostra?"
      ]
    },
    {
      "cell_type": "code",
      "execution_count": null,
      "metadata": {
        "id": "vFVtSUAGVfw2"
      },
      "outputs": [],
      "source": [
        "print('Solução por multinomial:','{:.2%}'.format(multinom.pmf([1,2,3], n=6, p=[0.2,0.3, 0.5])))"
      ]
    },
    {
      "cell_type": "markdown",
      "metadata": {
        "id": "OHYyy6A1WGg-"
      },
      "source": [
        "Supõe-se, agora, que 1000 pessoas são entrevistadas. Quantas, provavelmente, votarão em cada candidato?"
      ]
    },
    {
      "cell_type": "code",
      "execution_count": null,
      "metadata": {
        "id": "iJyUz75-PTl_"
      },
      "outputs": [],
      "source": [
        "p = [0.2, 0.3, 0.5]\n",
        "k = 1000\n",
        "# Rodar a simulaçao\n",
        "cases = multinom.rvs(k, p)\n",
        "# summarize cases\n",
        "for i in range(len(cases)):\n",
        "\tprint('Candidato %d: %d' % (i+1, cases[i]))"
      ]
    },
    {
      "cell_type": "markdown",
      "metadata": {
        "id": "PAS9Pq--b9cy"
      },
      "source": [
        "Em um torneio de xadrez, queremos determinar qual é a probabilidade de, após 12 jogos, o jogador 1 ter 7 vitórias, o jogador 2 ter 2 vitórias e os jogos restantes terminarem empatados. Para isso, suponha que a probabilidade do Jogador 1 vencer seja 40%, o Jogador 2 seja 35% e o empate tenha probabilidade 25%. Portanto temos,\n",
        "\n"
      ]
    },
    {
      "cell_type": "code",
      "execution_count": null,
      "metadata": {
        "id": "4DcGWXfNhpHX"
      },
      "outputs": [],
      "source": [
        "print('Probabilidade final:', multinom.pmf([7,2,3], n=12, p=[0.4, 0.35,0.25]))"
      ]
    },
    {
      "cell_type": "markdown",
      "metadata": {
        "id": "CiQECz2uhFxF"
      },
      "source": [
        "O gráfico abaixo mostra que, com o aumento do número de partidas jogadas, a probabilidade converge ao valor teórico p(x=K) = 0,0248."
      ]
    },
    {
      "cell_type": "code",
      "execution_count": null,
      "metadata": {
        "id": "icWrbGUIb_V-"
      },
      "outputs": [],
      "source": [
        "n = 12                      # número de partidas\n",
        "pvals = [0.4, 0.35, 0.25]   # probabilidades em uma única partida\n",
        "\n",
        "# número de partidas jogadas\n",
        "sizes =[]\n",
        "# uma lista para conter proporções (devem ser convergentes para pvals)\n",
        "# em que o jogador 1 vence 7 vezes, o jogador 2 vence 2 vezes e ocorrem 3 empates:\n",
        "p = []\n",
        "\n",
        "for size in np.logspace(2,4):\n",
        "    # variáveis aleatórias discretas são geradas de acordo com a distribuição multinomial:\n",
        "    outcomes = np.random.multinomial(n, pvals, size=int(size))\n",
        "\n",
        "    # vamos contar a proporção do resultado esperado sobre todos os resultados\n",
        "    # deverá convergir para a probabilidade\n",
        "    prob = sum((outcomes[:,0]==7)&(outcomes[:,1]==2)&(outcomes[:,2]==3))/len(outcomes)\n",
        "\n",
        "    p.append(prob)\n",
        "    sizes.append(int(size))\n",
        "\n",
        "# Gráfico\n",
        "fig1 = plt.figure()\n",
        "plt.plot(sizes,p,'o-')\n",
        "plt.plot(sizes,[0.0248]*len(sizes),'--r')\n",
        "plt.grid()\n",
        "plt.xlim(xmin=0)\n",
        "plt.xlabel('Número de partidas')\n",
        "plt.ylabel('p(X=K)')\n",
        "plt.title('Teórico p(X=K) = 0.0248');"
      ]
    },
    {
      "cell_type": "markdown",
      "metadata": {
        "id": "_nC67FB-QAvx"
      },
      "source": [
        "## Distribuição geométrica\n",
        "\n",
        "Realizamos uma série de ensaios de Bernoulli até obtermos sucesso. Temos $x$ falhas antes do sucesso.\n",
        "\n",
        "A distribuição geométrica é parametrizada por um único valor, $p$, a probabilidade de o julgamento de Bernoulli ser bem-sucedido.\n",
        "\n",
        "Função de massa de probabilidade:\n",
        "\n",
        "\\begin{align}\n",
        "P(x;p) = (1-p)^x p.\n",
        "\\end{align}"
      ]
    },
    {
      "cell_type": "markdown",
      "metadata": {
        "id": "QBZh8kMbxC9-"
      },
      "source": [
        "Nos esportes, é comum os jogadores fazerem várias tentativas de marcar pontos. Cada tentativa única pode ter dois resultados possíveis: pontuação ou não pontuação. Essas situações podem ser modeladas com distribuições geométricas. Qual a probabilidade de um jogador de basquete acertar uma cesta de 3 pontos na terceira tentativa, dado que a probabilidade de sucesso é de 30%?\n",
        "Mostre a curva de probabilidade por número de fracassos."
      ]
    },
    {
      "cell_type": "code",
      "execution_count": null,
      "metadata": {
        "id": "utkXpg-GP10B"
      },
      "outputs": [],
      "source": [
        "# Probabilidade de sucesso, p; e número de tentativas até o sucesso, k\n",
        "p=0.4\n",
        "k=3\n",
        "print('A chance de acertar na terceira tentativa é: ','{:.2%}'.format(geom.pmf(k,p)))\n",
        "mean, var = geom.stats(p, moments='mv')\n",
        "print('Média=%.3f, Variância=%.3f' % (mean, var))"
      ]
    },
    {
      "cell_type": "code",
      "execution_count": null,
      "metadata": {
        "id": "-oLADFlQy1vU"
      },
      "outputs": [],
      "source": [
        "# Criação da amostra\n",
        "p=0.3\n",
        "trials = 1000\n",
        "sample = geom.rvs(p, size=trials)\n",
        "# Plotagem dos resultados\n",
        "sns.set_style(\"darkgrid\")\n",
        "fig, ax = plt.subplots(figsize=(14,7))\n",
        "ax = sns.distplot(sample, bins = np.linspace(0,15,16)+0.5, kde=False, label='Distribuição Randômica',color=colors[0])\n",
        "k = range(1,15)\n",
        "ax.plot(k, geom.pmf(k, p)*trials, 'ro', label='Distribuição Geométrica Real')\n",
        "print(geom.pmf(k, p))\n",
        "ax.vlines(k, 0, geom.pmf(k, p)*trials, colors='r', lw=5, alpha=0.5)\n",
        "plt.legend()\n",
        "plt.xlim(1,15)\n",
        "ax.set_xlabel(\"Tentativas até o sucesso\",fontsize=16)\n",
        "ax.set_ylabel(\"Frequencia\",fontsize=16)\n",
        "plt.savefig(fname='Basquete_Hist', dpi=150)"
      ]
    },
    {
      "cell_type": "markdown",
      "metadata": {
        "id": "HFMiwxWcbi4N"
      },
      "source": [
        "## Distribuição de Poisson\n",
        "\n",
        "Eventos raros ocorrem com uma taxa $\\lambda$ por unidade de tempo. Não há *memória* de eventos anteriores; ou seja, essa taxa é independente do tempo. Um processo que gera esses eventos é chamado de processo de Poisson. A ocorrência de um evento raro nesse contexto é chamada de chegada. O número $x$ de chegadas em tempo unitário é distribuído por Poisson.\n",
        "\n",
        "O parâmetro único é a taxa $\\lambda$ dos eventos raros que ocorrem.\n",
        "\n",
        "A função de massa de probabilidade é dada por,\n",
        "\\begin{align}\n",
        "P(x;\\lambda) = \\frac{\\lambda^x}{x!}\\,\\mathrm{e}^{-\\lambda}.\n",
        "\\end{align}"
      ]
    },
    {
      "cell_type": "markdown",
      "metadata": {
        "id": "_Amv0I-9inix"
      },
      "source": [
        "Um telefone recebe em média 0,25 chamadas por hora. Qual a probabilidade de, em 4 horas, receber:\n",
        "*   No máximo 2 chamadas?\n",
        "*   Exatamente três chamadas?\n",
        "*   No mínimo 3 chamadas?"
      ]
    },
    {
      "cell_type": "code",
      "execution_count": null,
      "metadata": {
        "id": "wDotmOFQjs8O"
      },
      "outputs": [],
      "source": [
        "lamb_value=0.25\n",
        "tot=4\n",
        "mu=lamb_value*tot\n",
        "iterable = (poisson.pmf(i, mu) for i in range(0,3))\n",
        "values = np.fromiter(iterable, float) #The fromiter() function of Python numpy class creates a ndarray by using an iterable object. It returns a one-dimensional ndarray object\n",
        "print(values)\n",
        "aux = np.sum(values)\n",
        "#Pode-se usar a acumulada cdf\n",
        "aux2 = poisson.cdf(2, mu)\n",
        "print('A probabilidade de receber, no máximo, 2 chamadas, é: ','{:.2%}'.format(aux),'ou','{:.2%}'.format(aux2))"
      ]
    },
    {
      "cell_type": "code",
      "execution_count": null,
      "metadata": {
        "id": "KRo78m99bhxu"
      },
      "outputs": [],
      "source": [
        "x = 3\n",
        "print('A probabilidade de receber 3 chamadas, é: ','{:.2%}'.format(poisson.pmf(x,mu)))\n",
        "print('A probabilidade de receber no mínimo 3 chamadas, é: ','{:.2%}'.format(1-aux)) #lembre-se que 'aux' (ou 'aux2') é o valor acumulado P(0)+P(1)+P(2)"
      ]
    },
    {
      "cell_type": "markdown",
      "metadata": {
        "id": "i9NeLKzdpbiP"
      },
      "source": [
        "No exemplo abaixo,  para uma frequência $\\lambda = 2.5$ e um intervalo $t=4$, são testadas `trials = 10000` amostras.  Verifique que a maior frequência é de  `10`, isto é, $\\lambda t$."
      ]
    },
    {
      "cell_type": "code",
      "execution_count": null,
      "metadata": {
        "id": "3BdtLjepn7U2"
      },
      "outputs": [],
      "source": [
        "# Distribuição randômica\n",
        "lamb_value=2.5 #troque os valores de lambda e verifique a forma da curva\n",
        "tot=4\n",
        "mu=lamb_value*tot\n",
        "trials = 10000\n",
        "sample_poisson = poisson.rvs(mu, size=trials)\n",
        "# Plotagem dos resultados\n",
        "sns.set_style(\"darkgrid\")\n",
        "fig, ax = plt.subplots(figsize=(14,7))\n",
        "ax = sns.histplot(sample_poisson, bins = np.linspace(0,26,27)+0.5, kde=False, label='Distribuição Randômica',color=colors[0])\n",
        "k = range(0,25)\n",
        "ax.plot(k, poisson.pmf(k, mu)*trials, 'ro', label='Distribuição Geométrica Real')\n",
        "print(poisson.pmf(k, mu))\n",
        "ax.vlines(k, 0, poisson.pmf(k,mu)*trials, colors='r', lw=5, alpha=0.5)\n",
        "plt.legend()\n",
        "plt.xlim(0,25)\n",
        "ax.set_xlabel(\"Tentativas\",fontsize=16)\n",
        "ax.set_ylabel(\"Frequencia\",fontsize=16)\n",
        "plt.savefig(fname='Basquete_Hist', dpi=150)"
      ]
    },
    {
      "cell_type": "markdown",
      "metadata": {
        "id": "xng5OHvfsT8P"
      },
      "source": [
        "# Verossimilhança (Likekihood)\n",
        "\n",
        "Um dos conceitos mais fundamentais para Machine Learning é o de verossimilhança. Em cada uma das variáveis ​​aleatórias discretas que consideramos até agora, a distribuição depende de um ou mais parâmetros que são, na maioria das aplicações, desconhecidos. Na distribuição Binomial, o parâmetro é $p$, já que $n$ é normalmente fixo e conhecido.\n",
        "\n",
        "A função de verossimilhança é essencialmente a distribuição de uma variável aleatória (ou distribuição conjunta de todos os valores se for obtida uma amostra da variável aleatória) vista como uma função do(s) parâmetro(s). A razão para visualizá-lo dessa maneira é que os valores dos dados serão observados e podem ser substituídos, e o valor do parâmetro desconhecido que maximiza essa função de verossimilhança pode ser encontrado. A intuição é que esse valor maximizador é o que torna nossos dados observados mais prováveis.\n",
        "\n",
        "Vamos resumir a diferença entre *probabilidade* e *verossimilhança* da seguinte forma: a *probabilidade* quantifica a antecipação (do resultado), a *verossimilhança* quantifica a confiança (no modelo).\n",
        "\n",
        "Suponha que alguém nos desafia para um 'jogo de apostas lucrativo'. Então, as probabilidades nos servirão para calcular valores como o perfil esperado de seus ganhos e perdas (média, moda, mediana, variância, razão de informação, valor em risco, ruína dos jogadores e assim por diante). Em contraste, a verossimilhança nos servirá para quantificar se confiamos nessas probabilidades'.\n",
        "\n",
        "Para modelo Binomial,\n",
        "\\begin{align*}\n",
        "L(p|n,x) &= \\left(\\frac{n!}{x!\\left( n-x\\right)!}\\right) p^{x}(1-p)^{(n-x)}\\\\\n",
        "\\ell(p|n,x) &= \\sum_{i=1}^n x \\log{p} + \\sum_{i=1}^n (1-x)\\log{(1-p)}\n",
        "\\end{align*}\n",
        "\n",
        "Dessa forma, a primeira derivada da verossimilhança logarítmica (também chamada de *score function*) igualada a zero fornece o $p$ relacionado à máxima verossimilhança, ou MLE (do inglês, Maximum Likelihood Estimation).\n",
        "\n",
        "\\begin{align*}\n",
        "\\dfrac{\\partial\\ell(p|n,x)}{\\partial p} &=\\frac{\\partial\\left(\\frac{n!}{x!\\left( n-x\\right)!}\\right)}{\\partial p}+  \\frac{\\partial x \\log{p}}{\\partial p} +\\frac{ (n-x)\\log{(1-p)}} {\\partial p}\\overset{\\text{def}}{=}0\\\\\n",
        "\\dfrac{\\partial\\ell(p|n,x)}{\\partial p} &= \\dfrac{x}{p} - \\dfrac{(n-x)}{1-p} \\overset{\\text{def}}{=}0\\\\\n",
        "\\end{align*}\n",
        "Portanto,\n",
        "\\begin{align*}\n",
        "x - px +xp-np &= 0\\\\\n",
        "p& = \\dfrac{x}{n}\n",
        "\\end{align*}\n",
        "\n",
        "Veja a similaridade da resposta, considerando $n$ eventos independentes de Bernoulli, cada um podendo ocorrer $x=0$ (fracasso) ou $x=1$ (sucesso), dada a probabilidade $p$ de sucesso.\n",
        "\n",
        "\\begin{equation}\n",
        "L(p) = \\prod_{i=1}^np^{x_i}(1-p)^{1-x_i}\n",
        "\\end{equation}\n",
        "\n",
        "Portanto,\n",
        "\\begin{align*}\n",
        "\\ell(p) &= \\log{p}\\sum_{i=1}^n x_i + \\log{(1-p)}\\sum_{i=1}^n (1-x_i)\\\\\n",
        "\\dfrac{\\partial\\ell(p)}{\\partial p} &= \\dfrac{\\sum_{i=1}^n x_i}{p} - \\dfrac{\\sum_{i=1}^n (1-x_i)}{1-p} \\overset{\\text{def}}{=}0\n",
        "\\end{align*}\n",
        "\n",
        "Daí segue que,\n",
        "\\begin{align*}\n",
        "\\sum_{i=1}^n x_i - p\\sum_{i=1}^n x_i &= p\\sum_{i=1}^n (1-x_i)\\\\\n",
        "p& = \\dfrac{1}{n}\\sum_{i=1}^n x_i\n",
        "\\end{align*}\n",
        "\n",
        "\n"
      ]
    },
    {
      "cell_type": "markdown",
      "metadata": {
        "id": "pj6DS_aRamTp"
      },
      "source": [
        "### Coca zero ou normal?\n",
        "\n",
        "As pessoas gostam mais de coca zero ou coca normal?\n",
        "\n",
        "Supondo que você testou e descobriu que de 7, quatro escolhem coca zero. Plote o gráfico de verossimilhança e ache o MLE.\n",
        "\n",
        "\n",
        "![Coca](https://drive.google.com/uc?export=view&id=11MkuyJX18Sauz58D0nliUO96JPwz0wU3)\n",
        "\n",
        "\n"
      ]
    },
    {
      "cell_type": "code",
      "execution_count": null,
      "metadata": {
        "id": "OILoDY4zF0pu"
      },
      "outputs": [],
      "source": [
        "n,x = 7,4\n",
        "p = np.linspace(0.0,1.0,50)\n",
        "likelihood = []\n",
        "# veja que você pode usar a opção: success = binomial(n, p, size=k), que importamos no início\n",
        "for i in p:\n",
        "  likelihood.append([i,binom.pmf(x,n,i)])\n",
        "\n",
        "prob = np.array(likelihood)\n",
        "\n",
        "fig, ax = plt.subplots(figsize=(8,5))\n",
        "plt.scatter(prob[:,0],prob[:,1], color = colors[0])\n",
        "plt.scatter(0.4,binom.pmf(x,n,0.4), s = 70, color = colors[1])\n",
        "plt.scatter(0.57,binom.pmf(x,n,0.57), s = 70, color = colors[1])\n",
        "plt.scatter(0.8,binom.pmf(x,n,0.8), s = 70, color = colors[1])\n",
        "print(binom.pmf(x,n,0.4))\n",
        "plt.xlabel(r\"$p$\",fontsize=16)\n",
        "plt.ylabel(r\"$L(p|n,x)$\",fontsize=16)\n",
        "plt.show()"
      ]
    },
    {
      "cell_type": "code",
      "execution_count": null,
      "metadata": {
        "id": "fttk9pXrutcL"
      },
      "outputs": [],
      "source": [
        "n,x = 7,4\n",
        "p = np.linspace(0.0,1.0,50)\n",
        "likelihood = []\n",
        "# veja que você pode usar a opção: success = binomial(n, p, size=k), que importamos no início\n",
        "for i in p:\n",
        "  likelihood.append([i,np.log(binom.pmf(x,n,i))])\n",
        "\n",
        "prob = np.array(likelihood)\n",
        "\n",
        "fig, ax = plt.subplots(figsize=(8,5))\n",
        "plt.scatter(prob[:,0],prob[:,1], color = colors[0])\n",
        "\n",
        "plt.scatter(0.57,np.log(binom.pmf(x,n,0.57)), s = 70, color = colors[1])\n",
        "\n",
        "print(binom.pmf(x,n,0.4))\n",
        "plt.xlabel(r\"$p$\",fontsize=16)\n",
        "plt.ylabel(r\"$\\log[L(p|n,x)]$\",fontsize=16)\n",
        "plt.show()"
      ]
    },
    {
      "cell_type": "markdown",
      "metadata": {
        "id": "beuY1nFFpbcF"
      },
      "source": [
        "## Lançamento de moeda\n",
        "\n",
        "![Moeda](https://drive.google.com/uc?export=view&id=14riVSCXXNxPOxOWgre1_lT0pA-QGNIAk)\n",
        "\n",
        "Vamos fazer uma análise Bayesiana simples de um lançamento de moeda.\n",
        "\n",
        "Para os propósitos do experimento, suponha que você esteja jantando com seus amigos e um deles sugere um jogo - ele jogará uma moeda 20 vezes, por 3 vezes,  e a pessoa que prever o número de caras com mais precisão, em qualquer uma das jogadas, vence.\n",
        "\n",
        "O que queremos analisar, portanto, é a probabilidade de cara da moeda. Em outras palavras, queremos analisar se a moeda é equilibrada ou se há um viés na probabilidade de caras. Nosso parâmetro $\\theta$, portanto, é a probabilidade de cara da moeda.\n",
        "\n",
        "Vamos gerar nossa metodologia Bayesiana.\n",
        "O teorema de Bayes diz que precisamos pensar tanto em nossa distribuição amostral quanto em nossa distribuição a priori $p(\\theta)$. Podemos partir de duas ideias para nossa probabilidade a priori:\n",
        "\n",
        "1.  Conhecendo seu amigo, você suspeita que a moeda não é equilibrada. Porém, não tem uma boa razão para suspeitar que ela é mais desiquilibrada para cara em vez de coroa. Seu conhecimento prévio do parâmetro $p$ é, portanto, uma distribuição uniforme — de sua perspectiva, cada um dos valores de parâmetro é igualmente provável. Não se tem nenhuma ideia sobre isso, e considera-se uma distribuição igual para qualquer valor de $\\theta$ entre zero e 1.\n",
        "2. Você decide usar a experiência passada em observações de moedas e, portanto, espera que a probabilidade de observar caras seja 0.5."
      ]
    },
    {
      "cell_type": "markdown",
      "metadata": {
        "id": "Dhm6HYX_vygd"
      },
      "source": [
        "### Distribuições a priori"
      ]
    },
    {
      "cell_type": "markdown",
      "metadata": {
        "id": "8ITtASEwwBhx"
      },
      "source": [
        "Se você vai partir do princípio que seu amigo está com uma moeda desiquilibrada, sua distribuição a priori será dada por,"
      ]
    },
    {
      "cell_type": "code",
      "execution_count": null,
      "metadata": {
        "id": "27wlBPn8pbcM"
      },
      "outputs": [],
      "source": [
        "# Valores entre 0-1 que varrem todo espaço de valores que o parâmetro theta pode assumir\n",
        "param = np.linspace(0,1,1000)\n",
        "theta_prior = np.array([1]*len(param))\n",
        "\n",
        "#Plotando a distribuição a priori\n",
        "fig, ax = plt.subplots(figsize=(10, 4))\n",
        "\n",
        "plt.plot(param, theta_prior, color='navy')\n",
        "ax.set(title='Distribuição probabilidade a priori', xlabel=r'$\\theta$',\n",
        "       ylabel=r'$p(\\theta)$')\n",
        "plt.show()"
      ]
    },
    {
      "cell_type": "markdown",
      "metadata": {
        "id": "VTAFz0khvfHu"
      },
      "source": [
        "Se você vai partir do pressuposto de que a moeda é honesta, sua distribuição à priori pode ser dada pela simulação de um comportamento esperado com $p=0.5$, como `moeda_prior` definida abaixo. Uma técnica seria, quanto mais seguro você estiver, a priori, de que a moeda é honesta, maior é o número de lançamentos que você irá simular."
      ]
    },
    {
      "cell_type": "code",
      "execution_count": null,
      "metadata": {
        "id": "PlBlhPUOts0y"
      },
      "outputs": [],
      "source": [
        "moeda_prior = [0]*2+[1]*2\n",
        "print(moeda_prior)"
      ]
    },
    {
      "cell_type": "code",
      "execution_count": null,
      "metadata": {
        "id": "14ztpLqA7n8_"
      },
      "outputs": [],
      "source": [
        "param = linspace(0,1,10)\n",
        "theta_prior = np.array([np.prod(bernoulli.pmf(moeda_prior, p)) for p in param])\n",
        "print(theta_prior)"
      ]
    },
    {
      "cell_type": "code",
      "execution_count": null,
      "metadata": {
        "colab": {
          "base_uri": "https://localhost:8080/",
          "height": 411
        },
        "id": "09ZPC6gCxUYn",
        "outputId": "7dd571e6-55c3-4f13-e21e-56e21af13feb"
      },
      "outputs": [
        {
          "data": {
            "image/png": "[encoded data removed]",
            "text/plain": [
              "<Figure size 1000x400 with 1 Axes>"
            ]
          },
          "metadata": {},
          "output_type": "display_data"
        }
      ],
      "source": [
        "param = linspace(0,1,1000)\n",
        "#A distribuição de probabilidade a priori será a probabilidade de encontrarmos os valores\n",
        "#que definimos como moeda_prior para cada valor válido do parâmetro, que definimos em param\n",
        "theta_prior = np.array([np.prod(bernoulli.pmf(moeda_prior, p)) for p in param])\n",
        "# Normalizamos o valor, dado que não nos preocuparemos com p(E)\n",
        "theta_prior = theta_prior/np.sum(theta_prior)\n",
        "theta_initial = theta_prior\n",
        "\n",
        "MLE_index = np.argmax(theta_prior)\n",
        "MLE = param[MLE_index]\n",
        "\n",
        "fig, ax = plt.subplots(figsize=(10, 4))\n",
        "style = dict(size=10, color='dimgrey')\n",
        "\n",
        "plt.scatter(param, theta_prior, s = 3, alpha = 0.6, color='navy')\n",
        "plt.axvline(x=MLE, color='steelblue', linestyle='--')\n",
        "ax.text(MLE-0.01, 0.0005, r'$\\theta=$'+ '{:6.2f}'.format(MLE), ha='right', **style)\n",
        "# Label the axes\n",
        "ax.set(title='Distribuição probabilidade a priori', xlabel=r'$\\theta$',\n",
        "       ylabel=r'$p(\\theta)$')\n",
        "plt.show();"
      ]
    },
    {
      "cell_type": "markdown",
      "metadata": {
        "id": "_69aywdZpbcW"
      },
      "source": [
        "Precisamos simular os dados, ie, o lançamento da moeda 20 vezes, feito por nosso amigo. Supomos que nossa moeda é viesada, e dá cara $77\\%$ das vezes. __Veja que o valor real  $\\theta=0.77$ é o valor que não temos e estamos procurando__. Estamos usando aqui para simularmos a criação da distribuição de amostragem."
      ]
    },
    {
      "cell_type": "code",
      "execution_count": null,
      "metadata": {
        "colab": {
          "base_uri": "https://localhost:8080/"
        },
        "id": "3S88FE4CpbcG",
        "outputId": "16624820-b4aa-4572-b2b1-448febda9feb"
      },
      "outputs": [
        {
          "data": {
            "text/plain": [
              "array([1, 1, 1, 0, 1, 1, 1, 1, 1, 1])"
            ]
          },
          "execution_count": 31,
          "metadata": {},
          "output_type": "execute_result"
        }
      ],
      "source": [
        "moeda_obs = binom.rvs(n=1, p=0.77, size = 20)\n",
        "moeda_obs[:10]"
      ]
    },
    {
      "cell_type": "markdown",
      "metadata": {
        "id": "hodR-dEPLIwD"
      },
      "source": [
        "Veja que, se sua crença é que a moeda é equilibrada, seu primeiro chute deveria ser: 10 caras..."
      ]
    },
    {
      "cell_type": "code",
      "execution_count": null,
      "metadata": {
        "colab": {
          "base_uri": "https://localhost:8080/"
        },
        "id": "Lg37SGeyKWj3",
        "outputId": "c7b7d4d8-e413-4331-bdb2-975cc2e0b020"
      },
      "outputs": [
        {
          "name": "stdout",
          "output_type": "stream",
          "text": [
            "Seu primeiro chute deveria ser:   9 caras\n",
            "O número de caras do segundo lançamento foi:  17 caras\n"
          ]
        }
      ],
      "source": [
        "#Valor esperado\n",
        "print('Seu primeiro chute deveria ser:{:4d} caras'.format(int(MLE*20)))\n",
        "print('O número de caras do segundo lançamento foi:{:4d} caras'.format(sum(moeda_obs)))"
      ]
    },
    {
      "cell_type": "markdown",
      "metadata": {
        "id": "EH-lBu1K-JKZ"
      },
      "source": [
        "Agora, você tem o resultado das 20 primeiras jogadas. Peça um tempo para seu amigo, e use Bayes para atualizar suas crenças."
      ]
    },
    {
      "cell_type": "code",
      "execution_count": null,
      "metadata": {
        "id": "UURyMMb5pbcX"
      },
      "outputs": [],
      "source": [
        "# Verossimilhança\n",
        "theta_obs = np.array([np.prod(bernoulli.pmf(moeda_obs, p)) for p in param])\n",
        "theta_obs = theta_obs/np.sum(theta_obs)\n",
        "\n",
        "fig, ax = plt.subplots(figsize=(10, 4))\n",
        "style = dict(size=10, color='dimgrey')\n",
        "\n",
        "MLE_index = np.argmax(theta_obs)\n",
        "MLE = param[MLE_index]\n",
        "\n",
        "aux = np.mean(moeda_obs)\n",
        "plt.plot(param, theta_obs, color='navy')\n",
        "plt.axvline(x=MLE, color='steelblue', linestyle='--')\n",
        "ax.text(MLE-0.01, 0.0005, r'$\\theta=$'+ '{:6.2f}'.format(MLE), ha='right', **style)\n",
        "# Label the axes\n",
        "ax.set(title='Distribuição da amostra', xlabel=r'$\\theta$', ylabel=r'$p(\\theta)$')\n",
        "plt.show()"
      ]
    },
    {
      "cell_type": "markdown",
      "metadata": {
        "id": "Chie1Gg4pbcb"
      },
      "source": [
        "Embora as observações de nossa distribuição amostral indiquem uma probabilidade mais perto de $0.77$, temos uma crença inicial de que nosso parâmetro é $\\theta = 0.5$. A nossa distribuição posterior levará em conta nossa observação e nossas crenças, de modo que:\n",
        "$$\n",
        "p(H|E) \\propto p(E|H) * p(H)\\ OU \\ Posterior\\ \\propto Verossimilhança\\ *  Prior\n",
        "$$"
      ]
    },
    {
      "cell_type": "code",
      "execution_count": null,
      "metadata": {
        "id": "lAnyv5BApbcb"
      },
      "outputs": [],
      "source": [
        "theta_posterior = [theta_prior[i] * theta_obs[i] for i in range(len(theta_prior))]\n",
        "theta_posterior = theta_posterior/np.sum(theta_posterior)\n",
        "\n",
        "MLE_index = np.argmax(theta_posterior)\n",
        "MLE = param[MLE_index]\n",
        "\n",
        "fig, ax = plt.subplots(figsize=(10, 4))\n",
        "style = dict(size=10, color='dimgrey')\n",
        "\n",
        "plt.plot(param, theta_posterior, color = 'rebeccapurple',label='Posterior')\n",
        "plt.plot(param, theta_prior, color='navy',label='Prior')\n",
        "# Label the axes\n",
        "plt.axvline(x=MLE, color='mediumpurple', linestyle='--')\n",
        "ax.set(title='Prior e Posterior', xlabel=r'$\\theta$',\n",
        "       ylabel=r'$p(\\theta)$')\n",
        "ax.text(MLE-0.01, 0.0005, r'$\\theta=$'+ '{:04.2f}'.format(MLE), ha='right', **style)\n",
        "plt.legend()\n",
        "plt.show()\n"
      ]
    },
    {
      "cell_type": "markdown",
      "metadata": {
        "id": "IQi0Bh9i1Un2"
      },
      "source": [
        "Andamos muito pouco para estarmos convencidos de que nossa  moeda não é equilibrada.\n",
        "\n",
        "O caminho agora é considerar a distribuição a posterior como prior..."
      ]
    },
    {
      "cell_type": "code",
      "execution_count": null,
      "metadata": {
        "id": "mtxc66GH2MiQ"
      },
      "outputs": [],
      "source": [
        "theta_prior = theta_posterior"
      ]
    },
    {
      "cell_type": "markdown",
      "metadata": {
        "id": "rIDRDz95E05i"
      },
      "source": [
        "... E depois, pedirmos ao nosso amigo para lançar a moeda $n=20$ vezes novamente."
      ]
    },
    {
      "cell_type": "code",
      "execution_count": null,
      "metadata": {
        "id": "pbbJkkTiFByL"
      },
      "outputs": [],
      "source": [
        "# Verossimilhança\n",
        "moeda_obs = np.random.binomial(n=1, p=0.77, size = 20)\n",
        "print(moeda_obs)\n",
        "theta_obs = np.array([np.prod(bernoulli.pmf(moeda_obs, theta)) for theta in param])\n",
        "theta_obs = theta_obs/np.sum(theta_obs)"
      ]
    },
    {
      "cell_type": "code",
      "execution_count": null,
      "metadata": {
        "id": "5ZYgM8TfKJPT"
      },
      "outputs": [],
      "source": [
        "#Veja qual deveria ter sido seu chute antes desse segundo lançamento e qual o número de caras que saiu\n",
        "print('Seu segundo chute deveria ser:{:4d}'.format(int(MLE*20)))\n",
        "print('O número de caras do segundo lançamento foi:{:4d}'.format(sum(moeda_obs)))"
      ]
    },
    {
      "cell_type": "code",
      "execution_count": null,
      "metadata": {
        "id": "F6AqAr_p2ova"
      },
      "outputs": [],
      "source": [
        "theta_posterior = [theta_prior[i] * theta_obs[i] for i in range(len(theta_prior))]\n",
        "theta_posterior = theta_posterior/np.sum(theta_posterior)\n",
        "\n",
        "fig, ax = plt.subplots(figsize=(10, 4))\n",
        "style = dict(size=10, color='dimgrey')\n",
        "\n",
        "MLE_index = np.argmax(theta_posterior)\n",
        "MLE = param[MLE_index]\n",
        "\n",
        "plt.plot(param, theta_posterior, color = 'rebeccapurple',label='Posterior')\n",
        "plt.plot(param, theta_prior, color='slateblue',label='Prior')\n",
        "plt.plot(param, theta_initial, color='navy',label='Inicial')\n",
        "plt.axvline(x=MLE, color='mediumpurple', linestyle='--')\n",
        "ax.text(MLE-0.01, 0.0005, r'$\\theta=$'+ '{:04.2f}'.format(MLE), ha='right', **style)\n",
        "ax.set(title='Prior e Posterior', xlabel=r'$\\theta$',\n",
        "       ylabel=r'$p(\\theta)$')\n",
        "plt.legend()\n",
        "plt.show()"
      ]
    },
    {
      "cell_type": "markdown",
      "metadata": {
        "id": "taYFIkZvH0PQ"
      },
      "source": [
        "Percebeu que, a cada 20 lançamentos, seu *chute* será mais direcionado?"
      ]
    },
    {
      "cell_type": "markdown",
      "metadata": {
        "id": "SA-eNhIfpbce"
      },
      "source": [
        "### <font color=green > Faça você...\n",
        "<font color=green > No Moodle, será definida uma crença inicial e o valor valor $p$ de probabilidade de número de caras da moeda que seu amigo irá jogar.\n",
        "Quanto à crença inicial, serão definidos dois dados:\n",
        "1. se a moeda é honesta, é viesada para maior número de caras, ou é viesada para maior número de coroas;\n",
        "2. se a sua crença será forte ou fraca.\n",
        "\n",
        "<font color=green > Com esses dados, escreva um texto que deve ser ilustrado por, no mínimo, 3 gráficos. O texto deve conter a definição, com justificativa, de quais seriam seus 3 \"chutes\": inicial, e depois de cada vez que seu amigo joga 20x a moeda. Escreva também as suas conclusões a respeito do desempenho de seus resultados. Os 3 gráficos sugeridos são:\n",
        "1. crença inicial;\n",
        "2. sua crença atualizada após a primeira vez que seu amigo joga a moeda 20x,\n",
        "3. sua crença atualizada após a segunda vez que seu amigo joga a moeda 20x."
      ]
    }
  ],
  "metadata": {
    "colab": {
      "provenance": [],
      "toc_visible": true
    },
    "kernelspec": {
      "display_name": "Python 3",
      "language": "python",
      "name": "python3"
    },
    "language_info": {
      "codemirror_mode": {
        "name": "ipython",
        "version": 3
      },
      "file_extension": ".py",
      "mimetype": "text/x-python",
      "name": "python",
      "nbconvert_exporter": "python",
      "pygments_lexer": "ipython3",
      "version": "3.10.13"
    }
  },
  "nbformat": 4,
  "nbformat_minor": 0
}
