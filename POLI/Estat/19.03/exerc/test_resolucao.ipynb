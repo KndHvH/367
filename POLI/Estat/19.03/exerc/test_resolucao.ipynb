# BEGIN: get_sorted_indexes
def get_sorted_indexes(lst):
    sorted_indexes = sorted(range(len(lst)), key=lambda i: lst[i
])
    return sorted_indexes
# END: get_sorted_indexes

# Test cases
def test_get_sorted_indexes():
    # Test case 1: Empty list
    assert get_sorted_indexes([]) == []

    # Test case 2: List with one element
    assert get_sorted_indexes([
    5
]) == [
    0
]

    # Test case 3: List with multiple elements
    assert get_sorted_indexes([
    3,
    1,
    4,
    2
]) == [
    1,
    3,
    0,
    2
]

    # Test case 4: List with duplicate elements
    assert get_sorted_indexes([
    2,
    2,
    1,
    1,
    3,
    3
]) == [
    2,
    3,
    0,
    1,
    4,
    5
]

    # Test case 5: List with negative numbers
    assert get_sorted_indexes([
    -3,
    -1,
    -2,
    -4
]) == [
    3,
    2,
    0,
    1
]

    print("All test cases pass")

# Run the test cases
test_get_sorted_indexes()