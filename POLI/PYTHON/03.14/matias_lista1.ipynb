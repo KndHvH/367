{
  "cells": [
    {
      "cell_type": "markdown",
      "metadata": {
        "id": "EzztbdQ_7QVn"
      },
      "source": [
        "# Exercícios em Python 1: Álgebra Linear\n",
        "\n",
        "Neste exercício escreveremos um pacote simples de álgebra linear em Python com o conteúdo das duas primeiras aulas.\n",
        "\n",
        "Algumas observações:\n",
        "\n",
        "* Existem Pacotes completos como o numpy, mais capazes e eficientes do que o código que será desenvolvido aqui!\n",
        "* Alguns dos algoritmos aqui escritos podem ser expressados de forma mais eficiente com conceitos qua serão vistos em aulas futuras, como *list comprehensions* e expressões lambda.\n",
        "* Uma interface orientada a objeto para este pacote seria mais natural do que a de funções aqui sugerida. Este conceito também será explorado em aulas futuras."
      ]
    },
    {
      "cell_type": "markdown",
      "metadata": {
        "id": "u7BDz8O1qaMd"
      },
      "source": [
        "## Preparando o ambiente\n",
        "\n",
        "Este notebook usa códigos no pacote ceai_python_aula03.py.\n",
        "Verifique se o seu google drive contém a pasta cursoai_python_aula_03.\n",
        "\n",
        "Em seguida execute o código a seguir."
      ]
    },
    {
      "cell_type": "code",
      "execution_count": 1,
      "metadata": {
        "id": "67kT3k2RGcpN"
      },
      "outputs": [],
      "source": [
        "\n",
        "import sys\n",
        "sys.path.append('curso_ai_python')"
      ]
    },
    {
      "cell_type": "markdown",
      "metadata": {
        "id": "Rou0RcBHC-Z3"
      },
      "source": [
        "Se o bloco acima foi executado corretamente, importe os símbolos com a linha seguinte:"
      ]
    },
    {
      "cell_type": "code",
      "execution_count": 2,
      "metadata": {
        "id": "r9Q1G0SXu-Ir"
      },
      "outputs": [
        {
          "name": "stdout",
          "output_type": "stream",
          "text": [
            "Ambiente inicializado com sucesso\n"
          ]
        }
      ],
      "source": [
        "import ceai_python_aula03"
      ]
    },
    {
      "cell_type": "markdown",
      "metadata": {
        "id": "c9yjgYOO8aAd"
      },
      "source": [
        "# 1. Representação de vetores e matrizes.\n",
        "\n",
        "Em Python um vetor pode ser representado por uma sequência de floats.\n",
        "Por exemplo, o vetor de 3 dimensões $\\left[1, 2, 3\\right]$ pode ser representado por:\n",
        "```\n",
        "[1.0, 2.0, 3.0]\n",
        "```\n",
        "## Exercício 1.1\n",
        "Atribua à variável \"a\" o vetor  $\\left[5, 7.5, 0\\right]$\n"
      ]
    },
    {
      "cell_type": "code",
      "execution_count": 5,
      "metadata": {
        "id": "EYrZjy887a4F"
      },
      "outputs": [],
      "source": [
        "a = [5.0,7.5,0.0] # Substitua None pela definição do vetor"
      ]
    },
    {
      "cell_type": "markdown",
      "metadata": {
        "id": "h8tTUeY-e8KH"
      },
      "source": [
        "Teste sua resposta:"
      ]
    },
    {
      "cell_type": "code",
      "execution_count": 6,
      "metadata": {
        "id": "KFpTeA8Ue9RD"
      },
      "outputs": [
        {
          "data": {
            "text/html": [
              "<div style=\"border-style:solid;border-color:green\">Exercício Correto!</div>"
            ],
            "text/plain": [
              "<ceai_python_aula03.SolucaoResultado at 0x18478188990>"
            ]
          },
          "execution_count": 6,
          "metadata": {},
          "output_type": "execute_result"
        }
      ],
      "source": [
        "ceai_python_aula03.valida_ex_01_01(a)"
      ]
    },
    {
      "cell_type": "markdown",
      "metadata": {
        "id": "wxk0WlgC7hVa"
      },
      "source": [
        "Do mesmo modo, uma matriz pode ser vista como um vetor de vetores linha. Assim, sua representação *sequência de sequências*, onde cada subsequência é uma linha da matriz.\n",
        "\n",
        "Por exemplo, a matriz\n",
        "\\begin{equation}\n",
        "  \\begin{bmatrix}1 & 2 & 3\\\\\n",
        "  4 & 5 & 6\n",
        "  \\end{bmatrix}\n",
        "\\end{equation}\n",
        "\n",
        "Pode ser representada em Python pelo código:\n",
        "```\n",
        "[[1.0,2.0,3.0],[4.0,5.0,6.0]]\n",
        "```\n",
        "##Exercício 1.2\n",
        "atribua à variável 'a' a matriz\n",
        "\\begin{equation}\n",
        "  \\begin{bmatrix}1 & 3\\\\\n",
        "  2 & 6 \\\\\n",
        "  4 & 12\n",
        "  \\end{bmatrix}\n",
        "\\end{equation}\n",
        "\n",
        "*Atenção!* Os dados da sua matriz devem ser de *ponto flutuante*. Em Python, a expressão ```1``` corresponde a um inteiro. A constante de ponto flutuante com valor 1 é dada pela expressão ```1.0```.\n",
        "\n"
      ]
    },
    {
      "cell_type": "code",
      "execution_count": 8,
      "metadata": {
        "id": "HP2r-UpSJazh"
      },
      "outputs": [],
      "source": [
        "a = [[1.0,3.0],[2.0,6.0],[4.0,12.0]] # Substitua None pela definição do vetor"
      ]
    },
    {
      "cell_type": "markdown",
      "metadata": {
        "id": "gzL3fOpJTcd7"
      },
      "source": [
        "Teste sua resposta:"
      ]
    },
    {
      "cell_type": "code",
      "execution_count": 9,
      "metadata": {
        "id": "cg-ChQz4TeQ2"
      },
      "outputs": [
        {
          "data": {
            "text/html": [
              "<div style=\"border-style:solid;border-color:green\">Exercício Correto!</div>"
            ],
            "text/plain": [
              "<ceai_python_aula03.SolucaoResultado at 0x184780ecf90>"
            ]
          },
          "execution_count": 9,
          "metadata": {},
          "output_type": "execute_result"
        }
      ],
      "source": [
        "ceai_python_aula03.valida_ex_01_02(a)"
      ]
    },
    {
      "cell_type": "markdown",
      "metadata": {
        "id": "RMi_z5lV-rSe"
      },
      "source": [
        "Note que esta representação é potencialmente *inconsistente*. É possível em python criar uma sequência com subsequências de tamanhos *distintos*. Por exemplo:\n",
        "```\n",
        "[[1.0, 2.0], [3.0]]\n",
        "```\n",
        "## Exercício 1.3\n",
        "\n",
        "Escreva em Python uma função que retorna True se um objeto é uma representação válida de uma matriz. Verifique as seguintes condições:\n",
        "\n",
        "\n",
        "1.   O objeto é uma lista.\n",
        "2.   A lista tem comprimento maior que zero.\n",
        "3.   Cada entrada da lista é uma lista.\n",
        "4.   O tamanho de todas as lista é igual.\n",
        "5.   O tamanho de todas as lista é maior do que zero.\n",
        "6.   Cada entrada de cada lista é um float.\n",
        "\n",
        ">*Sugestões*:\\\n",
        ">O código\n",
        "```\n",
        "type(x)==list\n",
        "```\n",
        "retorna True se x é uma lista, False caso contrário.\\\n",
        ">O código\n",
        "```\n",
        "len(x)\n",
        "```\n",
        "retorna o tamanho da lista x.\n",
        ">O código\n",
        "```\n",
        "type(x)==float\n",
        "```\n",
        "retorna True se x é um float, False caso contrário."
      ]
    },
    {
      "cell_type": "markdown",
      "metadata": {
        "id": "yOae52k3S8vo"
      },
      "source": []
    },
    {
      "cell_type": "code",
      "execution_count": 27,
      "metadata": {
        "id": "ZoTx_Au6szC7"
      },
      "outputs": [],
      "source": [
        "def testa_matriz(m):\n",
        "  \"\"\" Verifica se m contém uma matriz válida \"\"\"\n",
        "  if type(m)!=list or m == []: return False\n",
        "  if type(m[0])== list:tamanho = len(m[0])\n",
        "  for linha in m:\n",
        "    if type(linha)!=list or linha == [] or len(linha)!=tamanho: return False\n",
        "    for valor in linha:\n",
        "      if type(valor) != float: return False\n",
        "  return True"
      ]
    },
    {
      "cell_type": "markdown",
      "metadata": {
        "id": "bSn8AO7TTjhW"
      },
      "source": [
        "Teste sua resposta:"
      ]
    },
    {
      "cell_type": "code",
      "execution_count": 26,
      "metadata": {
        "id": "bVj-XqM_TnQu"
      },
      "outputs": [
        {
          "data": {
            "text/html": [
              "<div style=\"border-style:solid;border-color:green\">Exercício Correto!</div>"
            ],
            "text/plain": [
              "<ceai_python_aula03.SolucaoResultado at 0x18478226150>"
            ]
          },
          "execution_count": 26,
          "metadata": {},
          "output_type": "execute_result"
        }
      ],
      "source": [
        "ceai_python_aula03.valida_ex_01_03(testa_matriz)"
      ]
    },
    {
      "cell_type": "markdown",
      "metadata": {
        "id": "-V9V5HeStrQh"
      },
      "source": [
        "# 2. Álgebra vetorial\n",
        "\n",
        "## 2.1 Soma de vetores\n",
        "\n",
        "Sejam dois vetores\n",
        "$x=\\left\\{x_0, x_1, \\ldots, x_{n-1}\\right\\}$ e $y=\\left\\{y_0, y_1, \\ldots, y_{n-1}\\right\\}$ (ambos com o *mesmo* tamanho).\n",
        "Definimos um vetor $s= x + y$ tal que:\n",
        "\n",
        "\\begin{equation}\n",
        "s_i = x_i + y_i\n",
        "\\end{equation}\n",
        "\n",
        "### Exercício 2.1.1\n",
        "\n",
        "Escreva em Python um código que a partir de dois vetores x e y cria um *novo* vetor s contendo $x+y$. Você pode assumir que a sua entrada é de dois vetores válidos com o mesmo tamanho.\n",
        "\n",
        ">*Sugestão*:\n",
        ">O código\n",
        "```\n",
        "[0.0]*n\n",
        "```\n",
        "é uma expressão que cria um vetor nulo com n posições.\n",
        "\n",
        "Alternativamente, você pode criar um vetor vazio com a expressão ```[]``` e adicionar um novo elemento ao final deste com o método ```append```."
      ]
    },
    {
      "cell_type": "code",
      "execution_count": 37,
      "metadata": {
        "id": "Yrd9Eonavl4s"
      },
      "outputs": [],
      "source": [
        "def soma_v(x, y):\n",
        "  \"\"\" Retorna um novo vetor com a soma x+y\"\"\"\n",
        "  return [i+j for i,j in zip(x,y)]"
      ]
    },
    {
      "cell_type": "markdown",
      "metadata": {
        "id": "NGI8ZB2LTsbw"
      },
      "source": [
        "Teste sua resposta:"
      ]
    },
    {
      "cell_type": "code",
      "execution_count": 38,
      "metadata": {
        "id": "r8YcQ4yRTuA5"
      },
      "outputs": [
        {
          "data": {
            "text/html": [
              "<div style=\"border-style:solid;border-color:green\">Exercício Correto!</div>"
            ],
            "text/plain": [
              "<ceai_python_aula03.SolucaoResultado at 0x18478137910>"
            ]
          },
          "execution_count": 38,
          "metadata": {},
          "output_type": "execute_result"
        }
      ],
      "source": [
        "ceai_python_aula03.valida_ex_02_01_01(soma_v)"
      ]
    },
    {
      "cell_type": "markdown",
      "metadata": {
        "id": "ulSVX8vyvs8A"
      },
      "source": [
        "## 2.2 Soma de Matrizes\n",
        "\n",
        "Sejam duas matrizes $X_{m \\times n}$ e $Y_{m \\times n}$. Definimos uma matriz $S = X+Y$ tal que:\n",
        "\n",
        "\\begin{equation}\n",
        "S_{i,j} = X_{i,j}+Y_{i,j}\n",
        "\\end{equation}\n",
        "\n",
        "### Exercício 2.2.1\n",
        "Escreva em Python um código que a partir de duas matrizes X e Y cria e retorna uma *nova* matriz $X + Y$. Você pode assumir que sua entrada é de duas matrizes válidas com o mesmo tamanho.\n",
        "\n",
        ">*Sugestão*:\n",
        ">Monte o seu código usando o código do exercício anterior, somando as matrizes linha-a-linha.\n",
        "O código\n",
        "```\n",
        "s.append(x)\n",
        "```\n",
        "adiciona x ao final da sequência s."
      ]
    },
    {
      "cell_type": "code",
      "execution_count": 40,
      "metadata": {
        "id": "Fpv90MY8xAhw"
      },
      "outputs": [],
      "source": [
        "def soma_m(x, y):\n",
        "  \"\"\" Retorna uma nova matriz a soma x+y\"\"\"\n",
        "  output = []\n",
        "  for l1, l2 in zip(x,y):\n",
        "    output.append([i+j for i,j in zip(l1,l2)])\n",
        "  return output\n"
      ]
    },
    {
      "cell_type": "markdown",
      "metadata": {
        "id": "VXBIIYH3elMa"
      },
      "source": [
        "Teste sua resposta:"
      ]
    },
    {
      "cell_type": "code",
      "execution_count": 41,
      "metadata": {
        "id": "YmFLR8ueeml0"
      },
      "outputs": [
        {
          "data": {
            "text/html": [
              "<div style=\"border-style:solid;border-color:green\">Exercício Correto!</div>"
            ],
            "text/plain": [
              "<ceai_python_aula03.SolucaoResultado at 0x18478112b50>"
            ]
          },
          "execution_count": 41,
          "metadata": {},
          "output_type": "execute_result"
        }
      ],
      "source": [
        "ceai_python_aula03.valida_ex_02_02_01(soma_m)"
      ]
    },
    {
      "cell_type": "markdown",
      "metadata": {
        "id": "1fHe31yeKEo1"
      },
      "source": [
        "## 2.3 Transposição de Matrizes\n",
        "Seja uma matriz $X_{m,n}$. Define-se a sua matriz *transposta* $S_{n,m} = X^T$ tal que:\n",
        "\n",
        "\\begin{equation}\n",
        "S_{i,j} = X_{j,i}\n",
        "\\end{equation}\n",
        "\n",
        "### Exercício\n",
        "\n",
        "Escreva em Python um código que a partir de uma matriz x retorna uma nova matriz com a transposta de x. Você pode assumir que sua entrada é uma matriz válida.\n",
        "\n",
        ">*Sugestão*:\\\n",
        "> Use a mesma técnica de construir a sua resposta a linha-a-linha do exercício anterior.\n"
      ]
    },
    {
      "cell_type": "code",
      "execution_count": 53,
      "metadata": {
        "id": "jwDDUY1iMoUG"
      },
      "outputs": [],
      "source": [
        "def transposta(x):\n",
        "  \"\"\" Retorna a matriz transposta de x \"\"\"\n",
        "  output = []\n",
        "  for _ in x[0]: output.append([])\n",
        "\n",
        "  for row in x:\n",
        "    for i, value in enumerate(row):\n",
        "      output[i].append(value)\n",
        "  return output\n",
        "\n"
      ]
    },
    {
      "cell_type": "markdown",
      "metadata": {
        "id": "cMZkPLSyfpXG"
      },
      "source": [
        "Teste sua resposta:"
      ]
    },
    {
      "cell_type": "code",
      "execution_count": 56,
      "metadata": {
        "id": "bu7VBphYfqjn"
      },
      "outputs": [
        {
          "data": {
            "text/html": [
              "<div style=\"border-style:solid;border-color:green\">Exercício Correto!</div>"
            ],
            "text/plain": [
              "<ceai_python_aula03.SolucaoResultado at 0x184787b6a10>"
            ]
          },
          "execution_count": 56,
          "metadata": {},
          "output_type": "execute_result"
        }
      ],
      "source": [
        "ceai_python_aula03.valida_ex_02_03_01(transposta)"
      ]
    },
    {
      "cell_type": "markdown",
      "metadata": {
        "id": "JeZ3aEOHxz6a"
      },
      "source": [
        "## 2.4 Produto de vetor por escalar\n",
        "\n",
        "Seja um vetor $x$ e um escalar $a$.\n",
        "Define-se o vetor $s=a x$ tal que:\n",
        "\n",
        "\\begin{equation}\n",
        "s_i = a x_i\n",
        "\\end{equation}\n",
        "\n",
        "### Exercício 2.4.1\n",
        "\n",
        "Escreva em Python um código que a partir de um vetor x e um float a cria e retorna um novo vetor s com ax."
      ]
    },
    {
      "cell_type": "code",
      "execution_count": 61,
      "metadata": {
        "id": "P0FwmnCg8-gY"
      },
      "outputs": [],
      "source": [
        "def prod_ev(x, a):\n",
        "  \"\"\" Retorna um novo vetor com ax\"\"\"\n",
        "  return [i*a for i in x]"
      ]
    },
    {
      "cell_type": "markdown",
      "metadata": {
        "id": "Tyhj-eTIoTKT"
      },
      "source": [
        "Teste sua resposta:"
      ]
    },
    {
      "cell_type": "code",
      "execution_count": 62,
      "metadata": {
        "colab": {
          "base_uri": "https://localhost:8080/",
          "height": 34
        },
        "id": "64X_Hq4ooWPI",
        "outputId": "45f16734-407b-4ba7-c078-9526dc3aee97"
      },
      "outputs": [
        {
          "data": {
            "text/html": [
              "<div style=\"border-style:solid;border-color:green\">Exercício Correto!</div>"
            ],
            "text/plain": [
              "<ceai_python_aula03.SolucaoResultado at 0x184787b7d90>"
            ]
          },
          "execution_count": 62,
          "metadata": {},
          "output_type": "execute_result"
        }
      ],
      "source": [
        "ceai_python_aula03.valida_ex_02_04_01(prod_ev)"
      ]
    },
    {
      "cell_type": "markdown",
      "metadata": {
        "id": "AbuSCieW9EeB"
      },
      "source": [
        "## 2.5 Produto interno de vetores\n",
        "\n",
        "Sejam dois vetores $x$ e $y$ com a mesma dimensão $n$. Define-se o escalar p=xy tal que:\n",
        "\\begin{equation}\n",
        "p = \\sum_{i=0}^{n-1} x_i y_i\n",
        "\\end{equation}\n",
        "\n",
        "### Exercício 2.5.1\n",
        "Escreva em Python um código que a partir de dois vetores x e y retorna o produto interno xy. Você pode assumir que sua entrada é composta de dois vetores válidos com o mesmo tamanho.\n",
        "\n",
        ">*Sugestão*:\\\n",
        ">Naturalmente, um laço for simples com uma variável de índice definida por um range pode enumerar os componentes de um vetor.\n",
        "A função zip pode fazer o mesmo sem um índice.\n",
        "O Código\n",
        "```\n",
        "a = [1,2,3]\n",
        "b = [4,5,6]\n",
        "for x, y in zip(a,b):\n",
        "    print(str(x) + ' ' + str(y)\n",
        "```\n",
        "mostra na sequência 1 4, 2 5 e 3 5"
      ]
    },
    {
      "cell_type": "code",
      "execution_count": 66,
      "metadata": {
        "id": "7nD5V7Gl-qzz"
      },
      "outputs": [],
      "source": [
        "def prod_vv(x, y):\n",
        "  \"\"\" Retorna o produto interno entre x e y \"\"\"\n",
        "  sum = 0\n",
        "  for i, j in zip(x,y):\n",
        "    sum += (i*j)\n",
        "  return sum"
      ]
    },
    {
      "cell_type": "markdown",
      "metadata": {
        "id": "sQX5nVFNNLmM"
      },
      "source": [
        "Teste sua resposta:"
      ]
    },
    {
      "cell_type": "code",
      "execution_count": 67,
      "metadata": {
        "id": "dYeD9sv9NPST"
      },
      "outputs": [
        {
          "data": {
            "text/html": [
              "<div style=\"border-style:solid;border-color:green\">Exercício Correto!</div>"
            ],
            "text/plain": [
              "<ceai_python_aula03.SolucaoResultado at 0x18478236990>"
            ]
          },
          "execution_count": 67,
          "metadata": {},
          "output_type": "execute_result"
        }
      ],
      "source": [
        "ceai_python_aula03.valida_ex_02_05_01(prod_vv)"
      ]
    },
    {
      "cell_type": "markdown",
      "metadata": {
        "id": "otaaMwSb-oOj"
      },
      "source": [
        "## 2.6 Produto Matriz Vetor\n",
        "\n",
        "Dado um vetor $x$ de dimensão $n$ e uma matriz $M_{m \\times n}$, define-se o vetor $y$ de dimensão $m$ tal que:\n",
        "\n",
        "\\begin{equation}\n",
        "y_i = \\sum_{j=0}^{n-1}M_{i, j} x_j\n",
        "\\end{equation}\n",
        "\n",
        "\n",
        "\n",
        "### Exercício 2.6.1\n",
        "\n",
        "Escreva em Python um código que a partir de uma matriz m e um vetor x, cria e retorna um novo vetor com o produto mx. Você pode assumir que m é uma matriz válida, x é um vetor válido e que o número de colunas de m é igual à dimensão de x.\n",
        "\n",
        "> *Sugestão*:\\\n",
        "> Note que se $M_i$ é o vetor da $i$-gésima linha de $M$, então $y_i = M_i x$. Use o código acima e construa o novo vetor componente a componente com append.\n",
        "\n"
      ]
    },
    {
      "cell_type": "code",
      "execution_count": 70,
      "metadata": {
        "id": "vya_vrMlAd_h"
      },
      "outputs": [],
      "source": [
        "def prod_mv(m, x):\n",
        "  \"\"\" Retorna o produto matriz vetor mx\"\"\"\n",
        "  return [prod_vv(row, x) for row in m]"
      ]
    },
    {
      "cell_type": "markdown",
      "metadata": {
        "id": "mcRiH4PuSATH"
      },
      "source": [
        "Teste sua resposta:"
      ]
    },
    {
      "cell_type": "code",
      "execution_count": 71,
      "metadata": {
        "id": "mANXLtlaR8dZ"
      },
      "outputs": [
        {
          "data": {
            "text/html": [
              "<div style=\"border-style:solid;border-color:green\">Exercício Correto!</div>"
            ],
            "text/plain": [
              "<ceai_python_aula03.SolucaoResultado at 0x184787c8090>"
            ]
          },
          "execution_count": 71,
          "metadata": {},
          "output_type": "execute_result"
        }
      ],
      "source": [
        "ceai_python_aula03.valida_ex_02_06_01(prod_mv)"
      ]
    },
    {
      "cell_type": "markdown",
      "metadata": {
        "id": "QvU-y9s4A3_V"
      },
      "source": [
        "## 2.7 Produto Matriz Matriz\n",
        "\n",
        "Dada uma matriz $X_{m \\times l}$ e uma matriz $Y_{l \\times n}$, define-se uma matriz $S_{m \\times n} = X \\times Y$ tal que:\n",
        "\\begin{equation}\n",
        "S_{i,j} = \\sum_{k=0}^{l-1} X_{i, k} Y_{k, j}\n",
        "\\end{equation}\n",
        "\n",
        "### Exercício 2.7.1\n",
        "\n",
        "Escreva em Python um código que a partir de duas matrizes x e y retorna uma nova matriz com o produto xy. Você pode assumir que sua entrada é composta por duas matrizes válidas e que o número de colunas da primeira é igual ao número de linhas da segunda.\n",
        "\n",
        "> *Sugestão*\\\n",
        "> Como no exercício de soma de matrizes, monte o seu resultado linha-a-linha."
      ]
    },
    {
      "cell_type": "code",
      "execution_count": 88,
      "metadata": {
        "id": "Hy3DVw9bIvUs"
      },
      "outputs": [],
      "source": [
        "def prod_mm(x, y):\n",
        "  \"\"\" Retorna o produto matriz matriz xy\"\"\"\n",
        "  return transposta([prod_mv(x, row) for row in transposta(y)])"
      ]
    },
    {
      "cell_type": "code",
      "execution_count": 89,
      "metadata": {},
      "outputs": [
        {
          "data": {
            "text/plain": [
              "[[70, 100], [150, 220]]"
            ]
          },
          "execution_count": 89,
          "metadata": {},
          "output_type": "execute_result"
        }
      ],
      "source": [
        "prod_mm(\n",
        "    [\n",
        "        [1,2],\n",
        "        [3,4]\n",
        "    ],\n",
        "    [\n",
        "        [10,20],\n",
        "        [30,40]\n",
        "    ]\n",
        ")"
      ]
    },
    {
      "cell_type": "markdown",
      "metadata": {
        "id": "Z5mLKc31TLSL"
      },
      "source": [
        "Teste sua resposta:"
      ]
    },
    {
      "cell_type": "code",
      "execution_count": 87,
      "metadata": {
        "id": "xGghi7V6TNIq"
      },
      "outputs": [
        {
          "data": {
            "text/html": [
              "<div style=\"border-style:solid;border-color:green\">Exercício Correto!</div>"
            ],
            "text/plain": [
              "<ceai_python_aula03.SolucaoResultado at 0x18478263010>"
            ]
          },
          "execution_count": 87,
          "metadata": {},
          "output_type": "execute_result"
        }
      ],
      "source": [
        "ceai_python_aula03.valida_ex_02_07_01(prod_mm)"
      ]
    }
  ],
  "metadata": {
    "colab": {
      "provenance": []
    },
    "kernelspec": {
      "display_name": "Python 3",
      "name": "python3"
    },
    "language_info": {
      "codemirror_mode": {
        "name": "ipython",
        "version": 3
      },
      "file_extension": ".py",
      "mimetype": "text/x-python",
      "name": "python",
      "nbconvert_exporter": "python",
      "pygments_lexer": "ipython3",
      "version": "3.11.5"
    }
  },
  "nbformat": 4,
  "nbformat_minor": 0
}
