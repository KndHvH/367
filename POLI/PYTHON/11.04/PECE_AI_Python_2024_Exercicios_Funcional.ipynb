{
  "cells": [
    {
      "cell_type": "markdown",
      "metadata": {
        "id": "EzztbdQ_7QVn"
      },
      "source": [
        "# Exercícios em Python 3: Programação Funcional\n",
        "\n",
        "\n",
        "\n",
        "\n",
        "Neste exercício trabalharemos com aspectos da linguagem Python voltados à programação Funcional."
      ]
    },
    {
      "cell_type": "markdown",
      "metadata": {
        "id": "u7BDz8O1qaMd"
      },
      "source": [
        "## Preparando o ambiente\n",
        "\n",
        "Este notebook usa códigos no pacote ceai_python_aula04.py.\n",
        "Verifique se o seu google drive contém a pasta cursoai_python_aula_04.\n",
        "\n",
        "Em seguida execute o código a seguir."
      ]
    },
    {
      "cell_type": "code",
      "execution_count": 1,
      "metadata": {
        "id": "wo0Ow_IdVgtZ"
      },
      "outputs": [
        {
          "name": "stdout",
          "output_type": "stream",
          "text": [
            "Cloning into 'curso_ai_python'...\n",
            "remote: Enumerating objects: 54, done.\u001b[K\n",
            "remote: Counting objects: 100% (21/21), done.\u001b[K\n",
            "remote: Compressing objects: 100% (21/21), done.\u001b[K\n",
            "remote: Total 54 (delta 12), reused 0 (delta 0), pack-reused 33\u001b[K\n",
            "Receiving objects: 100% (54/54), 21.56 KiB | 10.78 MiB/s, done.\n",
            "Resolving deltas: 100% (28/28), done.\n"
          ]
        }
      ],
      "source": [
        "!git clone https://gitlab.uspdigital.usp.br/thiago/curso_ai_python.git\n",
        "import sys\n",
        "sys.path.append('curso_ai_python')"
      ]
    },
    {
      "cell_type": "markdown",
      "metadata": {
        "id": "Rou0RcBHC-Z3"
      },
      "source": [
        "Se o bloco acima foi executado corretamente, importe os símbolos com a linha seguinte:"
      ]
    },
    {
      "cell_type": "code",
      "execution_count": 2,
      "metadata": {
        "id": "r9Q1G0SXu-Ir"
      },
      "outputs": [
        {
          "name": "stdout",
          "output_type": "stream",
          "text": [
            "Ambiente inicializado com sucesso\n"
          ]
        }
      ],
      "source": [
        "import ceai_python_aula05"
      ]
    },
    {
      "cell_type": "markdown",
      "metadata": {
        "id": "c9yjgYOO8aAd"
      },
      "source": [
        "# 1. Declaração de funções\n",
        "\n",
        "## 1.1 Clausuras\n",
        "\n",
        "Em Python uma Clausura é uma função que captura parte do escopo no qual ela foi definida.\n",
        "\n",
        "Isso permite gerar funções nas quais parte do seu comportamento é dinamicamente (em tempo de execução) definido.\n",
        "\n",
        "Por exemplo, considere a seguinte função:\n",
        "```\n",
        "def gera_somador(x):\n",
        "  def func(y):\n",
        "    return x+y\n",
        "  return func\n",
        "```\n",
        "Esta função gera novas funções que adicionam ao seu argumento um valor constante.\n",
        "\n",
        "\n",
        "### Exercício 1.1.1\n",
        "Crie uma função que recebe um valor x.\n",
        "Esta função deve retornar uma *nova* função que recebe uma lista como argumento e retorna ```True``` se o valor x está presente na lista ou ```False``` se não está.\n"
      ]
    },
    {
      "cell_type": "code",
      "execution_count": 3,
      "metadata": {
        "id": "EYrZjy887a4F"
      },
      "outputs": [],
      "source": [
        "def gera_funcao(x):\n",
        "  def identifica_numero(numeros):\n",
        "    return x in numeros\n",
        "  return identifica_numero\n",
        "  "
      ]
    },
    {
      "cell_type": "markdown",
      "metadata": {
        "id": "h8tTUeY-e8KH"
      },
      "source": [
        "Teste sua resposta:"
      ]
    },
    {
      "cell_type": "code",
      "execution_count": 4,
      "metadata": {
        "id": "bw6RJJZypTYj"
      },
      "outputs": [
        {
          "data": {
            "text/html": [
              "<div style=\"border-style:solid;border-color:green\">Exercício Correto!</div>"
            ],
            "text/plain": [
              "<ceai_python_aula05.SolucaoResultado at 0x7f24b81d82b0>"
            ]
          },
          "execution_count": 4,
          "metadata": {},
          "output_type": "execute_result"
        }
      ],
      "source": [
        "ceai_python_aula05.valida_ex_01_01(gera_funcao)"
      ]
    },
    {
      "cell_type": "markdown",
      "metadata": {
        "id": "wxk0WlgC7hVa"
      },
      "source": [
        "# 1.2 Expressões Lambda\n",
        "\n",
        "Uma expressão lambda permite declarar funções simples que se resumem a uma avaliação simples de expressões.\n",
        "\n",
        "Por exemplo, a seguinte expressão retorna uma função que recebe dois argumentos e retorna a soma destes.\n",
        "```\n",
        "lambda x, y: x+y\n",
        "```\n",
        "\n",
        "### Exercício 1.2.1\n",
        "\n",
        "Atribua à variável ```a``` uma expressão lambda que representa uma função que retorna o *maior* entre dois elementos.\n",
        "\n",
        " *Sugestão*: Use a expressão condicional ```expr1 if cond else expr2```."
      ]
    },
    {
      "cell_type": "code",
      "execution_count": 5,
      "metadata": {
        "id": "8IzV6rXMqe-7"
      },
      "outputs": [],
      "source": [
        "a = lambda x,y : x if x > y else y"
      ]
    },
    {
      "cell_type": "markdown",
      "metadata": {
        "id": "VoXjag36qkgY"
      },
      "source": [
        "Teste a sua resposta:"
      ]
    },
    {
      "cell_type": "code",
      "execution_count": 6,
      "metadata": {
        "id": "ZJHSF5eKqnXY"
      },
      "outputs": [
        {
          "data": {
            "text/html": [
              "<div style=\"border-style:solid;border-color:green\">Exercício Correto!</div>"
            ],
            "text/plain": [
              "<ceai_python_aula05.SolucaoResultado at 0x7f24b81d87c0>"
            ]
          },
          "execution_count": 6,
          "metadata": {},
          "output_type": "execute_result"
        }
      ],
      "source": [
        "ceai_python_aula05.valida_ex_01_02_01(a)"
      ]
    },
    {
      "cell_type": "markdown",
      "metadata": {
        "id": "xTQjvFRKx_8k"
      },
      "source": [
        "## 2. Geradores\n",
        "\n",
        "Um gerador é um objeto iterável que permite produzir em tempo de execução uma sequência de valores.\n",
        "\n",
        "### 2.1 Geradores declarados por expressões geradoras\n",
        "\n",
        "Uma expressão geradora produz um gerador a partir de outro objeto iterável.\n",
        "\n",
        "A sintaxe é ```(expr(v1, v2, ...) for v1 in o1 for v2 in o2 ... if cond(v1, v2, ...))```.\n",
        "\n",
        "Esta expressão itera pelas combinações dos objetos o1, o2,... retornado os valores de ```expr``` para as combinações de ```v1```, ```v2```, ... para os quais a condição ```cond``` é válida.\n",
        "\n",
        "A sintaxe de Expressões Geradoras também pode ser usada para inicializar-se sequências.\n",
        "Basta trocar os parênteses na sintaxe de expressões geradoras por colchetes.\n",
        "\n",
        "Por exemplo, este código cria a sequência com todos os quadrados perfeitos ímpares menores do que 100:"
      ]
    },
    {
      "cell_type": "code",
      "execution_count": null,
      "metadata": {
        "colab": {
          "base_uri": "https://localhost:8080/",
          "height": 36
        },
        "id": "NRwt0S41d4dg",
        "outputId": "894dc229-fd74-432c-a28c-37bff37f8f30"
      },
      "outputs": [
        {
          "name": "stdout",
          "output_type": "stream",
          "text": [
            "[1, 9, 25, 49, 81]\n"
          ]
        }
      ],
      "source": [
        "print([x*x for x in range(10) if x%2 != 0])"
      ]
    },
    {
      "cell_type": "markdown",
      "metadata": {
        "id": "aINBDFT3fHUJ"
      },
      "source": [
        "#### Exercício 2.1.1\n",
        "\n",
        "Crie uma função com apenas *uma linha de código\\** que retorna uma lista com os $n$ múltiplos de um determinado número $x$ a partir de $0$.\n",
        "\n"
      ]
    },
    {
      "cell_type": "code",
      "execution_count": 65,
      "metadata": {
        "id": "0t8sO3k0fyg3"
      },
      "outputs": [],
      "source": [
        "def multiplos(n, x):\n",
        "  return [a*x for a in range(n)]"
      ]
    },
    {
      "cell_type": "markdown",
      "metadata": {
        "id": "6m14LMSHgvxR"
      },
      "source": [
        "Teste sua resposta:"
      ]
    },
    {
      "cell_type": "code",
      "execution_count": 66,
      "metadata": {
        "id": "KGyP57kFgx8Y"
      },
      "outputs": [
        {
          "data": {
            "text/html": [
              "<div style=\"border-style:solid;border-color:green\">Exercício Correto!</div>"
            ],
            "text/plain": [
              "<ceai_python_aula05.SolucaoResultado at 0x7f24a9e047c0>"
            ]
          },
          "execution_count": 66,
          "metadata": {},
          "output_type": "execute_result"
        }
      ],
      "source": [
        "ceai_python_aula05.valida_ex_02_01_01(multiplos)"
      ]
    },
    {
      "cell_type": "markdown",
      "metadata": {
        "id": "j0iFldZYd42F"
      },
      "source": [
        "### 2.2 Geradores criados por co-rotinas\n",
        "\n",
        "Um gerador definido por co-rotina assemelha-se a uma função em python.\n",
        "A diferença é que esta função retorna valores pela palavra-chave ```yield```.\n",
        "Uma função desta natureza, quando invocada, retorna um novo gerador.\n",
        "A execução se dá até a instrução ```yield```, quando então é interrompida e seu estado *preservado*.\n",
        "A execução é retomada a cada vez que o iterador recebe uma solicitação de um novo valor.\n",
        "\n",
        " Por exemplo, o seguinte gerador produz os números da sequência de Fibonacci até um certo limite:"
      ]
    },
    {
      "cell_type": "code",
      "execution_count": null,
      "metadata": {
        "colab": {
          "base_uri": "https://localhost:8080/",
          "height": 36
        },
        "id": "jYyNoqpkSv3g",
        "outputId": "7e8365ba-9974-40d8-a417-e367a5982b0d"
      },
      "outputs": [
        {
          "name": "stdout",
          "output_type": "stream",
          "text": [
            "[1, 1, 2, 3, 5, 8, 13, 21, 34, 55, 89]\n"
          ]
        }
      ],
      "source": [
        "def fibonacci(n):\n",
        "  x, y = 1, 0\n",
        "  while x<=n:\n",
        "     yield x\n",
        "     x, y = x+y, x\n",
        "\n",
        "print(list(fibonacci(100)))"
      ]
    },
    {
      "cell_type": "markdown",
      "metadata": {
        "id": "o-6OTdXcSsu4"
      },
      "source": [
        "#### Exercício 2.2.1\n",
        "\n",
        "Escreva um gerador que calculam as iterações do algoritmo de newton para calcular a raiz quadrada do valor y.\n",
        "\n",
        "Cada iteração deve produzir um valor $x$ tal que:\n",
        "\n",
        "\\begin{equation}\n",
        "x_{i+1} = \\frac{x_i + \\frac{y}{x_i}}{2}\n",
        "\\end{equation}\n",
        "\n",
        "O primeiro valor a ser retornado é o próprio valor y.\n",
        "\n",
        "A função deve parar quando $\\frac{\\left|y - x_i^2\\right|}{y}<0.0001$"
      ]
    },
    {
      "cell_type": "code",
      "execution_count": 67,
      "metadata": {
        "id": "5zIF7Dx80su7"
      },
      "outputs": [],
      "source": [
        "def raiz_newton(y):\n",
        "  x = y\n",
        "  while (y-x**2)/y < 0.0001:\n",
        "    x = (x + y/x)/2\n",
        "    yield x"
      ]
    },
    {
      "cell_type": "markdown",
      "metadata": {
        "id": "q6O_iv642NGJ"
      },
      "source": [
        "Teste seu código:"
      ]
    },
    {
      "cell_type": "code",
      "execution_count": 68,
      "metadata": {
        "id": "p249NvA02O1r"
      },
      "outputs": [
        {
          "data": {
            "text/html": [
              "<div>\n",
              "<style scoped>\n",
              "    .dataframe tbody tr th:only-of-type {\n",
              "        vertical-align: middle;\n",
              "    }\n",
              "\n",
              "    .dataframe tbody tr th {\n",
              "        vertical-align: top;\n",
              "    }\n",
              "\n",
              "    .dataframe thead th {\n",
              "        text-align: right;\n",
              "    }\n",
              "</style>\n",
              "<table border=\"1\" class=\"dataframe\">\n",
              "  <thead>\n",
              "    <tr style=\"text-align: right;\">\n",
              "      <th></th>\n",
              "      <th>x</th>\n",
              "      <th>x²</th>\n",
              "      <th>(y-x²)/y</th>\n",
              "    </tr>\n",
              "  </thead>\n",
              "  <tbody>\n",
              "    <tr>\n",
              "      <th>0</th>\n",
              "      <td>128.500000</td>\n",
              "      <td>16512.250000</td>\n",
              "      <td>6.350098e+01</td>\n",
              "    </tr>\n",
              "    <tr>\n",
              "      <th>1</th>\n",
              "      <td>65.246109</td>\n",
              "      <td>4257.054733</td>\n",
              "      <td>1.562912e+01</td>\n",
              "    </tr>\n",
              "    <tr>\n",
              "      <th>2</th>\n",
              "      <td>34.584857</td>\n",
              "      <td>1196.112354</td>\n",
              "      <td>3.672314e+00</td>\n",
              "    </tr>\n",
              "    <tr>\n",
              "      <th>3</th>\n",
              "      <td>20.993470</td>\n",
              "      <td>440.725798</td>\n",
              "      <td>7.215851e-01</td>\n",
              "    </tr>\n",
              "    <tr>\n",
              "      <th>4</th>\n",
              "      <td>16.593869</td>\n",
              "      <td>275.356491</td>\n",
              "      <td>7.561129e-02</td>\n",
              "    </tr>\n",
              "    <tr>\n",
              "      <th>5</th>\n",
              "      <td>16.010627</td>\n",
              "      <td>256.340172</td>\n",
              "      <td>1.328795e-03</td>\n",
              "    </tr>\n",
              "    <tr>\n",
              "      <th>6</th>\n",
              "      <td>16.000004</td>\n",
              "      <td>256.000113</td>\n",
              "      <td>4.408383e-07</td>\n",
              "    </tr>\n",
              "    <tr>\n",
              "      <th>7</th>\n",
              "      <td>16.000000</td>\n",
              "      <td>256.000000</td>\n",
              "      <td>4.884981e-14</td>\n",
              "    </tr>\n",
              "    <tr>\n",
              "      <th>8</th>\n",
              "      <td>16.000000</td>\n",
              "      <td>256.000000</td>\n",
              "      <td>0.000000e+00</td>\n",
              "    </tr>\n",
              "    <tr>\n",
              "      <th>9</th>\n",
              "      <td>16.000000</td>\n",
              "      <td>256.000000</td>\n",
              "      <td>0.000000e+00</td>\n",
              "    </tr>\n",
              "    <tr>\n",
              "      <th>10</th>\n",
              "      <td>16.000000</td>\n",
              "      <td>256.000000</td>\n",
              "      <td>0.000000e+00</td>\n",
              "    </tr>\n",
              "    <tr>\n",
              "      <th>11</th>\n",
              "      <td>16.000000</td>\n",
              "      <td>256.000000</td>\n",
              "      <td>0.000000e+00</td>\n",
              "    </tr>\n",
              "    <tr>\n",
              "      <th>12</th>\n",
              "      <td>16.000000</td>\n",
              "      <td>256.000000</td>\n",
              "      <td>0.000000e+00</td>\n",
              "    </tr>\n",
              "    <tr>\n",
              "      <th>13</th>\n",
              "      <td>16.000000</td>\n",
              "      <td>256.000000</td>\n",
              "      <td>0.000000e+00</td>\n",
              "    </tr>\n",
              "    <tr>\n",
              "      <th>14</th>\n",
              "      <td>16.000000</td>\n",
              "      <td>256.000000</td>\n",
              "      <td>0.000000e+00</td>\n",
              "    </tr>\n",
              "    <tr>\n",
              "      <th>15</th>\n",
              "      <td>16.000000</td>\n",
              "      <td>256.000000</td>\n",
              "      <td>0.000000e+00</td>\n",
              "    </tr>\n",
              "    <tr>\n",
              "      <th>16</th>\n",
              "      <td>16.000000</td>\n",
              "      <td>256.000000</td>\n",
              "      <td>0.000000e+00</td>\n",
              "    </tr>\n",
              "    <tr>\n",
              "      <th>17</th>\n",
              "      <td>16.000000</td>\n",
              "      <td>256.000000</td>\n",
              "      <td>0.000000e+00</td>\n",
              "    </tr>\n",
              "    <tr>\n",
              "      <th>18</th>\n",
              "      <td>16.000000</td>\n",
              "      <td>256.000000</td>\n",
              "      <td>0.000000e+00</td>\n",
              "    </tr>\n",
              "    <tr>\n",
              "      <th>19</th>\n",
              "      <td>16.000000</td>\n",
              "      <td>256.000000</td>\n",
              "      <td>0.000000e+00</td>\n",
              "    </tr>\n",
              "    <tr>\n",
              "      <th>20</th>\n",
              "      <td>16.000000</td>\n",
              "      <td>256.000000</td>\n",
              "      <td>0.000000e+00</td>\n",
              "    </tr>\n",
              "    <tr>\n",
              "      <th>21</th>\n",
              "      <td>16.000000</td>\n",
              "      <td>256.000000</td>\n",
              "      <td>0.000000e+00</td>\n",
              "    </tr>\n",
              "    <tr>\n",
              "      <th>22</th>\n",
              "      <td>16.000000</td>\n",
              "      <td>256.000000</td>\n",
              "      <td>0.000000e+00</td>\n",
              "    </tr>\n",
              "    <tr>\n",
              "      <th>23</th>\n",
              "      <td>16.000000</td>\n",
              "      <td>256.000000</td>\n",
              "      <td>0.000000e+00</td>\n",
              "    </tr>\n",
              "    <tr>\n",
              "      <th>24</th>\n",
              "      <td>16.000000</td>\n",
              "      <td>256.000000</td>\n",
              "      <td>0.000000e+00</td>\n",
              "    </tr>\n",
              "    <tr>\n",
              "      <th>25</th>\n",
              "      <td>16.000000</td>\n",
              "      <td>256.000000</td>\n",
              "      <td>0.000000e+00</td>\n",
              "    </tr>\n",
              "    <tr>\n",
              "      <th>26</th>\n",
              "      <td>16.000000</td>\n",
              "      <td>256.000000</td>\n",
              "      <td>0.000000e+00</td>\n",
              "    </tr>\n",
              "    <tr>\n",
              "      <th>27</th>\n",
              "      <td>16.000000</td>\n",
              "      <td>256.000000</td>\n",
              "      <td>0.000000e+00</td>\n",
              "    </tr>\n",
              "    <tr>\n",
              "      <th>28</th>\n",
              "      <td>16.000000</td>\n",
              "      <td>256.000000</td>\n",
              "      <td>0.000000e+00</td>\n",
              "    </tr>\n",
              "    <tr>\n",
              "      <th>29</th>\n",
              "      <td>16.000000</td>\n",
              "      <td>256.000000</td>\n",
              "      <td>0.000000e+00</td>\n",
              "    </tr>\n",
              "  </tbody>\n",
              "</table>\n",
              "</div>"
            ],
            "text/plain": [
              "             x            x²      (y-x²)/y\n",
              "0   128.500000  16512.250000  6.350098e+01\n",
              "1    65.246109   4257.054733  1.562912e+01\n",
              "2    34.584857   1196.112354  3.672314e+00\n",
              "3    20.993470    440.725798  7.215851e-01\n",
              "4    16.593869    275.356491  7.561129e-02\n",
              "5    16.010627    256.340172  1.328795e-03\n",
              "6    16.000004    256.000113  4.408383e-07\n",
              "7    16.000000    256.000000  4.884981e-14\n",
              "8    16.000000    256.000000  0.000000e+00\n",
              "9    16.000000    256.000000  0.000000e+00\n",
              "10   16.000000    256.000000  0.000000e+00\n",
              "11   16.000000    256.000000  0.000000e+00\n",
              "12   16.000000    256.000000  0.000000e+00\n",
              "13   16.000000    256.000000  0.000000e+00\n",
              "14   16.000000    256.000000  0.000000e+00\n",
              "15   16.000000    256.000000  0.000000e+00\n",
              "16   16.000000    256.000000  0.000000e+00\n",
              "17   16.000000    256.000000  0.000000e+00\n",
              "18   16.000000    256.000000  0.000000e+00\n",
              "19   16.000000    256.000000  0.000000e+00\n",
              "20   16.000000    256.000000  0.000000e+00\n",
              "21   16.000000    256.000000  0.000000e+00\n",
              "22   16.000000    256.000000  0.000000e+00\n",
              "23   16.000000    256.000000  0.000000e+00\n",
              "24   16.000000    256.000000  0.000000e+00\n",
              "25   16.000000    256.000000  0.000000e+00\n",
              "26   16.000000    256.000000  0.000000e+00\n",
              "27   16.000000    256.000000  0.000000e+00\n",
              "28   16.000000    256.000000  0.000000e+00\n",
              "29   16.000000    256.000000  0.000000e+00"
            ]
          },
          "execution_count": 68,
          "metadata": {},
          "output_type": "execute_result"
        }
      ],
      "source": [
        "import pandas as pd\n",
        "data = []\n",
        "a = iter(raiz_newton(256))\n",
        "a\n",
        "try:\n",
        "  for i in range(30):\n",
        "    x = next(a)\n",
        "    data.append([x, x*x, abs(256-x*x)/256])\n",
        "except StopIteration:\n",
        "  pass\n",
        "pd.DataFrame(data, columns=[\"x\", \"x²\", \"(y-x²)/y\"])"
      ]
    },
    {
      "cell_type": "code",
      "execution_count": null,
      "metadata": {},
      "outputs": [],
      "source": []
    }
  ],
  "metadata": {
    "colab": {
      "provenance": []
    },
    "kernelspec": {
      "display_name": "Python 3",
      "name": "python3"
    },
    "language_info": {
      "codemirror_mode": {
        "name": "ipython",
        "version": 3
      },
      "file_extension": ".py",
      "mimetype": "text/x-python",
      "name": "python",
      "nbconvert_exporter": "python",
      "pygments_lexer": "ipython3",
      "version": "3.10.13"
    }
  },
  "nbformat": 4,
  "nbformat_minor": 0
}
