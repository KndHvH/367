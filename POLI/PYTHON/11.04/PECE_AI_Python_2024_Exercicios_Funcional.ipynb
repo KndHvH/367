{
  "nbformat": 4,
  "nbformat_minor": 0,
  "metadata": {
    "colab": {
      "provenance": []
    },
    "kernelspec": {
      "name": "python3",
      "display_name": "Python 3"
    }
  },
  "cells": [
    {
      "cell_type": "markdown",
      "metadata": {
        "id": "EzztbdQ_7QVn"
      },
      "source": [
        "# Exercícios em Python 3: Programação Funcional\n",
        "\n",
        "\n",
        "\n",
        "\n",
        "Neste exercício trabalharemos com aspectos da linguagem Python voltados à programação Funcional."
      ]
    },
    {
      "cell_type": "markdown",
      "metadata": {
        "id": "u7BDz8O1qaMd"
      },
      "source": [
        "## Preparando o ambiente\n",
        "\n",
        "Este notebook usa códigos no pacote ceai_python_aula04.py.\n",
        "Verifique se o seu google drive contém a pasta cursoai_python_aula_04.\n",
        "\n",
        "Em seguida execute o código a seguir."
      ]
    },
    {
      "cell_type": "code",
      "metadata": {
        "id": "wo0Ow_IdVgtZ"
      },
      "source": [
        "!git clone https://gitlab.uspdigital.usp.br/thiago/curso_ai_python.git\n",
        "import sys\n",
        "sys.path.append('curso_ai_python')"
      ],
      "execution_count": null,
      "outputs": []
    },
    {
      "cell_type": "markdown",
      "metadata": {
        "id": "Rou0RcBHC-Z3"
      },
      "source": [
        "Se o bloco acima foi executado corretamente, importe os símbolos com a linha seguinte:"
      ]
    },
    {
      "cell_type": "code",
      "metadata": {
        "id": "r9Q1G0SXu-Ir"
      },
      "source": [
        "import ceai_python_aula05"
      ],
      "execution_count": null,
      "outputs": []
    },
    {
      "cell_type": "markdown",
      "metadata": {
        "id": "c9yjgYOO8aAd"
      },
      "source": [
        "# 1. Declaração de funções\n",
        "\n",
        "## 1.1 Clausuras\n",
        "\n",
        "Em Python uma Clausura é uma função que captura parte do escopo no qual ela foi definida.\n",
        "\n",
        "Isso permite gerar funções nas quais parte do seu comportamento é dinamicamente (em tempo de execução) definido.\n",
        "\n",
        "Por exemplo, considere a seguinte função:\n",
        "```\n",
        "def gera_somador(x):\n",
        "  def func(y):\n",
        "    return x+y\n",
        "  return func\n",
        "```\n",
        "Esta função gera novas funções que adicionam ao seu argumento um valor constante.\n",
        "\n",
        "\n",
        "### Exercício 1.1.1\n",
        "Crie uma função que recebe um valor x.\n",
        "Esta função deve retornar uma *nova* função que recebe uma lista como argumento e retorna ```True``` se o valor x está presente na lista ou ```False``` se não está.\n"
      ]
    },
    {
      "cell_type": "code",
      "metadata": {
        "id": "EYrZjy887a4F"
      },
      "source": [
        "def gera_funcao(x):\n",
        "  # Complete seu código\n",
        "  pass"
      ],
      "execution_count": null,
      "outputs": []
    },
    {
      "cell_type": "markdown",
      "metadata": {
        "id": "h8tTUeY-e8KH"
      },
      "source": [
        "Teste sua resposta:"
      ]
    },
    {
      "cell_type": "code",
      "metadata": {
        "id": "bw6RJJZypTYj"
      },
      "source": [
        "ceai_python_aula05.valida_ex_01_01(gera_funcao)"
      ],
      "execution_count": null,
      "outputs": []
    },
    {
      "cell_type": "markdown",
      "metadata": {
        "id": "wxk0WlgC7hVa"
      },
      "source": [
        "# 1.2 Expressões Lambda\n",
        "\n",
        "Uma expressão lambda permite declarar funções simples que se resumem a uma avaliação simples de expressões.\n",
        "\n",
        "Por exemplo, a seguinte expressão retorna uma função que recebe dois argumentos e retorna a soma destes.\n",
        "```\n",
        "lambda x, y: x+y\n",
        "```\n",
        "\n",
        "### Exercício 1.2.1\n",
        "\n",
        "Atribua à variável ```a``` uma expressão lambda que representa uma função que retorna o *maior* entre dois elementos.\n",
        "\n",
        " *Sugestão*: Use a expressão condicional ```expr1 if cond else expr2```."
      ]
    },
    {
      "cell_type": "code",
      "metadata": {
        "id": "8IzV6rXMqe-7"
      },
      "source": [
        "a = # complete a declaração"
      ],
      "execution_count": null,
      "outputs": []
    },
    {
      "cell_type": "markdown",
      "metadata": {
        "id": "VoXjag36qkgY"
      },
      "source": [
        "Teste a sua resposta:"
      ]
    },
    {
      "cell_type": "code",
      "metadata": {
        "id": "ZJHSF5eKqnXY"
      },
      "source": [
        "ceai_python_aula05.valida_ex_01_02_01(a)"
      ],
      "execution_count": null,
      "outputs": []
    },
    {
      "cell_type": "markdown",
      "metadata": {
        "id": "xTQjvFRKx_8k"
      },
      "source": [
        "## 2. Geradores\n",
        "\n",
        "Um gerador é um objeto iterável que permite produzir em tempo de execução uma sequência de valores.\n",
        "\n",
        "### 2.1 Geradores declarados por expressões geradoras\n",
        "\n",
        "Uma expressão geradora produz um gerador a partir de outro objeto iterável.\n",
        "\n",
        "A sintaxe é ```(expr(v1, v2, ...) for v1 in o1 for v2 in o2 ... if cond(v1, v2, ...))```.\n",
        "\n",
        "Esta expressão itera pelas combinações dos objetos o1, o2,... retornado os valores de ```expr``` para as combinações de ```v1```, ```v2```, ... para os quais a condição ```cond``` é válida.\n",
        "\n",
        "A sintaxe de Expressões Geradoras também pode ser usada para inicializar-se sequências.\n",
        "Basta trocar os parênteses na sintaxe de expressões geradoras por colchetes.\n",
        "\n",
        "Por exemplo, este código cria a sequência com todos os quadrados perfeitos ímpares menores do que 100:"
      ]
    },
    {
      "cell_type": "code",
      "metadata": {
        "id": "NRwt0S41d4dg",
        "outputId": "894dc229-fd74-432c-a28c-37bff37f8f30",
        "colab": {
          "base_uri": "https://localhost:8080/",
          "height": 36
        }
      },
      "source": [
        "print([x*x for x in range(10) if x%2 != 0])"
      ],
      "execution_count": null,
      "outputs": [
        {
          "output_type": "stream",
          "text": [
            "[1, 9, 25, 49, 81]\n"
          ],
          "name": "stdout"
        }
      ]
    },
    {
      "cell_type": "markdown",
      "metadata": {
        "id": "aINBDFT3fHUJ"
      },
      "source": [
        "#### Exercício 2.1.1\n",
        "\n",
        "Crie uma função com apenas *uma linha de código\\** que retorna uma lista com os $n$ múltiplos de um determinado número $x$ a partir de $0$.\n",
        "\n"
      ]
    },
    {
      "cell_type": "code",
      "metadata": {
        "id": "0t8sO3k0fyg3"
      },
      "source": [
        "def multiplos(n, x):\n",
        "  # Complete o código"
      ],
      "execution_count": null,
      "outputs": []
    },
    {
      "cell_type": "markdown",
      "metadata": {
        "id": "6m14LMSHgvxR"
      },
      "source": [
        "Teste sua resposta:"
      ]
    },
    {
      "cell_type": "code",
      "metadata": {
        "id": "KGyP57kFgx8Y"
      },
      "source": [
        "ceai_python_aula05.valida_ex_02_01_01(multiplos)"
      ],
      "execution_count": null,
      "outputs": []
    },
    {
      "cell_type": "markdown",
      "metadata": {
        "id": "j0iFldZYd42F"
      },
      "source": [
        "### 2.2 Geradores criados por co-rotinas\n",
        "\n",
        "Um gerador definido por co-rotina assemelha-se a uma função em python.\n",
        "A diferença é que esta função retorna valores pela palavra-chave ```yield```.\n",
        "Uma função desta natureza, quando invocada, retorna um novo gerador.\n",
        "A execução se dá até a instrução ```yield```, quando então é interrompida e seu estado *preservado*.\n",
        "A execução é retomada a cada vez que o iterador recebe uma solicitação de um novo valor.\n",
        "\n",
        " Por exemplo, o seguinte gerador produz os números da sequência de Fibonacci até um certo limite:"
      ]
    },
    {
      "cell_type": "code",
      "metadata": {
        "id": "jYyNoqpkSv3g",
        "outputId": "7e8365ba-9974-40d8-a417-e367a5982b0d",
        "colab": {
          "base_uri": "https://localhost:8080/",
          "height": 36
        }
      },
      "source": [
        "def fibonacci(n):\n",
        "  x, y = 1, 0\n",
        "  while x<=n:\n",
        "     yield x\n",
        "     x, y = x+y, x\n",
        "\n",
        "print(list(fibonacci(100)))"
      ],
      "execution_count": null,
      "outputs": [
        {
          "output_type": "stream",
          "text": [
            "[1, 1, 2, 3, 5, 8, 13, 21, 34, 55, 89]\n"
          ],
          "name": "stdout"
        }
      ]
    },
    {
      "cell_type": "markdown",
      "metadata": {
        "id": "o-6OTdXcSsu4"
      },
      "source": [
        "#### Exercício 2.2.1\n",
        "\n",
        "Escreva um gerador que calculam as iterações do algoritmo de newton para calcular a raiz quadrada do valor y.\n",
        "\n",
        "Cada iteração deve produzir um valor $x$ tal que:\n",
        "\n",
        "\\begin{equation}\n",
        "x_{i+1} = \\frac{x_i + \\frac{y}{x_i}}{2}\n",
        "\\end{equation}\n",
        "\n",
        "O primeiro valor a ser retornado é o próprio valor y.\n",
        "\n",
        "A função deve parar quando $\\frac{\\left|y - x_i^2\\right|}{y}<0.0001$"
      ]
    },
    {
      "cell_type": "code",
      "metadata": {
        "id": "5zIF7Dx80su7"
      },
      "source": [
        "def raiz_newton(y):\n",
        "  # Complete seu código\n",
        "  pass"
      ],
      "execution_count": null,
      "outputs": []
    },
    {
      "cell_type": "markdown",
      "metadata": {
        "id": "q6O_iv642NGJ"
      },
      "source": [
        "Teste seu código:"
      ]
    },
    {
      "cell_type": "code",
      "metadata": {
        "id": "p249NvA02O1r"
      },
      "source": [
        "import pandas as pd\n",
        "data = []\n",
        "a = iter(raiz_newton(256))\n",
        "try:\n",
        "  for i in range(30):\n",
        "    x = next(a)\n",
        "    data.append([x, x*x, abs(256-x*x)/256])\n",
        "except StopIteration:\n",
        "  pass\n",
        "pd.DataFrame(data, columns=[\"x\", \"x²\", \"(y-x²)/y\"])"
      ],
      "execution_count": null,
      "outputs": []
    }
  ]
}