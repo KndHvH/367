{
  "nbformat": 4,
  "nbformat_minor": 0,
  "metadata": {
    "colab": {
      "provenance": []
    },
    "kernelspec": {
      "name": "python3",
      "display_name": "Python 3"
    }
  },
  "cells": [
    {
      "cell_type": "markdown",
      "metadata": {
        "id": "EzztbdQ_7QVn"
      },
      "source": [
        "# Exercícios em Python 6: Biblioteca padrão python, expressões regulares, csv, xml\n",
        "\n"
      ]
    },
    {
      "cell_type": "markdown",
      "metadata": {
        "id": "u7BDz8O1qaMd"
      },
      "source": [
        "## Preparando o ambiente\n",
        "\n",
        "Execute o código a seguir."
      ]
    },
    {
      "cell_type": "code",
      "metadata": {
        "id": "wo0Ow_IdVgtZ"
      },
      "source": [
        "!git clone https://gitlab.uspdigital.usp.br/thiago/curso_ai_python.git\n",
        "import sys\n",
        "sys.path.append('curso_ai_python')"
      ],
      "execution_count": null,
      "outputs": []
    },
    {
      "cell_type": "markdown",
      "metadata": {
        "id": "Rou0RcBHC-Z3"
      },
      "source": [
        "Se o bloco acima foi executado corretamente, você deve ver o contéudo do diretório ```curso_ai_pytho`/dados```:"
      ]
    },
    {
      "cell_type": "code",
      "metadata": {
        "id": "r9Q1G0SXu-Ir",
        "colab": {
          "base_uri": "https://localhost:8080/",
          "height": 327
        },
        "outputId": "e450eef8-a5e9-465c-aef6-ea438980e18b"
      },
      "source": [
        "!ls -la curso_ai_python/dados/"
      ],
      "execution_count": null,
      "outputs": [
        {
          "output_type": "error",
          "ename": "ModuleNotFoundError",
          "evalue": "No module named 'ceai_python_aula08'",
          "traceback": [
            "\u001b[0;31m---------------------------------------------------------------------------\u001b[0m",
            "\u001b[0;31mModuleNotFoundError\u001b[0m                       Traceback (most recent call last)",
            "\u001b[0;32m<ipython-input-1-0c259219b4d8>\u001b[0m in \u001b[0;36m<cell line: 1>\u001b[0;34m()\u001b[0m\n\u001b[0;32m----> 1\u001b[0;31m \u001b[0;32mimport\u001b[0m \u001b[0mceai_python_aula08\u001b[0m\u001b[0;34m\u001b[0m\u001b[0;34m\u001b[0m\u001b[0m\n\u001b[0m",
            "\u001b[0;31mModuleNotFoundError\u001b[0m: No module named 'ceai_python_aula08'",
            "",
            "\u001b[0;31m---------------------------------------------------------------------------\u001b[0;32m\nNOTE: If your import is failing due to a missing package, you can\nmanually install dependencies using either !pip or !apt.\n\nTo view examples of installing some common dependencies, click the\n\"Open Examples\" button below.\n\u001b[0;31m---------------------------------------------------------------------------\u001b[0m\n"
          ],
          "errorDetails": {
            "actions": [
              {
                "action": "open_url",
                "actionText": "Open Examples",
                "url": "/notebooks/snippets/importing_libraries.ipynb"
              }
            ]
          }
        }
      ]
    },
    {
      "cell_type": "markdown",
      "metadata": {
        "id": "C19XUaGr7SEd"
      },
      "source": [
        "## 6.1 Leitura de dados em CSV\n",
        "\n",
        "O módulo ```csv``` em Python lê arquivos em formato CSV.\n",
        "\n",
        "A função ```csv.DictReader(arquivo)``` retorna uma lista de dicionários, um para cada linha do arquivo.\n",
        "\n",
        "Por exemplo, o código a seguir mostra o total de alunos estrangeiros no município de Araraquara."
      ]
    },
    {
      "cell_type": "code",
      "metadata": {
        "id": "TPb9Y02t8Pdu",
        "colab": {
          "base_uri": "https://localhost:8080/"
        },
        "outputId": "3e96ce9d-c82d-4937-bd46-eb8c1d451bf3"
      },
      "source": [
        "import urllib.request\n",
        "import csv\n",
        "import io\n",
        "import tempfile\n",
        "import ssl\n",
        "\n",
        "# Suprime verificação de SSL por problemas\n",
        "#  com a ICP Brasil\n",
        "ignorar_ssl = ssl.create_default_context()\n",
        "ignorar_ssl.check_hostname = False\n",
        "ignorar_ssl.verify_mode = ssl.CERT_NONE\n",
        "\n",
        "recurso = urllib.request.urlopen(\"https://dados.educacao.sp.gov.br/node/2054/download\", context=ignorar_ssl)\n",
        "recurso.read(3) # Retira os 3 primeiros bytes do arquivo\n",
        "leitorcsv = csv.DictReader(io.TextIOWrapper(recurso,encoding='utf-8'), delimiter=';')\n",
        "total = 0\n",
        "for entrada in leitorcsv:\n",
        "  if entrada['MUN']=='ARARAQUARA':\n",
        "    total += int(entrada[' Nº ALUNOS '])\n",
        "print(total)"
      ],
      "execution_count": null,
      "outputs": [
        {
          "output_type": "stream",
          "name": "stdout",
          "text": [
            "50\n"
          ]
        }
      ]
    },
    {
      "cell_type": "code",
      "source": [
        "entrada"
      ],
      "metadata": {
        "colab": {
          "base_uri": "https://localhost:8080/"
        },
        "id": "YqRrzOiVzqO4",
        "outputId": "2b793bf0-628b-479b-b3a9-430208f9f7f2"
      },
      "execution_count": null,
      "outputs": [
        {
          "output_type": "execute_result",
          "data": {
            "text/plain": [
              "{'NOMEDEP': 'ESTADUAL - SE',\n",
              " 'DE': 'VOTUPORANGA',\n",
              " 'DISTR': 'VOTUPORANGA',\n",
              " 'MUN': 'VOTUPORANGA',\n",
              " 'TIPOESC': '8',\n",
              " 'COD_ESC': '44167',\n",
              " 'NOMESC': 'ENNY TEREZA LONGO FRACARO PROFA',\n",
              " 'DS_PAIS': 'Venezuela',\n",
              " ' Nº ALUNOS ': ' 9 '}"
            ]
          },
          "metadata": {},
          "execution_count": 13
        }
      ]
    },
    {
      "cell_type": "markdown",
      "metadata": {
        "id": "Joc2IWN095be"
      },
      "source": [
        "### Exercício 6.1.1\n",
        "\n",
        "Encontre o total de alunos provenientes do Uruguai matriculados em escolas de SP.\n",
        "O campo que contém o país é o campo com nome ```DS_PAIS```.\n",
        "Atribua sua resposta à variável ```total_uruguai```.\n"
      ]
    },
    {
      "cell_type": "code",
      "metadata": {
        "id": "Xb40md5e-iMp"
      },
      "source": [
        "total_uruguai = # Complete com seu código"
      ],
      "execution_count": null,
      "outputs": []
    },
    {
      "cell_type": "markdown",
      "metadata": {
        "id": "2GwIplbx-rdV"
      },
      "source": [
        "A resposta deve ser 18"
      ]
    },
    {
      "cell_type": "markdown",
      "metadata": {
        "id": "YGQ4IlzYAcfH"
      },
      "source": [
        "### Exercício 6.1.2\n",
        "\n",
        "Quantos *distritos* distintos de escolas existem nesta lista? O campo que contém o tipo é ```DISTR```.\n",
        "Qual o tipo com a maior quantidade de alunos?\n",
        "\n",
        "Sugestão: Crie um dicionário.\n"
      ]
    },
    {
      "cell_type": "code",
      "metadata": {
        "id": "ZVbV7GhNA3HX"
      },
      "source": [],
      "execution_count": null,
      "outputs": []
    },
    {
      "cell_type": "markdown",
      "metadata": {
        "id": "8kqYVJj5H3Lo"
      },
      "source": [
        "A resposta deve ser 419 distritos distintos. O tipo com a maior quantidade é o ```VILA MARIA``` com 642 alunos."
      ]
    },
    {
      "cell_type": "markdown",
      "metadata": {
        "id": "q2PK9MPfBUC4"
      },
      "source": [
        "## 6.2 Processamento de XML\n",
        "\n",
        "A url ```https://olinda.bcb.gov.br/olinda/servico/PTAX/versao/v1/odata/CotacaoDolarDia(dataCotacao=@dataCotacao)?@dataCotacao='04-23-2020'&$top=100&$format=xml&$select=cotacaoCompra,cotacaoVenda,dataHoraCotacao``` recupera o relatório de cotação do dólar do Banco central em formato xml e grava-o no arquivo cotacao_dolar.xml.\n",
        "\n"
      ]
    },
    {
      "cell_type": "code",
      "metadata": {
        "id": "v031QrXFCSJq"
      },
      "source": [
        "req=urllib.request.urlopen(\"https://olinda.bcb.gov.br/olinda/servico/PTAX/versao/v1/odata/CotacaoDolarPeriodo(dataInicial=@dataInicial,dataFinalCotacao=@dataFinalCotacao)?@dataInicial='01-01-2024'&@dataFinalCotacao='05-03-2024'&$top=200&$format=xml&$select=cotacaoCompra,cotacaoVenda,dataHoraCotacao\")\n",
        "ff = open(\"cotacao_dolar.xml\", \"wb\")\n",
        "ff.write(req.read())\n",
        "ff.close()"
      ],
      "execution_count": null,
      "outputs": []
    },
    {
      "cell_type": "markdown",
      "metadata": {
        "id": "qv_dIOsSDEUm"
      },
      "source": [
        "\n",
        "\n",
        "O código abaixo usa xml para encontrar o valor da cotação no dia 17/03/2024"
      ]
    },
    {
      "cell_type": "code",
      "metadata": {
        "id": "KZcC5vMsD3yW",
        "colab": {
          "base_uri": "https://localhost:8080/"
        },
        "outputId": "06fe8fad-d571-4088-9962-cd33866844ab"
      },
      "source": [
        "import xml.etree.ElementTree\n",
        "raiz = xml.etree.ElementTree.parse(\"cotacao_dolar.xml\").getroot()\n",
        "for el in raiz.iter('{http://docs.oasis-open.org/odata/ns/metadata}properties'):\n",
        "  hora = el.find('{http://docs.oasis-open.org/odata/ns/data}dataHoraCotacao')\n",
        "  if hora.text.startswith('2024-05-02'):\n",
        "    no_venda = el.find('{http://docs.oasis-open.org/odata/ns/data}cotacaoVenda')\n",
        "    valor = float(no_venda.text)\n",
        "    print(valor)\n",
        "\n"
      ],
      "execution_count": null,
      "outputs": [
        {
          "output_type": "stream",
          "name": "stdout",
          "text": [
            "5.1184\n"
          ]
        }
      ]
    },
    {
      "cell_type": "markdown",
      "metadata": {
        "id": "HwtS70WnHJi4"
      },
      "source": [
        "Exercício:\n",
        "\n",
        "Encontre o *menor* valor de cotação do dólar para venda (campo com etiqueta ```{http://docs.oasis-open.org/odata/ns/data}cotacaoVenda'```)"
      ]
    },
    {
      "cell_type": "code",
      "metadata": {
        "id": "Z1boMcqO4WAt"
      },
      "source": [],
      "execution_count": null,
      "outputs": []
    },
    {
      "cell_type": "markdown",
      "metadata": {
        "id": "Y3fBoXFSHrAe"
      },
      "source": [
        "A resposta deve ser 4.8543"
      ]
    },
    {
      "cell_type": "markdown",
      "metadata": {
        "id": "bdTCDbolwdYj"
      },
      "source": [
        "## 6.3  Expressões Regulares\n",
        "\n",
        "A linguagem Python tem uma biblioteca de expressões regulares.\n",
        "\n",
        "A função ```re.search(exp, string)``` verifica se uma string é aderente a um determinado padrão.\n",
        "\n",
        "### Exercícios:\n",
        "\n",
        "O arquivo em ```/content/gdrive/My Drive/cursoai_python_aula_03/dados/telefones_epusp.txt``` contém uma lista telefônica em um texto não-estruturado com telefones úteis da escola politécnica.\n",
        "\n",
        "Eis o conteúdo de suas 10 primeiras linhas:"
      ]
    },
    {
      "cell_type": "code",
      "metadata": {
        "id": "VBQEHIv0wtR2",
        "colab": {
          "base_uri": "https://localhost:8080/"
        },
        "outputId": "85927ad0-714b-44ba-ba53-219da1285f83"
      },
      "source": [
        "arquivo = open(\"/content/curso_ai_python/dados/telefones_epusp.txt\", \"rt\")\n",
        "for i in range(10):\n",
        "  print(arquivo.readline())\n",
        "arquivo.close()"
      ],
      "execution_count": null,
      "outputs": [
        {
          "output_type": "stream",
          "name": "stdout",
          "text": [
            "Diretoria\n",
            "\n",
            "Profa. Dra. Liedi Legi Bariani Bernucci\n",
            "\n",
            "Diretora \t3091 5221 / 5223 / 5550\n",
            "\n",
            "Prof. Reinaldo Giudici\n",
            "\n",
            "Vice-Diretor\n",
            "\n",
            "Secretaria: Sueli Rossetti / Ângela de Jesus\n",
            "\n",
            "Serviço Técnico de Planejamento e Gestão\n",
            "\n",
            "Enaége Dalan Sant´Ana \t3091 5534\n",
            "\n",
            "Seção Técnica de Qualidade e Processos\n",
            "\n",
            "Patricia Sandes \t3091 5577\n",
            "\n"
          ]
        }
      ]
    },
    {
      "cell_type": "markdown",
      "metadata": {
        "id": "ziJy9Y-O6zx9"
      },
      "source": [
        "### 6.3.1 Conte o número de linhas com telefones\n",
        "\n",
        "A expressão regular ```([0-9]+([\\s-]+[0-9]+)*)(\\s?/\\s?([0-9]+([\\s-]+[0-9]+)*))*$``` casa com um ou mais números de telefone ao final de uma linha.\n",
        "\n",
        "Verifique usando o módulo re quantas linhas atendem este padrão."
      ]
    },
    {
      "cell_type": "code",
      "metadata": {
        "id": "caR8jzJM6wUx"
      },
      "source": [],
      "execution_count": null,
      "outputs": []
    },
    {
      "cell_type": "markdown",
      "source": [
        "Sua resposta deve ser 255 linhas"
      ],
      "metadata": {
        "id": "howMIFfilCSX"
      }
    }
  ]
}