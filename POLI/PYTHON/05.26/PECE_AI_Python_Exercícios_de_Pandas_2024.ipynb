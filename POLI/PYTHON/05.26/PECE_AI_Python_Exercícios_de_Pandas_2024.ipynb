{
  "cells": [
    {
      "cell_type": "markdown",
      "metadata": {
        "id": "RYktZdsJGW7b"
      },
      "source": [
        "# Exercícios de Python: Análise de dados\n",
        "\n",
        "Para estes exercícios vamos usar bibliotecas do pacote SciPy, especificamente a biblioteca Pandas.\n",
        "\n",
        "## 1. Preparando o Ambiente:\n",
        "\n",
        "Execute a célula abaixo para carregar os pacotes necessários para a execução do ambiente.\n",
        "Estes pacotes são a ```urllib.request``` (para recuperar recursos da internet via http), a ```io``` (para decodificar arquivos-texto via ```TextIOWrapper```), a bilioteca ```pandas``` e o pacote ```HTML```.\n",
        "\n"
      ]
    },
    {
      "cell_type": "code",
      "execution_count": 1,
      "metadata": {
        "id": "S0daiL8s4S_m"
      },
      "outputs": [],
      "source": [
        "import urllib.request as request\n",
        "import io\n",
        "import pandas as pd\n",
        "from IPython.core.display import HTML\n",
        "import ssl\n",
        "# Ignora verificação de certificado\n",
        "ignorar_ssl = ssl.create_default_context()\n",
        "ignorar_ssl.check_hostname = False\n",
        "ignorar_ssl.verify_mode = ssl.CERT_NONE"
      ]
    },
    {
      "cell_type": "markdown",
      "metadata": {
        "id": "O95iEqUmHROo"
      },
      "source": [
        "# 2. Dados de Total de Alunos Matriculados Escolar da Secretaria Estadual de Educação.\n",
        "\n",
        "\n",
        "A célula abaixo recupera do portal de dados do Governo Estadual os dados de alunos matriculados em 2019 por escola das diretorias da Secretaria Estadual de Educação.\n",
        "\n",
        "Ela coloca os dados em uma base Pandas chamada ```alunos_matriculados_2019```.\n",
        "\n"
      ]
    },
    {
      "cell_type": "code",
      "execution_count": 3,
      "metadata": {
        "id": "SKO9269-uFRn"
      },
      "outputs": [],
      "source": [
        "url = \"https://dados.educacao.sp.gov.br/sites/default/files/Quantidade%20de%20alunos%20por%20tipo%20de%20ensino%20da%20rede%20estadual_2019_1%C2%B0SEMESTRE.csv\"\n",
        "response = request.urlopen(url, context=ignorar_ssl)\n",
        "data = response.read().decode('ISO-8859-1')\n",
        "csv_data = io.StringIO(data)\n",
        "alunos_matriculados_2019 = pd.read_csv(csv_data, delimiter=\";\")"
      ]
    },
    {
      "cell_type": "markdown",
      "metadata": {
        "id": "carUfD8yGykp"
      },
      "source": [
        "Eis as primeiras 6 linhas desta base de dados."
      ]
    },
    {
      "cell_type": "code",
      "execution_count": 4,
      "metadata": {
        "colab": {
          "base_uri": "https://localhost:8080/",
          "height": 388
        },
        "id": "Y3JN0ctiuOJC",
        "outputId": "36247273-bb92-48cc-f8b3-9327bbb55f7d"
      },
      "outputs": [
        {
          "data": {
            "text/html": [
              "<div>\n",
              "<style scoped>\n",
              "    .dataframe tbody tr th:only-of-type {\n",
              "        vertical-align: middle;\n",
              "    }\n",
              "\n",
              "    .dataframe tbody tr th {\n",
              "        vertical-align: top;\n",
              "    }\n",
              "\n",
              "    .dataframe thead th {\n",
              "        text-align: right;\n",
              "    }\n",
              "</style>\n",
              "<table border=\"1\" class=\"dataframe\">\n",
              "  <thead>\n",
              "    <tr style=\"text-align: right;\">\n",
              "      <th></th>\n",
              "      <th>ï»¿CDREDE</th>\n",
              "      <th>DE</th>\n",
              "      <th>CODMUN</th>\n",
              "      <th>MUN</th>\n",
              "      <th>CATEG</th>\n",
              "      <th>COD_ESC</th>\n",
              "      <th>TIPOESC</th>\n",
              "      <th>CODVINC</th>\n",
              "      <th>NOMESC</th>\n",
              "      <th>ENDESC</th>\n",
              "      <th>...</th>\n",
              "      <th>ZONA</th>\n",
              "      <th>ENSINO INFANTIL</th>\n",
              "      <th>CLASSES ESPECIAIS</th>\n",
              "      <th>SALA DE RECURSO</th>\n",
              "      <th>ANOS INICIAIS</th>\n",
              "      <th>ANOS FINAIS</th>\n",
              "      <th>ENSINO MÃDIO</th>\n",
              "      <th>EJA â ANOS INICIAS</th>\n",
              "      <th>EJA â ANOS FINAIS</th>\n",
              "      <th>EJA â ENSINO MEDIO</th>\n",
              "    </tr>\n",
              "  </thead>\n",
              "  <tbody>\n",
              "    <tr>\n",
              "      <th>0</th>\n",
              "      <td>10101</td>\n",
              "      <td>NORTE 1</td>\n",
              "      <td>100</td>\n",
              "      <td>SAO PAULO</td>\n",
              "      <td>1</td>\n",
              "      <td>279</td>\n",
              "      <td>8</td>\n",
              "      <td>NaN</td>\n",
              "      <td>GALDINO LOPES CHAGAS PROFESSOR</td>\n",
              "      <td>SABAO</td>\n",
              "      <td>...</td>\n",
              "      <td>1</td>\n",
              "      <td>0</td>\n",
              "      <td>14</td>\n",
              "      <td>0</td>\n",
              "      <td>1067</td>\n",
              "      <td>0</td>\n",
              "      <td>0</td>\n",
              "      <td>0</td>\n",
              "      <td>0</td>\n",
              "      <td>0</td>\n",
              "    </tr>\n",
              "    <tr>\n",
              "      <th>1</th>\n",
              "      <td>10101</td>\n",
              "      <td>NORTE 1</td>\n",
              "      <td>100</td>\n",
              "      <td>SAO PAULO</td>\n",
              "      <td>1</td>\n",
              "      <td>346</td>\n",
              "      <td>8</td>\n",
              "      <td>NaN</td>\n",
              "      <td>MANOEL DA NOBREGA PADRE</td>\n",
              "      <td>ITABERABA</td>\n",
              "      <td>...</td>\n",
              "      <td>1</td>\n",
              "      <td>0</td>\n",
              "      <td>0</td>\n",
              "      <td>0</td>\n",
              "      <td>647</td>\n",
              "      <td>0</td>\n",
              "      <td>0</td>\n",
              "      <td>0</td>\n",
              "      <td>0</td>\n",
              "      <td>0</td>\n",
              "    </tr>\n",
              "    <tr>\n",
              "      <th>2</th>\n",
              "      <td>10101</td>\n",
              "      <td>NORTE 1</td>\n",
              "      <td>100</td>\n",
              "      <td>SAO PAULO</td>\n",
              "      <td>1</td>\n",
              "      <td>565</td>\n",
              "      <td>8</td>\n",
              "      <td>NaN</td>\n",
              "      <td>NOSSA SENHORA DO RETIRO</td>\n",
              "      <td>RUA  DOUTOR  PEDRO MUSTRE PORTUGAL</td>\n",
              "      <td>...</td>\n",
              "      <td>1</td>\n",
              "      <td>0</td>\n",
              "      <td>17</td>\n",
              "      <td>0</td>\n",
              "      <td>484</td>\n",
              "      <td>0</td>\n",
              "      <td>0</td>\n",
              "      <td>0</td>\n",
              "      <td>0</td>\n",
              "      <td>0</td>\n",
              "    </tr>\n",
              "    <tr>\n",
              "      <th>3</th>\n",
              "      <td>10101</td>\n",
              "      <td>NORTE 1</td>\n",
              "      <td>100</td>\n",
              "      <td>SAO PAULO</td>\n",
              "      <td>1</td>\n",
              "      <td>644</td>\n",
              "      <td>8</td>\n",
              "      <td>NaN</td>\n",
              "      <td>PIO XII</td>\n",
              "      <td>OTAVIO DOMINGUITO</td>\n",
              "      <td>...</td>\n",
              "      <td>1</td>\n",
              "      <td>0</td>\n",
              "      <td>0</td>\n",
              "      <td>0</td>\n",
              "      <td>264</td>\n",
              "      <td>0</td>\n",
              "      <td>0</td>\n",
              "      <td>0</td>\n",
              "      <td>0</td>\n",
              "      <td>0</td>\n",
              "    </tr>\n",
              "    <tr>\n",
              "      <th>4</th>\n",
              "      <td>10101</td>\n",
              "      <td>NORTE 1</td>\n",
              "      <td>100</td>\n",
              "      <td>SAO PAULO</td>\n",
              "      <td>1</td>\n",
              "      <td>36444</td>\n",
              "      <td>8</td>\n",
              "      <td>NaN</td>\n",
              "      <td>GENESIO DE ALMEIDA MOURA DOUTOR</td>\n",
              "      <td>DOMINGOS AREVALO</td>\n",
              "      <td>...</td>\n",
              "      <td>1</td>\n",
              "      <td>0</td>\n",
              "      <td>0</td>\n",
              "      <td>0</td>\n",
              "      <td>722</td>\n",
              "      <td>456</td>\n",
              "      <td>380</td>\n",
              "      <td>0</td>\n",
              "      <td>0</td>\n",
              "      <td>0</td>\n",
              "    </tr>\n",
              "    <tr>\n",
              "      <th>5</th>\n",
              "      <td>10101</td>\n",
              "      <td>NORTE 1</td>\n",
              "      <td>100</td>\n",
              "      <td>SAO PAULO</td>\n",
              "      <td>1</td>\n",
              "      <td>36456</td>\n",
              "      <td>8</td>\n",
              "      <td>NaN</td>\n",
              "      <td>MIGUEL OLIVA FEITOSA PROFESSOR</td>\n",
              "      <td>TARCON</td>\n",
              "      <td>...</td>\n",
              "      <td>1</td>\n",
              "      <td>0</td>\n",
              "      <td>0</td>\n",
              "      <td>0</td>\n",
              "      <td>0</td>\n",
              "      <td>367</td>\n",
              "      <td>360</td>\n",
              "      <td>0</td>\n",
              "      <td>0</td>\n",
              "      <td>0</td>\n",
              "    </tr>\n",
              "  </tbody>\n",
              "</table>\n",
              "<p>6 rows × 24 columns</p>\n",
              "</div>"
            ],
            "text/plain": [
              "   ï»¿CDREDE       DE  CODMUN        MUN  CATEG  COD_ESC  TIPOESC  CODVINC  \\\n",
              "0      10101  NORTE 1     100  SAO PAULO      1      279        8      NaN   \n",
              "1      10101  NORTE 1     100  SAO PAULO      1      346        8      NaN   \n",
              "2      10101  NORTE 1     100  SAO PAULO      1      565        8      NaN   \n",
              "3      10101  NORTE 1     100  SAO PAULO      1      644        8      NaN   \n",
              "4      10101  NORTE 1     100  SAO PAULO      1    36444        8      NaN   \n",
              "5      10101  NORTE 1     100  SAO PAULO      1    36456        8      NaN   \n",
              "\n",
              "                            NOMESC                              ENDESC  ...  \\\n",
              "0   GALDINO LOPES CHAGAS PROFESSOR                               SABAO  ...   \n",
              "1          MANOEL DA NOBREGA PADRE                           ITABERABA  ...   \n",
              "2          NOSSA SENHORA DO RETIRO  RUA  DOUTOR  PEDRO MUSTRE PORTUGAL  ...   \n",
              "3                          PIO XII                   OTAVIO DOMINGUITO  ...   \n",
              "4  GENESIO DE ALMEIDA MOURA DOUTOR                    DOMINGOS AREVALO  ...   \n",
              "5   MIGUEL OLIVA FEITOSA PROFESSOR                              TARCON  ...   \n",
              "\n",
              "  ZONA ENSINO INFANTIL CLASSES ESPECIAIS  SALA DE RECURSO  ANOS INICIAIS  \\\n",
              "0    1               0                14                0           1067   \n",
              "1    1               0                 0                0            647   \n",
              "2    1               0                17                0            484   \n",
              "3    1               0                 0                0            264   \n",
              "4    1               0                 0                0            722   \n",
              "5    1               0                 0                0              0   \n",
              "\n",
              "   ANOS FINAIS  ENSINO MÃDIO  EJA â ANOS INICIAS  EJA â ANOS FINAIS  \\\n",
              "0            0              0                     0                    0   \n",
              "1            0              0                     0                    0   \n",
              "2            0              0                     0                    0   \n",
              "3            0              0                     0                    0   \n",
              "4          456            380                     0                    0   \n",
              "5          367            360                     0                    0   \n",
              "\n",
              "   EJA â ENSINO MEDIO  \n",
              "0                     0  \n",
              "1                     0  \n",
              "2                     0  \n",
              "3                     0  \n",
              "4                     0  \n",
              "5                     0  \n",
              "\n",
              "[6 rows x 24 columns]"
            ]
          },
          "execution_count": 4,
          "metadata": {},
          "output_type": "execute_result"
        }
      ],
      "source": [
        "alunos_matriculados_2019.head(6)"
      ]
    },
    {
      "cell_type": "markdown",
      "metadata": {
        "id": "RqLBAbBUudua"
      },
      "source": [
        "A explicação para o significado destes dados está no próprio [dicionário de dados](https://dados.educacao.sp.gov.br/dicion%C3%A1rio-de-dados-de-quantidade-de-alunos-por-tipo-de-ensino) disponibilizado pela secretaria.\n"
      ]
    },
    {
      "cell_type": "markdown",
      "metadata": {
        "id": "gyijF6KiKrgv"
      },
      "source": [
        "## Conceito: Endereçando DataFrames\n",
        "\n",
        "Uma série pode ser obtida a partir da *coluna* um DataFrame usando o operador colchetes passando-se o *nome* da coluna.\n",
        "\n",
        "Exemplo:"
      ]
    },
    {
      "cell_type": "code",
      "execution_count": 5,
      "metadata": {
        "colab": {
          "base_uri": "https://localhost:8080/",
          "height": 201
        },
        "id": "fOCD7TytLYs4",
        "outputId": "c47f1868-0da2-454f-c2b7-4ae26438877a"
      },
      "outputs": [
        {
          "data": {
            "text/html": [
              "<tt>dataframe_exemplo_1</tt>:"
            ],
            "text/plain": [
              "<IPython.core.display.HTML object>"
            ]
          },
          "metadata": {},
          "output_type": "display_data"
        },
        {
          "data": {
            "text/html": [
              "<table border=\"1\" class=\"dataframe\">\n",
              "  <thead>\n",
              "    <tr style=\"text-align: right;\">\n",
              "      <th></th>\n",
              "      <th>C1</th>\n",
              "      <th>C2</th>\n",
              "    </tr>\n",
              "  </thead>\n",
              "  <tbody>\n",
              "    <tr>\n",
              "      <th>1</th>\n",
              "      <td>1</td>\n",
              "      <td>2</td>\n",
              "    </tr>\n",
              "    <tr>\n",
              "      <th>2</th>\n",
              "      <td>3</td>\n",
              "      <td>4</td>\n",
              "    </tr>\n",
              "  </tbody>\n",
              "</table>"
            ],
            "text/plain": [
              "<IPython.core.display.HTML object>"
            ]
          },
          "metadata": {},
          "output_type": "display_data"
        },
        {
          "data": {
            "text/html": [
              "<tt>dataframe_exemplo_1[\"C2\"]</tt>:"
            ],
            "text/plain": [
              "<IPython.core.display.HTML object>"
            ]
          },
          "metadata": {},
          "output_type": "display_data"
        },
        {
          "name": "stdout",
          "output_type": "stream",
          "text": [
            "1    2\n",
            "2    4\n",
            "Name: C2, dtype: int64\n"
          ]
        }
      ],
      "source": [
        "dataframe_exemplo_1 = pd.DataFrame([[1,2],[3,4]], index=[1,2], columns=[\"C1\", \"C2\"])\n",
        "display(HTML(\"<tt>dataframe_exemplo_1</tt>:\"))\n",
        "display(HTML(dataframe_exemplo_1.to_html()))\n",
        "display(HTML(\"<tt>dataframe_exemplo_1[\\\"C2\\\"]</tt>:\"))\n",
        "print(dataframe_exemplo_1[\"C2\"])"
      ]
    },
    {
      "cell_type": "markdown",
      "metadata": {
        "id": "Mq6h87CTM1Ks"
      },
      "source": [
        "É possível endereçar um Dataframe por linha e por coluna por meio do atributo ```loc``` e do operador colchetes.\n",
        "\n",
        "Exemplo:"
      ]
    },
    {
      "cell_type": "code",
      "execution_count": 6,
      "metadata": {
        "colab": {
          "base_uri": "https://localhost:8080/",
          "height": 125
        },
        "id": "RI2aAYJLNEvl",
        "outputId": "df0ddb66-4a02-4930-eefb-e213fb78f7b7"
      },
      "outputs": [
        {
          "data": {
            "text/html": [
              "<tt>dataframe_exemplo_1.loc[2]</tt>:"
            ],
            "text/plain": [
              "<IPython.core.display.HTML object>"
            ]
          },
          "metadata": {},
          "output_type": "display_data"
        },
        {
          "name": "stdout",
          "output_type": "stream",
          "text": [
            "C1    3\n",
            "C2    4\n",
            "Name: 2, dtype: int64\n"
          ]
        },
        {
          "data": {
            "text/html": [
              "<tt>dataframe_exemplo_1.loc[2,\"C2\"]</tt>:"
            ],
            "text/plain": [
              "<IPython.core.display.HTML object>"
            ]
          },
          "metadata": {},
          "output_type": "display_data"
        },
        {
          "name": "stdout",
          "output_type": "stream",
          "text": [
            "4\n"
          ]
        }
      ],
      "source": [
        "display(HTML(\"<tt>dataframe_exemplo_1.loc[2]</tt>:\"))\n",
        "print(dataframe_exemplo_1.loc[2])\n",
        "display(HTML(\"<tt>dataframe_exemplo_1.loc[2,\\\"C2\\\"]</tt>:\"))\n",
        "print(dataframe_exemplo_1.loc[2, \"C2\"])"
      ]
    },
    {
      "cell_type": "markdown",
      "metadata": {
        "id": "mt3vLulaIz1W"
      },
      "source": [
        "## *Questão 1*:\n",
        "\n",
        "O método ```idxmax()``` aplicado a uma *série* recupera o índice da entrada de *maior* valor.\n",
        "\n",
        "Escreva código em Python que imprime o *nome* da escola com a *maior* quantidade de alunos matriculados no ensino médio.\n",
        "\n",
        "*Lembrete*: Você precisa obter uma Série com a quantidade de alunos matriculados no ensino médio.\n",
        "Use o dicionário de dados para determinar qual o nome da coluna apropriado e enderece a coluna no dataframe empregando o operador colchetes ```[]```."
      ]
    },
    {
      "cell_type": "code",
      "execution_count": 7,
      "metadata": {
        "id": "pu4mNkc7KHyp"
      },
      "outputs": [
        {
          "name": "stdout",
          "output_type": "stream",
          "text": [
            "OSWALDO CATALANO\n"
          ]
        }
      ],
      "source": [
        "# Complete com seu código\n",
        "escola_maior_quantidade_alunos = alunos_matriculados_2019.loc[alunos_matriculados_2019['ENSINO MÃDIO'].idxmax(), 'NOMESC']\n",
        "print(escola_maior_quantidade_alunos)\n"
      ]
    },
    {
      "cell_type": "markdown",
      "metadata": {
        "id": "H5Q220DNHszk"
      },
      "source": [
        "## Conceito: Agrupando dados\n",
        "\n",
        "Em pandas é possível agrupar dados de um dataframe que tenham o mesmo valor em uma coluna através do método ```groupby()```, passando-se como parâmetro o *nome* da coluna que deve ser usada para agrupar.\n",
        "\n",
        "O resultado é um *grupo de dataframes*.\n",
        "Este grupo pode ser explorado elemento-a-elemento, ou *aglutinado*.\n",
        "\n",
        "A aglutinação vai produzir um novo DataFrame no qual os *índices* serão os valores dos campos da coluna escolhida para fazer o agrupamento e as colunas serão o resultado de alguma operação aglutinadora sobre as colunas de cada agrupamento (algumas colunas podem ser descartadas neste processo).\n",
        "\n",
        "O exemplo a seguir mostra o uso da operação aglutinadora ```sum``` sobre um dataframe de produtos para determinar a quantidade de produtos de cada cor."
      ]
    },
    {
      "cell_type": "code",
      "execution_count": 8,
      "metadata": {
        "colab": {
          "base_uri": "https://localhost:8080/",
          "height": 743
        },
        "id": "7g3q-IGoIL1a",
        "outputId": "91b37bfc-0c56-4c49-d3ca-3e02ec7a73ba"
      },
      "outputs": [
        {
          "data": {
            "text/html": [
              "<tt>dataframe_exemplo_2</tt>:"
            ],
            "text/plain": [
              "<IPython.core.display.HTML object>"
            ]
          },
          "metadata": {},
          "output_type": "display_data"
        },
        {
          "data": {
            "text/html": [
              "<table border=\"1\" class=\"dataframe\">\n",
              "  <thead>\n",
              "    <tr style=\"text-align: right;\">\n",
              "      <th></th>\n",
              "      <th>Produto</th>\n",
              "      <th>Cor</th>\n",
              "      <th>Quantidade</th>\n",
              "    </tr>\n",
              "  </thead>\n",
              "  <tbody>\n",
              "    <tr>\n",
              "      <th>0</th>\n",
              "      <td>bola</td>\n",
              "      <td>branco</td>\n",
              "      <td>10</td>\n",
              "    </tr>\n",
              "    <tr>\n",
              "      <th>1</th>\n",
              "      <td>bicicleta</td>\n",
              "      <td>vermelho</td>\n",
              "      <td>15</td>\n",
              "    </tr>\n",
              "    <tr>\n",
              "      <th>2</th>\n",
              "      <td>patinete</td>\n",
              "      <td>verde</td>\n",
              "      <td>10</td>\n",
              "    </tr>\n",
              "    <tr>\n",
              "      <th>3</th>\n",
              "      <td>pião</td>\n",
              "      <td>branco</td>\n",
              "      <td>20</td>\n",
              "    </tr>\n",
              "    <tr>\n",
              "      <th>4</th>\n",
              "      <td>bambolê</td>\n",
              "      <td>vermelho</td>\n",
              "      <td>30</td>\n",
              "    </tr>\n",
              "  </tbody>\n",
              "</table>"
            ],
            "text/plain": [
              "<IPython.core.display.HTML object>"
            ]
          },
          "metadata": {},
          "output_type": "display_data"
        },
        {
          "name": "stdout",
          "output_type": "stream",
          "text": [
            "Resultados de dataframe_exemplo_2.groupby('Cor'):\n",
            "branco:\n"
          ]
        },
        {
          "data": {
            "text/html": [
              "<table border=\"1\" class=\"dataframe\">\n",
              "  <thead>\n",
              "    <tr style=\"text-align: right;\">\n",
              "      <th></th>\n",
              "      <th>Produto</th>\n",
              "      <th>Cor</th>\n",
              "      <th>Quantidade</th>\n",
              "    </tr>\n",
              "  </thead>\n",
              "  <tbody>\n",
              "    <tr>\n",
              "      <th>0</th>\n",
              "      <td>bola</td>\n",
              "      <td>branco</td>\n",
              "      <td>10</td>\n",
              "    </tr>\n",
              "    <tr>\n",
              "      <th>3</th>\n",
              "      <td>pião</td>\n",
              "      <td>branco</td>\n",
              "      <td>20</td>\n",
              "    </tr>\n",
              "  </tbody>\n",
              "</table>"
            ],
            "text/plain": [
              "<IPython.core.display.HTML object>"
            ]
          },
          "metadata": {},
          "output_type": "display_data"
        },
        {
          "name": "stdout",
          "output_type": "stream",
          "text": [
            "verde:\n"
          ]
        },
        {
          "data": {
            "text/html": [
              "<table border=\"1\" class=\"dataframe\">\n",
              "  <thead>\n",
              "    <tr style=\"text-align: right;\">\n",
              "      <th></th>\n",
              "      <th>Produto</th>\n",
              "      <th>Cor</th>\n",
              "      <th>Quantidade</th>\n",
              "    </tr>\n",
              "  </thead>\n",
              "  <tbody>\n",
              "    <tr>\n",
              "      <th>2</th>\n",
              "      <td>patinete</td>\n",
              "      <td>verde</td>\n",
              "      <td>10</td>\n",
              "    </tr>\n",
              "  </tbody>\n",
              "</table>"
            ],
            "text/plain": [
              "<IPython.core.display.HTML object>"
            ]
          },
          "metadata": {},
          "output_type": "display_data"
        },
        {
          "name": "stdout",
          "output_type": "stream",
          "text": [
            "vermelho:\n"
          ]
        },
        {
          "data": {
            "text/html": [
              "<table border=\"1\" class=\"dataframe\">\n",
              "  <thead>\n",
              "    <tr style=\"text-align: right;\">\n",
              "      <th></th>\n",
              "      <th>Produto</th>\n",
              "      <th>Cor</th>\n",
              "      <th>Quantidade</th>\n",
              "    </tr>\n",
              "  </thead>\n",
              "  <tbody>\n",
              "    <tr>\n",
              "      <th>1</th>\n",
              "      <td>bicicleta</td>\n",
              "      <td>vermelho</td>\n",
              "      <td>15</td>\n",
              "    </tr>\n",
              "    <tr>\n",
              "      <th>4</th>\n",
              "      <td>bambolê</td>\n",
              "      <td>vermelho</td>\n",
              "      <td>30</td>\n",
              "    </tr>\n",
              "  </tbody>\n",
              "</table>"
            ],
            "text/plain": [
              "<IPython.core.display.HTML object>"
            ]
          },
          "metadata": {},
          "output_type": "display_data"
        },
        {
          "name": "stdout",
          "output_type": "stream",
          "text": [
            "Resultados de dataframe_exemplo_2.groupby('Cor').sum():\n"
          ]
        },
        {
          "data": {
            "text/html": [
              "<table border=\"1\" class=\"dataframe\">\n",
              "  <thead>\n",
              "    <tr style=\"text-align: right;\">\n",
              "      <th></th>\n",
              "      <th>Produto</th>\n",
              "      <th>Quantidade</th>\n",
              "    </tr>\n",
              "    <tr>\n",
              "      <th>Cor</th>\n",
              "      <th></th>\n",
              "      <th></th>\n",
              "    </tr>\n",
              "  </thead>\n",
              "  <tbody>\n",
              "    <tr>\n",
              "      <th>branco</th>\n",
              "      <td>bolapião</td>\n",
              "      <td>30</td>\n",
              "    </tr>\n",
              "    <tr>\n",
              "      <th>verde</th>\n",
              "      <td>patinete</td>\n",
              "      <td>10</td>\n",
              "    </tr>\n",
              "    <tr>\n",
              "      <th>vermelho</th>\n",
              "      <td>bicicletabambolê</td>\n",
              "      <td>45</td>\n",
              "    </tr>\n",
              "  </tbody>\n",
              "</table>"
            ],
            "text/plain": [
              "<IPython.core.display.HTML object>"
            ]
          },
          "metadata": {},
          "output_type": "display_data"
        }
      ],
      "source": [
        "dataframe_exemplo_2 = pd.DataFrame({\"Produto\": [\"bola\", \"bicicleta\", \"patinete\", \"pião\", \"bambolê\"], \"Cor\": [\"branco\", \"vermelho\", \"verde\", \"branco\", \"vermelho\"], \"Quantidade\": [10, 15, 10, 20,30]})\n",
        "display(HTML(\"<tt>dataframe_exemplo_2</tt>:\"))\n",
        "display(HTML(dataframe_exemplo_2.to_html()))\n",
        "dataframe_exemplo_2_por_cor = dataframe_exemplo_2.groupby(\"Cor\");\n",
        "print(\"Resultados de dataframe_exemplo_2.groupby('Cor'):\")\n",
        "for name, d in dataframe_exemplo_2_por_cor:\n",
        "  print(name + \":\")\n",
        "  display(HTML(d.to_html()))\n",
        "print(\"Resultados de dataframe_exemplo_2.groupby('Cor').sum():\")\n",
        "display(HTML(dataframe_exemplo_2_por_cor.sum().to_html()))"
      ]
    },
    {
      "cell_type": "markdown",
      "metadata": {
        "id": "lLEj9bCGLV-B"
      },
      "source": [
        "## *Questão 2*:\n",
        "\n",
        "Crie a partir da base ```alunos_matriculados_2019``` um novo dataframe chamado ```total_alunos_por_diretoria``` que contém o *total* de alunos em cada diretoria *indexado* pelo código de diretoria (o campo ```CDREDE```).\n",
        "\n",
        "Depois escreva um código em python que mostra o *código* da diretoria com o *maior* número de alunos *no ensino médio*."
      ]
    },
    {
      "cell_type": "code",
      "execution_count": null,
      "metadata": {
        "id": "vykyfK4SOvxX"
      },
      "outputs": [],
      "source": [
        "# Complete com seu código\n",
        "total_alunos_por_diretoria = alunos_matriculados_2019.groupby(\"DIRETORIA\").sum()"
      ]
    },
    {
      "cell_type": "markdown",
      "metadata": {
        "id": "cChhTH9Owevh"
      },
      "source": [
        "# 3 - Filtrando dados\n",
        "\n",
        "É possível aplicar operações boolanas a séries e dataframes pandas.\n",
        "Por exemplo, o código a seguir retorna uma série booleana com todas as linhas de ```dataframe_exemplo_2```  que correspondem a produtos com 15 ou mais unidadeS:\n"
      ]
    },
    {
      "cell_type": "code",
      "execution_count": null,
      "metadata": {
        "colab": {
          "base_uri": "https://localhost:8080/"
        },
        "id": "st471IMRPW00",
        "outputId": "42daafb3-6b41-459e-f875-774435fe5a4d"
      },
      "outputs": [
        {
          "data": {
            "text/plain": [
              "0    False\n",
              "1     True\n",
              "2    False\n",
              "3     True\n",
              "4     True\n",
              "Name: Quantidade, dtype: bool"
            ]
          },
          "execution_count": 51,
          "metadata": {},
          "output_type": "execute_result"
        }
      ],
      "source": [
        "dataframe_exemplo_2['Quantidade']>=15"
      ]
    },
    {
      "cell_type": "markdown",
      "metadata": {
        "id": "jqs6B4-mPd6w"
      },
      "source": [
        "É possível usar essa máscara para *filtrar* a tabela.\n",
        "Por exemplo, eis a tabela contendo apenas as entradas com 15 ou mais unidades:"
      ]
    },
    {
      "cell_type": "code",
      "execution_count": null,
      "metadata": {
        "colab": {
          "base_uri": "https://localhost:8080/",
          "height": 143
        },
        "id": "qgCjJkAFPnJc",
        "outputId": "c04eab10-e897-4e3c-c1ea-cf77406fb7c8"
      },
      "outputs": [
        {
          "data": {
            "application/vnd.google.colaboratory.intrinsic+json": {
              "summary": "{\n  \"name\": \"dataframe_exemplo_2[dataframe_exemplo_2['Quantidade']>=15]\",\n  \"rows\": 3,\n  \"fields\": [\n    {\n      \"column\": \"Produto\",\n      \"properties\": {\n        \"dtype\": \"string\",\n        \"num_unique_values\": 3,\n        \"samples\": [\n          \"bicicleta\",\n          \"pi\\u00e3o\",\n          \"bambol\\u00ea\"\n        ],\n        \"semantic_type\": \"\",\n        \"description\": \"\"\n      }\n    },\n    {\n      \"column\": \"Cor\",\n      \"properties\": {\n        \"dtype\": \"string\",\n        \"num_unique_values\": 2,\n        \"samples\": [\n          \"branco\",\n          \"vermelho\"\n        ],\n        \"semantic_type\": \"\",\n        \"description\": \"\"\n      }\n    },\n    {\n      \"column\": \"Quantidade\",\n      \"properties\": {\n        \"dtype\": \"number\",\n        \"std\": 7,\n        \"min\": 15,\n        \"max\": 30,\n        \"num_unique_values\": 3,\n        \"samples\": [\n          15,\n          20\n        ],\n        \"semantic_type\": \"\",\n        \"description\": \"\"\n      }\n    }\n  ]\n}",
              "type": "dataframe"
            },
            "text/html": [
              "\n",
              "  <div id=\"df-3d9488c6-6616-49a6-a2fa-b30293bd96fb\" class=\"colab-df-container\">\n",
              "    <div>\n",
              "<style scoped>\n",
              "    .dataframe tbody tr th:only-of-type {\n",
              "        vertical-align: middle;\n",
              "    }\n",
              "\n",
              "    .dataframe tbody tr th {\n",
              "        vertical-align: top;\n",
              "    }\n",
              "\n",
              "    .dataframe thead th {\n",
              "        text-align: right;\n",
              "    }\n",
              "</style>\n",
              "<table border=\"1\" class=\"dataframe\">\n",
              "  <thead>\n",
              "    <tr style=\"text-align: right;\">\n",
              "      <th></th>\n",
              "      <th>Produto</th>\n",
              "      <th>Cor</th>\n",
              "      <th>Quantidade</th>\n",
              "    </tr>\n",
              "  </thead>\n",
              "  <tbody>\n",
              "    <tr>\n",
              "      <th>1</th>\n",
              "      <td>bicicleta</td>\n",
              "      <td>vermelho</td>\n",
              "      <td>15</td>\n",
              "    </tr>\n",
              "    <tr>\n",
              "      <th>3</th>\n",
              "      <td>pião</td>\n",
              "      <td>branco</td>\n",
              "      <td>20</td>\n",
              "    </tr>\n",
              "    <tr>\n",
              "      <th>4</th>\n",
              "      <td>bambolê</td>\n",
              "      <td>vermelho</td>\n",
              "      <td>30</td>\n",
              "    </tr>\n",
              "  </tbody>\n",
              "</table>\n",
              "</div>\n",
              "    <div class=\"colab-df-buttons\">\n",
              "\n",
              "  <div class=\"colab-df-container\">\n",
              "    <button class=\"colab-df-convert\" onclick=\"convertToInteractive('df-3d9488c6-6616-49a6-a2fa-b30293bd96fb')\"\n",
              "            title=\"Convert this dataframe to an interactive table.\"\n",
              "            style=\"display:none;\">\n",
              "\n",
              "  <svg xmlns=\"http://www.w3.org/2000/svg\" height=\"24px\" viewBox=\"0 -960 960 960\">\n",
              "    <path d=\"M120-120v-720h720v720H120Zm60-500h600v-160H180v160Zm220 220h160v-160H400v160Zm0 220h160v-160H400v160ZM180-400h160v-160H180v160Zm440 0h160v-160H620v160ZM180-180h160v-160H180v160Zm440 0h160v-160H620v160Z\"/>\n",
              "  </svg>\n",
              "    </button>\n",
              "\n",
              "  <style>\n",
              "    .colab-df-container {\n",
              "      display:flex;\n",
              "      gap: 12px;\n",
              "    }\n",
              "\n",
              "    .colab-df-convert {\n",
              "      background-color: #E8F0FE;\n",
              "      border: none;\n",
              "      border-radius: 50%;\n",
              "      cursor: pointer;\n",
              "      display: none;\n",
              "      fill: #1967D2;\n",
              "      height: 32px;\n",
              "      padding: 0 0 0 0;\n",
              "      width: 32px;\n",
              "    }\n",
              "\n",
              "    .colab-df-convert:hover {\n",
              "      background-color: #E2EBFA;\n",
              "      box-shadow: 0px 1px 2px rgba(60, 64, 67, 0.3), 0px 1px 3px 1px rgba(60, 64, 67, 0.15);\n",
              "      fill: #174EA6;\n",
              "    }\n",
              "\n",
              "    .colab-df-buttons div {\n",
              "      margin-bottom: 4px;\n",
              "    }\n",
              "\n",
              "    [theme=dark] .colab-df-convert {\n",
              "      background-color: #3B4455;\n",
              "      fill: #D2E3FC;\n",
              "    }\n",
              "\n",
              "    [theme=dark] .colab-df-convert:hover {\n",
              "      background-color: #434B5C;\n",
              "      box-shadow: 0px 1px 3px 1px rgba(0, 0, 0, 0.15);\n",
              "      filter: drop-shadow(0px 1px 2px rgba(0, 0, 0, 0.3));\n",
              "      fill: #FFFFFF;\n",
              "    }\n",
              "  </style>\n",
              "\n",
              "    <script>\n",
              "      const buttonEl =\n",
              "        document.querySelector('#df-3d9488c6-6616-49a6-a2fa-b30293bd96fb button.colab-df-convert');\n",
              "      buttonEl.style.display =\n",
              "        google.colab.kernel.accessAllowed ? 'block' : 'none';\n",
              "\n",
              "      async function convertToInteractive(key) {\n",
              "        const element = document.querySelector('#df-3d9488c6-6616-49a6-a2fa-b30293bd96fb');\n",
              "        const dataTable =\n",
              "          await google.colab.kernel.invokeFunction('convertToInteractive',\n",
              "                                                    [key], {});\n",
              "        if (!dataTable) return;\n",
              "\n",
              "        const docLinkHtml = 'Like what you see? Visit the ' +\n",
              "          '<a target=\"_blank\" href=https://colab.research.google.com/notebooks/data_table.ipynb>data table notebook</a>'\n",
              "          + ' to learn more about interactive tables.';\n",
              "        element.innerHTML = '';\n",
              "        dataTable['output_type'] = 'display_data';\n",
              "        await google.colab.output.renderOutput(dataTable, element);\n",
              "        const docLink = document.createElement('div');\n",
              "        docLink.innerHTML = docLinkHtml;\n",
              "        element.appendChild(docLink);\n",
              "      }\n",
              "    </script>\n",
              "  </div>\n",
              "\n",
              "\n",
              "<div id=\"df-409762fb-a6e0-4c8c-b89e-227e26b0f5b3\">\n",
              "  <button class=\"colab-df-quickchart\" onclick=\"quickchart('df-409762fb-a6e0-4c8c-b89e-227e26b0f5b3')\"\n",
              "            title=\"Suggest charts\"\n",
              "            style=\"display:none;\">\n",
              "\n",
              "<svg xmlns=\"http://www.w3.org/2000/svg\" height=\"24px\"viewBox=\"0 0 24 24\"\n",
              "     width=\"24px\">\n",
              "    <g>\n",
              "        <path d=\"M19 3H5c-1.1 0-2 .9-2 2v14c0 1.1.9 2 2 2h14c1.1 0 2-.9 2-2V5c0-1.1-.9-2-2-2zM9 17H7v-7h2v7zm4 0h-2V7h2v10zm4 0h-2v-4h2v4z\"/>\n",
              "    </g>\n",
              "</svg>\n",
              "  </button>\n",
              "\n",
              "<style>\n",
              "  .colab-df-quickchart {\n",
              "      --bg-color: #E8F0FE;\n",
              "      --fill-color: #1967D2;\n",
              "      --hover-bg-color: #E2EBFA;\n",
              "      --hover-fill-color: #174EA6;\n",
              "      --disabled-fill-color: #AAA;\n",
              "      --disabled-bg-color: #DDD;\n",
              "  }\n",
              "\n",
              "  [theme=dark] .colab-df-quickchart {\n",
              "      --bg-color: #3B4455;\n",
              "      --fill-color: #D2E3FC;\n",
              "      --hover-bg-color: #434B5C;\n",
              "      --hover-fill-color: #FFFFFF;\n",
              "      --disabled-bg-color: #3B4455;\n",
              "      --disabled-fill-color: #666;\n",
              "  }\n",
              "\n",
              "  .colab-df-quickchart {\n",
              "    background-color: var(--bg-color);\n",
              "    border: none;\n",
              "    border-radius: 50%;\n",
              "    cursor: pointer;\n",
              "    display: none;\n",
              "    fill: var(--fill-color);\n",
              "    height: 32px;\n",
              "    padding: 0;\n",
              "    width: 32px;\n",
              "  }\n",
              "\n",
              "  .colab-df-quickchart:hover {\n",
              "    background-color: var(--hover-bg-color);\n",
              "    box-shadow: 0 1px 2px rgba(60, 64, 67, 0.3), 0 1px 3px 1px rgba(60, 64, 67, 0.15);\n",
              "    fill: var(--button-hover-fill-color);\n",
              "  }\n",
              "\n",
              "  .colab-df-quickchart-complete:disabled,\n",
              "  .colab-df-quickchart-complete:disabled:hover {\n",
              "    background-color: var(--disabled-bg-color);\n",
              "    fill: var(--disabled-fill-color);\n",
              "    box-shadow: none;\n",
              "  }\n",
              "\n",
              "  .colab-df-spinner {\n",
              "    border: 2px solid var(--fill-color);\n",
              "    border-color: transparent;\n",
              "    border-bottom-color: var(--fill-color);\n",
              "    animation:\n",
              "      spin 1s steps(1) infinite;\n",
              "  }\n",
              "\n",
              "  @keyframes spin {\n",
              "    0% {\n",
              "      border-color: transparent;\n",
              "      border-bottom-color: var(--fill-color);\n",
              "      border-left-color: var(--fill-color);\n",
              "    }\n",
              "    20% {\n",
              "      border-color: transparent;\n",
              "      border-left-color: var(--fill-color);\n",
              "      border-top-color: var(--fill-color);\n",
              "    }\n",
              "    30% {\n",
              "      border-color: transparent;\n",
              "      border-left-color: var(--fill-color);\n",
              "      border-top-color: var(--fill-color);\n",
              "      border-right-color: var(--fill-color);\n",
              "    }\n",
              "    40% {\n",
              "      border-color: transparent;\n",
              "      border-right-color: var(--fill-color);\n",
              "      border-top-color: var(--fill-color);\n",
              "    }\n",
              "    60% {\n",
              "      border-color: transparent;\n",
              "      border-right-color: var(--fill-color);\n",
              "    }\n",
              "    80% {\n",
              "      border-color: transparent;\n",
              "      border-right-color: var(--fill-color);\n",
              "      border-bottom-color: var(--fill-color);\n",
              "    }\n",
              "    90% {\n",
              "      border-color: transparent;\n",
              "      border-bottom-color: var(--fill-color);\n",
              "    }\n",
              "  }\n",
              "</style>\n",
              "\n",
              "  <script>\n",
              "    async function quickchart(key) {\n",
              "      const quickchartButtonEl =\n",
              "        document.querySelector('#' + key + ' button');\n",
              "      quickchartButtonEl.disabled = true;  // To prevent multiple clicks.\n",
              "      quickchartButtonEl.classList.add('colab-df-spinner');\n",
              "      try {\n",
              "        const charts = await google.colab.kernel.invokeFunction(\n",
              "            'suggestCharts', [key], {});\n",
              "      } catch (error) {\n",
              "        console.error('Error during call to suggestCharts:', error);\n",
              "      }\n",
              "      quickchartButtonEl.classList.remove('colab-df-spinner');\n",
              "      quickchartButtonEl.classList.add('colab-df-quickchart-complete');\n",
              "    }\n",
              "    (() => {\n",
              "      let quickchartButtonEl =\n",
              "        document.querySelector('#df-409762fb-a6e0-4c8c-b89e-227e26b0f5b3 button');\n",
              "      quickchartButtonEl.style.display =\n",
              "        google.colab.kernel.accessAllowed ? 'block' : 'none';\n",
              "    })();\n",
              "  </script>\n",
              "</div>\n",
              "    </div>\n",
              "  </div>\n"
            ],
            "text/plain": [
              "     Produto       Cor  Quantidade\n",
              "1  bicicleta  vermelho          15\n",
              "3       pião    branco          20\n",
              "4    bambolê  vermelho          30"
            ]
          },
          "execution_count": 52,
          "metadata": {},
          "output_type": "execute_result"
        }
      ],
      "source": [
        "dataframe_exemplo_2[dataframe_exemplo_2['Quantidade']>=15]"
      ]
    },
    {
      "cell_type": "markdown",
      "metadata": {
        "id": "RYxhHz8hPp7F"
      },
      "source": [
        "## *Questão 3*:\n",
        "\n",
        "Escreva um código em python que retorna a fração de escolas que *não* têm ensino médio.\n",
        "\n",
        "Sugestão: Quando aplicado a uma série booleana, o método ```sum()``` conta as ocorrências de ```True```.\n",
        "O método ```size()``` conta quantas entradas uma tabela tem."
      ]
    },
    {
      "cell_type": "code",
      "execution_count": null,
      "metadata": {
        "id": "1jboi2E_TpAp"
      },
      "outputs": [],
      "source": [
        "# Complete com seu código"
      ]
    },
    {
      "cell_type": "markdown",
      "metadata": {
        "id": "rXS3NwzdTp3Y"
      },
      "source": [
        "### *Questão 4*.\n",
        "\n",
        "A tabela em ```quantidade_alunos_turma_escola``` contém a quantidade de alunos matriculados por ano, turma e escola"
      ]
    },
    {
      "cell_type": "code",
      "execution_count": null,
      "metadata": {
        "colab": {
          "base_uri": "https://localhost:8080/"
        },
        "id": "0yok7OLAUDgQ",
        "outputId": "89bf1725-750c-4612-81cd-d18f8ee086bd"
      },
      "outputs": [
        {
          "name": "stderr",
          "output_type": "stream",
          "text": [
            "<ipython-input-64-6484aa853c15>:1: DtypeWarning: Columns (9) have mixed types. Specify dtype option on import or set low_memory=False.\n",
            "  total_alunos_matriculados=pd.read_csv(io.TextIOWrapper(request.urlopen(\"https://dados.educacao.sp.gov.br/sites/default/files/Quantidade%20de%20Alunos%20por%20Escola%20e%20Classe%202015_2020.csv\", context=ignorar_ssl)), delimiter=\";\")\n"
          ]
        }
      ],
      "source": [
        "total_alunos_matriculados=pd.read_csv(io.TextIOWrapper(request.urlopen(\"https://dados.educacao.sp.gov.br/sites/default/files/Quantidade%20de%20Alunos%20por%20Escola%20e%20Classe%202015_2020.csv\", context=ignorar_ssl)), delimiter=\";\")"
      ]
    },
    {
      "cell_type": "markdown",
      "metadata": {
        "id": "A0ocAir6UHyj"
      },
      "source": [
        "Eis as suas primeiras 6 entradas:"
      ]
    },
    {
      "cell_type": "code",
      "execution_count": null,
      "metadata": {
        "colab": {
          "base_uri": "https://localhost:8080/",
          "height": 237
        },
        "id": "m-UNJDMBUKBc",
        "outputId": "00328a9d-a755-4cff-9daa-732b1e8a98bb"
      },
      "outputs": [
        {
          "data": {
            "application/vnd.google.colaboratory.intrinsic+json": {
              "type": "dataframe",
              "variable_name": "total_alunos_matriculados"
            },
            "text/html": [
              "\n",
              "  <div id=\"df-bda146be-0e6b-43bf-9182-dc3e29060c3b\" class=\"colab-df-container\">\n",
              "    <div>\n",
              "<style scoped>\n",
              "    .dataframe tbody tr th:only-of-type {\n",
              "        vertical-align: middle;\n",
              "    }\n",
              "\n",
              "    .dataframe tbody tr th {\n",
              "        vertical-align: top;\n",
              "    }\n",
              "\n",
              "    .dataframe thead th {\n",
              "        text-align: right;\n",
              "    }\n",
              "</style>\n",
              "<table border=\"1\" class=\"dataframe\">\n",
              "  <thead>\n",
              "    <tr style=\"text-align: right;\">\n",
              "      <th></th>\n",
              "      <th>ANO</th>\n",
              "      <th>NOMEDEP</th>\n",
              "      <th>DE</th>\n",
              "      <th>MUN</th>\n",
              "      <th>DISTR</th>\n",
              "      <th>COD_ESC</th>\n",
              "      <th>NOMESC</th>\n",
              "      <th>TIPOESC</th>\n",
              "      <th>TIPOESC_DESC</th>\n",
              "      <th>SITUACAO</th>\n",
              "      <th>CLASSE</th>\n",
              "      <th>TIPOCLASSE</th>\n",
              "      <th>TIPOCLASSE_DESC</th>\n",
              "      <th>GRAU</th>\n",
              "      <th>TipoEnsino</th>\n",
              "      <th>SERIE</th>\n",
              "      <th>QTDE_ALUNOS</th>\n",
              "      <th>CODVINC</th>\n",
              "    </tr>\n",
              "  </thead>\n",
              "  <tbody>\n",
              "    <tr>\n",
              "      <th>0</th>\n",
              "      <td>2015</td>\n",
              "      <td>ESTADUAL - SE</td>\n",
              "      <td>ADAMANTINA</td>\n",
              "      <td>ADAMANTINA</td>\n",
              "      <td>ADAMANTINA</td>\n",
              "      <td>30806</td>\n",
              "      <td>HELEN KELLER</td>\n",
              "      <td>8</td>\n",
              "      <td>EE</td>\n",
              "      <td>Ativa</td>\n",
              "      <td>191506021</td>\n",
              "      <td>0</td>\n",
              "      <td>CLASSE COMUM</td>\n",
              "      <td>14</td>\n",
              "      <td>ENSINO FUNDAMENTAL DE 9 ANOS</td>\n",
              "      <td>6</td>\n",
              "      <td>26</td>\n",
              "      <td>NaN</td>\n",
              "    </tr>\n",
              "    <tr>\n",
              "      <th>1</th>\n",
              "      <td>2015</td>\n",
              "      <td>ESTADUAL - SE</td>\n",
              "      <td>ADAMANTINA</td>\n",
              "      <td>ADAMANTINA</td>\n",
              "      <td>ADAMANTINA</td>\n",
              "      <td>30806</td>\n",
              "      <td>HELEN KELLER</td>\n",
              "      <td>8</td>\n",
              "      <td>EE</td>\n",
              "      <td>Ativa</td>\n",
              "      <td>191506047</td>\n",
              "      <td>0</td>\n",
              "      <td>CLASSE COMUM</td>\n",
              "      <td>14</td>\n",
              "      <td>ENSINO FUNDAMENTAL DE 9 ANOS</td>\n",
              "      <td>6</td>\n",
              "      <td>32</td>\n",
              "      <td>NaN</td>\n",
              "    </tr>\n",
              "    <tr>\n",
              "      <th>2</th>\n",
              "      <td>2015</td>\n",
              "      <td>ESTADUAL - SE</td>\n",
              "      <td>ADAMANTINA</td>\n",
              "      <td>ADAMANTINA</td>\n",
              "      <td>ADAMANTINA</td>\n",
              "      <td>30806</td>\n",
              "      <td>HELEN KELLER</td>\n",
              "      <td>8</td>\n",
              "      <td>EE</td>\n",
              "      <td>Ativa</td>\n",
              "      <td>191506203</td>\n",
              "      <td>0</td>\n",
              "      <td>CLASSE COMUM</td>\n",
              "      <td>2</td>\n",
              "      <td>ENSINO MEDIO</td>\n",
              "      <td>3</td>\n",
              "      <td>38</td>\n",
              "      <td>NaN</td>\n",
              "    </tr>\n",
              "    <tr>\n",
              "      <th>3</th>\n",
              "      <td>2015</td>\n",
              "      <td>ESTADUAL - SE</td>\n",
              "      <td>ADAMANTINA</td>\n",
              "      <td>ADAMANTINA</td>\n",
              "      <td>ADAMANTINA</td>\n",
              "      <td>30806</td>\n",
              "      <td>HELEN KELLER</td>\n",
              "      <td>8</td>\n",
              "      <td>EE</td>\n",
              "      <td>Ativa</td>\n",
              "      <td>191506278</td>\n",
              "      <td>6</td>\n",
              "      <td>CLASSE DE SALA DE RECURSOS</td>\n",
              "      <td>10</td>\n",
              "      <td>EDUCACAO ESPECIAL - DV</td>\n",
              "      <td>0</td>\n",
              "      <td>3</td>\n",
              "      <td>NaN</td>\n",
              "    </tr>\n",
              "    <tr>\n",
              "      <th>4</th>\n",
              "      <td>2015</td>\n",
              "      <td>ESTADUAL - SE</td>\n",
              "      <td>ADAMANTINA</td>\n",
              "      <td>ADAMANTINA</td>\n",
              "      <td>ADAMANTINA</td>\n",
              "      <td>30806</td>\n",
              "      <td>HELEN KELLER</td>\n",
              "      <td>8</td>\n",
              "      <td>EE</td>\n",
              "      <td>Ativa</td>\n",
              "      <td>191506294</td>\n",
              "      <td>0</td>\n",
              "      <td>CLASSE COMUM</td>\n",
              "      <td>2</td>\n",
              "      <td>ENSINO MEDIO</td>\n",
              "      <td>2</td>\n",
              "      <td>21</td>\n",
              "      <td>NaN</td>\n",
              "    </tr>\n",
              "    <tr>\n",
              "      <th>5</th>\n",
              "      <td>2015</td>\n",
              "      <td>ESTADUAL - SE</td>\n",
              "      <td>ADAMANTINA</td>\n",
              "      <td>ADAMANTINA</td>\n",
              "      <td>ADAMANTINA</td>\n",
              "      <td>30806</td>\n",
              "      <td>HELEN KELLER</td>\n",
              "      <td>8</td>\n",
              "      <td>EE</td>\n",
              "      <td>Ativa</td>\n",
              "      <td>196452783</td>\n",
              "      <td>6</td>\n",
              "      <td>CLASSE DE SALA DE RECURSOS</td>\n",
              "      <td>9</td>\n",
              "      <td>EDUCACAO ESPECIAL - DM</td>\n",
              "      <td>0</td>\n",
              "      <td>5</td>\n",
              "      <td>NaN</td>\n",
              "    </tr>\n",
              "  </tbody>\n",
              "</table>\n",
              "</div>\n",
              "    <div class=\"colab-df-buttons\">\n",
              "\n",
              "  <div class=\"colab-df-container\">\n",
              "    <button class=\"colab-df-convert\" onclick=\"convertToInteractive('df-bda146be-0e6b-43bf-9182-dc3e29060c3b')\"\n",
              "            title=\"Convert this dataframe to an interactive table.\"\n",
              "            style=\"display:none;\">\n",
              "\n",
              "  <svg xmlns=\"http://www.w3.org/2000/svg\" height=\"24px\" viewBox=\"0 -960 960 960\">\n",
              "    <path d=\"M120-120v-720h720v720H120Zm60-500h600v-160H180v160Zm220 220h160v-160H400v160Zm0 220h160v-160H400v160ZM180-400h160v-160H180v160Zm440 0h160v-160H620v160ZM180-180h160v-160H180v160Zm440 0h160v-160H620v160Z\"/>\n",
              "  </svg>\n",
              "    </button>\n",
              "\n",
              "  <style>\n",
              "    .colab-df-container {\n",
              "      display:flex;\n",
              "      gap: 12px;\n",
              "    }\n",
              "\n",
              "    .colab-df-convert {\n",
              "      background-color: #E8F0FE;\n",
              "      border: none;\n",
              "      border-radius: 50%;\n",
              "      cursor: pointer;\n",
              "      display: none;\n",
              "      fill: #1967D2;\n",
              "      height: 32px;\n",
              "      padding: 0 0 0 0;\n",
              "      width: 32px;\n",
              "    }\n",
              "\n",
              "    .colab-df-convert:hover {\n",
              "      background-color: #E2EBFA;\n",
              "      box-shadow: 0px 1px 2px rgba(60, 64, 67, 0.3), 0px 1px 3px 1px rgba(60, 64, 67, 0.15);\n",
              "      fill: #174EA6;\n",
              "    }\n",
              "\n",
              "    .colab-df-buttons div {\n",
              "      margin-bottom: 4px;\n",
              "    }\n",
              "\n",
              "    [theme=dark] .colab-df-convert {\n",
              "      background-color: #3B4455;\n",
              "      fill: #D2E3FC;\n",
              "    }\n",
              "\n",
              "    [theme=dark] .colab-df-convert:hover {\n",
              "      background-color: #434B5C;\n",
              "      box-shadow: 0px 1px 3px 1px rgba(0, 0, 0, 0.15);\n",
              "      filter: drop-shadow(0px 1px 2px rgba(0, 0, 0, 0.3));\n",
              "      fill: #FFFFFF;\n",
              "    }\n",
              "  </style>\n",
              "\n",
              "    <script>\n",
              "      const buttonEl =\n",
              "        document.querySelector('#df-bda146be-0e6b-43bf-9182-dc3e29060c3b button.colab-df-convert');\n",
              "      buttonEl.style.display =\n",
              "        google.colab.kernel.accessAllowed ? 'block' : 'none';\n",
              "\n",
              "      async function convertToInteractive(key) {\n",
              "        const element = document.querySelector('#df-bda146be-0e6b-43bf-9182-dc3e29060c3b');\n",
              "        const dataTable =\n",
              "          await google.colab.kernel.invokeFunction('convertToInteractive',\n",
              "                                                    [key], {});\n",
              "        if (!dataTable) return;\n",
              "\n",
              "        const docLinkHtml = 'Like what you see? Visit the ' +\n",
              "          '<a target=\"_blank\" href=https://colab.research.google.com/notebooks/data_table.ipynb>data table notebook</a>'\n",
              "          + ' to learn more about interactive tables.';\n",
              "        element.innerHTML = '';\n",
              "        dataTable['output_type'] = 'display_data';\n",
              "        await google.colab.output.renderOutput(dataTable, element);\n",
              "        const docLink = document.createElement('div');\n",
              "        docLink.innerHTML = docLinkHtml;\n",
              "        element.appendChild(docLink);\n",
              "      }\n",
              "    </script>\n",
              "  </div>\n",
              "\n",
              "\n",
              "<div id=\"df-6ea468de-b8fc-4570-9ec5-41936523a313\">\n",
              "  <button class=\"colab-df-quickchart\" onclick=\"quickchart('df-6ea468de-b8fc-4570-9ec5-41936523a313')\"\n",
              "            title=\"Suggest charts\"\n",
              "            style=\"display:none;\">\n",
              "\n",
              "<svg xmlns=\"http://www.w3.org/2000/svg\" height=\"24px\"viewBox=\"0 0 24 24\"\n",
              "     width=\"24px\">\n",
              "    <g>\n",
              "        <path d=\"M19 3H5c-1.1 0-2 .9-2 2v14c0 1.1.9 2 2 2h14c1.1 0 2-.9 2-2V5c0-1.1-.9-2-2-2zM9 17H7v-7h2v7zm4 0h-2V7h2v10zm4 0h-2v-4h2v4z\"/>\n",
              "    </g>\n",
              "</svg>\n",
              "  </button>\n",
              "\n",
              "<style>\n",
              "  .colab-df-quickchart {\n",
              "      --bg-color: #E8F0FE;\n",
              "      --fill-color: #1967D2;\n",
              "      --hover-bg-color: #E2EBFA;\n",
              "      --hover-fill-color: #174EA6;\n",
              "      --disabled-fill-color: #AAA;\n",
              "      --disabled-bg-color: #DDD;\n",
              "  }\n",
              "\n",
              "  [theme=dark] .colab-df-quickchart {\n",
              "      --bg-color: #3B4455;\n",
              "      --fill-color: #D2E3FC;\n",
              "      --hover-bg-color: #434B5C;\n",
              "      --hover-fill-color: #FFFFFF;\n",
              "      --disabled-bg-color: #3B4455;\n",
              "      --disabled-fill-color: #666;\n",
              "  }\n",
              "\n",
              "  .colab-df-quickchart {\n",
              "    background-color: var(--bg-color);\n",
              "    border: none;\n",
              "    border-radius: 50%;\n",
              "    cursor: pointer;\n",
              "    display: none;\n",
              "    fill: var(--fill-color);\n",
              "    height: 32px;\n",
              "    padding: 0;\n",
              "    width: 32px;\n",
              "  }\n",
              "\n",
              "  .colab-df-quickchart:hover {\n",
              "    background-color: var(--hover-bg-color);\n",
              "    box-shadow: 0 1px 2px rgba(60, 64, 67, 0.3), 0 1px 3px 1px rgba(60, 64, 67, 0.15);\n",
              "    fill: var(--button-hover-fill-color);\n",
              "  }\n",
              "\n",
              "  .colab-df-quickchart-complete:disabled,\n",
              "  .colab-df-quickchart-complete:disabled:hover {\n",
              "    background-color: var(--disabled-bg-color);\n",
              "    fill: var(--disabled-fill-color);\n",
              "    box-shadow: none;\n",
              "  }\n",
              "\n",
              "  .colab-df-spinner {\n",
              "    border: 2px solid var(--fill-color);\n",
              "    border-color: transparent;\n",
              "    border-bottom-color: var(--fill-color);\n",
              "    animation:\n",
              "      spin 1s steps(1) infinite;\n",
              "  }\n",
              "\n",
              "  @keyframes spin {\n",
              "    0% {\n",
              "      border-color: transparent;\n",
              "      border-bottom-color: var(--fill-color);\n",
              "      border-left-color: var(--fill-color);\n",
              "    }\n",
              "    20% {\n",
              "      border-color: transparent;\n",
              "      border-left-color: var(--fill-color);\n",
              "      border-top-color: var(--fill-color);\n",
              "    }\n",
              "    30% {\n",
              "      border-color: transparent;\n",
              "      border-left-color: var(--fill-color);\n",
              "      border-top-color: var(--fill-color);\n",
              "      border-right-color: var(--fill-color);\n",
              "    }\n",
              "    40% {\n",
              "      border-color: transparent;\n",
              "      border-right-color: var(--fill-color);\n",
              "      border-top-color: var(--fill-color);\n",
              "    }\n",
              "    60% {\n",
              "      border-color: transparent;\n",
              "      border-right-color: var(--fill-color);\n",
              "    }\n",
              "    80% {\n",
              "      border-color: transparent;\n",
              "      border-right-color: var(--fill-color);\n",
              "      border-bottom-color: var(--fill-color);\n",
              "    }\n",
              "    90% {\n",
              "      border-color: transparent;\n",
              "      border-bottom-color: var(--fill-color);\n",
              "    }\n",
              "  }\n",
              "</style>\n",
              "\n",
              "  <script>\n",
              "    async function quickchart(key) {\n",
              "      const quickchartButtonEl =\n",
              "        document.querySelector('#' + key + ' button');\n",
              "      quickchartButtonEl.disabled = true;  // To prevent multiple clicks.\n",
              "      quickchartButtonEl.classList.add('colab-df-spinner');\n",
              "      try {\n",
              "        const charts = await google.colab.kernel.invokeFunction(\n",
              "            'suggestCharts', [key], {});\n",
              "      } catch (error) {\n",
              "        console.error('Error during call to suggestCharts:', error);\n",
              "      }\n",
              "      quickchartButtonEl.classList.remove('colab-df-spinner');\n",
              "      quickchartButtonEl.classList.add('colab-df-quickchart-complete');\n",
              "    }\n",
              "    (() => {\n",
              "      let quickchartButtonEl =\n",
              "        document.querySelector('#df-6ea468de-b8fc-4570-9ec5-41936523a313 button');\n",
              "      quickchartButtonEl.style.display =\n",
              "        google.colab.kernel.accessAllowed ? 'block' : 'none';\n",
              "    })();\n",
              "  </script>\n",
              "</div>\n",
              "    </div>\n",
              "  </div>\n"
            ],
            "text/plain": [
              "    ANO        NOMEDEP          DE         MUN       DISTR  COD_ESC  \\\n",
              "0  2015  ESTADUAL - SE  ADAMANTINA  ADAMANTINA  ADAMANTINA    30806   \n",
              "1  2015  ESTADUAL - SE  ADAMANTINA  ADAMANTINA  ADAMANTINA    30806   \n",
              "2  2015  ESTADUAL - SE  ADAMANTINA  ADAMANTINA  ADAMANTINA    30806   \n",
              "3  2015  ESTADUAL - SE  ADAMANTINA  ADAMANTINA  ADAMANTINA    30806   \n",
              "4  2015  ESTADUAL - SE  ADAMANTINA  ADAMANTINA  ADAMANTINA    30806   \n",
              "5  2015  ESTADUAL - SE  ADAMANTINA  ADAMANTINA  ADAMANTINA    30806   \n",
              "\n",
              "         NOMESC  TIPOESC TIPOESC_DESC SITUACAO     CLASSE  TIPOCLASSE  \\\n",
              "0  HELEN KELLER        8           EE    Ativa  191506021           0   \n",
              "1  HELEN KELLER        8           EE    Ativa  191506047           0   \n",
              "2  HELEN KELLER        8           EE    Ativa  191506203           0   \n",
              "3  HELEN KELLER        8           EE    Ativa  191506278           6   \n",
              "4  HELEN KELLER        8           EE    Ativa  191506294           0   \n",
              "5  HELEN KELLER        8           EE    Ativa  196452783           6   \n",
              "\n",
              "              TIPOCLASSE_DESC  GRAU                    TipoEnsino  SERIE  \\\n",
              "0                CLASSE COMUM    14  ENSINO FUNDAMENTAL DE 9 ANOS      6   \n",
              "1                CLASSE COMUM    14  ENSINO FUNDAMENTAL DE 9 ANOS      6   \n",
              "2                CLASSE COMUM     2                  ENSINO MEDIO      3   \n",
              "3  CLASSE DE SALA DE RECURSOS    10        EDUCACAO ESPECIAL - DV      0   \n",
              "4                CLASSE COMUM     2                  ENSINO MEDIO      2   \n",
              "5  CLASSE DE SALA DE RECURSOS     9        EDUCACAO ESPECIAL - DM      0   \n",
              "\n",
              "   QTDE_ALUNOS  CODVINC  \n",
              "0           26      NaN  \n",
              "1           32      NaN  \n",
              "2           38      NaN  \n",
              "3            3      NaN  \n",
              "4           21      NaN  \n",
              "5            5      NaN  "
            ]
          },
          "execution_count": 65,
          "metadata": {},
          "output_type": "execute_result"
        }
      ],
      "source": [
        "total_alunos_matriculados.head(6)"
      ]
    },
    {
      "cell_type": "code",
      "execution_count": null,
      "metadata": {
        "colab": {
          "base_uri": "https://localhost:8080/"
        },
        "id": "NXKZjtgmUZiy",
        "outputId": "951ee3ff-5865-4c97-90c7-ceefd98e16c3"
      },
      "outputs": [
        {
          "data": {
            "text/plain": [
              "Index(['ANO', 'NOMEDEP', 'DE', 'MUN', 'DISTR', 'COD_ESC', 'NOMESC', 'TIPOESC',\n",
              "       'TIPOESC_DESC', 'SITUACAO', 'CLASSE', 'TIPOCLASSE', 'TIPOCLASSE_DESC',\n",
              "       'GRAU', 'TipoEnsino', 'SERIE', 'QTDE_ALUNOS', 'CODVINC'],\n",
              "      dtype='object')"
            ]
          },
          "execution_count": 66,
          "metadata": {},
          "output_type": "execute_result"
        }
      ],
      "source": [
        "total_alunos_matriculados.columns"
      ]
    },
    {
      "cell_type": "markdown",
      "metadata": {
        "id": "wAVZO6iRUMo6"
      },
      "source": [
        "A coluna ```ANO``` contém o ano da matrícula, a coluna ```TipoEnsino``` contém o tipo da turma, a coluna ```QTDE_ALUNOS``` contém a quantidade de alunos por turma, a coluna ```COD_ESC``` contém o código da escola e a coluna ```NOMESC``` contém o nome da escola`"
      ]
    },
    {
      "cell_type": "markdown",
      "metadata": {
        "id": "I4Z0djEsUu-K"
      },
      "source": [
        "\n",
        "Crie uma base de dados chamada ```turmas_ensino_medio_2017```. Ela deve conter todas as entradas de ```total_alunos_matriculados``` nas quais o ano vale 2017 e o tipo de ensino é ```ENSINO MEDIO```.\n",
        "Quantas turmas há nessa tabela?\n",
        "\n",
        "Sugestão. O operador ```and``` não pode ser usado aqui, pois ele vait entar converter séries para valores booleanos.\n",
        "Você pode usar no entanto o operador bit-a-bit ```&```.\n",
        "Alternativamente, filtre duas vezes."
      ]
    },
    {
      "cell_type": "code",
      "execution_count": null,
      "metadata": {
        "id": "y-j5zXYMUuNu"
      },
      "outputs": [],
      "source": [
        "# Complete com seu código"
      ]
    },
    {
      "cell_type": "markdown",
      "metadata": {
        "id": "l3EQ-zzvWEp3"
      },
      "source": [
        "## *Questão 5*\n",
        "\n",
        "Crie uma série de dados ```turmas_ensino_medio_escola_2017``` obtida a partir de um agrupamento de ```turmas_ensino_medio_2017``` com o total de turmas *por escola*.\n",
        "\n",
        "Crie uma série de dados ```alunos_ensino_medio_escola_2017``` obtida a partir de um agrupamento de ```turmas_ensino_medio_2017``` com o total de *alunos* por escola.\n",
        "\n",
        "Dê *nomes* às séries. A primeira deve chamar-se ```TURMAS```,  a segunda ```QTDE_ALUNOS```."
      ]
    },
    {
      "cell_type": "code",
      "execution_count": null,
      "metadata": {
        "id": "cRCWaAbAX0yd"
      },
      "outputs": [],
      "source": [
        "# Complete com seu código"
      ]
    },
    {
      "cell_type": "markdown",
      "metadata": {
        "id": "RWNliEAJMWUq"
      },
      "source": [
        "# 4 - Relacionando dados\n",
        "\n",
        "\n",
        "\n",
        "## Conceito: Mesclando bases de dados\n",
        "\n",
        "É possível vincular duas bases de dados que compartilhem de um mesmo campo (ou índice) através da função *pd.merge*.\n",
        "\n",
        "Exemplo:"
      ]
    },
    {
      "cell_type": "markdown",
      "metadata": {
        "id": "gnluO7aDWRmN"
      },
      "source": [
        "b)  Crie uma base de dados chamada ```turmas_ensino_medio_2017```. Ela deve conter todas as entradas de ```total_alunos_matriculados``` nas quais o ano vale 2017.\n",
        "Quantas turmas há nessa tabela?"
      ]
    },
    {
      "cell_type": "code",
      "execution_count": null,
      "metadata": {
        "id": "6eRcl8WqM8oW"
      },
      "outputs": [],
      "source": [
        "dataframe_exemplo_3 = pd.DataFrame({\"Produto\": [\"bola\", \"bicicleta\", \"patinete\", \"pião\", \"bambolê\"], \"COD_Cor\": [1, 2, 3, 1, 2], \"Quantidade\": [10, 15, 10, 20,30]})\n",
        "dataframe_exemplo_4 = pd.DataFrame({\"COD_Cor\": [1, 2, 3], \"Nome_Cor\": [\"branco\", \"vermelho\", \"azul\"]})\n",
        "display(HTML(\"<tt>dataframe_exemplo_3</tt>:\"))\n",
        "display(HTML(dataframe_exemplo_3.to_html()))\n",
        "display(HTML(\"<tt>dataframe_exemplo_4</tt>:\"))\n",
        "display(HTML(dataframe_exemplo_4.to_html()))\n",
        "print(\"Resultados de pd.merge(dataframe_exemplo_3, dataframe_exemplo_4):\")\n",
        "display(HTML(pd.merge(dataframe_exemplo_3, dataframe_exemplo_4).to_html()))"
      ]
    },
    {
      "cell_type": "markdown",
      "metadata": {
        "id": "HHYuRdHZOOJ5"
      },
      "source": [
        "Este exemplo é trivial por que existe apenas *uma* coluna com nome comum entre as duas bases de dados.\n",
        "\n",
        "Caso exista mais de uma coluna com o nome em comum, ou as colunas de interesse tenham nomes distintos nas duas bases de dados, é necessário passar parâmetros opcionais:\n",
        "\n",
        "- ```on```: Nome da coluna, presente em *ambas* as bases, que deve ser usada para fazer o casamento dos dados.\n",
        "\n",
        "- ```left_on```: Nome da coluna na primeira base de dados que é usada para fazer o casamento dos dados.\n",
        "\n",
        "- ```right_on```: Nome da coluna na segunda base de dados que é usada para fazer o casamento dos dados.\n",
        "\n",
        "- ```left_index```: ```True``` se o *índice* da primeira base (ou série) é o que deve ser usado para fazer o casamento. ```False``` caso contrário.\n",
        "\n",
        "- ```right_index```: ```True``` se o *índice* da segunda base (ou série) é o que deve ser usado para fazer o casamento. ```False``` caso contrário.\n",
        "\n",
        "Eis uma versão do exemplo acima com o casamento entre uma coluna e um índice:\n"
      ]
    },
    {
      "cell_type": "code",
      "execution_count": null,
      "metadata": {
        "colab": {
          "base_uri": "https://localhost:8080/",
          "height": 293
        },
        "id": "CJr8cg5rPP-f",
        "outputId": "160c7ea5-35cc-4b5a-b58b-e29c2293b736"
      },
      "outputs": [
        {
          "name": "stdout",
          "output_type": "stream",
          "text": [
            "1      branco\n",
            "2    vermelho\n",
            "3        azul\n",
            "Name: Nome_Cor, dtype: object\n",
            "Resultados de pd.merge(dataframe_exemplo_3, serie_exemplo_5, left_on='COD_Cor', right_index=True):\n"
          ]
        },
        {
          "data": {
            "text/html": [
              "<table border=\"1\" class=\"dataframe\">\n",
              "  <thead>\n",
              "    <tr style=\"text-align: right;\">\n",
              "      <th></th>\n",
              "      <th>Produto</th>\n",
              "      <th>COD_Cor</th>\n",
              "      <th>Quantidade</th>\n",
              "      <th>Nome_Cor</th>\n",
              "    </tr>\n",
              "  </thead>\n",
              "  <tbody>\n",
              "    <tr>\n",
              "      <th>0</th>\n",
              "      <td>bola</td>\n",
              "      <td>1</td>\n",
              "      <td>10</td>\n",
              "      <td>branco</td>\n",
              "    </tr>\n",
              "    <tr>\n",
              "      <th>3</th>\n",
              "      <td>pião</td>\n",
              "      <td>1</td>\n",
              "      <td>20</td>\n",
              "      <td>branco</td>\n",
              "    </tr>\n",
              "    <tr>\n",
              "      <th>1</th>\n",
              "      <td>bicicleta</td>\n",
              "      <td>2</td>\n",
              "      <td>15</td>\n",
              "      <td>vermelho</td>\n",
              "    </tr>\n",
              "    <tr>\n",
              "      <th>4</th>\n",
              "      <td>bambolê</td>\n",
              "      <td>2</td>\n",
              "      <td>30</td>\n",
              "      <td>vermelho</td>\n",
              "    </tr>\n",
              "    <tr>\n",
              "      <th>2</th>\n",
              "      <td>patinete</td>\n",
              "      <td>3</td>\n",
              "      <td>10</td>\n",
              "      <td>azul</td>\n",
              "    </tr>\n",
              "  </tbody>\n",
              "</table>"
            ],
            "text/plain": [
              "<IPython.core.display.HTML object>"
            ]
          },
          "metadata": {
            "tags": []
          },
          "output_type": "display_data"
        }
      ],
      "source": [
        "serie_exemplo_5 = pd.Series([\"branco\", \"vermelho\", \"azul\"], index=[1,2,3], name = \"Nome_Cor\")\n",
        "print(serie_exemplo_5)\n",
        "print(\"Resultados de pd.merge(dataframe_exemplo_3, serie_exemplo_5, left_on='COD_Cor', right_index=True):\")\n",
        "display(HTML(pd.merge(dataframe_exemplo_3, serie_exemplo_5, left_on='COD_Cor', right_index=True).to_html()))"
      ]
    },
    {
      "cell_type": "markdown",
      "metadata": {
        "id": "i3ZRHS05Ybla"
      },
      "source": [
        "### *Questão 6*\n",
        "\n",
        "Combine as séries ```turmas_ensino_medio_escola_2017``` e ```alunos_ensino_medio_escola_2017``` em um novo dataframe.\n",
        "\n",
        "Note que os índices em ambas as séries é o mesmo.\n",
        "Use ```left_index=True``` e ```right_index=True``` para usar o índice de ambas as séries em uma operação de merge.\n",
        "\n"
      ]
    },
    {
      "cell_type": "code",
      "execution_count": null,
      "metadata": {
        "id": "NE5rbIkHYb1i"
      },
      "outputs": [],
      "source": [
        "# Complete com seu código"
      ]
    },
    {
      "cell_type": "markdown",
      "metadata": {
        "id": "Meioi0CvZ38n"
      },
      "source": [
        "### *Questão 7*\n",
        "\n",
        "A tabela ```aprovacao_2017```  contém dados do fluxo escolar da Secretaria Estadual de Educação por escola em 2017."
      ]
    },
    {
      "cell_type": "code",
      "execution_count": null,
      "metadata": {
        "id": "NrgD3TujaJxT"
      },
      "outputs": [],
      "source": [
        "aprovacao_2017=pd.read_csv(io.TextIOWrapper(request.urlopen(\"https://dados.educacao.sp.gov.br/node/47/download\", context=ignorar_ssl)\n",
        ", \"utf-8-sig\"))"
      ]
    },
    {
      "cell_type": "markdown",
      "metadata": {
        "id": "X6vN0MHbaT9-"
      },
      "source": [
        "Eis as suas 6 primeiras entradas:"
      ]
    },
    {
      "cell_type": "code",
      "execution_count": null,
      "metadata": {
        "colab": {
          "base_uri": "https://localhost:8080/",
          "height": 237
        },
        "id": "6ke8m1bjaWFZ",
        "outputId": "e0585a2e-bff3-4bf2-83c7-89bbdbebeff5"
      },
      "outputs": [
        {
          "data": {
            "application/vnd.google.colaboratory.intrinsic+json": {
              "summary": "{\n  \"name\": \"aprovacao_2017\",\n  \"rows\": 5265,\n  \"fields\": [\n    {\n      \"column\": \"Ano\",\n      \"properties\": {\n        \"dtype\": \"number\",\n        \"std\": 0,\n        \"min\": 2017,\n        \"max\": 2017,\n        \"num_unique_values\": 1,\n        \"samples\": [\n          2017\n        ],\n        \"semantic_type\": \"\",\n        \"description\": \"\"\n      }\n    },\n    {\n      \"column\": \"NM_DIRETORIA\",\n      \"properties\": {\n        \"dtype\": \"category\",\n        \"num_unique_values\": 91,\n        \"samples\": [\n          \"TAUBATE\"\n        ],\n        \"semantic_type\": \"\",\n        \"description\": \"\"\n      }\n    },\n    {\n      \"column\": \"NM_MUNICIPIO\",\n      \"properties\": {\n        \"dtype\": \"category\",\n        \"num_unique_values\": 644,\n        \"samples\": [\n          \"VITORIA BRASIL\"\n        ],\n        \"semantic_type\": \"\",\n        \"description\": \"\"\n      }\n    },\n    {\n      \"column\": \"CD_REDE_ENSINO\",\n      \"properties\": {\n        \"dtype\": \"number\",\n        \"std\": 0,\n        \"min\": 1,\n        \"max\": 1,\n        \"num_unique_values\": 1,\n        \"samples\": [\n          1\n        ],\n        \"semantic_type\": \"\",\n        \"description\": \"\"\n      }\n    },\n    {\n      \"column\": \"CD_ESCOLA\",\n      \"properties\": {\n        \"dtype\": \"number\",\n        \"std\": 387905,\n        \"min\": 12,\n        \"max\": 926103,\n        \"num_unique_values\": 5265,\n        \"samples\": [\n          46197\n        ],\n        \"semantic_type\": \"\",\n        \"description\": \"\"\n      }\n    },\n    {\n      \"column\": \"NM_COMPLETO_ESCOLA\",\n      \"properties\": {\n        \"dtype\": \"string\",\n        \"num_unique_values\": 5224,\n        \"samples\": [\n          \"SANTA RITA DE CASSIA\"\n        ],\n        \"semantic_type\": \"\",\n        \"description\": \"\"\n      }\n    },\n    {\n      \"column\": \"CD_TP_IDENTIFICADOR\",\n      \"properties\": {\n        \"dtype\": \"number\",\n        \"std\": 4,\n        \"min\": 8,\n        \"max\": 36,\n        \"num_unique_values\": 5,\n        \"samples\": [\n          34\n        ],\n        \"semantic_type\": \"\",\n        \"description\": \"\"\n      }\n    },\n    {\n      \"column\": \"APR_1\",\n      \"properties\": {\n        \"dtype\": \"number\",\n        \"std\": 45.62241266525848,\n        \"min\": 0.0,\n        \"max\": 100.0,\n        \"num_unique_values\": 459,\n        \"samples\": [\n          97.65\n        ],\n        \"semantic_type\": \"\",\n        \"description\": \"\"\n      }\n    },\n    {\n      \"column\": \"REP_1\",\n      \"properties\": {\n        \"dtype\": \"number\",\n        \"std\": 3.4728958004931267,\n        \"min\": 0.0,\n        \"max\": 100.0,\n        \"num_unique_values\": 430,\n        \"samples\": [\n          3.63\n        ],\n        \"semantic_type\": \"\",\n        \"description\": \"\"\n      }\n    },\n    {\n      \"column\": \"ABA_1\",\n      \"properties\": {\n        \"dtype\": \"number\",\n        \"std\": 0.397512151138295,\n        \"min\": -0.01,\n        \"max\": 13.33,\n        \"num_unique_values\": 166,\n        \"samples\": [\n          0.39\n        ],\n        \"semantic_type\": \"\",\n        \"description\": \"\"\n      }\n    },\n    {\n      \"column\": \"APR_2\",\n      \"properties\": {\n        \"dtype\": \"number\",\n        \"std\": 41.523392887574396,\n        \"min\": 0.0,\n        \"max\": 100.0,\n        \"num_unique_values\": 1433,\n        \"samples\": [\n          98.8\n        ],\n        \"semantic_type\": \"\",\n        \"description\": \"\"\n      }\n    },\n    {\n      \"column\": \"REP_2\",\n      \"properties\": {\n        \"dtype\": \"number\",\n        \"std\": 5.520767219455099,\n        \"min\": 0.0,\n        \"max\": 100.0,\n        \"num_unique_values\": 1275,\n        \"samples\": [\n          5.94\n        ],\n        \"semantic_type\": \"\",\n        \"description\": \"\"\n      }\n    },\n    {\n      \"column\": \"ABA_2\",\n      \"properties\": {\n        \"dtype\": \"number\",\n        \"std\": 1.7779665668068185,\n        \"min\": -0.01,\n        \"max\": 35.72,\n        \"num_unique_values\": 595,\n        \"samples\": [\n          2.55\n        ],\n        \"semantic_type\": \"\",\n        \"description\": \"\"\n      }\n    },\n    {\n      \"column\": \"APR_3\",\n      \"properties\": {\n        \"dtype\": \"number\",\n        \"std\": 40.02251820170011,\n        \"min\": 0.0,\n        \"max\": 100.0,\n        \"num_unique_values\": 1960,\n        \"samples\": [\n          95.21\n        ],\n        \"semantic_type\": \"\",\n        \"description\": \"\"\n      }\n    },\n    {\n      \"column\": \"REP_3\",\n      \"properties\": {\n        \"dtype\": \"number\",\n        \"std\": 7.471907521443345,\n        \"min\": 0.0,\n        \"max\": 83.33,\n        \"num_unique_values\": 1746,\n        \"samples\": [\n          4.76\n        ],\n        \"semantic_type\": \"\",\n        \"description\": \"\"\n      }\n    },\n    {\n      \"column\": \"ABA_3\",\n      \"properties\": {\n        \"dtype\": \"number\",\n        \"std\": 3.4731644233228933,\n        \"min\": -0.01,\n        \"max\": 45.0,\n        \"num_unique_values\": 1011,\n        \"samples\": [\n          6.34\n        ],\n        \"semantic_type\": \"\",\n        \"description\": \"\"\n      }\n    }\n  ]\n}",
              "type": "dataframe",
              "variable_name": "aprovacao_2017"
            },
            "text/html": [
              "\n",
              "  <div id=\"df-39436996-13fa-4064-9dfd-31f4c4629ec5\" class=\"colab-df-container\">\n",
              "    <div>\n",
              "<style scoped>\n",
              "    .dataframe tbody tr th:only-of-type {\n",
              "        vertical-align: middle;\n",
              "    }\n",
              "\n",
              "    .dataframe tbody tr th {\n",
              "        vertical-align: top;\n",
              "    }\n",
              "\n",
              "    .dataframe thead th {\n",
              "        text-align: right;\n",
              "    }\n",
              "</style>\n",
              "<table border=\"1\" class=\"dataframe\">\n",
              "  <thead>\n",
              "    <tr style=\"text-align: right;\">\n",
              "      <th></th>\n",
              "      <th>Ano</th>\n",
              "      <th>NM_DIRETORIA</th>\n",
              "      <th>NM_MUNICIPIO</th>\n",
              "      <th>CD_REDE_ENSINO</th>\n",
              "      <th>CD_ESCOLA</th>\n",
              "      <th>NM_COMPLETO_ESCOLA</th>\n",
              "      <th>CD_TP_IDENTIFICADOR</th>\n",
              "      <th>APR_1</th>\n",
              "      <th>REP_1</th>\n",
              "      <th>ABA_1</th>\n",
              "      <th>APR_2</th>\n",
              "      <th>REP_2</th>\n",
              "      <th>ABA_2</th>\n",
              "      <th>APR_3</th>\n",
              "      <th>REP_3</th>\n",
              "      <th>ABA_3</th>\n",
              "    </tr>\n",
              "  </thead>\n",
              "  <tbody>\n",
              "    <tr>\n",
              "      <th>0</th>\n",
              "      <td>2017</td>\n",
              "      <td>LIMEIRA</td>\n",
              "      <td>RIO CLARO</td>\n",
              "      <td>1</td>\n",
              "      <td>21573</td>\n",
              "      <td>JOAQUIM SALLES CORONEL</td>\n",
              "      <td>8</td>\n",
              "      <td>0.00</td>\n",
              "      <td>0.00</td>\n",
              "      <td>0.0</td>\n",
              "      <td>97.70</td>\n",
              "      <td>1.84</td>\n",
              "      <td>0.46</td>\n",
              "      <td>0.00</td>\n",
              "      <td>0.00</td>\n",
              "      <td>0.0</td>\n",
              "    </tr>\n",
              "    <tr>\n",
              "      <th>1</th>\n",
              "      <td>2017</td>\n",
              "      <td>LIMEIRA</td>\n",
              "      <td>RIO CLARO</td>\n",
              "      <td>1</td>\n",
              "      <td>21623</td>\n",
              "      <td>JOSE FERNANDES PROFESSOR</td>\n",
              "      <td>8</td>\n",
              "      <td>97.75</td>\n",
              "      <td>2.25</td>\n",
              "      <td>0.0</td>\n",
              "      <td>100.00</td>\n",
              "      <td>0.00</td>\n",
              "      <td>0.00</td>\n",
              "      <td>99.42</td>\n",
              "      <td>0.58</td>\n",
              "      <td>0.0</td>\n",
              "    </tr>\n",
              "    <tr>\n",
              "      <th>2</th>\n",
              "      <td>2017</td>\n",
              "      <td>LIMEIRA</td>\n",
              "      <td>RIO CLARO</td>\n",
              "      <td>1</td>\n",
              "      <td>21726</td>\n",
              "      <td>MICHEL ANTONIO ALEM PROFESSOR</td>\n",
              "      <td>8</td>\n",
              "      <td>0.00</td>\n",
              "      <td>0.00</td>\n",
              "      <td>0.0</td>\n",
              "      <td>99.37</td>\n",
              "      <td>0.63</td>\n",
              "      <td>0.00</td>\n",
              "      <td>99.71</td>\n",
              "      <td>0.29</td>\n",
              "      <td>0.0</td>\n",
              "    </tr>\n",
              "    <tr>\n",
              "      <th>3</th>\n",
              "      <td>2017</td>\n",
              "      <td>LIMEIRA</td>\n",
              "      <td>RIO CLARO</td>\n",
              "      <td>1</td>\n",
              "      <td>21748</td>\n",
              "      <td>RAUL FERNANDES CHANCELER</td>\n",
              "      <td>8</td>\n",
              "      <td>0.00</td>\n",
              "      <td>0.00</td>\n",
              "      <td>0.0</td>\n",
              "      <td>0.00</td>\n",
              "      <td>0.00</td>\n",
              "      <td>0.00</td>\n",
              "      <td>100.00</td>\n",
              "      <td>0.00</td>\n",
              "      <td>0.0</td>\n",
              "    </tr>\n",
              "    <tr>\n",
              "      <th>4</th>\n",
              "      <td>2017</td>\n",
              "      <td>LIMEIRA</td>\n",
              "      <td>RIO CLARO</td>\n",
              "      <td>1</td>\n",
              "      <td>21787</td>\n",
              "      <td>BARAO DE PIRACICABA</td>\n",
              "      <td>8</td>\n",
              "      <td>0.00</td>\n",
              "      <td>0.00</td>\n",
              "      <td>0.0</td>\n",
              "      <td>99.68</td>\n",
              "      <td>0.16</td>\n",
              "      <td>0.16</td>\n",
              "      <td>0.00</td>\n",
              "      <td>0.00</td>\n",
              "      <td>0.0</td>\n",
              "    </tr>\n",
              "    <tr>\n",
              "      <th>5</th>\n",
              "      <td>2017</td>\n",
              "      <td>LIMEIRA</td>\n",
              "      <td>RIO CLARO</td>\n",
              "      <td>1</td>\n",
              "      <td>41661</td>\n",
              "      <td>NELSON STROILI PROFESSOR</td>\n",
              "      <td>8</td>\n",
              "      <td>0.00</td>\n",
              "      <td>0.00</td>\n",
              "      <td>0.0</td>\n",
              "      <td>97.58</td>\n",
              "      <td>2.42</td>\n",
              "      <td>0.00</td>\n",
              "      <td>98.76</td>\n",
              "      <td>1.24</td>\n",
              "      <td>0.0</td>\n",
              "    </tr>\n",
              "  </tbody>\n",
              "</table>\n",
              "</div>\n",
              "    <div class=\"colab-df-buttons\">\n",
              "\n",
              "  <div class=\"colab-df-container\">\n",
              "    <button class=\"colab-df-convert\" onclick=\"convertToInteractive('df-39436996-13fa-4064-9dfd-31f4c4629ec5')\"\n",
              "            title=\"Convert this dataframe to an interactive table.\"\n",
              "            style=\"display:none;\">\n",
              "\n",
              "  <svg xmlns=\"http://www.w3.org/2000/svg\" height=\"24px\" viewBox=\"0 -960 960 960\">\n",
              "    <path d=\"M120-120v-720h720v720H120Zm60-500h600v-160H180v160Zm220 220h160v-160H400v160Zm0 220h160v-160H400v160ZM180-400h160v-160H180v160Zm440 0h160v-160H620v160ZM180-180h160v-160H180v160Zm440 0h160v-160H620v160Z\"/>\n",
              "  </svg>\n",
              "    </button>\n",
              "\n",
              "  <style>\n",
              "    .colab-df-container {\n",
              "      display:flex;\n",
              "      gap: 12px;\n",
              "    }\n",
              "\n",
              "    .colab-df-convert {\n",
              "      background-color: #E8F0FE;\n",
              "      border: none;\n",
              "      border-radius: 50%;\n",
              "      cursor: pointer;\n",
              "      display: none;\n",
              "      fill: #1967D2;\n",
              "      height: 32px;\n",
              "      padding: 0 0 0 0;\n",
              "      width: 32px;\n",
              "    }\n",
              "\n",
              "    .colab-df-convert:hover {\n",
              "      background-color: #E2EBFA;\n",
              "      box-shadow: 0px 1px 2px rgba(60, 64, 67, 0.3), 0px 1px 3px 1px rgba(60, 64, 67, 0.15);\n",
              "      fill: #174EA6;\n",
              "    }\n",
              "\n",
              "    .colab-df-buttons div {\n",
              "      margin-bottom: 4px;\n",
              "    }\n",
              "\n",
              "    [theme=dark] .colab-df-convert {\n",
              "      background-color: #3B4455;\n",
              "      fill: #D2E3FC;\n",
              "    }\n",
              "\n",
              "    [theme=dark] .colab-df-convert:hover {\n",
              "      background-color: #434B5C;\n",
              "      box-shadow: 0px 1px 3px 1px rgba(0, 0, 0, 0.15);\n",
              "      filter: drop-shadow(0px 1px 2px rgba(0, 0, 0, 0.3));\n",
              "      fill: #FFFFFF;\n",
              "    }\n",
              "  </style>\n",
              "\n",
              "    <script>\n",
              "      const buttonEl =\n",
              "        document.querySelector('#df-39436996-13fa-4064-9dfd-31f4c4629ec5 button.colab-df-convert');\n",
              "      buttonEl.style.display =\n",
              "        google.colab.kernel.accessAllowed ? 'block' : 'none';\n",
              "\n",
              "      async function convertToInteractive(key) {\n",
              "        const element = document.querySelector('#df-39436996-13fa-4064-9dfd-31f4c4629ec5');\n",
              "        const dataTable =\n",
              "          await google.colab.kernel.invokeFunction('convertToInteractive',\n",
              "                                                    [key], {});\n",
              "        if (!dataTable) return;\n",
              "\n",
              "        const docLinkHtml = 'Like what you see? Visit the ' +\n",
              "          '<a target=\"_blank\" href=https://colab.research.google.com/notebooks/data_table.ipynb>data table notebook</a>'\n",
              "          + ' to learn more about interactive tables.';\n",
              "        element.innerHTML = '';\n",
              "        dataTable['output_type'] = 'display_data';\n",
              "        await google.colab.output.renderOutput(dataTable, element);\n",
              "        const docLink = document.createElement('div');\n",
              "        docLink.innerHTML = docLinkHtml;\n",
              "        element.appendChild(docLink);\n",
              "      }\n",
              "    </script>\n",
              "  </div>\n",
              "\n",
              "\n",
              "<div id=\"df-03df4604-3860-4ff1-bc14-7be85f89ea4b\">\n",
              "  <button class=\"colab-df-quickchart\" onclick=\"quickchart('df-03df4604-3860-4ff1-bc14-7be85f89ea4b')\"\n",
              "            title=\"Suggest charts\"\n",
              "            style=\"display:none;\">\n",
              "\n",
              "<svg xmlns=\"http://www.w3.org/2000/svg\" height=\"24px\"viewBox=\"0 0 24 24\"\n",
              "     width=\"24px\">\n",
              "    <g>\n",
              "        <path d=\"M19 3H5c-1.1 0-2 .9-2 2v14c0 1.1.9 2 2 2h14c1.1 0 2-.9 2-2V5c0-1.1-.9-2-2-2zM9 17H7v-7h2v7zm4 0h-2V7h2v10zm4 0h-2v-4h2v4z\"/>\n",
              "    </g>\n",
              "</svg>\n",
              "  </button>\n",
              "\n",
              "<style>\n",
              "  .colab-df-quickchart {\n",
              "      --bg-color: #E8F0FE;\n",
              "      --fill-color: #1967D2;\n",
              "      --hover-bg-color: #E2EBFA;\n",
              "      --hover-fill-color: #174EA6;\n",
              "      --disabled-fill-color: #AAA;\n",
              "      --disabled-bg-color: #DDD;\n",
              "  }\n",
              "\n",
              "  [theme=dark] .colab-df-quickchart {\n",
              "      --bg-color: #3B4455;\n",
              "      --fill-color: #D2E3FC;\n",
              "      --hover-bg-color: #434B5C;\n",
              "      --hover-fill-color: #FFFFFF;\n",
              "      --disabled-bg-color: #3B4455;\n",
              "      --disabled-fill-color: #666;\n",
              "  }\n",
              "\n",
              "  .colab-df-quickchart {\n",
              "    background-color: var(--bg-color);\n",
              "    border: none;\n",
              "    border-radius: 50%;\n",
              "    cursor: pointer;\n",
              "    display: none;\n",
              "    fill: var(--fill-color);\n",
              "    height: 32px;\n",
              "    padding: 0;\n",
              "    width: 32px;\n",
              "  }\n",
              "\n",
              "  .colab-df-quickchart:hover {\n",
              "    background-color: var(--hover-bg-color);\n",
              "    box-shadow: 0 1px 2px rgba(60, 64, 67, 0.3), 0 1px 3px 1px rgba(60, 64, 67, 0.15);\n",
              "    fill: var(--button-hover-fill-color);\n",
              "  }\n",
              "\n",
              "  .colab-df-quickchart-complete:disabled,\n",
              "  .colab-df-quickchart-complete:disabled:hover {\n",
              "    background-color: var(--disabled-bg-color);\n",
              "    fill: var(--disabled-fill-color);\n",
              "    box-shadow: none;\n",
              "  }\n",
              "\n",
              "  .colab-df-spinner {\n",
              "    border: 2px solid var(--fill-color);\n",
              "    border-color: transparent;\n",
              "    border-bottom-color: var(--fill-color);\n",
              "    animation:\n",
              "      spin 1s steps(1) infinite;\n",
              "  }\n",
              "\n",
              "  @keyframes spin {\n",
              "    0% {\n",
              "      border-color: transparent;\n",
              "      border-bottom-color: var(--fill-color);\n",
              "      border-left-color: var(--fill-color);\n",
              "    }\n",
              "    20% {\n",
              "      border-color: transparent;\n",
              "      border-left-color: var(--fill-color);\n",
              "      border-top-color: var(--fill-color);\n",
              "    }\n",
              "    30% {\n",
              "      border-color: transparent;\n",
              "      border-left-color: var(--fill-color);\n",
              "      border-top-color: var(--fill-color);\n",
              "      border-right-color: var(--fill-color);\n",
              "    }\n",
              "    40% {\n",
              "      border-color: transparent;\n",
              "      border-right-color: var(--fill-color);\n",
              "      border-top-color: var(--fill-color);\n",
              "    }\n",
              "    60% {\n",
              "      border-color: transparent;\n",
              "      border-right-color: var(--fill-color);\n",
              "    }\n",
              "    80% {\n",
              "      border-color: transparent;\n",
              "      border-right-color: var(--fill-color);\n",
              "      border-bottom-color: var(--fill-color);\n",
              "    }\n",
              "    90% {\n",
              "      border-color: transparent;\n",
              "      border-bottom-color: var(--fill-color);\n",
              "    }\n",
              "  }\n",
              "</style>\n",
              "\n",
              "  <script>\n",
              "    async function quickchart(key) {\n",
              "      const quickchartButtonEl =\n",
              "        document.querySelector('#' + key + ' button');\n",
              "      quickchartButtonEl.disabled = true;  // To prevent multiple clicks.\n",
              "      quickchartButtonEl.classList.add('colab-df-spinner');\n",
              "      try {\n",
              "        const charts = await google.colab.kernel.invokeFunction(\n",
              "            'suggestCharts', [key], {});\n",
              "      } catch (error) {\n",
              "        console.error('Error during call to suggestCharts:', error);\n",
              "      }\n",
              "      quickchartButtonEl.classList.remove('colab-df-spinner');\n",
              "      quickchartButtonEl.classList.add('colab-df-quickchart-complete');\n",
              "    }\n",
              "    (() => {\n",
              "      let quickchartButtonEl =\n",
              "        document.querySelector('#df-03df4604-3860-4ff1-bc14-7be85f89ea4b button');\n",
              "      quickchartButtonEl.style.display =\n",
              "        google.colab.kernel.accessAllowed ? 'block' : 'none';\n",
              "    })();\n",
              "  </script>\n",
              "</div>\n",
              "    </div>\n",
              "  </div>\n"
            ],
            "text/plain": [
              "    Ano NM_DIRETORIA NM_MUNICIPIO  CD_REDE_ENSINO  CD_ESCOLA  \\\n",
              "0  2017      LIMEIRA    RIO CLARO               1      21573   \n",
              "1  2017      LIMEIRA    RIO CLARO               1      21623   \n",
              "2  2017      LIMEIRA    RIO CLARO               1      21726   \n",
              "3  2017      LIMEIRA    RIO CLARO               1      21748   \n",
              "4  2017      LIMEIRA    RIO CLARO               1      21787   \n",
              "5  2017      LIMEIRA    RIO CLARO               1      41661   \n",
              "\n",
              "              NM_COMPLETO_ESCOLA  CD_TP_IDENTIFICADOR  APR_1  REP_1  ABA_1  \\\n",
              "0         JOAQUIM SALLES CORONEL                    8   0.00   0.00    0.0   \n",
              "1       JOSE FERNANDES PROFESSOR                    8  97.75   2.25    0.0   \n",
              "2  MICHEL ANTONIO ALEM PROFESSOR                    8   0.00   0.00    0.0   \n",
              "3       RAUL FERNANDES CHANCELER                    8   0.00   0.00    0.0   \n",
              "4            BARAO DE PIRACICABA                    8   0.00   0.00    0.0   \n",
              "5       NELSON STROILI PROFESSOR                    8   0.00   0.00    0.0   \n",
              "\n",
              "    APR_2  REP_2  ABA_2   APR_3  REP_3  ABA_3  \n",
              "0   97.70   1.84   0.46    0.00   0.00    0.0  \n",
              "1  100.00   0.00   0.00   99.42   0.58    0.0  \n",
              "2   99.37   0.63   0.00   99.71   0.29    0.0  \n",
              "3    0.00   0.00   0.00  100.00   0.00    0.0  \n",
              "4   99.68   0.16   0.16    0.00   0.00    0.0  \n",
              "5   97.58   2.42   0.00   98.76   1.24    0.0  "
            ]
          },
          "execution_count": 89,
          "metadata": {},
          "output_type": "execute_result"
        }
      ],
      "source": [
        "aprovacao_2017.head(6)"
      ]
    },
    {
      "cell_type": "markdown",
      "metadata": {
        "id": "lXAgudRVaY0X"
      },
      "source": [
        "A coluna ```CD_ESCOLA``` é o código da escola.\n",
        "A coluna ```APR_3``` é a taxa de aprovação no ensino médio.\n",
        "Ele corresponde ao campo ```COD_ESC``` da base ```total_alunos_matriculados```.\n",
        "\n",
        "Plote em dispersão (um *scatterplot*) (usando matplotlib por exemplo) a taxa de aprovação no ensino médio por escola *versus* a média de alunos em turma por cada escola."
      ]
    },
    {
      "cell_type": "code",
      "execution_count": null,
      "metadata": {
        "id": "h-9ulYhNbIiD"
      },
      "outputs": [],
      "source": []
    }
  ],
  "metadata": {
    "colab": {
      "provenance": []
    },
    "kernelspec": {
      "display_name": "Python 3",
      "name": "python3"
    },
    "language_info": {
      "codemirror_mode": {
        "name": "ipython",
        "version": 3
      },
      "file_extension": ".py",
      "mimetype": "text/x-python",
      "name": "python",
      "nbconvert_exporter": "python",
      "pygments_lexer": "ipython3",
      "version": "3.11.5"
    }
  },
  "nbformat": 4,
  "nbformat_minor": 0
}
