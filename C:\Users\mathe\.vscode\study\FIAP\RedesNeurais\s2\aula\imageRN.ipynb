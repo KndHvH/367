{
  "nbformat": 4,
  "nbformat_minor": 0,
  "metadata": {
    "colab": {
      "name": "imageRN.ipynb",
      "provenance": [],
      "authorship_tag": "ABX9TyM8IEvhYjIa/MUvXTs/l1/N",
      "include_colab_link": true
    },
    "kernelspec": {
      "name": "python3",
      "display_name": "Python 3"
    },
    "language_info": {
      "name": "python"
    }
  },
  "cells": [
    {
      "cell_type": "markdown",
      "metadata": {
        "id": "view-in-github",
        "colab_type": "text"
      },
      "source": [
        "<a href=\"https://colab.research.google.com/github/KndHvH/study/blob/2/C%3A%5CUsers%5Cmathe%5C.vscode%5Cstudy%5CFIAP%5CRedesNeurais%5Cs2%5Caula%5CimageRN.ipynb\" target=\"_parent\"><img src=\"https://colab.research.google.com/assets/colab-badge.svg\" alt=\"Open In Colab\"/></a>"
      ]
    },
    {
      "cell_type": "code",
      "execution_count": null,
      "metadata": {
        "id": "yI7w0oOGuhvy"
      },
      "outputs": [],
      "source": [
        ""
      ]
    }
  ]
}