{
  "nbformat": 4,
  "nbformat_minor": 0,
  "metadata": {
    "colab": {
      "name": "Untitled4.ipynb",
      "provenance": [],
      "authorship_tag": "ABX9TyMDYDcJqWycuANTHX+jQkcV",
      "include_colab_link": true
    },
    "kernelspec": {
      "name": "python3",
      "display_name": "Python 3"
    },
    "language_info": {
      "name": "python"
    }
  },
  "cells": [
    {
      "cell_type": "markdown",
      "metadata": {
        "id": "view-in-github",
        "colab_type": "text"
      },
      "source": [
        "<a href=\"https://colab.research.google.com/github/KndHvH/fanta/blob/1/web1.0.ipynb\" target=\"_parent\"><img src=\"https://colab.research.google.com/assets/colab-badge.svg\" alt=\"Open In Colab\"/></a>"
      ]
    },
    {
      "cell_type": "code",
      "execution_count": 4,
      "metadata": {
        "id": "tay4SiRTL8Ij"
      },
      "outputs": [],
      "source": [
        "#install pacote conexao sistema web\n",
        "!pip install -q pyngrok"
      ]
    },
    {
      "cell_type": "code",
      "source": [
        "#install pacotes para implementacao o sistema na web\n",
        "!pip install -q streamlit"
      ],
      "metadata": {
        "id": "vjaQyyq9L835"
      },
      "execution_count": 5,
      "outputs": []
    },
    {
      "cell_type": "code",
      "source": [
        "!pip install -q streamlit_ace"
      ],
      "metadata": {
        "id": "VmvIVpwwL88I"
      },
      "execution_count": 6,
      "outputs": []
    },
    {
      "cell_type": "code",
      "source": [
        "#Executa o sistema\n",
        "!streamlit run app.py &>/dev/null&"
      ],
      "metadata": {
        "id": "3PSPWWCWL86G"
      },
      "execution_count": null,
      "outputs": []
    },
    {
      "cell_type": "code",
      "source": [
        "#Importando a biblioteca para conexao do nosso sistema web\n",
        "from pyngrok import ngrok"
      ],
      "metadata": {
        "id": "wXB5yoQJL89_"
      },
      "execution_count": 7,
      "outputs": []
    },
    {
      "cell_type": "code",
      "source": [
        "#comando para criar o sistema no arquivo app.py\n",
        "%%writefile app.py\n",
        "\n",
        "#importando pacotes\n",
        "import streamlit as st \n",
        "import re\n",
        "\n",
        "#.pickle .joblib\n",
        "\n",
        "#funcao criacao web page\n",
        "def main():\n",
        "\n",
        "  #elementos webpage\n",
        "  html_temp = \"\"\" <div style =\"background-color:red;padding:13px\">\n",
        "                    <h1 style = \"color:white;text-align:center;\">iFood</h1>\n",
        "                  </dic>\n",
        "              \"\"\"\n"
      ],
      "metadata": {
        "id": "3pyg_JlxL9B4"
      },
      "execution_count": null,
      "outputs": []
    },
    {
      "cell_type": "code",
      "source": [
        ""
      ],
      "metadata": {
        "id": "SAbh_AmuL9Dw"
      },
      "execution_count": null,
      "outputs": []
    },
    {
      "cell_type": "code",
      "source": [
        ""
      ],
      "metadata": {
        "id": "AudBahM5L9GB"
      },
      "execution_count": 9,
      "outputs": []
    }
  ]
}