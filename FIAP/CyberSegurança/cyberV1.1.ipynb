{
  "nbformat": 4,
  "nbformat_minor": 0,
  "metadata": {
    "colab": {
      "name": "Untitled2.ipynb",
      "provenance": [],
      "authorship_tag": "ABX9TyNVz2mSey5ck3XEHigSFNuv",
      "include_colab_link": true
    },
    "kernelspec": {
      "name": "python3",
      "display_name": "Python 3"
    },
    "language_info": {
      "name": "python"
    }
  },
  "cells": [
    {
      "cell_type": "markdown",
      "metadata": {
        "id": "view-in-github",
        "colab_type": "text"
      },
      "source": [
        "<a href=\"https://colab.research.google.com/github/KndHvH/fanta/blob/1/FIAP/CyberSeguran%C3%A7a/cyberV1.1.ipynb\" target=\"_parent\"><img src=\"https://colab.research.google.com/assets/colab-badge.svg\" alt=\"Open In Colab\"/></a>"
      ]
    },
    {
      "cell_type": "code",
      "execution_count": 1,
      "metadata": {
        "id": "yC63ioXgKXNv",
        "outputId": "1a77072d-76e2-4f14-c863-5e04448b7693",
        "colab": {
          "base_uri": "https://localhost:8080/"
        }
      },
      "outputs": [
        {
          "output_type": "stream",
          "name": "stdout",
          "text": [
            "Collecting fuzzywuzzy[speedup]\n",
            "  Downloading fuzzywuzzy-0.18.0-py2.py3-none-any.whl (18 kB)\n",
            "Collecting python-levenshtein>=0.12\n",
            "  Downloading python-Levenshtein-0.12.2.tar.gz (50 kB)\n",
            "\u001b[K     |████████████████████████████████| 50 kB 3.6 MB/s \n",
            "\u001b[?25hRequirement already satisfied: setuptools in /usr/local/lib/python3.7/dist-packages (from python-levenshtein>=0.12->fuzzywuzzy[speedup]) (57.4.0)\n",
            "Building wheels for collected packages: python-levenshtein\n",
            "  Building wheel for python-levenshtein (setup.py) ... \u001b[?25l\u001b[?25hdone\n",
            "  Created wheel for python-levenshtein: filename=python_Levenshtein-0.12.2-cp37-cp37m-linux_x86_64.whl size=149866 sha256=4ec73aa0a9d07d1d325a0c17ed13bb8c101635894a0e92a081a05ddd8ff15a2b\n",
            "  Stored in directory: /root/.cache/pip/wheels/05/5f/ca/7c4367734892581bb5ff896f15027a932c551080b2abd3e00d\n",
            "Successfully built python-levenshtein\n",
            "Installing collected packages: python-levenshtein, fuzzywuzzy\n",
            "Successfully installed fuzzywuzzy-0.18.0 python-levenshtein-0.12.2\n"
          ]
        }
      ],
      "source": [
        "!pip install fuzzywuzzy[speedup]"
      ]
    },
    {
      "cell_type": "code",
      "source": [
        "from fuzzywuzzy import process"
      ],
      "metadata": {
        "id": "hYIBzxaYLKnA"
      },
      "execution_count": 2,
      "outputs": []
    },
    {
      "cell_type": "code",
      "source": [
        "lista = [\n",
        "         'gg',\n",
        "         'ff',\n",
        "         'tp',\n",
        "         'elo',\n",
        "         'tft',\n",
        "         'urf',\n",
        "         'adc',\n",
        "         'duo',\n",
        "         'ult',\n",
        "         'solo',\n",
        "         'skin',\n",
        "         'nerd',\n",
        "         'main',\n",
        "         'aram',\n",
        "         'item',\n",
        "         'flex',\n",
        "         'mono',\n",
        "         'gank',\n",
        "         'gold',\n",
        "         'ff15',\n",
        "         'troll',\n",
        "         'prata',\n",
        "         'smurf',\n",
        "         'flash',\n",
        "         'build',\n",
        "         'ignite',\n",
        "         'ranked',\n",
        "         'elojob',\n",
        "         'lowelo',\n",
        "         'jungle',\n",
        "         'intando',\n",
        "         'sucumba',\n",
        "         'nerdola',\n",
        "         'esquisito',\n",
        "         'mid',\n",
        "         'top',\n",
        "         'minions',\n",
        "         'cs',\n",
        "         'farm',\n",
        "         'gold',\n",
        "         'xp',\n",
        "         'yasuo',\n",
        "         'riven',\n",
        "         'shaco',\n",
        "         'zed',\n",
        "         'lee',\n",
        "         'gank',\n",
        "         'sup',\n",
        "         'bot',\n",
        "         ]\n",
        "\n",
        "texto = input(\"Digite o texto: \")\n",
        "\n",
        "process.extract(texto,lista)"
      ],
      "metadata": {
        "colab": {
          "base_uri": "https://localhost:8080/"
        },
        "id": "LxhtrvVqLKvM",
        "outputId": "abdf033b-bc6c-4d37-a0b2-3703510718f5"
      },
      "execution_count": 6,
      "outputs": [
        {
          "name": "stdout",
          "output_type": "stream",
          "text": [
            "Digite o texto: top lixo\n"
          ]
        },
        {
          "output_type": "execute_result",
          "data": {
            "text/plain": [
              "[('top', 90), ('bot', 57), ('troll', 54), ('solo', 50), ('tp', 45)]"
            ]
          },
          "metadata": {},
          "execution_count": 6
        }
      ]
    },
    {
      "cell_type": "code",
      "source": [
        "def getMatch(field):\n",
        "  match_list = [\n",
        "         'gg',\n",
        "         'ff',\n",
        "         'tp',\n",
        "         'elo',\n",
        "         'tft',\n",
        "         'urf',\n",
        "         'adc',\n",
        "         'duo',\n",
        "         'ult',\n",
        "         'solo',\n",
        "         'skin',\n",
        "         'nerd',\n",
        "         'main',\n",
        "         'aram',\n",
        "         'item',\n",
        "         'flex',\n",
        "         'mono',\n",
        "         'gank',\n",
        "         'gold',\n",
        "         'ff15',\n",
        "         'troll',\n",
        "         'prata',\n",
        "         'smurf',\n",
        "         'flash',\n",
        "         'build',\n",
        "         'ignite',\n",
        "         'ranked',\n",
        "         'elojob',\n",
        "         'lowelo',\n",
        "         'jungle',\n",
        "         'intando',\n",
        "         'sucumba',\n",
        "         'nerdola',\n",
        "         'esquisito',\n",
        "         'mid',\n",
        "         'top',\n",
        "         'minions',\n",
        "         'cs',\n",
        "         'farm',\n",
        "         'gold',\n",
        "         'xp',\n",
        "         'yasuo',\n",
        "         'riven',\n",
        "         'shaco',\n",
        "         'zed',\n",
        "         'lee',\n",
        "         'gank',\n",
        "         'sup',\n",
        "         'bot',\n",
        "         'ban',\n",
        "         ]\n",
        "\n",
        "  search_list = process.extract(field, match_list) \n",
        "\n",
        "  result=[]\n",
        "  \n",
        "  for text in search_list: \n",
        "      if text[1] > 60:\n",
        "        result.append(text)\n",
        "    \n",
        "  if len(result) == 0:\n",
        "      return 'Produto proibido? Não'\n",
        "  return 'Produto proibido? Sim'\n",
        "    \n",
        "getMatch(input())"
      ],
      "metadata": {
        "id": "bKw85pJhLKx9",
        "outputId": "59ad44e5-5b20-4b62-857e-5ad984b69592",
        "colab": {
          "base_uri": "https://localhost:8080/",
          "height": 52
        }
      },
      "execution_count": 4,
      "outputs": [
        {
          "name": "stdout",
          "output_type": "stream",
          "text": [
            "sucumba\n"
          ]
        },
        {
          "output_type": "execute_result",
          "data": {
            "text/plain": [
              "'Produto proibido? Sim'"
            ],
            "application/vnd.google.colaboratory.intrinsic+json": {
              "type": "string"
            }
          },
          "metadata": {},
          "execution_count": 4
        }
      ]
    },
    {
      "cell_type": "code",
      "source": [
        ""
      ],
      "metadata": {
        "id": "NR1OoF2YLK0s"
      },
      "execution_count": null,
      "outputs": []
    }
  ]
}