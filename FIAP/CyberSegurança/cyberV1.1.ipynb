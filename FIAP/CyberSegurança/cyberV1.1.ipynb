{
  "nbformat": 4,
  "nbformat_minor": 0,
  "metadata": {
    "colab": {
      "name": "Untitled2.ipynb",
      "provenance": [],
      "authorship_tag": "ABX9TyPPFu8xgzcS7NTTPwbLMPmS",
      "include_colab_link": true
    },
    "kernelspec": {
      "name": "python3",
      "display_name": "Python 3"
    },
    "language_info": {
      "name": "python"
    }
  },
  "cells": [
    {
      "cell_type": "markdown",
      "metadata": {
        "id": "view-in-github",
        "colab_type": "text"
      },
      "source": [
        "<a href=\"https://colab.research.google.com/github/KndHvH/fanta/blob/1/FIAP/CyberSeguran%C3%A7a/cyberV1.1.ipynb\" target=\"_parent\"><img src=\"https://colab.research.google.com/assets/colab-badge.svg\" alt=\"Open In Colab\"/></a>"
      ]
    },
    {
      "cell_type": "code",
      "execution_count": null,
      "metadata": {
        "id": "yC63ioXgKXNv"
      },
      "outputs": [],
      "source": [
        "!pip install fuzzywuzzy[speedup]"
      ]
    },
    {
      "cell_type": "code",
      "source": [
        "from fuzzywuzzy import process"
      ],
      "metadata": {
        "id": "hYIBzxaYLKnA"
      },
      "execution_count": 2,
      "outputs": []
    },
    {
      "cell_type": "code",
      "source": [
        "lista = [\n",
        "         'gg',\n",
        "         'ff',\n",
        "         'tp',\n",
        "         'elo',\n",
        "         'tft',\n",
        "         'urf',\n",
        "         'adc',\n",
        "         'duo',\n",
        "         'ult',\n",
        "         'solo',\n",
        "         'skin',\n",
        "         'nerd',\n",
        "         'main',\n",
        "         'aram',\n",
        "         'item',\n",
        "         'flex',\n",
        "         'mono',\n",
        "         'gank',\n",
        "         'gold',\n",
        "         'ff15',\n",
        "         'troll',\n",
        "         'prata',\n",
        "         'smurf',\n",
        "         'flash',\n",
        "         'build',\n",
        "         'ignite',\n",
        "         'ranked',\n",
        "         'elojob',\n",
        "         'lowelo',\n",
        "         'jungle',\n",
        "         'intando',\n",
        "         'sucumba',\n",
        "         'nerdola',\n",
        "         'esquisito',\n",
        "         'mid',\n",
        "         'top',\n",
        "         'minions',\n",
        "         'cs',\n",
        "         'farm',\n",
        "         'gold',\n",
        "         'xp',\n",
        "         'yasuo',\n",
        "         'riven',\n",
        "         'shaco',\n",
        "         'zed',\n",
        "         'lee',\n",
        "         'gank',\n",
        "         'sup',\n",
        "         'bot',\n",
        "         ]\n",
        "\n",
        "texto = input(\"Digite o texto: \")\n",
        "\n",
        "process.extract(texto,lista)"
      ],
      "metadata": {
        "colab": {
          "base_uri": "https://localhost:8080/"
        },
        "id": "LxhtrvVqLKvM",
        "outputId": "96b34492-ea4e-4bc1-85b6-391462b01efb"
      },
      "execution_count": 5,
      "outputs": [
        {
          "name": "stdout",
          "output_type": "stream",
          "text": [
            "Digite o texto: nerd\n"
          ]
        },
        {
          "output_type": "execute_result",
          "data": {
            "text/plain": [
              "[('nerd', 100), ('nerdola', 90), ('ranked', 68), ('zed', 57), ('ignite', 45)]"
            ]
          },
          "metadata": {},
          "execution_count": 5
        }
      ]
    },
    {
      "cell_type": "code",
      "source": [
        ""
      ],
      "metadata": {
        "id": "bKw85pJhLKx9"
      },
      "execution_count": null,
      "outputs": []
    },
    {
      "cell_type": "code",
      "source": [
        ""
      ],
      "metadata": {
        "id": "NR1OoF2YLK0s"
      },
      "execution_count": null,
      "outputs": []
    }
  ]
}