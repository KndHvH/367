{
  "cells": [
    {
      "cell_type": "code",
      "source": [
        "count = 0"
      ],
      "metadata": {
        "id": "56JP4buXH2c9"
      },
      "execution_count": 41,
      "outputs": []
    },
    {
      "cell_type": "code",
      "execution_count": 2,
      "metadata": {
        "id": "2xeIVJMYbqw4"
      },
      "outputs": [],
      "source": [
        "import numpy as np\n",
        "import pandas as pd\n",
        "import matplotlib.pyplot as plt\n",
        "import cv2\n",
        "import glob\n",
        "import datetime\n",
        "import random\n",
        "from tqdm.notebook import tqdm\n",
        "from PIL import Image\n",
        "from PIL import ImageEnhance\n",
        "np.random.seed(1)\n",
        "pd.set_option('display.max_colwidth', None)"
      ]
    },
    {
      "cell_type": "code",
      "execution_count": 3,
      "metadata": {
        "colab": {
          "base_uri": "https://localhost:8080/"
        },
        "id": "4QNynhsya6Px",
        "outputId": "3b71c48b-cf1c-4de5-b750-2f155fffcfe8"
      },
      "outputs": [
        {
          "output_type": "stream",
          "name": "stdout",
          "text": [
            "Mounted at /gdrive\n"
          ]
        }
      ],
      "source": [
        "from google.colab import drive\n",
        "drive.mount('/gdrive')"
      ]
    },
    {
      "cell_type": "code",
      "source": [
        "from google.colab import drive\n",
        "drive.mount('/content/drive')"
      ],
      "metadata": {
        "id": "0q6yXDTf7BLi",
        "outputId": "f3937b78-8bb1-4cea-e759-5647bf9f7da0",
        "colab": {
          "base_uri": "https://localhost:8080/"
        }
      },
      "execution_count": 4,
      "outputs": [
        {
          "output_type": "stream",
          "name": "stdout",
          "text": [
            "Mounted at /content/drive\n"
          ]
        }
      ]
    },
    {
      "cell_type": "code",
      "execution_count": 79,
      "metadata": {
        "colab": {
          "base_uri": "https://localhost:8080/"
        },
        "id": "__Q-wxBzuAR3",
        "outputId": "d0e344b0-88b2-4d71-a53f-0e7034009da9"
      },
      "outputs": [
        {
          "output_type": "execute_result",
          "data": {
            "text/plain": [
              "92"
            ]
          },
          "metadata": {},
          "execution_count": 79
        }
      ],
      "source": [
        "paths = glob.glob('/content/drive/MyDrive/imagedata/notsigned/*.jpg',recursive=True)\n",
        "len(paths)"
      ]
    },
    {
      "cell_type": "code",
      "source": [
        "paths = random.sample(paths, 20)\n",
        "paths"
      ],
      "metadata": {
        "id": "zz5iu6ku-lZI",
        "outputId": "05cb3555-8caf-4a9f-d8f0-f0e4a020e575",
        "colab": {
          "base_uri": "https://localhost:8080/"
        }
      },
      "execution_count": 80,
      "outputs": [
        {
          "output_type": "execute_result",
          "data": {
            "text/plain": [
              "['/content/drive/MyDrive/imagedata/notsigned/IMG_20220811_184923054.jpg',\n",
              " '/content/drive/MyDrive/imagedata/notsigned/IMG_20220811_184932846.jpg',\n",
              " '/content/drive/MyDrive/imagedata/notsigned/IMG_20220811_184940174.jpg',\n",
              " '/content/drive/MyDrive/imagedata/notsigned/IMG_20220811_190222361.jpg',\n",
              " '/content/drive/MyDrive/imagedata/notsigned/IMG_20220811_190024626.jpg',\n",
              " '/content/drive/MyDrive/imagedata/notsigned/IMG_20220811_185616398.jpg',\n",
              " '/content/drive/MyDrive/imagedata/notsigned/IMG_20220811_185612644.jpg',\n",
              " '/content/drive/MyDrive/imagedata/notsigned/IMG_20220811_185836216.jpg',\n",
              " '/content/drive/MyDrive/imagedata/notsigned/IMG_20220811_185818035.jpg',\n",
              " '/content/drive/MyDrive/imagedata/notsigned/IMG_20220811_190010896.jpg',\n",
              " '/content/drive/MyDrive/imagedata/notsigned/IMG_20220811_184920015.jpg',\n",
              " '/content/drive/MyDrive/imagedata/notsigned/IMG_20220811_184925651.jpg',\n",
              " '/content/drive/MyDrive/imagedata/notsigned/IMG_20220811_184956617.jpg',\n",
              " '/content/drive/MyDrive/imagedata/notsigned/IMG_20220811_190214393.jpg',\n",
              " '/content/drive/MyDrive/imagedata/notsigned/IMG_20220811_185839915.jpg',\n",
              " '/content/drive/MyDrive/imagedata/notsigned/IMG_20220811_190018003.jpg',\n",
              " '/content/drive/MyDrive/imagedata/notsigned/IMG_20220811_185603705.jpg',\n",
              " '/content/drive/MyDrive/imagedata/notsigned/IMG_20220811_190212391.jpg',\n",
              " '/content/drive/MyDrive/imagedata/notsigned/IMG_20220811_190245262.jpg',\n",
              " '/content/drive/MyDrive/imagedata/notsigned/IMG_20220811_184935969.jpg']"
            ]
          },
          "metadata": {},
          "execution_count": 80
        }
      ]
    },
    {
      "cell_type": "code",
      "execution_count": 81,
      "metadata": {
        "colab": {
          "base_uri": "https://localhost:8080/"
        },
        "id": "0CEFM-l_yzho",
        "outputId": "63606112-81fc-4887-9116-d256f09f9d03"
      },
      "outputs": [
        {
          "output_type": "execute_result",
          "data": {
            "text/plain": [
              "(20, 2600, 4624, 3)"
            ]
          },
          "metadata": {},
          "execution_count": 81
        }
      ],
      "source": [
        "orig = np.array([np.asarray(Image.open(img)) for img in paths])\n",
        "orig.shape"
      ]
    },
    {
      "cell_type": "code",
      "execution_count": 82,
      "metadata": {
        "colab": {
          "base_uri": "https://localhost:8080/",
          "height": 257
        },
        "id": "LiRtCQz5TLWi",
        "outputId": "703219bc-5ee1-4aff-cf19-40cd9bc258d4"
      },
      "outputs": [
        {
          "output_type": "execute_result",
          "data": {
            "text/plain": [
              "<matplotlib.image.AxesImage at 0x7f6595cd4f90>"
            ]
          },
          "metadata": {},
          "execution_count": 82
        },
        {
          "output_type": "display_data",
          "data": {
            "text/plain": [
              "<Figure size 432x288 with 1 Axes>"
            ],
            "image/png": "[encoded data removed]"
          },
          "metadata": {
            "needs_background": "light"
          }
        }
      ],
      "source": [
        "plt.imshow(orig[0])"
      ]
    },
    {
      "cell_type": "code",
      "execution_count": 83,
      "metadata": {
        "id": "aiQI_3W1iohm"
      },
      "outputs": [],
      "source": [
        "# plt.figure(figsize=(9,9))\n",
        "# i = 0\n",
        "# for img in orig[0:16]:\n",
        "#   plt.subplot(4, 4, i+1)\n",
        "#   plt.xticks([])\n",
        "#   plt.yticks([])\n",
        "#   plt.grid(False)\n",
        "#   plt.imshow(img)\n",
        "#   i += 1\n",
        "# plt.show()"
      ]
    },
    {
      "cell_type": "code",
      "execution_count": 84,
      "metadata": {
        "id": "ZiZw2KdliSmA"
      },
      "outputs": [],
      "source": [
        "contrast = [np.asarray(ImageEnhance.Contrast(Image.fromarray(img, 'RGB')).enhance(np.random.choice(np.linspace(0.5, 1.5, 5)))) for img in orig]"
      ]
    },
    {
      "cell_type": "code",
      "execution_count": 85,
      "metadata": {
        "id": "Lk7COqT6b4ba"
      },
      "outputs": [],
      "source": [
        "# plt.figure(figsize=(9,9))\n",
        "# i=0\n",
        "# for img in contrast[0:16]:\n",
        "#   plt.subplot(4, 4, i+1)\n",
        "#   plt.xticks([])\n",
        "#   plt.yticks([])\n",
        "#   plt.grid(False)\n",
        "#   plt.imshow(img)\n",
        "#   i += 1\n",
        "# plt.show()"
      ]
    },
    {
      "cell_type": "code",
      "execution_count": 86,
      "metadata": {
        "id": "CIVnM8lNFhj3"
      },
      "outputs": [],
      "source": [
        "brightness = [np.asarray(ImageEnhance.Contrast(Image.fromarray(img, 'RGB')).enhance(np.random.choice(np.linspace(0.5, 1.5, 5)))) for img in contrast]"
      ]
    },
    {
      "cell_type": "code",
      "execution_count": 87,
      "metadata": {
        "id": "iz83AbmLFxYs"
      },
      "outputs": [],
      "source": [
        "# plt.figure(figsize=(9,9))\n",
        "# i=0\n",
        "# for img in brightness[0:16]:\n",
        "#   plt.subplot(4,4,i+1)\n",
        "#   plt.xticks([])\n",
        "#   plt.yticks([])\n",
        "#   plt.grid(False)\n",
        "#   plt.imshow(img)\n",
        "#   i+=1\n",
        "# plt.show()"
      ]
    },
    {
      "cell_type": "code",
      "execution_count": 88,
      "metadata": {
        "id": "1lQP0qdVJkfR"
      },
      "outputs": [],
      "source": [
        "sharpness = [np.asarray(ImageEnhance.Contrast(Image.fromarray(img, 'RGB')).enhance(np.random.choice(np.linspace(0.5, 1.5, 5)))) for img in brightness]"
      ]
    },
    {
      "cell_type": "code",
      "execution_count": 89,
      "metadata": {
        "id": "XiUt2cjDKFns"
      },
      "outputs": [],
      "source": [
        "# plt.figure(figsize=(9,9))\n",
        "# i=0\n",
        "# for img in sharpness[0:16]:\n",
        "#   plt.subplot(4,4,i+1)\n",
        "#   plt.xticks([])\n",
        "#   plt.yticks([])\n",
        "#   plt.grid(False)\n",
        "#   plt.imshow(img)\n",
        "#   i+=1\n",
        "# plt.show()"
      ]
    },
    {
      "cell_type": "code",
      "execution_count": 90,
      "metadata": {
        "id": "R314C87HLidp"
      },
      "outputs": [],
      "source": [
        "color = [np.asarray(ImageEnhance.Contrast(Image.fromarray(img, 'RGB')).enhance(np.random.choice(np.linspace(0.5, 1.5, 5)))) for img in sharpness]"
      ]
    },
    {
      "cell_type": "code",
      "execution_count": 91,
      "metadata": {
        "id": "ljQ-JcMVLzya"
      },
      "outputs": [],
      "source": [
        "# plt.figure(figsize=(9,9))\n",
        "# i=0\n",
        "# for img in color[0:16]:\n",
        "#   plt.subplot(4,4,i+1)\n",
        "#   plt.xticks([])\n",
        "#   plt.yticks([])\n",
        "#   plt.grid(False)\n",
        "#   plt.imshow(img)\n",
        "#   i+=1\n",
        "# plt.show()"
      ]
    },
    {
      "cell_type": "code",
      "execution_count": 92,
      "metadata": {
        "id": "ZT1n98YoC1VF"
      },
      "outputs": [],
      "source": [
        "flip = [cv2.flip(img, np.random.choice([0, 1, -1])) if np.random.choice([0, 1]) else img for img in color]"
      ]
    },
    {
      "cell_type": "code",
      "execution_count": 93,
      "metadata": {
        "id": "o2OOFanGPmKe"
      },
      "outputs": [],
      "source": [
        "# plt.figure(figsize=(9,9))\n",
        "# i=0\n",
        "# for img in flip[0:16]:\n",
        "#   plt.subplot(4,4,i+1)\n",
        "#   plt.xticks([])\n",
        "#   plt.yticks([])\n",
        "#   plt.grid(False)\n",
        "#   plt.imshow(img)\n",
        "#   i+=1\n",
        "# plt.show()"
      ]
    },
    {
      "cell_type": "code",
      "execution_count": 94,
      "metadata": {
        "id": "PZ4skwnEF29i"
      },
      "outputs": [],
      "source": [
        "rotate = [Image.fromarray(img,'RGB').rotate(np.random.choice([0,90,180,270])) for img in flip]"
      ]
    },
    {
      "cell_type": "code",
      "execution_count": 95,
      "metadata": {
        "id": "Oi7Kx_TeTugS"
      },
      "outputs": [],
      "source": [
        "# plt.figure(figsize=(9,9))\n",
        "# i=0\n",
        "# for img in rotate[0:16]:\n",
        "#   plt.subplot(4,4,i+1)\n",
        "#   plt.xticks([])\n",
        "#   plt.yticks([])\n",
        "#   plt.grid(False)\n",
        "#   plt.imshow(img)\n",
        "#   i+=1\n",
        "# plt.show()"
      ]
    },
    {
      "cell_type": "code",
      "execution_count": 96,
      "metadata": {
        "colab": {
          "base_uri": "https://localhost:8080/",
          "height": 49,
          "referenced_widgets": [
            "bbacbf7fbf6145e08740b65037c23d42",
            "37b3e65ae3e441d4b1f6a703bb7efd81",
            "13b7f587f8f64ab3b3f274e0b9373182",
            "8e704f46d7214701a9e5beab66c4bd59",
            "b35b6a4587e14d22a1a67b9e22a2fa30",
            "38bdb566b62748438a051cb207dcc214",
            "7edce1cd03dd4e5abbfa6e5ff19fcedf",
            "478c5722f6e94a23867d9700017dd2d8",
            "b08ffa7aec484259bdee3c1d38d733a2",
            "4ee9af88020c4a0ba2468455903d328e",
            "8d2bc50693fc4d528beef61df13d5903"
          ]
        },
        "id": "FORT4IZ5QGsm",
        "outputId": "843bf789-2526-4e7b-f74b-92caba51a638"
      },
      "outputs": [
        {
          "output_type": "display_data",
          "data": {
            "text/plain": [
              "0it [00:00, ?it/s]"
            ],
            "application/vnd.jupyter.widget-view+json": {
              "version_major": 2,
              "version_minor": 0,
              "model_id": "bbacbf7fbf6145e08740b65037c23d42"
            }
          },
          "metadata": {}
        }
      ],
      "source": [
        "import os\n",
        "for i, image in tqdm(enumerate(rotate)):\n",
        "  aug = \"AUG_\" + str(count) +\"_\"\n",
        "  count += 1\n",
        "  \n",
        "  directory = paths[i].rsplit('/', 3)[0] + '/augmented/' + paths[i].rsplit('/', 2)[1]+ '/'\n",
        "  os.makedirs(directory, exist_ok = True)\n",
        "  image.save(directory + aug + paths[i].rsplit('/', 2)[2])"
      ]
    },
    {
      "cell_type": "code",
      "source": [
        ""
      ],
      "metadata": {
        "id": "1cVIHXF6ICTf"
      },
      "execution_count": 96,
      "outputs": []
    }
  ],
  "metadata": {
    "accelerator": "GPU",
    "colab": {
      "collapsed_sections": [],
      "name": "ImageAugmentation.ipynb",
      "provenance": []
    },
    "kernelspec": {
      "display_name": "Python 3.10.4 64-bit",
      "language": "python",
      "name": "python3"
    },
    "language_info": {
      "name": "python",
      "version": "3.10.4"
    },
    "vscode": {
      "interpreter": {
        "hash": "8d3e54fe3ce154e32ac346abb9a52721706f8b6192d2a6d9e7d1f2a1d569502c"
      }
    },
    "widgets": {
      "application/vnd.jupyter.widget-state+json": {
        "bbacbf7fbf6145e08740b65037c23d42": {
          "model_module": "@jupyter-widgets/controls",
          "model_name": "HBoxModel",
          "model_module_version": "1.5.0",
          "state": {
            "_dom_classes": [],
            "_model_module": "@jupyter-widgets/controls",
            "_model_module_version": "1.5.0",
            "_model_name": "HBoxModel",
            "_view_count": null,
            "_view_module": "@jupyter-widgets/controls",
            "_view_module_version": "1.5.0",
            "_view_name": "HBoxView",
            "box_style": "",
            "children": [
              "IPY_MODEL_37b3e65ae3e441d4b1f6a703bb7efd81",
              "IPY_MODEL_13b7f587f8f64ab3b3f274e0b9373182",
              "IPY_MODEL_8e704f46d7214701a9e5beab66c4bd59"
            ],
            "layout": "IPY_MODEL_b35b6a4587e14d22a1a67b9e22a2fa30"
          }
        },
        "37b3e65ae3e441d4b1f6a703bb7efd81": {
          "model_module": "@jupyter-widgets/controls",
          "model_name": "HTMLModel",
          "model_module_version": "1.5.0",
          "state": {
            "_dom_classes": [],
            "_model_module": "@jupyter-widgets/controls",
            "_model_module_version": "1.5.0",
            "_model_name": "HTMLModel",
            "_view_count": null,
            "_view_module": "@jupyter-widgets/controls",
            "_view_module_version": "1.5.0",
            "_view_name": "HTMLView",
            "description": "",
            "description_tooltip": null,
            "layout": "IPY_MODEL_38bdb566b62748438a051cb207dcc214",
            "placeholder": "​",
            "style": "IPY_MODEL_7edce1cd03dd4e5abbfa6e5ff19fcedf",
            "value": ""
          }
        },
        "13b7f587f8f64ab3b3f274e0b9373182": {
          "model_module": "@jupyter-widgets/controls",
          "model_name": "FloatProgressModel",
          "model_module_version": "1.5.0",
          "state": {
            "_dom_classes": [],
            "_model_module": "@jupyter-widgets/controls",
            "_model_module_version": "1.5.0",
            "_model_name": "FloatProgressModel",
            "_view_count": null,
            "_view_module": "@jupyter-widgets/controls",
            "_view_module_version": "1.5.0",
            "_view_name": "ProgressView",
            "bar_style": "success",
            "description": "",
            "description_tooltip": null,
            "layout": "IPY_MODEL_478c5722f6e94a23867d9700017dd2d8",
            "max": 1,
            "min": 0,
            "orientation": "horizontal",
            "style": "IPY_MODEL_b08ffa7aec484259bdee3c1d38d733a2",
            "value": 1
          }
        },
        "8e704f46d7214701a9e5beab66c4bd59": {
          "model_module": "@jupyter-widgets/controls",
          "model_name": "HTMLModel",
          "model_module_version": "1.5.0",
          "state": {
            "_dom_classes": [],
            "_model_module": "@jupyter-widgets/controls",
            "_model_module_version": "1.5.0",
            "_model_name": "HTMLModel",
            "_view_count": null,
            "_view_module": "@jupyter-widgets/controls",
            "_view_module_version": "1.5.0",
            "_view_name": "HTMLView",
            "description": "",
            "description_tooltip": null,
            "layout": "IPY_MODEL_4ee9af88020c4a0ba2468455903d328e",
            "placeholder": "​",
            "style": "IPY_MODEL_8d2bc50693fc4d528beef61df13d5903",
            "value": " 20/? [00:06&lt;00:00,  3.19it/s]"
          }
        },
        "b35b6a4587e14d22a1a67b9e22a2fa30": {
          "model_module": "@jupyter-widgets/base",
          "model_name": "LayoutModel",
          "model_module_version": "1.2.0",
          "state": {
            "_model_module": "@jupyter-widgets/base",
            "_model_module_version": "1.2.0",
            "_model_name": "LayoutModel",
            "_view_count": null,
            "_view_module": "@jupyter-widgets/base",
            "_view_module_version": "1.2.0",
            "_view_name": "LayoutView",
            "align_content": null,
            "align_items": null,
            "align_self": null,
            "border": null,
            "bottom": null,
            "display": null,
            "flex": null,
            "flex_flow": null,
            "grid_area": null,
            "grid_auto_columns": null,
            "grid_auto_flow": null,
            "grid_auto_rows": null,
            "grid_column": null,
            "grid_gap": null,
            "grid_row": null,
            "grid_template_areas": null,
            "grid_template_columns": null,
            "grid_template_rows": null,
            "height": null,
            "justify_content": null,
            "justify_items": null,
            "left": null,
            "margin": null,
            "max_height": null,
            "max_width": null,
            "min_height": null,
            "min_width": null,
            "object_fit": null,
            "object_position": null,
            "order": null,
            "overflow": null,
            "overflow_x": null,
            "overflow_y": null,
            "padding": null,
            "right": null,
            "top": null,
            "visibility": null,
            "width": null
          }
        },
        "38bdb566b62748438a051cb207dcc214": {
          "model_module": "@jupyter-widgets/base",
          "model_name": "LayoutModel",
          "model_module_version": "1.2.0",
          "state": {
            "_model_module": "@jupyter-widgets/base",
            "_model_module_version": "1.2.0",
            "_model_name": "LayoutModel",
            "_view_count": null,
            "_view_module": "@jupyter-widgets/base",
            "_view_module_version": "1.2.0",
            "_view_name": "LayoutView",
            "align_content": null,
            "align_items": null,
            "align_self": null,
            "border": null,
            "bottom": null,
            "display": null,
            "flex": null,
            "flex_flow": null,
            "grid_area": null,
            "grid_auto_columns": null,
            "grid_auto_flow": null,
            "grid_auto_rows": null,
            "grid_column": null,
            "grid_gap": null,
            "grid_row": null,
            "grid_template_areas": null,
            "grid_template_columns": null,
            "grid_template_rows": null,
            "height": null,
            "justify_content": null,
            "justify_items": null,
            "left": null,
            "margin": null,
            "max_height": null,
            "max_width": null,
            "min_height": null,
            "min_width": null,
            "object_fit": null,
            "object_position": null,
            "order": null,
            "overflow": null,
            "overflow_x": null,
            "overflow_y": null,
            "padding": null,
            "right": null,
            "top": null,
            "visibility": null,
            "width": null
          }
        },
        "7edce1cd03dd4e5abbfa6e5ff19fcedf": {
          "model_module": "@jupyter-widgets/controls",
          "model_name": "DescriptionStyleModel",
          "model_module_version": "1.5.0",
          "state": {
            "_model_module": "@jupyter-widgets/controls",
            "_model_module_version": "1.5.0",
            "_model_name": "DescriptionStyleModel",
            "_view_count": null,
            "_view_module": "@jupyter-widgets/base",
            "_view_module_version": "1.2.0",
            "_view_name": "StyleView",
            "description_width": ""
          }
        },
        "478c5722f6e94a23867d9700017dd2d8": {
          "model_module": "@jupyter-widgets/base",
          "model_name": "LayoutModel",
          "model_module_version": "1.2.0",
          "state": {
            "_model_module": "@jupyter-widgets/base",
            "_model_module_version": "1.2.0",
            "_model_name": "LayoutModel",
            "_view_count": null,
            "_view_module": "@jupyter-widgets/base",
            "_view_module_version": "1.2.0",
            "_view_name": "LayoutView",
            "align_content": null,
            "align_items": null,
            "align_self": null,
            "border": null,
            "bottom": null,
            "display": null,
            "flex": null,
            "flex_flow": null,
            "grid_area": null,
            "grid_auto_columns": null,
            "grid_auto_flow": null,
            "grid_auto_rows": null,
            "grid_column": null,
            "grid_gap": null,
            "grid_row": null,
            "grid_template_areas": null,
            "grid_template_columns": null,
            "grid_template_rows": null,
            "height": null,
            "justify_content": null,
            "justify_items": null,
            "left": null,
            "margin": null,
            "max_height": null,
            "max_width": null,
            "min_height": null,
            "min_width": null,
            "object_fit": null,
            "object_position": null,
            "order": null,
            "overflow": null,
            "overflow_x": null,
            "overflow_y": null,
            "padding": null,
            "right": null,
            "top": null,
            "visibility": null,
            "width": "20px"
          }
        },
        "b08ffa7aec484259bdee3c1d38d733a2": {
          "model_module": "@jupyter-widgets/controls",
          "model_name": "ProgressStyleModel",
          "model_module_version": "1.5.0",
          "state": {
            "_model_module": "@jupyter-widgets/controls",
            "_model_module_version": "1.5.0",
            "_model_name": "ProgressStyleModel",
            "_view_count": null,
            "_view_module": "@jupyter-widgets/base",
            "_view_module_version": "1.2.0",
            "_view_name": "StyleView",
            "bar_color": null,
            "description_width": ""
          }
        },
        "4ee9af88020c4a0ba2468455903d328e": {
          "model_module": "@jupyter-widgets/base",
          "model_name": "LayoutModel",
          "model_module_version": "1.2.0",
          "state": {
            "_model_module": "@jupyter-widgets/base",
            "_model_module_version": "1.2.0",
            "_model_name": "LayoutModel",
            "_view_count": null,
            "_view_module": "@jupyter-widgets/base",
            "_view_module_version": "1.2.0",
            "_view_name": "LayoutView",
            "align_content": null,
            "align_items": null,
            "align_self": null,
            "border": null,
            "bottom": null,
            "display": null,
            "flex": null,
            "flex_flow": null,
            "grid_area": null,
            "grid_auto_columns": null,
            "grid_auto_flow": null,
            "grid_auto_rows": null,
            "grid_column": null,
            "grid_gap": null,
            "grid_row": null,
            "grid_template_areas": null,
            "grid_template_columns": null,
            "grid_template_rows": null,
            "height": null,
            "justify_content": null,
            "justify_items": null,
            "left": null,
            "margin": null,
            "max_height": null,
            "max_width": null,
            "min_height": null,
            "min_width": null,
            "object_fit": null,
            "object_position": null,
            "order": null,
            "overflow": null,
            "overflow_x": null,
            "overflow_y": null,
            "padding": null,
            "right": null,
            "top": null,
            "visibility": null,
            "width": null
          }
        },
        "8d2bc50693fc4d528beef61df13d5903": {
          "model_module": "@jupyter-widgets/controls",
          "model_name": "DescriptionStyleModel",
          "model_module_version": "1.5.0",
          "state": {
            "_model_module": "@jupyter-widgets/controls",
            "_model_module_version": "1.5.0",
            "_model_name": "DescriptionStyleModel",
            "_view_count": null,
            "_view_module": "@jupyter-widgets/base",
            "_view_module_version": "1.2.0",
            "_view_name": "StyleView",
            "description_width": ""
          }
        }
      }
    },
    "gpuClass": "standard"
  },
  "nbformat": 4,
  "nbformat_minor": 0
}