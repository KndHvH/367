{
  "cells": [
    {
      "cell_type": "markdown",
      "metadata": {
        "id": "RPuBqCCFCgvR"
      },
      "source": [
        "# Introdução ao spaCy\n",
        "\n",
        "\n"
      ]
    },
    {
      "cell_type": "markdown",
      "metadata": {
        "id": "DMvt1D5QESDK"
      },
      "source": [
        "# Etapa 1: Instalação do spaCy"
      ]
    },
    {
      "cell_type": "code",
      "execution_count": null,
      "metadata": {
        "colab": {
          "base_uri": "https://localhost:8080/"
        },
        "id": "bGBJTJK-L7uV",
        "outputId": "fd343de3-94df-4e8f-ba18-d9bf4f67e253"
      },
      "outputs": [],
      "source": [
        "!pip install spacy==2.2.3"
      ]
    },
    {
      "cell_type": "code",
      "execution_count": null,
      "metadata": {
        "colab": {
          "base_uri": "https://localhost:8080/",
          "height": 35
        },
        "id": "PktHT0dXMNIS",
        "outputId": "3899fd1a-8c6e-4312-8a8b-2a6f92992eb9"
      },
      "outputs": [],
      "source": [
        "import spacy\n",
        "spacy.__version__"
      ]
    },
    {
      "cell_type": "code",
      "execution_count": null,
      "metadata": {
        "colab": {
          "base_uri": "https://localhost:8080/"
        },
        "id": "TXvCmKxLMdoF",
        "outputId": "de4564f5-0361-4d8c-8159-5e8aa9774fc5"
      },
      "outputs": [],
      "source": [
        "!python -m spacy download pt"
      ]
    },
    {
      "cell_type": "markdown",
      "metadata": {
        "id": "bJ2s3MS6EXBe"
      },
      "source": [
        "# Etapa 2: Marcação POS\n",
        "\n",
        "- POS (part-of-speech) atribui para as palavras partes da fala, como substantivos, adjetivos, verbos\n",
        "- Importante para a detecção de entidades no texto, pois primeiro é necessário saber o que o texto contém\n",
        "- Lista de tokens: https://spacy.io/api/annotation#pos-tagging\n",
        "- Português: https://www.sketchengine.eu/portuguese-freeling-part-of-speech-tagset/"
      ]
    },
    {
      "cell_type": "code",
      "execution_count": null,
      "metadata": {
        "colab": {
          "base_uri": "https://localhost:8080/"
        },
        "id": "0T8hIclJNV1b",
        "outputId": "bc5d6558-8c6c-4f2c-e4d4-c2b82d41426c"
      },
      "outputs": [],
      "source": [
        "pln = spacy.load('pt')\n",
        "pln"
      ]
    },
    {
      "cell_type": "code",
      "execution_count": null,
      "metadata": {
        "id": "4pZAEQVPNku8"
      },
      "outputs": [],
      "source": [
        "documento = pln('Estou aguardando o avião decolar aqui no AEROPORTO DE GUARULHOS')"
      ]
    },
    {
      "cell_type": "code",
      "execution_count": null,
      "metadata": {
        "colab": {
          "base_uri": "https://localhost:8080/"
        },
        "id": "Fg7TeXodNz4e",
        "outputId": "5a2bec8c-f874-437c-d9ef-f8b4eb223fda"
      },
      "outputs": [],
      "source": [
        "for token in documento:\n",
        "  print(token.text, token.pos_)"
      ]
    },
    {
      "cell_type": "markdown",
      "metadata": {
        "id": "DctwAtI_NLym"
      },
      "source": [
        "# Etapa 3: Lematização e stemização\n",
        "\n",
        "- Lematização: \"Lema\" de uma palavra de acordo com seu significado no dicionário - palavra base (análise vocabular e morfológica)\n",
        "- Stemização: Extrair o radical das palavras"
      ]
    },
    {
      "cell_type": "code",
      "execution_count": null,
      "metadata": {
        "colab": {
          "base_uri": "https://localhost:8080/"
        },
        "id": "NVZ0_xLUQGjb",
        "outputId": "1b8d7d0f-60c4-4786-e30b-3b9d91860f7f"
      },
      "outputs": [],
      "source": [
        "for token in documento:\n",
        "  print(token.text, token.lemma_)"
      ]
    },
    {
      "cell_type": "markdown",
      "metadata": {
        "id": "zVz8tGTiZN6C"
      },
      "source": [
        "## Comparação stemização (NLTK) x lematização (spaCy)"
      ]
    },
    {
      "cell_type": "code",
      "execution_count": null,
      "metadata": {
        "id": "Ww8qgIxXQt7c"
      },
      "outputs": [],
      "source": [
        "#!pip install nltk --upgrade"
      ]
    },
    {
      "cell_type": "code",
      "execution_count": null,
      "metadata": {
        "colab": {
          "base_uri": "https://localhost:8080/"
        },
        "id": "A8G04U93QpbA",
        "outputId": "304dcdb1-6cf3-46fb-d50e-2d3780e9c5f4"
      },
      "outputs": [],
      "source": [
        "import nltk\n",
        "nltk.download('rslp')"
      ]
    },
    {
      "cell_type": "code",
      "execution_count": null,
      "metadata": {
        "colab": {
          "base_uri": "https://localhost:8080/",
          "height": 35
        },
        "id": "Levz2Ci8Q5hm",
        "outputId": "4a3c2c36-fa0e-41ff-eca2-6cb6f2cd1f98"
      },
      "outputs": [],
      "source": [
        "stemmer = nltk.stem.RSLPStemmer()\n",
        "stemmer.stem('correrei')"
      ]
    },
    {
      "cell_type": "code",
      "execution_count": null,
      "metadata": {
        "colab": {
          "base_uri": "https://localhost:8080/"
        },
        "id": "DWeL9UDURmEY",
        "outputId": "58cf27aa-f7ff-4418-c3fc-6674b7347b8f"
      },
      "outputs": [],
      "source": [
        "for token in documento:\n",
        "  print(token.text, token.lemma_, stemmer.stem(token.text))"
      ]
    },
    {
      "cell_type": "markdown",
      "metadata": {
        "id": "PtacHcwVZ4PH"
      },
      "source": [
        "# Etapa 4: Reconhecimento de entidades nomeadas\n",
        "\n",
        "- NER (Named-Entity Recognition)\n",
        "- Encontrar e classificar entidades no texto, dependendo da base de dados que foi utilizada para o treinamento (pessoa, localização, empresa, numéricos)\n",
        "- Usado em chatbots para saber o assunto falado\n",
        "- Siglas: https://spacy.io/api/annotation#named-entities\n",
        "- NER: Location (LOC), Organization (ORG), Person (PER), Date (DAT)\n",
        "\n",
        "---\n",
        "\n"
      ]
    },
    {
      "cell_type": "code",
      "execution_count": null,
      "metadata": {
        "id": "mA_awKp-aq9j"
      },
      "outputs": [],
      "source": [
        "texto = 'a'"
      ]
    },
    {
      "cell_type": "code",
      "execution_count": null,
      "metadata": {
        "id": "ldfPLqpVTlbq"
      },
      "outputs": [],
      "source": [
        "documento = pln(texto)"
      ]
    },
    {
      "cell_type": "code",
      "execution_count": null,
      "metadata": {
        "colab": {
          "base_uri": "https://localhost:8080/"
        },
        "id": "-ir1stmgTsbW",
        "outputId": "f6cc75c4-beab-45d4-e4ae-83d3005ac0d5"
      },
      "outputs": [],
      "source": [
        "for entidade in documento.ents:\n",
        "  print(entidade.text, entidade.label_)"
      ]
    },
    {
      "cell_type": "code",
      "execution_count": null,
      "metadata": {
        "colab": {
          "base_uri": "https://localhost:8080/",
          "height": 52
        },
        "id": "FfXi2DsYUIU0",
        "outputId": "0e002b29-382f-4db1-e682-1e9e25ba3dae"
      },
      "outputs": [],
      "source": [
        "from spacy import displacy\n",
        "displacy.render(documento, style = 'ent', jupyter = True)"
      ]
    },
    {
      "cell_type": "markdown",
      "metadata": {
        "id": "Xi7gpbH1fwvM"
      },
      "source": [
        "# Etapa 5: Parsing de dependências\n",
        "\n",
        "- Relação pai-filho entre as palavras\n",
        "- Útil para verificar o que é prioridade na *frase*"
      ]
    },
    {
      "cell_type": "markdown",
      "metadata": {
        "id": "NRXWYfXbol9-"
      },
      "source": [
        "## Exemplo 1\n"
      ]
    },
    {
      "cell_type": "code",
      "execution_count": null,
      "metadata": {
        "id": "5m5mEyhohKpS"
      },
      "outputs": [],
      "source": [
        "from spacy import displacy"
      ]
    },
    {
      "cell_type": "code",
      "execution_count": null,
      "metadata": {
        "id": "g2Dr629nhQu5"
      },
      "outputs": [],
      "source": [
        "documento = pln('A eleição presidencial do Brasil será decidida entre Bolsonaro e Lula')"
      ]
    },
    {
      "cell_type": "code",
      "execution_count": null,
      "metadata": {
        "colab": {
          "base_uri": "https://localhost:8080/",
          "height": 338
        },
        "id": "PROUVvRHhUp-",
        "outputId": "390e1fa5-e00a-4706-eb93-89d129a7b52f"
      },
      "outputs": [],
      "source": [
        "#displacy.serve(documento, style='dep')\n",
        "displacy.render(documento, style='dep', jupyter=True, options={'distance': 90})"
      ]
    },
    {
      "cell_type": "markdown",
      "metadata": {
        "id": "cd8PYqtyxTt8"
      },
      "source": [
        "# Etapa 6: Semelhanças entre palavras e frases\n",
        "\n",
        "- Verificar se duas palavras são semelhantes ou logicamente relacionadas\n",
        "- Usa o algoritmo GloVe (Global Vectors for Word Representation)\n",
        "- Artigo original: https://nlp.stanford.edu/pubs/glove.pdf"
      ]
    },
    {
      "cell_type": "markdown",
      "metadata": {
        "id": "pLv1PTJz0sks"
      },
      "source": [
        "## Exemplo 1"
      ]
    },
    {
      "cell_type": "code",
      "execution_count": null,
      "metadata": {
        "id": "mmYy8Yr7k7hv"
      },
      "outputs": [],
      "source": [
        "p1 = pln(\"O ex-presidente Lula está à frente nas pesquisas\")\n",
        "p2 = pln(\"Comer lula está à frente nas pesquisas\")"
      ]
    },
    {
      "cell_type": "code",
      "execution_count": null,
      "metadata": {
        "colab": {
          "base_uri": "https://localhost:8080/"
        },
        "id": "SCN4W5uxlFXq",
        "outputId": "5d2478c1-9680-4da7-cacb-31bfe42bb8b9"
      },
      "outputs": [],
      "source": [
        "p1.similarity(p2)"
      ]
    },
    {
      "cell_type": "code",
      "execution_count": null,
      "metadata": {
        "colab": {
          "base_uri": "https://localhost:8080/"
        },
        "id": "HWCoEOollco1",
        "outputId": "a8c53d59-a2e7-4f13-dd9e-510d9d62e423"
      },
      "outputs": [],
      "source": [
        "p1.similarity(p3)"
      ]
    },
    {
      "cell_type": "code",
      "execution_count": null,
      "metadata": {
        "colab": {
          "base_uri": "https://localhost:8080/"
        },
        "id": "qCwXOf2wlm3-",
        "outputId": "dd012740-620d-44da-a4e6-ac5bdac77460"
      },
      "outputs": [],
      "source": [
        "p2.similarity(p3)"
      ]
    },
    {
      "cell_type": "code",
      "execution_count": null,
      "metadata": {
        "id": "L-D7aABslwTa"
      },
      "outputs": [],
      "source": [
        "texto1 = pln('Falo do Banco Santander')\n",
        "texto2 = pln('Represento o Banco Santander')\n",
        "texto3 = pln('Não tenho dinheiro')"
      ]
    },
    {
      "cell_type": "code",
      "execution_count": null,
      "metadata": {
        "colab": {
          "base_uri": "https://localhost:8080/"
        },
        "id": "tRPBcAail9-Q",
        "outputId": "2f4dae3a-f340-451e-b1b5-4da37a049df9"
      },
      "outputs": [],
      "source": [
        "texto1.similarity(texto2)"
      ]
    },
    {
      "cell_type": "code",
      "execution_count": null,
      "metadata": {
        "colab": {
          "base_uri": "https://localhost:8080/"
        },
        "id": "V1ggTh34mCjh",
        "outputId": "e49aec08-8200-4b18-d81b-c6100a485e89"
      },
      "outputs": [],
      "source": [
        "texto2.similarity(texto3)"
      ]
    }
  ],
  "metadata": {
    "colab": {
      "collapsed_sections": [],
      "name": "Copy of Introdução ao NLP com o spaCy.ipynb",
      "provenance": []
    },
    "kernelspec": {
      "display_name": "Python 3.10.4 64-bit",
      "language": "python",
      "name": "python3"
    },
    "language_info": {
      "codemirror_mode": {
        "name": "ipython",
        "version": 3
      },
      "file_extension": ".py",
      "mimetype": "text/x-python",
      "name": "python",
      "nbconvert_exporter": "python",
      "pygments_lexer": "ipython3",
      "version": "3.10.4"
    },
    "vscode": {
      "interpreter": {
        "hash": "8d3e54fe3ce154e32ac346abb9a52721706f8b6192d2a6d9e7d1f2a1d569502c"
      }
    }
  },
  "nbformat": 4,
  "nbformat_minor": 0
}
