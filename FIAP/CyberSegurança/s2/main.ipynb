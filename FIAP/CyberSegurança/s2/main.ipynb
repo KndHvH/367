{
 "cells": [
  {
   "cell_type": "code",
   "execution_count": 1,
   "outputs": [
    {
     "name": "stderr",
     "output_type": "stream",
     "text": [
      "WARNING: You are using pip version 21.3.1; however, version 22.2.2 is available.\n",
      "You should consider upgrading via the 'C:\\Users\\mathe\\PycharmProjects\\pythonProject\\venv\\Scripts\\python.exe -m pip install --upgrade pip' command.\n",
      "WARNING: You are using pip version 21.3.1; however, version 22.2.2 is available.\n",
      "You should consider upgrading via the 'C:\\Users\\mathe\\PycharmProjects\\pythonProject\\venv\\Scripts\\python.exe -m pip install --upgrade pip' command.\n",
      "WARNING: You are using pip version 21.3.1; however, version 22.2.2 is available.\n",
      "You should consider upgrading via the 'C:\\Users\\mathe\\PycharmProjects\\pythonProject\\venv\\Scripts\\python.exe -m pip install --upgrade pip' command.\n",
      "  ERROR: Command errored out with exit status 1:\n",
      "   command: 'C:\\Users\\mathe\\PycharmProjects\\pythonProject\\venv\\Scripts\\python.exe' -u -c 'import io, os, sys, setuptools, tokenize; sys.argv[0] = '\"'\"'C:\\\\Users\\\\mathe\\\\AppData\\\\Local\\\\Temp\\\\pip-install-1z0_evsq\\\\python-levenshtein_6c4735aa26ea42efa20d22ba6c76367c\\\\setup.py'\"'\"'; __file__='\"'\"'C:\\\\Users\\\\mathe\\\\AppData\\\\Local\\\\Temp\\\\pip-install-1z0_evsq\\\\python-levenshtein_6c4735aa26ea42efa20d22ba6c76367c\\\\setup.py'\"'\"';f = getattr(tokenize, '\"'\"'open'\"'\"', open)(__file__) if os.path.exists(__file__) else io.StringIO('\"'\"'from setuptools import setup; setup()'\"'\"');code = f.read().replace('\"'\"'\\r\\n'\"'\"', '\"'\"'\\n'\"'\"');f.close();exec(compile(code, __file__, '\"'\"'exec'\"'\"'))' bdist_wheel -d 'C:\\Users\\mathe\\AppData\\Local\\Temp\\pip-wheel-lqakoa8e'\n",
      "       cwd: C:\\Users\\mathe\\AppData\\Local\\Temp\\pip-install-1z0_evsq\\python-levenshtein_6c4735aa26ea42efa20d22ba6c76367c\\\n",
      "  Complete output (64 lines):\n",
      "  running bdist_wheel\n",
      "  running build\n",
      "  running build_py\n",
      "  creating build\n",
      "  creating build\\lib.win-amd64-3.10\n",
      "  creating build\\lib.win-amd64-3.10\\Levenshtein\n",
      "  copying Levenshtein\\StringMatcher.py -> build\\lib.win-amd64-3.10\\Levenshtein\n",
      "  copying Levenshtein\\__init__.py -> build\\lib.win-amd64-3.10\\Levenshtein\n",
      "  running egg_info\n",
      "  warning: no previously-included files matching '*pyc' found anywhere in distribution\n",
      "  warning: no previously-included files matching '*so' found anywhere in distribution\n",
      "  warning: no previously-included files matching '.project' found anywhere in distribution\n",
      "  warning: no previously-included files matching '.pydevproject' found anywhere in distribution\n",
      "  writing manifest file 'python_Levenshtein.egg-info\\SOURCES.txt'\n",
      "  copying Levenshtein\\_levenshtein.c -> build\\lib.win-amd64-3.10\\Levenshtein\n",
      "  copying Levenshtein\\_levenshtein.h -> build\\lib.win-amd64-3.10\\Levenshtein\n",
      "  running build_ext\n",
      "  Traceback (most recent call last):\n",
      "    File \"<string>\", line 1, in <module>\n",
      "    File \"C:\\Users\\mathe\\AppData\\Local\\Temp\\pip-install-1z0_evsq\\python-levenshtein_6c4735aa26ea42efa20d22ba6c76367c\\setup.py\", line 18, in <module>\n",
      "      setup(name='python-Levenshtein',\n",
      "    File \"C:\\Users\\mathe\\PycharmProjects\\pythonProject\\venv\\lib\\site-packages\\setuptools\\__init__.py\", line 155, in setup\n",
      "      return distutils.core.setup(**attrs)\n",
      "    File \"C:\\Users\\mathe\\PycharmProjects\\pythonProject\\venv\\lib\\site-packages\\setuptools\\_distutils\\core.py\", line 148, in setup\n",
      "      return run_commands(dist)\n",
      "    File \"C:\\Users\\mathe\\PycharmProjects\\pythonProject\\venv\\lib\\site-packages\\setuptools\\_distutils\\core.py\", line 163, in run_commands\n",
      "      dist.run_commands()\n",
      "    File \"C:\\Users\\mathe\\PycharmProjects\\pythonProject\\venv\\lib\\site-packages\\setuptools\\_distutils\\dist.py\", line 967, in run_commands\n",
      "      self.run_command(cmd)\n",
      "    File \"C:\\Users\\mathe\\PycharmProjects\\pythonProject\\venv\\lib\\site-packages\\setuptools\\_distutils\\dist.py\", line 986, in run_command\n",
      "      cmd_obj.run()\n",
      "    File \"C:\\Users\\mathe\\PycharmProjects\\pythonProject\\venv\\lib\\site-packages\\wheel\\bdist_wheel.py\", line 299, in run\n",
      "      self.run_command('build')\n",
      "    File \"C:\\Users\\mathe\\PycharmProjects\\pythonProject\\venv\\lib\\site-packages\\setuptools\\_distutils\\cmd.py\", line 313, in run_command\n",
      "      self.distribution.run_command(command)\n",
      "    File \"C:\\Users\\mathe\\PycharmProjects\\pythonProject\\venv\\lib\\site-packages\\setuptools\\_distutils\\dist.py\", line 986, in run_command\n",
      "      cmd_obj.run()\n",
      "    File \"C:\\Users\\mathe\\PycharmProjects\\pythonProject\\venv\\lib\\site-packages\\setuptools\\_distutils\\command\\build.py\", line 135, in run\n",
      "      self.run_command(cmd_name)\n",
      "    File \"C:\\Users\\mathe\\PycharmProjects\\pythonProject\\venv\\lib\\site-packages\\setuptools\\_distutils\\cmd.py\", line 313, in run_command\n",
      "      self.distribution.run_command(command)\n",
      "    File \"C:\\Users\\mathe\\PycharmProjects\\pythonProject\\venv\\lib\\site-packages\\setuptools\\_distutils\\dist.py\", line 986, in run_command\n",
      "      cmd_obj.run()\n",
      "    File \"C:\\Users\\mathe\\PycharmProjects\\pythonProject\\venv\\lib\\site-packages\\setuptools\\command\\build_ext.py\", line 79, in run\n",
      "      _build_ext.run(self)\n",
      "    File \"C:\\Users\\mathe\\PycharmProjects\\pythonProject\\venv\\lib\\site-packages\\setuptools\\_distutils\\command\\build_ext.py\", line 339, in run\n",
      "      self.build_extensions()\n",
      "    File \"C:\\Users\\mathe\\PycharmProjects\\pythonProject\\venv\\lib\\site-packages\\setuptools\\_distutils\\command\\build_ext.py\", line 448, in build_extensions\n",
      "      self._build_extensions_serial()\n",
      "    File \"C:\\Users\\mathe\\PycharmProjects\\pythonProject\\venv\\lib\\site-packages\\setuptools\\_distutils\\command\\build_ext.py\", line 473, in _build_extensions_serial\n",
      "      self.build_extension(ext)\n",
      "    File \"C:\\Users\\mathe\\PycharmProjects\\pythonProject\\venv\\lib\\site-packages\\setuptools\\command\\build_ext.py\", line 202, in build_extension\n",
      "      _build_ext.build_extension(self, ext)\n",
      "    File \"C:\\Users\\mathe\\PycharmProjects\\pythonProject\\venv\\lib\\site-packages\\setuptools\\_distutils\\command\\build_ext.py\", line 528, in build_extension\n",
      "      objects = self.compiler.compile(sources,\n",
      "    File \"C:\\Users\\mathe\\PycharmProjects\\pythonProject\\venv\\lib\\site-packages\\setuptools\\_distutils\\_msvccompiler.py\", line 327, in compile\n",
      "      self.initialize()\n",
      "    File \"C:\\Users\\mathe\\PycharmProjects\\pythonProject\\venv\\lib\\site-packages\\setuptools\\_distutils\\_msvccompiler.py\", line 224, in initialize\n",
      "      vc_env = _get_vc_env(plat_spec)\n",
      "    File \"C:\\Users\\mathe\\PycharmProjects\\pythonProject\\venv\\lib\\site-packages\\setuptools\\msvc.py\", line 316, in msvc14_get_vc_env\n",
      "      return _msvc14_get_vc_env(plat_spec)\n",
      "    File \"C:\\Users\\mathe\\PycharmProjects\\pythonProject\\venv\\lib\\site-packages\\setuptools\\msvc.py\", line 270, in _msvc14_get_vc_env\n",
      "      raise distutils.errors.DistutilsPlatformError(\n",
      "  setuptools._distutils.errors.DistutilsPlatformError: Microsoft Visual C++ 14.0 or greater is required. Get it with \"Microsoft C++ Build Tools\": https://visualstudio.microsoft.com/visual-cpp-build-tools/\n",
      "  ----------------------------------------\n",
      "  ERROR: Failed building wheel for python-levenshtein\n",
      "    ERROR: Command errored out with exit status 1:\n",
      "     command: 'C:\\Users\\mathe\\PycharmProjects\\pythonProject\\venv\\Scripts\\python.exe' -u -c 'import io, os, sys, setuptools, tokenize; sys.argv[0] = '\"'\"'C:\\\\Users\\\\mathe\\\\AppData\\\\Local\\\\Temp\\\\pip-install-1z0_evsq\\\\python-levenshtein_6c4735aa26ea42efa20d22ba6c76367c\\\\setup.py'\"'\"'; __file__='\"'\"'C:\\\\Users\\\\mathe\\\\AppData\\\\Local\\\\Temp\\\\pip-install-1z0_evsq\\\\python-levenshtein_6c4735aa26ea42efa20d22ba6c76367c\\\\setup.py'\"'\"';f = getattr(tokenize, '\"'\"'open'\"'\"', open)(__file__) if os.path.exists(__file__) else io.StringIO('\"'\"'from setuptools import setup; setup()'\"'\"');code = f.read().replace('\"'\"'\\r\\n'\"'\"', '\"'\"'\\n'\"'\"');f.close();exec(compile(code, __file__, '\"'\"'exec'\"'\"'))' install --record 'C:\\Users\\mathe\\AppData\\Local\\Temp\\pip-record-bb6h7w6x\\install-record.txt' --single-version-externally-managed --compile --install-headers 'C:\\Users\\mathe\\PycharmProjects\\pythonProject\\venv\\include\\site\\python3.10\\python-levenshtein'\n",
      "         cwd: C:\\Users\\mathe\\AppData\\Local\\Temp\\pip-install-1z0_evsq\\python-levenshtein_6c4735aa26ea42efa20d22ba6c76367c\\\n",
      "    Complete output (20 lines):\n",
      "    running install\n",
      "    C:\\Users\\mathe\\PycharmProjects\\pythonProject\\venv\\lib\\site-packages\\setuptools\\command\\install.py:34: SetuptoolsDeprecationWarning: setup.py install is deprecated. Use build and pip and other standards-based tools.\n",
      "      warnings.warn(\n",
      "    running build\n",
      "    running build_py\n",
      "    creating build\n",
      "    creating build\\lib.win-amd64-3.10\n",
      "    creating build\\lib.win-amd64-3.10\\Levenshtein\n",
      "    copying Levenshtein\\StringMatcher.py -> build\\lib.win-amd64-3.10\\Levenshtein\n",
      "    copying Levenshtein\\__init__.py -> build\\lib.win-amd64-3.10\\Levenshtein\n",
      "    running egg_info\n",
      "    warning: no previously-included files matching '*pyc' found anywhere in distribution\n",
      "    warning: no previously-included files matching '*so' found anywhere in distribution\n",
      "    warning: no previously-included files matching '.project' found anywhere in distribution\n",
      "    warning: no previously-included files matching '.pydevproject' found anywhere in distribution\n",
      "    writing manifest file 'python_Levenshtein.egg-info\\SOURCES.txt'\n",
      "    copying Levenshtein\\_levenshtein.c -> build\\lib.win-amd64-3.10\\Levenshtein\n",
      "    copying Levenshtein\\_levenshtein.h -> build\\lib.win-amd64-3.10\\Levenshtein\n",
      "    running build_ext\n",
      "    error: Microsoft Visual C++ 14.0 or greater is required. Get it with \"Microsoft C++ Build Tools\": https://visualstudio.microsoft.com/visual-cpp-build-tools/\n",
      "    ----------------------------------------\n",
      "ERROR: Command errored out with exit status 1: 'C:\\Users\\mathe\\PycharmProjects\\pythonProject\\venv\\Scripts\\python.exe' -u -c 'import io, os, sys, setuptools, tokenize; sys.argv[0] = '\"'\"'C:\\\\Users\\\\mathe\\\\AppData\\\\Local\\\\Temp\\\\pip-install-1z0_evsq\\\\python-levenshtein_6c4735aa26ea42efa20d22ba6c76367c\\\\setup.py'\"'\"'; __file__='\"'\"'C:\\\\Users\\\\mathe\\\\AppData\\\\Local\\\\Temp\\\\pip-install-1z0_evsq\\\\python-levenshtein_6c4735aa26ea42efa20d22ba6c76367c\\\\setup.py'\"'\"';f = getattr(tokenize, '\"'\"'open'\"'\"', open)(__file__) if os.path.exists(__file__) else io.StringIO('\"'\"'from setuptools import setup; setup()'\"'\"');code = f.read().replace('\"'\"'\\r\\n'\"'\"', '\"'\"'\\n'\"'\"');f.close();exec(compile(code, __file__, '\"'\"'exec'\"'\"'))' install --record 'C:\\Users\\mathe\\AppData\\Local\\Temp\\pip-record-bb6h7w6x\\install-record.txt' --single-version-externally-managed --compile --install-headers 'C:\\Users\\mathe\\PycharmProjects\\pythonProject\\venv\\include\\site\\python3.10\\python-levenshtein' Check the logs for full command output.\n",
      "WARNING: You are using pip version 21.3.1; however, version 22.2.2 is available.\n",
      "You should consider upgrading via the 'C:\\Users\\mathe\\PycharmProjects\\pythonProject\\venv\\Scripts\\python.exe -m pip install --upgrade pip' command.\n"
     ]
    },
    {
     "name": "stdout",
     "output_type": "stream",
     "text": [
      "Requirement already satisfied: fuzzywuzzy[speedup] in c:\\users\\mathe\\pycharmprojects\\pythonproject\\venv\\lib\\site-packages (0.18.0)\n",
      "Collecting python-levenshtein>=0.12\n",
      "  Downloading python-Levenshtein-0.12.2.tar.gz (50 kB)\n",
      "  Preparing metadata (setup.py): started\n",
      "  Preparing metadata (setup.py): finished with status 'done'\n",
      "Requirement already satisfied: setuptools in c:\\users\\mathe\\pycharmprojects\\pythonproject\\venv\\lib\\site-packages (from python-levenshtein>=0.12->fuzzywuzzy[speedup]) (60.2.0)\n",
      "Building wheels for collected packages: python-levenshtein\n",
      "  Building wheel for python-levenshtein (setup.py): started\n",
      "  Building wheel for python-levenshtein (setup.py): finished with status 'error'\n",
      "  Running setup.py clean for python-levenshtein\n",
      "Failed to build python-levenshtein\n",
      "Installing collected packages: python-levenshtein\n",
      "    Running setup.py install for python-levenshtein: started\n",
      "    Running setup.py install for python-levenshtein: finished with status 'error'\n"
     ]
    },
    {
     "ename": "OSError",
     "evalue": "Background processes not supported.",
     "output_type": "error",
     "traceback": [
      "\u001B[1;31m---------------------------------------------------------------------------\u001B[0m",
      "\u001B[1;31mOSError\u001B[0m                                   Traceback (most recent call last)",
      "Input \u001B[1;32mIn [1]\u001B[0m, in \u001B[0;36m<cell line: 5>\u001B[1;34m()\u001B[0m\n\u001B[0;32m      3\u001B[0m get_ipython()\u001B[38;5;241m.\u001B[39msystem(\u001B[38;5;124m'\u001B[39m\u001B[38;5;124mpip install -q streamlit_ace\u001B[39m\u001B[38;5;124m'\u001B[39m)\n\u001B[0;32m      4\u001B[0m get_ipython()\u001B[38;5;241m.\u001B[39msystem(\u001B[38;5;124m'\u001B[39m\u001B[38;5;124mpip install fuzzywuzzy[speedup]\u001B[39m\u001B[38;5;124m'\u001B[39m)\n\u001B[1;32m----> 5\u001B[0m \u001B[43mget_ipython\u001B[49m\u001B[43m(\u001B[49m\u001B[43m)\u001B[49m\u001B[38;5;241;43m.\u001B[39;49m\u001B[43msystem\u001B[49m\u001B[43m(\u001B[49m\u001B[38;5;124;43m'\u001B[39;49m\u001B[38;5;124;43mstreamlit run app.py & > / dev / null &\u001B[39;49m\u001B[38;5;124;43m'\u001B[39;49m\u001B[43m)\u001B[49m\n",
      "File \u001B[1;32m~\\PycharmProjects\\pythonProject\\venv\\lib\\site-packages\\ipykernel\\zmqshell.py:617\u001B[0m, in \u001B[0;36mZMQInteractiveShell.system_piped\u001B[1;34m(self, cmd)\u001B[0m\n\u001B[0;32m    602\u001B[0m \u001B[38;5;124;03m\"\"\"Call the given cmd in a subprocess, piping stdout/err\u001B[39;00m\n\u001B[0;32m    603\u001B[0m \n\u001B[0;32m    604\u001B[0m \u001B[38;5;124;03mParameters\u001B[39;00m\n\u001B[1;32m   (...)\u001B[0m\n\u001B[0;32m    609\u001B[0m \u001B[38;5;124;03m    other than simple text.\u001B[39;00m\n\u001B[0;32m    610\u001B[0m \u001B[38;5;124;03m\"\"\"\u001B[39;00m\n\u001B[0;32m    611\u001B[0m \u001B[38;5;28;01mif\u001B[39;00m cmd\u001B[38;5;241m.\u001B[39mrstrip()\u001B[38;5;241m.\u001B[39mendswith(\u001B[38;5;124m\"\u001B[39m\u001B[38;5;124m&\u001B[39m\u001B[38;5;124m\"\u001B[39m):\n\u001B[0;32m    612\u001B[0m     \u001B[38;5;66;03m# this is *far* from a rigorous test\u001B[39;00m\n\u001B[0;32m    613\u001B[0m     \u001B[38;5;66;03m# We do not support backgrounding processes because we either use\u001B[39;00m\n\u001B[0;32m    614\u001B[0m     \u001B[38;5;66;03m# pexpect or pipes to read from.  Users can always just call\u001B[39;00m\n\u001B[0;32m    615\u001B[0m     \u001B[38;5;66;03m# os.system() or use ip.system=ip.system_raw\u001B[39;00m\n\u001B[0;32m    616\u001B[0m     \u001B[38;5;66;03m# if they really want a background process.\u001B[39;00m\n\u001B[1;32m--> 617\u001B[0m     \u001B[38;5;28;01mraise\u001B[39;00m \u001B[38;5;167;01mOSError\u001B[39;00m(\u001B[38;5;124m\"\u001B[39m\u001B[38;5;124mBackground processes not supported.\u001B[39m\u001B[38;5;124m\"\u001B[39m)\n\u001B[0;32m    619\u001B[0m \u001B[38;5;66;03m# we explicitly do NOT return the subprocess status code, because\u001B[39;00m\n\u001B[0;32m    620\u001B[0m \u001B[38;5;66;03m# a non-None value would trigger :func:`sys.displayhook` calls.\u001B[39;00m\n\u001B[0;32m    621\u001B[0m \u001B[38;5;66;03m# Instead, we store the exit_code in user_ns.\u001B[39;00m\n\u001B[0;32m    622\u001B[0m \u001B[38;5;66;03m# Also, protect system call from UNC paths on Windows here too\u001B[39;00m\n\u001B[0;32m    623\u001B[0m \u001B[38;5;66;03m# as is done in InteractiveShell.system_raw\u001B[39;00m\n\u001B[0;32m    624\u001B[0m \u001B[38;5;28;01mif\u001B[39;00m sys\u001B[38;5;241m.\u001B[39mplatform \u001B[38;5;241m==\u001B[39m \u001B[38;5;124m\"\u001B[39m\u001B[38;5;124mwin32\u001B[39m\u001B[38;5;124m\"\u001B[39m:\n",
      "\u001B[1;31mOSError\u001B[0m: Background processes not supported."
     ]
    }
   ],
   "source": [
    "!pip install -q pyngrok\n",
    "!pip install -q streamlit\n",
    "!pip install -q streamlit_ace\n",
    "!pip install fuzzywuzzy[speedup]\n",
    "!streamlit run app.py & > / dev / null &"
   ],
   "metadata": {
    "collapsed": false,
    "pycharm": {
     "name": "#%%\n"
    }
   }
  },
  {
   "cell_type": "code",
   "execution_count": 3,
   "outputs": [
    {
     "name": "stdout",
     "output_type": "stream",
     "text": [
      "Overwriting app.py\n"
     ]
    }
   ],
   "source": [
    "%%writefile app.py\n",
    "import streamlit as st\n",
    "import json\n",
    "import requests as req\n",
    "from fuzzywuzzy import process\n",
    "from fuzzywuzzy import fuzz\n",
    "from pyngrok import ngrok\n",
    "\n",
    "def main():\n",
    "    html_temp = \"\"\" <div style =\"background-color:blue;padding:13px\">\n",
    "                      <h1 style = \"color:white;text-align:center;\">Ola parceiro, publique seus itens</h1>\n",
    "                    </dic>\n",
    "                \"\"\"\n",
    "    st.markdown(html_temp, unsafe_allow_html = True)\n",
    "    item = st.text_input(\"item\")\n",
    "\n",
    "    def verificarNome(item):\n",
    "      res = req.get(\"https://www.github.com/kndhvh/kndhvh.github.io\")\n",
    "      dict = res.json()['eleicao']\n",
    "      lista_fuzy = process.extract(item,dict)\n",
    "      resultado = []\n",
    "      for sublinha in lista_fuzy:\n",
    "        if sublinha[1]> 80:\n",
    "          resultado.append(sublinha)\n",
    "      if len(resultado) >= 1:\n",
    "        st.success(\"Atencao as fake news\")\n",
    "\n",
    "    if st.button(\"Verificar\"):\n",
    "      verificarNome(item)\n",
    "if __name__=='__main__':\n",
    "  main()"
   ],
   "metadata": {
    "collapsed": false,
    "pycharm": {
     "name": "#%%\n"
    }
   }
  }
 ],
 "metadata": {
  "kernelspec": {
   "display_name": "Python 3",
   "language": "python",
   "name": "python3"
  },
  "language_info": {
   "codemirror_mode": {
    "name": "ipython",
    "version": 2
   },
   "file_extension": ".py",
   "mimetype": "text/x-python",
   "name": "python",
   "nbconvert_exporter": "python",
   "pygments_lexer": "ipython2",
   "version": "2.7.6"
  }
 },
 "nbformat": 4,
 "nbformat_minor": 0
}