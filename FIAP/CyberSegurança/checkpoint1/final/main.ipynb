{
  "cells": [
    {
      "cell_type": "markdown",
      "source": [
        "# Instalando as bibliotecas\n"
      ],
      "metadata": {
        "id": "uMJb_bzA8SwM"
      }
    },
    {
      "cell_type": "code",
      "execution_count": null,
      "metadata": {
        "collapsed": true,
        "id": "Ey4SSeU68K2A"
      },
      "outputs": [],
      "source": [
        "!pip install -q pyngrok\n",
        "!pip install -q streamlit\n",
        "!pip install -q streamlit_ace\n",
        "!pip install fuzzywuzzy[speedup]\n",
        "!streamlit run app.py & > / dev / null &"
      ]
    },
    {
      "cell_type": "code",
      "source": [
        "%%writefile app.py\n",
        "import streamlit as st\n",
        "import requests as req\n",
        "import re\n",
        "from fuzzywuzzy import process\n",
        "from pyngrok import ngrok\n",
        "\n",
        "def main():\n",
        "    html_temp = \"\"\" <div style =\"background-color:blue;padding:13px\">\n",
        "                      <h1 style = \"color:white;text-align:center;\">Verificador Passageiro - PFA</h1>\n",
        "                    </dic>\n",
        "                \"\"\"\n",
        "\n",
        "    st.markdown(html_temp, unsafe_allow_html = True)\n",
        "    lista_passaporte = api_passaport()\n",
        "    lista_nome = api_nome()\n",
        "\n",
        "    lista_passaporte= regexlist(lista_passaporte)\n",
        "\n",
        "    input_passaporte = st.text_input('Passaporte')\n",
        "    input_nome = st.text_input('Nome Completo')\n",
        "\n",
        "    input_passaporte = re.sub('\\D', '', input_passaporte)\n",
        "\n",
        "    if st.button(\"Verificar\"):\n",
        "        valid_passa(input_passaporte,lista_passaporte)\n",
        "        valid_nome(input_nome,lista_passaporte)\n",
        "\n",
        "def api_nome():\n",
        "    lista_nome = []\n",
        "    lista_interpol = req.get(\"https://cspinheiro.github.io/interpol.json\")\n",
        "    interpol = lista_interpol.json()['interpol']\n",
        "    for i in interpol:\n",
        "        lista_nome.append(i['interpol'])\n",
        "\n",
        "    return lista_nome\n",
        "\n",
        "def api_passaport():\n",
        "    lista_passaporte = []\n",
        "    lista_arg = req.get(\"https://kndhvh.github.io/arg.json\")\n",
        "    arg = lista_arg.json()['arg']\n",
        "    for i in arg:\n",
        "        lista_passaporte.append(str(i['arg']))\n",
        "    return lista_passaporte\n",
        "\n",
        "def regexlist(lista):\n",
        "\n",
        "    a='(?i)'\n",
        "\n",
        "    for i in lista:\n",
        "        a += f\"({i})|\"\n",
        "\n",
        "    a = a[:-1]\n",
        "\n",
        "    return a\n",
        "\n",
        "def getmatch_nome(input,lista):\n",
        "    search_list = process.extract(input,lista)\n",
        "    result=[]\n",
        "    result2=[]\n",
        "\n",
        "    for text in search_list:\n",
        "        if text[1] > 90:\n",
        "          result2.append(text)\n",
        "        if text[1] > 50:\n",
        "          result.append(text)\n",
        "\n",
        "        if len(result2) > 0:\n",
        "            return 2\n",
        "        elif len(result) == 0:\n",
        "            return 0\n",
        "        return 1\n",
        "\n",
        "def valid_nome(input_nome,lista_nome):\n",
        "  if len(input_nome) > 4 and len(re.split('\\s',input_nome)) >= 2:\n",
        "      nome = getmatch_nome(input_nome,lista_nome)\n",
        "      if nome == 2:\n",
        "          st.error('[CUIDADO] Nome sujo, deter imediatamente!')\n",
        "      elif nome == 1:\n",
        "          st.error('[CUIDADO] Nome suspeito, favor investigar!')\n",
        "      else:\n",
        "          st.sucess('[VERIFICADO] Passageiro liberado para entrada no pais!')\n",
        "  else:\n",
        "      st.warning('Nome Invalido!')\n",
        "\n",
        "def getmatch_passa(input,lista):\n",
        "    match = re.search(lista,input)\n",
        "\n",
        "    if match:\n",
        "        return 1\n",
        "    else:\n",
        "        return 0\n",
        "\n",
        "def valid_passa(input_passaporte,lista_passaporte):\n",
        "      if len(input_passaporte) == 9:\n",
        "        passa = getmatch_passa(input_passaporte,lista_passaporte)\n",
        "        if passa == 1:\n",
        "            st.error('[CUIDADO] Passaporte proibido, deter imediatamente!')\n",
        "      else:\n",
        "        st.warning('Passaporte Invalido!')\n",
        "\n",
        "if __name__ == '__main__':\n",
        "    main()"
      ],
      "metadata": {
        "id": "GjEKnPwr8bts",
        "outputId": "ab7949ec-e4b5-462e-e6ad-aa224681b61b",
        "colab": {
          "base_uri": "https://localhost:8080/"
        }
      },
      "execution_count": 5,
      "outputs": [
        {
          "output_type": "stream",
          "name": "stdout",
          "text": [
            "Overwriting app.py\n"
          ]
        }
      ]
    },
    {
      "cell_type": "code",
      "source": [
        "!streamlit run app.py & npx localtunnel --port 8501"
      ],
      "metadata": {
        "id": "jMLGHpSi8eVD",
        "outputId": "36d805f6-84c2-4ddf-8a1c-901656203133",
        "colab": {
          "base_uri": "https://localhost:8080/"
        }
      },
      "execution_count": 6,
      "outputs": [
        {
          "output_type": "stream",
          "name": "stdout",
          "text": [
            "2022-04-27 21:38:22.387 INFO    numexpr.utils: NumExpr defaulting to 2 threads.\n",
            "\u001b[K\u001b[?25hnpx: installed 22 in 2.532s\n",
            "your url is: https://giant-wombat-100.loca.lt\n",
            "\u001b[0m\n",
            "\u001b[34m\u001b[1m  You can now view your Streamlit app in your browser.\u001b[0m\n",
            "\u001b[0m\n",
            "\u001b[34m  Network URL: \u001b[0m\u001b[1mhttp://172.28.0.2:8501\u001b[0m\n",
            "\u001b[34m  External URL: \u001b[0m\u001b[1mhttp://35.199.43.0:8501\u001b[0m\n",
            "\u001b[0m\n",
            "2022-04-27 21:38:57.717 Traceback (most recent call last):\n",
            "  File \"/usr/local/lib/python3.7/dist-packages/streamlit/scriptrunner/script_runner.py\", line 443, in _run_script\n",
            "    exec(code, module.__dict__)\n",
            "  File \"/content/app.py\", line 102, in <module>\n",
            "    main()\n",
            "  File \"/content/app.py\", line 26, in main\n",
            "    valid_nome(input_nome,lista_passaporte)\n",
            "  File \"/content/app.py\", line 81, in valid_nome\n",
            "    st.sucess('[VERIFICADO] Passageiro liberado para entrada no pais!')\n",
            "AttributeError: module 'streamlit' has no attribute 'sucess'\n",
            "\n",
            "\u001b[34m  Stopping...\u001b[0m\n",
            "^C\n"
          ]
        }
      ]
    }
  ],
  "metadata": {
    "kernelspec": {
      "display_name": "Python 3",
      "language": "python",
      "name": "python3"
    },
    "language_info": {
      "codemirror_mode": {
        "name": "ipython",
        "version": 2
      },
      "file_extension": ".py",
      "mimetype": "text/x-python",
      "name": "python",
      "nbconvert_exporter": "python",
      "pygments_lexer": "ipython2",
      "version": "2.7.6"
    },
    "colab": {
      "name": "main.ipynb",
      "provenance": []
    }
  },
  "nbformat": 4,
  "nbformat_minor": 0
}