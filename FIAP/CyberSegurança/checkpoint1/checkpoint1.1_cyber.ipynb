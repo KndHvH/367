{
 "cells": [
  {
   "cell_type": "markdown",
   "source": [
    "# Instalando as bibliotecas\n",
    "\n",
    "\n"
   ],
   "metadata": {
    "id": "MgDg-ZgP0QSY"
   }
  },
  {
   "cell_type": "code",
   "execution_count": 1,
   "metadata": {
    "collapsed": true,
    "id": "LoppkSqzCS_h",
    "colab": {
     "base_uri": "https://localhost:8080/"
    },
    "outputId": "3dc9bc90-441b-45da-c180-187087c1caf1"
   },
   "outputs": [
    {
     "name": "stdout",
     "output_type": "stream",
     "text": [
      "Requirement already satisfied: fuzzywuzzy[speedup] in c:\\users\\mathe\\pycharmprojects\\120121\\venv\\lib\\site-packages (0.18.0)\n",
      "Requirement already satisfied: python-levenshtein>=0.12 in c:\\users\\mathe\\pycharmprojects\\120121\\venv\\lib\\site-packages (from fuzzywuzzy[speedup]) (0.12.2)\n",
      "Requirement already satisfied: setuptools in c:\\users\\mathe\\pycharmprojects\\120121\\venv\\lib\\site-packages (from python-levenshtein>=0.12->fuzzywuzzy[speedup]) (57.0.0)\n"
     ]
    },
    {
     "ename": "OSError",
     "evalue": "Background processes not supported.",
     "output_type": "error",
     "traceback": [
      "\u001B[1;31m---------------------------------------------------------------------------\u001B[0m",
      "\u001B[1;31mOSError\u001B[0m                                   Traceback (most recent call last)",
      "Input \u001B[1;32mIn [1]\u001B[0m, in \u001B[0;36m<cell line: 5>\u001B[1;34m()\u001B[0m\n\u001B[0;32m      3\u001B[0m get_ipython()\u001B[38;5;241m.\u001B[39msystem(\u001B[38;5;124m'\u001B[39m\u001B[38;5;124mpip install -q streamlit_ace\u001B[39m\u001B[38;5;124m'\u001B[39m)\n\u001B[0;32m      4\u001B[0m get_ipython()\u001B[38;5;241m.\u001B[39msystem(\u001B[38;5;124m'\u001B[39m\u001B[38;5;124mpip install fuzzywuzzy[speedup]\u001B[39m\u001B[38;5;124m'\u001B[39m)\n\u001B[1;32m----> 5\u001B[0m \u001B[43mget_ipython\u001B[49m\u001B[43m(\u001B[49m\u001B[43m)\u001B[49m\u001B[38;5;241;43m.\u001B[39;49m\u001B[43msystem\u001B[49m\u001B[43m(\u001B[49m\u001B[38;5;124;43m'\u001B[39;49m\u001B[38;5;124;43mstreamlit run app.py & > / dev / null &\u001B[39;49m\u001B[38;5;124;43m'\u001B[39;49m\u001B[43m)\u001B[49m\n",
      "File \u001B[1;32m~\\PycharmProjects\\120121\\venv\\lib\\site-packages\\ipykernel\\zmqshell.py:621\u001B[0m, in \u001B[0;36mZMQInteractiveShell.system_piped\u001B[1;34m(self, cmd)\u001B[0m\n\u001B[0;32m    606\u001B[0m \u001B[38;5;124;03m\"\"\"Call the given cmd in a subprocess, piping stdout/err\u001B[39;00m\n\u001B[0;32m    607\u001B[0m \n\u001B[0;32m    608\u001B[0m \u001B[38;5;124;03mParameters\u001B[39;00m\n\u001B[1;32m   (...)\u001B[0m\n\u001B[0;32m    613\u001B[0m \u001B[38;5;124;03m    other than simple text.\u001B[39;00m\n\u001B[0;32m    614\u001B[0m \u001B[38;5;124;03m\"\"\"\u001B[39;00m\n\u001B[0;32m    615\u001B[0m \u001B[38;5;28;01mif\u001B[39;00m cmd\u001B[38;5;241m.\u001B[39mrstrip()\u001B[38;5;241m.\u001B[39mendswith(\u001B[38;5;124m'\u001B[39m\u001B[38;5;124m&\u001B[39m\u001B[38;5;124m'\u001B[39m):\n\u001B[0;32m    616\u001B[0m     \u001B[38;5;66;03m# this is *far* from a rigorous test\u001B[39;00m\n\u001B[0;32m    617\u001B[0m     \u001B[38;5;66;03m# We do not support backgrounding processes because we either use\u001B[39;00m\n\u001B[0;32m    618\u001B[0m     \u001B[38;5;66;03m# pexpect or pipes to read from.  Users can always just call\u001B[39;00m\n\u001B[0;32m    619\u001B[0m     \u001B[38;5;66;03m# os.system() or use ip.system=ip.system_raw\u001B[39;00m\n\u001B[0;32m    620\u001B[0m     \u001B[38;5;66;03m# if they really want a background process.\u001B[39;00m\n\u001B[1;32m--> 621\u001B[0m     \u001B[38;5;28;01mraise\u001B[39;00m \u001B[38;5;167;01mOSError\u001B[39;00m(\u001B[38;5;124m\"\u001B[39m\u001B[38;5;124mBackground processes not supported.\u001B[39m\u001B[38;5;124m\"\u001B[39m)\n\u001B[0;32m    623\u001B[0m \u001B[38;5;66;03m# we explicitly do NOT return the subprocess status code, because\u001B[39;00m\n\u001B[0;32m    624\u001B[0m \u001B[38;5;66;03m# a non-None value would trigger :func:`sys.displayhook` calls.\u001B[39;00m\n\u001B[0;32m    625\u001B[0m \u001B[38;5;66;03m# Instead, we store the exit_code in user_ns.\u001B[39;00m\n\u001B[0;32m    626\u001B[0m \u001B[38;5;66;03m# Also, protect system call from UNC paths on Windows here too\u001B[39;00m\n\u001B[0;32m    627\u001B[0m \u001B[38;5;66;03m# as is done in InteractiveShell.system_raw\u001B[39;00m\n\u001B[0;32m    628\u001B[0m \u001B[38;5;28;01mif\u001B[39;00m sys\u001B[38;5;241m.\u001B[39mplatform \u001B[38;5;241m==\u001B[39m \u001B[38;5;124m'\u001B[39m\u001B[38;5;124mwin32\u001B[39m\u001B[38;5;124m'\u001B[39m:\n",
      "\u001B[1;31mOSError\u001B[0m: Background processes not supported."
     ]
    }
   ],
   "source": [
    "!pip install -q pyngrok\n",
    "!pip install -q streamlit\n",
    "!pip install -q streamlit_ace\n",
    "!pip install fuzzywuzzy[speedup]\n",
    "!streamlit run app.py & > / dev / null &"
   ]
  },
  {
   "cell_type": "markdown",
   "source": [
    "# Importando as bibliotecas"
   ],
   "metadata": {
    "id": "EM_CN0eU0YUh"
   }
  },
  {
   "cell_type": "code",
   "execution_count": null,
   "outputs": [],
   "source": [
    "\n",
    "\n"
   ],
   "metadata": {
    "pycharm": {
     "name": "#%%\n"
    },
    "id": "FlvNzC6iCS_k"
   }
  },
  {
   "cell_type": "markdown",
   "source": [
    "# Definindo função para importar APIs\n",
    "\n",
    "\n"
   ],
   "metadata": {
    "id": "uNd1QVNI3O81"
   }
  },
  {
   "cell_type": "code",
   "source": [
    "\n",
    "\n",
    "# import requests as req\n",
    "\n",
    "# def api(lista_nome,lista_passaporte):\n",
    "\n",
    "#   lista_interpol = req.get(\"https://cspinheiro.github.io/interpol.json\")\n",
    "#   lista_arg = req.get(\"https://kndhvh.github.io/arg.json\")\n",
    "    \n",
    "\n",
    "#   # Limpando os dados\n",
    "#   arg = lista_arg.json()['arg']\n",
    "#   interpol = lista_interpol.json()['interpol']\n",
    "\n",
    "#   # colocando apenas o conteudo das duas APIs em 2 listas para facil leitura.\n",
    "#   for i in arg:\n",
    "#     lista_passaporte.append(i['arg'])\n",
    "\n",
    "#   for i in interpol:\n",
    "#     lista_nome.append(i['interpol'])"
   ],
   "metadata": {
    "colab": {
     "base_uri": "https://localhost:8080/"
    },
    "id": "_5a_oczq2Ggc",
    "outputId": "9928b204-cb5f-49d6-ee35-eb6048239eb5"
   },
   "execution_count": null,
   "outputs": []
  },
  {
   "cell_type": "markdown",
   "source": [
    "# Criando funções para verificar se algum passaporte ou nome batem com o inserido, usando fuzzywuzzy.\n",
    "\n",
    "\n",
    "\n"
   ],
   "metadata": {
    "id": "uvYsF9ZR4uHP"
   }
  },
  {
   "cell_type": "code",
   "source": [
    "# def getmatch(field,list):\n",
    "#     search_list = process.extract(field,list)\n",
    "#     result=[]\n",
    "#     result2=[]\n",
    "\n",
    "#     for text in search_list:\n",
    "#         if text[1] > 90:\n",
    "#           result2.append(text)\n",
    "#         if text[1] > 50:\n",
    "#           result.append(text)\n",
    "\n",
    "#         if len(result2) > 0:\n",
    "#             return 2 \n",
    "#         elif len(result) == 0:\n",
    "#             return 0\n",
    "#         return 1 "
   ],
   "metadata": {
    "id": "YPbUQV7o4h4q"
   },
   "execution_count": null,
   "outputs": []
  },
  {
   "cell_type": "markdown",
   "source": [
    "# Funcao criacao Web Page"
   ],
   "metadata": {
    "collapsed": false,
    "id": "vF-ylHeECS_l"
   }
  },
  {
   "cell_type": "code",
   "execution_count": null,
   "outputs": [],
   "source": [
    "%%writefile app.py\n",
    "import streamlit as st\n",
    "import requests as req\n",
    "import re\n",
    "from fuzzywuzzy import process\n",
    "from pyngrok import ngrok\n",
    "\n",
    "\n",
    "def main():\n",
    "  html_temp = \"\"\" <div style =\"background-color:blue;padding:13px\">\n",
    "                    <h1 style = \"color:white;text-align:center;\">Verificador Passageiro - PFA</h1>\n",
    "                  </dic>\n",
    "              \"\"\"\n",
    "\n",
    "  st.markdown(html_temp, unsafe_allow_html = True)\n",
    "\n",
    "  lista_nome=[]\n",
    "  lista_passaporte=[]\n",
    "\n",
    "  # Importando as apis em forma de lista\n",
    "  def api(lista_nome,lista_passaporte):\n",
    "\n",
    "    lista_interpol = req.get(\"https://cspinheiro.github.io/interpol.json\")\n",
    "    lista_arg = req.get(\"https://kndhvh.github.io/arg.json\")\n",
    "      \n",
    "\n",
    "    # Limpando os dados\n",
    "    arg = lista_arg.json()['arg']\n",
    "    interpol = lista_interpol.json()['interpol']\n",
    "\n",
    "    # colocando apenas o conteudo das duas APIs em 2 listas para facil leitura.\n",
    "    for i in arg:\n",
    "      lista_passaporte.append(i['arg'])\n",
    "\n",
    "    for i in interpol:\n",
    "      lista_nome.append(i['interpol'])\n",
    "  api(lista_nome,lista_passaporte)\n",
    "\n",
    "  # pedindo os dados pro usuario\n",
    "  input_passaporte = st.text_input('Passaporte')\n",
    "  input_nome = st.text_input('Nome Completo')\n",
    "  \n",
    "\n",
    "  # Limpando os dados inputados\n",
    "  input_passaporte = re.sub('\\D','',input_passaporte)\n",
    "\n",
    "  # funcao para validar os dados inputados e comparar com base de dados\n",
    "  def valid(input_passaporte,input_nome,lista_nome,lista_passaporte):\n",
    "    if st.button(\"Verificar\"):\n",
    "      if len(input_passaporte) == 9 and len(input_nome) > 4 and len(re.split('\\s',input_nome)) >= 2:\n",
    "        passa = getmatch(lista_passaporte,input_passaporte)\n",
    "        if passa == 2:\n",
    "          st.error('[CUIDADO] Passaporte proibido, deter imediatamente!')\n",
    "        elif passa == 1:\n",
    "          st.error('[CUIDADO] Passaporte suspeito, favor investigar!')\n",
    "        else:\n",
    "          nome = getmatch(lista_nome,input_nome)\n",
    "\n",
    "        if nome == 2:\n",
    "          st.error('[CUIDADO] Nome sujo, deter imediatamente!')\n",
    "        elif nome == 1:\n",
    "          st.error('[CUIDADO] Nome suspeito, favor investigar!')\n",
    "        else:\n",
    "          st.sucess('[VERIFICADO] Passageiro liberado para entrada no pais!')\n",
    "\n",
    "      else:\n",
    "        st.warning('Nome ou passaporte Invalidos!')\n",
    "  def getmatch(field,lista_pn):\n",
    "    search_list = process.extract(field,lista_pn)\n",
    "    result=[]\n",
    "    result2=[]\n",
    "\n",
    "    for text in search_list:\n",
    "        if text[1] > 90:\n",
    "          result2.append(text)\n",
    "        if text[1] > 50:\n",
    "          result.append(text)\n",
    "\n",
    "        if len(result2) > 0:\n",
    "            return 2 \n",
    "        elif len(result) == 0:\n",
    "            return 0\n",
    "        return 1\n",
    "  valid(input_passaporte,input_nome,lista_nome,lista_passaporte)\n",
    "if __name__=='__main__':\n",
    "    main()"
   ],
   "metadata": {
    "pycharm": {
     "name": "#%%\n"
    },
    "colab": {
     "base_uri": "https://localhost:8080/"
    },
    "id": "Ig1hMjWeCS_n",
    "outputId": "dc4e43c9-c0a3-46fe-ae99-41333844b38b"
   }
  },
  {
   "cell_type": "code",
   "execution_count": null,
   "outputs": [],
   "source": [
    "!streamlit run app.py & npx localtunnel --port 8501"
   ],
   "metadata": {
    "pycharm": {
     "name": "#%%\n"
    },
    "id": "olE5TFhSCS_o",
    "colab": {
     "base_uri": "https://localhost:8080/"
    },
    "outputId": "4ce70745-b1bf-44bc-f872-8bd7cc55513b"
   }
  },
  {
   "cell_type": "code",
   "source": [
    ""
   ],
   "metadata": {
    "id": "uqrd2UV1t3nT"
   },
   "execution_count": null,
   "outputs": []
  },
  {
   "cell_type": "code",
   "source": [
    ""
   ],
   "metadata": {
    "id": "BXqBLNDqt3i6"
   },
   "execution_count": null,
   "outputs": []
  },
  {
   "cell_type": "code",
   "source": [
    ""
   ],
   "metadata": {
    "id": "aML2eWfet3gp"
   },
   "execution_count": null,
   "outputs": []
  },
  {
   "cell_type": "code",
   "source": [
    ""
   ],
   "metadata": {
    "id": "mwyyWeCmt3dq"
   },
   "execution_count": null,
   "outputs": []
  },
  {
   "cell_type": "code",
   "source": [
    ""
   ],
   "metadata": {
    "id": "x1r4qdwDt3Wp"
   },
   "execution_count": null,
   "outputs": []
  },
  {
   "cell_type": "code",
   "source": [
    ""
   ],
   "metadata": {
    "id": "iZQGuuvKuVBF"
   },
   "execution_count": null,
   "outputs": []
  }
 ],
 "metadata": {
  "kernelspec": {
   "display_name": "Python 3",
   "language": "python",
   "name": "python3"
  },
  "language_info": {
   "codemirror_mode": {
    "name": "ipython",
    "version": 2
   },
   "file_extension": ".py",
   "mimetype": "text/x-python",
   "name": "python",
   "nbconvert_exporter": "python",
   "pygments_lexer": "ipython2",
   "version": "2.7.6"
  },
  "colab": {
   "name": "checkpoint1.1_cyber.ipynb",
   "provenance": []
  }
 },
 "nbformat": 4,
 "nbformat_minor": 0
}