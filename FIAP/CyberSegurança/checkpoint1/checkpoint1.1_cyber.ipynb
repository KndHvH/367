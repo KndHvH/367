{
  "cells": [
    {
      "cell_type": "markdown",
      "source": [
        "# Instalando as bibliotecas\n",
        "\n",
        "\n"
      ],
      "metadata": {
        "id": "MgDg-ZgP0QSY"
      }
    },
    {
      "cell_type": "code",
      "execution_count": 71,
      "metadata": {
        "collapsed": true,
        "pycharm": {
          "is_executing": true
        },
        "id": "LoppkSqzCS_h",
        "outputId": "73fee9c5-3fbb-4797-ffee-a854246a7cf1",
        "colab": {
          "base_uri": "https://localhost:8080/"
        }
      },
      "outputs": [
        {
          "output_type": "stream",
          "name": "stdout",
          "text": [
            "Requirement already satisfied: fuzzywuzzy[speedup] in /usr/local/lib/python3.7/dist-packages (0.18.0)\n",
            "Requirement already satisfied: python-levenshtein>=0.12 in /usr/local/lib/python3.7/dist-packages (from fuzzywuzzy[speedup]) (0.12.2)\n",
            "Requirement already satisfied: setuptools in /usr/local/lib/python3.7/dist-packages (from python-levenshtein>=0.12->fuzzywuzzy[speedup]) (57.4.0)\n",
            "/bin/bash: /: Is a directory\n",
            "2022-04-25 22:44:47.485 INFO    numexpr.utils: NumExpr defaulting to 2 threads.\n",
            "\u001b[0m\n",
            "\u001b[34m\u001b[1m  You can now view your Streamlit app in your browser.\u001b[0m\n",
            "\u001b[0m\n",
            "\u001b[34m  Network URL: \u001b[0m\u001b[1mhttp://172.28.0.2:8501\u001b[0m\n",
            "\u001b[34m  External URL: \u001b[0m\u001b[1mhttp://34.133.21.81:8501\u001b[0m\n",
            "\u001b[0m\n",
            "\u001b[34m  Stopping...\u001b[0m\n"
          ]
        }
      ],
      "source": [
        "!pip install -q pyngrok\n",
        "!pip install -q streamlit\n",
        "!pip install -q streamlit_ace\n",
        "!pip install fuzzywuzzy[speedup]\n",
        "!streamlit run app.py & > / dev / null &"
      ]
    },
    {
      "cell_type": "markdown",
      "source": [
        "# Importando as bibliotecas"
      ],
      "metadata": {
        "id": "EM_CN0eU0YUh"
      }
    },
    {
      "cell_type": "code",
      "execution_count": 46,
      "outputs": [],
      "source": [
        "\n",
        "import requests as req\n",
        "from fuzzywuzzy import process\n",
        "from pyngrok import ngrok"
      ],
      "metadata": {
        "pycharm": {
          "name": "#%%\n"
        },
        "id": "FlvNzC6iCS_k"
      }
    },
    {
      "cell_type": "markdown",
      "source": [
        "# Definindo função para importar APIs\n",
        "\n",
        "\n"
      ],
      "metadata": {
        "id": "uNd1QVNI3O81"
      }
    },
    {
      "cell_type": "code",
      "source": [
        "def api(lista_nome,lista_passaporte):\n",
        "\n",
        "  lista_interpol = req.get(\"https://cspinheiro.github.io/interpol.json\")\n",
        "  lista_arg = req.get(\"https://kndhvh.github.io/arg.json\")\n",
        "    \n",
        "\n",
        "  # Limpando os dados\n",
        "  arg = lista_arg.json()['arg']\n",
        "  interpol = lista_interpol.json()['interpol']\n",
        "\n",
        "  # colocando apenas o conteudo das duas APIs em 2 listas para facil leitura.\n",
        "  for i in arg:\n",
        "    lista_passaporte.append(i['arg'])\n",
        "\n",
        "  for i in interpol:\n",
        "    lista_nome.append(i['interpol'])"
      ],
      "metadata": {
        "id": "_5a_oczq2Ggc"
      },
      "execution_count": 72,
      "outputs": []
    },
    {
      "cell_type": "markdown",
      "source": [
        "# Criando funções para verificar se algum passaporte ou nome batem com o inserido, usando fuzzywuzzy.\n",
        "\n",
        "\n",
        "\n"
      ],
      "metadata": {
        "id": "uvYsF9ZR4uHP"
      }
    },
    {
      "cell_type": "code",
      "source": [
        "def getmatch_passa(field,list):\n",
        "    search_list = process.extract(field,list)\n",
        "    result=[]\n",
        "    result2=[]\n",
        "\n",
        "    for text in search_list:\n",
        "        if text[1] > 90:\n",
        "          result2.append(text)\n",
        "        if text[1] > 50:\n",
        "          result.append(text)\n",
        "\n",
        "        if len(result2) > 0:\n",
        "            return 2 \n",
        "        elif len(result) == 0:\n",
        "            return 0\n",
        "        return 1 \n",
        "\n",
        "def getmatch_nome(field,list):\n",
        "    search_list = process.extract(field,list)\n",
        "    result=[]\n",
        "    result2=[]\n",
        "\n",
        "    for text in search_list:\n",
        "        if text[1] > 90:\n",
        "          result2.append(text)\n",
        "        if text[1] > 50:\n",
        "          result.append(text)\n",
        "\n",
        "        if len(result2) > 0:\n",
        "            return 2 #'[CUIDADO] Passaporte proibido, deter imediatamente!'\n",
        "        elif len(result) == 0:\n",
        "            return 0 #'Passaporte liberado!'\n",
        "        return 1 #'[CUIDADO] Passaporte suspeito, favor investigar!'\n"
      ],
      "metadata": {
        "id": "YPbUQV7o4h4q"
      },
      "execution_count": 74,
      "outputs": []
    },
    {
      "cell_type": "markdown",
      "source": [
        "# Funcao criacao Web Page"
      ],
      "metadata": {
        "collapsed": false,
        "id": "vF-ylHeECS_l"
      }
    },
    {
      "cell_type": "code",
      "execution_count": 69,
      "outputs": [
        {
          "output_type": "stream",
          "name": "stdout",
          "text": [
            "Overwriting app.py\n"
          ]
        }
      ],
      "source": [
        "%%writefile app.py\n",
        "import streamlit as st\n",
        "import requests as req\n",
        "import re\n",
        "\n",
        "def main():\n",
        "  html_temp = \"\"\" <div style =\"background-color:blue;padding:13px\">\n",
        "                    <h1 style = \"color:white;text-align:center;\">Verificador Passageiro - PFA</h1>\n",
        "                  </dic>\n",
        "              \"\"\"\n",
        "\n",
        "  st.markdown(html_temp, unsafe_allow_html = True)\n",
        "\n",
        "  lista_nome=[]\n",
        "  lista_passaporte=[]\n",
        "\n",
        "  # Importando as apis em forma de lista\n",
        "  api(lista_nome,lista_passaporte)\n",
        "\n",
        "  # pedindo os dados pro usuario\n",
        "  input_passaporte = st.text_input('Passaporte')\n",
        "  input_nome = st.text_input('Nome Completo')\n",
        "  \n",
        "  # Limpando os dados inputados\n",
        "  input_passaporte = re.sub('\\D','',input_passaporte)\n",
        "\n",
        "  # funcao para validar os dados inputados e comparar com base de dados\n",
        "  def valid(input_passaporte,input_nome,lista_nome,lista_passaporte):\n",
        "    if st.button(\"Verificar\"):\n",
        "      if len(input_passaporte) == 9 and len(input_nome) > 4 and len(re.split('\\s',input_nome)) >= 2:\n",
        "        passa = getmatch_passa(lista_passaporte,input_passaporte)\n",
        "        if passa == 2:\n",
        "          st.error('[CUIDADO] Passaporte proibido, deter imediatamente!')\n",
        "        elif passa == 1:\n",
        "          st.error('[CUIDADO] Passaporte suspeito, favor investigar!')\n",
        "        else:\n",
        "          nome = getmatch_nome\n",
        "      else:\n",
        "        st.warning('Nome ou passaporte Invalidos!')\n",
        "  \n",
        "if __name__=='__main__':\n",
        "    main()"
      ],
      "metadata": {
        "pycharm": {
          "name": "#%%\n"
        },
        "colab": {
          "base_uri": "https://localhost:8080/"
        },
        "id": "Ig1hMjWeCS_n",
        "outputId": "2ee59d4f-f280-4810-dabb-ab7649e10b70"
      }
    },
    {
      "cell_type": "code",
      "execution_count": 54,
      "outputs": [
        {
          "output_type": "stream",
          "name": "stdout",
          "text": [
            "2022-04-25 22:11:56.570 INFO    numexpr.utils: NumExpr defaulting to 2 threads.\n",
            "\u001b[K\u001b[?25hnpx: installed 22 in 2.767s\n",
            "your url is: https://average-ladybug-55.loca.lt\n",
            "\u001b[0m\n",
            "\u001b[34m\u001b[1m  You can now view your Streamlit app in your browser.\u001b[0m\n",
            "\u001b[0m\n",
            "\u001b[34m  Network URL: \u001b[0m\u001b[1mhttp://172.28.0.2:8501\u001b[0m\n",
            "\u001b[34m  External URL: \u001b[0m\u001b[1mhttp://34.133.21.81:8501\u001b[0m\n",
            "\u001b[0m\n",
            "\u001b[34m  Stopping...\u001b[0m\n",
            "^C\n"
          ]
        }
      ],
      "source": [
        "!streamlit run app.py & npx localtunnel --port 8501"
      ],
      "metadata": {
        "pycharm": {
          "name": "#%%\n",
          "is_executing": true
        },
        "id": "olE5TFhSCS_o",
        "outputId": "4b2b98d2-714e-4fc1-9ab3-b204da6a6b24",
        "colab": {
          "base_uri": "https://localhost:8080/"
        }
      }
    },
    {
      "cell_type": "code",
      "source": [
        ""
      ],
      "metadata": {
        "id": "uqrd2UV1t3nT"
      },
      "execution_count": null,
      "outputs": []
    },
    {
      "cell_type": "code",
      "source": [
        ""
      ],
      "metadata": {
        "id": "BXqBLNDqt3i6"
      },
      "execution_count": null,
      "outputs": []
    },
    {
      "cell_type": "code",
      "source": [
        ""
      ],
      "metadata": {
        "id": "aML2eWfet3gp"
      },
      "execution_count": null,
      "outputs": []
    },
    {
      "cell_type": "code",
      "source": [
        ""
      ],
      "metadata": {
        "id": "mwyyWeCmt3dq"
      },
      "execution_count": null,
      "outputs": []
    },
    {
      "cell_type": "code",
      "source": [
        ""
      ],
      "metadata": {
        "id": "x1r4qdwDt3Wp"
      },
      "execution_count": null,
      "outputs": []
    },
    {
      "cell_type": "code",
      "source": [
        ""
      ],
      "metadata": {
        "id": "iZQGuuvKuVBF"
      },
      "execution_count": null,
      "outputs": []
    }
  ],
  "metadata": {
    "kernelspec": {
      "display_name": "Python 3",
      "language": "python",
      "name": "python3"
    },
    "language_info": {
      "codemirror_mode": {
        "name": "ipython",
        "version": 2
      },
      "file_extension": ".py",
      "mimetype": "text/x-python",
      "name": "python",
      "nbconvert_exporter": "python",
      "pygments_lexer": "ipython2",
      "version": "2.7.6"
    },
    "colab": {
      "name": "checkpoint1.1_cyber.ipynb",
      "provenance": []
    }
  },
  "nbformat": 4,
  "nbformat_minor": 0
}