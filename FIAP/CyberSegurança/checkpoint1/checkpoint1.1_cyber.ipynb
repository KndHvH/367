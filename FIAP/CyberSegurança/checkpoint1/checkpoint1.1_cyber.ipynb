{
  "cells": [
    {
      "cell_type": "markdown",
      "metadata": {
        "id": "view-in-github",
        "colab_type": "text"
      },
      "source": [
        "<a href=\"https://colab.research.google.com/github/KndHvH/fanta/blob/1/FIAP/CyberSeguran%C3%A7a/checkpoint1/checkpoint1.1_cyber.ipynb\" target=\"_parent\"><img src=\"https://colab.research.google.com/assets/colab-badge.svg\" alt=\"Open In Colab\"/></a>"
      ]
    },
    {
      "cell_type": "code",
      "execution_count": null,
      "metadata": {
        "collapsed": true,
        "pycharm": {
          "is_executing": true
        },
        "id": "LoppkSqzCS_h"
      },
      "outputs": [],
      "source": [
        "!pip install -q pyngrok\n",
        "!pip install -q streamlit\n",
        "!pip install -q streamlit_ace\n",
        "!pip install fuzzywuzzy[speedup]\n",
        "# !streamlit run app.py & > / dev / null &"
      ]
    },
    {
      "cell_type": "code",
      "execution_count": 9,
      "outputs": [],
      "source": [
        "\n",
        "\n",
        "from fuzzywuzzy import process\n",
        "from pyngrok import ngrok"
      ],
      "metadata": {
        "pycharm": {
          "name": "#%%\n"
        },
        "id": "FlvNzC6iCS_k"
      }
    },
    {
      "cell_type": "markdown",
      "source": [
        "# Funcao criacao Web Page"
      ],
      "metadata": {
        "collapsed": false,
        "id": "vF-ylHeECS_l"
      }
    },
    {
      "cell_type": "code",
      "execution_count": 13,
      "outputs": [
        {
          "output_type": "stream",
          "name": "stdout",
          "text": [
            "Overwriting app.py\n"
          ]
        }
      ],
      "source": [
        "%%writefile app.py\n",
        "import streamlit as st\n",
        "import requests as req\n",
        "import re\n",
        "\n",
        "def main():\n",
        "  html_temp = \"\"\" <div style =\"background-color:blue;padding:13px\">\n",
        "                    <h1 style = \"color:white;text-align:center;\">Verificador Passageiro - PFA</h1>\n",
        "                  </dic>\n",
        "              \"\"\"\n",
        "\n",
        "  st.markdown(html_temp, unsafe_allow_html = True)\n",
        "\n",
        "\n",
        "  # Importando APIs\n",
        "  lista_interpol = req.get(\"https://cspinheiro.github.io/interpol.json\")\n",
        "  lista_arg = req.get(\"https://kndhvh.github.io/arg.json\")\n",
        "\n",
        "  # Limpando os dados\n",
        "  arg = lista_arg.json()['arg']\n",
        "  inter = lista_interpol.json()['interpol']\n",
        "\n",
        "  lista_nome=[]\n",
        "  lista_passaporte=[]\n",
        "\n",
        "  # colocando apenas o conteudo das duas APIs em 2 listas para facil leitura.\n",
        "  for i in arg:\n",
        "    lista_passaporte.append(i['arg'])\n",
        "\n",
        "  for i in inter:\n",
        "    lista_nome.append(i['interpol'])\n",
        "\n",
        "  # pedindo os dados pro usuario\n",
        "  input_passaporte = st.text_input('Passaporte')\n",
        "  input_nome = st.text_input('Nome Completo')\n",
        "\n",
        "\n",
        "  # Limpando os dados inputados\n",
        "\n",
        "    \n",
        "\n",
        "\n",
        "\n",
        "\n",
        "\n",
        "\n",
        "\n",
        "\n",
        "\n",
        "\n",
        "\n",
        "\n",
        "\n",
        "\n",
        "\n",
        "\n",
        "\n",
        "if __name__=='__main__':\n",
        "    main()"
      ],
      "metadata": {
        "pycharm": {
          "name": "#%%\n"
        },
        "id": "Ig1hMjWeCS_n",
        "outputId": "d9f13bd8-f7f2-480d-8e79-959cf2f9f190",
        "colab": {
          "base_uri": "https://localhost:8080/"
        }
      }
    },
    {
      "cell_type": "code",
      "execution_count": 14,
      "outputs": [
        {
          "output_type": "stream",
          "name": "stdout",
          "text": [
            "2022-04-25 19:21:52.989 INFO    numexpr.utils: NumExpr defaulting to 2 threads.\n",
            "\u001b[K\u001b[?25hnpx: installed 22 in 2.552s\n",
            "your url is: https://stale-newt-63.loca.lt\n",
            "\u001b[0m\n",
            "\u001b[34m\u001b[1m  You can now view your Streamlit app in your browser.\u001b[0m\n",
            "\u001b[0m\n",
            "\u001b[34m  Network URL: \u001b[0m\u001b[1mhttp://172.28.0.2:8501\u001b[0m\n",
            "\u001b[34m  External URL: \u001b[0m\u001b[1mhttp://35.230.49.238:8501\u001b[0m\n",
            "\u001b[0m\n",
            "\u001b[34m  Stopping...\u001b[0m\n",
            "^C\n"
          ]
        }
      ],
      "source": [
        "!streamlit run app.py & npx localtunnel --port 8501"
      ],
      "metadata": {
        "pycharm": {
          "name": "#%%\n",
          "is_executing": true
        },
        "id": "olE5TFhSCS_o",
        "outputId": "3bde718f-04a4-4db3-ce63-b2282a567c2c",
        "colab": {
          "base_uri": "https://localhost:8080/"
        }
      }
    },
    {
      "cell_type": "code",
      "execution_count": null,
      "outputs": [],
      "source": [
        ""
      ],
      "metadata": {
        "pycharm": {
          "name": "#%%\n",
          "is_executing": true
        },
        "id": "cl3LrYEBCS_o"
      }
    },
    {
      "cell_type": "code",
      "execution_count": null,
      "outputs": [],
      "source": [
        ""
      ],
      "metadata": {
        "pycharm": {
          "name": "#%%\n"
        },
        "id": "peYfDgCpCS_p"
      }
    },
    {
      "cell_type": "code",
      "execution_count": null,
      "outputs": [],
      "source": [
        ""
      ],
      "metadata": {
        "pycharm": {
          "name": "#%%\n"
        },
        "id": "SwRoJQ57CS_q"
      }
    },
    {
      "cell_type": "code",
      "execution_count": null,
      "outputs": [],
      "source": [
        ""
      ],
      "metadata": {
        "pycharm": {
          "name": "#%%\n"
        },
        "id": "5XtGQKHyCS_q"
      }
    },
    {
      "cell_type": "code",
      "execution_count": null,
      "outputs": [],
      "source": [
        ""
      ],
      "metadata": {
        "pycharm": {
          "name": "#%%\n"
        },
        "id": "NZy3XiezCS_r"
      }
    }
  ],
  "metadata": {
    "kernelspec": {
      "display_name": "Python 3",
      "language": "python",
      "name": "python3"
    },
    "language_info": {
      "codemirror_mode": {
        "name": "ipython",
        "version": 2
      },
      "file_extension": ".py",
      "mimetype": "text/x-python",
      "name": "python",
      "nbconvert_exporter": "python",
      "pygments_lexer": "ipython2",
      "version": "2.7.6"
    },
    "colab": {
      "name": "checkpoint1.1_cyber.ipynb",
      "provenance": [],
      "include_colab_link": true
    }
  },
  "nbformat": 4,
  "nbformat_minor": 0
}