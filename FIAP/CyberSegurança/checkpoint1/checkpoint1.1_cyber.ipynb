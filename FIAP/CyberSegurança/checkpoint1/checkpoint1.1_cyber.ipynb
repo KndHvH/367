{
  "cells": [
    {
      "cell_type": "code",
      "execution_count": null,
      "metadata": {
        "collapsed": true,
        "pycharm": {
          "is_executing": true
        },
        "id": "LoppkSqzCS_h"
      },
      "outputs": [],
      "source": [
        "!pip install -q pyngrok\n",
        "!pip install -q streamlit\n",
        "!pip install -q streamlit_ace\n",
        "!pip install fuzzywuzzy[speedup]\n",
        "# !streamlit run app.py & > / dev / null &"
      ]
    },
    {
      "cell_type": "code",
      "execution_count": 9,
      "outputs": [],
      "source": [
        "\n",
        "\n",
        "from fuzzywuzzy import process\n",
        "from pyngrok import ngrok"
      ],
      "metadata": {
        "pycharm": {
          "name": "#%%\n"
        },
        "id": "FlvNzC6iCS_k"
      }
    },
    {
      "cell_type": "markdown",
      "source": [
        "# Funcao criacao Web Page"
      ],
      "metadata": {
        "collapsed": false,
        "id": "vF-ylHeECS_l"
      }
    },
    {
      "cell_type": "code",
      "execution_count": 20,
      "outputs": [
        {
          "output_type": "stream",
          "name": "stdout",
          "text": [
            "Overwriting app.py\n"
          ]
        }
      ],
      "source": [
        "%%writefile app.py\n",
        "import streamlit as st\n",
        "import requests as req\n",
        "import re\n",
        "\n",
        "def main():\n",
        "  html_temp = \"\"\" <div style =\"background-color:blue;padding:13px\">\n",
        "                    <h1 style = \"color:white;text-align:center;\">Verificador Passageiro - PFA</h1>\n",
        "                  </dic>\n",
        "              \"\"\"\n",
        "\n",
        "  st.markdown(html_temp, unsafe_allow_html = True)\n",
        "\n",
        "\n",
        "  # Importando APIs\n",
        "  lista_interpol = req.get(\"https://cspinheiro.github.io/interpol.json\")\n",
        "  lista_arg = req.get(\"https://kndhvh.github.io/arg.json\")\n",
        "\n",
        "  # Limpando os dados\n",
        "  arg = lista_arg.json()['arg']\n",
        "  inter = lista_interpol.json()['interpol']\n",
        "\n",
        "  lista_nome=[]\n",
        "  lista_passaporte=[]\n",
        "\n",
        "  # colocando apenas o conteudo das duas APIs em 2 listas para facil leitura.\n",
        "  for i in arg:\n",
        "    lista_passaporte.append(i['arg'])\n",
        "\n",
        "  for i in inter:\n",
        "    lista_nome.append(i['interpol'])\n",
        "\n",
        "  # pedindo os dados pro usuario\n",
        "  while True:\n",
        "    input_passaporte = st.text_input('Passaporte')\n",
        "    input_nome = st.text_input('Nome Completo')\n",
        "\n",
        "\n",
        "    # Limpando os dados inputados\n",
        "    input_passaporte = re.sub('\\D','',input_passaporte)\n",
        "\n",
        "\n",
        "    # Validando dados inputados\n",
        "\n",
        "    if len(input_passaporte) == 9 and \\\n",
        "    len(input_nome) > 4 and \\\n",
        "    len(re.split('\\s',input_nome)) >= 2:\n",
        "      break\n",
        "    \n",
        "    else:\n",
        "      st.error('Nome ou passaporte Invalidos!')\n",
        "\n",
        "    \n",
        "\n",
        "\n",
        "\n",
        "\n",
        "\n",
        "\n",
        "\n",
        "\n",
        "\n",
        "\n",
        "\n",
        "\n",
        "\n",
        "\n",
        "\n",
        "\n",
        "\n",
        "if __name__=='__main__':\n",
        "    main()"
      ],
      "metadata": {
        "pycharm": {
          "name": "#%%\n"
        },
        "colab": {
          "base_uri": "https://localhost:8080/"
        },
        "id": "Ig1hMjWeCS_n",
        "outputId": "cc90be7f-5183-4acb-88d0-5fe7b1bac9d8"
      }
    },
    {
      "cell_type": "code",
      "execution_count": null,
      "outputs": [],
      "source": [
        "!streamlit run app.py & npx localtunnel --port 8501"
      ],
      "metadata": {
        "pycharm": {
          "name": "#%%\n",
          "is_executing": true
        },
        "id": "olE5TFhSCS_o"
      }
    },
    {
      "cell_type": "code",
      "source": [
        ""
      ],
      "metadata": {
        "id": "5CD55Ow-S0QR"
      },
      "execution_count": null,
      "outputs": []
    },
    {
      "cell_type": "code",
      "execution_count": null,
      "outputs": [],
      "source": [
        ""
      ],
      "metadata": {
        "pycharm": {
          "name": "#%%\n"
        },
        "id": "peYfDgCpCS_p"
      }
    },
    {
      "cell_type": "code",
      "execution_count": null,
      "outputs": [],
      "source": [
        ""
      ],
      "metadata": {
        "pycharm": {
          "name": "#%%\n"
        },
        "id": "SwRoJQ57CS_q"
      }
    },
    {
      "cell_type": "code",
      "execution_count": null,
      "outputs": [],
      "source": [
        ""
      ],
      "metadata": {
        "pycharm": {
          "name": "#%%\n"
        },
        "id": "5XtGQKHyCS_q"
      }
    },
    {
      "cell_type": "code",
      "execution_count": null,
      "outputs": [],
      "source": [
        ""
      ],
      "metadata": {
        "pycharm": {
          "name": "#%%\n"
        },
        "id": "NZy3XiezCS_r"
      }
    }
  ],
  "metadata": {
    "kernelspec": {
      "display_name": "Python 3",
      "language": "python",
      "name": "python3"
    },
    "language_info": {
      "codemirror_mode": {
        "name": "ipython",
        "version": 2
      },
      "file_extension": ".py",
      "mimetype": "text/x-python",
      "name": "python",
      "nbconvert_exporter": "python",
      "pygments_lexer": "ipython2",
      "version": "2.7.6"
    },
    "colab": {
      "name": "checkpoint1.1_cyber.ipynb",
      "provenance": []
    }
  },
  "nbformat": 4,
  "nbformat_minor": 0
}