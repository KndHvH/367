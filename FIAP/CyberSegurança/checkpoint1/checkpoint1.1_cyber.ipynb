{
  "cells": [
    {
      "cell_type": "markdown",
      "source": [
        "# Instalando as bibliotecas\n",
        "\n",
        "\n"
      ],
      "metadata": {
        "id": "MgDg-ZgP0QSY"
      }
    },
    {
      "cell_type": "code",
      "execution_count": 1,
      "metadata": {
        "collapsed": true,
        "pycharm": {
          "is_executing": true
        },
        "id": "LoppkSqzCS_h",
        "colab": {
          "base_uri": "https://localhost:8080/"
        },
        "outputId": "3dc9bc90-441b-45da-c180-187087c1caf1"
      },
      "outputs": [
        {
          "output_type": "stream",
          "name": "stdout",
          "text": [
            "Requirement already satisfied: fuzzywuzzy[speedup] in /usr/local/lib/python3.7/dist-packages (0.18.0)\n",
            "Requirement already satisfied: python-levenshtein>=0.12 in /usr/local/lib/python3.7/dist-packages (from fuzzywuzzy[speedup]) (0.12.2)\n",
            "Requirement already satisfied: setuptools in /usr/local/lib/python3.7/dist-packages (from python-levenshtein>=0.12->fuzzywuzzy[speedup]) (57.4.0)\n",
            "/bin/bash: /: Is a directory\n",
            "2022-04-26 00:21:25.057 INFO    numexpr.utils: NumExpr defaulting to 2 threads.\n",
            "\u001b[0m\n",
            "\u001b[34m\u001b[1m  You can now view your Streamlit app in your browser.\u001b[0m\n",
            "\u001b[0m\n",
            "\u001b[34m  Network URL: \u001b[0m\u001b[1mhttp://172.28.0.2:8501\u001b[0m\n",
            "\u001b[34m  External URL: \u001b[0m\u001b[1mhttp://34.133.21.81:8501\u001b[0m\n",
            "\u001b[0m\n",
            "\u001b[34m  Stopping...\u001b[0m\n"
          ]
        }
      ],
      "source": [
        "!pip install -q pyngrok\n",
        "!pip install -q streamlit\n",
        "!pip install -q streamlit_ace\n",
        "!pip install fuzzywuzzy[speedup]\n",
        "!streamlit run app.py & > / dev / null &"
      ]
    },
    {
      "cell_type": "markdown",
      "source": [
        "# Importando as bibliotecas"
      ],
      "metadata": {
        "id": "EM_CN0eU0YUh"
      }
    },
    {
      "cell_type": "code",
      "execution_count": 46,
      "outputs": [],
      "source": [
        "\n",
        "\n"
      ],
      "metadata": {
        "pycharm": {
          "name": "#%%\n"
        },
        "id": "FlvNzC6iCS_k"
      }
    },
    {
      "cell_type": "markdown",
      "source": [
        "# Definindo função para importar APIs\n",
        "\n",
        "\n"
      ],
      "metadata": {
        "id": "uNd1QVNI3O81"
      }
    },
    {
      "cell_type": "code",
      "source": [
        "\n",
        "\n",
        "# import requests as req\n",
        "\n",
        "# def api(lista_nome,lista_passaporte):\n",
        "\n",
        "#   lista_interpol = req.get(\"https://cspinheiro.github.io/interpol.json\")\n",
        "#   lista_arg = req.get(\"https://kndhvh.github.io/arg.json\")\n",
        "    \n",
        "\n",
        "#   # Limpando os dados\n",
        "#   arg = lista_arg.json()['arg']\n",
        "#   interpol = lista_interpol.json()['interpol']\n",
        "\n",
        "#   # colocando apenas o conteudo das duas APIs em 2 listas para facil leitura.\n",
        "#   for i in arg:\n",
        "#     lista_passaporte.append(i['arg'])\n",
        "\n",
        "#   for i in interpol:\n",
        "#     lista_nome.append(i['interpol'])"
      ],
      "metadata": {
        "colab": {
          "base_uri": "https://localhost:8080/"
        },
        "id": "_5a_oczq2Ggc",
        "outputId": "9928b204-cb5f-49d6-ee35-eb6048239eb5"
      },
      "execution_count": 104,
      "outputs": [
        {
          "output_type": "stream",
          "name": "stdout",
          "text": [
            "Overwriting api.py\n"
          ]
        }
      ]
    },
    {
      "cell_type": "markdown",
      "source": [
        "# Criando funções para verificar se algum passaporte ou nome batem com o inserido, usando fuzzywuzzy.\n",
        "\n",
        "\n",
        "\n"
      ],
      "metadata": {
        "id": "uvYsF9ZR4uHP"
      }
    },
    {
      "cell_type": "code",
      "source": [
        "# def getmatch(field,list):\n",
        "#     search_list = process.extract(field,list)\n",
        "#     result=[]\n",
        "#     result2=[]\n",
        "\n",
        "#     for text in search_list:\n",
        "#         if text[1] > 90:\n",
        "#           result2.append(text)\n",
        "#         if text[1] > 50:\n",
        "#           result.append(text)\n",
        "\n",
        "#         if len(result2) > 0:\n",
        "#             return 2 \n",
        "#         elif len(result) == 0:\n",
        "#             return 0\n",
        "#         return 1 "
      ],
      "metadata": {
        "id": "YPbUQV7o4h4q"
      },
      "execution_count": 106,
      "outputs": []
    },
    {
      "cell_type": "markdown",
      "source": [
        "# Funcao criacao Web Page"
      ],
      "metadata": {
        "collapsed": false,
        "id": "vF-ylHeECS_l"
      }
    },
    {
      "cell_type": "code",
      "execution_count": 2,
      "outputs": [
        {
          "output_type": "stream",
          "name": "stdout",
          "text": [
            "Overwriting app.py\n"
          ]
        }
      ],
      "source": [
        "%%writefile app.py\n",
        "import streamlit as st\n",
        "import requests as req\n",
        "import re\n",
        "from fuzzywuzzy import process\n",
        "from pyngrok import ngrok\n",
        "\n",
        "\n",
        "def main():\n",
        "  html_temp = \"\"\" <div style =\"background-color:blue;padding:13px\">\n",
        "                    <h1 style = \"color:white;text-align:center;\">Verificador Passageiro - PFA</h1>\n",
        "                  </dic>\n",
        "              \"\"\"\n",
        "\n",
        "  st.markdown(html_temp, unsafe_allow_html = True)\n",
        "\n",
        "  lista_nome=[]\n",
        "  lista_passaporte=[]\n",
        "\n",
        "  # Importando as apis em forma de lista\n",
        "  def api(lista_nome,lista_passaporte):\n",
        "\n",
        "    lista_interpol = req.get(\"https://cspinheiro.github.io/interpol.json\")\n",
        "    lista_arg = req.get(\"https://kndhvh.github.io/arg.json\")\n",
        "      \n",
        "\n",
        "    # Limpando os dados\n",
        "    arg = lista_arg.json()['arg']\n",
        "    interpol = lista_interpol.json()['interpol']\n",
        "\n",
        "    # colocando apenas o conteudo das duas APIs em 2 listas para facil leitura.\n",
        "    for i in arg:\n",
        "      lista_passaporte.append(i['arg'])\n",
        "\n",
        "    for i in interpol:\n",
        "      lista_nome.append(i['interpol'])\n",
        "  api(lista_nome,lista_passaporte)\n",
        "\n",
        "  # pedindo os dados pro usuario\n",
        "  input_passaporte = st.text_input('Passaporte')\n",
        "  input_nome = st.text_input('Nome Completo')\n",
        "  \n",
        "\n",
        "  # Limpando os dados inputados\n",
        "  input_passaporte = re.sub('\\D','',input_passaporte)\n",
        "\n",
        "  # funcao para validar os dados inputados e comparar com base de dados\n",
        "  def valid(input_passaporte,input_nome,lista_nome,lista_passaporte):\n",
        "    if st.button(\"Verificar\"):\n",
        "      if len(input_passaporte) == 9 and len(input_nome) > 4 and len(re.split('\\s',input_nome)) >= 2:\n",
        "        passa = getmatch(lista_passaporte,input_passaporte)\n",
        "        if passa == 2:\n",
        "          st.error('[CUIDADO] Passaporte proibido, deter imediatamente!')\n",
        "        elif passa == 1:\n",
        "          st.error('[CUIDADO] Passaporte suspeito, favor investigar!')\n",
        "        else:\n",
        "          nome = getmatch(lista_nome,input_nome)\n",
        "\n",
        "        if nome == 2:\n",
        "          st.error('[CUIDADO] Nome sujo, deter imediatamente!')\n",
        "        elif nome == 1:\n",
        "          st.error('[CUIDADO] Nome suspeito, favor investigar!')\n",
        "        else:\n",
        "          st.sucess('[VERIFICADO] Passageiro liberado para entrada no pais!')\n",
        "\n",
        "      else:\n",
        "        st.warning('Nome ou passaporte Invalidos!')\n",
        "  def getmatch(field,lista_pn):\n",
        "    search_list = process.extract(field,lista_pn)\n",
        "    result=[]\n",
        "    result2=[]\n",
        "\n",
        "    for text in search_list:\n",
        "        if text[1] > 90:\n",
        "          result2.append(text)\n",
        "        if text[1] > 50:\n",
        "          result.append(text)\n",
        "\n",
        "        if len(result2) > 0:\n",
        "            return 2 \n",
        "        elif len(result) == 0:\n",
        "            return 0\n",
        "        return 1\n",
        "  valid(input_passaporte,input_nome,lista_nome,lista_passaporte)\n",
        "if __name__=='__main__':\n",
        "    main()"
      ],
      "metadata": {
        "pycharm": {
          "name": "#%%\n"
        },
        "colab": {
          "base_uri": "https://localhost:8080/"
        },
        "id": "Ig1hMjWeCS_n",
        "outputId": "dc4e43c9-c0a3-46fe-ae99-41333844b38b"
      }
    },
    {
      "cell_type": "code",
      "execution_count": null,
      "outputs": [
        {
          "output_type": "stream",
          "name": "stdout",
          "text": [
            "2022-04-26 00:22:35.960 INFO    numexpr.utils: NumExpr defaulting to 2 threads.\n",
            "\u001b[0m\n",
            "\u001b[34m\u001b[1m  You can now view your Streamlit app in your browser.\u001b[0m\n",
            "\u001b[0m\n",
            "\u001b[34m  Network URL: \u001b[0m\u001b[1mhttp://172.28.0.2:8501\u001b[0m\n",
            "\u001b[34m  External URL: \u001b[0m\u001b[1mhttp://34.133.21.81:8501\u001b[0m\n",
            "\u001b[0m\n",
            "\u001b[K\u001b[?25hnpx: installed 22 in 3.318s\n",
            "your url is: https://ugly-catfish-51.loca.lt\n",
            "2022-04-26 00:23:50.508 Traceback (most recent call last):\n",
            "  File \"/usr/local/lib/python3.7/dist-packages/streamlit/scriptrunner/script_runner.py\", line 443, in _run_script\n",
            "    exec(code, module.__dict__)\n",
            "  File \"/content/app.py\", line 85, in <module>\n",
            "    main()\n",
            "  File \"/content/app.py\", line 83, in main\n",
            "    valid(input_passaporte,input_nome,lista_nome,lista_passaporte)\n",
            "  File \"/content/app.py\", line 50, in valid\n",
            "    passa = getmatch(lista_passaporte,input_passaporte)\n",
            "  File \"/content/app.py\", line 68, in getmatch\n",
            "    search_list = process.extract(field,lista_pn)\n",
            "  File \"/usr/local/lib/python3.7/dist-packages/fuzzywuzzy/process.py\", line 168, in extract\n",
            "    return heapq.nlargest(limit, sl, key=lambda i: i[1]) if limit is not None else \\\n",
            "  File \"/usr/lib/python3.7/heapq.py\", line 569, in nlargest\n",
            "    result = [(key(elem), i, elem) for i, elem in zip(range(0, -n, -1), it)]\n",
            "  File \"/usr/lib/python3.7/heapq.py\", line 569, in <listcomp>\n",
            "    result = [(key(elem), i, elem) for i, elem in zip(range(0, -n, -1), it)]\n",
            "  File \"/usr/local/lib/python3.7/dist-packages/fuzzywuzzy/process.py\", line 78, in extractWithoutOrder\n",
            "    processed_query = processor(query)\n",
            "  File \"/usr/local/lib/python3.7/dist-packages/fuzzywuzzy/utils.py\", line 95, in full_process\n",
            "    string_out = StringProcessor.replace_non_letters_non_numbers_with_whitespace(s)\n",
            "  File \"/usr/local/lib/python3.7/dist-packages/fuzzywuzzy/string_processing.py\", line 26, in replace_non_letters_non_numbers_with_whitespace\n",
            "    return cls.regex.sub(\" \", a_string)\n",
            "TypeError: expected string or bytes-like object\n",
            "\n",
            "2022-04-26 00:25:09.248 Traceback (most recent call last):\n",
            "  File \"/usr/local/lib/python3.7/dist-packages/streamlit/scriptrunner/script_runner.py\", line 443, in _run_script\n",
            "    exec(code, module.__dict__)\n",
            "  File \"/content/app.py\", line 85, in <module>\n",
            "    main()\n",
            "  File \"/content/app.py\", line 83, in main\n",
            "    valid(input_passaporte,input_nome,lista_nome,lista_passaporte)\n",
            "  File \"/content/app.py\", line 50, in valid\n",
            "    passa = getmatch(lista_passaporte,input_passaporte)\n",
            "  File \"/content/app.py\", line 68, in getmatch\n",
            "    search_list = process.extract(field,lista_pn)\n",
            "  File \"/usr/local/lib/python3.7/dist-packages/fuzzywuzzy/process.py\", line 168, in extract\n",
            "    return heapq.nlargest(limit, sl, key=lambda i: i[1]) if limit is not None else \\\n",
            "  File \"/usr/lib/python3.7/heapq.py\", line 569, in nlargest\n",
            "    result = [(key(elem), i, elem) for i, elem in zip(range(0, -n, -1), it)]\n",
            "  File \"/usr/lib/python3.7/heapq.py\", line 569, in <listcomp>\n",
            "    result = [(key(elem), i, elem) for i, elem in zip(range(0, -n, -1), it)]\n",
            "  File \"/usr/local/lib/python3.7/dist-packages/fuzzywuzzy/process.py\", line 78, in extractWithoutOrder\n",
            "    processed_query = processor(query)\n",
            "  File \"/usr/local/lib/python3.7/dist-packages/fuzzywuzzy/utils.py\", line 95, in full_process\n",
            "    string_out = StringProcessor.replace_non_letters_non_numbers_with_whitespace(s)\n",
            "  File \"/usr/local/lib/python3.7/dist-packages/fuzzywuzzy/string_processing.py\", line 26, in replace_non_letters_non_numbers_with_whitespace\n",
            "    return cls.regex.sub(\" \", a_string)\n",
            "TypeError: expected string or bytes-like object\n",
            "\n",
            "2022-04-26 00:25:10.985 Traceback (most recent call last):\n",
            "  File \"/usr/local/lib/python3.7/dist-packages/streamlit/scriptrunner/script_runner.py\", line 443, in _run_script\n",
            "    exec(code, module.__dict__)\n",
            "  File \"/content/app.py\", line 85, in <module>\n",
            "    main()\n",
            "  File \"/content/app.py\", line 83, in main\n",
            "    valid(input_passaporte,input_nome,lista_nome,lista_passaporte)\n",
            "  File \"/content/app.py\", line 50, in valid\n",
            "    passa = getmatch(lista_passaporte,input_passaporte)\n",
            "  File \"/content/app.py\", line 68, in getmatch\n",
            "    search_list = process.extract(field,lista_pn)\n",
            "  File \"/usr/local/lib/python3.7/dist-packages/fuzzywuzzy/process.py\", line 168, in extract\n",
            "    return heapq.nlargest(limit, sl, key=lambda i: i[1]) if limit is not None else \\\n",
            "  File \"/usr/lib/python3.7/heapq.py\", line 569, in nlargest\n",
            "    result = [(key(elem), i, elem) for i, elem in zip(range(0, -n, -1), it)]\n",
            "  File \"/usr/lib/python3.7/heapq.py\", line 569, in <listcomp>\n",
            "    result = [(key(elem), i, elem) for i, elem in zip(range(0, -n, -1), it)]\n",
            "  File \"/usr/local/lib/python3.7/dist-packages/fuzzywuzzy/process.py\", line 78, in extractWithoutOrder\n",
            "    processed_query = processor(query)\n",
            "  File \"/usr/local/lib/python3.7/dist-packages/fuzzywuzzy/utils.py\", line 95, in full_process\n",
            "    string_out = StringProcessor.replace_non_letters_non_numbers_with_whitespace(s)\n",
            "  File \"/usr/local/lib/python3.7/dist-packages/fuzzywuzzy/string_processing.py\", line 26, in replace_non_letters_non_numbers_with_whitespace\n",
            "    return cls.regex.sub(\" \", a_string)\n",
            "TypeError: expected string or bytes-like object\n",
            "\n",
            "2022-04-26 00:25:11.289 Traceback (most recent call last):\n",
            "  File \"/usr/local/lib/python3.7/dist-packages/streamlit/scriptrunner/script_runner.py\", line 443, in _run_script\n",
            "    exec(code, module.__dict__)\n",
            "  File \"/content/app.py\", line 85, in <module>\n",
            "    main()\n",
            "  File \"/content/app.py\", line 83, in main\n",
            "    valid(input_passaporte,input_nome,lista_nome,lista_passaporte)\n",
            "  File \"/content/app.py\", line 50, in valid\n",
            "    passa = getmatch(lista_passaporte,input_passaporte)\n",
            "  File \"/content/app.py\", line 68, in getmatch\n",
            "    search_list = process.extract(field,lista_pn)\n",
            "  File \"/usr/local/lib/python3.7/dist-packages/fuzzywuzzy/process.py\", line 168, in extract\n",
            "    return heapq.nlargest(limit, sl, key=lambda i: i[1]) if limit is not None else \\\n",
            "  File \"/usr/lib/python3.7/heapq.py\", line 569, in nlargest\n",
            "    result = [(key(elem), i, elem) for i, elem in zip(range(0, -n, -1), it)]\n",
            "  File \"/usr/lib/python3.7/heapq.py\", line 569, in <listcomp>\n",
            "    result = [(key(elem), i, elem) for i, elem in zip(range(0, -n, -1), it)]\n",
            "  File \"/usr/local/lib/python3.7/dist-packages/fuzzywuzzy/process.py\", line 78, in extractWithoutOrder\n",
            "    processed_query = processor(query)\n",
            "  File \"/usr/local/lib/python3.7/dist-packages/fuzzywuzzy/utils.py\", line 95, in full_process\n",
            "    string_out = StringProcessor.replace_non_letters_non_numbers_with_whitespace(s)\n",
            "  File \"/usr/local/lib/python3.7/dist-packages/fuzzywuzzy/string_processing.py\", line 26, in replace_non_letters_non_numbers_with_whitespace\n",
            "    return cls.regex.sub(\" \", a_string)\n",
            "TypeError: expected string or bytes-like object\n",
            "\n",
            "2022-04-26 00:25:11.695 Traceback (most recent call last):\n",
            "  File \"/usr/local/lib/python3.7/dist-packages/streamlit/scriptrunner/script_runner.py\", line 443, in _run_script\n",
            "    exec(code, module.__dict__)\n",
            "  File \"/content/app.py\", line 85, in <module>\n",
            "    main()\n",
            "  File \"/content/app.py\", line 83, in main\n",
            "    valid(input_passaporte,input_nome,lista_nome,lista_passaporte)\n",
            "  File \"/content/app.py\", line 50, in valid\n",
            "    passa = getmatch(lista_passaporte,input_passaporte)\n",
            "  File \"/content/app.py\", line 68, in getmatch\n",
            "    search_list = process.extract(field,lista_pn)\n",
            "  File \"/usr/local/lib/python3.7/dist-packages/fuzzywuzzy/process.py\", line 168, in extract\n",
            "    return heapq.nlargest(limit, sl, key=lambda i: i[1]) if limit is not None else \\\n",
            "  File \"/usr/lib/python3.7/heapq.py\", line 569, in nlargest\n",
            "    result = [(key(elem), i, elem) for i, elem in zip(range(0, -n, -1), it)]\n",
            "  File \"/usr/lib/python3.7/heapq.py\", line 569, in <listcomp>\n",
            "    result = [(key(elem), i, elem) for i, elem in zip(range(0, -n, -1), it)]\n",
            "  File \"/usr/local/lib/python3.7/dist-packages/fuzzywuzzy/process.py\", line 78, in extractWithoutOrder\n",
            "    processed_query = processor(query)\n",
            "  File \"/usr/local/lib/python3.7/dist-packages/fuzzywuzzy/utils.py\", line 95, in full_process\n",
            "    string_out = StringProcessor.replace_non_letters_non_numbers_with_whitespace(s)\n",
            "  File \"/usr/local/lib/python3.7/dist-packages/fuzzywuzzy/string_processing.py\", line 26, in replace_non_letters_non_numbers_with_whitespace\n",
            "    return cls.regex.sub(\" \", a_string)\n",
            "TypeError: expected string or bytes-like object\n",
            "\n"
          ]
        }
      ],
      "source": [
        "!streamlit run app.py & npx localtunnel --port 8501"
      ],
      "metadata": {
        "pycharm": {
          "name": "#%%\n",
          "is_executing": true
        },
        "id": "olE5TFhSCS_o",
        "colab": {
          "base_uri": "https://localhost:8080/"
        },
        "outputId": "4ce70745-b1bf-44bc-f872-8bd7cc55513b"
      }
    },
    {
      "cell_type": "code",
      "source": [
        ""
      ],
      "metadata": {
        "id": "uqrd2UV1t3nT"
      },
      "execution_count": null,
      "outputs": []
    },
    {
      "cell_type": "code",
      "source": [
        ""
      ],
      "metadata": {
        "id": "BXqBLNDqt3i6"
      },
      "execution_count": null,
      "outputs": []
    },
    {
      "cell_type": "code",
      "source": [
        ""
      ],
      "metadata": {
        "id": "aML2eWfet3gp"
      },
      "execution_count": null,
      "outputs": []
    },
    {
      "cell_type": "code",
      "source": [
        ""
      ],
      "metadata": {
        "id": "mwyyWeCmt3dq"
      },
      "execution_count": null,
      "outputs": []
    },
    {
      "cell_type": "code",
      "source": [
        ""
      ],
      "metadata": {
        "id": "x1r4qdwDt3Wp"
      },
      "execution_count": null,
      "outputs": []
    },
    {
      "cell_type": "code",
      "source": [
        ""
      ],
      "metadata": {
        "id": "iZQGuuvKuVBF"
      },
      "execution_count": null,
      "outputs": []
    }
  ],
  "metadata": {
    "kernelspec": {
      "display_name": "Python 3",
      "language": "python",
      "name": "python3"
    },
    "language_info": {
      "codemirror_mode": {
        "name": "ipython",
        "version": 2
      },
      "file_extension": ".py",
      "mimetype": "text/x-python",
      "name": "python",
      "nbconvert_exporter": "python",
      "pygments_lexer": "ipython2",
      "version": "2.7.6"
    },
    "colab": {
      "name": "checkpoint1.1_cyber.ipynb",
      "provenance": []
    }
  },
  "nbformat": 4,
  "nbformat_minor": 0
}