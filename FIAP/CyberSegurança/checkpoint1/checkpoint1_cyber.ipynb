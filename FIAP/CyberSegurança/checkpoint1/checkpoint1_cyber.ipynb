{
 "nbformat": 4,
 "nbformat_minor": 0,
 "metadata": {
  "colab": {
   "name": "checkpoint1_cyber.ipynb",
   "provenance": [],
   "authorship_tag": "ABX9TyNB19pctedGD1w0QzY4M7bP",
   "include_colab_link": true
  },
  "kernelspec": {
   "name": "python3",
   "display_name": "Python 3"
  },
  "language_info": {
   "name": "python"
  }
 },
 "cells": [
  {
   "cell_type": "markdown",
   "metadata": {
    "id": "view-in-github",
    "colab_type": "text"
   },
   "source": [
    "<a href=\"https://colab.research.google.com/github/KndHvH/fanta/blob/1/FIAP/CyberSeguran%C3%A7a/checkpoint1/checkpoint1_cyber.ipynb\" target=\"_parent\"><img src=\"https://colab.research.google.com/assets/colab-badge.svg\" alt=\"Open In Colab\"/></a>"
   ]
  },
  {
   "cell_type": "markdown",
   "source": [
    "# Importando as bibliotecas\n"
   ],
   "metadata": {
    "id": "VnEsdRt0RPwl"
   }
  },
  {
   "cell_type": "code",
   "execution_count": 10,
   "metadata": {
    "id": "t5nLTMbgMmwT"
   },
   "outputs": [],
   "source": [
    "import requests as req\n",
    "import re"
   ]
  },
  {
   "cell_type": "markdown",
   "source": [
    "# Importando APIs\n",
    "\n",
    "1. Lista de Terroristas INTERPOLL -> lista_interpoll\n",
    "1. Lista de Procurados Argentina -> lista_arg\n",
    "\n",
    "\n"
   ],
   "metadata": {
    "id": "mzW00jEOUc6S"
   }
  },
  {
   "cell_type": "code",
   "source": [
    "lista_interpoll = req.get(\"https://cspinheiro.github.io/bra2.json\")"
   ],
   "metadata": {
    "id": "0VBoVejdRJs1"
   },
   "execution_count": 2,
   "outputs": []
  },
  {
   "cell_type": "code",
   "source": [
    "lista_arg = req.get(\"https://kndhvh.github.io/arg.json\")"
   ],
   "metadata": {
    "id": "UIDp86oHRKB0"
   },
   "execution_count": 3,
   "outputs": []
  },
  {
   "cell_type": "markdown",
   "source": [
    "# Limpando os dados\n",
    "\n"
   ],
   "metadata": {
    "id": "rmo7HhoyUNFP"
   }
  },
  {
   "cell_type": "code",
   "source": [
    "arg = lista_arg.json()['arg']\n",
    "inter = lista_interpoll.json()['bra2']"
   ],
   "metadata": {
    "id": "7ZdRmwPcSP0U"
   },
   "execution_count": 24,
   "outputs": []
  },
  {
   "cell_type": "code",
   "source": [
    "total_raw=[]\n",
    "arg_raw=[]\n",
    "inter_raw=[]"
   ],
   "metadata": {
    "id": "CjFMhYc_SP4-"
   },
   "execution_count": 26,
   "outputs": []
  },
  {
   "cell_type": "code",
   "execution_count": null,
   "outputs": [],
   "source": [
    "# colocando apenas os passaportes das duas APIs em suas respectivas listas.\n",
    "for i in arg:\n",
    "  arg_raw.append(i['arg'])\n",
    "for i in inter:\n",
    "  inter_raw.append(i['passaporte'])"
   ],
   "metadata": {
    "collapsed": false,
    "pycharm": {
     "name": "#%%\n"
    }
   }
  },
  {
   "cell_type": "code",
   "source": [
    "# colocando apenas os passaportes das duas APIs em uma mesma lista.\n",
    "for i in arg:\n",
    "  total_raw.append(i['arg'])\n",
    "for i in inter:\n",
    "  total_raw.append(i['passaporte'])"
   ],
   "metadata": {
    "id": "wiO07DSxZeTM"
   },
   "execution_count": 27,
   "outputs": []
  },
  {
   "cell_type": "code",
   "source": [
    "# fazendo uma versao da lista total que pode ser lida pelo REGEX\n",
    "total_reg='(?i)'\n",
    "\n",
    "for i in total_raw:\n",
    "    total_reg += f\"({i})|\"\n",
    "\n",
    "total_reg = total_reg[:-1]"
   ],
   "metadata": {
    "id": "ht72uNibZeZT"
   },
   "execution_count": 45,
   "outputs": []
  },
  {
   "cell_type": "markdown",
   "source": [
    "# Verificando se algum passaporte bate exatamente com o inserido, usando REGEX."
   ],
   "metadata": {
    "collapsed": false
   }
  },
  {
   "cell_type": "code",
   "source": [
    "def getMatchRegex(field):\n",
    "    match = re.search(total_reg, field.lower())\n",
    "    if match:\n",
    "        print(1)\n",
    "        detectado = 1\n",
    "    else:\n",
    "        print(0)\n",
    "        detectado = 0\n"
   ],
   "metadata": {
    "id": "3KxiukaTZebP",
    "pycharm": {
     "is_executing": true
    }
   },
   "execution_count": null,
   "outputs": []
  },
  {
   "cell_type": "code",
   "source": [],
   "metadata": {
    "id": "0Z9cP70VZejA"
   },
   "execution_count": null,
   "outputs": []
  },
  {
   "cell_type": "code",
   "source": [
    ""
   ],
   "metadata": {
    "id": "cS_KD0EXZelC"
   },
   "execution_count": null,
   "outputs": []
  }
 ]
}