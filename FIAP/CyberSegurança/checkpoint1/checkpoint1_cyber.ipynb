{
 "nbformat": 4,
 "nbformat_minor": 0,
 "metadata": {
  "colab": {
   "name": "checkpoint1_cyber.ipynb",
   "provenance": [],
   "include_colab_link": true
  },
  "kernelspec": {
   "name": "python3",
   "display_name": "Python 3"
  },
  "language_info": {
   "name": "python"
  }
 },
 "cells": [
  {
   "cell_type": "markdown",
   "metadata": {
    "id": "view-in-github",
    "colab_type": "text"
   },
   "source": [
    "<a href=\"https://colab.research.google.com/github/KndHvH/fanta/blob/1/FIAP/CyberSeguran%C3%A7a/checkpoint1/checkpoint1_cyber.ipynb\" target=\"_parent\"><img src=\"https://colab.research.google.com/assets/colab-badge.svg\" alt=\"Open In Colab\"/></a>"
   ]
  },
  {
   "cell_type": "markdown",
   "source": [
    "# Instalando as bibliotecas"
   ],
   "metadata": {
    "collapsed": false,
    "id": "9UiHjM65pwvc"
   }
  },
  {
   "cell_type": "code",
   "execution_count": null,
   "outputs": [],
   "source": [
    "!pip install -q pyngrok\n",
    "!pip install -q streamlit\n",
    "!pip install -q streamlit_ace\n",
    "!pip install fuzzywuzzy[speedup]\n",
    "!streamlit run app.py &>/dev/null&"
   ],
   "metadata": {
    "pycharm": {
     "name": "#%%\n",
     "is_executing": true
    },
    "id": "K45CIiqhpwve"
   }
  },
  {
   "cell_type": "markdown",
   "source": [
    "# Importando as bibliotecas\n"
   ],
   "metadata": {
    "id": "VnEsdRt0RPwl"
   }
  },
  {
   "cell_type": "code",
   "execution_count": null,
   "metadata": {
    "id": "t5nLTMbgMmwT",
    "pycharm": {
     "is_executing": true
    }
   },
   "outputs": [],
   "source": [
    "import requests as req\n",
    "import re\n",
    "%%writefile app.py\n",
    "import streamlit as st\n",
    "from fuzzywuzzy import process\n",
    "from pyngrok import ngrok"
   ]
  },
  {
   "cell_type": "markdown",
   "source": [
    "# Importando APIs\n",
    "\n",
    "1. Lista de Terroristas INTERPOLL -> lista_interpoll\n",
    "1. Lista de Procurados Argentina -> lista_arg\n",
    "\n",
    "\n"
   ],
   "metadata": {
    "id": "mzW00jEOUc6S"
   }
  },
  {
   "cell_type": "code",
   "source": [
    "lista_interpol = req.get(\"https://cspinheiro.github.io/interpol.json\")"
   ],
   "metadata": {
    "id": "0VBoVejdRJs1"
   },
   "execution_count": 92,
   "outputs": []
  },
  {
   "cell_type": "code",
   "source": [
    "lista_arg = req.get(\"https://kndhvh.github.io/arg.json\")"
   ],
   "metadata": {
    "id": "UIDp86oHRKB0"
   },
   "execution_count": 93,
   "outputs": []
  },
  {
   "cell_type": "markdown",
   "source": [
    "# Limpando os dados\n",
    "\n"
   ],
   "metadata": {
    "id": "rmo7HhoyUNFP"
   }
  },
  {
   "cell_type": "code",
   "source": [
    "arg = lista_arg.json()['arg']\n",
    "inter = lista_interpol.json()['interpol']"
   ],
   "metadata": {
    "id": "7ZdRmwPcSP0U"
   },
   "execution_count": 94,
   "outputs": []
  },
  {
   "cell_type": "code",
   "source": [
    "nomes=[]\n",
    "passaportes=[]"
   ],
   "metadata": {
    "id": "CjFMhYc_SP4-"
   },
   "execution_count": 95,
   "outputs": []
  },
  {
   "cell_type": "code",
   "execution_count": 96,
   "outputs": [],
   "source": [
    "# colocando apenas os passaportes e nomes das duas APIs em 2 listas.\n",
    "for i in arg:\n",
    "  passaportes.append(i['arg'])\n",
    "for i in inter:\n",
    "  nomes.append(i['interpol'])"
   ],
   "metadata": {
    "pycharm": {
     "name": "#%%\n"
    },
    "id": "QoQjWSPFpwvl"
   }
  },
  {
   "cell_type": "markdown",
   "source": [
    "# Verificando se algum passaporte bate exatamente com o inserido, usando fuzzywuzzy."
   ],
   "metadata": {
    "collapsed": false,
    "id": "0pRPRJ07pwvm"
   }
  },
  {
   "cell_type": "code",
   "source": [
    "\n",
    "def getMatch_pass(field,list):\n",
    "  search_list = process.extract(field,list)\n",
    "  result=[]\n",
    "  result2=[]\n",
    "\n",
    "  for text in search_list:\n",
    "      if text[1] > 90:\n",
    "        result2.append(text)\n",
    "      if text[1] > 50:\n",
    "        result.append(text)\n",
    "\n",
    "      if len(result2) > 0:\n",
    "          return '[CUIDADO] Passaporte proibido, deter imediatamente!'\n",
    "      elif len(result) == 0:\n",
    "         return 'Passaporte liberado!'\n",
    "      return '[CUIDADO] Passaporte suspeito, favor investigar!'\n"
   ],
   "metadata": {
    "id": "3KxiukaTZebP"
   },
   "execution_count": 97,
   "outputs": []
  },
  {
   "cell_type": "markdown",
   "source": [
    "# Verificando se algum nome bate exatamente com o inserido, usando fuzzywuzzy."
   ],
   "metadata": {
    "collapsed": false,
    "id": "0ttwdBNspwvn"
   }
  },
  {
   "cell_type": "code",
   "execution_count": 97,
   "outputs": [],
   "source": [],
   "metadata": {
    "pycharm": {
     "name": "#%%\n"
    },
    "id": "p-e4pJlxpwvn"
   }
  },
  {
   "cell_type": "markdown",
   "source": [
    "# Funcao criacao Web Page"
   ],
   "metadata": {
    "collapsed": false,
    "id": "UnwJH-IKpwvn"
   }
  },
  {
   "cell_type": "code",
   "source": [
    "\n",
    "\n",
    "def main():\n",
    "\n",
    "  html_temp = \"\"\" <div style =\"background-color:blue;padding:13px\">\n",
    "                    <h1 style = \"color:white;text-align:center;\">Detector jogador de LOL</h1>\n",
    "                  </dic>\n",
    "              \"\"\"\n",
    "\n",
    "  st.markdown(html_temp, unsafe_allow_html = True)\n",
    "\n",
    "  input_passaporte = st.text_input('Passaporte')\n",
    "  out = getMatch_pass(input_passaporte,passaportes)\n",
    "  if st.button(\"Verificar\"):\n",
    "    st.success(out)\n",
    "\n",
    "  nome = st.text_input('Nome Completo')\n",
    "\n",
    "if __name__=='__main__':\n",
    "    main()"
   ],
   "metadata": {
    "id": "0Z9cP70VZejA",
    "outputId": "59e1ba09-25a3-4d07-e011-04af39560d8a",
    "colab": {
     "base_uri": "https://localhost:8080/"
    }
   },
   "execution_count": 98,
   "outputs": [
    {
     "name": "stderr",
     "output_type": "stream",
     "text": [
      "2022-04-23 15:26:35.455 Applied processor reduces input query to empty string, all comparisons will have score 0. [Query: '']\n"
     ]
    }
   ]
  },
  {
   "cell_type": "code",
   "source": [
    "!streamlit run app.py & npx localtunnel --port 8501"
   ],
   "metadata": {
    "id": "cS_KD0EXZelC",
    "outputId": "e4bf3944-14da-47e0-a4ca-3095c39549d6"
   },
   "execution_count": 99,
   "outputs": [
    {
     "name": "stdout",
     "output_type": "stream",
     "text": [
      "^C\n"
     ]
    }
   ]
  },
  {
   "cell_type": "code",
   "execution_count": null,
   "outputs": [],
   "source": [
    ""
   ],
   "metadata": {
    "pycharm": {
     "name": "#%%\n"
    },
    "id": "nwPA0W0Dpwvo"
   }
  }
 ]
}