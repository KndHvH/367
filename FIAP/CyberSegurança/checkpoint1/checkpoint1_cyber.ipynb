{
  "nbformat": 4,
  "nbformat_minor": 0,
  "metadata": {
    "colab": {
      "name": "checkpoint1_cyber.ipynb",
      "provenance": [],
      "authorship_tag": "ABX9TyNB19pctedGD1w0QzY4M7bP",
      "include_colab_link": true
    },
    "kernelspec": {
      "name": "python3",
      "display_name": "Python 3"
    },
    "language_info": {
      "name": "python"
    }
  },
  "cells": [
    {
      "cell_type": "markdown",
      "metadata": {
        "id": "view-in-github",
        "colab_type": "text"
      },
      "source": [
        "<a href=\"https://colab.research.google.com/github/KndHvH/fanta/blob/1/FIAP/CyberSeguran%C3%A7a/checkpoint1/checkpoint1_cyber.ipynb\" target=\"_parent\"><img src=\"https://colab.research.google.com/assets/colab-badge.svg\" alt=\"Open In Colab\"/></a>"
      ]
    },
    {
      "cell_type": "markdown",
      "source": [
        "#Importando as bibliotecas \n"
      ],
      "metadata": {
        "id": "VnEsdRt0RPwl"
      }
    },
    {
      "cell_type": "code",
      "execution_count": 2,
      "metadata": {
        "id": "t5nLTMbgMmwT"
      },
      "outputs": [],
      "source": [
        "import requests as req"
      ]
    },
    {
      "cell_type": "markdown",
      "source": [
        "#Importando APIs\n",
        "\n",
        "1. Lista de Terroristas INTERPOLL -> lista_interpoll\n",
        "1. Lista de Procurados Argentina -> lista_arg\n",
        "\n",
        "\n"
      ],
      "metadata": {
        "id": "mzW00jEOUc6S"
      }
    },
    {
      "cell_type": "code",
      "source": [
        "lista_interpoll = req.get(\"https://cspinheiro.github.io/bra2.json\")"
      ],
      "metadata": {
        "id": "0VBoVejdRJs1"
      },
      "execution_count": 3,
      "outputs": []
    },
    {
      "cell_type": "code",
      "source": [
        "lista_arg = req.get(\"https://kndhvh.github.io/arg.json\")"
      ],
      "metadata": {
        "id": "UIDp86oHRKB0"
      },
      "execution_count": 4,
      "outputs": []
    },
    {
      "cell_type": "markdown",
      "source": [
        "#Limpando os dados\n"
      ],
      "metadata": {
        "id": "rmo7HhoyUNFP"
      }
    },
    {
      "cell_type": "code",
      "source": [
        "arg = lista_arg.json()['arg']"
      ],
      "metadata": {
        "id": "7ZdRmwPcSP0U"
      },
      "execution_count": 5,
      "outputs": []
    },
    {
      "cell_type": "code",
      "source": [
        "inter = lista_interpoll.json()['bra2']"
      ],
      "metadata": {
        "id": "0PS1TnpnUK1f"
      },
      "execution_count": 6,
      "outputs": []
    },
    {
      "cell_type": "code",
      "source": [
        "inter[0]"
      ],
      "metadata": {
        "id": "cFCwiMPyUK5k",
        "colab": {
          "base_uri": "https://localhost:8080/"
        },
        "outputId": "ec0caa4b-79ce-4340-f72d-6ebd7c0c5d6e"
      },
      "execution_count": 7,
      "outputs": [
        {
          "output_type": "execute_result",
          "data": {
            "text/plain": [
              "{'passaporte': 947864172}"
            ]
          },
          "metadata": {},
          "execution_count": 7
        }
      ]
    },
    {
      "cell_type": "code",
      "source": [
        "arg_raw=[]"
      ],
      "metadata": {
        "id": "CjFMhYc_SP4-"
      },
      "execution_count": 8,
      "outputs": []
    },
    {
      "cell_type": "code",
      "source": [
        "for i in arg:\n",
        "  arg_raw.append(i['arg'])"
      ],
      "metadata": {
        "id": "wiO07DSxZeTM"
      },
      "execution_count": 9,
      "outputs": []
    },
    {
      "cell_type": "code",
      "source": [
        "arg_raw"
      ],
      "metadata": {
        "colab": {
          "base_uri": "https://localhost:8080/"
        },
        "id": "mZaUx6waZeVT",
        "outputId": "1fd0e4ee-d847-4bf9-cf1c-0d2c2ca241da"
      },
      "execution_count": 10,
      "outputs": [
        {
          "output_type": "execute_result",
          "data": {
            "text/plain": [
              "[547137609,\n",
              " 778385388,\n",
              " 897460152,\n",
              " 483517163,\n",
              " 359434151,\n",
              " 826988056,\n",
              " 540326515,\n",
              " 522287609,\n",
              " 780276983,\n",
              " 442844444,\n",
              " 161421805,\n",
              " 543704123,\n",
              " 605410804,\n",
              " 568520932,\n",
              " 903334784,\n",
              " 802866194,\n",
              " 640220891,\n",
              " 363927799,\n",
              " 376689973,\n",
              " 901781281,\n",
              " 561282385,\n",
              " 661576982,\n",
              " 231981276,\n",
              " 646637178,\n",
              " 535416801,\n",
              " 845871073,\n",
              " 353887372,\n",
              " 584172351,\n",
              " 511712322,\n",
              " 982827953,\n",
              " 220471986,\n",
              " 585957612,\n",
              " 357690491,\n",
              " 884128753,\n",
              " 492953014,\n",
              " 195117564,\n",
              " 378797522,\n",
              " 435052858,\n",
              " 802706043,\n",
              " 948127235,\n",
              " 894983311,\n",
              " 986771815,\n",
              " 190726026,\n",
              " 287905181,\n",
              " 572761935,\n",
              " 810848397,\n",
              " 187696913,\n",
              " 709537367,\n",
              " 508541271,\n",
              " 969725523,\n",
              " 248260421,\n",
              " 562409866,\n",
              " 443979731,\n",
              " 311000361,\n",
              " 615475789,\n",
              " 978475161,\n",
              " 349391842,\n",
              " 768815911,\n",
              " 159959908,\n",
              " 755208974,\n",
              " 270114900,\n",
              " 209558574,\n",
              " 621430808,\n",
              " 496002488,\n",
              " 929068166,\n",
              " 259124672,\n",
              " 546251732,\n",
              " 801511026,\n",
              " 659694442,\n",
              " 166917614,\n",
              " 396417902,\n",
              " 565933900,\n",
              " 251515181,\n",
              " 427090367,\n",
              " 173616699,\n",
              " 696896007,\n",
              " 484914686,\n",
              " 861958432,\n",
              " 592325006,\n",
              " 229258864,\n",
              " 426075883,\n",
              " 571040680,\n",
              " 891595682,\n",
              " 706002674,\n",
              " 811417482,\n",
              " 401343092,\n",
              " 561660371,\n",
              " 408847303,\n",
              " 974664753,\n",
              " 449667780,\n",
              " 726886296,\n",
              " 154804893,\n",
              " 598329363,\n",
              " 985659777,\n",
              " 485784819,\n",
              " 907685254,\n",
              " 215989661,\n",
              " 739316512,\n",
              " 297483003,\n",
              " 274599613,\n",
              " 840004673,\n",
              " 457176830,\n",
              " 670482034,\n",
              " 659318976,\n",
              " 909065315,\n",
              " 639350964,\n",
              " 595616612,\n",
              " 130644713,\n",
              " 731407287,\n",
              " 548409363,\n",
              " 272128894,\n",
              " 453260382,\n",
              " 779619822,\n",
              " 449431758,\n",
              " 209853643,\n",
              " 307273185,\n",
              " 337214003,\n",
              " 758726310,\n",
              " 566493239,\n",
              " 564896529,\n",
              " 488181061,\n",
              " 507352323,\n",
              " 275852318,\n",
              " 314520738,\n",
              " 797191703,\n",
              " 474497378,\n",
              " 560457963,\n",
              " 839816349,\n",
              " 459740697,\n",
              " 366822324,\n",
              " 244654311,\n",
              " 443648622,\n",
              " 331881713,\n",
              " 611860204,\n",
              " 138945899,\n",
              " 483085334,\n",
              " 288103087,\n",
              " 560636412,\n",
              " 208626079,\n",
              " 610672880,\n",
              " 309538691,\n",
              " 663038918,\n",
              " 738702327,\n",
              " 282393330,\n",
              " 622471855,\n",
              " 748369485,\n",
              " 324546312,\n",
              " 341207849,\n",
              " 792678384,\n",
              " 394430108,\n",
              " 772073858,\n",
              " 571161676,\n",
              " 650615503,\n",
              " 538481321,\n",
              " 364076772,\n",
              " 762895675,\n",
              " 263453218,\n",
              " 762573047,\n",
              " 773921933,\n",
              " 728436640,\n",
              " 289868622,\n",
              " 728416157,\n",
              " 887903136,\n",
              " 925396072,\n",
              " 421518790,\n",
              " 586343134,\n",
              " 155303387,\n",
              " 972272099,\n",
              " 638582021,\n",
              " 295789620,\n",
              " 746622711,\n",
              " 270998261,\n",
              " 512869244,\n",
              " 634078202,\n",
              " 975328331,\n",
              " 410095183,\n",
              " 842487590,\n",
              " 470668846,\n",
              " 731826081,\n",
              " 890644623,\n",
              " 928983874,\n",
              " 707186664,\n",
              " 176555741,\n",
              " 429918567,\n",
              " 268097877,\n",
              " 265247681,\n",
              " 629832128,\n",
              " 789661814,\n",
              " 973034392,\n",
              " 940675319,\n",
              " 158300148,\n",
              " 821818890,\n",
              " 193161634,\n",
              " 488453901,\n",
              " 816338632,\n",
              " 285643606,\n",
              " 452248370,\n",
              " 352763159,\n",
              " 287530954,\n",
              " 781446116,\n",
              " 319875565,\n",
              " 183518565,\n",
              " 465435191,\n",
              " 929448058,\n",
              " 949968296,\n",
              " 796117769,\n",
              " 536552365,\n",
              " 512144081,\n",
              " 536922682,\n",
              " 324686515,\n",
              " 443339659,\n",
              " 226073797,\n",
              " 220452553,\n",
              " 139177036,\n",
              " 445910928,\n",
              " 237940638,\n",
              " 168136662,\n",
              " 902456166,\n",
              " 768946765,\n",
              " 552551152,\n",
              " 541439099,\n",
              " 799228330,\n",
              " 496780588,\n",
              " 671148182,\n",
              " 312874687,\n",
              " 535996667,\n",
              " 273278418,\n",
              " 926156185,\n",
              " 362579825,\n",
              " 363115619,\n",
              " 924605316,\n",
              " 432018319,\n",
              " 201083388,\n",
              " 958180034,\n",
              " 173257901,\n",
              " 976873233,\n",
              " 165013604,\n",
              " 497493275,\n",
              " 237261721,\n",
              " 161721971,\n",
              " 618757651,\n",
              " 530394812,\n",
              " 346218115,\n",
              " 240377099,\n",
              " 197346121,\n",
              " 446225468,\n",
              " 302855100,\n",
              " 498938661,\n",
              " 505789448,\n",
              " 607887503,\n",
              " 977356591,\n",
              " 650152055,\n",
              " 404539223,\n",
              " 360060237,\n",
              " 548188852,\n",
              " 593424683,\n",
              " 220177760,\n",
              " 585637850,\n",
              " 557905183,\n",
              " 166006042,\n",
              " 813743386,\n",
              " 478398636,\n",
              " 842897543,\n",
              " 542893218,\n",
              " 638498097,\n",
              " 624526531,\n",
              " 714869138,\n",
              " 757103712,\n",
              " 860242666,\n",
              " 809523007,\n",
              " 431271098,\n",
              " 840156773,\n",
              " 629812689,\n",
              " 597677939,\n",
              " 522943201,\n",
              " 707640956,\n",
              " 738533219,\n",
              " 915524736,\n",
              " 653426939,\n",
              " 902049880,\n",
              " 918598691,\n",
              " 670316855,\n",
              " 859706026,\n",
              " 160814947,\n",
              " 193803748,\n",
              " 503850646,\n",
              " 132672607,\n",
              " 723872377,\n",
              " 657826188,\n",
              " 380182034,\n",
              " 139886080,\n",
              " 826003156,\n",
              " 906740140,\n",
              " 869980236,\n",
              " 250962463,\n",
              " 280254402,\n",
              " 425294202,\n",
              " 317020922,\n",
              " 674985222,\n",
              " 277150494]"
            ]
          },
          "metadata": {},
          "execution_count": 10
        }
      ]
    },
    {
      "cell_type": "code",
      "source": [
        ""
      ],
      "metadata": {
        "id": "WXdu3Q5iZeXO"
      },
      "execution_count": null,
      "outputs": []
    },
    {
      "cell_type": "code",
      "source": [
        ""
      ],
      "metadata": {
        "id": "ht72uNibZeZT"
      },
      "execution_count": null,
      "outputs": []
    },
    {
      "cell_type": "code",
      "source": [
        ""
      ],
      "metadata": {
        "id": "3KxiukaTZebP"
      },
      "execution_count": null,
      "outputs": []
    },
    {
      "cell_type": "code",
      "source": [
        ""
      ],
      "metadata": {
        "id": "Uf0lfycQZehF"
      },
      "execution_count": null,
      "outputs": []
    },
    {
      "cell_type": "code",
      "source": [
        ""
      ],
      "metadata": {
        "id": "0Z9cP70VZejA"
      },
      "execution_count": null,
      "outputs": []
    },
    {
      "cell_type": "code",
      "source": [
        ""
      ],
      "metadata": {
        "id": "cS_KD0EXZelC"
      },
      "execution_count": null,
      "outputs": []
    }
  ]
}