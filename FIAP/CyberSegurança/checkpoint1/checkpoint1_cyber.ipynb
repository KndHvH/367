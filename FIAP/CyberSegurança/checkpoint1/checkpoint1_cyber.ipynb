{
 "nbformat": 4,
 "nbformat_minor": 0,
 "metadata": {
  "colab": {
   "name": "checkpoint1_cyber.ipynb",
   "provenance": [],
   "include_colab_link": true
  },
  "kernelspec": {
   "name": "python3",
   "display_name": "Python 3"
  },
  "language_info": {
   "name": "python"
  }
 },
 "cells": [
  {
   "cell_type": "markdown",
   "metadata": {
    "id": "view-in-github",
    "colab_type": "text"
   },
   "source": [
    "<a href=\"https://colab.research.google.com/github/KndHvH/fanta/blob/1/FIAP/CyberSeguran%C3%A7a/checkpoint1/checkpoint1_cyber.ipynb\" target=\"_parent\"><img src=\"https://colab.research.google.com/assets/colab-badge.svg\" alt=\"Open In Colab\"/></a>"
   ]
  },
  {
   "cell_type": "markdown",
   "source": [
    "# Instalando as bibliotecas"
   ],
   "metadata": {
    "collapsed": false,
    "id": "9UiHjM65pwvc"
   }
  },
  {
   "cell_type": "code",
   "execution_count": 131,
   "outputs": [],
   "source": [
    "!pip install -q pyngrok"
   ],
   "metadata": {
    "collapsed": false,
    "pycharm": {
     "name": "#%%\n"
    }
   }
  },
  {
   "cell_type": "code",
   "execution_count": 132,
   "outputs": [],
   "source": [
    "!pip install -q streamlit"
   ],
   "metadata": {
    "pycharm": {
     "name": "#%%\n"
    },
    "id": "K45CIiqhpwve"
   }
  },
  {
   "cell_type": "code",
   "execution_count": 133,
   "outputs": [],
   "source": [
    "!pip install -q streamlit_ace"
   ],
   "metadata": {
    "collapsed": false,
    "pycharm": {
     "name": "#%%\n"
    }
   }
  },
  {
   "cell_type": "code",
   "execution_count": 134,
   "outputs": [
    {
     "name": "stdout",
     "output_type": "stream",
     "text": [
      "Requirement already satisfied: fuzzywuzzy[speedup] in c:\\users\\mathe\\pycharmprojects\\120121\\venv\\lib\\site-packages (0.18.0)\n",
      "Requirement already satisfied: python-levenshtein>=0.12 in c:\\users\\mathe\\pycharmprojects\\120121\\venv\\lib\\site-packages (from fuzzywuzzy[speedup]) (0.12.2)\n",
      "Requirement already satisfied: setuptools in c:\\users\\mathe\\pycharmprojects\\120121\\venv\\lib\\site-packages (from python-levenshtein>=0.12->fuzzywuzzy[speedup]) (57.0.0)\n"
     ]
    }
   ],
   "source": [
    "!pip install fuzzywuzzy[speedup]"
   ],
   "metadata": {
    "collapsed": false,
    "pycharm": {
     "name": "#%%\n"
    }
   }
  },
  {
   "cell_type": "code",
   "execution_count": null,
   "outputs": [],
   "source": [
    "!streamlit run app.py &>/dev/null&"
   ],
   "metadata": {
    "collapsed": false,
    "pycharm": {
     "name": "#%%\n",
     "is_executing": true
    }
   }
  },
  {
   "cell_type": "markdown",
   "source": [
    "# Importando as bibliotecas\n"
   ],
   "metadata": {
    "id": "VnEsdRt0RPwl"
   }
  },
  {
   "cell_type": "code",
   "execution_count": 136,
   "metadata": {
    "id": "t5nLTMbgMmwT"
   },
   "outputs": [],
   "source": [
    "import requests as req\n",
    "import re\n",
    "from fuzzywuzzy import process\n",
    "from pyngrok import ngrok"
   ]
  },
  {
   "cell_type": "markdown",
   "source": [
    "# Importando APIs\n",
    "\n",
    "1. Lista de Terroristas INTERPOLL -> lista_interpoll\n",
    "1. Lista de Procurados Argentina -> lista_arg\n",
    "\n",
    "\n"
   ],
   "metadata": {
    "id": "mzW00jEOUc6S"
   }
  },
  {
   "cell_type": "code",
   "source": [
    "lista_interpol = req.get(\"https://cspinheiro.github.io/interpol.json\")\n",
    "lista_arg = req.get(\"https://kndhvh.github.io/arg.json\")"
   ],
   "metadata": {
    "id": "0VBoVejdRJs1"
   },
   "execution_count": 184,
   "outputs": []
  },
  {
   "cell_type": "markdown",
   "source": [
    "# Limpando os dados\n",
    "\n"
   ],
   "metadata": {
    "id": "rmo7HhoyUNFP"
   }
  },
  {
   "cell_type": "code",
   "source": [
    "arg = lista_arg.json()['arg']\n",
    "inter = lista_interpol.json()['interpol']\n",
    "\n",
    "lista_nomes=[]\n",
    "lista_passaporte=[]\n",
    "\n",
    "# colocando apenas os passaportes e nomes das duas APIs em 2 listas.\n",
    "for i in arg:\n",
    "  lista_passaporte.append(i['arg'])\n",
    "\n",
    "for i in inter:\n",
    "  lista_nomes.append(i['interpol'])\n",
    "\n"
   ],
   "metadata": {
    "id": "7ZdRmwPcSP0U"
   },
   "execution_count": 201,
   "outputs": []
  },
  {
   "cell_type": "code",
   "execution_count": 202,
   "outputs": [
    {
     "data": {
      "text/plain": "['Priscila dos Santos Pereira',\n 'Bruno de Oliveira Ribeiro',\n 'Pedro da Silva ',\n 'Luzia dos Anjos ',\n 'Luzivan de Oliveira ',\n 'Ricardo da Silva Leão',\n 'Bruna de Villas Boas ',\n 'Fernando dos Santos Pereira',\n 'Fernando de Oliveira Ribeiro',\n 'Pietra da Silva Rebouças',\n 'Fernanda dos Anjos Pinheiro',\n 'Fernando de Oliveira ',\n 'Patrícia da Silva Ribeiro',\n 'Fernando de Villas Boas ',\n 'Maurício dos Santos Pereira',\n 'Marlene de Oliveira Ribeiro',\n 'Nathan da Silva ',\n 'Maurício dos Anjos Pinheiro',\n 'Michael de Oliveira ',\n 'Maurício da Silva Ribeiro',\n 'Maurício de Villas Boas ',\n 'Isabelle dos Santos Pereira',\n 'João de Oliveira Ribeiro',\n 'Isabelle da Silva ',\n 'Isabelle dos Anjos Pinheiro',\n 'Isabelle de Oliveira ',\n 'Ana da Silva Ribeiro',\n 'Isabelle de Villas Boas ',\n 'Marianna dos Santos Pereira',\n 'Marianna de Oliveira Ribeiro',\n 'Marcos da Silva ',\n 'Marianna dos Anjos Pinheiro',\n 'Camila de Oliveira ',\n 'Marianna da Silva Ribeiro',\n 'Marianna de Villas Boas ',\n 'Pedro dos Santos Pereira',\n 'Leonardo de Oliveira Ribeiro',\n 'Pedro da Silva ',\n 'Pedro dos Anjos ',\n 'Pedro de Oliveira ',\n 'Silvana da Silva Leão',\n 'Pedro de Villas Boas ',\n 'Maria Clara Santos Pereira',\n 'Fabiana Oliveira Ribeiro',\n 'Maria Clara Silva ',\n 'Maria Clara Anjos ',\n 'Fábio Oliveira ',\n 'Maria Clara Silva Leão',\n 'Maria Clara Villas Boas ',\n 'Danielly Santos Pereira',\n 'Bárbara Oliveira Ribeiro',\n 'Danielly Silva ',\n 'Arthur Anjos ',\n 'Danielly Oliveira ',\n 'Luana Silva Leão',\n 'Danielly Villas Boas ',\n 'Larissa Santos Pereira',\n 'Larissa Oliveira Ribeiro',\n 'Sidinei Silva ',\n 'Keila Anjos ',\n 'Larissa Oliveira ',\n 'Lucas Silva Leão',\n 'Bianca Villas Boas ']"
     },
     "execution_count": 202,
     "metadata": {},
     "output_type": "execute_result"
    }
   ],
   "source": [
    "lista_nomes"
   ],
   "metadata": {
    "collapsed": false,
    "pycharm": {
     "name": "#%%\n"
    }
   }
  },
  {
   "cell_type": "code",
   "execution_count": 203,
   "outputs": [],
   "source": [
    "x = re.split('\\s','Pedro da Silva ')"
   ],
   "metadata": {
    "collapsed": false,
    "pycharm": {
     "name": "#%%\n"
    }
   }
  },
  {
   "cell_type": "code",
   "execution_count": 204,
   "outputs": [
    {
     "data": {
      "text/plain": "['Pedro', 'da', 'Silva', '']"
     },
     "execution_count": 204,
     "metadata": {},
     "output_type": "execute_result"
    }
   ],
   "source": [
    "x"
   ],
   "metadata": {
    "collapsed": false,
    "pycharm": {
     "name": "#%%\n"
    }
   }
  },
  {
   "cell_type": "code",
   "execution_count": 195,
   "outputs": [
    {
     "data": {
      "text/plain": "63"
     },
     "execution_count": 195,
     "metadata": {},
     "output_type": "execute_result"
    }
   ],
   "source": [
    "len(lista_nomes)"
   ],
   "metadata": {
    "collapsed": false,
    "pycharm": {
     "name": "#%%\n"
    }
   }
  },
  {
   "cell_type": "code",
   "execution_count": 199,
   "outputs": [],
   "source": [
    "import re\n",
    "for i in range(len(lista_nomes)):\n",
    "    x = re.split('\\s',lista_nomes[i])\n",
    "    lista_nomes[i] = x[0] + ' ' + x[(len(x)-1)]\n"
   ],
   "metadata": {
    "collapsed": false,
    "pycharm": {
     "name": "#%%\n"
    }
   }
  },
  {
   "cell_type": "code",
   "execution_count": 200,
   "outputs": [
    {
     "data": {
      "text/plain": "['Priscila Pereira',\n 'Bruno Ribeiro',\n 'Pedro ',\n 'Luzia ',\n 'Luzivan ',\n 'Ricardo Leão',\n 'Bruna ',\n 'Fernando Pereira',\n 'Fernando Ribeiro',\n 'Pietra Rebouças',\n 'Fernanda Pinheiro',\n 'Fernando ',\n 'Patrícia Ribeiro',\n 'Fernando ',\n 'Maurício Pereira',\n 'Marlene Ribeiro',\n 'Nathan ',\n 'Maurício Pinheiro',\n 'Michael ',\n 'Maurício Ribeiro',\n 'Maurício ',\n 'Isabelle Pereira',\n 'João Ribeiro',\n 'Isabelle ',\n 'Isabelle Pinheiro',\n 'Isabelle ',\n 'Ana Ribeiro',\n 'Isabelle ',\n 'Marianna Pereira',\n 'Marianna Ribeiro',\n 'Marcos ',\n 'Marianna Pinheiro',\n 'Camila ',\n 'Marianna Ribeiro',\n 'Marianna ',\n 'Pedro Pereira',\n 'Leonardo Ribeiro',\n 'Pedro ',\n 'Pedro ',\n 'Pedro ',\n 'Silvana Leão',\n 'Pedro ',\n 'Maria Pereira',\n 'Fabiana Ribeiro',\n 'Maria ',\n 'Maria ',\n 'Fábio ',\n 'Maria Leão',\n 'Maria ',\n 'Danielly Pereira',\n 'Bárbara Ribeiro',\n 'Danielly ',\n 'Arthur ',\n 'Danielly ',\n 'Luana Leão',\n 'Danielly ',\n 'Larissa Pereira',\n 'Larissa Ribeiro',\n 'Sidinei ',\n 'Keila ',\n 'Larissa ',\n 'Lucas Leão',\n 'Bianca ']"
     },
     "execution_count": 200,
     "metadata": {},
     "output_type": "execute_result"
    }
   ],
   "source": [
    "lista_nomes"
   ],
   "metadata": {
    "collapsed": false,
    "pycharm": {
     "name": "#%%\n"
    }
   }
  },
  {
   "cell_type": "code",
   "execution_count": null,
   "outputs": [],
   "source": [
    "nomes"
   ],
   "metadata": {
    "collapsed": false,
    "pycharm": {
     "name": "#%%\n",
     "is_executing": true
    }
   }
  },
  {
   "cell_type": "markdown",
   "source": [
    "# Verificando se algum nome bate exatamente com o inserido, usando fuzzywuzzy."
   ],
   "metadata": {
    "collapsed": false,
    "id": "0ttwdBNspwvn"
   }
  },
  {
   "cell_type": "code",
   "execution_count": 139,
   "outputs": [],
   "source": [
    "  def getMatch_pass(field,list):\n",
    "      search_list = process.extract(field,list)\n",
    "      result=[]\n",
    "      result2=[]\n",
    "\n",
    "      for text in search_list:\n",
    "          if text[1] > 90:\n",
    "            result2.append(text)\n",
    "          if text[1] > 50:\n",
    "            result.append(text)\n",
    "\n",
    "          if len(result2) > 0:\n",
    "              return '[CUIDADO] Passaporte proibido, deter imediatamente!'\n",
    "          elif len(result) == 0:\n",
    "             return 'Passaporte liberado!'\n",
    "          return '[CUIDADO] Passaporte suspeito, favor investigar!'"
   ],
   "metadata": {
    "pycharm": {
     "name": "#%%\n"
    },
    "id": "p-e4pJlxpwvn"
   }
  },
  {
   "cell_type": "markdown",
   "source": [
    "# Funcao criacao Web Page"
   ],
   "metadata": {
    "collapsed": false,
    "id": "UnwJH-IKpwvn"
   }
  },
  {
   "cell_type": "code",
   "source": [
    "%%writefile app.py\n",
    "import streamlit as st\n",
    "\n",
    "def main():\n",
    "\n",
    "  html_temp = \"\"\" <div style =\"background-color:blue;padding:13px\">\n",
    "                    <h1 style = \"color:white;text-align:center;\">Detector jogador de LOL</h1>\n",
    "                  </dic>\n",
    "              \"\"\"\n",
    "\n",
    "  st.markdown(html_temp, unsafe_allow_html = True)\n",
    "\n",
    "  input_passaporte = st.text_input('Passaporte')\n",
    "\n",
    "\n",
    "\n",
    "  out = getMatch_pass(input_passaporte,passaportes)\n",
    "  if st.button(\"Verificar\"):\n",
    "    st.success(out)\n",
    "\n",
    "  nome = st.text_input('Nome Completo')\n",
    "\n",
    "if __name__=='__main__':\n",
    "    main()"
   ],
   "metadata": {
    "id": "0Z9cP70VZejA",
    "outputId": "59e1ba09-25a3-4d07-e011-04af39560d8a",
    "colab": {
     "base_uri": "https://localhost:8080/"
    }
   },
   "execution_count": 140,
   "outputs": [
    {
     "name": "stdout",
     "output_type": "stream",
     "text": [
      "Overwriting app.py\n"
     ]
    }
   ]
  },
  {
   "cell_type": "code",
   "execution_count": null,
   "outputs": [],
   "source": [
    "getMatch_pass(passaportes,'1112')"
   ],
   "metadata": {
    "collapsed": false,
    "pycharm": {
     "name": "#%%\n",
     "is_executing": true
    }
   }
  },
  {
   "cell_type": "code",
   "execution_count": null,
   "outputs": [],
   "source": [],
   "metadata": {
    "collapsed": false,
    "pycharm": {
     "name": "#%%\n"
    }
   }
  },
  {
   "cell_type": "code",
   "source": [
    "!streamlit run app.py & npx localtunnel --port 8501"
   ],
   "metadata": {
    "id": "cS_KD0EXZelC",
    "outputId": "e4bf3944-14da-47e0-a4ca-3095c39549d6"
   },
   "execution_count": null,
   "outputs": []
  },
  {
   "cell_type": "code",
   "execution_count": null,
   "outputs": [],
   "source": [
    ""
   ],
   "metadata": {
    "pycharm": {
     "name": "#%%\n"
    },
    "id": "nwPA0W0Dpwvo"
   }
  }
 ]
}