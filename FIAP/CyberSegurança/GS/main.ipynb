{
 "cells": [
  {
   "cell_type": "markdown",
   "source": [
    "# Global Solution: Cyber Security\n",
    "\n",
    "RM 94199 - Matias Cornelsen Herklotz\n",
    "\n",
    "RM 93821 - Gustavo Jordão Santos\n",
    "\n",
    "RM 94026 - Daniel Faria de Barros"
   ],
   "metadata": {
    "collapsed": false
   }
  },
  {
   "cell_type": "markdown",
   "source": [
    "## Importando Bibliotecas"
   ],
   "metadata": {
    "collapsed": false
   }
  },
  {
   "cell_type": "code",
   "execution_count": 38,
   "metadata": {
    "collapsed": true
   },
   "outputs": [],
   "source": [
    "#df\n",
    "import pandas as pd\n",
    "\n",
    "#graphs\n",
    "import matplotlib.pyplot as plt\n",
    "import seaborn as sns\n",
    "\n",
    "#train test spli\n",
    "from sklearn.model_selection import train_test_split\n",
    "\n",
    "#metrics\n",
    "from sklearn.metrics import accuracy_score\n",
    "from sklearn.metrics import precision_score\n",
    "from sklearn.metrics import f1_score\n",
    "from sklearn.metrics import recall_score\n",
    "from sklearn.metrics import plot_confusion_matrix\n",
    "\n",
    "#scaler\n",
    "from sklearn.preprocessing import MinMaxScaler\n",
    "\n",
    "# Modelo\n",
    "from sklearn.neural_network import MLPClassifier\n",
    "\n",
    "# Apenas para evitar warnings\n",
    "import warnings\n",
    "warnings.filterwarnings('ignore')\n",
    "\n"
   ]
  },
  {
   "cell_type": "markdown",
   "source": [
    "## Código"
   ],
   "metadata": {
    "collapsed": false
   }
  },
  {
   "cell_type": "markdown",
   "source": [
    "### Analisando a Database"
   ],
   "metadata": {
    "collapsed": false
   }
  },
  {
   "cell_type": "code",
   "execution_count": 39,
   "outputs": [],
   "source": [
    "df = pd.read_csv(\"./PS.csv\")"
   ],
   "metadata": {
    "collapsed": false,
    "pycharm": {
     "name": "#%%\n"
    }
   }
  },
  {
   "cell_type": "code",
   "execution_count": 40,
   "outputs": [
    {
     "data": {
      "text/plain": "         step      type      amount     nameOrig  oldbalanceOrg  \\\n0           1   PAYMENT     9839.64  C1231006815      170136.00   \n1           1   PAYMENT     1864.28  C1666544295       21249.00   \n2           1  TRANSFER      181.00  C1305486145         181.00   \n3           1  CASH_OUT      181.00   C840083671         181.00   \n4           1   PAYMENT    11668.14  C2048537720       41554.00   \n...       ...       ...         ...          ...            ...   \n6362615   743  CASH_OUT   339682.13   C786484425      339682.13   \n6362616   743  TRANSFER  6311409.28  C1529008245     6311409.28   \n6362617   743  CASH_OUT  6311409.28  C1162922333     6311409.28   \n6362618   743  TRANSFER   850002.52  C1685995037      850002.52   \n6362619   743  CASH_OUT   850002.52  C1280323807      850002.52   \n\n         newbalanceOrig     nameDest  oldbalanceDest  newbalanceDest  isFraud  \\\n0             160296.36  M1979787155            0.00            0.00        0   \n1              19384.72  M2044282225            0.00            0.00        0   \n2                  0.00   C553264065            0.00            0.00        1   \n3                  0.00    C38997010        21182.00            0.00        1   \n4              29885.86  M1230701703            0.00            0.00        0   \n...                 ...          ...             ...             ...      ...   \n6362615            0.00   C776919290            0.00       339682.13        1   \n6362616            0.00  C1881841831            0.00            0.00        1   \n6362617            0.00  C1365125890        68488.84      6379898.11        1   \n6362618            0.00  C2080388513            0.00            0.00        1   \n6362619            0.00   C873221189      6510099.11      7360101.63        1   \n\n         isFlaggedFraud  \n0                     0  \n1                     0  \n2                     0  \n3                     0  \n4                     0  \n...                 ...  \n6362615               0  \n6362616               0  \n6362617               0  \n6362618               0  \n6362619               0  \n\n[6362620 rows x 11 columns]",
      "text/html": "<div>\n<style scoped>\n    .dataframe tbody tr th:only-of-type {\n        vertical-align: middle;\n    }\n\n    .dataframe tbody tr th {\n        vertical-align: top;\n    }\n\n    .dataframe thead th {\n        text-align: right;\n    }\n</style>\n<table border=\"1\" class=\"dataframe\">\n  <thead>\n    <tr style=\"text-align: right;\">\n      <th></th>\n      <th>step</th>\n      <th>type</th>\n      <th>amount</th>\n      <th>nameOrig</th>\n      <th>oldbalanceOrg</th>\n      <th>newbalanceOrig</th>\n      <th>nameDest</th>\n      <th>oldbalanceDest</th>\n      <th>newbalanceDest</th>\n      <th>isFraud</th>\n      <th>isFlaggedFraud</th>\n    </tr>\n  </thead>\n  <tbody>\n    <tr>\n      <th>0</th>\n      <td>1</td>\n      <td>PAYMENT</td>\n      <td>9839.64</td>\n      <td>C1231006815</td>\n      <td>170136.00</td>\n      <td>160296.36</td>\n      <td>M1979787155</td>\n      <td>0.00</td>\n      <td>0.00</td>\n      <td>0</td>\n      <td>0</td>\n    </tr>\n    <tr>\n      <th>1</th>\n      <td>1</td>\n      <td>PAYMENT</td>\n      <td>1864.28</td>\n      <td>C1666544295</td>\n      <td>21249.00</td>\n      <td>19384.72</td>\n      <td>M2044282225</td>\n      <td>0.00</td>\n      <td>0.00</td>\n      <td>0</td>\n      <td>0</td>\n    </tr>\n    <tr>\n      <th>2</th>\n      <td>1</td>\n      <td>TRANSFER</td>\n      <td>181.00</td>\n      <td>C1305486145</td>\n      <td>181.00</td>\n      <td>0.00</td>\n      <td>C553264065</td>\n      <td>0.00</td>\n      <td>0.00</td>\n      <td>1</td>\n      <td>0</td>\n    </tr>\n    <tr>\n      <th>3</th>\n      <td>1</td>\n      <td>CASH_OUT</td>\n      <td>181.00</td>\n      <td>C840083671</td>\n      <td>181.00</td>\n      <td>0.00</td>\n      <td>C38997010</td>\n      <td>21182.00</td>\n      <td>0.00</td>\n      <td>1</td>\n      <td>0</td>\n    </tr>\n    <tr>\n      <th>4</th>\n      <td>1</td>\n      <td>PAYMENT</td>\n      <td>11668.14</td>\n      <td>C2048537720</td>\n      <td>41554.00</td>\n      <td>29885.86</td>\n      <td>M1230701703</td>\n      <td>0.00</td>\n      <td>0.00</td>\n      <td>0</td>\n      <td>0</td>\n    </tr>\n    <tr>\n      <th>...</th>\n      <td>...</td>\n      <td>...</td>\n      <td>...</td>\n      <td>...</td>\n      <td>...</td>\n      <td>...</td>\n      <td>...</td>\n      <td>...</td>\n      <td>...</td>\n      <td>...</td>\n      <td>...</td>\n    </tr>\n    <tr>\n      <th>6362615</th>\n      <td>743</td>\n      <td>CASH_OUT</td>\n      <td>339682.13</td>\n      <td>C786484425</td>\n      <td>339682.13</td>\n      <td>0.00</td>\n      <td>C776919290</td>\n      <td>0.00</td>\n      <td>339682.13</td>\n      <td>1</td>\n      <td>0</td>\n    </tr>\n    <tr>\n      <th>6362616</th>\n      <td>743</td>\n      <td>TRANSFER</td>\n      <td>6311409.28</td>\n      <td>C1529008245</td>\n      <td>6311409.28</td>\n      <td>0.00</td>\n      <td>C1881841831</td>\n      <td>0.00</td>\n      <td>0.00</td>\n      <td>1</td>\n      <td>0</td>\n    </tr>\n    <tr>\n      <th>6362617</th>\n      <td>743</td>\n      <td>CASH_OUT</td>\n      <td>6311409.28</td>\n      <td>C1162922333</td>\n      <td>6311409.28</td>\n      <td>0.00</td>\n      <td>C1365125890</td>\n      <td>68488.84</td>\n      <td>6379898.11</td>\n      <td>1</td>\n      <td>0</td>\n    </tr>\n    <tr>\n      <th>6362618</th>\n      <td>743</td>\n      <td>TRANSFER</td>\n      <td>850002.52</td>\n      <td>C1685995037</td>\n      <td>850002.52</td>\n      <td>0.00</td>\n      <td>C2080388513</td>\n      <td>0.00</td>\n      <td>0.00</td>\n      <td>1</td>\n      <td>0</td>\n    </tr>\n    <tr>\n      <th>6362619</th>\n      <td>743</td>\n      <td>CASH_OUT</td>\n      <td>850002.52</td>\n      <td>C1280323807</td>\n      <td>850002.52</td>\n      <td>0.00</td>\n      <td>C873221189</td>\n      <td>6510099.11</td>\n      <td>7360101.63</td>\n      <td>1</td>\n      <td>0</td>\n    </tr>\n  </tbody>\n</table>\n<p>6362620 rows × 11 columns</p>\n</div>"
     },
     "execution_count": 40,
     "metadata": {},
     "output_type": "execute_result"
    }
   ],
   "source": [
    "df"
   ],
   "metadata": {
    "collapsed": false,
    "pycharm": {
     "name": "#%%\n"
    }
   }
  },
  {
   "cell_type": "code",
   "execution_count": 41,
   "outputs": [
    {
     "name": "stdout",
     "output_type": "stream",
     "text": [
      "<class 'pandas.core.frame.DataFrame'>\n",
      "RangeIndex: 6362620 entries, 0 to 6362619\n",
      "Data columns (total 11 columns):\n",
      " #   Column          Dtype  \n",
      "---  ------          -----  \n",
      " 0   step            int64  \n",
      " 1   type            object \n",
      " 2   amount          float64\n",
      " 3   nameOrig        object \n",
      " 4   oldbalanceOrg   float64\n",
      " 5   newbalanceOrig  float64\n",
      " 6   nameDest        object \n",
      " 7   oldbalanceDest  float64\n",
      " 8   newbalanceDest  float64\n",
      " 9   isFraud         int64  \n",
      " 10  isFlaggedFraud  int64  \n",
      "dtypes: float64(5), int64(3), object(3)\n",
      "memory usage: 534.0+ MB\n"
     ]
    }
   ],
   "source": [
    "df.info()"
   ],
   "metadata": {
    "collapsed": false,
    "pycharm": {
     "name": "#%%\n"
    }
   }
  },
  {
   "cell_type": "code",
   "execution_count": 42,
   "outputs": [
    {
     "data": {
      "text/plain": "step                  743\ntype                    5\namount            5316900\nnameOrig          6353307\noldbalanceOrg     1845844\nnewbalanceOrig    2682586\nnameDest          2722362\noldbalanceDest    3614697\nnewbalanceDest    3555499\nisFraud                 2\nisFlaggedFraud          2\ndtype: int64"
     },
     "execution_count": 42,
     "metadata": {},
     "output_type": "execute_result"
    }
   ],
   "source": [
    "df.nunique()"
   ],
   "metadata": {
    "collapsed": false,
    "pycharm": {
     "name": "#%%\n"
    }
   }
  },
  {
   "cell_type": "markdown",
   "source": [
    "### Retirando colunas que não consideramos necessarias:\n",
    "- Name Origin\n",
    "- Name Dest"
   ],
   "metadata": {
    "collapsed": false
   }
  },
  {
   "cell_type": "code",
   "execution_count": 43,
   "outputs": [
    {
     "data": {
      "text/plain": "         step      type      amount  oldbalanceOrg  newbalanceOrig  \\\n0           1   PAYMENT     9839.64      170136.00       160296.36   \n1           1   PAYMENT     1864.28       21249.00        19384.72   \n2           1  TRANSFER      181.00         181.00            0.00   \n3           1  CASH_OUT      181.00         181.00            0.00   \n4           1   PAYMENT    11668.14       41554.00        29885.86   \n...       ...       ...         ...            ...             ...   \n6362615   743  CASH_OUT   339682.13      339682.13            0.00   \n6362616   743  TRANSFER  6311409.28     6311409.28            0.00   \n6362617   743  CASH_OUT  6311409.28     6311409.28            0.00   \n6362618   743  TRANSFER   850002.52      850002.52            0.00   \n6362619   743  CASH_OUT   850002.52      850002.52            0.00   \n\n         oldbalanceDest  newbalanceDest  isFraud  isFlaggedFraud  \n0                  0.00            0.00        0               0  \n1                  0.00            0.00        0               0  \n2                  0.00            0.00        1               0  \n3              21182.00            0.00        1               0  \n4                  0.00            0.00        0               0  \n...                 ...             ...      ...             ...  \n6362615            0.00       339682.13        1               0  \n6362616            0.00            0.00        1               0  \n6362617        68488.84      6379898.11        1               0  \n6362618            0.00            0.00        1               0  \n6362619      6510099.11      7360101.63        1               0  \n\n[6362620 rows x 9 columns]",
      "text/html": "<div>\n<style scoped>\n    .dataframe tbody tr th:only-of-type {\n        vertical-align: middle;\n    }\n\n    .dataframe tbody tr th {\n        vertical-align: top;\n    }\n\n    .dataframe thead th {\n        text-align: right;\n    }\n</style>\n<table border=\"1\" class=\"dataframe\">\n  <thead>\n    <tr style=\"text-align: right;\">\n      <th></th>\n      <th>step</th>\n      <th>type</th>\n      <th>amount</th>\n      <th>oldbalanceOrg</th>\n      <th>newbalanceOrig</th>\n      <th>oldbalanceDest</th>\n      <th>newbalanceDest</th>\n      <th>isFraud</th>\n      <th>isFlaggedFraud</th>\n    </tr>\n  </thead>\n  <tbody>\n    <tr>\n      <th>0</th>\n      <td>1</td>\n      <td>PAYMENT</td>\n      <td>9839.64</td>\n      <td>170136.00</td>\n      <td>160296.36</td>\n      <td>0.00</td>\n      <td>0.00</td>\n      <td>0</td>\n      <td>0</td>\n    </tr>\n    <tr>\n      <th>1</th>\n      <td>1</td>\n      <td>PAYMENT</td>\n      <td>1864.28</td>\n      <td>21249.00</td>\n      <td>19384.72</td>\n      <td>0.00</td>\n      <td>0.00</td>\n      <td>0</td>\n      <td>0</td>\n    </tr>\n    <tr>\n      <th>2</th>\n      <td>1</td>\n      <td>TRANSFER</td>\n      <td>181.00</td>\n      <td>181.00</td>\n      <td>0.00</td>\n      <td>0.00</td>\n      <td>0.00</td>\n      <td>1</td>\n      <td>0</td>\n    </tr>\n    <tr>\n      <th>3</th>\n      <td>1</td>\n      <td>CASH_OUT</td>\n      <td>181.00</td>\n      <td>181.00</td>\n      <td>0.00</td>\n      <td>21182.00</td>\n      <td>0.00</td>\n      <td>1</td>\n      <td>0</td>\n    </tr>\n    <tr>\n      <th>4</th>\n      <td>1</td>\n      <td>PAYMENT</td>\n      <td>11668.14</td>\n      <td>41554.00</td>\n      <td>29885.86</td>\n      <td>0.00</td>\n      <td>0.00</td>\n      <td>0</td>\n      <td>0</td>\n    </tr>\n    <tr>\n      <th>...</th>\n      <td>...</td>\n      <td>...</td>\n      <td>...</td>\n      <td>...</td>\n      <td>...</td>\n      <td>...</td>\n      <td>...</td>\n      <td>...</td>\n      <td>...</td>\n    </tr>\n    <tr>\n      <th>6362615</th>\n      <td>743</td>\n      <td>CASH_OUT</td>\n      <td>339682.13</td>\n      <td>339682.13</td>\n      <td>0.00</td>\n      <td>0.00</td>\n      <td>339682.13</td>\n      <td>1</td>\n      <td>0</td>\n    </tr>\n    <tr>\n      <th>6362616</th>\n      <td>743</td>\n      <td>TRANSFER</td>\n      <td>6311409.28</td>\n      <td>6311409.28</td>\n      <td>0.00</td>\n      <td>0.00</td>\n      <td>0.00</td>\n      <td>1</td>\n      <td>0</td>\n    </tr>\n    <tr>\n      <th>6362617</th>\n      <td>743</td>\n      <td>CASH_OUT</td>\n      <td>6311409.28</td>\n      <td>6311409.28</td>\n      <td>0.00</td>\n      <td>68488.84</td>\n      <td>6379898.11</td>\n      <td>1</td>\n      <td>0</td>\n    </tr>\n    <tr>\n      <th>6362618</th>\n      <td>743</td>\n      <td>TRANSFER</td>\n      <td>850002.52</td>\n      <td>850002.52</td>\n      <td>0.00</td>\n      <td>0.00</td>\n      <td>0.00</td>\n      <td>1</td>\n      <td>0</td>\n    </tr>\n    <tr>\n      <th>6362619</th>\n      <td>743</td>\n      <td>CASH_OUT</td>\n      <td>850002.52</td>\n      <td>850002.52</td>\n      <td>0.00</td>\n      <td>6510099.11</td>\n      <td>7360101.63</td>\n      <td>1</td>\n      <td>0</td>\n    </tr>\n  </tbody>\n</table>\n<p>6362620 rows × 9 columns</p>\n</div>"
     },
     "execution_count": 43,
     "metadata": {},
     "output_type": "execute_result"
    }
   ],
   "source": [
    "df.drop(columns=[\"nameDest\",\"nameOrig\"],inplace=True)\n",
    "df"
   ],
   "metadata": {
    "collapsed": false,
    "pycharm": {
     "name": "#%%\n"
    }
   }
  },
  {
   "cell_type": "markdown",
   "source": [
    "### Retirando linhas duplicadas"
   ],
   "metadata": {
    "collapsed": false
   }
  },
  {
   "cell_type": "code",
   "execution_count": 44,
   "outputs": [
    {
     "data": {
      "text/plain": "         step      type      amount  oldbalanceOrg  newbalanceOrig  \\\n0           1   PAYMENT     9839.64      170136.00       160296.36   \n1           1   PAYMENT     1864.28       21249.00        19384.72   \n2           1  TRANSFER      181.00         181.00            0.00   \n3           1  CASH_OUT      181.00         181.00            0.00   \n4           1   PAYMENT    11668.14       41554.00        29885.86   \n...       ...       ...         ...            ...             ...   \n6362615   743  CASH_OUT   339682.13      339682.13            0.00   \n6362616   743  TRANSFER  6311409.28     6311409.28            0.00   \n6362617   743  CASH_OUT  6311409.28     6311409.28            0.00   \n6362618   743  TRANSFER   850002.52      850002.52            0.00   \n6362619   743  CASH_OUT   850002.52      850002.52            0.00   \n\n         oldbalanceDest  newbalanceDest  isFraud  isFlaggedFraud  \n0                  0.00            0.00        0               0  \n1                  0.00            0.00        0               0  \n2                  0.00            0.00        1               0  \n3              21182.00            0.00        1               0  \n4                  0.00            0.00        0               0  \n...                 ...             ...      ...             ...  \n6362615            0.00       339682.13        1               0  \n6362616            0.00            0.00        1               0  \n6362617        68488.84      6379898.11        1               0  \n6362618            0.00            0.00        1               0  \n6362619      6510099.11      7360101.63        1               0  \n\n[6362077 rows x 9 columns]",
      "text/html": "<div>\n<style scoped>\n    .dataframe tbody tr th:only-of-type {\n        vertical-align: middle;\n    }\n\n    .dataframe tbody tr th {\n        vertical-align: top;\n    }\n\n    .dataframe thead th {\n        text-align: right;\n    }\n</style>\n<table border=\"1\" class=\"dataframe\">\n  <thead>\n    <tr style=\"text-align: right;\">\n      <th></th>\n      <th>step</th>\n      <th>type</th>\n      <th>amount</th>\n      <th>oldbalanceOrg</th>\n      <th>newbalanceOrig</th>\n      <th>oldbalanceDest</th>\n      <th>newbalanceDest</th>\n      <th>isFraud</th>\n      <th>isFlaggedFraud</th>\n    </tr>\n  </thead>\n  <tbody>\n    <tr>\n      <th>0</th>\n      <td>1</td>\n      <td>PAYMENT</td>\n      <td>9839.64</td>\n      <td>170136.00</td>\n      <td>160296.36</td>\n      <td>0.00</td>\n      <td>0.00</td>\n      <td>0</td>\n      <td>0</td>\n    </tr>\n    <tr>\n      <th>1</th>\n      <td>1</td>\n      <td>PAYMENT</td>\n      <td>1864.28</td>\n      <td>21249.00</td>\n      <td>19384.72</td>\n      <td>0.00</td>\n      <td>0.00</td>\n      <td>0</td>\n      <td>0</td>\n    </tr>\n    <tr>\n      <th>2</th>\n      <td>1</td>\n      <td>TRANSFER</td>\n      <td>181.00</td>\n      <td>181.00</td>\n      <td>0.00</td>\n      <td>0.00</td>\n      <td>0.00</td>\n      <td>1</td>\n      <td>0</td>\n    </tr>\n    <tr>\n      <th>3</th>\n      <td>1</td>\n      <td>CASH_OUT</td>\n      <td>181.00</td>\n      <td>181.00</td>\n      <td>0.00</td>\n      <td>21182.00</td>\n      <td>0.00</td>\n      <td>1</td>\n      <td>0</td>\n    </tr>\n    <tr>\n      <th>4</th>\n      <td>1</td>\n      <td>PAYMENT</td>\n      <td>11668.14</td>\n      <td>41554.00</td>\n      <td>29885.86</td>\n      <td>0.00</td>\n      <td>0.00</td>\n      <td>0</td>\n      <td>0</td>\n    </tr>\n    <tr>\n      <th>...</th>\n      <td>...</td>\n      <td>...</td>\n      <td>...</td>\n      <td>...</td>\n      <td>...</td>\n      <td>...</td>\n      <td>...</td>\n      <td>...</td>\n      <td>...</td>\n    </tr>\n    <tr>\n      <th>6362615</th>\n      <td>743</td>\n      <td>CASH_OUT</td>\n      <td>339682.13</td>\n      <td>339682.13</td>\n      <td>0.00</td>\n      <td>0.00</td>\n      <td>339682.13</td>\n      <td>1</td>\n      <td>0</td>\n    </tr>\n    <tr>\n      <th>6362616</th>\n      <td>743</td>\n      <td>TRANSFER</td>\n      <td>6311409.28</td>\n      <td>6311409.28</td>\n      <td>0.00</td>\n      <td>0.00</td>\n      <td>0.00</td>\n      <td>1</td>\n      <td>0</td>\n    </tr>\n    <tr>\n      <th>6362617</th>\n      <td>743</td>\n      <td>CASH_OUT</td>\n      <td>6311409.28</td>\n      <td>6311409.28</td>\n      <td>0.00</td>\n      <td>68488.84</td>\n      <td>6379898.11</td>\n      <td>1</td>\n      <td>0</td>\n    </tr>\n    <tr>\n      <th>6362618</th>\n      <td>743</td>\n      <td>TRANSFER</td>\n      <td>850002.52</td>\n      <td>850002.52</td>\n      <td>0.00</td>\n      <td>0.00</td>\n      <td>0.00</td>\n      <td>1</td>\n      <td>0</td>\n    </tr>\n    <tr>\n      <th>6362619</th>\n      <td>743</td>\n      <td>CASH_OUT</td>\n      <td>850002.52</td>\n      <td>850002.52</td>\n      <td>0.00</td>\n      <td>6510099.11</td>\n      <td>7360101.63</td>\n      <td>1</td>\n      <td>0</td>\n    </tr>\n  </tbody>\n</table>\n<p>6362077 rows × 9 columns</p>\n</div>"
     },
     "execution_count": 44,
     "metadata": {},
     "output_type": "execute_result"
    }
   ],
   "source": [
    "df.drop_duplicates(inplace=True)\n",
    "df"
   ],
   "metadata": {
    "collapsed": false,
    "pycharm": {
     "name": "#%%\n"
    }
   }
  },
  {
   "cell_type": "markdown",
   "source": [
    "### Retirando linhas com dados faltantes"
   ],
   "metadata": {
    "collapsed": false
   }
  },
  {
   "cell_type": "code",
   "execution_count": 45,
   "outputs": [
    {
     "data": {
      "text/plain": "         step      type      amount  oldbalanceOrg  newbalanceOrig  \\\n0           1   PAYMENT     9839.64      170136.00       160296.36   \n1           1   PAYMENT     1864.28       21249.00        19384.72   \n2           1  TRANSFER      181.00         181.00            0.00   \n3           1  CASH_OUT      181.00         181.00            0.00   \n4           1   PAYMENT    11668.14       41554.00        29885.86   \n...       ...       ...         ...            ...             ...   \n6362615   743  CASH_OUT   339682.13      339682.13            0.00   \n6362616   743  TRANSFER  6311409.28     6311409.28            0.00   \n6362617   743  CASH_OUT  6311409.28     6311409.28            0.00   \n6362618   743  TRANSFER   850002.52      850002.52            0.00   \n6362619   743  CASH_OUT   850002.52      850002.52            0.00   \n\n         oldbalanceDest  newbalanceDest  isFraud  isFlaggedFraud  \n0                  0.00            0.00        0               0  \n1                  0.00            0.00        0               0  \n2                  0.00            0.00        1               0  \n3              21182.00            0.00        1               0  \n4                  0.00            0.00        0               0  \n...                 ...             ...      ...             ...  \n6362615            0.00       339682.13        1               0  \n6362616            0.00            0.00        1               0  \n6362617        68488.84      6379898.11        1               0  \n6362618            0.00            0.00        1               0  \n6362619      6510099.11      7360101.63        1               0  \n\n[6362077 rows x 9 columns]",
      "text/html": "<div>\n<style scoped>\n    .dataframe tbody tr th:only-of-type {\n        vertical-align: middle;\n    }\n\n    .dataframe tbody tr th {\n        vertical-align: top;\n    }\n\n    .dataframe thead th {\n        text-align: right;\n    }\n</style>\n<table border=\"1\" class=\"dataframe\">\n  <thead>\n    <tr style=\"text-align: right;\">\n      <th></th>\n      <th>step</th>\n      <th>type</th>\n      <th>amount</th>\n      <th>oldbalanceOrg</th>\n      <th>newbalanceOrig</th>\n      <th>oldbalanceDest</th>\n      <th>newbalanceDest</th>\n      <th>isFraud</th>\n      <th>isFlaggedFraud</th>\n    </tr>\n  </thead>\n  <tbody>\n    <tr>\n      <th>0</th>\n      <td>1</td>\n      <td>PAYMENT</td>\n      <td>9839.64</td>\n      <td>170136.00</td>\n      <td>160296.36</td>\n      <td>0.00</td>\n      <td>0.00</td>\n      <td>0</td>\n      <td>0</td>\n    </tr>\n    <tr>\n      <th>1</th>\n      <td>1</td>\n      <td>PAYMENT</td>\n      <td>1864.28</td>\n      <td>21249.00</td>\n      <td>19384.72</td>\n      <td>0.00</td>\n      <td>0.00</td>\n      <td>0</td>\n      <td>0</td>\n    </tr>\n    <tr>\n      <th>2</th>\n      <td>1</td>\n      <td>TRANSFER</td>\n      <td>181.00</td>\n      <td>181.00</td>\n      <td>0.00</td>\n      <td>0.00</td>\n      <td>0.00</td>\n      <td>1</td>\n      <td>0</td>\n    </tr>\n    <tr>\n      <th>3</th>\n      <td>1</td>\n      <td>CASH_OUT</td>\n      <td>181.00</td>\n      <td>181.00</td>\n      <td>0.00</td>\n      <td>21182.00</td>\n      <td>0.00</td>\n      <td>1</td>\n      <td>0</td>\n    </tr>\n    <tr>\n      <th>4</th>\n      <td>1</td>\n      <td>PAYMENT</td>\n      <td>11668.14</td>\n      <td>41554.00</td>\n      <td>29885.86</td>\n      <td>0.00</td>\n      <td>0.00</td>\n      <td>0</td>\n      <td>0</td>\n    </tr>\n    <tr>\n      <th>...</th>\n      <td>...</td>\n      <td>...</td>\n      <td>...</td>\n      <td>...</td>\n      <td>...</td>\n      <td>...</td>\n      <td>...</td>\n      <td>...</td>\n      <td>...</td>\n    </tr>\n    <tr>\n      <th>6362615</th>\n      <td>743</td>\n      <td>CASH_OUT</td>\n      <td>339682.13</td>\n      <td>339682.13</td>\n      <td>0.00</td>\n      <td>0.00</td>\n      <td>339682.13</td>\n      <td>1</td>\n      <td>0</td>\n    </tr>\n    <tr>\n      <th>6362616</th>\n      <td>743</td>\n      <td>TRANSFER</td>\n      <td>6311409.28</td>\n      <td>6311409.28</td>\n      <td>0.00</td>\n      <td>0.00</td>\n      <td>0.00</td>\n      <td>1</td>\n      <td>0</td>\n    </tr>\n    <tr>\n      <th>6362617</th>\n      <td>743</td>\n      <td>CASH_OUT</td>\n      <td>6311409.28</td>\n      <td>6311409.28</td>\n      <td>0.00</td>\n      <td>68488.84</td>\n      <td>6379898.11</td>\n      <td>1</td>\n      <td>0</td>\n    </tr>\n    <tr>\n      <th>6362618</th>\n      <td>743</td>\n      <td>TRANSFER</td>\n      <td>850002.52</td>\n      <td>850002.52</td>\n      <td>0.00</td>\n      <td>0.00</td>\n      <td>0.00</td>\n      <td>1</td>\n      <td>0</td>\n    </tr>\n    <tr>\n      <th>6362619</th>\n      <td>743</td>\n      <td>CASH_OUT</td>\n      <td>850002.52</td>\n      <td>850002.52</td>\n      <td>0.00</td>\n      <td>6510099.11</td>\n      <td>7360101.63</td>\n      <td>1</td>\n      <td>0</td>\n    </tr>\n  </tbody>\n</table>\n<p>6362077 rows × 9 columns</p>\n</div>"
     },
     "execution_count": 45,
     "metadata": {},
     "output_type": "execute_result"
    }
   ],
   "source": [
    "df.dropna(inplace=True)\n",
    "df"
   ],
   "metadata": {
    "collapsed": false,
    "pycharm": {
     "name": "#%%\n"
    }
   }
  },
  {
   "cell_type": "code",
   "execution_count": 46,
   "outputs": [
    {
     "data": {
      "text/plain": "               step        amount  oldbalanceOrg  newbalanceOrig  \\\ncount  6.362077e+06  6.362077e+06   6.362077e+06    6.362077e+06   \nmean   2.433995e+02  1.798531e+05   8.339307e+05    8.551867e+05   \nstd    1.423323e+02  6.036937e+05   2.888322e+06    2.924163e+06   \nmin    1.000000e+00  0.000000e+00   0.000000e+00    0.000000e+00   \n25%    1.560000e+02  1.339407e+04   0.000000e+00    0.000000e+00   \n50%    2.390000e+02  7.489334e+04   1.421800e+04    0.000000e+00   \n75%    3.350000e+02  2.087330e+05   1.073260e+05    1.442925e+05   \nmax    7.430000e+02  9.244552e+07   5.958504e+07    4.958504e+07   \n\n       oldbalanceDest  newbalanceDest       isFraud  isFlaggedFraud  \ncount    6.362077e+06    6.362077e+06  6.362077e+06    6.362077e+06  \nmean     1.100796e+06    1.225077e+06  1.288416e-03    2.514902e-06  \nstd      3.399310e+06    3.674244e+06  3.587138e-02    1.585842e-03  \nmin      0.000000e+00    0.000000e+00  0.000000e+00    0.000000e+00  \n25%      0.000000e+00    0.000000e+00  0.000000e+00    0.000000e+00  \n50%      1.327834e+05    2.147385e+05  0.000000e+00    0.000000e+00  \n75%      9.431718e+05    1.112051e+06  0.000000e+00    0.000000e+00  \nmax      3.560159e+08    3.561793e+08  1.000000e+00    1.000000e+00  ",
      "text/html": "<div>\n<style scoped>\n    .dataframe tbody tr th:only-of-type {\n        vertical-align: middle;\n    }\n\n    .dataframe tbody tr th {\n        vertical-align: top;\n    }\n\n    .dataframe thead th {\n        text-align: right;\n    }\n</style>\n<table border=\"1\" class=\"dataframe\">\n  <thead>\n    <tr style=\"text-align: right;\">\n      <th></th>\n      <th>step</th>\n      <th>amount</th>\n      <th>oldbalanceOrg</th>\n      <th>newbalanceOrig</th>\n      <th>oldbalanceDest</th>\n      <th>newbalanceDest</th>\n      <th>isFraud</th>\n      <th>isFlaggedFraud</th>\n    </tr>\n  </thead>\n  <tbody>\n    <tr>\n      <th>count</th>\n      <td>6.362077e+06</td>\n      <td>6.362077e+06</td>\n      <td>6.362077e+06</td>\n      <td>6.362077e+06</td>\n      <td>6.362077e+06</td>\n      <td>6.362077e+06</td>\n      <td>6.362077e+06</td>\n      <td>6.362077e+06</td>\n    </tr>\n    <tr>\n      <th>mean</th>\n      <td>2.433995e+02</td>\n      <td>1.798531e+05</td>\n      <td>8.339307e+05</td>\n      <td>8.551867e+05</td>\n      <td>1.100796e+06</td>\n      <td>1.225077e+06</td>\n      <td>1.288416e-03</td>\n      <td>2.514902e-06</td>\n    </tr>\n    <tr>\n      <th>std</th>\n      <td>1.423323e+02</td>\n      <td>6.036937e+05</td>\n      <td>2.888322e+06</td>\n      <td>2.924163e+06</td>\n      <td>3.399310e+06</td>\n      <td>3.674244e+06</td>\n      <td>3.587138e-02</td>\n      <td>1.585842e-03</td>\n    </tr>\n    <tr>\n      <th>min</th>\n      <td>1.000000e+00</td>\n      <td>0.000000e+00</td>\n      <td>0.000000e+00</td>\n      <td>0.000000e+00</td>\n      <td>0.000000e+00</td>\n      <td>0.000000e+00</td>\n      <td>0.000000e+00</td>\n      <td>0.000000e+00</td>\n    </tr>\n    <tr>\n      <th>25%</th>\n      <td>1.560000e+02</td>\n      <td>1.339407e+04</td>\n      <td>0.000000e+00</td>\n      <td>0.000000e+00</td>\n      <td>0.000000e+00</td>\n      <td>0.000000e+00</td>\n      <td>0.000000e+00</td>\n      <td>0.000000e+00</td>\n    </tr>\n    <tr>\n      <th>50%</th>\n      <td>2.390000e+02</td>\n      <td>7.489334e+04</td>\n      <td>1.421800e+04</td>\n      <td>0.000000e+00</td>\n      <td>1.327834e+05</td>\n      <td>2.147385e+05</td>\n      <td>0.000000e+00</td>\n      <td>0.000000e+00</td>\n    </tr>\n    <tr>\n      <th>75%</th>\n      <td>3.350000e+02</td>\n      <td>2.087330e+05</td>\n      <td>1.073260e+05</td>\n      <td>1.442925e+05</td>\n      <td>9.431718e+05</td>\n      <td>1.112051e+06</td>\n      <td>0.000000e+00</td>\n      <td>0.000000e+00</td>\n    </tr>\n    <tr>\n      <th>max</th>\n      <td>7.430000e+02</td>\n      <td>9.244552e+07</td>\n      <td>5.958504e+07</td>\n      <td>4.958504e+07</td>\n      <td>3.560159e+08</td>\n      <td>3.561793e+08</td>\n      <td>1.000000e+00</td>\n      <td>1.000000e+00</td>\n    </tr>\n  </tbody>\n</table>\n</div>"
     },
     "execution_count": 46,
     "metadata": {},
     "output_type": "execute_result"
    }
   ],
   "source": [
    "df.describe()"
   ],
   "metadata": {
    "collapsed": false,
    "pycharm": {
     "name": "#%%\n"
    }
   }
  },
  {
   "cell_type": "markdown",
   "source": [
    "## Graficos"
   ],
   "metadata": {
    "collapsed": false
   }
  },
  {
   "cell_type": "markdown",
   "source": [
    "### Fizemos um grafico para saber como estavam distribuidos os Labels, e podemos perceber a seguir, que os dados nao estão muito bem distribuidos, ja excluindo a possibilidade de utilizarmos acuracia como métrica."
   ],
   "metadata": {
    "collapsed": false
   }
  },
  {
   "cell_type": "code",
   "execution_count": 10,
   "outputs": [
    {
     "data": {
      "text/plain": "<Figure size 792x792 with 1 Axes>",
      "image/png": "[encoded data removed]"
     },
     "metadata": {},
     "output_type": "display_data"
    }
   ],
   "source": [
    "fraud = df[df.isFlaggedFraud==1].count()\n",
    "nfraud = df[df.isFlaggedFraud==0].count()\n",
    "quantidade = (fraud[\"isFlaggedFraud\"],nfraud[\"isFlaggedFraud\"])\n",
    "\n",
    "plt.figure(figsize=(11,11))\n",
    "plt.pie(autopct=\"%1.1f%%\",x=quantidade,labels=(\"Fraude\",\"Não Fraude\"),shadow=True,colors=('r','g'),textprops={'fontsize': 25})\n",
    "\n",
    "plt.title(\"Distribuição dos dados (%)\",fontsize=30)\n",
    "\n",
    "\n",
    "plt.show()"
   ],
   "metadata": {
    "collapsed": false,
    "pycharm": {
     "name": "#%%\n"
    }
   }
  },
  {
   "cell_type": "code",
   "execution_count": 11,
   "outputs": [
    {
     "data": {
      "text/plain": "<Figure size 792x792 with 1 Axes>",
      "image/png": "[encoded data removed]"
     },
     "metadata": {
      "needs_background": "light"
     },
     "output_type": "display_data"
    }
   ],
   "source": [
    "\n",
    "plt.figure(figsize=(11,11))\n",
    "sns.histplot(data=df, x=\"type\", hue=\"isFlaggedFraud\")\n",
    "plt.show()"
   ],
   "metadata": {
    "collapsed": false,
    "pycharm": {
     "name": "#%%\n"
    }
   }
  },
  {
   "cell_type": "markdown",
   "source": [
    "### Conforme o exemplo acima, os graficos que tentavamos fazer ficavam muito dificeis de interpretar devido a forma como os dados estavam distribuidos, entao fizemos uma database apenas com os dados classificados como Fraude para montar os graficos."
   ],
   "metadata": {
    "collapsed": false
   }
  },
  {
   "cell_type": "code",
   "execution_count": 47,
   "outputs": [
    {
     "data": {
      "text/plain": "         step      type       amount  oldbalanceOrg  newbalanceOrig  \\\n2736446   212  TRANSFER   4953893.08     4953893.08      4953893.08   \n3247297   250  TRANSFER   1343002.08     1343002.08      1343002.08   \n3760288   279  TRANSFER    536624.41      536624.41       536624.41   \n5563713   387  TRANSFER   4892193.09     4892193.09      4892193.09   \n5996407   425  TRANSFER  10000000.00    19585040.37     19585040.37   \n5996409   425  TRANSFER   9585040.37    19585040.37     19585040.37   \n6168499   554  TRANSFER   3576297.10     3576297.10      3576297.10   \n6205439   586  TRANSFER    353874.22      353874.22       353874.22   \n6266413   617  TRANSFER   2542664.27     2542664.27      2542664.27   \n6281482   646  TRANSFER  10000000.00    10399045.08     10399045.08   \n6281484   646  TRANSFER    399045.08    10399045.08     10399045.08   \n6296014   671  TRANSFER   3441041.46     3441041.46      3441041.46   \n6351225   702  TRANSFER   3171085.59     3171085.59      3171085.59   \n6362460   730  TRANSFER  10000000.00    17316255.05     17316255.05   \n6362462   730  TRANSFER   7316255.05    17316255.05     17316255.05   \n6362584   741  TRANSFER   5674547.89     5674547.89      5674547.89   \n\n         oldbalanceDest  newbalanceDest  isFraud  isFlaggedFraud  \n2736446             0.0             0.0        1               1  \n3247297             0.0             0.0        1               1  \n3760288             0.0             0.0        1               1  \n5563713             0.0             0.0        1               1  \n5996407             0.0             0.0        1               1  \n5996409             0.0             0.0        1               1  \n6168499             0.0             0.0        1               1  \n6205439             0.0             0.0        1               1  \n6266413             0.0             0.0        1               1  \n6281482             0.0             0.0        1               1  \n6281484             0.0             0.0        1               1  \n6296014             0.0             0.0        1               1  \n6351225             0.0             0.0        1               1  \n6362460             0.0             0.0        1               1  \n6362462             0.0             0.0        1               1  \n6362584             0.0             0.0        1               1  ",
      "text/html": "<div>\n<style scoped>\n    .dataframe tbody tr th:only-of-type {\n        vertical-align: middle;\n    }\n\n    .dataframe tbody tr th {\n        vertical-align: top;\n    }\n\n    .dataframe thead th {\n        text-align: right;\n    }\n</style>\n<table border=\"1\" class=\"dataframe\">\n  <thead>\n    <tr style=\"text-align: right;\">\n      <th></th>\n      <th>step</th>\n      <th>type</th>\n      <th>amount</th>\n      <th>oldbalanceOrg</th>\n      <th>newbalanceOrig</th>\n      <th>oldbalanceDest</th>\n      <th>newbalanceDest</th>\n      <th>isFraud</th>\n      <th>isFlaggedFraud</th>\n    </tr>\n  </thead>\n  <tbody>\n    <tr>\n      <th>2736446</th>\n      <td>212</td>\n      <td>TRANSFER</td>\n      <td>4953893.08</td>\n      <td>4953893.08</td>\n      <td>4953893.08</td>\n      <td>0.0</td>\n      <td>0.0</td>\n      <td>1</td>\n      <td>1</td>\n    </tr>\n    <tr>\n      <th>3247297</th>\n      <td>250</td>\n      <td>TRANSFER</td>\n      <td>1343002.08</td>\n      <td>1343002.08</td>\n      <td>1343002.08</td>\n      <td>0.0</td>\n      <td>0.0</td>\n      <td>1</td>\n      <td>1</td>\n    </tr>\n    <tr>\n      <th>3760288</th>\n      <td>279</td>\n      <td>TRANSFER</td>\n      <td>536624.41</td>\n      <td>536624.41</td>\n      <td>536624.41</td>\n      <td>0.0</td>\n      <td>0.0</td>\n      <td>1</td>\n      <td>1</td>\n    </tr>\n    <tr>\n      <th>5563713</th>\n      <td>387</td>\n      <td>TRANSFER</td>\n      <td>4892193.09</td>\n      <td>4892193.09</td>\n      <td>4892193.09</td>\n      <td>0.0</td>\n      <td>0.0</td>\n      <td>1</td>\n      <td>1</td>\n    </tr>\n    <tr>\n      <th>5996407</th>\n      <td>425</td>\n      <td>TRANSFER</td>\n      <td>10000000.00</td>\n      <td>19585040.37</td>\n      <td>19585040.37</td>\n      <td>0.0</td>\n      <td>0.0</td>\n      <td>1</td>\n      <td>1</td>\n    </tr>\n    <tr>\n      <th>5996409</th>\n      <td>425</td>\n      <td>TRANSFER</td>\n      <td>9585040.37</td>\n      <td>19585040.37</td>\n      <td>19585040.37</td>\n      <td>0.0</td>\n      <td>0.0</td>\n      <td>1</td>\n      <td>1</td>\n    </tr>\n    <tr>\n      <th>6168499</th>\n      <td>554</td>\n      <td>TRANSFER</td>\n      <td>3576297.10</td>\n      <td>3576297.10</td>\n      <td>3576297.10</td>\n      <td>0.0</td>\n      <td>0.0</td>\n      <td>1</td>\n      <td>1</td>\n    </tr>\n    <tr>\n      <th>6205439</th>\n      <td>586</td>\n      <td>TRANSFER</td>\n      <td>353874.22</td>\n      <td>353874.22</td>\n      <td>353874.22</td>\n      <td>0.0</td>\n      <td>0.0</td>\n      <td>1</td>\n      <td>1</td>\n    </tr>\n    <tr>\n      <th>6266413</th>\n      <td>617</td>\n      <td>TRANSFER</td>\n      <td>2542664.27</td>\n      <td>2542664.27</td>\n      <td>2542664.27</td>\n      <td>0.0</td>\n      <td>0.0</td>\n      <td>1</td>\n      <td>1</td>\n    </tr>\n    <tr>\n      <th>6281482</th>\n      <td>646</td>\n      <td>TRANSFER</td>\n      <td>10000000.00</td>\n      <td>10399045.08</td>\n      <td>10399045.08</td>\n      <td>0.0</td>\n      <td>0.0</td>\n      <td>1</td>\n      <td>1</td>\n    </tr>\n    <tr>\n      <th>6281484</th>\n      <td>646</td>\n      <td>TRANSFER</td>\n      <td>399045.08</td>\n      <td>10399045.08</td>\n      <td>10399045.08</td>\n      <td>0.0</td>\n      <td>0.0</td>\n      <td>1</td>\n      <td>1</td>\n    </tr>\n    <tr>\n      <th>6296014</th>\n      <td>671</td>\n      <td>TRANSFER</td>\n      <td>3441041.46</td>\n      <td>3441041.46</td>\n      <td>3441041.46</td>\n      <td>0.0</td>\n      <td>0.0</td>\n      <td>1</td>\n      <td>1</td>\n    </tr>\n    <tr>\n      <th>6351225</th>\n      <td>702</td>\n      <td>TRANSFER</td>\n      <td>3171085.59</td>\n      <td>3171085.59</td>\n      <td>3171085.59</td>\n      <td>0.0</td>\n      <td>0.0</td>\n      <td>1</td>\n      <td>1</td>\n    </tr>\n    <tr>\n      <th>6362460</th>\n      <td>730</td>\n      <td>TRANSFER</td>\n      <td>10000000.00</td>\n      <td>17316255.05</td>\n      <td>17316255.05</td>\n      <td>0.0</td>\n      <td>0.0</td>\n      <td>1</td>\n      <td>1</td>\n    </tr>\n    <tr>\n      <th>6362462</th>\n      <td>730</td>\n      <td>TRANSFER</td>\n      <td>7316255.05</td>\n      <td>17316255.05</td>\n      <td>17316255.05</td>\n      <td>0.0</td>\n      <td>0.0</td>\n      <td>1</td>\n      <td>1</td>\n    </tr>\n    <tr>\n      <th>6362584</th>\n      <td>741</td>\n      <td>TRANSFER</td>\n      <td>5674547.89</td>\n      <td>5674547.89</td>\n      <td>5674547.89</td>\n      <td>0.0</td>\n      <td>0.0</td>\n      <td>1</td>\n      <td>1</td>\n    </tr>\n  </tbody>\n</table>\n</div>"
     },
     "execution_count": 47,
     "metadata": {},
     "output_type": "execute_result"
    }
   ],
   "source": [
    "dfFraud = df[df[\"isFlaggedFraud\"]==1]\n",
    "dfFraud"
   ],
   "metadata": {
    "collapsed": false,
    "pycharm": {
     "name": "#%%\n"
    }
   }
  },
  {
   "cell_type": "code",
   "execution_count": 13,
   "outputs": [
    {
     "data": {
      "text/plain": "<Figure size 792x792 with 1 Axes>",
      "image/png": "[encoded data removed]"
     },
     "metadata": {
      "needs_background": "light"
     },
     "output_type": "display_data"
    }
   ],
   "source": [
    "plt.figure(figsize=(11,11))\n",
    "plt.title(\"Distribuição das Transações Classificadas como Fraude\",fontsize=30)\n",
    "sns.set(font_scale = 1.2)\n",
    "sns.histplot(data=dfFraud, x=\"step\", hue=\"type\",multiple=\"dodge\", shrink=.8)\n",
    "plt.show()"
   ],
   "metadata": {
    "collapsed": false,
    "pycharm": {
     "name": "#%%\n"
    }
   }
  },
  {
   "cell_type": "markdown",
   "source": [
    "### Com a interpretação desse grafico, chegamos na conslusão que que dos 5 tipos de transação, apenas as Trasnferencias possuem casos de fraude."
   ],
   "metadata": {
    "collapsed": false
   }
  },
  {
   "cell_type": "markdown",
   "source": [
    "## Modelagem preditiva: esta trasação é uma fraude?"
   ],
   "metadata": {
    "collapsed": false
   }
  },
  {
   "cell_type": "code",
   "execution_count": 15,
   "outputs": [
    {
     "name": "stdout",
     "output_type": "stream",
     "text": [
      "<class 'pandas.core.frame.DataFrame'>\n",
      "Int64Index: 6362077 entries, 0 to 6362619\n",
      "Data columns (total 9 columns):\n",
      " #   Column          Dtype  \n",
      "---  ------          -----  \n",
      " 0   step            int64  \n",
      " 1   type            object \n",
      " 2   amount          float64\n",
      " 3   oldbalanceOrg   float64\n",
      " 4   newbalanceOrig  float64\n",
      " 5   oldbalanceDest  float64\n",
      " 6   newbalanceDest  float64\n",
      " 7   isFraud         int64  \n",
      " 8   isFlaggedFraud  int64  \n",
      "dtypes: float64(5), int64(3), object(1)\n",
      "memory usage: 485.4+ MB\n"
     ]
    }
   ],
   "source": [
    "df.info()"
   ],
   "metadata": {
    "collapsed": false,
    "pycharm": {
     "name": "#%%\n"
    }
   }
  },
  {
   "cell_type": "markdown",
   "source": [
    "### De todas as colunas, a unica não numerica é a do tipo de transação, então iremos utilizar Dummies para dividir os dados dessa coluna para 5 novas colunas"
   ],
   "metadata": {
    "collapsed": false
   }
  },
  {
   "cell_type": "code",
   "execution_count": 48,
   "outputs": [
    {
     "data": {
      "text/plain": "         CASH_IN  CASH_OUT  DEBIT  PAYMENT  TRANSFER\n0              0         0      0        1         0\n1              0         0      0        1         0\n2              0         0      0        0         1\n3              0         1      0        0         0\n4              0         0      0        1         0\n...          ...       ...    ...      ...       ...\n6362615        0         1      0        0         0\n6362616        0         0      0        0         1\n6362617        0         1      0        0         0\n6362618        0         0      0        0         1\n6362619        0         1      0        0         0\n\n[6362077 rows x 5 columns]",
      "text/html": "<div>\n<style scoped>\n    .dataframe tbody tr th:only-of-type {\n        vertical-align: middle;\n    }\n\n    .dataframe tbody tr th {\n        vertical-align: top;\n    }\n\n    .dataframe thead th {\n        text-align: right;\n    }\n</style>\n<table border=\"1\" class=\"dataframe\">\n  <thead>\n    <tr style=\"text-align: right;\">\n      <th></th>\n      <th>CASH_IN</th>\n      <th>CASH_OUT</th>\n      <th>DEBIT</th>\n      <th>PAYMENT</th>\n      <th>TRANSFER</th>\n    </tr>\n  </thead>\n  <tbody>\n    <tr>\n      <th>0</th>\n      <td>0</td>\n      <td>0</td>\n      <td>0</td>\n      <td>1</td>\n      <td>0</td>\n    </tr>\n    <tr>\n      <th>1</th>\n      <td>0</td>\n      <td>0</td>\n      <td>0</td>\n      <td>1</td>\n      <td>0</td>\n    </tr>\n    <tr>\n      <th>2</th>\n      <td>0</td>\n      <td>0</td>\n      <td>0</td>\n      <td>0</td>\n      <td>1</td>\n    </tr>\n    <tr>\n      <th>3</th>\n      <td>0</td>\n      <td>1</td>\n      <td>0</td>\n      <td>0</td>\n      <td>0</td>\n    </tr>\n    <tr>\n      <th>4</th>\n      <td>0</td>\n      <td>0</td>\n      <td>0</td>\n      <td>1</td>\n      <td>0</td>\n    </tr>\n    <tr>\n      <th>...</th>\n      <td>...</td>\n      <td>...</td>\n      <td>...</td>\n      <td>...</td>\n      <td>...</td>\n    </tr>\n    <tr>\n      <th>6362615</th>\n      <td>0</td>\n      <td>1</td>\n      <td>0</td>\n      <td>0</td>\n      <td>0</td>\n    </tr>\n    <tr>\n      <th>6362616</th>\n      <td>0</td>\n      <td>0</td>\n      <td>0</td>\n      <td>0</td>\n      <td>1</td>\n    </tr>\n    <tr>\n      <th>6362617</th>\n      <td>0</td>\n      <td>1</td>\n      <td>0</td>\n      <td>0</td>\n      <td>0</td>\n    </tr>\n    <tr>\n      <th>6362618</th>\n      <td>0</td>\n      <td>0</td>\n      <td>0</td>\n      <td>0</td>\n      <td>1</td>\n    </tr>\n    <tr>\n      <th>6362619</th>\n      <td>0</td>\n      <td>1</td>\n      <td>0</td>\n      <td>0</td>\n      <td>0</td>\n    </tr>\n  </tbody>\n</table>\n<p>6362077 rows × 5 columns</p>\n</div>"
     },
     "execution_count": 48,
     "metadata": {},
     "output_type": "execute_result"
    }
   ],
   "source": [
    "dummies = pd.get_dummies(df['type'])\n",
    "dummies"
   ],
   "metadata": {
    "collapsed": false,
    "pycharm": {
     "name": "#%%\n"
    }
   }
  },
  {
   "cell_type": "code",
   "execution_count": 49,
   "outputs": [
    {
     "data": {
      "text/plain": "         step      type      amount  oldbalanceOrg  newbalanceOrig  \\\n0           1   PAYMENT     9839.64      170136.00       160296.36   \n1           1   PAYMENT     1864.28       21249.00        19384.72   \n2           1  TRANSFER      181.00         181.00            0.00   \n3           1  CASH_OUT      181.00         181.00            0.00   \n4           1   PAYMENT    11668.14       41554.00        29885.86   \n...       ...       ...         ...            ...             ...   \n6362615   743  CASH_OUT   339682.13      339682.13            0.00   \n6362616   743  TRANSFER  6311409.28     6311409.28            0.00   \n6362617   743  CASH_OUT  6311409.28     6311409.28            0.00   \n6362618   743  TRANSFER   850002.52      850002.52            0.00   \n6362619   743  CASH_OUT   850002.52      850002.52            0.00   \n\n         oldbalanceDest  newbalanceDest  isFraud  isFlaggedFraud  CASH_IN  \\\n0                  0.00            0.00        0               0        0   \n1                  0.00            0.00        0               0        0   \n2                  0.00            0.00        1               0        0   \n3              21182.00            0.00        1               0        0   \n4                  0.00            0.00        0               0        0   \n...                 ...             ...      ...             ...      ...   \n6362615            0.00       339682.13        1               0        0   \n6362616            0.00            0.00        1               0        0   \n6362617        68488.84      6379898.11        1               0        0   \n6362618            0.00            0.00        1               0        0   \n6362619      6510099.11      7360101.63        1               0        0   \n\n         CASH_OUT  DEBIT  PAYMENT  TRANSFER  \n0               0      0        1         0  \n1               0      0        1         0  \n2               0      0        0         1  \n3               1      0        0         0  \n4               0      0        1         0  \n...           ...    ...      ...       ...  \n6362615         1      0        0         0  \n6362616         0      0        0         1  \n6362617         1      0        0         0  \n6362618         0      0        0         1  \n6362619         1      0        0         0  \n\n[6362077 rows x 14 columns]",
      "text/html": "<div>\n<style scoped>\n    .dataframe tbody tr th:only-of-type {\n        vertical-align: middle;\n    }\n\n    .dataframe tbody tr th {\n        vertical-align: top;\n    }\n\n    .dataframe thead th {\n        text-align: right;\n    }\n</style>\n<table border=\"1\" class=\"dataframe\">\n  <thead>\n    <tr style=\"text-align: right;\">\n      <th></th>\n      <th>step</th>\n      <th>type</th>\n      <th>amount</th>\n      <th>oldbalanceOrg</th>\n      <th>newbalanceOrig</th>\n      <th>oldbalanceDest</th>\n      <th>newbalanceDest</th>\n      <th>isFraud</th>\n      <th>isFlaggedFraud</th>\n      <th>CASH_IN</th>\n      <th>CASH_OUT</th>\n      <th>DEBIT</th>\n      <th>PAYMENT</th>\n      <th>TRANSFER</th>\n    </tr>\n  </thead>\n  <tbody>\n    <tr>\n      <th>0</th>\n      <td>1</td>\n      <td>PAYMENT</td>\n      <td>9839.64</td>\n      <td>170136.00</td>\n      <td>160296.36</td>\n      <td>0.00</td>\n      <td>0.00</td>\n      <td>0</td>\n      <td>0</td>\n      <td>0</td>\n      <td>0</td>\n      <td>0</td>\n      <td>1</td>\n      <td>0</td>\n    </tr>\n    <tr>\n      <th>1</th>\n      <td>1</td>\n      <td>PAYMENT</td>\n      <td>1864.28</td>\n      <td>21249.00</td>\n      <td>19384.72</td>\n      <td>0.00</td>\n      <td>0.00</td>\n      <td>0</td>\n      <td>0</td>\n      <td>0</td>\n      <td>0</td>\n      <td>0</td>\n      <td>1</td>\n      <td>0</td>\n    </tr>\n    <tr>\n      <th>2</th>\n      <td>1</td>\n      <td>TRANSFER</td>\n      <td>181.00</td>\n      <td>181.00</td>\n      <td>0.00</td>\n      <td>0.00</td>\n      <td>0.00</td>\n      <td>1</td>\n      <td>0</td>\n      <td>0</td>\n      <td>0</td>\n      <td>0</td>\n      <td>0</td>\n      <td>1</td>\n    </tr>\n    <tr>\n      <th>3</th>\n      <td>1</td>\n      <td>CASH_OUT</td>\n      <td>181.00</td>\n      <td>181.00</td>\n      <td>0.00</td>\n      <td>21182.00</td>\n      <td>0.00</td>\n      <td>1</td>\n      <td>0</td>\n      <td>0</td>\n      <td>1</td>\n      <td>0</td>\n      <td>0</td>\n      <td>0</td>\n    </tr>\n    <tr>\n      <th>4</th>\n      <td>1</td>\n      <td>PAYMENT</td>\n      <td>11668.14</td>\n      <td>41554.00</td>\n      <td>29885.86</td>\n      <td>0.00</td>\n      <td>0.00</td>\n      <td>0</td>\n      <td>0</td>\n      <td>0</td>\n      <td>0</td>\n      <td>0</td>\n      <td>1</td>\n      <td>0</td>\n    </tr>\n    <tr>\n      <th>...</th>\n      <td>...</td>\n      <td>...</td>\n      <td>...</td>\n      <td>...</td>\n      <td>...</td>\n      <td>...</td>\n      <td>...</td>\n      <td>...</td>\n      <td>...</td>\n      <td>...</td>\n      <td>...</td>\n      <td>...</td>\n      <td>...</td>\n      <td>...</td>\n    </tr>\n    <tr>\n      <th>6362615</th>\n      <td>743</td>\n      <td>CASH_OUT</td>\n      <td>339682.13</td>\n      <td>339682.13</td>\n      <td>0.00</td>\n      <td>0.00</td>\n      <td>339682.13</td>\n      <td>1</td>\n      <td>0</td>\n      <td>0</td>\n      <td>1</td>\n      <td>0</td>\n      <td>0</td>\n      <td>0</td>\n    </tr>\n    <tr>\n      <th>6362616</th>\n      <td>743</td>\n      <td>TRANSFER</td>\n      <td>6311409.28</td>\n      <td>6311409.28</td>\n      <td>0.00</td>\n      <td>0.00</td>\n      <td>0.00</td>\n      <td>1</td>\n      <td>0</td>\n      <td>0</td>\n      <td>0</td>\n      <td>0</td>\n      <td>0</td>\n      <td>1</td>\n    </tr>\n    <tr>\n      <th>6362617</th>\n      <td>743</td>\n      <td>CASH_OUT</td>\n      <td>6311409.28</td>\n      <td>6311409.28</td>\n      <td>0.00</td>\n      <td>68488.84</td>\n      <td>6379898.11</td>\n      <td>1</td>\n      <td>0</td>\n      <td>0</td>\n      <td>1</td>\n      <td>0</td>\n      <td>0</td>\n      <td>0</td>\n    </tr>\n    <tr>\n      <th>6362618</th>\n      <td>743</td>\n      <td>TRANSFER</td>\n      <td>850002.52</td>\n      <td>850002.52</td>\n      <td>0.00</td>\n      <td>0.00</td>\n      <td>0.00</td>\n      <td>1</td>\n      <td>0</td>\n      <td>0</td>\n      <td>0</td>\n      <td>0</td>\n      <td>0</td>\n      <td>1</td>\n    </tr>\n    <tr>\n      <th>6362619</th>\n      <td>743</td>\n      <td>CASH_OUT</td>\n      <td>850002.52</td>\n      <td>850002.52</td>\n      <td>0.00</td>\n      <td>6510099.11</td>\n      <td>7360101.63</td>\n      <td>1</td>\n      <td>0</td>\n      <td>0</td>\n      <td>1</td>\n      <td>0</td>\n      <td>0</td>\n      <td>0</td>\n    </tr>\n  </tbody>\n</table>\n<p>6362077 rows × 14 columns</p>\n</div>"
     },
     "execution_count": 49,
     "metadata": {},
     "output_type": "execute_result"
    }
   ],
   "source": [
    "df = pd.concat( [df, dummies], axis=1 )\n",
    "df"
   ],
   "metadata": {
    "collapsed": false,
    "pycharm": {
     "name": "#%%\n"
    }
   }
  },
  {
   "cell_type": "code",
   "execution_count": 50,
   "outputs": [
    {
     "data": {
      "text/plain": "         step      amount  oldbalanceOrg  newbalanceOrig  oldbalanceDest  \\\n0           1     9839.64      170136.00       160296.36            0.00   \n1           1     1864.28       21249.00        19384.72            0.00   \n2           1      181.00         181.00            0.00            0.00   \n3           1      181.00         181.00            0.00        21182.00   \n4           1    11668.14       41554.00        29885.86            0.00   \n...       ...         ...            ...             ...             ...   \n6362615   743   339682.13      339682.13            0.00            0.00   \n6362616   743  6311409.28     6311409.28            0.00            0.00   \n6362617   743  6311409.28     6311409.28            0.00        68488.84   \n6362618   743   850002.52      850002.52            0.00            0.00   \n6362619   743   850002.52      850002.52            0.00      6510099.11   \n\n         newbalanceDest  isFraud  isFlaggedFraud  CASH_IN  CASH_OUT  DEBIT  \\\n0                  0.00        0               0        0         0      0   \n1                  0.00        0               0        0         0      0   \n2                  0.00        1               0        0         0      0   \n3                  0.00        1               0        0         1      0   \n4                  0.00        0               0        0         0      0   \n...                 ...      ...             ...      ...       ...    ...   \n6362615       339682.13        1               0        0         1      0   \n6362616            0.00        1               0        0         0      0   \n6362617      6379898.11        1               0        0         1      0   \n6362618            0.00        1               0        0         0      0   \n6362619      7360101.63        1               0        0         1      0   \n\n         PAYMENT  TRANSFER  \n0              1         0  \n1              1         0  \n2              0         1  \n3              0         0  \n4              1         0  \n...          ...       ...  \n6362615        0         0  \n6362616        0         1  \n6362617        0         0  \n6362618        0         1  \n6362619        0         0  \n\n[6362077 rows x 13 columns]",
      "text/html": "<div>\n<style scoped>\n    .dataframe tbody tr th:only-of-type {\n        vertical-align: middle;\n    }\n\n    .dataframe tbody tr th {\n        vertical-align: top;\n    }\n\n    .dataframe thead th {\n        text-align: right;\n    }\n</style>\n<table border=\"1\" class=\"dataframe\">\n  <thead>\n    <tr style=\"text-align: right;\">\n      <th></th>\n      <th>step</th>\n      <th>amount</th>\n      <th>oldbalanceOrg</th>\n      <th>newbalanceOrig</th>\n      <th>oldbalanceDest</th>\n      <th>newbalanceDest</th>\n      <th>isFraud</th>\n      <th>isFlaggedFraud</th>\n      <th>CASH_IN</th>\n      <th>CASH_OUT</th>\n      <th>DEBIT</th>\n      <th>PAYMENT</th>\n      <th>TRANSFER</th>\n    </tr>\n  </thead>\n  <tbody>\n    <tr>\n      <th>0</th>\n      <td>1</td>\n      <td>9839.64</td>\n      <td>170136.00</td>\n      <td>160296.36</td>\n      <td>0.00</td>\n      <td>0.00</td>\n      <td>0</td>\n      <td>0</td>\n      <td>0</td>\n      <td>0</td>\n      <td>0</td>\n      <td>1</td>\n      <td>0</td>\n    </tr>\n    <tr>\n      <th>1</th>\n      <td>1</td>\n      <td>1864.28</td>\n      <td>21249.00</td>\n      <td>19384.72</td>\n      <td>0.00</td>\n      <td>0.00</td>\n      <td>0</td>\n      <td>0</td>\n      <td>0</td>\n      <td>0</td>\n      <td>0</td>\n      <td>1</td>\n      <td>0</td>\n    </tr>\n    <tr>\n      <th>2</th>\n      <td>1</td>\n      <td>181.00</td>\n      <td>181.00</td>\n      <td>0.00</td>\n      <td>0.00</td>\n      <td>0.00</td>\n      <td>1</td>\n      <td>0</td>\n      <td>0</td>\n      <td>0</td>\n      <td>0</td>\n      <td>0</td>\n      <td>1</td>\n    </tr>\n    <tr>\n      <th>3</th>\n      <td>1</td>\n      <td>181.00</td>\n      <td>181.00</td>\n      <td>0.00</td>\n      <td>21182.00</td>\n      <td>0.00</td>\n      <td>1</td>\n      <td>0</td>\n      <td>0</td>\n      <td>1</td>\n      <td>0</td>\n      <td>0</td>\n      <td>0</td>\n    </tr>\n    <tr>\n      <th>4</th>\n      <td>1</td>\n      <td>11668.14</td>\n      <td>41554.00</td>\n      <td>29885.86</td>\n      <td>0.00</td>\n      <td>0.00</td>\n      <td>0</td>\n      <td>0</td>\n      <td>0</td>\n      <td>0</td>\n      <td>0</td>\n      <td>1</td>\n      <td>0</td>\n    </tr>\n    <tr>\n      <th>...</th>\n      <td>...</td>\n      <td>...</td>\n      <td>...</td>\n      <td>...</td>\n      <td>...</td>\n      <td>...</td>\n      <td>...</td>\n      <td>...</td>\n      <td>...</td>\n      <td>...</td>\n      <td>...</td>\n      <td>...</td>\n      <td>...</td>\n    </tr>\n    <tr>\n      <th>6362615</th>\n      <td>743</td>\n      <td>339682.13</td>\n      <td>339682.13</td>\n      <td>0.00</td>\n      <td>0.00</td>\n      <td>339682.13</td>\n      <td>1</td>\n      <td>0</td>\n      <td>0</td>\n      <td>1</td>\n      <td>0</td>\n      <td>0</td>\n      <td>0</td>\n    </tr>\n    <tr>\n      <th>6362616</th>\n      <td>743</td>\n      <td>6311409.28</td>\n      <td>6311409.28</td>\n      <td>0.00</td>\n      <td>0.00</td>\n      <td>0.00</td>\n      <td>1</td>\n      <td>0</td>\n      <td>0</td>\n      <td>0</td>\n      <td>0</td>\n      <td>0</td>\n      <td>1</td>\n    </tr>\n    <tr>\n      <th>6362617</th>\n      <td>743</td>\n      <td>6311409.28</td>\n      <td>6311409.28</td>\n      <td>0.00</td>\n      <td>68488.84</td>\n      <td>6379898.11</td>\n      <td>1</td>\n      <td>0</td>\n      <td>0</td>\n      <td>1</td>\n      <td>0</td>\n      <td>0</td>\n      <td>0</td>\n    </tr>\n    <tr>\n      <th>6362618</th>\n      <td>743</td>\n      <td>850002.52</td>\n      <td>850002.52</td>\n      <td>0.00</td>\n      <td>0.00</td>\n      <td>0.00</td>\n      <td>1</td>\n      <td>0</td>\n      <td>0</td>\n      <td>0</td>\n      <td>0</td>\n      <td>0</td>\n      <td>1</td>\n    </tr>\n    <tr>\n      <th>6362619</th>\n      <td>743</td>\n      <td>850002.52</td>\n      <td>850002.52</td>\n      <td>0.00</td>\n      <td>6510099.11</td>\n      <td>7360101.63</td>\n      <td>1</td>\n      <td>0</td>\n      <td>0</td>\n      <td>1</td>\n      <td>0</td>\n      <td>0</td>\n      <td>0</td>\n    </tr>\n  </tbody>\n</table>\n<p>6362077 rows × 13 columns</p>\n</div>"
     },
     "execution_count": 50,
     "metadata": {},
     "output_type": "execute_result"
    }
   ],
   "source": [
    "df.drop(columns=['type'],inplace=True)\n",
    "df"
   ],
   "metadata": {
    "collapsed": false,
    "pycharm": {
     "name": "#%%\n"
    }
   }
  },
  {
   "cell_type": "code",
   "execution_count": 51,
   "outputs": [
    {
     "data": {
      "text/plain": "step                int64\namount            float64\noldbalanceOrg     float64\nnewbalanceOrig    float64\noldbalanceDest    float64\nnewbalanceDest    float64\nisFraud             int64\nisFlaggedFraud      int64\nCASH_IN             uint8\nCASH_OUT            uint8\nDEBIT               uint8\nPAYMENT             uint8\nTRANSFER            uint8\ndtype: object"
     },
     "execution_count": 51,
     "metadata": {},
     "output_type": "execute_result"
    }
   ],
   "source": [
    "df.dtypes"
   ],
   "metadata": {
    "collapsed": false,
    "pycharm": {
     "name": "#%%\n"
    }
   }
  },
  {
   "cell_type": "markdown",
   "source": [
    "### Separando os dados em treino e teste"
   ],
   "metadata": {
    "collapsed": false
   }
  },
  {
   "cell_type": "code",
   "execution_count": 52,
   "outputs": [],
   "source": [
    "X = df.drop(columns=[\"isFlaggedFraud\"])\n",
    "Y = df['isFlaggedFraud']\n",
    "\n",
    "X_train, X_test, y_train, y_test = train_test_split(X, Y,\n",
    "                                                   test_size=0.2,\n",
    "                                                   random_state=42)"
   ],
   "metadata": {
    "collapsed": false,
    "pycharm": {
     "name": "#%%\n"
    }
   }
  },
  {
   "cell_type": "markdown",
   "source": [
    "### Escalando os dados"
   ],
   "metadata": {
    "collapsed": false
   }
  },
  {
   "cell_type": "code",
   "execution_count": 34,
   "outputs": [],
   "source": [
    "minmax = MinMaxScaler()\n",
    "\n",
    "X_train_scaled = minmax.fit_transform(X_train)\n",
    "\n",
    "X_test_scaled = minmax.transform(X_test)"
   ],
   "metadata": {
    "collapsed": false,
    "pycharm": {
     "name": "#%%\n"
    }
   }
  },
  {
   "cell_type": "markdown",
   "source": [
    "### Definindo a funcao para calcular as metricas\n",
    "- Como vimos anteriormente devido a distribuição dos dados, não podemos nos basear no score de Accuracy, e devido a situação do problema trabalhado, Escolhemos o Recall pois queremos garantir que as transações fraudadoras sejam impedidas, e tambem escolhemos o F1-Score para ter uma visão mais equilibrada do desempenho."
   ],
   "metadata": {
    "collapsed": false
   }
  },
  {
   "cell_type": "code",
   "execution_count": 35,
   "outputs": [],
   "source": [
    "def metrics(y_test,y_pred):\n",
    "\n",
    "    acc = accuracy_score(y_test,y_pred)\n",
    "    rec = recall_score(y_test,y_pred)\n",
    "    pre = precision_score(y_test,y_pred)\n",
    "    f1 = f1_score(y_test,y_pred)\n",
    "\n",
    "    print(f\"Accuracy: {acc:.2f}\")\n",
    "    print(f\"Recall: {rec:.2f}\")\n",
    "    print(f\"Precision: {pre:.2f}\")\n",
    "    print(f\"\\033[92m\\033[1mF1_score: {f1:.2f}\\033[0m\")"
   ],
   "metadata": {
    "collapsed": false,
    "pycharm": {
     "name": "#%%\n"
    }
   }
  },
  {
   "cell_type": "markdown",
   "source": [
    "### Definindo a funcao para o modelo de MLP\n",
    "- O modelo escolhido foi o de MLP, pois seria o mais completo que"
   ],
   "metadata": {
    "collapsed": false,
    "pycharm": {
     "name": "#%% md\n"
    }
   }
  },
  {
   "cell_type": "code",
   "execution_count": 54,
   "outputs": [],
   "source": [
    "from sklearn.metrics import classification_report\n",
    "\n",
    "def mlp(X_train,X_test,y_train,y_test):\n",
    "    mlp = MLPClassifier(hidden_layer_sizes=(5,),\n",
    "                   random_state=1,\n",
    "                   activation=\"logistic\",\n",
    "                   solver=\"lbfgs\")\n",
    "\n",
    "    mlp.fit(X_train, y_train)\n",
    "    y_pred = mlp.predict(X_test)\n",
    "    metrics(y_test,y_pred)\n",
    "    return print(classification_report(y_test, y_pred))"
   ],
   "metadata": {
    "collapsed": false,
    "pycharm": {
     "name": "#%%\n"
    }
   }
  },
  {
   "cell_type": "code",
   "source": [
    "mlp(X_train_scaled,X_test_scaled,y_train,y_test)"
   ],
   "metadata": {
    "collapsed": false,
    "pycharm": {
     "name": "#%%\n"
    }
   },
   "execution_count": 55,
   "outputs": [
    {
     "name": "stdout",
     "output_type": "stream",
     "text": [
      "Accuracy: 1.00\n",
      "Recall: 0.00\n",
      "Precision: 0.00\n",
      "\u001B[92m\u001B[1mF1_score: 0.00\u001B[0m\n",
      "              precision    recall  f1-score   support\n",
      "\n",
      "           0       1.00      1.00      1.00   1272410\n",
      "           1       0.00      0.00      0.00         6\n",
      "\n",
      "    accuracy                           1.00   1272416\n",
      "   macro avg       0.50      0.50      0.50   1272416\n",
      "weighted avg       1.00      1.00      1.00   1272416\n",
      "\n"
     ]
    }
   ]
  },
  {
   "cell_type": "code",
   "execution_count": null,
   "outputs": [],
   "source": [],
   "metadata": {
    "collapsed": false,
    "pycharm": {
     "name": "#%%\n"
    }
   }
  }
 ],
 "metadata": {
  "kernelspec": {
   "display_name": "Python 3",
   "language": "python",
   "name": "python3"
  },
  "language_info": {
   "codemirror_mode": {
    "name": "ipython",
    "version": 2
   },
   "file_extension": ".py",
   "mimetype": "text/x-python",
   "name": "python",
   "nbconvert_exporter": "python",
   "pygments_lexer": "ipython2",
   "version": "2.7.6"
  }
 },
 "nbformat": 4,
 "nbformat_minor": 0
}