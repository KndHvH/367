{
  "nbformat": 4,
  "nbformat_minor": 0,
  "metadata": {
    "colab": {
      "name": "Untitled4.ipynb",
      "provenance": [],
      "authorship_tag": "ABX9TyP1bKokLh0c25rcumQeZMp7",
      "include_colab_link": true
    },
    "kernelspec": {
      "name": "python3",
      "display_name": "Python 3"
    },
    "language_info": {
      "name": "python"
    }
  },
  "cells": [
    {
      "cell_type": "markdown",
      "metadata": {
        "id": "view-in-github",
        "colab_type": "text"
      },
      "source": [
        "<a href=\"https://colab.research.google.com/github/KndHvH/fanta/blob/1/FIAP/CyberSeguran%C3%A7a/web1.0.ipynb\" target=\"_parent\"><img src=\"https://colab.research.google.com/assets/colab-badge.svg\" alt=\"Open In Colab\"/></a>"
      ]
    },
    {
      "cell_type": "code",
      "execution_count": 3,
      "metadata": {
        "id": "tay4SiRTL8Ij",
        "outputId": "42d24922-92d5-4f81-cc29-de43cbbf38dc",
        "colab": {
          "base_uri": "https://localhost:8080/"
        }
      },
      "outputs": [
        {
          "output_type": "stream",
          "name": "stdout",
          "text": [
            "\u001b[?25l\r\u001b[K     |▍                               | 10 kB 20.3 MB/s eta 0:00:01\r\u001b[K     |▉                               | 20 kB 25.3 MB/s eta 0:00:01\r\u001b[K     |█▎                              | 30 kB 30.5 MB/s eta 0:00:01\r\u001b[K     |█▊                              | 40 kB 23.6 MB/s eta 0:00:01\r\u001b[K     |██▏                             | 51 kB 18.8 MB/s eta 0:00:01\r\u001b[K     |██▋                             | 61 kB 21.1 MB/s eta 0:00:01\r\u001b[K     |███                             | 71 kB 22.6 MB/s eta 0:00:01\r\u001b[K     |███▌                            | 81 kB 21.2 MB/s eta 0:00:01\r\u001b[K     |████                            | 92 kB 22.9 MB/s eta 0:00:01\r\u001b[K     |████▍                           | 102 kB 22.8 MB/s eta 0:00:01\r\u001b[K     |████▉                           | 112 kB 22.8 MB/s eta 0:00:01\r\u001b[K     |█████▎                          | 122 kB 22.8 MB/s eta 0:00:01\r\u001b[K     |█████▊                          | 133 kB 22.8 MB/s eta 0:00:01\r\u001b[K     |██████▏                         | 143 kB 22.8 MB/s eta 0:00:01\r\u001b[K     |██████▋                         | 153 kB 22.8 MB/s eta 0:00:01\r\u001b[K     |███████                         | 163 kB 22.8 MB/s eta 0:00:01\r\u001b[K     |███████▌                        | 174 kB 22.8 MB/s eta 0:00:01\r\u001b[K     |████████                        | 184 kB 22.8 MB/s eta 0:00:01\r\u001b[K     |████████▍                       | 194 kB 22.8 MB/s eta 0:00:01\r\u001b[K     |████████▉                       | 204 kB 22.8 MB/s eta 0:00:01\r\u001b[K     |█████████▎                      | 215 kB 22.8 MB/s eta 0:00:01\r\u001b[K     |█████████▊                      | 225 kB 22.8 MB/s eta 0:00:01\r\u001b[K     |██████████▏                     | 235 kB 22.8 MB/s eta 0:00:01\r\u001b[K     |██████████▌                     | 245 kB 22.8 MB/s eta 0:00:01\r\u001b[K     |███████████                     | 256 kB 22.8 MB/s eta 0:00:01\r\u001b[K     |███████████▍                    | 266 kB 22.8 MB/s eta 0:00:01\r\u001b[K     |███████████▉                    | 276 kB 22.8 MB/s eta 0:00:01\r\u001b[K     |████████████▎                   | 286 kB 22.8 MB/s eta 0:00:01\r\u001b[K     |████████████▊                   | 296 kB 22.8 MB/s eta 0:00:01\r\u001b[K     |█████████████▏                  | 307 kB 22.8 MB/s eta 0:00:01\r\u001b[K     |█████████████▋                  | 317 kB 22.8 MB/s eta 0:00:01\r\u001b[K     |██████████████                  | 327 kB 22.8 MB/s eta 0:00:01\r\u001b[K     |██████████████▌                 | 337 kB 22.8 MB/s eta 0:00:01\r\u001b[K     |███████████████                 | 348 kB 22.8 MB/s eta 0:00:01\r\u001b[K     |███████████████▍                | 358 kB 22.8 MB/s eta 0:00:01\r\u001b[K     |███████████████▉                | 368 kB 22.8 MB/s eta 0:00:01\r\u001b[K     |████████████████▎               | 378 kB 22.8 MB/s eta 0:00:01\r\u001b[K     |████████████████▊               | 389 kB 22.8 MB/s eta 0:00:01\r\u001b[K     |█████████████████▏              | 399 kB 22.8 MB/s eta 0:00:01\r\u001b[K     |█████████████████▋              | 409 kB 22.8 MB/s eta 0:00:01\r\u001b[K     |██████████████████              | 419 kB 22.8 MB/s eta 0:00:01\r\u001b[K     |██████████████████▌             | 430 kB 22.8 MB/s eta 0:00:01\r\u001b[K     |███████████████████             | 440 kB 22.8 MB/s eta 0:00:01\r\u001b[K     |███████████████████▍            | 450 kB 22.8 MB/s eta 0:00:01\r\u001b[K     |███████████████████▉            | 460 kB 22.8 MB/s eta 0:00:01\r\u001b[K     |████████████████████▎           | 471 kB 22.8 MB/s eta 0:00:01\r\u001b[K     |████████████████████▋           | 481 kB 22.8 MB/s eta 0:00:01\r\u001b[K     |█████████████████████           | 491 kB 22.8 MB/s eta 0:00:01\r\u001b[K     |█████████████████████▌          | 501 kB 22.8 MB/s eta 0:00:01\r\u001b[K     |██████████████████████          | 512 kB 22.8 MB/s eta 0:00:01\r\u001b[K     |██████████████████████▍         | 522 kB 22.8 MB/s eta 0:00:01\r\u001b[K     |██████████████████████▉         | 532 kB 22.8 MB/s eta 0:00:01\r\u001b[K     |███████████████████████▎        | 542 kB 22.8 MB/s eta 0:00:01\r\u001b[K     |███████████████████████▊        | 552 kB 22.8 MB/s eta 0:00:01\r\u001b[K     |████████████████████████▏       | 563 kB 22.8 MB/s eta 0:00:01\r\u001b[K     |████████████████████████▋       | 573 kB 22.8 MB/s eta 0:00:01\r\u001b[K     |█████████████████████████       | 583 kB 22.8 MB/s eta 0:00:01\r\u001b[K     |█████████████████████████▌      | 593 kB 22.8 MB/s eta 0:00:01\r\u001b[K     |██████████████████████████      | 604 kB 22.8 MB/s eta 0:00:01\r\u001b[K     |██████████████████████████▍     | 614 kB 22.8 MB/s eta 0:00:01\r\u001b[K     |██████████████████████████▉     | 624 kB 22.8 MB/s eta 0:00:01\r\u001b[K     |███████████████████████████▎    | 634 kB 22.8 MB/s eta 0:00:01\r\u001b[K     |███████████████████████████▊    | 645 kB 22.8 MB/s eta 0:00:01\r\u001b[K     |████████████████████████████▏   | 655 kB 22.8 MB/s eta 0:00:01\r\u001b[K     |████████████████████████████▋   | 665 kB 22.8 MB/s eta 0:00:01\r\u001b[K     |█████████████████████████████   | 675 kB 22.8 MB/s eta 0:00:01\r\u001b[K     |█████████████████████████████▌  | 686 kB 22.8 MB/s eta 0:00:01\r\u001b[K     |██████████████████████████████  | 696 kB 22.8 MB/s eta 0:00:01\r\u001b[K     |██████████████████████████████▍ | 706 kB 22.8 MB/s eta 0:00:01\r\u001b[K     |██████████████████████████████▊ | 716 kB 22.8 MB/s eta 0:00:01\r\u001b[K     |███████████████████████████████▏| 727 kB 22.8 MB/s eta 0:00:01\r\u001b[K     |███████████████████████████████▋| 737 kB 22.8 MB/s eta 0:00:01\r\u001b[K     |████████████████████████████████| 745 kB 22.8 MB/s \n",
            "\u001b[?25h  Building wheel for pyngrok (setup.py) ... \u001b[?25l\u001b[?25hdone\n"
          ]
        }
      ],
      "source": [
        "#install pacote conexao sistema web\n",
        "!pip install -q pyngrok"
      ]
    },
    {
      "cell_type": "code",
      "source": [
        "#install pacotes para implementacao o sistema na web\n",
        "!pip install -q streamlit"
      ],
      "metadata": {
        "id": "vjaQyyq9L835",
        "outputId": "155203ba-db4a-4c37-b199-b379393f0990",
        "colab": {
          "base_uri": "https://localhost:8080/"
        }
      },
      "execution_count": 4,
      "outputs": [
        {
          "output_type": "stream",
          "name": "stdout",
          "text": [
            "\u001b[K     |████████████████████████████████| 10.1 MB 14.7 MB/s \n",
            "\u001b[K     |████████████████████████████████| 111 kB 37.2 MB/s \n",
            "\u001b[K     |████████████████████████████████| 181 kB 44.1 MB/s \n",
            "\u001b[K     |████████████████████████████████| 76 kB 3.8 MB/s \n",
            "\u001b[K     |████████████████████████████████| 164 kB 56.1 MB/s \n",
            "\u001b[K     |████████████████████████████████| 4.3 MB 44.1 MB/s \n",
            "\u001b[K     |████████████████████████████████| 63 kB 1.7 MB/s \n",
            "\u001b[K     |████████████████████████████████| 130 kB 45.7 MB/s \n",
            "\u001b[K     |████████████████████████████████| 130 kB 53.0 MB/s \n",
            "\u001b[K     |████████████████████████████████| 793 kB 12.6 MB/s \n",
            "\u001b[K     |████████████████████████████████| 428 kB 64.7 MB/s \n",
            "\u001b[K     |████████████████████████████████| 381 kB 46.1 MB/s \n",
            "\u001b[?25h  Building wheel for blinker (setup.py) ... \u001b[?25l\u001b[?25hdone\n",
            "\u001b[31mERROR: pip's dependency resolver does not currently take into account all the packages that are installed. This behaviour is the source of the following dependency conflicts.\n",
            "jupyter-console 5.2.0 requires prompt-toolkit<2.0.0,>=1.0.0, but you have prompt-toolkit 3.0.29 which is incompatible.\n",
            "google-colab 1.0.0 requires ipykernel~=4.10, but you have ipykernel 6.12.1 which is incompatible.\n",
            "google-colab 1.0.0 requires ipython~=5.5.0, but you have ipython 7.32.0 which is incompatible.\n",
            "google-colab 1.0.0 requires tornado~=5.1.0; python_version >= \"3.0\", but you have tornado 6.1 which is incompatible.\u001b[0m\n"
          ]
        }
      ]
    },
    {
      "cell_type": "code",
      "source": [
        "!pip install -q streamlit_ace"
      ],
      "metadata": {
        "id": "VmvIVpwwL88I",
        "outputId": "b6ad47c3-3e51-4bc6-bd1a-90e739425117",
        "colab": {
          "base_uri": "https://localhost:8080/"
        }
      },
      "execution_count": 5,
      "outputs": [
        {
          "output_type": "stream",
          "name": "stdout",
          "text": [
            "\u001b[K     |████████████████████████████████| 3.6 MB 17.9 MB/s \n",
            "\u001b[?25h"
          ]
        }
      ]
    },
    {
      "cell_type": "code",
      "source": [
        "#Executa o sistema\n",
        "!streamlit run app.py &>/dev/null&"
      ],
      "metadata": {
        "id": "3PSPWWCWL86G"
      },
      "execution_count": 6,
      "outputs": []
    },
    {
      "cell_type": "code",
      "source": [
        "#Importando a biblioteca para conexao do nosso sistema web\n",
        "from pyngrok import ngrok"
      ],
      "metadata": {
        "id": "wXB5yoQJL89_"
      },
      "execution_count": 7,
      "outputs": []
    },
    {
      "cell_type": "code",
      "source": [
        "import re"
      ],
      "metadata": {
        "id": "pbFSVeKNGhGn"
      },
      "execution_count": 14,
      "outputs": []
    },
    {
      "cell_type": "code",
      "source": [
        "#comando para criar o sistema no arquivo app.py\n",
        "%%writefile app.py\n",
        "\n",
        "#importando pacotes\n",
        "import streamlit as st \n",
        "import re\n",
        "\n",
        "#.pickle .joblib\n",
        "\n",
        "#funcao criacao web page\n",
        "def main():\n",
        "\n",
        "  #elementos webpage\n",
        "  html_temp = \"\"\" <div style =\"background-color:green;padding:13px\">\n",
        "                    <h1 style = \"color:white;text-align:center;\">Detector jogador de LOL</h1>\n",
        "                  </dic>\n",
        "              \"\"\"\n",
        "  #funcao do stramlit que faz o display da webpage\n",
        "  st.markdown(html_temp, unsafe_allow_html = True)\n",
        "\n",
        "  #as linhas abaixo criam as caixas na qual o usuario vai entrar com dados \n",
        "  titulo = st.text_input('Titulo do anuncio')\n",
        "\n",
        "\n",
        "\n",
        "\n",
        "  def ident(field):\n",
        "      match = re.search('(?i)(gg)|(ff)|(tp)|(elo)|(tft)|(urf)|(adc)|(duo)|(ult)|(solo)|(skin)|(nerd)|(main)|(aram)|(item)|(flex)|(mono)|(gank)|(gold)|(ff15)|(troll)|(prata)|(smurf)|(flash)|(build)|(ignite)|(ranked)|(elojob)|(lowelo)|(jungle)|(intando)|(sucumba)|(nerdola)|(esquisito)|(mid)|(top)|(minions)|(cs)|(farm)|(gold)|(xp)|(yasuo)|(riven)|(shaco)|(zed)|(lee)|(gank)|(sup)|(bot)', field.lower())\n",
        "      \n",
        "      if st.button(\"Verificar\"): \n",
        "        if match:\n",
        "\n",
        "            st.success(\"NERD\")\n",
        "        else:\n",
        "            st.success(\"Ser humano\")\n",
        "          \n",
        "  ident(titulo)\n",
        "\n",
        "if __name__=='__main__': \n",
        "    main()           \n"
      ],
      "metadata": {
        "id": "3pyg_JlxL9B4",
        "outputId": "d0358287-07bb-4a71-cd5a-2bd140a2d9d1",
        "colab": {
          "base_uri": "https://localhost:8080/"
        }
      },
      "execution_count": 20,
      "outputs": [
        {
          "output_type": "stream",
          "name": "stdout",
          "text": [
            "Overwriting app.py\n"
          ]
        }
      ]
    },
    {
      "cell_type": "code",
      "source": [
        "!streamlit run app.py & npx localtunnel --port 8501"
      ],
      "metadata": {
        "id": "SAbh_AmuL9Dw",
        "outputId": "cb56ee44-3b9f-4a85-fd1f-1ac497161e1f",
        "colab": {
          "base_uri": "https://localhost:8080/"
        }
      },
      "execution_count": null,
      "outputs": [
        {
          "output_type": "stream",
          "name": "stdout",
          "text": [
            "2022-04-06 23:05:03.054 INFO    numexpr.utils: NumExpr defaulting to 2 threads.\n",
            "\u001b[K\u001b[?25hnpx: installed 22 in 2.602s\n",
            "your url is: https://evil-jellyfish-49.loca.lt\n"
          ]
        }
      ]
    },
    {
      "cell_type": "code",
      "source": [
        ""
      ],
      "metadata": {
        "id": "AudBahM5L9GB"
      },
      "execution_count": null,
      "outputs": []
    }
  ]
}