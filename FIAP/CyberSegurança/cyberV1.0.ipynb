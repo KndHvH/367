{
  "nbformat": 4,
  "nbformat_minor": 0,
  "metadata": {
    "colab": {
      "name": "Untitled0.ipynb",
      "provenance": [],
      "authorship_tag": "ABX9TyOePkgiwIeL8fxIIrpkH2PH",
      "include_colab_link": true
    },
    "kernelspec": {
      "name": "python3",
      "display_name": "Python 3"
    },
    "language_info": {
      "name": "python"
    }
  },
  "cells": [
    {
      "cell_type": "markdown",
      "metadata": {
        "id": "view-in-github",
        "colab_type": "text"
      },
      "source": [
        "<a href=\"https://colab.research.google.com/github/KndHvH/fanta/blob/1/FIAP/CyberSeguran%C3%A7a/cyberV1.0.ipynb\" target=\"_parent\"><img src=\"https://colab.research.google.com/assets/colab-badge.svg\" alt=\"Open In Colab\"/></a>"
      ]
    },
    {
      "cell_type": "markdown",
      "source": [
        "**Identificador jogador de LOL 🤢**"
      ],
      "metadata": {
        "id": "Tzj2RBePFE8b"
      }
    },
    {
      "cell_type": "code",
      "execution_count": null,
      "metadata": {
        "id": "LnUOkVHoDpEX"
      },
      "outputs": [],
      "source": [
        "#gank, elo, troll, sucumba, esquisito, nerd, nerdola, intando, gg, smurf, jungle, adc, elojob, ff, ff15, ult, q, w, e, r, flash, tp, ignite, prata, gold, lowelo, urf, aram, tft, ranked, duo, solo, flex, skin"
      ]
    },
    {
      "cell_type": "code",
      "source": [
        "lista = [\n",
        "         'r', \n",
        "         'e', \n",
        "         'w', \n",
        "         'q', \n",
        "         'gg', \n",
        "         'ff', \n",
        "         'tp',\n",
        "         'elo', \n",
        "         'tft',\n",
        "         'kog',\n",
        "         'urf',\n",
        "         'adc', \n",
        "         'duo',\n",
        "         'ult', \n",
        "         'solo',\n",
        "         'skin',\n",
        "         'nerd', \n",
        "         'main',\n",
        "         'aram',\n",
        "         'item',\n",
        "         'flex',\n",
        "         'mono',\n",
        "         'gank', \n",
        "         'gold',\n",
        "         'ff15', \n",
        "         'troll', \n",
        "         'prata',\n",
        "         'smurf', \n",
        "         'flash', \n",
        "         'build',\n",
        "         'ignite',\n",
        "         'ranked',\n",
        "         'elojob', \n",
        "         'lowelo',\n",
        "         'jungle', \n",
        "         'intando', \n",
        "         'sucumba', \n",
        "         'nerdola', \n",
        "         'esquisito', \n",
        "         ]\n",
        "\n",
        "\n",
        "texto = input()\n",
        "if (texto in lista):\n",
        "    print(\"Item proibido\")\n",
        "\n",
        "else:\n",
        "    print(\"Item permitido\")\n",
        "\n",
        "\n",
        "\n"
      ],
      "metadata": {
        "colab": {
          "base_uri": "https://localhost:8080/"
        },
        "id": "GHCZfeL7zAY8",
        "outputId": "5689fd02-f358-4912-d51e-a6bb7e8dcd22"
      },
      "execution_count": null,
      "outputs": [
        {
          "output_type": "stream",
          "name": "stdout",
          "text": [
            "sexo\n",
            "Item permitido\n"
          ]
        }
      ]
    },
    {
      "cell_type": "code",
      "source": [
        "import re\n",
        "\n",
        "\n",
        "def ident(field):\n",
        "     match = re.search('(?i)(gg)|(ff)|(tp)|(elo)|(tft)|(urf)|(adc)|(duo)|(ult)|(solo)|(skin)|(nerd)|(main)|(aram)|(item)|(flex)|(mono)|(gank)|(gold)|(ff15)|(troll)|(prata)|(smurf)|(flash)|(build)|(ignite)|(ranked)|(elojob)|(lowelo)|(jungle)|(intando)|(sucumba)|(nerdola)|(esquisito)|(mid)|(top)|(minions)|(cs)|(farm)|(gold)|(xp)|(yasuo)|(riven)|(shaco)|(zed)|(lee)|(gank)|(sup)|(bot)', field.lower())\n",
        "     \n",
        "     if match:\n",
        "\n",
        "         print(\"NERD\")\n",
        "     else:\n",
        "         print(\"Ser humano\")\n",
        "         \n",
        "ident(input())"
      ],
      "metadata": {
        "colab": {
          "base_uri": "https://localhost:8080/"
        },
        "id": "xvEQfuZVzAt5",
        "outputId": "7e3fe98e-db52-47a1-9e1a-9a595a402193"
      },
      "execution_count": 1,
      "outputs": [
        {
          "output_type": "stream",
          "name": "stdout",
          "text": [
            "aa\n",
            "Ser humano\n"
          ]
        }
      ]
    },
    {
      "cell_type": "code",
      "source": [
        ""
      ],
      "metadata": {
        "id": "I-KAQZhIzAwi"
      },
      "execution_count": null,
      "outputs": []
    },
    {
      "cell_type": "code",
      "source": [
        ""
      ],
      "metadata": {
        "id": "mxU6SwlrzAzS"
      },
      "execution_count": null,
      "outputs": []
    }
  ]
}