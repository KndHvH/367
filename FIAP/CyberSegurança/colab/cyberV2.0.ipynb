{
 "nbformat": 4,
 "nbformat_minor": 0,
 "metadata": {
  "colab": {
   "name": "Untitled2.ipynb",
   "provenance": [],
   "authorship_tag": "ABX9TyMZHptQn74Kw+XK9YbP2Poq",
   "include_colab_link": true
  },
  "kernelspec": {
   "name": "python3",
   "display_name": "Python 3"
  },
  "language_info": {
   "name": "python"
  }
 },
 "cells": [
  {
   "cell_type": "markdown",
   "metadata": {
    "id": "view-in-github",
    "colab_type": "text",
    "pycharm": {
     "name": "#%% md\n"
    }
   },
   "source": [
    "<a href=\"https://colab.research.google.com/github/KndHvH/fanta/blob/1/FIAP/CyberSeguran%C3%A7a/cyberV2.0.ipynb\" target=\"_parent\"><img src=\"https://colab.research.google.com/assets/colab-badge.svg\" alt=\"Open In Colab\"/></a>"
   ]
  },
  {
   "cell_type": "code",
   "execution_count": null,
   "metadata": {
    "id": "yC63ioXgKXNv",
    "pycharm": {
     "name": "#%%\n"
    }
   },
   "outputs": [],
   "source": [
    "!pip install fuzzywuzzy[speedup]"
   ]
  },
  {
   "cell_type": "code",
   "source": [
    "from fuzzywuzzy import process"
   ],
   "metadata": {
    "id": "hYIBzxaYLKnA",
    "pycharm": {
     "name": "#%%\n"
    }
   },
   "execution_count": 2,
   "outputs": []
  },
  {
   "cell_type": "code",
   "source": [
    "lista = [\n",
    "         'ggwp',\n",
    "         'teleport',\n",
    "         'torre',  \n",
    "         'nexus',       \n",
    "         'elo',\n",
    "         'tft',\n",
    "         'urf',\n",
    "         'adc',\n",
    "         'duo',\n",
    "         'ult',\n",
    "         'solo',\n",
    "         'skin',\n",
    "         'nerd',\n",
    "         'main',\n",
    "         'aram',\n",
    "         'item',\n",
    "         'flex',\n",
    "         'mono',\n",
    "         'gank',\n",
    "         'gold',\n",
    "         'ff15',\n",
    "         'troll',\n",
    "         'prata',\n",
    "         'smurf',\n",
    "         'flash',\n",
    "         'build',\n",
    "         'ignite',\n",
    "         'ranked',\n",
    "         'elojob',\n",
    "         'lowelo',\n",
    "         'jungle',\n",
    "         'intando',\n",
    "         'sucumba',\n",
    "         'nerdola',\n",
    "         'esquisito',\n",
    "         'mid',\n",
    "         'top',\n",
    "         'minions',\n",
    "         'cs',\n",
    "         'farm',\n",
    "         'gold',\n",
    "         'xp',\n",
    "         'yasuo',\n",
    "         'riven',\n",
    "         'shaco',\n",
    "         'zed',\n",
    "         'lee',\n",
    "         'gank',\n",
    "         'sup',\n",
    "         'bot',\n",
    "         'maestria'\n",
    "         ]\n",
    "\n",
    "texto = input(\"Digite o texto: \")\n",
    "\n",
    "process.extract(texto,lista)"
   ],
   "metadata": {
    "colab": {
     "base_uri": "https://localhost:8080/"
    },
    "id": "LxhtrvVqLKvM",
    "outputId": "f14738fd-bc76-4715-ece1-fe7dd860d82d",
    "pycharm": {
     "name": "#%%\n"
    }
   },
   "execution_count": 3,
   "outputs": [
    {
     "data": {
      "text/plain": "[('adc', 60), ('maestria', 46), ('cs', 45), ('aram', 44), ('prata', 40)]"
     },
     "execution_count": 3,
     "metadata": {},
     "output_type": "execute_result"
    }
   ]
  },
  {
   "cell_type": "code",
   "execution_count": 4,
   "outputs": [],
   "source": [
    "match_list = [\n",
    "'ggwp','teleport','torre','nexus','elo','tft','urf','adc','duo','ult','solo','skin','nerd','main','aram','item','flex','mono','gank','gold','ff15','troll','prata','smurf','flash','build','ignite','ranked','elojob','lowelo','jungle','intando','sucumba','nerdola','esquisito','mid','top','minions','cs','farm','gold','xp','yasuo','riven','shaco','zed','lee','gank','sup','bot','maestria'\n",
    "         ]"
   ],
   "metadata": {
    "collapsed": false,
    "pycharm": {
     "name": "#%%\n"
    }
   }
  },
  {
   "cell_type": "code",
   "source": [
    "def getMatch(field, match_list):\n",
    "\n",
    "  search_list = process.extract(field, match_list) \n",
    "  result=[]\n",
    "          \n",
    "  for text in search_list: \n",
    "      if text[1] > 60:\n",
    "        result.append(text)\n",
    "            \n",
    "      if len(result) == 0:\n",
    "         return 'Produto proibido? Não'\n",
    "      return 'Produto proibido? Sim'\n",
    "            \n",
    "        \n"
   ],
   "metadata": {
    "id": "bKw85pJhLKx9",
    "pycharm": {
     "name": "#%%\n"
    }
   },
   "execution_count": 5,
   "outputs": []
  },
  {
   "cell_type": "code",
   "source": [
    "getMatch(input(),match_list)"
   ],
   "metadata": {
    "id": "NR1OoF2YLK0s",
    "colab": {
     "base_uri": "https://localhost:8080/",
     "height": 52
    },
    "outputId": "0677b3f6-0a7c-48a7-c401-d95513093db0",
    "pycharm": {
     "name": "#%%\n"
    }
   },
   "execution_count": 6,
   "outputs": [
    {
     "data": {
      "text/plain": "'Produto proibido? Não'"
     },
     "execution_count": 6,
     "metadata": {},
     "output_type": "execute_result"
    }
   ]
  },
  {
   "cell_type": "code",
   "execution_count": null,
   "outputs": [],
   "source": [],
   "metadata": {
    "collapsed": false,
    "pycharm": {
     "name": "#%%\n"
    }
   }
  }
 ]
}