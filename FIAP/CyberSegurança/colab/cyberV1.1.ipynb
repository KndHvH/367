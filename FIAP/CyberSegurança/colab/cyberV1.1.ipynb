{
 "nbformat": 4,
 "nbformat_minor": 0,
 "metadata": {
  "colab": {
   "name": "Untitled2.ipynb",
   "provenance": [],
   "authorship_tag": "ABX9TyPPJoBNDwI/xx8bxRpaCJEQ",
   "include_colab_link": true
  },
  "kernelspec": {
   "name": "python3",
   "display_name": "Python 3"
  },
  "language_info": {
   "name": "python"
  }
 },
 "cells": [
  {
   "cell_type": "markdown",
   "metadata": {
    "id": "view-in-github",
    "colab_type": "text"
   },
   "source": [
    "<a href=\"https://colab.research.google.com/github/KndHvH/fanta/blob/1/FIAP/CyberSeguran%C3%A7a/cyberV1.1.ipynb\" target=\"_parent\"><img src=\"https://colab.research.google.com/assets/colab-badge.svg\" alt=\"Open In Colab\"/></a>"
   ]
  },
  {
   "cell_type": "code",
   "execution_count": null,
   "metadata": {
    "id": "yC63ioXgKXNv"
   },
   "outputs": [],
   "source": [
    "!pip install fuzzywuzzy[speedup]"
   ]
  },
  {
   "cell_type": "code",
   "source": [
    "from fuzzywuzzy import process"
   ],
   "metadata": {
    "id": "hYIBzxaYLKnA"
   },
   "execution_count": 3,
   "outputs": []
  },
  {
   "cell_type": "code",
   "source": [
    "lista = [\n",
    "         'ggwp',\n",
    "         'teleport',\n",
    "         'torre',  \n",
    "         'nexus',       \n",
    "         'elo',\n",
    "         'tft',\n",
    "         'urf',\n",
    "         'adc',\n",
    "         'duo',\n",
    "         'ult',\n",
    "         'solo',\n",
    "         'skin',\n",
    "         'nerd',\n",
    "         'main',\n",
    "         'aram',\n",
    "         'item',\n",
    "         'flex',\n",
    "         'mono',\n",
    "         'gank',\n",
    "         'gold',\n",
    "         'ff15',\n",
    "         'troll',\n",
    "         'prata',\n",
    "         'smurf',\n",
    "         'flash',\n",
    "         'build',\n",
    "         'ignite',\n",
    "         'ranked',\n",
    "         'elojob',\n",
    "         'lowelo',\n",
    "         'jungle',\n",
    "         'intando',\n",
    "         'sucumba',\n",
    "         'nerdola',\n",
    "         'esquisito',\n",
    "         'mid',\n",
    "         'top',\n",
    "         'minions',\n",
    "         'cs',\n",
    "         'farm',\n",
    "         'gold',\n",
    "         'xp',\n",
    "         'yasuo',\n",
    "         'riven',\n",
    "         'shaco',\n",
    "         'zed',\n",
    "         'lee',\n",
    "         'gank',\n",
    "         'sup',\n",
    "         'bot',\n",
    "         'maestria'\n",
    "         ]\n",
    "\n",
    "texto = input(\"Digite o texto: \")\n",
    "\n",
    "process.extract(texto,lista)"
   ],
   "metadata": {
    "colab": {
     "base_uri": "https://localhost:8080/"
    },
    "id": "LxhtrvVqLKvM",
    "outputId": "f14738fd-bc76-4715-ece1-fe7dd860d82d"
   },
   "execution_count": 10,
   "outputs": [
    {
     "name": "stdout",
     "output_type": "stream",
     "text": [
      "Digite o texto: estou dando aula na fiap\n"
     ]
    },
    {
     "output_type": "execute_result",
     "data": {
      "text/plain": [
       "[('adc', 60), ('ult', 60), ('top', 60), ('urf', 57), ('intando', 51)]"
      ]
     },
     "metadata": {},
     "execution_count": 10
    }
   ]
  },
  {
   "cell_type": "code",
   "source": [
    "def getMatch(field):\n",
    "  match_list = ['2222']\n",
    "  search_list = process.extract(field, match_list) \n",
    "  result=[]\n",
    "          \n",
    "  for text in search_list: \n",
    "      if text[1] > 60:\n",
    "        result.append(text)\n",
    "            \n",
    "      if len(result) == 0:\n",
    "         return 'Produto proibido? Não'\n",
    "      return 'Produto proibido? Sim'\n",
    "            \n",
    "        \n"
   ],
   "metadata": {
    "id": "bKw85pJhLKx9"
   },
   "execution_count": 4,
   "outputs": []
  },
  {
   "cell_type": "code",
   "source": [
    "getMatch(input())"
   ],
   "metadata": {
    "id": "NR1OoF2YLK0s",
    "outputId": "3e14088b-00a5-45f8-f448-ed9e8c2b92ef",
    "colab": {
     "base_uri": "https://localhost:8080/"
    }
   },
   "execution_count": 5,
   "outputs": [
    {
     "data": {
      "text/plain": "'Produto proibido? Sim'"
     },
     "execution_count": 5,
     "metadata": {},
     "output_type": "execute_result"
    }
   ]
  },
  {
   "cell_type": "code",
   "execution_count": null,
   "outputs": [],
   "source": [],
   "metadata": {
    "collapsed": false,
    "pycharm": {
     "name": "#%%\n"
    }
   }
  }
 ]
}