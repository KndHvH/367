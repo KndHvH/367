{
 "nbformat": 4,
 "nbformat_minor": 0,
 "metadata": {
  "colab": {
   "name": "Untitled4.ipynb",
   "provenance": [],
   "authorship_tag": "ABX9TyPK4a4Kc3XH88V5YOP5ZKRO",
   "include_colab_link": true
  },
  "kernelspec": {
   "name": "python3",
   "display_name": "Python 3"
  },
  "language_info": {
   "name": "python"
  }
 },
 "cells": [
  {
   "cell_type": "markdown",
   "metadata": {
    "id": "view-in-github",
    "colab_type": "text"
   },
   "source": [
    "<a href=\"https://colab.research.google.com/github/KndHvH/fanta/blob/1/FIAP/CyberSeguran%C3%A7a/web1.0.ipynb\" target=\"_parent\"><img src=\"https://colab.research.google.com/assets/colab-badge.svg\" alt=\"Open In Colab\"/></a>"
   ]
  },
  {
   "cell_type": "markdown",
   "source": [
    "notepad.pw/resumaocyber\n"
   ],
   "metadata": {
    "id": "8arbL1pxJ3Gj"
   }
  },
  {
   "cell_type": "code",
   "execution_count": 1,
   "metadata": {
    "id": "tay4SiRTL8Ij"
   },
   "outputs": [],
   "source": [
    "#install pacote conexao sistema web\n",
    "!pip install -q pyngrok"
   ]
  },
  {
   "cell_type": "code",
   "source": [
    "#Executa o sistema\n",
    "!streamlit run app.py &>/dev/null&"
   ],
   "metadata": {
    "id": "3PSPWWCWL86G"
   },
   "execution_count": 2,
   "outputs": [
    {
     "ename": "OSError",
     "evalue": "Background processes not supported.",
     "output_type": "error",
     "traceback": [
      "\u001B[1;31m---------------------------------------------------------------------------\u001B[0m",
      "\u001B[1;31mOSError\u001B[0m                                   Traceback (most recent call last)",
      "Input \u001B[1;32mIn [2]\u001B[0m, in \u001B[0;36m<cell line: 2>\u001B[1;34m()\u001B[0m\n\u001B[0;32m      1\u001B[0m \u001B[38;5;66;03m#Executa o sistema\u001B[39;00m\n\u001B[1;32m----> 2\u001B[0m \u001B[43mget_ipython\u001B[49m\u001B[43m(\u001B[49m\u001B[43m)\u001B[49m\u001B[38;5;241;43m.\u001B[39;49m\u001B[43msystem\u001B[49m\u001B[43m(\u001B[49m\u001B[38;5;124;43m'\u001B[39;49m\u001B[38;5;124;43mstreamlit run app.py &>/dev/null&\u001B[39;49m\u001B[38;5;124;43m'\u001B[39;49m\u001B[43m)\u001B[49m\n",
      "File \u001B[1;32m~\\PycharmProjects\\120121\\venv\\lib\\site-packages\\ipykernel\\zmqshell.py:621\u001B[0m, in \u001B[0;36mZMQInteractiveShell.system_piped\u001B[1;34m(self, cmd)\u001B[0m\n\u001B[0;32m    606\u001B[0m \u001B[38;5;124;03m\"\"\"Call the given cmd in a subprocess, piping stdout/err\u001B[39;00m\n\u001B[0;32m    607\u001B[0m \n\u001B[0;32m    608\u001B[0m \u001B[38;5;124;03mParameters\u001B[39;00m\n\u001B[1;32m   (...)\u001B[0m\n\u001B[0;32m    613\u001B[0m \u001B[38;5;124;03m    other than simple text.\u001B[39;00m\n\u001B[0;32m    614\u001B[0m \u001B[38;5;124;03m\"\"\"\u001B[39;00m\n\u001B[0;32m    615\u001B[0m \u001B[38;5;28;01mif\u001B[39;00m cmd\u001B[38;5;241m.\u001B[39mrstrip()\u001B[38;5;241m.\u001B[39mendswith(\u001B[38;5;124m'\u001B[39m\u001B[38;5;124m&\u001B[39m\u001B[38;5;124m'\u001B[39m):\n\u001B[0;32m    616\u001B[0m     \u001B[38;5;66;03m# this is *far* from a rigorous test\u001B[39;00m\n\u001B[0;32m    617\u001B[0m     \u001B[38;5;66;03m# We do not support backgrounding processes because we either use\u001B[39;00m\n\u001B[0;32m    618\u001B[0m     \u001B[38;5;66;03m# pexpect or pipes to read from.  Users can always just call\u001B[39;00m\n\u001B[0;32m    619\u001B[0m     \u001B[38;5;66;03m# os.system() or use ip.system=ip.system_raw\u001B[39;00m\n\u001B[0;32m    620\u001B[0m     \u001B[38;5;66;03m# if they really want a background process.\u001B[39;00m\n\u001B[1;32m--> 621\u001B[0m     \u001B[38;5;28;01mraise\u001B[39;00m \u001B[38;5;167;01mOSError\u001B[39;00m(\u001B[38;5;124m\"\u001B[39m\u001B[38;5;124mBackground processes not supported.\u001B[39m\u001B[38;5;124m\"\u001B[39m)\n\u001B[0;32m    623\u001B[0m \u001B[38;5;66;03m# we explicitly do NOT return the subprocess status code, because\u001B[39;00m\n\u001B[0;32m    624\u001B[0m \u001B[38;5;66;03m# a non-None value would trigger :func:`sys.displayhook` calls.\u001B[39;00m\n\u001B[0;32m    625\u001B[0m \u001B[38;5;66;03m# Instead, we store the exit_code in user_ns.\u001B[39;00m\n\u001B[0;32m    626\u001B[0m \u001B[38;5;66;03m# Also, protect system call from UNC paths on Windows here too\u001B[39;00m\n\u001B[0;32m    627\u001B[0m \u001B[38;5;66;03m# as is done in InteractiveShell.system_raw\u001B[39;00m\n\u001B[0;32m    628\u001B[0m \u001B[38;5;28;01mif\u001B[39;00m sys\u001B[38;5;241m.\u001B[39mplatform \u001B[38;5;241m==\u001B[39m \u001B[38;5;124m'\u001B[39m\u001B[38;5;124mwin32\u001B[39m\u001B[38;5;124m'\u001B[39m:\n",
      "\u001B[1;31mOSError\u001B[0m: Background processes not supported."
     ]
    }
   ]
  },
  {
   "cell_type": "code",
   "source": [
    "#install pacotes para implementacao o sistema na web\n",
    "!pip install -q streamlit"
   ],
   "metadata": {
    "id": "vjaQyyq9L835"
   },
   "execution_count": null,
   "outputs": []
  },
  {
   "cell_type": "code",
   "source": [
    "!pip install -q streamlit_ace"
   ],
   "metadata": {
    "id": "VmvIVpwwL88I"
   },
   "execution_count": null,
   "outputs": []
  },
  {
   "cell_type": "code",
   "source": [
    "#Importando a biblioteca para conexao do nosso sistema web\n",
    "from pyngrok import ngrok"
   ],
   "metadata": {
    "id": "wXB5yoQJL89_"
   },
   "execution_count": 7,
   "outputs": []
  },
  {
   "cell_type": "code",
   "source": [
    "import re"
   ],
   "metadata": {
    "id": "pbFSVeKNGhGn"
   },
   "execution_count": 14,
   "outputs": []
  },
  {
   "cell_type": "code",
   "source": [
    "#comando para criar o sistema no arquivo app.py\n",
    "%%writefile app.py\n",
    "\n",
    "#importando pacotes\n",
    "import streamlit as st \n",
    "import re\n",
    "\n",
    "#.pickle .joblib\n",
    "\n",
    "#funcao criacao web page\n",
    "def main():\n",
    "\n",
    "  #elementos webpage\n",
    "  html_temp = \"\"\" <div style =\"background-color:green;padding:13px\">\n",
    "                    <h1 style = \"color:white;text-align:center;\">Detector jogador de LOL</h1>\n",
    "                  </dic>\n",
    "              \"\"\"\n",
    "  #funcao do stramlit que faz o display da webpage\n",
    "  st.markdown(html_temp, unsafe_allow_html = True)\n",
    "\n",
    "  #as linhas abaixo criam as caixas na qual o usuario vai entrar com dados \n",
    "  titulo = st.text_input('Titulo do anuncio')\n",
    "\n",
    "\n",
    "\n",
    "\n",
    "  def ident(field):\n",
    "      match = re.search('(?i)(gg)|(ff)|(tp)|(elo)|(tft)|(urf)|(adc)|(duo)|(ult)|(solo)|(skin)|(nerd)|(main)|(aram)|(item)|(flex)|(mono)|(gank)|(gold)|(ff15)|(troll)|(prata)|(smurf)|(flash)|(build)|(ignite)|(ranked)|(elojob)|(lowelo)|(jungle)|(intando)|(sucumba)|(nerdola)|(esquisito)|(mid)|(top)|(minions)|(cs)|(farm)|(gold)|(xp)|(yasuo)|(riven)|(shaco)|(zed)|(lee)|(gank)|(sup)|(bot)', field.lower())\n",
    "      \n",
    "      if st.button(\"Verificar\"): \n",
    "        if match:\n",
    "\n",
    "            st.success(\"NERD\")\n",
    "        else:\n",
    "            st.success(\"Ser humano\")\n",
    "          \n",
    "  ident(titulo)\n",
    "\n",
    "if __name__=='__main__': \n",
    "    main()           \n"
   ],
   "metadata": {
    "id": "3pyg_JlxL9B4"
   },
   "execution_count": null,
   "outputs": []
  },
  {
   "cell_type": "code",
   "source": [
    "!streamlit run app.py & npx localtunnel --port 8501"
   ],
   "metadata": {
    "id": "SAbh_AmuL9Dw"
   },
   "execution_count": null,
   "outputs": []
  },
  {
   "cell_type": "code",
   "source": [
    ""
   ],
   "metadata": {
    "id": "AudBahM5L9GB"
   },
   "execution_count": null,
   "outputs": []
  }
 ]
}