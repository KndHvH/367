{
 "cells": [
  {
   "cell_type": "code",
   "execution_count": 3,
   "metadata": {
    "collapsed": true
   },
   "outputs": [],
   "source": [
    "import pandas as pd\n",
    "import numpy as np\n",
    "import matplotlib.pyplot as plt"
   ]
  },
  {
   "cell_type": "code",
   "execution_count": 4,
   "outputs": [],
   "source": [
    "df = pd.read_csv('frmgham2.csv')"
   ],
   "metadata": {
    "collapsed": false,
    "pycharm": {
     "name": "#%%\n"
    }
   }
  },
  {
   "cell_type": "code",
   "execution_count": 5,
   "outputs": [
    {
     "data": {
      "text/plain": "        RANDID  SEX  TOTCHOL  AGE  SYSBP  DIABP  CURSMOKE  CIGPDAY    BMI  \\\n0         2448    1    195.0   39  106.0   70.0         0      0.0  26.97   \n1         2448    1    209.0   52  121.0   66.0         0      0.0    NaN   \n2         6238    2    250.0   46  121.0   81.0         0      0.0  28.73   \n3         6238    2    260.0   52  105.0   69.5         0      0.0  29.43   \n4         6238    2    237.0   58  108.0   66.0         0      0.0  28.50   \n...        ...  ...      ...  ...    ...    ...       ...      ...    ...   \n11622  9998212    1    173.0   46  126.0   82.0         0      0.0  19.17   \n11623  9998212    1    153.0   52  143.0   89.0         0      0.0  25.74   \n11624  9999312    2    196.0   39  133.0   86.0         1     30.0  20.91   \n11625  9999312    2    240.0   46  138.0   79.0         1     20.0  26.39   \n11626  9999312    2      NaN   50  147.0   96.0         1     10.0  24.19   \n\n       DIABETES  ...  CVD  HYPERTEN  TIMEAP  TIMEMI  TIMEMIFC  TIMECHD  \\\n0             0  ...    1         0    8766    6438      6438     6438   \n1             0  ...    1         0    8766    6438      6438     6438   \n2             0  ...    0         0    8766    8766      8766     8766   \n3             0  ...    0         0    8766    8766      8766     8766   \n4             0  ...    0         0    8766    8766      8766     8766   \n...         ...  ...  ...       ...     ...     ...       ...      ...   \n11622         0  ...    0         1    8766    8766      8766     8766   \n11623         0  ...    0         1    8766    8766      8766     8766   \n11624         0  ...    0         1    8766    8766      8766     8766   \n11625         0  ...    0         1    8766    8766      8766     8766   \n11626         0  ...    0         1    8766    8766      8766     8766   \n\n       TIMESTRK  TIMECVD  TIMEDTH  TIMEHYP  \n0          8766     6438     8766     8766  \n1          8766     6438     8766     8766  \n2          8766     8766     8766     8766  \n3          8766     8766     8766     8766  \n4          8766     8766     8766     8766  \n...         ...      ...      ...      ...  \n11622      8766     8766     8766        0  \n11623      8766     8766     8766        0  \n11624      8766     8766     8766     4201  \n11625      8766     8766     8766     4201  \n11626      8766     8766     8766     4201  \n\n[11627 rows x 39 columns]",
      "text/html": "<div>\n<style scoped>\n    .dataframe tbody tr th:only-of-type {\n        vertical-align: middle;\n    }\n\n    .dataframe tbody tr th {\n        vertical-align: top;\n    }\n\n    .dataframe thead th {\n        text-align: right;\n    }\n</style>\n<table border=\"1\" class=\"dataframe\">\n  <thead>\n    <tr style=\"text-align: right;\">\n      <th></th>\n      <th>RANDID</th>\n      <th>SEX</th>\n      <th>TOTCHOL</th>\n      <th>AGE</th>\n      <th>SYSBP</th>\n      <th>DIABP</th>\n      <th>CURSMOKE</th>\n      <th>CIGPDAY</th>\n      <th>BMI</th>\n      <th>DIABETES</th>\n      <th>...</th>\n      <th>CVD</th>\n      <th>HYPERTEN</th>\n      <th>TIMEAP</th>\n      <th>TIMEMI</th>\n      <th>TIMEMIFC</th>\n      <th>TIMECHD</th>\n      <th>TIMESTRK</th>\n      <th>TIMECVD</th>\n      <th>TIMEDTH</th>\n      <th>TIMEHYP</th>\n    </tr>\n  </thead>\n  <tbody>\n    <tr>\n      <th>0</th>\n      <td>2448</td>\n      <td>1</td>\n      <td>195.0</td>\n      <td>39</td>\n      <td>106.0</td>\n      <td>70.0</td>\n      <td>0</td>\n      <td>0.0</td>\n      <td>26.97</td>\n      <td>0</td>\n      <td>...</td>\n      <td>1</td>\n      <td>0</td>\n      <td>8766</td>\n      <td>6438</td>\n      <td>6438</td>\n      <td>6438</td>\n      <td>8766</td>\n      <td>6438</td>\n      <td>8766</td>\n      <td>8766</td>\n    </tr>\n    <tr>\n      <th>1</th>\n      <td>2448</td>\n      <td>1</td>\n      <td>209.0</td>\n      <td>52</td>\n      <td>121.0</td>\n      <td>66.0</td>\n      <td>0</td>\n      <td>0.0</td>\n      <td>NaN</td>\n      <td>0</td>\n      <td>...</td>\n      <td>1</td>\n      <td>0</td>\n      <td>8766</td>\n      <td>6438</td>\n      <td>6438</td>\n      <td>6438</td>\n      <td>8766</td>\n      <td>6438</td>\n      <td>8766</td>\n      <td>8766</td>\n    </tr>\n    <tr>\n      <th>2</th>\n      <td>6238</td>\n      <td>2</td>\n      <td>250.0</td>\n      <td>46</td>\n      <td>121.0</td>\n      <td>81.0</td>\n      <td>0</td>\n      <td>0.0</td>\n      <td>28.73</td>\n      <td>0</td>\n      <td>...</td>\n      <td>0</td>\n      <td>0</td>\n      <td>8766</td>\n      <td>8766</td>\n      <td>8766</td>\n      <td>8766</td>\n      <td>8766</td>\n      <td>8766</td>\n      <td>8766</td>\n      <td>8766</td>\n    </tr>\n    <tr>\n      <th>3</th>\n      <td>6238</td>\n      <td>2</td>\n      <td>260.0</td>\n      <td>52</td>\n      <td>105.0</td>\n      <td>69.5</td>\n      <td>0</td>\n      <td>0.0</td>\n      <td>29.43</td>\n      <td>0</td>\n      <td>...</td>\n      <td>0</td>\n      <td>0</td>\n      <td>8766</td>\n      <td>8766</td>\n      <td>8766</td>\n      <td>8766</td>\n      <td>8766</td>\n      <td>8766</td>\n      <td>8766</td>\n      <td>8766</td>\n    </tr>\n    <tr>\n      <th>4</th>\n      <td>6238</td>\n      <td>2</td>\n      <td>237.0</td>\n      <td>58</td>\n      <td>108.0</td>\n      <td>66.0</td>\n      <td>0</td>\n      <td>0.0</td>\n      <td>28.50</td>\n      <td>0</td>\n      <td>...</td>\n      <td>0</td>\n      <td>0</td>\n      <td>8766</td>\n      <td>8766</td>\n      <td>8766</td>\n      <td>8766</td>\n      <td>8766</td>\n      <td>8766</td>\n      <td>8766</td>\n      <td>8766</td>\n    </tr>\n    <tr>\n      <th>...</th>\n      <td>...</td>\n      <td>...</td>\n      <td>...</td>\n      <td>...</td>\n      <td>...</td>\n      <td>...</td>\n      <td>...</td>\n      <td>...</td>\n      <td>...</td>\n      <td>...</td>\n      <td>...</td>\n      <td>...</td>\n      <td>...</td>\n      <td>...</td>\n      <td>...</td>\n      <td>...</td>\n      <td>...</td>\n      <td>...</td>\n      <td>...</td>\n      <td>...</td>\n      <td>...</td>\n    </tr>\n    <tr>\n      <th>11622</th>\n      <td>9998212</td>\n      <td>1</td>\n      <td>173.0</td>\n      <td>46</td>\n      <td>126.0</td>\n      <td>82.0</td>\n      <td>0</td>\n      <td>0.0</td>\n      <td>19.17</td>\n      <td>0</td>\n      <td>...</td>\n      <td>0</td>\n      <td>1</td>\n      <td>8766</td>\n      <td>8766</td>\n      <td>8766</td>\n      <td>8766</td>\n      <td>8766</td>\n      <td>8766</td>\n      <td>8766</td>\n      <td>0</td>\n    </tr>\n    <tr>\n      <th>11623</th>\n      <td>9998212</td>\n      <td>1</td>\n      <td>153.0</td>\n      <td>52</td>\n      <td>143.0</td>\n      <td>89.0</td>\n      <td>0</td>\n      <td>0.0</td>\n      <td>25.74</td>\n      <td>0</td>\n      <td>...</td>\n      <td>0</td>\n      <td>1</td>\n      <td>8766</td>\n      <td>8766</td>\n      <td>8766</td>\n      <td>8766</td>\n      <td>8766</td>\n      <td>8766</td>\n      <td>8766</td>\n      <td>0</td>\n    </tr>\n    <tr>\n      <th>11624</th>\n      <td>9999312</td>\n      <td>2</td>\n      <td>196.0</td>\n      <td>39</td>\n      <td>133.0</td>\n      <td>86.0</td>\n      <td>1</td>\n      <td>30.0</td>\n      <td>20.91</td>\n      <td>0</td>\n      <td>...</td>\n      <td>0</td>\n      <td>1</td>\n      <td>8766</td>\n      <td>8766</td>\n      <td>8766</td>\n      <td>8766</td>\n      <td>8766</td>\n      <td>8766</td>\n      <td>8766</td>\n      <td>4201</td>\n    </tr>\n    <tr>\n      <th>11625</th>\n      <td>9999312</td>\n      <td>2</td>\n      <td>240.0</td>\n      <td>46</td>\n      <td>138.0</td>\n      <td>79.0</td>\n      <td>1</td>\n      <td>20.0</td>\n      <td>26.39</td>\n      <td>0</td>\n      <td>...</td>\n      <td>0</td>\n      <td>1</td>\n      <td>8766</td>\n      <td>8766</td>\n      <td>8766</td>\n      <td>8766</td>\n      <td>8766</td>\n      <td>8766</td>\n      <td>8766</td>\n      <td>4201</td>\n    </tr>\n    <tr>\n      <th>11626</th>\n      <td>9999312</td>\n      <td>2</td>\n      <td>NaN</td>\n      <td>50</td>\n      <td>147.0</td>\n      <td>96.0</td>\n      <td>1</td>\n      <td>10.0</td>\n      <td>24.19</td>\n      <td>0</td>\n      <td>...</td>\n      <td>0</td>\n      <td>1</td>\n      <td>8766</td>\n      <td>8766</td>\n      <td>8766</td>\n      <td>8766</td>\n      <td>8766</td>\n      <td>8766</td>\n      <td>8766</td>\n      <td>4201</td>\n    </tr>\n  </tbody>\n</table>\n<p>11627 rows × 39 columns</p>\n</div>"
     },
     "execution_count": 5,
     "metadata": {},
     "output_type": "execute_result"
    }
   ],
   "source": [
    "df"
   ],
   "metadata": {
    "collapsed": false,
    "pycharm": {
     "name": "#%%\n"
    }
   }
  },
  {
   "cell_type": "code",
   "execution_count": null,
   "outputs": [],
   "source": [],
   "metadata": {
    "collapsed": false,
    "pycharm": {
     "name": "#%%\n"
    }
   }
  }
 ],
 "metadata": {
  "kernelspec": {
   "display_name": "Python 3",
   "language": "python",
   "name": "python3"
  },
  "language_info": {
   "codemirror_mode": {
    "name": "ipython",
    "version": 2
   },
   "file_extension": ".py",
   "mimetype": "text/x-python",
   "name": "python",
   "nbconvert_exporter": "python",
   "pygments_lexer": "ipython2",
   "version": "2.7.6"
  }
 },
 "nbformat": 4,
 "nbformat_minor": 0
}