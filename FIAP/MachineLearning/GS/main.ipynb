{
 "cells": [
  {
   "cell_type": "code",
   "execution_count": 31,
   "metadata": {
    "collapsed": true
   },
   "outputs": [],
   "source": [
    "import pandas as pd"
   ]
  },
  {
   "cell_type": "code",
   "execution_count": 32,
   "outputs": [],
   "source": [
    "df = pd.read_csv(\"./dataset.csv\")"
   ],
   "metadata": {
    "collapsed": false,
    "pycharm": {
     "name": "#%%\n"
    }
   }
  },
  {
   "cell_type": "code",
   "execution_count": 33,
   "outputs": [
    {
     "data": {
      "text/plain": "              STATE     CONSTITUENCY                   NAME  WINNER PARTY  \\\n0         Telangana         ADILABAD         SOYAM BAPU RAO       1   BJP   \n1         Telangana         ADILABAD           Godam Nagesh       0   TRS   \n2         Telangana         ADILABAD          RATHOD RAMESH       0   INC   \n3         Telangana         ADILABAD                   NOTA       0  NOTA   \n4     Uttar Pradesh             AGRA  Satyapal Singh Baghel       1   BJP   \n...             ...              ...                    ...     ...   ...   \n2258    Maharashtra  YAVATMAL-WASHIM     Anil Jayram Rathod       0   IND   \n2259      Telangana        ZAHIRABAD              B.B.PATIL       1   TRS   \n2260      Telangana        ZAHIRABAD        MADAN MOHAN RAO       0   INC   \n2261      Telangana        ZAHIRABAD     BANALA LAXMA REDDY       0   BJP   \n2262      Telangana        ZAHIRABAD                   NOTA       0  NOTA   \n\n     SYMBOL GENDER CRIMINAL\\nCASES   AGE CATEGORY      EDUCATION  \\\n0     Lotus   MALE              52  52.0       ST      12th Pass   \n1       Car   MALE               0  54.0       ST  Post Graduate   \n2      Hand   MALE               3  52.0       ST      12th Pass   \n3       NaN    NaN             NaN   NaN      NaN            NaN   \n4     Lotus   MALE               5  58.0       SC      Doctorate   \n...     ...    ...             ...   ...      ...            ...   \n2258   SHIP   MALE               0  43.0  GENERAL  Post Graduate   \n2259    Car   MALE              18  63.0  GENERAL       Graduate   \n2260   Hand   MALE               0  49.0  GENERAL  Post Graduate   \n2261  Lotus   MALE               3  47.0  GENERAL      12th Pass   \n2262    NaN    NaN             NaN   NaN      NaN            NaN   \n\n                                ASSETS                  LIABILITIES  \\\n0            Rs 30,99,414\\n ~ 30 Lacs+      Rs 2,31,450\\n ~ 2 Lacs+   \n1          Rs 1,84,77,888\\n ~ 1 Crore+      Rs 8,47,000\\n ~ 8 Lacs+   \n2          Rs 3,64,91,000\\n ~ 3 Crore+  Rs 1,53,00,000\\n ~ 1 Crore+   \n3                                  NaN                          NaN   \n4          Rs 7,42,74,036\\n ~ 7 Crore+    Rs 86,06,522\\n ~ 86 Lacs+   \n...                                ...                          ...   \n2258         Rs 48,90,000\\n ~ 48 Lacs+    Rs 10,20,000\\n ~ 10 Lacs+   \n2259  Rs 1,28,78,51,556\\n ~ 128 Crore+  Rs 1,15,35,000\\n ~ 1 Crore+   \n2260     Rs 90,36,63,001\\n ~ 90 Crore+                     Rs 0\\n ~   \n2261       Rs 5,85,77,327\\n ~ 5 Crore+    Rs 52,50,000\\n ~ 52 Lacs+   \n2262                               NaN                          NaN   \n\n      GENERAL\\nVOTES  POSTAL\\nVOTES  TOTAL\\nVOTES  \\\n0             376892            482        377374   \n1             318665            149        318814   \n2             314057            181        314238   \n3              13030              6         13036   \n4             644459           2416        646875   \n...              ...            ...           ...   \n2258           14661             25         14686   \n2259          434066            178        434244   \n2260          427900            115        428015   \n2261          138731            216        138947   \n2262           11138              2         11140   \n\n      OVER TOTAL ELECTORS \\nIN CONSTITUENCY  \\\n0                                 25.330684   \n1                                 21.399929   \n2                                 21.092771   \n3                                  0.875023   \n4                                 33.383823   \n...                                     ...   \n2258                               0.766419   \n2259                              28.975369   \n2260                              28.559732   \n2261                               9.271379   \n2262                               0.743328   \n\n      OVER TOTAL VOTES POLLED \\nIN CONSTITUENCY  TOTAL ELECTORS  \n0                                     35.468248         1489790  \n1                                     29.964370         1489790  \n2                                     29.534285         1489790  \n3                                      1.225214         1489790  \n4                                     56.464615         1937690  \n...                                         ...             ...  \n2258                                   1.250060         1916185  \n2259                                  41.574183         1498666  \n2260                                  40.977823         1498666  \n2261                                  13.302678         1498666  \n2262                                   1.066535         1498666  \n\n[2263 rows x 19 columns]",
      "text/html": "<div>\n<style scoped>\n    .dataframe tbody tr th:only-of-type {\n        vertical-align: middle;\n    }\n\n    .dataframe tbody tr th {\n        vertical-align: top;\n    }\n\n    .dataframe thead th {\n        text-align: right;\n    }\n</style>\n<table border=\"1\" class=\"dataframe\">\n  <thead>\n    <tr style=\"text-align: right;\">\n      <th></th>\n      <th>STATE</th>\n      <th>CONSTITUENCY</th>\n      <th>NAME</th>\n      <th>WINNER</th>\n      <th>PARTY</th>\n      <th>SYMBOL</th>\n      <th>GENDER</th>\n      <th>CRIMINAL\\nCASES</th>\n      <th>AGE</th>\n      <th>CATEGORY</th>\n      <th>EDUCATION</th>\n      <th>ASSETS</th>\n      <th>LIABILITIES</th>\n      <th>GENERAL\\nVOTES</th>\n      <th>POSTAL\\nVOTES</th>\n      <th>TOTAL\\nVOTES</th>\n      <th>OVER TOTAL ELECTORS \\nIN CONSTITUENCY</th>\n      <th>OVER TOTAL VOTES POLLED \\nIN CONSTITUENCY</th>\n      <th>TOTAL ELECTORS</th>\n    </tr>\n  </thead>\n  <tbody>\n    <tr>\n      <th>0</th>\n      <td>Telangana</td>\n      <td>ADILABAD</td>\n      <td>SOYAM BAPU RAO</td>\n      <td>1</td>\n      <td>BJP</td>\n      <td>Lotus</td>\n      <td>MALE</td>\n      <td>52</td>\n      <td>52.0</td>\n      <td>ST</td>\n      <td>12th Pass</td>\n      <td>Rs 30,99,414\\n ~ 30 Lacs+</td>\n      <td>Rs 2,31,450\\n ~ 2 Lacs+</td>\n      <td>376892</td>\n      <td>482</td>\n      <td>377374</td>\n      <td>25.330684</td>\n      <td>35.468248</td>\n      <td>1489790</td>\n    </tr>\n    <tr>\n      <th>1</th>\n      <td>Telangana</td>\n      <td>ADILABAD</td>\n      <td>Godam Nagesh</td>\n      <td>0</td>\n      <td>TRS</td>\n      <td>Car</td>\n      <td>MALE</td>\n      <td>0</td>\n      <td>54.0</td>\n      <td>ST</td>\n      <td>Post Graduate</td>\n      <td>Rs 1,84,77,888\\n ~ 1 Crore+</td>\n      <td>Rs 8,47,000\\n ~ 8 Lacs+</td>\n      <td>318665</td>\n      <td>149</td>\n      <td>318814</td>\n      <td>21.399929</td>\n      <td>29.964370</td>\n      <td>1489790</td>\n    </tr>\n    <tr>\n      <th>2</th>\n      <td>Telangana</td>\n      <td>ADILABAD</td>\n      <td>RATHOD RAMESH</td>\n      <td>0</td>\n      <td>INC</td>\n      <td>Hand</td>\n      <td>MALE</td>\n      <td>3</td>\n      <td>52.0</td>\n      <td>ST</td>\n      <td>12th Pass</td>\n      <td>Rs 3,64,91,000\\n ~ 3 Crore+</td>\n      <td>Rs 1,53,00,000\\n ~ 1 Crore+</td>\n      <td>314057</td>\n      <td>181</td>\n      <td>314238</td>\n      <td>21.092771</td>\n      <td>29.534285</td>\n      <td>1489790</td>\n    </tr>\n    <tr>\n      <th>3</th>\n      <td>Telangana</td>\n      <td>ADILABAD</td>\n      <td>NOTA</td>\n      <td>0</td>\n      <td>NOTA</td>\n      <td>NaN</td>\n      <td>NaN</td>\n      <td>NaN</td>\n      <td>NaN</td>\n      <td>NaN</td>\n      <td>NaN</td>\n      <td>NaN</td>\n      <td>NaN</td>\n      <td>13030</td>\n      <td>6</td>\n      <td>13036</td>\n      <td>0.875023</td>\n      <td>1.225214</td>\n      <td>1489790</td>\n    </tr>\n    <tr>\n      <th>4</th>\n      <td>Uttar Pradesh</td>\n      <td>AGRA</td>\n      <td>Satyapal Singh Baghel</td>\n      <td>1</td>\n      <td>BJP</td>\n      <td>Lotus</td>\n      <td>MALE</td>\n      <td>5</td>\n      <td>58.0</td>\n      <td>SC</td>\n      <td>Doctorate</td>\n      <td>Rs 7,42,74,036\\n ~ 7 Crore+</td>\n      <td>Rs 86,06,522\\n ~ 86 Lacs+</td>\n      <td>644459</td>\n      <td>2416</td>\n      <td>646875</td>\n      <td>33.383823</td>\n      <td>56.464615</td>\n      <td>1937690</td>\n    </tr>\n    <tr>\n      <th>...</th>\n      <td>...</td>\n      <td>...</td>\n      <td>...</td>\n      <td>...</td>\n      <td>...</td>\n      <td>...</td>\n      <td>...</td>\n      <td>...</td>\n      <td>...</td>\n      <td>...</td>\n      <td>...</td>\n      <td>...</td>\n      <td>...</td>\n      <td>...</td>\n      <td>...</td>\n      <td>...</td>\n      <td>...</td>\n      <td>...</td>\n      <td>...</td>\n    </tr>\n    <tr>\n      <th>2258</th>\n      <td>Maharashtra</td>\n      <td>YAVATMAL-WASHIM</td>\n      <td>Anil Jayram Rathod</td>\n      <td>0</td>\n      <td>IND</td>\n      <td>SHIP</td>\n      <td>MALE</td>\n      <td>0</td>\n      <td>43.0</td>\n      <td>GENERAL</td>\n      <td>Post Graduate</td>\n      <td>Rs 48,90,000\\n ~ 48 Lacs+</td>\n      <td>Rs 10,20,000\\n ~ 10 Lacs+</td>\n      <td>14661</td>\n      <td>25</td>\n      <td>14686</td>\n      <td>0.766419</td>\n      <td>1.250060</td>\n      <td>1916185</td>\n    </tr>\n    <tr>\n      <th>2259</th>\n      <td>Telangana</td>\n      <td>ZAHIRABAD</td>\n      <td>B.B.PATIL</td>\n      <td>1</td>\n      <td>TRS</td>\n      <td>Car</td>\n      <td>MALE</td>\n      <td>18</td>\n      <td>63.0</td>\n      <td>GENERAL</td>\n      <td>Graduate</td>\n      <td>Rs 1,28,78,51,556\\n ~ 128 Crore+</td>\n      <td>Rs 1,15,35,000\\n ~ 1 Crore+</td>\n      <td>434066</td>\n      <td>178</td>\n      <td>434244</td>\n      <td>28.975369</td>\n      <td>41.574183</td>\n      <td>1498666</td>\n    </tr>\n    <tr>\n      <th>2260</th>\n      <td>Telangana</td>\n      <td>ZAHIRABAD</td>\n      <td>MADAN MOHAN RAO</td>\n      <td>0</td>\n      <td>INC</td>\n      <td>Hand</td>\n      <td>MALE</td>\n      <td>0</td>\n      <td>49.0</td>\n      <td>GENERAL</td>\n      <td>Post Graduate</td>\n      <td>Rs 90,36,63,001\\n ~ 90 Crore+</td>\n      <td>Rs 0\\n ~</td>\n      <td>427900</td>\n      <td>115</td>\n      <td>428015</td>\n      <td>28.559732</td>\n      <td>40.977823</td>\n      <td>1498666</td>\n    </tr>\n    <tr>\n      <th>2261</th>\n      <td>Telangana</td>\n      <td>ZAHIRABAD</td>\n      <td>BANALA LAXMA REDDY</td>\n      <td>0</td>\n      <td>BJP</td>\n      <td>Lotus</td>\n      <td>MALE</td>\n      <td>3</td>\n      <td>47.0</td>\n      <td>GENERAL</td>\n      <td>12th Pass</td>\n      <td>Rs 5,85,77,327\\n ~ 5 Crore+</td>\n      <td>Rs 52,50,000\\n ~ 52 Lacs+</td>\n      <td>138731</td>\n      <td>216</td>\n      <td>138947</td>\n      <td>9.271379</td>\n      <td>13.302678</td>\n      <td>1498666</td>\n    </tr>\n    <tr>\n      <th>2262</th>\n      <td>Telangana</td>\n      <td>ZAHIRABAD</td>\n      <td>NOTA</td>\n      <td>0</td>\n      <td>NOTA</td>\n      <td>NaN</td>\n      <td>NaN</td>\n      <td>NaN</td>\n      <td>NaN</td>\n      <td>NaN</td>\n      <td>NaN</td>\n      <td>NaN</td>\n      <td>NaN</td>\n      <td>11138</td>\n      <td>2</td>\n      <td>11140</td>\n      <td>0.743328</td>\n      <td>1.066535</td>\n      <td>1498666</td>\n    </tr>\n  </tbody>\n</table>\n<p>2263 rows × 19 columns</p>\n</div>"
     },
     "execution_count": 33,
     "metadata": {},
     "output_type": "execute_result"
    }
   ],
   "source": [
    "df"
   ],
   "metadata": {
    "collapsed": false,
    "pycharm": {
     "name": "#%%\n"
    }
   }
  },
  {
   "cell_type": "code",
   "execution_count": 34,
   "outputs": [
    {
     "name": "stdout",
     "output_type": "stream",
     "text": [
      "<class 'pandas.core.frame.DataFrame'>\n",
      "RangeIndex: 2263 entries, 0 to 2262\n",
      "Data columns (total 19 columns):\n",
      " #   Column                                    Non-Null Count  Dtype  \n",
      "---  ------                                    --------------  -----  \n",
      " 0   STATE                                     2263 non-null   object \n",
      " 1   CONSTITUENCY                              2263 non-null   object \n",
      " 2   NAME                                      2263 non-null   object \n",
      " 3   WINNER                                    2263 non-null   int64  \n",
      " 4   PARTY                                     2263 non-null   object \n",
      " 5   SYMBOL                                    2018 non-null   object \n",
      " 6   GENDER                                    2018 non-null   object \n",
      " 7   CRIMINAL\n",
      "CASES                            2018 non-null   object \n",
      " 8   AGE                                       2018 non-null   float64\n",
      " 9   CATEGORY                                  2018 non-null   object \n",
      " 10  EDUCATION                                 2018 non-null   object \n",
      " 11  ASSETS                                    2018 non-null   object \n",
      " 12  LIABILITIES                               2018 non-null   object \n",
      " 13  GENERAL\n",
      "VOTES                             2263 non-null   int64  \n",
      " 14  POSTAL\n",
      "VOTES                              2263 non-null   int64  \n",
      " 15  TOTAL\n",
      "VOTES                               2263 non-null   int64  \n",
      " 16  OVER TOTAL ELECTORS \n",
      "IN CONSTITUENCY      2263 non-null   float64\n",
      " 17  OVER TOTAL VOTES POLLED \n",
      "IN CONSTITUENCY  2263 non-null   float64\n",
      " 18  TOTAL ELECTORS                            2263 non-null   int64  \n",
      "dtypes: float64(3), int64(5), object(11)\n",
      "memory usage: 336.0+ KB\n"
     ]
    }
   ],
   "source": [
    "df.info()"
   ],
   "metadata": {
    "collapsed": false,
    "pycharm": {
     "name": "#%%\n"
    }
   }
  },
  {
   "cell_type": "code",
   "execution_count": 35,
   "outputs": [
    {
     "data": {
      "text/plain": "            WINNER          AGE  GENERAL\\nVOTES  POSTAL\\nVOTES  TOTAL\\nVOTES  \\\ncount  2263.000000  2018.000000    2.263000e+03    2263.000000  2.263000e+03   \nmean      0.238179    52.273538    2.615991e+05     990.710561  2.625898e+05   \nstd       0.426064    11.869373    2.549906e+05    1602.839174  2.559822e+05   \nmin       0.000000    25.000000    1.339000e+03       0.000000  1.342000e+03   \n25%       0.000000    43.250000    2.103450e+04      57.000000  2.116250e+04   \n50%       0.000000    52.000000    1.539340e+05     316.000000  1.544890e+05   \n75%       0.000000    61.000000    4.858040e+05    1385.000000  4.872315e+05   \nmax       1.000000    86.000000    1.066824e+06   19367.000000  1.068569e+06   \n\n       OVER TOTAL ELECTORS \\nIN CONSTITUENCY  \\\ncount                            2263.000000   \nmean                               15.811412   \nstd                                14.962861   \nmin                                 0.097941   \n25%                                 1.296518   \n50%                                10.510553   \n75%                                29.468185   \nmax                                51.951012   \n\n       OVER TOTAL VOTES POLLED \\nIN CONSTITUENCY  TOTAL ELECTORS  \ncount                                2263.000000    2.263000e+03  \nmean                                   23.190525    1.658016e+06  \nstd                                    21.564758    3.145187e+05  \nmin                                     1.000039    5.518900e+04  \n25%                                     1.899502    1.530014e+06  \n50%                                    16.221721    1.679030e+06  \n75%                                    42.590233    1.816857e+06  \nmax                                    74.411856    3.150313e+06  ",
      "text/html": "<div>\n<style scoped>\n    .dataframe tbody tr th:only-of-type {\n        vertical-align: middle;\n    }\n\n    .dataframe tbody tr th {\n        vertical-align: top;\n    }\n\n    .dataframe thead th {\n        text-align: right;\n    }\n</style>\n<table border=\"1\" class=\"dataframe\">\n  <thead>\n    <tr style=\"text-align: right;\">\n      <th></th>\n      <th>WINNER</th>\n      <th>AGE</th>\n      <th>GENERAL\\nVOTES</th>\n      <th>POSTAL\\nVOTES</th>\n      <th>TOTAL\\nVOTES</th>\n      <th>OVER TOTAL ELECTORS \\nIN CONSTITUENCY</th>\n      <th>OVER TOTAL VOTES POLLED \\nIN CONSTITUENCY</th>\n      <th>TOTAL ELECTORS</th>\n    </tr>\n  </thead>\n  <tbody>\n    <tr>\n      <th>count</th>\n      <td>2263.000000</td>\n      <td>2018.000000</td>\n      <td>2.263000e+03</td>\n      <td>2263.000000</td>\n      <td>2.263000e+03</td>\n      <td>2263.000000</td>\n      <td>2263.000000</td>\n      <td>2.263000e+03</td>\n    </tr>\n    <tr>\n      <th>mean</th>\n      <td>0.238179</td>\n      <td>52.273538</td>\n      <td>2.615991e+05</td>\n      <td>990.710561</td>\n      <td>2.625898e+05</td>\n      <td>15.811412</td>\n      <td>23.190525</td>\n      <td>1.658016e+06</td>\n    </tr>\n    <tr>\n      <th>std</th>\n      <td>0.426064</td>\n      <td>11.869373</td>\n      <td>2.549906e+05</td>\n      <td>1602.839174</td>\n      <td>2.559822e+05</td>\n      <td>14.962861</td>\n      <td>21.564758</td>\n      <td>3.145187e+05</td>\n    </tr>\n    <tr>\n      <th>min</th>\n      <td>0.000000</td>\n      <td>25.000000</td>\n      <td>1.339000e+03</td>\n      <td>0.000000</td>\n      <td>1.342000e+03</td>\n      <td>0.097941</td>\n      <td>1.000039</td>\n      <td>5.518900e+04</td>\n    </tr>\n    <tr>\n      <th>25%</th>\n      <td>0.000000</td>\n      <td>43.250000</td>\n      <td>2.103450e+04</td>\n      <td>57.000000</td>\n      <td>2.116250e+04</td>\n      <td>1.296518</td>\n      <td>1.899502</td>\n      <td>1.530014e+06</td>\n    </tr>\n    <tr>\n      <th>50%</th>\n      <td>0.000000</td>\n      <td>52.000000</td>\n      <td>1.539340e+05</td>\n      <td>316.000000</td>\n      <td>1.544890e+05</td>\n      <td>10.510553</td>\n      <td>16.221721</td>\n      <td>1.679030e+06</td>\n    </tr>\n    <tr>\n      <th>75%</th>\n      <td>0.000000</td>\n      <td>61.000000</td>\n      <td>4.858040e+05</td>\n      <td>1385.000000</td>\n      <td>4.872315e+05</td>\n      <td>29.468185</td>\n      <td>42.590233</td>\n      <td>1.816857e+06</td>\n    </tr>\n    <tr>\n      <th>max</th>\n      <td>1.000000</td>\n      <td>86.000000</td>\n      <td>1.066824e+06</td>\n      <td>19367.000000</td>\n      <td>1.068569e+06</td>\n      <td>51.951012</td>\n      <td>74.411856</td>\n      <td>3.150313e+06</td>\n    </tr>\n  </tbody>\n</table>\n</div>"
     },
     "execution_count": 35,
     "metadata": {},
     "output_type": "execute_result"
    }
   ],
   "source": [
    "df.describe()"
   ],
   "metadata": {
    "collapsed": false,
    "pycharm": {
     "name": "#%%\n"
    }
   }
  },
  {
   "cell_type": "code",
   "execution_count": 36,
   "outputs": [
    {
     "data": {
      "text/plain": "STATE                                          36\nCONSTITUENCY                                  539\nNAME                                         2014\nWINNER                                          2\nPARTY                                         133\nSYMBOL                                        126\nGENDER                                          2\nCRIMINAL\\nCASES                                29\nAGE                                            60\nCATEGORY                                        3\nEDUCATION                                      13\nASSETS                                       1979\nLIABILITIES                                  1226\nGENERAL\\nVOTES                               2244\nPOSTAL\\nVOTES                                1217\nTOTAL\\nVOTES                                 2247\nOVER TOTAL ELECTORS \\nIN CONSTITUENCY        2263\nOVER TOTAL VOTES POLLED \\nIN CONSTITUENCY    2263\nTOTAL ELECTORS                                542\ndtype: int64"
     },
     "execution_count": 36,
     "metadata": {},
     "output_type": "execute_result"
    }
   ],
   "source": [
    "df.nunique()"
   ],
   "metadata": {
    "collapsed": false,
    "pycharm": {
     "name": "#%%\n"
    }
   }
  },
  {
   "cell_type": "markdown",
   "source": [
    "# Retirando colunas que não sao necessarias:\n",
    "- Name\n",
    "- criminal\n",
    "- asses\n",
    "- liabilities\n",
    "- over total electrons\n",
    "- overt total votes"
   ],
   "metadata": {
    "collapsed": false
   }
  },
  {
   "cell_type": "code",
   "execution_count": 37,
   "outputs": [
    {
     "data": {
      "text/plain": "              STATE     CONSTITUENCY                   NAME  WINNER PARTY  \\\n0         Telangana         ADILABAD         SOYAM BAPU RAO       1   BJP   \n1         Telangana         ADILABAD           Godam Nagesh       0   TRS   \n2         Telangana         ADILABAD          RATHOD RAMESH       0   INC   \n3         Telangana         ADILABAD                   NOTA       0  NOTA   \n4     Uttar Pradesh             AGRA  Satyapal Singh Baghel       1   BJP   \n...             ...              ...                    ...     ...   ...   \n2258    Maharashtra  YAVATMAL-WASHIM     Anil Jayram Rathod       0   IND   \n2259      Telangana        ZAHIRABAD              B.B.PATIL       1   TRS   \n2260      Telangana        ZAHIRABAD        MADAN MOHAN RAO       0   INC   \n2261      Telangana        ZAHIRABAD     BANALA LAXMA REDDY       0   BJP   \n2262      Telangana        ZAHIRABAD                   NOTA       0  NOTA   \n\n     SYMBOL GENDER CRIMINAL\\nCASES   AGE CATEGORY      EDUCATION  \\\n0     Lotus   MALE              52  52.0       ST      12th Pass   \n1       Car   MALE               0  54.0       ST  Post Graduate   \n2      Hand   MALE               3  52.0       ST      12th Pass   \n3       NaN    NaN             NaN   NaN      NaN            NaN   \n4     Lotus   MALE               5  58.0       SC      Doctorate   \n...     ...    ...             ...   ...      ...            ...   \n2258   SHIP   MALE               0  43.0  GENERAL  Post Graduate   \n2259    Car   MALE              18  63.0  GENERAL       Graduate   \n2260   Hand   MALE               0  49.0  GENERAL  Post Graduate   \n2261  Lotus   MALE               3  47.0  GENERAL      12th Pass   \n2262    NaN    NaN             NaN   NaN      NaN            NaN   \n\n                                ASSETS                  LIABILITIES  \\\n0            Rs 30,99,414\\n ~ 30 Lacs+      Rs 2,31,450\\n ~ 2 Lacs+   \n1          Rs 1,84,77,888\\n ~ 1 Crore+      Rs 8,47,000\\n ~ 8 Lacs+   \n2          Rs 3,64,91,000\\n ~ 3 Crore+  Rs 1,53,00,000\\n ~ 1 Crore+   \n3                                  NaN                          NaN   \n4          Rs 7,42,74,036\\n ~ 7 Crore+    Rs 86,06,522\\n ~ 86 Lacs+   \n...                                ...                          ...   \n2258         Rs 48,90,000\\n ~ 48 Lacs+    Rs 10,20,000\\n ~ 10 Lacs+   \n2259  Rs 1,28,78,51,556\\n ~ 128 Crore+  Rs 1,15,35,000\\n ~ 1 Crore+   \n2260     Rs 90,36,63,001\\n ~ 90 Crore+                     Rs 0\\n ~   \n2261       Rs 5,85,77,327\\n ~ 5 Crore+    Rs 52,50,000\\n ~ 52 Lacs+   \n2262                               NaN                          NaN   \n\n      GENERAL\\nVOTES  POSTAL\\nVOTES  TOTAL\\nVOTES  \\\n0             376892            482        377374   \n1             318665            149        318814   \n2             314057            181        314238   \n3              13030              6         13036   \n4             644459           2416        646875   \n...              ...            ...           ...   \n2258           14661             25         14686   \n2259          434066            178        434244   \n2260          427900            115        428015   \n2261          138731            216        138947   \n2262           11138              2         11140   \n\n      OVER TOTAL ELECTORS \\nIN CONSTITUENCY  \\\n0                                 25.330684   \n1                                 21.399929   \n2                                 21.092771   \n3                                  0.875023   \n4                                 33.383823   \n...                                     ...   \n2258                               0.766419   \n2259                              28.975369   \n2260                              28.559732   \n2261                               9.271379   \n2262                               0.743328   \n\n      OVER TOTAL VOTES POLLED \\nIN CONSTITUENCY  TOTAL ELECTORS  \n0                                     35.468248         1489790  \n1                                     29.964370         1489790  \n2                                     29.534285         1489790  \n3                                      1.225214         1489790  \n4                                     56.464615         1937690  \n...                                         ...             ...  \n2258                                   1.250060         1916185  \n2259                                  41.574183         1498666  \n2260                                  40.977823         1498666  \n2261                                  13.302678         1498666  \n2262                                   1.066535         1498666  \n\n[2263 rows x 19 columns]",
      "text/html": "<div>\n<style scoped>\n    .dataframe tbody tr th:only-of-type {\n        vertical-align: middle;\n    }\n\n    .dataframe tbody tr th {\n        vertical-align: top;\n    }\n\n    .dataframe thead th {\n        text-align: right;\n    }\n</style>\n<table border=\"1\" class=\"dataframe\">\n  <thead>\n    <tr style=\"text-align: right;\">\n      <th></th>\n      <th>STATE</th>\n      <th>CONSTITUENCY</th>\n      <th>NAME</th>\n      <th>WINNER</th>\n      <th>PARTY</th>\n      <th>SYMBOL</th>\n      <th>GENDER</th>\n      <th>CRIMINAL\\nCASES</th>\n      <th>AGE</th>\n      <th>CATEGORY</th>\n      <th>EDUCATION</th>\n      <th>ASSETS</th>\n      <th>LIABILITIES</th>\n      <th>GENERAL\\nVOTES</th>\n      <th>POSTAL\\nVOTES</th>\n      <th>TOTAL\\nVOTES</th>\n      <th>OVER TOTAL ELECTORS \\nIN CONSTITUENCY</th>\n      <th>OVER TOTAL VOTES POLLED \\nIN CONSTITUENCY</th>\n      <th>TOTAL ELECTORS</th>\n    </tr>\n  </thead>\n  <tbody>\n    <tr>\n      <th>0</th>\n      <td>Telangana</td>\n      <td>ADILABAD</td>\n      <td>SOYAM BAPU RAO</td>\n      <td>1</td>\n      <td>BJP</td>\n      <td>Lotus</td>\n      <td>MALE</td>\n      <td>52</td>\n      <td>52.0</td>\n      <td>ST</td>\n      <td>12th Pass</td>\n      <td>Rs 30,99,414\\n ~ 30 Lacs+</td>\n      <td>Rs 2,31,450\\n ~ 2 Lacs+</td>\n      <td>376892</td>\n      <td>482</td>\n      <td>377374</td>\n      <td>25.330684</td>\n      <td>35.468248</td>\n      <td>1489790</td>\n    </tr>\n    <tr>\n      <th>1</th>\n      <td>Telangana</td>\n      <td>ADILABAD</td>\n      <td>Godam Nagesh</td>\n      <td>0</td>\n      <td>TRS</td>\n      <td>Car</td>\n      <td>MALE</td>\n      <td>0</td>\n      <td>54.0</td>\n      <td>ST</td>\n      <td>Post Graduate</td>\n      <td>Rs 1,84,77,888\\n ~ 1 Crore+</td>\n      <td>Rs 8,47,000\\n ~ 8 Lacs+</td>\n      <td>318665</td>\n      <td>149</td>\n      <td>318814</td>\n      <td>21.399929</td>\n      <td>29.964370</td>\n      <td>1489790</td>\n    </tr>\n    <tr>\n      <th>2</th>\n      <td>Telangana</td>\n      <td>ADILABAD</td>\n      <td>RATHOD RAMESH</td>\n      <td>0</td>\n      <td>INC</td>\n      <td>Hand</td>\n      <td>MALE</td>\n      <td>3</td>\n      <td>52.0</td>\n      <td>ST</td>\n      <td>12th Pass</td>\n      <td>Rs 3,64,91,000\\n ~ 3 Crore+</td>\n      <td>Rs 1,53,00,000\\n ~ 1 Crore+</td>\n      <td>314057</td>\n      <td>181</td>\n      <td>314238</td>\n      <td>21.092771</td>\n      <td>29.534285</td>\n      <td>1489790</td>\n    </tr>\n    <tr>\n      <th>3</th>\n      <td>Telangana</td>\n      <td>ADILABAD</td>\n      <td>NOTA</td>\n      <td>0</td>\n      <td>NOTA</td>\n      <td>NaN</td>\n      <td>NaN</td>\n      <td>NaN</td>\n      <td>NaN</td>\n      <td>NaN</td>\n      <td>NaN</td>\n      <td>NaN</td>\n      <td>NaN</td>\n      <td>13030</td>\n      <td>6</td>\n      <td>13036</td>\n      <td>0.875023</td>\n      <td>1.225214</td>\n      <td>1489790</td>\n    </tr>\n    <tr>\n      <th>4</th>\n      <td>Uttar Pradesh</td>\n      <td>AGRA</td>\n      <td>Satyapal Singh Baghel</td>\n      <td>1</td>\n      <td>BJP</td>\n      <td>Lotus</td>\n      <td>MALE</td>\n      <td>5</td>\n      <td>58.0</td>\n      <td>SC</td>\n      <td>Doctorate</td>\n      <td>Rs 7,42,74,036\\n ~ 7 Crore+</td>\n      <td>Rs 86,06,522\\n ~ 86 Lacs+</td>\n      <td>644459</td>\n      <td>2416</td>\n      <td>646875</td>\n      <td>33.383823</td>\n      <td>56.464615</td>\n      <td>1937690</td>\n    </tr>\n    <tr>\n      <th>...</th>\n      <td>...</td>\n      <td>...</td>\n      <td>...</td>\n      <td>...</td>\n      <td>...</td>\n      <td>...</td>\n      <td>...</td>\n      <td>...</td>\n      <td>...</td>\n      <td>...</td>\n      <td>...</td>\n      <td>...</td>\n      <td>...</td>\n      <td>...</td>\n      <td>...</td>\n      <td>...</td>\n      <td>...</td>\n      <td>...</td>\n      <td>...</td>\n    </tr>\n    <tr>\n      <th>2258</th>\n      <td>Maharashtra</td>\n      <td>YAVATMAL-WASHIM</td>\n      <td>Anil Jayram Rathod</td>\n      <td>0</td>\n      <td>IND</td>\n      <td>SHIP</td>\n      <td>MALE</td>\n      <td>0</td>\n      <td>43.0</td>\n      <td>GENERAL</td>\n      <td>Post Graduate</td>\n      <td>Rs 48,90,000\\n ~ 48 Lacs+</td>\n      <td>Rs 10,20,000\\n ~ 10 Lacs+</td>\n      <td>14661</td>\n      <td>25</td>\n      <td>14686</td>\n      <td>0.766419</td>\n      <td>1.250060</td>\n      <td>1916185</td>\n    </tr>\n    <tr>\n      <th>2259</th>\n      <td>Telangana</td>\n      <td>ZAHIRABAD</td>\n      <td>B.B.PATIL</td>\n      <td>1</td>\n      <td>TRS</td>\n      <td>Car</td>\n      <td>MALE</td>\n      <td>18</td>\n      <td>63.0</td>\n      <td>GENERAL</td>\n      <td>Graduate</td>\n      <td>Rs 1,28,78,51,556\\n ~ 128 Crore+</td>\n      <td>Rs 1,15,35,000\\n ~ 1 Crore+</td>\n      <td>434066</td>\n      <td>178</td>\n      <td>434244</td>\n      <td>28.975369</td>\n      <td>41.574183</td>\n      <td>1498666</td>\n    </tr>\n    <tr>\n      <th>2260</th>\n      <td>Telangana</td>\n      <td>ZAHIRABAD</td>\n      <td>MADAN MOHAN RAO</td>\n      <td>0</td>\n      <td>INC</td>\n      <td>Hand</td>\n      <td>MALE</td>\n      <td>0</td>\n      <td>49.0</td>\n      <td>GENERAL</td>\n      <td>Post Graduate</td>\n      <td>Rs 90,36,63,001\\n ~ 90 Crore+</td>\n      <td>Rs 0\\n ~</td>\n      <td>427900</td>\n      <td>115</td>\n      <td>428015</td>\n      <td>28.559732</td>\n      <td>40.977823</td>\n      <td>1498666</td>\n    </tr>\n    <tr>\n      <th>2261</th>\n      <td>Telangana</td>\n      <td>ZAHIRABAD</td>\n      <td>BANALA LAXMA REDDY</td>\n      <td>0</td>\n      <td>BJP</td>\n      <td>Lotus</td>\n      <td>MALE</td>\n      <td>3</td>\n      <td>47.0</td>\n      <td>GENERAL</td>\n      <td>12th Pass</td>\n      <td>Rs 5,85,77,327\\n ~ 5 Crore+</td>\n      <td>Rs 52,50,000\\n ~ 52 Lacs+</td>\n      <td>138731</td>\n      <td>216</td>\n      <td>138947</td>\n      <td>9.271379</td>\n      <td>13.302678</td>\n      <td>1498666</td>\n    </tr>\n    <tr>\n      <th>2262</th>\n      <td>Telangana</td>\n      <td>ZAHIRABAD</td>\n      <td>NOTA</td>\n      <td>0</td>\n      <td>NOTA</td>\n      <td>NaN</td>\n      <td>NaN</td>\n      <td>NaN</td>\n      <td>NaN</td>\n      <td>NaN</td>\n      <td>NaN</td>\n      <td>NaN</td>\n      <td>NaN</td>\n      <td>11138</td>\n      <td>2</td>\n      <td>11140</td>\n      <td>0.743328</td>\n      <td>1.066535</td>\n      <td>1498666</td>\n    </tr>\n  </tbody>\n</table>\n<p>2263 rows × 19 columns</p>\n</div>"
     },
     "execution_count": 37,
     "metadata": {},
     "output_type": "execute_result"
    }
   ],
   "source": [
    "df"
   ],
   "metadata": {
    "collapsed": false,
    "pycharm": {
     "name": "#%%\n"
    }
   }
  },
  {
   "cell_type": "code",
   "execution_count": 38,
   "outputs": [],
   "source": [
    "df.drop(columns=[\"STATE\",\"SYMBOL\",\"NAME\",\"CRIMINAL\\nCASES\",\"ASSETS\",\"LIABILITIES\",\"OVER TOTAL ELECTORS \\nIN CONSTITUENCY\",\"OVER TOTAL VOTES POLLED \\nIN CONSTITUENCY\"],inplace=True)"
   ],
   "metadata": {
    "collapsed": false,
    "pycharm": {
     "name": "#%%\n"
    }
   }
  },
  {
   "cell_type": "code",
   "execution_count": 39,
   "outputs": [
    {
     "data": {
      "text/plain": "         CONSTITUENCY  WINNER PARTY GENDER   AGE CATEGORY      EDUCATION  \\\n0            ADILABAD       1   BJP   MALE  52.0       ST      12th Pass   \n1            ADILABAD       0   TRS   MALE  54.0       ST  Post Graduate   \n2            ADILABAD       0   INC   MALE  52.0       ST      12th Pass   \n3            ADILABAD       0  NOTA    NaN   NaN      NaN            NaN   \n4                AGRA       1   BJP   MALE  58.0       SC      Doctorate   \n...               ...     ...   ...    ...   ...      ...            ...   \n2258  YAVATMAL-WASHIM       0   IND   MALE  43.0  GENERAL  Post Graduate   \n2259        ZAHIRABAD       1   TRS   MALE  63.0  GENERAL       Graduate   \n2260        ZAHIRABAD       0   INC   MALE  49.0  GENERAL  Post Graduate   \n2261        ZAHIRABAD       0   BJP   MALE  47.0  GENERAL      12th Pass   \n2262        ZAHIRABAD       0  NOTA    NaN   NaN      NaN            NaN   \n\n      GENERAL\\nVOTES  POSTAL\\nVOTES  TOTAL\\nVOTES  TOTAL ELECTORS  \n0             376892            482        377374         1489790  \n1             318665            149        318814         1489790  \n2             314057            181        314238         1489790  \n3              13030              6         13036         1489790  \n4             644459           2416        646875         1937690  \n...              ...            ...           ...             ...  \n2258           14661             25         14686         1916185  \n2259          434066            178        434244         1498666  \n2260          427900            115        428015         1498666  \n2261          138731            216        138947         1498666  \n2262           11138              2         11140         1498666  \n\n[2263 rows x 11 columns]",
      "text/html": "<div>\n<style scoped>\n    .dataframe tbody tr th:only-of-type {\n        vertical-align: middle;\n    }\n\n    .dataframe tbody tr th {\n        vertical-align: top;\n    }\n\n    .dataframe thead th {\n        text-align: right;\n    }\n</style>\n<table border=\"1\" class=\"dataframe\">\n  <thead>\n    <tr style=\"text-align: right;\">\n      <th></th>\n      <th>CONSTITUENCY</th>\n      <th>WINNER</th>\n      <th>PARTY</th>\n      <th>GENDER</th>\n      <th>AGE</th>\n      <th>CATEGORY</th>\n      <th>EDUCATION</th>\n      <th>GENERAL\\nVOTES</th>\n      <th>POSTAL\\nVOTES</th>\n      <th>TOTAL\\nVOTES</th>\n      <th>TOTAL ELECTORS</th>\n    </tr>\n  </thead>\n  <tbody>\n    <tr>\n      <th>0</th>\n      <td>ADILABAD</td>\n      <td>1</td>\n      <td>BJP</td>\n      <td>MALE</td>\n      <td>52.0</td>\n      <td>ST</td>\n      <td>12th Pass</td>\n      <td>376892</td>\n      <td>482</td>\n      <td>377374</td>\n      <td>1489790</td>\n    </tr>\n    <tr>\n      <th>1</th>\n      <td>ADILABAD</td>\n      <td>0</td>\n      <td>TRS</td>\n      <td>MALE</td>\n      <td>54.0</td>\n      <td>ST</td>\n      <td>Post Graduate</td>\n      <td>318665</td>\n      <td>149</td>\n      <td>318814</td>\n      <td>1489790</td>\n    </tr>\n    <tr>\n      <th>2</th>\n      <td>ADILABAD</td>\n      <td>0</td>\n      <td>INC</td>\n      <td>MALE</td>\n      <td>52.0</td>\n      <td>ST</td>\n      <td>12th Pass</td>\n      <td>314057</td>\n      <td>181</td>\n      <td>314238</td>\n      <td>1489790</td>\n    </tr>\n    <tr>\n      <th>3</th>\n      <td>ADILABAD</td>\n      <td>0</td>\n      <td>NOTA</td>\n      <td>NaN</td>\n      <td>NaN</td>\n      <td>NaN</td>\n      <td>NaN</td>\n      <td>13030</td>\n      <td>6</td>\n      <td>13036</td>\n      <td>1489790</td>\n    </tr>\n    <tr>\n      <th>4</th>\n      <td>AGRA</td>\n      <td>1</td>\n      <td>BJP</td>\n      <td>MALE</td>\n      <td>58.0</td>\n      <td>SC</td>\n      <td>Doctorate</td>\n      <td>644459</td>\n      <td>2416</td>\n      <td>646875</td>\n      <td>1937690</td>\n    </tr>\n    <tr>\n      <th>...</th>\n      <td>...</td>\n      <td>...</td>\n      <td>...</td>\n      <td>...</td>\n      <td>...</td>\n      <td>...</td>\n      <td>...</td>\n      <td>...</td>\n      <td>...</td>\n      <td>...</td>\n      <td>...</td>\n    </tr>\n    <tr>\n      <th>2258</th>\n      <td>YAVATMAL-WASHIM</td>\n      <td>0</td>\n      <td>IND</td>\n      <td>MALE</td>\n      <td>43.0</td>\n      <td>GENERAL</td>\n      <td>Post Graduate</td>\n      <td>14661</td>\n      <td>25</td>\n      <td>14686</td>\n      <td>1916185</td>\n    </tr>\n    <tr>\n      <th>2259</th>\n      <td>ZAHIRABAD</td>\n      <td>1</td>\n      <td>TRS</td>\n      <td>MALE</td>\n      <td>63.0</td>\n      <td>GENERAL</td>\n      <td>Graduate</td>\n      <td>434066</td>\n      <td>178</td>\n      <td>434244</td>\n      <td>1498666</td>\n    </tr>\n    <tr>\n      <th>2260</th>\n      <td>ZAHIRABAD</td>\n      <td>0</td>\n      <td>INC</td>\n      <td>MALE</td>\n      <td>49.0</td>\n      <td>GENERAL</td>\n      <td>Post Graduate</td>\n      <td>427900</td>\n      <td>115</td>\n      <td>428015</td>\n      <td>1498666</td>\n    </tr>\n    <tr>\n      <th>2261</th>\n      <td>ZAHIRABAD</td>\n      <td>0</td>\n      <td>BJP</td>\n      <td>MALE</td>\n      <td>47.0</td>\n      <td>GENERAL</td>\n      <td>12th Pass</td>\n      <td>138731</td>\n      <td>216</td>\n      <td>138947</td>\n      <td>1498666</td>\n    </tr>\n    <tr>\n      <th>2262</th>\n      <td>ZAHIRABAD</td>\n      <td>0</td>\n      <td>NOTA</td>\n      <td>NaN</td>\n      <td>NaN</td>\n      <td>NaN</td>\n      <td>NaN</td>\n      <td>11138</td>\n      <td>2</td>\n      <td>11140</td>\n      <td>1498666</td>\n    </tr>\n  </tbody>\n</table>\n<p>2263 rows × 11 columns</p>\n</div>"
     },
     "execution_count": 39,
     "metadata": {},
     "output_type": "execute_result"
    }
   ],
   "source": [
    "df"
   ],
   "metadata": {
    "collapsed": false,
    "pycharm": {
     "name": "#%%\n"
    }
   }
  },
  {
   "cell_type": "code",
   "execution_count": 40,
   "outputs": [],
   "source": [
    "df.dropna(inplace=True)"
   ],
   "metadata": {
    "collapsed": false,
    "pycharm": {
     "name": "#%%\n"
    }
   }
  },
  {
   "cell_type": "code",
   "execution_count": 41,
   "outputs": [
    {
     "data": {
      "text/plain": "         CONSTITUENCY  WINNER  PARTY  GENDER   AGE CATEGORY      EDUCATION  \\\n0            ADILABAD       1    BJP    MALE  52.0       ST      12th Pass   \n1            ADILABAD       0    TRS    MALE  54.0       ST  Post Graduate   \n2            ADILABAD       0    INC    MALE  52.0       ST      12th Pass   \n4                AGRA       1    BJP    MALE  58.0       SC      Doctorate   \n5                AGRA       0    BSP    MALE  47.0       SC  Post Graduate   \n...               ...     ...    ...     ...   ...      ...            ...   \n2257  YAVATMAL-WASHIM       0  PHJSP  FEMALE  28.0  GENERAL      10th Pass   \n2258  YAVATMAL-WASHIM       0    IND    MALE  43.0  GENERAL  Post Graduate   \n2259        ZAHIRABAD       1    TRS    MALE  63.0  GENERAL       Graduate   \n2260        ZAHIRABAD       0    INC    MALE  49.0  GENERAL  Post Graduate   \n2261        ZAHIRABAD       0    BJP    MALE  47.0  GENERAL      12th Pass   \n\n      GENERAL\\nVOTES  POSTAL\\nVOTES  TOTAL\\nVOTES  TOTAL ELECTORS  \n0             376892            482        377374         1489790  \n1             318665            149        318814         1489790  \n2             314057            181        314238         1489790  \n4             644459           2416        646875         1937690  \n5             434199           1130        435329         1937690  \n...              ...            ...           ...             ...  \n2257           20563             57         20620         1916185  \n2258           14661             25         14686         1916185  \n2259          434066            178        434244         1498666  \n2260          427900            115        428015         1498666  \n2261          138731            216        138947         1498666  \n\n[2018 rows x 11 columns]",
      "text/html": "<div>\n<style scoped>\n    .dataframe tbody tr th:only-of-type {\n        vertical-align: middle;\n    }\n\n    .dataframe tbody tr th {\n        vertical-align: top;\n    }\n\n    .dataframe thead th {\n        text-align: right;\n    }\n</style>\n<table border=\"1\" class=\"dataframe\">\n  <thead>\n    <tr style=\"text-align: right;\">\n      <th></th>\n      <th>CONSTITUENCY</th>\n      <th>WINNER</th>\n      <th>PARTY</th>\n      <th>GENDER</th>\n      <th>AGE</th>\n      <th>CATEGORY</th>\n      <th>EDUCATION</th>\n      <th>GENERAL\\nVOTES</th>\n      <th>POSTAL\\nVOTES</th>\n      <th>TOTAL\\nVOTES</th>\n      <th>TOTAL ELECTORS</th>\n    </tr>\n  </thead>\n  <tbody>\n    <tr>\n      <th>0</th>\n      <td>ADILABAD</td>\n      <td>1</td>\n      <td>BJP</td>\n      <td>MALE</td>\n      <td>52.0</td>\n      <td>ST</td>\n      <td>12th Pass</td>\n      <td>376892</td>\n      <td>482</td>\n      <td>377374</td>\n      <td>1489790</td>\n    </tr>\n    <tr>\n      <th>1</th>\n      <td>ADILABAD</td>\n      <td>0</td>\n      <td>TRS</td>\n      <td>MALE</td>\n      <td>54.0</td>\n      <td>ST</td>\n      <td>Post Graduate</td>\n      <td>318665</td>\n      <td>149</td>\n      <td>318814</td>\n      <td>1489790</td>\n    </tr>\n    <tr>\n      <th>2</th>\n      <td>ADILABAD</td>\n      <td>0</td>\n      <td>INC</td>\n      <td>MALE</td>\n      <td>52.0</td>\n      <td>ST</td>\n      <td>12th Pass</td>\n      <td>314057</td>\n      <td>181</td>\n      <td>314238</td>\n      <td>1489790</td>\n    </tr>\n    <tr>\n      <th>4</th>\n      <td>AGRA</td>\n      <td>1</td>\n      <td>BJP</td>\n      <td>MALE</td>\n      <td>58.0</td>\n      <td>SC</td>\n      <td>Doctorate</td>\n      <td>644459</td>\n      <td>2416</td>\n      <td>646875</td>\n      <td>1937690</td>\n    </tr>\n    <tr>\n      <th>5</th>\n      <td>AGRA</td>\n      <td>0</td>\n      <td>BSP</td>\n      <td>MALE</td>\n      <td>47.0</td>\n      <td>SC</td>\n      <td>Post Graduate</td>\n      <td>434199</td>\n      <td>1130</td>\n      <td>435329</td>\n      <td>1937690</td>\n    </tr>\n    <tr>\n      <th>...</th>\n      <td>...</td>\n      <td>...</td>\n      <td>...</td>\n      <td>...</td>\n      <td>...</td>\n      <td>...</td>\n      <td>...</td>\n      <td>...</td>\n      <td>...</td>\n      <td>...</td>\n      <td>...</td>\n    </tr>\n    <tr>\n      <th>2257</th>\n      <td>YAVATMAL-WASHIM</td>\n      <td>0</td>\n      <td>PHJSP</td>\n      <td>FEMALE</td>\n      <td>28.0</td>\n      <td>GENERAL</td>\n      <td>10th Pass</td>\n      <td>20563</td>\n      <td>57</td>\n      <td>20620</td>\n      <td>1916185</td>\n    </tr>\n    <tr>\n      <th>2258</th>\n      <td>YAVATMAL-WASHIM</td>\n      <td>0</td>\n      <td>IND</td>\n      <td>MALE</td>\n      <td>43.0</td>\n      <td>GENERAL</td>\n      <td>Post Graduate</td>\n      <td>14661</td>\n      <td>25</td>\n      <td>14686</td>\n      <td>1916185</td>\n    </tr>\n    <tr>\n      <th>2259</th>\n      <td>ZAHIRABAD</td>\n      <td>1</td>\n      <td>TRS</td>\n      <td>MALE</td>\n      <td>63.0</td>\n      <td>GENERAL</td>\n      <td>Graduate</td>\n      <td>434066</td>\n      <td>178</td>\n      <td>434244</td>\n      <td>1498666</td>\n    </tr>\n    <tr>\n      <th>2260</th>\n      <td>ZAHIRABAD</td>\n      <td>0</td>\n      <td>INC</td>\n      <td>MALE</td>\n      <td>49.0</td>\n      <td>GENERAL</td>\n      <td>Post Graduate</td>\n      <td>427900</td>\n      <td>115</td>\n      <td>428015</td>\n      <td>1498666</td>\n    </tr>\n    <tr>\n      <th>2261</th>\n      <td>ZAHIRABAD</td>\n      <td>0</td>\n      <td>BJP</td>\n      <td>MALE</td>\n      <td>47.0</td>\n      <td>GENERAL</td>\n      <td>12th Pass</td>\n      <td>138731</td>\n      <td>216</td>\n      <td>138947</td>\n      <td>1498666</td>\n    </tr>\n  </tbody>\n</table>\n<p>2018 rows × 11 columns</p>\n</div>"
     },
     "execution_count": 41,
     "metadata": {},
     "output_type": "execute_result"
    }
   ],
   "source": [
    "df"
   ],
   "metadata": {
    "collapsed": false,
    "pycharm": {
     "name": "#%%\n"
    }
   }
  },
  {
   "cell_type": "code",
   "execution_count": 42,
   "outputs": [
    {
     "data": {
      "text/plain": "CONSTITUENCY       539\nWINNER               2\nPARTY              132\nGENDER               2\nAGE                 60\nCATEGORY             3\nEDUCATION           13\nGENERAL\\nVOTES    2006\nPOSTAL\\nVOTES     1209\nTOTAL\\nVOTES      2010\nTOTAL ELECTORS     542\ndtype: int64"
     },
     "execution_count": 42,
     "metadata": {},
     "output_type": "execute_result"
    }
   ],
   "source": [
    "df.nunique()"
   ],
   "metadata": {
    "collapsed": false,
    "pycharm": {
     "name": "#%%\n"
    }
   }
  },
  {
   "cell_type": "code",
   "execution_count": 44,
   "outputs": [
    {
     "data": {
      "text/plain": "array(['ADILABAD', 'ADILABAD', 'ADILABAD', ..., 'ZAHIRABAD', 'ZAHIRABAD',\n       'ZAHIRABAD'], dtype=object)"
     },
     "execution_count": 44,
     "metadata": {},
     "output_type": "execute_result"
    }
   ],
   "source": [
    "df[\"CONSTITUENCY\"].values"
   ],
   "metadata": {
    "collapsed": false,
    "pycharm": {
     "name": "#%%\n"
    }
   }
  },
  {
   "cell_type": "code",
   "execution_count": 45,
   "outputs": [],
   "source": [
    "df.drop_duplicates(inplace=True)"
   ],
   "metadata": {
    "collapsed": false,
    "pycharm": {
     "name": "#%%\n"
    }
   }
  },
  {
   "cell_type": "code",
   "execution_count": 46,
   "outputs": [
    {
     "data": {
      "text/plain": "         CONSTITUENCY  WINNER  PARTY  GENDER   AGE CATEGORY      EDUCATION  \\\n0            ADILABAD       1    BJP    MALE  52.0       ST      12th Pass   \n1            ADILABAD       0    TRS    MALE  54.0       ST  Post Graduate   \n2            ADILABAD       0    INC    MALE  52.0       ST      12th Pass   \n4                AGRA       1    BJP    MALE  58.0       SC      Doctorate   \n5                AGRA       0    BSP    MALE  47.0       SC  Post Graduate   \n...               ...     ...    ...     ...   ...      ...            ...   \n2257  YAVATMAL-WASHIM       0  PHJSP  FEMALE  28.0  GENERAL      10th Pass   \n2258  YAVATMAL-WASHIM       0    IND    MALE  43.0  GENERAL  Post Graduate   \n2259        ZAHIRABAD       1    TRS    MALE  63.0  GENERAL       Graduate   \n2260        ZAHIRABAD       0    INC    MALE  49.0  GENERAL  Post Graduate   \n2261        ZAHIRABAD       0    BJP    MALE  47.0  GENERAL      12th Pass   \n\n      GENERAL\\nVOTES  POSTAL\\nVOTES  TOTAL\\nVOTES  TOTAL ELECTORS  \n0             376892            482        377374         1489790  \n1             318665            149        318814         1489790  \n2             314057            181        314238         1489790  \n4             644459           2416        646875         1937690  \n5             434199           1130        435329         1937690  \n...              ...            ...           ...             ...  \n2257           20563             57         20620         1916185  \n2258           14661             25         14686         1916185  \n2259          434066            178        434244         1498666  \n2260          427900            115        428015         1498666  \n2261          138731            216        138947         1498666  \n\n[2018 rows x 11 columns]",
      "text/html": "<div>\n<style scoped>\n    .dataframe tbody tr th:only-of-type {\n        vertical-align: middle;\n    }\n\n    .dataframe tbody tr th {\n        vertical-align: top;\n    }\n\n    .dataframe thead th {\n        text-align: right;\n    }\n</style>\n<table border=\"1\" class=\"dataframe\">\n  <thead>\n    <tr style=\"text-align: right;\">\n      <th></th>\n      <th>CONSTITUENCY</th>\n      <th>WINNER</th>\n      <th>PARTY</th>\n      <th>GENDER</th>\n      <th>AGE</th>\n      <th>CATEGORY</th>\n      <th>EDUCATION</th>\n      <th>GENERAL\\nVOTES</th>\n      <th>POSTAL\\nVOTES</th>\n      <th>TOTAL\\nVOTES</th>\n      <th>TOTAL ELECTORS</th>\n    </tr>\n  </thead>\n  <tbody>\n    <tr>\n      <th>0</th>\n      <td>ADILABAD</td>\n      <td>1</td>\n      <td>BJP</td>\n      <td>MALE</td>\n      <td>52.0</td>\n      <td>ST</td>\n      <td>12th Pass</td>\n      <td>376892</td>\n      <td>482</td>\n      <td>377374</td>\n      <td>1489790</td>\n    </tr>\n    <tr>\n      <th>1</th>\n      <td>ADILABAD</td>\n      <td>0</td>\n      <td>TRS</td>\n      <td>MALE</td>\n      <td>54.0</td>\n      <td>ST</td>\n      <td>Post Graduate</td>\n      <td>318665</td>\n      <td>149</td>\n      <td>318814</td>\n      <td>1489790</td>\n    </tr>\n    <tr>\n      <th>2</th>\n      <td>ADILABAD</td>\n      <td>0</td>\n      <td>INC</td>\n      <td>MALE</td>\n      <td>52.0</td>\n      <td>ST</td>\n      <td>12th Pass</td>\n      <td>314057</td>\n      <td>181</td>\n      <td>314238</td>\n      <td>1489790</td>\n    </tr>\n    <tr>\n      <th>4</th>\n      <td>AGRA</td>\n      <td>1</td>\n      <td>BJP</td>\n      <td>MALE</td>\n      <td>58.0</td>\n      <td>SC</td>\n      <td>Doctorate</td>\n      <td>644459</td>\n      <td>2416</td>\n      <td>646875</td>\n      <td>1937690</td>\n    </tr>\n    <tr>\n      <th>5</th>\n      <td>AGRA</td>\n      <td>0</td>\n      <td>BSP</td>\n      <td>MALE</td>\n      <td>47.0</td>\n      <td>SC</td>\n      <td>Post Graduate</td>\n      <td>434199</td>\n      <td>1130</td>\n      <td>435329</td>\n      <td>1937690</td>\n    </tr>\n    <tr>\n      <th>...</th>\n      <td>...</td>\n      <td>...</td>\n      <td>...</td>\n      <td>...</td>\n      <td>...</td>\n      <td>...</td>\n      <td>...</td>\n      <td>...</td>\n      <td>...</td>\n      <td>...</td>\n      <td>...</td>\n    </tr>\n    <tr>\n      <th>2257</th>\n      <td>YAVATMAL-WASHIM</td>\n      <td>0</td>\n      <td>PHJSP</td>\n      <td>FEMALE</td>\n      <td>28.0</td>\n      <td>GENERAL</td>\n      <td>10th Pass</td>\n      <td>20563</td>\n      <td>57</td>\n      <td>20620</td>\n      <td>1916185</td>\n    </tr>\n    <tr>\n      <th>2258</th>\n      <td>YAVATMAL-WASHIM</td>\n      <td>0</td>\n      <td>IND</td>\n      <td>MALE</td>\n      <td>43.0</td>\n      <td>GENERAL</td>\n      <td>Post Graduate</td>\n      <td>14661</td>\n      <td>25</td>\n      <td>14686</td>\n      <td>1916185</td>\n    </tr>\n    <tr>\n      <th>2259</th>\n      <td>ZAHIRABAD</td>\n      <td>1</td>\n      <td>TRS</td>\n      <td>MALE</td>\n      <td>63.0</td>\n      <td>GENERAL</td>\n      <td>Graduate</td>\n      <td>434066</td>\n      <td>178</td>\n      <td>434244</td>\n      <td>1498666</td>\n    </tr>\n    <tr>\n      <th>2260</th>\n      <td>ZAHIRABAD</td>\n      <td>0</td>\n      <td>INC</td>\n      <td>MALE</td>\n      <td>49.0</td>\n      <td>GENERAL</td>\n      <td>Post Graduate</td>\n      <td>427900</td>\n      <td>115</td>\n      <td>428015</td>\n      <td>1498666</td>\n    </tr>\n    <tr>\n      <th>2261</th>\n      <td>ZAHIRABAD</td>\n      <td>0</td>\n      <td>BJP</td>\n      <td>MALE</td>\n      <td>47.0</td>\n      <td>GENERAL</td>\n      <td>12th Pass</td>\n      <td>138731</td>\n      <td>216</td>\n      <td>138947</td>\n      <td>1498666</td>\n    </tr>\n  </tbody>\n</table>\n<p>2018 rows × 11 columns</p>\n</div>"
     },
     "execution_count": 46,
     "metadata": {},
     "output_type": "execute_result"
    }
   ],
   "source": [
    "df"
   ],
   "metadata": {
    "collapsed": false,
    "pycharm": {
     "name": "#%%\n"
    }
   }
  },
  {
   "cell_type": "code",
   "execution_count": null,
   "outputs": [],
   "source": [],
   "metadata": {
    "collapsed": false,
    "pycharm": {
     "name": "#%%\n"
    }
   }
  }
 ],
 "metadata": {
  "kernelspec": {
   "display_name": "Python 3",
   "language": "python",
   "name": "python3"
  },
  "language_info": {
   "codemirror_mode": {
    "name": "ipython",
    "version": 2
   },
   "file_extension": ".py",
   "mimetype": "text/x-python",
   "name": "python",
   "nbconvert_exporter": "python",
   "pygments_lexer": "ipython2",
   "version": "2.7.6"
  }
 },
 "nbformat": 4,
 "nbformat_minor": 0
}