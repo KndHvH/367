{
 "cells": [
  {
   "cell_type": "markdown",
   "metadata": {
    "id": "RPuBqCCFCgvR"
   },
   "source": [
    "# Introdução ao spaCy\n",
    "\n",
    "\n"
   ]
  },
  {
   "cell_type": "markdown",
   "metadata": {
    "id": "DMvt1D5QESDK"
   },
   "source": [
    "# Etapa 1: Instalação do spaCy"
   ]
  },
  {
   "cell_type": "code",
   "execution_count": 6,
   "metadata": {
    "colab": {
     "base_uri": "https://localhost:8080/"
    },
    "id": "bGBJTJK-L7uV",
    "outputId": "fd343de3-94df-4e8f-ba18-d9bf4f67e253"
   },
   "outputs": [
    {
     "name": "stdout",
     "output_type": "stream",
     "text": [
      "Collecting spacy\n",
      "  Downloading spacy-3.4.1-cp310-cp310-win_amd64.whl (11.7 MB)\n",
      "Requirement already satisfied: packaging>=20.0 in c:\\users\\mathe\\pycharmprojects\\matias\\venv\\lib\\site-packages (from spacy) (21.3)\n",
      "Collecting langcodes<4.0.0,>=3.2.0\n",
      "  Downloading langcodes-3.3.0-py3-none-any.whl (181 kB)\n",
      "Collecting tqdm<5.0.0,>=4.38.0\n",
      "  Using cached tqdm-4.64.0-py2.py3-none-any.whl (78 kB)\n",
      "Collecting typer<0.5.0,>=0.3.0\n",
      "  Downloading typer-0.4.2-py3-none-any.whl (27 kB)\n",
      "Collecting thinc<8.2.0,>=8.1.0\n",
      "  Downloading thinc-8.1.0-cp310-cp310-win_amd64.whl (1.3 MB)\n",
      "Requirement already satisfied: requests<3.0.0,>=2.13.0 in c:\\users\\mathe\\pycharmprojects\\matias\\venv\\lib\\site-packages (from spacy) (2.28.1)\n",
      "Collecting spacy-loggers<2.0.0,>=1.0.0\n",
      "  Downloading spacy_loggers-1.0.3-py3-none-any.whl (9.3 kB)\n",
      "Requirement already satisfied: setuptools in c:\\users\\mathe\\pycharmprojects\\matias\\venv\\lib\\site-packages (from spacy) (60.2.0)\n",
      "Collecting cymem<2.1.0,>=2.0.2\n",
      "  Using cached cymem-2.0.6-cp310-cp310-win_amd64.whl (36 kB)\n",
      "Collecting srsly<3.0.0,>=2.4.3\n",
      "  Downloading srsly-2.4.4-cp310-cp310-win_amd64.whl (448 kB)\n",
      "Requirement already satisfied: jinja2 in c:\\users\\mathe\\pycharmprojects\\matias\\venv\\lib\\site-packages (from spacy) (3.1.2)\n",
      "Collecting preshed<3.1.0,>=3.0.2\n",
      "  Using cached preshed-3.0.6-cp310-cp310-win_amd64.whl (112 kB)\n",
      "Collecting wasabi<1.1.0,>=0.9.1\n",
      "  Using cached wasabi-0.10.1-py3-none-any.whl (26 kB)\n",
      "Collecting catalogue<2.1.0,>=2.0.6\n",
      "  Downloading catalogue-2.0.8-py3-none-any.whl (17 kB)\n",
      "Collecting pathy>=0.3.5\n",
      "  Downloading pathy-0.6.2-py3-none-any.whl (42 kB)\n",
      "Requirement already satisfied: numpy>=1.15.0 in c:\\users\\mathe\\pycharmprojects\\matias\\venv\\lib\\site-packages (from spacy) (1.23.1)\n",
      "Collecting murmurhash<1.1.0,>=0.28.0\n",
      "  Using cached murmurhash-1.0.7-cp310-cp310-win_amd64.whl (18 kB)\n",
      "Collecting pydantic!=1.8,!=1.8.1,<1.10.0,>=1.7.4\n",
      "  Downloading pydantic-1.9.2-cp310-cp310-win_amd64.whl (2.0 MB)\n",
      "Collecting spacy-legacy<3.1.0,>=3.0.9\n",
      "  Downloading spacy_legacy-3.0.9-py2.py3-none-any.whl (20 kB)\n",
      "Requirement already satisfied: pyparsing!=3.0.5,>=2.0.2 in c:\\users\\mathe\\pycharmprojects\\matias\\venv\\lib\\site-packages (from packaging>=20.0->spacy) (3.0.9)\n",
      "Collecting smart-open<6.0.0,>=5.2.1\n",
      "  Downloading smart_open-5.2.1-py3-none-any.whl (58 kB)\n",
      "Requirement already satisfied: typing-extensions>=3.7.4.3 in c:\\users\\mathe\\pycharmprojects\\matias\\venv\\lib\\site-packages (from pydantic!=1.8,!=1.8.1,<1.10.0,>=1.7.4->spacy) (4.3.0)\n",
      "Requirement already satisfied: idna<4,>=2.5 in c:\\users\\mathe\\pycharmprojects\\matias\\venv\\lib\\site-packages (from requests<3.0.0,>=2.13.0->spacy) (3.3)\n",
      "Requirement already satisfied: certifi>=2017.4.17 in c:\\users\\mathe\\pycharmprojects\\matias\\venv\\lib\\site-packages (from requests<3.0.0,>=2.13.0->spacy) (2022.6.15)\n",
      "Requirement already satisfied: charset-normalizer<3,>=2 in c:\\users\\mathe\\pycharmprojects\\matias\\venv\\lib\\site-packages (from requests<3.0.0,>=2.13.0->spacy) (2.1.0)\n",
      "Requirement already satisfied: urllib3<1.27,>=1.21.1 in c:\\users\\mathe\\pycharmprojects\\matias\\venv\\lib\\site-packages (from requests<3.0.0,>=2.13.0->spacy) (1.26.11)\n",
      "Collecting blis<0.8.0,>=0.7.8\n",
      "  Downloading blis-0.7.8-cp310-cp310-win_amd64.whl (6.6 MB)\n",
      "Requirement already satisfied: colorama in c:\\users\\mathe\\pycharmprojects\\matias\\venv\\lib\\site-packages (from tqdm<5.0.0,>=4.38.0->spacy) (0.4.5)\n",
      "Requirement already satisfied: click<9.0.0,>=7.1.1 in c:\\users\\mathe\\pycharmprojects\\matias\\venv\\lib\\site-packages (from typer<0.5.0,>=0.3.0->spacy) (8.1.3)\n",
      "Requirement already satisfied: MarkupSafe>=2.0 in c:\\users\\mathe\\pycharmprojects\\matias\\venv\\lib\\site-packages (from jinja2->spacy) (2.1.1)\n",
      "Installing collected packages: murmurhash, cymem, catalogue, wasabi, typer, srsly, smart-open, pydantic, preshed, blis, tqdm, thinc, spacy-loggers, spacy-legacy, pathy, langcodes, spacy\n",
      "Successfully installed blis-0.7.8 catalogue-2.0.8 cymem-2.0.6 langcodes-3.3.0 murmurhash-1.0.7 pathy-0.6.2 preshed-3.0.6 pydantic-1.9.2 smart-open-5.2.1 spacy-3.4.1 spacy-legacy-3.0.9 spacy-loggers-1.0.3 srsly-2.4.4 thinc-8.1.0 tqdm-4.64.0 typer-0.4.2 wasabi-0.10.1\n"
     ]
    },
    {
     "name": "stderr",
     "output_type": "stream",
     "text": [
      "WARNING: You are using pip version 21.3.1; however, version 22.2.2 is available.\n",
      "You should consider upgrading via the 'C:\\Users\\mathe\\PycharmProjects\\Matias\\venv\\Scripts\\python.exe -m pip install --upgrade pip' command.\n"
     ]
    }
   ],
   "source": [
    "!pip install spacy\n",
    "#==2.2.3"
   ]
  },
  {
   "cell_type": "code",
   "execution_count": 7,
   "metadata": {
    "colab": {
     "base_uri": "https://localhost:8080/",
     "height": 35
    },
    "id": "PktHT0dXMNIS",
    "outputId": "3899fd1a-8c6e-4312-8a8b-2a6f92992eb9"
   },
   "outputs": [
    {
     "data": {
      "text/plain": "'3.4.1'"
     },
     "execution_count": 7,
     "metadata": {},
     "output_type": "execute_result"
    }
   ],
   "source": [
    "import spacy\n",
    "spacy.__version__"
   ]
  },
  {
   "cell_type": "code",
   "execution_count": null,
   "metadata": {
    "colab": {
     "base_uri": "https://localhost:8080/"
    },
    "id": "TXvCmKxLMdoF",
    "outputId": "de4564f5-0361-4d8c-8159-5e8aa9774fc5"
   },
   "outputs": [],
   "source": [
    "!python -m spacy download pt"
   ]
  },
  {
   "cell_type": "markdown",
   "metadata": {
    "id": "bJ2s3MS6EXBe"
   },
   "source": [
    "# Etapa 2: Marcação POS\n",
    "\n",
    "- POS (part-of-speech) atribui para as palavras partes da fala, como substantivos, adjetivos, verbos\n",
    "- Importante para a detecção de entidades no texto, pois primeiro é necessário saber o que o texto contém\n",
    "- Lista de tokens: https://spacy.io/api/annotation#pos-tagging\n",
    "- Português: https://www.sketchengine.eu/portuguese-freeling-part-of-speech-tagset/"
   ]
  },
  {
   "cell_type": "code",
   "execution_count": null,
   "metadata": {
    "colab": {
     "base_uri": "https://localhost:8080/"
    },
    "id": "0T8hIclJNV1b",
    "outputId": "bc5d6558-8c6c-4f2c-e4d4-c2b82d41426c"
   },
   "outputs": [],
   "source": [
    "pln = spacy.load('pt')\n",
    "pln"
   ]
  },
  {
   "cell_type": "code",
   "execution_count": null,
   "metadata": {
    "id": "4pZAEQVPNku8"
   },
   "outputs": [],
   "source": [
    "documento = pln('Estou aguardando o avião decolar aqui no AEROPORTO DE GUARULHOS')"
   ]
  },
  {
   "cell_type": "code",
   "execution_count": null,
   "metadata": {
    "colab": {
     "base_uri": "https://localhost:8080/"
    },
    "id": "Fg7TeXodNz4e",
    "outputId": "5a2bec8c-f874-437c-d9ef-f8b4eb223fda"
   },
   "outputs": [],
   "source": [
    "for token in documento:\n",
    "  print(token.text, token.pos_)"
   ]
  },
  {
   "cell_type": "markdown",
   "metadata": {
    "id": "DctwAtI_NLym"
   },
   "source": [
    "# Etapa 3: Lematização e stemização\n",
    "\n",
    "- Lematização: \"Lema\" de uma palavra de acordo com seu significado no dicionário - palavra base (análise vocabular e morfológica)\n",
    "- Stemização: Extrair o radical das palavras"
   ]
  },
  {
   "cell_type": "code",
   "execution_count": null,
   "metadata": {
    "colab": {
     "base_uri": "https://localhost:8080/"
    },
    "id": "NVZ0_xLUQGjb",
    "outputId": "1b8d7d0f-60c4-4786-e30b-3b9d91860f7f"
   },
   "outputs": [],
   "source": [
    "for token in documento:\n",
    "  print(token.text, token.lemma_)"
   ]
  },
  {
   "cell_type": "markdown",
   "metadata": {
    "id": "zVz8tGTiZN6C"
   },
   "source": [
    "## Comparação stemização (NLTK) x lematização (spaCy)"
   ]
  },
  {
   "cell_type": "code",
   "execution_count": null,
   "metadata": {
    "id": "Ww8qgIxXQt7c"
   },
   "outputs": [],
   "source": [
    "#!pip install nltk --upgrade"
   ]
  },
  {
   "cell_type": "code",
   "execution_count": null,
   "metadata": {
    "colab": {
     "base_uri": "https://localhost:8080/"
    },
    "id": "A8G04U93QpbA",
    "outputId": "304dcdb1-6cf3-46fb-d50e-2d3780e9c5f4"
   },
   "outputs": [],
   "source": [
    "import nltk\n",
    "nltk.download('rslp')"
   ]
  },
  {
   "cell_type": "code",
   "execution_count": null,
   "metadata": {
    "colab": {
     "base_uri": "https://localhost:8080/",
     "height": 35
    },
    "id": "Levz2Ci8Q5hm",
    "outputId": "4a3c2c36-fa0e-41ff-eca2-6cb6f2cd1f98"
   },
   "outputs": [],
   "source": [
    "stemmer = nltk.stem.RSLPStemmer()\n",
    "stemmer.stem('correrei')"
   ]
  },
  {
   "cell_type": "code",
   "execution_count": null,
   "metadata": {
    "colab": {
     "base_uri": "https://localhost:8080/"
    },
    "id": "DWeL9UDURmEY",
    "outputId": "58cf27aa-f7ff-4418-c3fc-6674b7347b8f"
   },
   "outputs": [],
   "source": [
    "for token in documento:\n",
    "  print(token.text, token.lemma_, stemmer.stem(token.text))"
   ]
  },
  {
   "cell_type": "markdown",
   "metadata": {
    "id": "PtacHcwVZ4PH"
   },
   "source": [
    "# Etapa 4: Reconhecimento de entidades nomeadas\n",
    "\n",
    "- NER (Named-Entity Recognition)\n",
    "- Encontrar e classificar entidades no texto, dependendo da base de dados que foi utilizada para o treinamento (pessoa, localização, empresa, numéricos)\n",
    "- Usado em chatbots para saber o assunto falado\n",
    "- Siglas: https://spacy.io/api/annotation#named-entities\n",
    "- NER: Location (LOC), Organization (ORG), Person (PER), Date (DAT)\n",
    "\n",
    "---\n",
    "\n"
   ]
  },
  {
   "cell_type": "code",
   "execution_count": null,
   "metadata": {
    "id": "mA_awKp-aq9j"
   },
   "outputs": [],
   "source": [
    "texto = 'a'"
   ]
  },
  {
   "cell_type": "code",
   "execution_count": null,
   "metadata": {
    "id": "ldfPLqpVTlbq"
   },
   "outputs": [],
   "source": [
    "documento = pln(texto)"
   ]
  },
  {
   "cell_type": "code",
   "execution_count": null,
   "metadata": {
    "colab": {
     "base_uri": "https://localhost:8080/"
    },
    "id": "-ir1stmgTsbW",
    "outputId": "f6cc75c4-beab-45d4-e4ae-83d3005ac0d5"
   },
   "outputs": [],
   "source": [
    "for entidade in documento.ents:\n",
    "  print(entidade.text, entidade.label_)"
   ]
  },
  {
   "cell_type": "code",
   "execution_count": null,
   "metadata": {
    "colab": {
     "base_uri": "https://localhost:8080/",
     "height": 52
    },
    "id": "FfXi2DsYUIU0",
    "outputId": "0e002b29-382f-4db1-e682-1e9e25ba3dae"
   },
   "outputs": [],
   "source": [
    "from spacy import displacy\n",
    "displacy.render(documento, style = 'ent', jupyter = True)"
   ]
  },
  {
   "cell_type": "markdown",
   "metadata": {
    "id": "Xi7gpbH1fwvM"
   },
   "source": [
    "# Etapa 5: Parsing de dependências\n",
    "\n",
    "- Relação pai-filho entre as palavras\n",
    "- Útil para verificar o que é prioridade na *frase*"
   ]
  },
  {
   "cell_type": "markdown",
   "metadata": {
    "id": "NRXWYfXbol9-"
   },
   "source": [
    "## Exemplo 1\n"
   ]
  },
  {
   "cell_type": "code",
   "execution_count": null,
   "metadata": {
    "id": "5m5mEyhohKpS"
   },
   "outputs": [],
   "source": [
    "from spacy import displacy"
   ]
  },
  {
   "cell_type": "code",
   "execution_count": null,
   "metadata": {
    "id": "g2Dr629nhQu5"
   },
   "outputs": [],
   "source": [
    "documento = pln('A eleição presidencial do Brasil será decidida entre Bolsonaro e Lula')"
   ]
  },
  {
   "cell_type": "code",
   "execution_count": null,
   "metadata": {
    "colab": {
     "base_uri": "https://localhost:8080/",
     "height": 338
    },
    "id": "PROUVvRHhUp-",
    "outputId": "390e1fa5-e00a-4706-eb93-89d129a7b52f"
   },
   "outputs": [],
   "source": [
    "#displacy.serve(documento, style='dep')\n",
    "displacy.render(documento, style='dep', jupyter=True, options={'distance': 90})"
   ]
  },
  {
   "cell_type": "markdown",
   "metadata": {
    "id": "cd8PYqtyxTt8"
   },
   "source": [
    "# Etapa 6: Semelhanças entre palavras e frases\n",
    "\n",
    "- Verificar se duas palavras são semelhantes ou logicamente relacionadas\n",
    "- Usa o algoritmo GloVe (Global Vectors for Word Representation)\n",
    "- Artigo original: https://nlp.stanford.edu/pubs/glove.pdf"
   ]
  },
  {
   "cell_type": "markdown",
   "metadata": {
    "id": "pLv1PTJz0sks"
   },
   "source": [
    "## Exemplo 1"
   ]
  },
  {
   "cell_type": "code",
   "execution_count": null,
   "metadata": {
    "id": "mmYy8Yr7k7hv"
   },
   "outputs": [],
   "source": [
    "p1 = pln(\"O ex-presidente Lula está à frente nas pesquisas\")\n",
    "p2 = pln(\"Comer lula está à frente nas pesquisas\")"
   ]
  },
  {
   "cell_type": "code",
   "execution_count": null,
   "metadata": {
    "colab": {
     "base_uri": "https://localhost:8080/"
    },
    "id": "SCN4W5uxlFXq",
    "outputId": "5d2478c1-9680-4da7-cacb-31bfe42bb8b9"
   },
   "outputs": [],
   "source": [
    "p1.similarity(p2)"
   ]
  },
  {
   "cell_type": "code",
   "execution_count": null,
   "metadata": {
    "colab": {
     "base_uri": "https://localhost:8080/"
    },
    "id": "HWCoEOollco1",
    "outputId": "a8c53d59-a2e7-4f13-dd9e-510d9d62e423"
   },
   "outputs": [],
   "source": [
    "p1.similarity(p3)"
   ]
  },
  {
   "cell_type": "code",
   "execution_count": null,
   "metadata": {
    "colab": {
     "base_uri": "https://localhost:8080/"
    },
    "id": "qCwXOf2wlm3-",
    "outputId": "dd012740-620d-44da-a4e6-ac5bdac77460"
   },
   "outputs": [],
   "source": [
    "p2.similarity(p3)"
   ]
  },
  {
   "cell_type": "code",
   "execution_count": null,
   "metadata": {
    "id": "L-D7aABslwTa"
   },
   "outputs": [],
   "source": [
    "texto1 = pln('Falo do Banco Santander')\n",
    "texto2 = pln('Represento o Banco Santander')\n",
    "texto3 = pln('Não tenho dinheiro')"
   ]
  },
  {
   "cell_type": "code",
   "execution_count": null,
   "metadata": {
    "colab": {
     "base_uri": "https://localhost:8080/"
    },
    "id": "tRPBcAail9-Q",
    "outputId": "2f4dae3a-f340-451e-b1b5-4da37a049df9"
   },
   "outputs": [],
   "source": [
    "texto1.similarity(texto2)"
   ]
  },
  {
   "cell_type": "code",
   "execution_count": null,
   "metadata": {
    "colab": {
     "base_uri": "https://localhost:8080/"
    },
    "id": "V1ggTh34mCjh",
    "outputId": "e49aec08-8200-4b18-d81b-c6100a485e89"
   },
   "outputs": [],
   "source": [
    "texto2.similarity(texto3)"
   ]
  }
 ],
 "metadata": {
  "colab": {
   "collapsed_sections": [],
   "name": "Copy of Introdução ao NLP com o spaCy.ipynb",
   "provenance": []
  },
  "kernelspec": {
   "display_name": "Python 3.10.4 64-bit",
   "language": "python",
   "name": "python3"
  },
  "language_info": {
   "codemirror_mode": {
    "name": "ipython",
    "version": 3
   },
   "file_extension": ".py",
   "mimetype": "text/x-python",
   "name": "python",
   "nbconvert_exporter": "python",
   "pygments_lexer": "ipython3",
   "version": "3.10.4"
  },
  "vscode": {
   "interpreter": {
    "hash": "8d3e54fe3ce154e32ac346abb9a52721706f8b6192d2a6d9e7d1f2a1d569502c"
   }
  }
 },
 "nbformat": 4,
 "nbformat_minor": 0
}