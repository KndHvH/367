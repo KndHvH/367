{
 "nbformat": 4,
 "nbformat_minor": 0,
 "metadata": {
  "colab": {
   "name": "v1-gs-cybersecurity.ipynb",
   "provenance": [],
   "collapsed_sections": []
  },
  "kernelspec": {
   "name": "python3",
   "display_name": "Python 3"
  },
  "language_info": {
   "name": "python"
  }
 },
 "cells": [
  {
   "cell_type": "code",
   "execution_count": 1,
   "metadata": {
    "id": "A7qN0uI4eAZH"
   },
   "outputs": [],
   "source": [
    "import pandas as pd\n"
   ]
  },
  {
   "cell_type": "code",
   "source": [
    "df = pd.read_csv('./PS2.csv')"
   ],
   "metadata": {
    "id": "XrOH4jk3eKsk"
   },
   "execution_count": 36,
   "outputs": []
  },
  {
   "cell_type": "code",
   "source": [
    "df\n",
    "\n",
    "# Dummies com Type\n",
    "# Drop Na\n",
    "# Transform type nameOrig e nameDest / Ou Drop"
   ],
   "metadata": {
    "colab": {
     "base_uri": "https://localhost:8080/",
     "height": 424
    },
    "id": "42BLQHf_el4F",
    "outputId": "cbe0be1b-8878-4515-f6b9-5808bf7e8583"
   },
   "execution_count": 37,
   "outputs": [
    {
     "data": {
      "text/plain": "         step      type      amount     nameOrig  oldbalanceOrg  \\\n0           1   PAYMENT     9839.64  C1231006815      170136.00   \n1           1   PAYMENT     1864.28  C1666544295       21249.00   \n2           1  TRANSFER      181.00  C1305486145         181.00   \n3           1  CASH_OUT      181.00   C840083671         181.00   \n4           1   PAYMENT    11668.14  C2048537720       41554.00   \n...       ...       ...         ...          ...            ...   \n6362615   743  CASH_OUT   339682.13   C786484425      339682.13   \n6362616   743  TRANSFER  6311409.28  C1529008245     6311409.28   \n6362617   743  CASH_OUT  6311409.28  C1162922333     6311409.28   \n6362618   743  TRANSFER   850002.52  C1685995037      850002.52   \n6362619   743  CASH_OUT   850002.52  C1280323807      850002.52   \n\n         newbalanceOrig     nameDest  oldbalanceDest  newbalanceDest  isFraud  \\\n0             160296.36  M1979787155            0.00            0.00        0   \n1              19384.72  M2044282225            0.00            0.00        0   \n2                  0.00   C553264065            0.00            0.00        1   \n3                  0.00    C38997010        21182.00            0.00        1   \n4              29885.86  M1230701703            0.00            0.00        0   \n...                 ...          ...             ...             ...      ...   \n6362615            0.00   C776919290            0.00       339682.13        1   \n6362616            0.00  C1881841831            0.00            0.00        1   \n6362617            0.00  C1365125890        68488.84      6379898.11        1   \n6362618            0.00  C2080388513            0.00            0.00        1   \n6362619            0.00   C873221189      6510099.11      7360101.63        1   \n\n         isFlaggedFraud  \n0                     0  \n1                     0  \n2                     0  \n3                     0  \n4                     0  \n...                 ...  \n6362615               0  \n6362616               0  \n6362617               0  \n6362618               0  \n6362619               0  \n\n[6362620 rows x 11 columns]",
      "text/html": "<div>\n<style scoped>\n    .dataframe tbody tr th:only-of-type {\n        vertical-align: middle;\n    }\n\n    .dataframe tbody tr th {\n        vertical-align: top;\n    }\n\n    .dataframe thead th {\n        text-align: right;\n    }\n</style>\n<table border=\"1\" class=\"dataframe\">\n  <thead>\n    <tr style=\"text-align: right;\">\n      <th></th>\n      <th>step</th>\n      <th>type</th>\n      <th>amount</th>\n      <th>nameOrig</th>\n      <th>oldbalanceOrg</th>\n      <th>newbalanceOrig</th>\n      <th>nameDest</th>\n      <th>oldbalanceDest</th>\n      <th>newbalanceDest</th>\n      <th>isFraud</th>\n      <th>isFlaggedFraud</th>\n    </tr>\n  </thead>\n  <tbody>\n    <tr>\n      <th>0</th>\n      <td>1</td>\n      <td>PAYMENT</td>\n      <td>9839.64</td>\n      <td>C1231006815</td>\n      <td>170136.00</td>\n      <td>160296.36</td>\n      <td>M1979787155</td>\n      <td>0.00</td>\n      <td>0.00</td>\n      <td>0</td>\n      <td>0</td>\n    </tr>\n    <tr>\n      <th>1</th>\n      <td>1</td>\n      <td>PAYMENT</td>\n      <td>1864.28</td>\n      <td>C1666544295</td>\n      <td>21249.00</td>\n      <td>19384.72</td>\n      <td>M2044282225</td>\n      <td>0.00</td>\n      <td>0.00</td>\n      <td>0</td>\n      <td>0</td>\n    </tr>\n    <tr>\n      <th>2</th>\n      <td>1</td>\n      <td>TRANSFER</td>\n      <td>181.00</td>\n      <td>C1305486145</td>\n      <td>181.00</td>\n      <td>0.00</td>\n      <td>C553264065</td>\n      <td>0.00</td>\n      <td>0.00</td>\n      <td>1</td>\n      <td>0</td>\n    </tr>\n    <tr>\n      <th>3</th>\n      <td>1</td>\n      <td>CASH_OUT</td>\n      <td>181.00</td>\n      <td>C840083671</td>\n      <td>181.00</td>\n      <td>0.00</td>\n      <td>C38997010</td>\n      <td>21182.00</td>\n      <td>0.00</td>\n      <td>1</td>\n      <td>0</td>\n    </tr>\n    <tr>\n      <th>4</th>\n      <td>1</td>\n      <td>PAYMENT</td>\n      <td>11668.14</td>\n      <td>C2048537720</td>\n      <td>41554.00</td>\n      <td>29885.86</td>\n      <td>M1230701703</td>\n      <td>0.00</td>\n      <td>0.00</td>\n      <td>0</td>\n      <td>0</td>\n    </tr>\n    <tr>\n      <th>...</th>\n      <td>...</td>\n      <td>...</td>\n      <td>...</td>\n      <td>...</td>\n      <td>...</td>\n      <td>...</td>\n      <td>...</td>\n      <td>...</td>\n      <td>...</td>\n      <td>...</td>\n      <td>...</td>\n    </tr>\n    <tr>\n      <th>6362615</th>\n      <td>743</td>\n      <td>CASH_OUT</td>\n      <td>339682.13</td>\n      <td>C786484425</td>\n      <td>339682.13</td>\n      <td>0.00</td>\n      <td>C776919290</td>\n      <td>0.00</td>\n      <td>339682.13</td>\n      <td>1</td>\n      <td>0</td>\n    </tr>\n    <tr>\n      <th>6362616</th>\n      <td>743</td>\n      <td>TRANSFER</td>\n      <td>6311409.28</td>\n      <td>C1529008245</td>\n      <td>6311409.28</td>\n      <td>0.00</td>\n      <td>C1881841831</td>\n      <td>0.00</td>\n      <td>0.00</td>\n      <td>1</td>\n      <td>0</td>\n    </tr>\n    <tr>\n      <th>6362617</th>\n      <td>743</td>\n      <td>CASH_OUT</td>\n      <td>6311409.28</td>\n      <td>C1162922333</td>\n      <td>6311409.28</td>\n      <td>0.00</td>\n      <td>C1365125890</td>\n      <td>68488.84</td>\n      <td>6379898.11</td>\n      <td>1</td>\n      <td>0</td>\n    </tr>\n    <tr>\n      <th>6362618</th>\n      <td>743</td>\n      <td>TRANSFER</td>\n      <td>850002.52</td>\n      <td>C1685995037</td>\n      <td>850002.52</td>\n      <td>0.00</td>\n      <td>C2080388513</td>\n      <td>0.00</td>\n      <td>0.00</td>\n      <td>1</td>\n      <td>0</td>\n    </tr>\n    <tr>\n      <th>6362619</th>\n      <td>743</td>\n      <td>CASH_OUT</td>\n      <td>850002.52</td>\n      <td>C1280323807</td>\n      <td>850002.52</td>\n      <td>0.00</td>\n      <td>C873221189</td>\n      <td>6510099.11</td>\n      <td>7360101.63</td>\n      <td>1</td>\n      <td>0</td>\n    </tr>\n  </tbody>\n</table>\n<p>6362620 rows × 11 columns</p>\n</div>"
     },
     "execution_count": 37,
     "metadata": {},
     "output_type": "execute_result"
    }
   ]
  },
  {
   "cell_type": "code",
   "source": [
    "df.shape"
   ],
   "metadata": {
    "colab": {
     "base_uri": "https://localhost:8080/"
    },
    "id": "8urHE26dGZ8i",
    "outputId": "4ebfa434-57b5-4391-ab77-9bd8deb63323"
   },
   "execution_count": 38,
   "outputs": [
    {
     "data": {
      "text/plain": "(6362620, 11)"
     },
     "execution_count": 38,
     "metadata": {},
     "output_type": "execute_result"
    }
   ]
  },
  {
   "cell_type": "code",
   "source": [
    "df[df.isna().any(axis=1)]"
   ],
   "metadata": {
    "colab": {
     "base_uri": "https://localhost:8080/",
     "height": 81
    },
    "id": "Hx6fdRTEfL2_",
    "outputId": "fc23c82f-f68d-4fb9-d35a-f3ce344545f1"
   },
   "execution_count": 39,
   "outputs": [
    {
     "data": {
      "text/plain": "Empty DataFrame\nColumns: [step, type, amount, nameOrig, oldbalanceOrg, newbalanceOrig, nameDest, oldbalanceDest, newbalanceDest, isFraud, isFlaggedFraud]\nIndex: []",
      "text/html": "<div>\n<style scoped>\n    .dataframe tbody tr th:only-of-type {\n        vertical-align: middle;\n    }\n\n    .dataframe tbody tr th {\n        vertical-align: top;\n    }\n\n    .dataframe thead th {\n        text-align: right;\n    }\n</style>\n<table border=\"1\" class=\"dataframe\">\n  <thead>\n    <tr style=\"text-align: right;\">\n      <th></th>\n      <th>step</th>\n      <th>type</th>\n      <th>amount</th>\n      <th>nameOrig</th>\n      <th>oldbalanceOrg</th>\n      <th>newbalanceOrig</th>\n      <th>nameDest</th>\n      <th>oldbalanceDest</th>\n      <th>newbalanceDest</th>\n      <th>isFraud</th>\n      <th>isFlaggedFraud</th>\n    </tr>\n  </thead>\n  <tbody>\n  </tbody>\n</table>\n</div>"
     },
     "execution_count": 39,
     "metadata": {},
     "output_type": "execute_result"
    }
   ]
  },
  {
   "cell_type": "code",
   "source": [
    "df.info()"
   ],
   "metadata": {
    "colab": {
     "base_uri": "https://localhost:8080/"
    },
    "id": "ztL8yGorDfpI",
    "outputId": "e88d02f2-3837-48b2-8f99-d6d992403220"
   },
   "execution_count": 40,
   "outputs": [
    {
     "name": "stdout",
     "output_type": "stream",
     "text": [
      "<class 'pandas.core.frame.DataFrame'>\n",
      "RangeIndex: 6362620 entries, 0 to 6362619\n",
      "Data columns (total 11 columns):\n",
      " #   Column          Dtype  \n",
      "---  ------          -----  \n",
      " 0   step            int64  \n",
      " 1   type            object \n",
      " 2   amount          float64\n",
      " 3   nameOrig        object \n",
      " 4   oldbalanceOrg   float64\n",
      " 5   newbalanceOrig  float64\n",
      " 6   nameDest        object \n",
      " 7   oldbalanceDest  float64\n",
      " 8   newbalanceDest  float64\n",
      " 9   isFraud         int64  \n",
      " 10  isFlaggedFraud  int64  \n",
      "dtypes: float64(5), int64(3), object(3)\n",
      "memory usage: 534.0+ MB\n"
     ]
    }
   ]
  },
  {
   "cell_type": "code",
   "source": [
    "df.describe()"
   ],
   "metadata": {
    "colab": {
     "base_uri": "https://localhost:8080/",
     "height": 300
    },
    "id": "oVhr2kU4gFZl",
    "outputId": "8c8a9a9f-a2b2-45b4-9935-e35bd1bd2b14"
   },
   "execution_count": 41,
   "outputs": [
    {
     "data": {
      "text/plain": "               step        amount  oldbalanceOrg  newbalanceOrig  \\\ncount  6.362620e+06  6.362620e+06   6.362620e+06    6.362620e+06   \nmean   2.433972e+02  1.798619e+05   8.338831e+05    8.551137e+05   \nstd    1.423320e+02  6.038582e+05   2.888243e+06    2.924049e+06   \nmin    1.000000e+00  0.000000e+00   0.000000e+00    0.000000e+00   \n25%    1.560000e+02  1.338957e+04   0.000000e+00    0.000000e+00   \n50%    2.390000e+02  7.487194e+04   1.420800e+04    0.000000e+00   \n75%    3.350000e+02  2.087215e+05   1.073152e+05    1.442584e+05   \nmax    7.430000e+02  9.244552e+07   5.958504e+07    4.958504e+07   \n\n       oldbalanceDest  newbalanceDest       isFraud  isFlaggedFraud  \ncount    6.362620e+06    6.362620e+06  6.362620e+06    6.362620e+06  \nmean     1.100702e+06    1.224996e+06  1.290820e-03    2.514687e-06  \nstd      3.399180e+06    3.674129e+06  3.590480e-02    1.585775e-03  \nmin      0.000000e+00    0.000000e+00  0.000000e+00    0.000000e+00  \n25%      0.000000e+00    0.000000e+00  0.000000e+00    0.000000e+00  \n50%      1.327057e+05    2.146614e+05  0.000000e+00    0.000000e+00  \n75%      9.430367e+05    1.111909e+06  0.000000e+00    0.000000e+00  \nmax      3.560159e+08    3.561793e+08  1.000000e+00    1.000000e+00  ",
      "text/html": "<div>\n<style scoped>\n    .dataframe tbody tr th:only-of-type {\n        vertical-align: middle;\n    }\n\n    .dataframe tbody tr th {\n        vertical-align: top;\n    }\n\n    .dataframe thead th {\n        text-align: right;\n    }\n</style>\n<table border=\"1\" class=\"dataframe\">\n  <thead>\n    <tr style=\"text-align: right;\">\n      <th></th>\n      <th>step</th>\n      <th>amount</th>\n      <th>oldbalanceOrg</th>\n      <th>newbalanceOrig</th>\n      <th>oldbalanceDest</th>\n      <th>newbalanceDest</th>\n      <th>isFraud</th>\n      <th>isFlaggedFraud</th>\n    </tr>\n  </thead>\n  <tbody>\n    <tr>\n      <th>count</th>\n      <td>6.362620e+06</td>\n      <td>6.362620e+06</td>\n      <td>6.362620e+06</td>\n      <td>6.362620e+06</td>\n      <td>6.362620e+06</td>\n      <td>6.362620e+06</td>\n      <td>6.362620e+06</td>\n      <td>6.362620e+06</td>\n    </tr>\n    <tr>\n      <th>mean</th>\n      <td>2.433972e+02</td>\n      <td>1.798619e+05</td>\n      <td>8.338831e+05</td>\n      <td>8.551137e+05</td>\n      <td>1.100702e+06</td>\n      <td>1.224996e+06</td>\n      <td>1.290820e-03</td>\n      <td>2.514687e-06</td>\n    </tr>\n    <tr>\n      <th>std</th>\n      <td>1.423320e+02</td>\n      <td>6.038582e+05</td>\n      <td>2.888243e+06</td>\n      <td>2.924049e+06</td>\n      <td>3.399180e+06</td>\n      <td>3.674129e+06</td>\n      <td>3.590480e-02</td>\n      <td>1.585775e-03</td>\n    </tr>\n    <tr>\n      <th>min</th>\n      <td>1.000000e+00</td>\n      <td>0.000000e+00</td>\n      <td>0.000000e+00</td>\n      <td>0.000000e+00</td>\n      <td>0.000000e+00</td>\n      <td>0.000000e+00</td>\n      <td>0.000000e+00</td>\n      <td>0.000000e+00</td>\n    </tr>\n    <tr>\n      <th>25%</th>\n      <td>1.560000e+02</td>\n      <td>1.338957e+04</td>\n      <td>0.000000e+00</td>\n      <td>0.000000e+00</td>\n      <td>0.000000e+00</td>\n      <td>0.000000e+00</td>\n      <td>0.000000e+00</td>\n      <td>0.000000e+00</td>\n    </tr>\n    <tr>\n      <th>50%</th>\n      <td>2.390000e+02</td>\n      <td>7.487194e+04</td>\n      <td>1.420800e+04</td>\n      <td>0.000000e+00</td>\n      <td>1.327057e+05</td>\n      <td>2.146614e+05</td>\n      <td>0.000000e+00</td>\n      <td>0.000000e+00</td>\n    </tr>\n    <tr>\n      <th>75%</th>\n      <td>3.350000e+02</td>\n      <td>2.087215e+05</td>\n      <td>1.073152e+05</td>\n      <td>1.442584e+05</td>\n      <td>9.430367e+05</td>\n      <td>1.111909e+06</td>\n      <td>0.000000e+00</td>\n      <td>0.000000e+00</td>\n    </tr>\n    <tr>\n      <th>max</th>\n      <td>7.430000e+02</td>\n      <td>9.244552e+07</td>\n      <td>5.958504e+07</td>\n      <td>4.958504e+07</td>\n      <td>3.560159e+08</td>\n      <td>3.561793e+08</td>\n      <td>1.000000e+00</td>\n      <td>1.000000e+00</td>\n    </tr>\n  </tbody>\n</table>\n</div>"
     },
     "execution_count": 41,
     "metadata": {},
     "output_type": "execute_result"
    }
   ]
  },
  {
   "cell_type": "code",
   "source": [
    "df[\"type\"].unique()"
   ],
   "metadata": {
    "colab": {
     "base_uri": "https://localhost:8080/"
    },
    "id": "tiwJXWh8EbCo",
    "outputId": "9c6a746f-aa00-430d-cccb-fe6f25d4cc42"
   },
   "execution_count": 42,
   "outputs": [
    {
     "data": {
      "text/plain": "array(['PAYMENT', 'TRANSFER', 'CASH_OUT', 'DEBIT', 'CASH_IN'],\n      dtype=object)"
     },
     "execution_count": 42,
     "metadata": {},
     "output_type": "execute_result"
    }
   ]
  },
  {
   "cell_type": "code",
   "source": [
    "df.drop_duplicates(inplace=True)"
   ],
   "metadata": {
    "id": "ngE9-rOnGN6Y"
   },
   "execution_count": 43,
   "outputs": []
  },
  {
   "cell_type": "code",
   "source": [
    "df.dropna(inplace=True)"
   ],
   "metadata": {
    "id": "YNjCbPA3GQ3m"
   },
   "execution_count": 44,
   "outputs": []
  },
  {
   "cell_type": "code",
   "source": [
    "df.drop(columns=[\"nameOrig\", \"nameDest\"], inplace=True)"
   ],
   "metadata": {
    "id": "Dj5l23jpFDfj"
   },
   "execution_count": 45,
   "outputs": []
  },
  {
   "cell_type": "code",
   "source": [
    "df.info()"
   ],
   "metadata": {
    "colab": {
     "base_uri": "https://localhost:8080/"
    },
    "id": "tElosjsrFFk5",
    "outputId": "4f0d5ebc-7c07-4873-9a22-5ec906874cb4"
   },
   "execution_count": 46,
   "outputs": [
    {
     "name": "stdout",
     "output_type": "stream",
     "text": [
      "<class 'pandas.core.frame.DataFrame'>\n",
      "Int64Index: 6362620 entries, 0 to 6362619\n",
      "Data columns (total 9 columns):\n",
      " #   Column          Dtype  \n",
      "---  ------          -----  \n",
      " 0   step            int64  \n",
      " 1   type            object \n",
      " 2   amount          float64\n",
      " 3   oldbalanceOrg   float64\n",
      " 4   newbalanceOrig  float64\n",
      " 5   oldbalanceDest  float64\n",
      " 6   newbalanceDest  float64\n",
      " 7   isFraud         int64  \n",
      " 8   isFlaggedFraud  int64  \n",
      "dtypes: float64(5), int64(3), object(1)\n",
      "memory usage: 485.4+ MB\n"
     ]
    }
   ]
  },
  {
   "cell_type": "code",
   "source": [
    "df.shape"
   ],
   "metadata": {
    "colab": {
     "base_uri": "https://localhost:8080/"
    },
    "id": "5GTkg7d0Gcan",
    "outputId": "60e18eac-9468-4fb3-8d5e-4d81763b4747"
   },
   "execution_count": 47,
   "outputs": [
    {
     "data": {
      "text/plain": "(6362620, 9)"
     },
     "execution_count": 47,
     "metadata": {},
     "output_type": "execute_result"
    }
   ]
  },
  {
   "cell_type": "code",
   "source": [
    "df_set_dummies = pd.get_dummies(df[\"type\"])\n",
    "df_set_dummies.head()"
   ],
   "metadata": {
    "colab": {
     "base_uri": "https://localhost:8080/",
     "height": 206
    },
    "id": "Erbl-MvrHA-M",
    "outputId": "5080b636-be4a-4fc7-bd64-a687a457c7de"
   },
   "execution_count": 48,
   "outputs": [
    {
     "data": {
      "text/plain": "   CASH_IN  CASH_OUT  DEBIT  PAYMENT  TRANSFER\n0        0         0      0        1         0\n1        0         0      0        1         0\n2        0         0      0        0         1\n3        0         1      0        0         0\n4        0         0      0        1         0",
      "text/html": "<div>\n<style scoped>\n    .dataframe tbody tr th:only-of-type {\n        vertical-align: middle;\n    }\n\n    .dataframe tbody tr th {\n        vertical-align: top;\n    }\n\n    .dataframe thead th {\n        text-align: right;\n    }\n</style>\n<table border=\"1\" class=\"dataframe\">\n  <thead>\n    <tr style=\"text-align: right;\">\n      <th></th>\n      <th>CASH_IN</th>\n      <th>CASH_OUT</th>\n      <th>DEBIT</th>\n      <th>PAYMENT</th>\n      <th>TRANSFER</th>\n    </tr>\n  </thead>\n  <tbody>\n    <tr>\n      <th>0</th>\n      <td>0</td>\n      <td>0</td>\n      <td>0</td>\n      <td>1</td>\n      <td>0</td>\n    </tr>\n    <tr>\n      <th>1</th>\n      <td>0</td>\n      <td>0</td>\n      <td>0</td>\n      <td>1</td>\n      <td>0</td>\n    </tr>\n    <tr>\n      <th>2</th>\n      <td>0</td>\n      <td>0</td>\n      <td>0</td>\n      <td>0</td>\n      <td>1</td>\n    </tr>\n    <tr>\n      <th>3</th>\n      <td>0</td>\n      <td>1</td>\n      <td>0</td>\n      <td>0</td>\n      <td>0</td>\n    </tr>\n    <tr>\n      <th>4</th>\n      <td>0</td>\n      <td>0</td>\n      <td>0</td>\n      <td>1</td>\n      <td>0</td>\n    </tr>\n  </tbody>\n</table>\n</div>"
     },
     "execution_count": 48,
     "metadata": {},
     "output_type": "execute_result"
    }
   ]
  },
  {
   "cell_type": "code",
   "source": [
    "df_without_type = df.drop(columns=[\"type\"])\n",
    "df_without_type.head()"
   ],
   "metadata": {
    "colab": {
     "base_uri": "https://localhost:8080/",
     "height": 206
    },
    "id": "sMlnmtf7HRyi",
    "outputId": "e3c34bf8-981e-4ef8-9285-f9094b93bb63"
   },
   "execution_count": 49,
   "outputs": [
    {
     "data": {
      "text/plain": "   step    amount  oldbalanceOrg  newbalanceOrig  oldbalanceDest  \\\n0     1   9839.64       170136.0       160296.36             0.0   \n1     1   1864.28        21249.0        19384.72             0.0   \n2     1    181.00          181.0            0.00             0.0   \n3     1    181.00          181.0            0.00         21182.0   \n4     1  11668.14        41554.0        29885.86             0.0   \n\n   newbalanceDest  isFraud  isFlaggedFraud  \n0             0.0        0               0  \n1             0.0        0               0  \n2             0.0        1               0  \n3             0.0        1               0  \n4             0.0        0               0  ",
      "text/html": "<div>\n<style scoped>\n    .dataframe tbody tr th:only-of-type {\n        vertical-align: middle;\n    }\n\n    .dataframe tbody tr th {\n        vertical-align: top;\n    }\n\n    .dataframe thead th {\n        text-align: right;\n    }\n</style>\n<table border=\"1\" class=\"dataframe\">\n  <thead>\n    <tr style=\"text-align: right;\">\n      <th></th>\n      <th>step</th>\n      <th>amount</th>\n      <th>oldbalanceOrg</th>\n      <th>newbalanceOrig</th>\n      <th>oldbalanceDest</th>\n      <th>newbalanceDest</th>\n      <th>isFraud</th>\n      <th>isFlaggedFraud</th>\n    </tr>\n  </thead>\n  <tbody>\n    <tr>\n      <th>0</th>\n      <td>1</td>\n      <td>9839.64</td>\n      <td>170136.0</td>\n      <td>160296.36</td>\n      <td>0.0</td>\n      <td>0.0</td>\n      <td>0</td>\n      <td>0</td>\n    </tr>\n    <tr>\n      <th>1</th>\n      <td>1</td>\n      <td>1864.28</td>\n      <td>21249.0</td>\n      <td>19384.72</td>\n      <td>0.0</td>\n      <td>0.0</td>\n      <td>0</td>\n      <td>0</td>\n    </tr>\n    <tr>\n      <th>2</th>\n      <td>1</td>\n      <td>181.00</td>\n      <td>181.0</td>\n      <td>0.00</td>\n      <td>0.0</td>\n      <td>0.0</td>\n      <td>1</td>\n      <td>0</td>\n    </tr>\n    <tr>\n      <th>3</th>\n      <td>1</td>\n      <td>181.00</td>\n      <td>181.0</td>\n      <td>0.00</td>\n      <td>21182.0</td>\n      <td>0.0</td>\n      <td>1</td>\n      <td>0</td>\n    </tr>\n    <tr>\n      <th>4</th>\n      <td>1</td>\n      <td>11668.14</td>\n      <td>41554.0</td>\n      <td>29885.86</td>\n      <td>0.0</td>\n      <td>0.0</td>\n      <td>0</td>\n      <td>0</td>\n    </tr>\n  </tbody>\n</table>\n</div>"
     },
     "execution_count": 49,
     "metadata": {},
     "output_type": "execute_result"
    }
   ]
  },
  {
   "cell_type": "code",
   "source": [
    "df_final = pd.concat([df_without_type, df_set_dummies], axis=1)\n",
    "df_final.head()"
   ],
   "metadata": {
    "colab": {
     "base_uri": "https://localhost:8080/",
     "height": 206
    },
    "id": "iGsUQwmVHdMo",
    "outputId": "c2b28f3b-2a20-4831-c52d-938768040095"
   },
   "execution_count": 50,
   "outputs": [
    {
     "data": {
      "text/plain": "   step    amount  oldbalanceOrg  newbalanceOrig  oldbalanceDest  \\\n0     1   9839.64       170136.0       160296.36             0.0   \n1     1   1864.28        21249.0        19384.72             0.0   \n2     1    181.00          181.0            0.00             0.0   \n3     1    181.00          181.0            0.00         21182.0   \n4     1  11668.14        41554.0        29885.86             0.0   \n\n   newbalanceDest  isFraud  isFlaggedFraud  CASH_IN  CASH_OUT  DEBIT  PAYMENT  \\\n0             0.0        0               0        0         0      0        1   \n1             0.0        0               0        0         0      0        1   \n2             0.0        1               0        0         0      0        0   \n3             0.0        1               0        0         1      0        0   \n4             0.0        0               0        0         0      0        1   \n\n   TRANSFER  \n0         0  \n1         0  \n2         1  \n3         0  \n4         0  ",
      "text/html": "<div>\n<style scoped>\n    .dataframe tbody tr th:only-of-type {\n        vertical-align: middle;\n    }\n\n    .dataframe tbody tr th {\n        vertical-align: top;\n    }\n\n    .dataframe thead th {\n        text-align: right;\n    }\n</style>\n<table border=\"1\" class=\"dataframe\">\n  <thead>\n    <tr style=\"text-align: right;\">\n      <th></th>\n      <th>step</th>\n      <th>amount</th>\n      <th>oldbalanceOrg</th>\n      <th>newbalanceOrig</th>\n      <th>oldbalanceDest</th>\n      <th>newbalanceDest</th>\n      <th>isFraud</th>\n      <th>isFlaggedFraud</th>\n      <th>CASH_IN</th>\n      <th>CASH_OUT</th>\n      <th>DEBIT</th>\n      <th>PAYMENT</th>\n      <th>TRANSFER</th>\n    </tr>\n  </thead>\n  <tbody>\n    <tr>\n      <th>0</th>\n      <td>1</td>\n      <td>9839.64</td>\n      <td>170136.0</td>\n      <td>160296.36</td>\n      <td>0.0</td>\n      <td>0.0</td>\n      <td>0</td>\n      <td>0</td>\n      <td>0</td>\n      <td>0</td>\n      <td>0</td>\n      <td>1</td>\n      <td>0</td>\n    </tr>\n    <tr>\n      <th>1</th>\n      <td>1</td>\n      <td>1864.28</td>\n      <td>21249.0</td>\n      <td>19384.72</td>\n      <td>0.0</td>\n      <td>0.0</td>\n      <td>0</td>\n      <td>0</td>\n      <td>0</td>\n      <td>0</td>\n      <td>0</td>\n      <td>1</td>\n      <td>0</td>\n    </tr>\n    <tr>\n      <th>2</th>\n      <td>1</td>\n      <td>181.00</td>\n      <td>181.0</td>\n      <td>0.00</td>\n      <td>0.0</td>\n      <td>0.0</td>\n      <td>1</td>\n      <td>0</td>\n      <td>0</td>\n      <td>0</td>\n      <td>0</td>\n      <td>0</td>\n      <td>1</td>\n    </tr>\n    <tr>\n      <th>3</th>\n      <td>1</td>\n      <td>181.00</td>\n      <td>181.0</td>\n      <td>0.00</td>\n      <td>21182.0</td>\n      <td>0.0</td>\n      <td>1</td>\n      <td>0</td>\n      <td>0</td>\n      <td>1</td>\n      <td>0</td>\n      <td>0</td>\n      <td>0</td>\n    </tr>\n    <tr>\n      <th>4</th>\n      <td>1</td>\n      <td>11668.14</td>\n      <td>41554.0</td>\n      <td>29885.86</td>\n      <td>0.0</td>\n      <td>0.0</td>\n      <td>0</td>\n      <td>0</td>\n      <td>0</td>\n      <td>0</td>\n      <td>0</td>\n      <td>1</td>\n      <td>0</td>\n    </tr>\n  </tbody>\n</table>\n</div>"
     },
     "execution_count": 50,
     "metadata": {},
     "output_type": "execute_result"
    }
   ]
  },
  {
   "cell_type": "code",
   "source": [
    "df_final.info()"
   ],
   "metadata": {
    "colab": {
     "base_uri": "https://localhost:8080/"
    },
    "id": "JSdFB6-pJUcB",
    "outputId": "dac6f95d-f80d-4c98-ed40-84550890e9cc"
   },
   "execution_count": 51,
   "outputs": [
    {
     "name": "stdout",
     "output_type": "stream",
     "text": [
      "<class 'pandas.core.frame.DataFrame'>\n",
      "Int64Index: 6362620 entries, 0 to 6362619\n",
      "Data columns (total 13 columns):\n",
      " #   Column          Dtype  \n",
      "---  ------          -----  \n",
      " 0   step            int64  \n",
      " 1   amount          float64\n",
      " 2   oldbalanceOrg   float64\n",
      " 3   newbalanceOrig  float64\n",
      " 4   oldbalanceDest  float64\n",
      " 5   newbalanceDest  float64\n",
      " 6   isFraud         int64  \n",
      " 7   isFlaggedFraud  int64  \n",
      " 8   CASH_IN         uint8  \n",
      " 9   CASH_OUT        uint8  \n",
      " 10  DEBIT           uint8  \n",
      " 11  PAYMENT         uint8  \n",
      " 12  TRANSFER        uint8  \n",
      "dtypes: float64(5), int64(3), uint8(5)\n",
      "memory usage: 467.2 MB\n"
     ]
    }
   ]
  },
  {
   "cell_type": "code",
   "source": [
    "import matplotlib.pyplot as plt\n",
    "\n",
    "for i in df_final.columns:\n",
    "  df_final[i].plot.hist(legend=True)\n",
    "  plt.show()"
   ],
   "metadata": {
    "id": "V9gp1rZXH_Vb",
    "colab": {
     "base_uri": "https://localhost:8080/",
     "height": 1000
    },
    "outputId": "4047830f-7b9f-432f-cee6-b76fb30506d9"
   },
   "execution_count": 52,
   "outputs": [
    {
     "data": {
      "text/plain": "<Figure size 432x288 with 1 Axes>",
      "image/png": "[encoded data removed]"
     },
     "metadata": {
      "needs_background": "light"
     },
     "output_type": "display_data"
    },
    {
     "data": {
      "text/plain": "<Figure size 432x288 with 1 Axes>",
      "image/png": "[encoded data removed]"
     },
     "metadata": {
      "needs_background": "light"
     },
     "output_type": "display_data"
    },
    {
     "data": {
      "text/plain": "<Figure size 432x288 with 1 Axes>",
      "image/png": "[encoded data removed]"
     },
     "metadata": {
      "needs_background": "light"
     },
     "output_type": "display_data"
    },
    {
     "data": {
      "text/plain": "<Figure size 432x288 with 1 Axes>",
      "image/png": "[encoded data removed]"
     },
     "metadata": {
      "needs_background": "light"
     },
     "output_type": "display_data"
    },
    {
     "data": {
      "text/plain": "<Figure size 432x288 with 1 Axes>",
      "image/png": "[encoded data removed]"
     },
     "metadata": {
      "needs_background": "light"
     },
     "output_type": "display_data"
    },
    {
     "data": {
      "text/plain": "<Figure size 432x288 with 1 Axes>",
      "image/png": "[encoded data removed]"
     },
     "metadata": {
      "needs_background": "light"
     },
     "output_type": "display_data"
    },
    {
     "data": {
      "text/plain": "<Figure size 432x288 with 1 Axes>",
      "image/png": "[encoded data removed]"
     },
     "metadata": {
      "needs_background": "light"
     },
     "output_type": "display_data"
    },
    {
     "data": {
      "text/plain": "<Figure size 432x288 with 1 Axes>",
      "image/png": "[encoded data removed]"
     },
     "metadata": {
      "needs_background": "light"
     },
     "output_type": "display_data"
    },
    {
     "data": {
      "text/plain": "<Figure size 432x288 with 1 Axes>",
      "image/png": "[encoded data removed]"
     },
     "metadata": {
      "needs_background": "light"
     },
     "output_type": "display_data"
    },
    {
     "data": {
      "text/plain": "<Figure size 432x288 with 1 Axes>",
      "image/png": "[encoded data removed]"
     },
     "metadata": {
      "needs_background": "light"
     },
     "output_type": "display_data"
    },
    {
     "data": {
      "text/plain": "<Figure size 432x288 with 1 Axes>",
      "image/png": "[encoded data removed]"
     },
     "metadata": {
      "needs_background": "light"
     },
     "output_type": "display_data"
    },
    {
     "data": {
      "text/plain": "<Figure size 432x288 with 1 Axes>",
      "image/png": "[encoded data removed]"
     },
     "metadata": {
      "needs_background": "light"
     },
     "output_type": "display_data"
    },
    {
     "data": {
      "text/plain": "<Figure size 432x288 with 1 Axes>",
      "image/png": "[encoded data removed]"
     },
     "metadata": {
      "needs_background": "light"
     },
     "output_type": "display_data"
    }
   ]
  },
  {
   "cell_type": "code",
   "source": [
    "from sklearn.model_selection import train_test_split\n",
    "\n",
    "X = df_final.drop(columns=[\"isFlaggedFraud\"])\n",
    "y = df_final[\"isFlaggedFraud\"]\n",
    "\n",
    "X_train, X_test, y_train, y_test = train_test_split(X, y, test_size=0.2, random_state=22)"
   ],
   "metadata": {
    "id": "WRm0r6EtHz-F"
   },
   "execution_count": 53,
   "outputs": []
  },
  {
   "cell_type": "code",
   "source": [
    "from sklearn.preprocessing import MinMaxScaler\n",
    "\n",
    "minmax = MinMaxScaler()\n",
    "\n",
    "X_train_minmax = minmax.fit_transform(X_train)\n",
    "X_test_minmax = minmax.transform(X_test)"
   ],
   "metadata": {
    "id": "wRTkKxc-JErk"
   },
   "execution_count": 54,
   "outputs": []
  },
  {
   "cell_type": "code",
   "source": [
    "from sklearn.neural_network import MLPClassifier\n",
    "from sklearn.metrics import classification_report\n",
    "\n",
    "def mlp_classifier(X_train, y_train, X_test, y_test):\n",
    "\n",
    "  mlp = MLPClassifier(hidden_layer_sizes=(5,),\n",
    "                    random_state=1,                    \n",
    "                    activation=\"logistic\",\n",
    "                    solver=\"lbfgs\")\n",
    "\n",
    "  mlp.fit(X_train, y_train)\n",
    "\n",
    "  y_pred = mlp.predict(X_test)\n",
    "\n",
    "  return print(classification_report(y_test, y_pred))\n"
   ],
   "metadata": {
    "id": "_Esn7uBfJj6V"
   },
   "execution_count": 55,
   "outputs": []
  },
  {
   "cell_type": "code",
   "source": [
    "mlp_classifier(X_train, y_train, X_test, y_test)"
   ],
   "metadata": {
    "colab": {
     "base_uri": "https://localhost:8080/"
    },
    "id": "XraviDksNRY-",
    "outputId": "eeddb52f-a706-4c39-d78e-ff47711cc93b"
   },
   "execution_count": 56,
   "outputs": [
    {
     "name": "stderr",
     "output_type": "stream",
     "text": [
      "C:\\Users\\mathe\\PycharmProjects\\120121\\venv\\lib\\site-packages\\sklearn\\metrics\\_classification.py:1318: UndefinedMetricWarning: Precision and F-score are ill-defined and being set to 0.0 in labels with no predicted samples. Use `zero_division` parameter to control this behavior.\n",
      "  _warn_prf(average, modifier, msg_start, len(result))\n",
      "C:\\Users\\mathe\\PycharmProjects\\120121\\venv\\lib\\site-packages\\sklearn\\metrics\\_classification.py:1318: UndefinedMetricWarning: Precision and F-score are ill-defined and being set to 0.0 in labels with no predicted samples. Use `zero_division` parameter to control this behavior.\n",
      "  _warn_prf(average, modifier, msg_start, len(result))\n"
     ]
    },
    {
     "name": "stdout",
     "output_type": "stream",
     "text": [
      "              precision    recall  f1-score   support\n",
      "\n",
      "           0       1.00      1.00      1.00   1272520\n",
      "           1       0.00      0.00      0.00         4\n",
      "\n",
      "    accuracy                           1.00   1272524\n",
      "   macro avg       0.50      0.50      0.50   1272524\n",
      "weighted avg       1.00      1.00      1.00   1272524\n",
      "\n"
     ]
    },
    {
     "name": "stderr",
     "output_type": "stream",
     "text": [
      "C:\\Users\\mathe\\PycharmProjects\\120121\\venv\\lib\\site-packages\\sklearn\\metrics\\_classification.py:1318: UndefinedMetricWarning: Precision and F-score are ill-defined and being set to 0.0 in labels with no predicted samples. Use `zero_division` parameter to control this behavior.\n",
      "  _warn_prf(average, modifier, msg_start, len(result))\n"
     ]
    }
   ]
  },
  {
   "cell_type": "code",
   "source": [
    "mlp_classifier(X_train_minmax, y_train, X_test_minmax, y_test)"
   ],
   "metadata": {
    "colab": {
     "base_uri": "https://localhost:8080/"
    },
    "id": "HDHHnVUGNVO_",
    "outputId": "346dc7a6-f8e7-4b01-f5a8-ececc4c35d8a"
   },
   "execution_count": 57,
   "outputs": [
    {
     "name": "stderr",
     "output_type": "stream",
     "text": [
      "C:\\Users\\mathe\\PycharmProjects\\120121\\venv\\lib\\site-packages\\sklearn\\metrics\\_classification.py:1318: UndefinedMetricWarning: Precision and F-score are ill-defined and being set to 0.0 in labels with no predicted samples. Use `zero_division` parameter to control this behavior.\n",
      "  _warn_prf(average, modifier, msg_start, len(result))\n",
      "C:\\Users\\mathe\\PycharmProjects\\120121\\venv\\lib\\site-packages\\sklearn\\metrics\\_classification.py:1318: UndefinedMetricWarning: Precision and F-score are ill-defined and being set to 0.0 in labels with no predicted samples. Use `zero_division` parameter to control this behavior.\n",
      "  _warn_prf(average, modifier, msg_start, len(result))\n"
     ]
    },
    {
     "name": "stdout",
     "output_type": "stream",
     "text": [
      "              precision    recall  f1-score   support\n",
      "\n",
      "           0       1.00      1.00      1.00   1272520\n",
      "           1       0.00      0.00      0.00         4\n",
      "\n",
      "    accuracy                           1.00   1272524\n",
      "   macro avg       0.50      0.50      0.50   1272524\n",
      "weighted avg       1.00      1.00      1.00   1272524\n",
      "\n"
     ]
    },
    {
     "name": "stderr",
     "output_type": "stream",
     "text": [
      "C:\\Users\\mathe\\PycharmProjects\\120121\\venv\\lib\\site-packages\\sklearn\\metrics\\_classification.py:1318: UndefinedMetricWarning: Precision and F-score are ill-defined and being set to 0.0 in labels with no predicted samples. Use `zero_division` parameter to control this behavior.\n",
      "  _warn_prf(average, modifier, msg_start, len(result))\n"
     ]
    }
   ]
  },
  {
   "cell_type": "code",
   "source": [
    "from xgboost import XGBClassifier\n",
    "\n",
    "def xgb_classifier(X_train, y_train, X_test, y_test):\n",
    "\n",
    "  xgb = XGBClassifier(n_estimators=10,\n",
    "                        max_depth=50,\n",
    "                        booster='gbtree',\n",
    "                        learning_rate=0.01,\n",
    "                        verbosity=0,\n",
    "                        silent=True)\n",
    "  xgb.fit(X_train, y_train, eval_set=[(X_train, y_train)])\n",
    "\n",
    "  y_pred = xgb.predict(X_test)\n",
    "\n",
    "  return print(classification_report(y_test, y_pred))"
   ],
   "metadata": {
    "id": "CZrwrdM_Oqk6"
   },
   "execution_count": 58,
   "outputs": []
  },
  {
   "cell_type": "code",
   "source": [
    "xgb_classifier(X_train, y_train, X_test, y_test)"
   ],
   "metadata": {
    "colab": {
     "base_uri": "https://localhost:8080/"
    },
    "id": "jfEnwxkQN23b",
    "outputId": "2ce173e6-e3d2-4db7-9003-9e07b6c771e6"
   },
   "execution_count": 59,
   "outputs": [
    {
     "name": "stdout",
     "output_type": "stream",
     "text": [
      "[0]\tvalidation_0-logloss:0.68320\n",
      "[1]\tvalidation_0-logloss:0.67344\n",
      "[2]\tvalidation_0-logloss:0.66388\n",
      "[3]\tvalidation_0-logloss:0.65451\n",
      "[4]\tvalidation_0-logloss:0.64531\n",
      "[5]\tvalidation_0-logloss:0.63629\n",
      "[6]\tvalidation_0-logloss:0.62744\n",
      "[7]\tvalidation_0-logloss:0.61876\n",
      "[8]\tvalidation_0-logloss:0.61023\n",
      "[9]\tvalidation_0-logloss:0.60187\n"
     ]
    },
    {
     "name": "stderr",
     "output_type": "stream",
     "text": [
      "C:\\Users\\mathe\\PycharmProjects\\120121\\venv\\lib\\site-packages\\sklearn\\metrics\\_classification.py:1318: UndefinedMetricWarning: Precision and F-score are ill-defined and being set to 0.0 in labels with no predicted samples. Use `zero_division` parameter to control this behavior.\n",
      "  _warn_prf(average, modifier, msg_start, len(result))\n",
      "C:\\Users\\mathe\\PycharmProjects\\120121\\venv\\lib\\site-packages\\sklearn\\metrics\\_classification.py:1318: UndefinedMetricWarning: Precision and F-score are ill-defined and being set to 0.0 in labels with no predicted samples. Use `zero_division` parameter to control this behavior.\n",
      "  _warn_prf(average, modifier, msg_start, len(result))\n"
     ]
    },
    {
     "name": "stdout",
     "output_type": "stream",
     "text": [
      "              precision    recall  f1-score   support\n",
      "\n",
      "           0       1.00      1.00      1.00   1272520\n",
      "           1       0.00      0.00      0.00         4\n",
      "\n",
      "    accuracy                           1.00   1272524\n",
      "   macro avg       0.50      0.50      0.50   1272524\n",
      "weighted avg       1.00      1.00      1.00   1272524\n",
      "\n"
     ]
    },
    {
     "name": "stderr",
     "output_type": "stream",
     "text": [
      "C:\\Users\\mathe\\PycharmProjects\\120121\\venv\\lib\\site-packages\\sklearn\\metrics\\_classification.py:1318: UndefinedMetricWarning: Precision and F-score are ill-defined and being set to 0.0 in labels with no predicted samples. Use `zero_division` parameter to control this behavior.\n",
      "  _warn_prf(average, modifier, msg_start, len(result))\n"
     ]
    }
   ]
  },
  {
   "cell_type": "code",
   "source": [
    "xgb_classifier(X_train_minmax, y_train, X_test_minmax, y_test)"
   ],
   "metadata": {
    "id": "XQbdkd9cN3f9"
   },
   "execution_count": 60,
   "outputs": [
    {
     "name": "stdout",
     "output_type": "stream",
     "text": [
      "[0]\tvalidation_0-logloss:0.68320\n",
      "[1]\tvalidation_0-logloss:0.67344\n",
      "[2]\tvalidation_0-logloss:0.66388\n",
      "[3]\tvalidation_0-logloss:0.65451\n",
      "[4]\tvalidation_0-logloss:0.64531\n",
      "[5]\tvalidation_0-logloss:0.63629\n",
      "[6]\tvalidation_0-logloss:0.62744\n",
      "[7]\tvalidation_0-logloss:0.61876\n",
      "[8]\tvalidation_0-logloss:0.61023\n",
      "[9]\tvalidation_0-logloss:0.60187\n"
     ]
    },
    {
     "name": "stderr",
     "output_type": "stream",
     "text": [
      "C:\\Users\\mathe\\PycharmProjects\\120121\\venv\\lib\\site-packages\\sklearn\\metrics\\_classification.py:1318: UndefinedMetricWarning: Precision and F-score are ill-defined and being set to 0.0 in labels with no predicted samples. Use `zero_division` parameter to control this behavior.\n",
      "  _warn_prf(average, modifier, msg_start, len(result))\n",
      "C:\\Users\\mathe\\PycharmProjects\\120121\\venv\\lib\\site-packages\\sklearn\\metrics\\_classification.py:1318: UndefinedMetricWarning: Precision and F-score are ill-defined and being set to 0.0 in labels with no predicted samples. Use `zero_division` parameter to control this behavior.\n",
      "  _warn_prf(average, modifier, msg_start, len(result))\n"
     ]
    },
    {
     "name": "stdout",
     "output_type": "stream",
     "text": [
      "              precision    recall  f1-score   support\n",
      "\n",
      "           0       1.00      1.00      1.00   1272520\n",
      "           1       0.00      0.00      0.00         4\n",
      "\n",
      "    accuracy                           1.00   1272524\n",
      "   macro avg       0.50      0.50      0.50   1272524\n",
      "weighted avg       1.00      1.00      1.00   1272524\n",
      "\n"
     ]
    },
    {
     "name": "stderr",
     "output_type": "stream",
     "text": [
      "C:\\Users\\mathe\\PycharmProjects\\120121\\venv\\lib\\site-packages\\sklearn\\metrics\\_classification.py:1318: UndefinedMetricWarning: Precision and F-score are ill-defined and being set to 0.0 in labels with no predicted samples. Use `zero_division` parameter to control this behavior.\n",
      "  _warn_prf(average, modifier, msg_start, len(result))\n"
     ]
    }
   ]
  },
  {
   "cell_type": "code",
   "execution_count": null,
   "outputs": [],
   "source": [],
   "metadata": {
    "collapsed": false,
    "pycharm": {
     "name": "#%%\n"
    }
   }
  },
  {
   "cell_type": "code",
   "execution_count": null,
   "outputs": [],
   "source": [],
   "metadata": {
    "collapsed": false,
    "pycharm": {
     "name": "#%%\n"
    }
   }
  }
 ]
}