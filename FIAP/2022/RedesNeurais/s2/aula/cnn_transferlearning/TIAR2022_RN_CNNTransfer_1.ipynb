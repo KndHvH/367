{
  "cells": [
    {
      "cell_type": "markdown",
      "metadata": {
        "id": "zmgSu45O745P"
      },
      "source": [
        "# Aula 17 - CNN + Transfer Learning"
      ]
    },
    {
      "cell_type": "code",
      "execution_count": 1,
      "metadata": {
        "id": "p7FUgUm27to7"
      },
      "outputs": [],
      "source": [
        "# Imports\n",
        "import tensorflow as tf\n",
        "import numpy as np"
      ]
    },
    {
      "cell_type": "code",
      "execution_count": 2,
      "metadata": {
        "colab": {
          "base_uri": "https://localhost:8080/",
          "height": 84,
          "referenced_widgets": [
            "9b9a1d8355244a5d9c5a512e67fc9b2e",
            "c74bdff2a94f4e1a845de57d5c5b1210",
            "5d61444f4d4c481a8994024d8bf7148b",
            "df248ffcddcd4e25aa788bd42f201951",
            "d6a765d5a2324c6ba6f98da8a5a1730c",
            "e415f41f74194c04b590f816b53bb088",
            "070055c4a98c4cde9657828009e2baeb",
            "e034439639764ae5b9c0cf2990e4d933",
            "38034e11db9540eba5ee3edb9e56dbb6",
            "40c8f29ef45d4663923c059fc5c2f6be",
            "a5720f373a034ee8b9607e751ac9fc52"
          ]
        },
        "id": "my8Wqdor8BV2",
        "outputId": "ed99a358-8169-45eb-bccb-8b14fd01f9a7"
      },
      "outputs": [],
      "source": [
        "# Carregar o dataset\n",
        "import tensorflow_datasets as tfds\n",
        "from tensorflow.keras.utils import to_categorical\n",
        "\n",
        "(train_ds, train_labels), (test_ds, test_labels) = tfds.load(\n",
        "    \"tf_flowers\",\n",
        "    split=[\"train[:70%]\", \"train[:30%]\"],\n",
        "    batch_size=-1, \n",
        "    as_supervised=True\n",
        ")"
      ]
    },
    {
      "cell_type": "code",
      "execution_count": 3,
      "metadata": {
        "colab": {
          "base_uri": "https://localhost:8080/"
        },
        "id": "9s7hZMYb84Zt",
        "outputId": "27c1c672-abb9-4cf9-bdbf-d0356ade9626"
      },
      "outputs": [
        {
          "data": {
            "text/plain": [
              "TensorShape([2569, 442, 1024, 3])"
            ]
          },
          "execution_count": 3,
          "metadata": {},
          "output_type": "execute_result"
        }
      ],
      "source": [
        "train_ds.shape"
      ]
    },
    {
      "cell_type": "code",
      "execution_count": 4,
      "metadata": {
        "colab": {
          "base_uri": "https://localhost:8080/"
        },
        "id": "bO6muRda9LFZ",
        "outputId": "57925941-17c0-4700-9460-5aee7b49131b"
      },
      "outputs": [
        {
          "data": {
            "text/plain": [
              "TensorShape([1101, 442, 1024, 3])"
            ]
          },
          "execution_count": 4,
          "metadata": {},
          "output_type": "execute_result"
        }
      ],
      "source": [
        "test_ds.shape"
      ]
    },
    {
      "cell_type": "markdown",
      "metadata": {
        "id": "o2pBUC5g9vrc"
      },
      "source": [
        "## Processar os dados"
      ]
    },
    {
      "cell_type": "code",
      "execution_count": 5,
      "metadata": {
        "id": "2gTvrOSA9eGq"
      },
      "outputs": [],
      "source": [
        "size = (150 , 150)\n",
        "\n",
        "train_ds = tf.image.resize(train_ds, size)\n",
        "test_ds = tf.image.resize(test_ds, size)\n",
        "\n",
        "train_labels = to_categorical(train_labels, num_classes=5)\n",
        "test_labels = to_categorical(test_labels, num_classes=5)"
      ]
    },
    {
      "cell_type": "code",
      "execution_count": 6,
      "metadata": {
        "colab": {
          "base_uri": "https://localhost:8080/"
        },
        "id": "8fpog7I0-XNM",
        "outputId": "c04683e0-5102-482c-b736-5629821c756d"
      },
      "outputs": [
        {
          "data": {
            "text/plain": [
              "array([[0., 0., 1., 0., 0.],\n",
              "       [0., 0., 0., 1., 0.],\n",
              "       [0., 0., 0., 1., 0.],\n",
              "       ...,\n",
              "       [1., 0., 0., 0., 0.],\n",
              "       [0., 0., 1., 0., 0.],\n",
              "       [1., 0., 0., 0., 0.]], dtype=float32)"
            ]
          },
          "execution_count": 6,
          "metadata": {},
          "output_type": "execute_result"
        }
      ],
      "source": [
        "train_labels"
      ]
    },
    {
      "cell_type": "markdown",
      "metadata": {
        "id": "8mFdpMUN-jgN"
      },
      "source": [
        "## Modelo \"profundo\" simples"
      ]
    },
    {
      "cell_type": "code",
      "execution_count": 7,
      "metadata": {
        "colab": {
          "base_uri": "https://localhost:8080/"
        },
        "id": "-A8UpWR7-dq5",
        "outputId": "b7715823-c975-473d-f805-f048ab44d833"
      },
      "outputs": [
        {
          "name": "stdout",
          "output_type": "stream",
          "text": [
            "Epoch 1/50\n",
            "65/65 [==============================] - 33s 502ms/step - loss: 1.5929 - accuracy: 0.2642 - val_loss: 1.5515 - val_accuracy: 0.3171\n",
            "Epoch 2/50\n",
            "65/65 [==============================] - 32s 499ms/step - loss: 1.4687 - accuracy: 0.3440 - val_loss: 1.6235 - val_accuracy: 0.3560\n",
            "Epoch 3/50\n",
            "65/65 [==============================] - 33s 506ms/step - loss: 1.3785 - accuracy: 0.4058 - val_loss: 1.2982 - val_accuracy: 0.4339\n",
            "Epoch 4/50\n",
            "65/65 [==============================] - 32s 486ms/step - loss: 1.2658 - accuracy: 0.4618 - val_loss: 1.2890 - val_accuracy: 0.4572\n",
            "Epoch 5/50\n",
            "65/65 [==============================] - 32s 484ms/step - loss: 1.1945 - accuracy: 0.4939 - val_loss: 1.2222 - val_accuracy: 0.4591\n",
            "Epoch 6/50\n",
            "65/65 [==============================] - 33s 510ms/step - loss: 1.1504 - accuracy: 0.5129 - val_loss: 1.1750 - val_accuracy: 0.5233\n",
            "Epoch 7/50\n",
            "65/65 [==============================] - 34s 517ms/step - loss: 1.0776 - accuracy: 0.5533 - val_loss: 1.2538 - val_accuracy: 0.4961\n",
            "Epoch 8/50\n",
            "65/65 [==============================] - 33s 512ms/step - loss: 1.0555 - accuracy: 0.5664 - val_loss: 1.1259 - val_accuracy: 0.5506\n",
            "Epoch 9/50\n",
            "65/65 [==============================] - 33s 502ms/step - loss: 0.9816 - accuracy: 0.6078 - val_loss: 1.1170 - val_accuracy: 0.5661\n",
            "Epoch 10/50\n",
            "65/65 [==============================] - 34s 517ms/step - loss: 0.9431 - accuracy: 0.6302 - val_loss: 1.1140 - val_accuracy: 0.5467\n",
            "Epoch 11/50\n",
            "40/65 [=================>............] - ETA: 13s - loss: 0.8797 - accuracy: 0.6461"
          ]
        },
        {
          "ename": "KeyboardInterrupt",
          "evalue": "",
          "output_type": "error",
          "traceback": [
            "\u001b[1;31m---------------------------------------------------------------------------\u001b[0m",
            "\u001b[1;31mKeyboardInterrupt\u001b[0m                         Traceback (most recent call last)",
            "\u001b[1;32mc:\\Users\\mathe\\PycharmProjects\\Matias\\study\\FIAP\\RedesNeurais\\s2\\aula\\cnn_transferlearning\\TIAR2022_RN_CNNTransfer_1.ipynb Cell 10\u001b[0m in \u001b[0;36m<cell line: 38>\u001b[1;34m()\u001b[0m\n\u001b[0;32m     <a href='vscode-notebook-cell:/c%3A/Users/mathe/PycharmProjects/Matias/study/FIAP/RedesNeurais/s2/aula/cnn_transferlearning/TIAR2022_RN_CNNTransfer_1.ipynb#X12sZmlsZQ%3D%3D?line=36'>37</a>\u001b[0m \u001b[39m# Treinamento do modelo \u001b[39;00m\n\u001b[0;32m     <a href='vscode-notebook-cell:/c%3A/Users/mathe/PycharmProjects/Matias/study/FIAP/RedesNeurais/s2/aula/cnn_transferlearning/TIAR2022_RN_CNNTransfer_1.ipynb#X12sZmlsZQ%3D%3D?line=37'>38</a>\u001b[0m \u001b[39mwith\u001b[39;00m tf\u001b[39m.\u001b[39mdevice(\u001b[39m\"\u001b[39m\u001b[39m/device:GPU:0\u001b[39m\u001b[39m\"\u001b[39m):\n\u001b[1;32m---> <a href='vscode-notebook-cell:/c%3A/Users/mathe/PycharmProjects/Matias/study/FIAP/RedesNeurais/s2/aula/cnn_transferlearning/TIAR2022_RN_CNNTransfer_1.ipynb#X12sZmlsZQ%3D%3D?line=38'>39</a>\u001b[0m   hand_model\u001b[39m.\u001b[39;49mfit(train_ds, train_labels,\n\u001b[0;32m     <a href='vscode-notebook-cell:/c%3A/Users/mathe/PycharmProjects/Matias/study/FIAP/RedesNeurais/s2/aula/cnn_transferlearning/TIAR2022_RN_CNNTransfer_1.ipynb#X12sZmlsZQ%3D%3D?line=39'>40</a>\u001b[0m                  epochs\u001b[39m=\u001b[39;49m\u001b[39m50\u001b[39;49m,\n\u001b[0;32m     <a href='vscode-notebook-cell:/c%3A/Users/mathe/PycharmProjects/Matias/study/FIAP/RedesNeurais/s2/aula/cnn_transferlearning/TIAR2022_RN_CNNTransfer_1.ipynb#X12sZmlsZQ%3D%3D?line=40'>41</a>\u001b[0m                  validation_split\u001b[39m=\u001b[39;49m\u001b[39m0.2\u001b[39;49m,\n\u001b[0;32m     <a href='vscode-notebook-cell:/c%3A/Users/mathe/PycharmProjects/Matias/study/FIAP/RedesNeurais/s2/aula/cnn_transferlearning/TIAR2022_RN_CNNTransfer_1.ipynb#X12sZmlsZQ%3D%3D?line=41'>42</a>\u001b[0m                  batch_size\u001b[39m=\u001b[39;49m\u001b[39m32\u001b[39;49m,\n\u001b[0;32m     <a href='vscode-notebook-cell:/c%3A/Users/mathe/PycharmProjects/Matias/study/FIAP/RedesNeurais/s2/aula/cnn_transferlearning/TIAR2022_RN_CNNTransfer_1.ipynb#X12sZmlsZQ%3D%3D?line=42'>43</a>\u001b[0m                  callbacks\u001b[39m=\u001b[39;49m[es])\n",
            "File \u001b[1;32m~\\AppData\\Local\\Packages\\PythonSoftwareFoundation.Python.3.10_qbz5n2kfra8p0\\LocalCache\\local-packages\\Python310\\site-packages\\keras\\utils\\traceback_utils.py:64\u001b[0m, in \u001b[0;36mfilter_traceback.<locals>.error_handler\u001b[1;34m(*args, **kwargs)\u001b[0m\n\u001b[0;32m     62\u001b[0m filtered_tb \u001b[39m=\u001b[39m \u001b[39mNone\u001b[39;00m\n\u001b[0;32m     63\u001b[0m \u001b[39mtry\u001b[39;00m:\n\u001b[1;32m---> 64\u001b[0m   \u001b[39mreturn\u001b[39;00m fn(\u001b[39m*\u001b[39margs, \u001b[39m*\u001b[39m\u001b[39m*\u001b[39mkwargs)\n\u001b[0;32m     65\u001b[0m \u001b[39mexcept\u001b[39;00m \u001b[39mException\u001b[39;00m \u001b[39mas\u001b[39;00m e:  \u001b[39m# pylint: disable=broad-except\u001b[39;00m\n\u001b[0;32m     66\u001b[0m   filtered_tb \u001b[39m=\u001b[39m _process_traceback_frames(e\u001b[39m.\u001b[39m__traceback__)\n",
            "File \u001b[1;32m~\\AppData\\Local\\Packages\\PythonSoftwareFoundation.Python.3.10_qbz5n2kfra8p0\\LocalCache\\local-packages\\Python310\\site-packages\\keras\\engine\\training.py:1409\u001b[0m, in \u001b[0;36mModel.fit\u001b[1;34m(self, x, y, batch_size, epochs, verbose, callbacks, validation_split, validation_data, shuffle, class_weight, sample_weight, initial_epoch, steps_per_epoch, validation_steps, validation_batch_size, validation_freq, max_queue_size, workers, use_multiprocessing)\u001b[0m\n\u001b[0;32m   1402\u001b[0m \u001b[39mwith\u001b[39;00m tf\u001b[39m.\u001b[39mprofiler\u001b[39m.\u001b[39mexperimental\u001b[39m.\u001b[39mTrace(\n\u001b[0;32m   1403\u001b[0m     \u001b[39m'\u001b[39m\u001b[39mtrain\u001b[39m\u001b[39m'\u001b[39m,\n\u001b[0;32m   1404\u001b[0m     epoch_num\u001b[39m=\u001b[39mepoch,\n\u001b[0;32m   1405\u001b[0m     step_num\u001b[39m=\u001b[39mstep,\n\u001b[0;32m   1406\u001b[0m     batch_size\u001b[39m=\u001b[39mbatch_size,\n\u001b[0;32m   1407\u001b[0m     _r\u001b[39m=\u001b[39m\u001b[39m1\u001b[39m):\n\u001b[0;32m   1408\u001b[0m   callbacks\u001b[39m.\u001b[39mon_train_batch_begin(step)\n\u001b[1;32m-> 1409\u001b[0m   tmp_logs \u001b[39m=\u001b[39m \u001b[39mself\u001b[39;49m\u001b[39m.\u001b[39;49mtrain_function(iterator)\n\u001b[0;32m   1410\u001b[0m   \u001b[39mif\u001b[39;00m data_handler\u001b[39m.\u001b[39mshould_sync:\n\u001b[0;32m   1411\u001b[0m     context\u001b[39m.\u001b[39masync_wait()\n",
            "File \u001b[1;32m~\\AppData\\Local\\Packages\\PythonSoftwareFoundation.Python.3.10_qbz5n2kfra8p0\\LocalCache\\local-packages\\Python310\\site-packages\\tensorflow\\python\\util\\traceback_utils.py:150\u001b[0m, in \u001b[0;36mfilter_traceback.<locals>.error_handler\u001b[1;34m(*args, **kwargs)\u001b[0m\n\u001b[0;32m    148\u001b[0m filtered_tb \u001b[39m=\u001b[39m \u001b[39mNone\u001b[39;00m\n\u001b[0;32m    149\u001b[0m \u001b[39mtry\u001b[39;00m:\n\u001b[1;32m--> 150\u001b[0m   \u001b[39mreturn\u001b[39;00m fn(\u001b[39m*\u001b[39margs, \u001b[39m*\u001b[39m\u001b[39m*\u001b[39mkwargs)\n\u001b[0;32m    151\u001b[0m \u001b[39mexcept\u001b[39;00m \u001b[39mException\u001b[39;00m \u001b[39mas\u001b[39;00m e:\n\u001b[0;32m    152\u001b[0m   filtered_tb \u001b[39m=\u001b[39m _process_traceback_frames(e\u001b[39m.\u001b[39m__traceback__)\n",
            "File \u001b[1;32m~\\AppData\\Local\\Packages\\PythonSoftwareFoundation.Python.3.10_qbz5n2kfra8p0\\LocalCache\\local-packages\\Python310\\site-packages\\tensorflow\\python\\eager\\def_function.py:915\u001b[0m, in \u001b[0;36mFunction.__call__\u001b[1;34m(self, *args, **kwds)\u001b[0m\n\u001b[0;32m    912\u001b[0m compiler \u001b[39m=\u001b[39m \u001b[39m\"\u001b[39m\u001b[39mxla\u001b[39m\u001b[39m\"\u001b[39m \u001b[39mif\u001b[39;00m \u001b[39mself\u001b[39m\u001b[39m.\u001b[39m_jit_compile \u001b[39melse\u001b[39;00m \u001b[39m\"\u001b[39m\u001b[39mnonXla\u001b[39m\u001b[39m\"\u001b[39m\n\u001b[0;32m    914\u001b[0m \u001b[39mwith\u001b[39;00m OptionalXlaContext(\u001b[39mself\u001b[39m\u001b[39m.\u001b[39m_jit_compile):\n\u001b[1;32m--> 915\u001b[0m   result \u001b[39m=\u001b[39m \u001b[39mself\u001b[39m\u001b[39m.\u001b[39m_call(\u001b[39m*\u001b[39margs, \u001b[39m*\u001b[39m\u001b[39m*\u001b[39mkwds)\n\u001b[0;32m    917\u001b[0m new_tracing_count \u001b[39m=\u001b[39m \u001b[39mself\u001b[39m\u001b[39m.\u001b[39mexperimental_get_tracing_count()\n\u001b[0;32m    918\u001b[0m without_tracing \u001b[39m=\u001b[39m (tracing_count \u001b[39m==\u001b[39m new_tracing_count)\n",
            "File \u001b[1;32m~\\AppData\\Local\\Packages\\PythonSoftwareFoundation.Python.3.10_qbz5n2kfra8p0\\LocalCache\\local-packages\\Python310\\site-packages\\tensorflow\\python\\eager\\def_function.py:947\u001b[0m, in \u001b[0;36mFunction._call\u001b[1;34m(self, *args, **kwds)\u001b[0m\n\u001b[0;32m    944\u001b[0m   \u001b[39mself\u001b[39m\u001b[39m.\u001b[39m_lock\u001b[39m.\u001b[39mrelease()\n\u001b[0;32m    945\u001b[0m   \u001b[39m# In this case we have created variables on the first call, so we run the\u001b[39;00m\n\u001b[0;32m    946\u001b[0m   \u001b[39m# defunned version which is guaranteed to never create variables.\u001b[39;00m\n\u001b[1;32m--> 947\u001b[0m   \u001b[39mreturn\u001b[39;00m \u001b[39mself\u001b[39m\u001b[39m.\u001b[39m_stateless_fn(\u001b[39m*\u001b[39margs, \u001b[39m*\u001b[39m\u001b[39m*\u001b[39mkwds)  \u001b[39m# pylint: disable=not-callable\u001b[39;00m\n\u001b[0;32m    948\u001b[0m \u001b[39melif\u001b[39;00m \u001b[39mself\u001b[39m\u001b[39m.\u001b[39m_stateful_fn \u001b[39mis\u001b[39;00m \u001b[39mnot\u001b[39;00m \u001b[39mNone\u001b[39;00m:\n\u001b[0;32m    949\u001b[0m   \u001b[39m# Release the lock early so that multiple threads can perform the call\u001b[39;00m\n\u001b[0;32m    950\u001b[0m   \u001b[39m# in parallel.\u001b[39;00m\n\u001b[0;32m    951\u001b[0m   \u001b[39mself\u001b[39m\u001b[39m.\u001b[39m_lock\u001b[39m.\u001b[39mrelease()\n",
            "File \u001b[1;32m~\\AppData\\Local\\Packages\\PythonSoftwareFoundation.Python.3.10_qbz5n2kfra8p0\\LocalCache\\local-packages\\Python310\\site-packages\\tensorflow\\python\\eager\\function.py:2453\u001b[0m, in \u001b[0;36mFunction.__call__\u001b[1;34m(self, *args, **kwargs)\u001b[0m\n\u001b[0;32m   2450\u001b[0m \u001b[39mwith\u001b[39;00m \u001b[39mself\u001b[39m\u001b[39m.\u001b[39m_lock:\n\u001b[0;32m   2451\u001b[0m   (graph_function,\n\u001b[0;32m   2452\u001b[0m    filtered_flat_args) \u001b[39m=\u001b[39m \u001b[39mself\u001b[39m\u001b[39m.\u001b[39m_maybe_define_function(args, kwargs)\n\u001b[1;32m-> 2453\u001b[0m \u001b[39mreturn\u001b[39;00m graph_function\u001b[39m.\u001b[39;49m_call_flat(\n\u001b[0;32m   2454\u001b[0m     filtered_flat_args, captured_inputs\u001b[39m=\u001b[39;49mgraph_function\u001b[39m.\u001b[39;49mcaptured_inputs)\n",
            "File \u001b[1;32m~\\AppData\\Local\\Packages\\PythonSoftwareFoundation.Python.3.10_qbz5n2kfra8p0\\LocalCache\\local-packages\\Python310\\site-packages\\tensorflow\\python\\eager\\function.py:1860\u001b[0m, in \u001b[0;36mConcreteFunction._call_flat\u001b[1;34m(self, args, captured_inputs, cancellation_manager)\u001b[0m\n\u001b[0;32m   1856\u001b[0m possible_gradient_type \u001b[39m=\u001b[39m gradients_util\u001b[39m.\u001b[39mPossibleTapeGradientTypes(args)\n\u001b[0;32m   1857\u001b[0m \u001b[39mif\u001b[39;00m (possible_gradient_type \u001b[39m==\u001b[39m gradients_util\u001b[39m.\u001b[39mPOSSIBLE_GRADIENT_TYPES_NONE\n\u001b[0;32m   1858\u001b[0m     \u001b[39mand\u001b[39;00m executing_eagerly):\n\u001b[0;32m   1859\u001b[0m   \u001b[39m# No tape is watching; skip to running the function.\u001b[39;00m\n\u001b[1;32m-> 1860\u001b[0m   \u001b[39mreturn\u001b[39;00m \u001b[39mself\u001b[39m\u001b[39m.\u001b[39m_build_call_outputs(\u001b[39mself\u001b[39;49m\u001b[39m.\u001b[39;49m_inference_function\u001b[39m.\u001b[39;49mcall(\n\u001b[0;32m   1861\u001b[0m       ctx, args, cancellation_manager\u001b[39m=\u001b[39;49mcancellation_manager))\n\u001b[0;32m   1862\u001b[0m forward_backward \u001b[39m=\u001b[39m \u001b[39mself\u001b[39m\u001b[39m.\u001b[39m_select_forward_and_backward_functions(\n\u001b[0;32m   1863\u001b[0m     args,\n\u001b[0;32m   1864\u001b[0m     possible_gradient_type,\n\u001b[0;32m   1865\u001b[0m     executing_eagerly)\n\u001b[0;32m   1866\u001b[0m forward_function, args_with_tangents \u001b[39m=\u001b[39m forward_backward\u001b[39m.\u001b[39mforward()\n",
            "File \u001b[1;32m~\\AppData\\Local\\Packages\\PythonSoftwareFoundation.Python.3.10_qbz5n2kfra8p0\\LocalCache\\local-packages\\Python310\\site-packages\\tensorflow\\python\\eager\\function.py:497\u001b[0m, in \u001b[0;36m_EagerDefinedFunction.call\u001b[1;34m(self, ctx, args, cancellation_manager)\u001b[0m\n\u001b[0;32m    495\u001b[0m \u001b[39mwith\u001b[39;00m _InterpolateFunctionError(\u001b[39mself\u001b[39m):\n\u001b[0;32m    496\u001b[0m   \u001b[39mif\u001b[39;00m cancellation_manager \u001b[39mis\u001b[39;00m \u001b[39mNone\u001b[39;00m:\n\u001b[1;32m--> 497\u001b[0m     outputs \u001b[39m=\u001b[39m execute\u001b[39m.\u001b[39;49mexecute(\n\u001b[0;32m    498\u001b[0m         \u001b[39mstr\u001b[39;49m(\u001b[39mself\u001b[39;49m\u001b[39m.\u001b[39;49msignature\u001b[39m.\u001b[39;49mname),\n\u001b[0;32m    499\u001b[0m         num_outputs\u001b[39m=\u001b[39;49m\u001b[39mself\u001b[39;49m\u001b[39m.\u001b[39;49m_num_outputs,\n\u001b[0;32m    500\u001b[0m         inputs\u001b[39m=\u001b[39;49margs,\n\u001b[0;32m    501\u001b[0m         attrs\u001b[39m=\u001b[39;49mattrs,\n\u001b[0;32m    502\u001b[0m         ctx\u001b[39m=\u001b[39;49mctx)\n\u001b[0;32m    503\u001b[0m   \u001b[39melse\u001b[39;00m:\n\u001b[0;32m    504\u001b[0m     outputs \u001b[39m=\u001b[39m execute\u001b[39m.\u001b[39mexecute_with_cancellation(\n\u001b[0;32m    505\u001b[0m         \u001b[39mstr\u001b[39m(\u001b[39mself\u001b[39m\u001b[39m.\u001b[39msignature\u001b[39m.\u001b[39mname),\n\u001b[0;32m    506\u001b[0m         num_outputs\u001b[39m=\u001b[39m\u001b[39mself\u001b[39m\u001b[39m.\u001b[39m_num_outputs,\n\u001b[1;32m   (...)\u001b[0m\n\u001b[0;32m    509\u001b[0m         ctx\u001b[39m=\u001b[39mctx,\n\u001b[0;32m    510\u001b[0m         cancellation_manager\u001b[39m=\u001b[39mcancellation_manager)\n",
            "File \u001b[1;32m~\\AppData\\Local\\Packages\\PythonSoftwareFoundation.Python.3.10_qbz5n2kfra8p0\\LocalCache\\local-packages\\Python310\\site-packages\\tensorflow\\python\\eager\\execute.py:54\u001b[0m, in \u001b[0;36mquick_execute\u001b[1;34m(op_name, num_outputs, inputs, attrs, ctx, name)\u001b[0m\n\u001b[0;32m     52\u001b[0m \u001b[39mtry\u001b[39;00m:\n\u001b[0;32m     53\u001b[0m   ctx\u001b[39m.\u001b[39mensure_initialized()\n\u001b[1;32m---> 54\u001b[0m   tensors \u001b[39m=\u001b[39m pywrap_tfe\u001b[39m.\u001b[39;49mTFE_Py_Execute(ctx\u001b[39m.\u001b[39;49m_handle, device_name, op_name,\n\u001b[0;32m     55\u001b[0m                                       inputs, attrs, num_outputs)\n\u001b[0;32m     56\u001b[0m \u001b[39mexcept\u001b[39;00m core\u001b[39m.\u001b[39m_NotOkStatusException \u001b[39mas\u001b[39;00m e:\n\u001b[0;32m     57\u001b[0m   \u001b[39mif\u001b[39;00m name \u001b[39mis\u001b[39;00m \u001b[39mnot\u001b[39;00m \u001b[39mNone\u001b[39;00m:\n",
            "\u001b[1;31mKeyboardInterrupt\u001b[0m: "
          ]
        }
      ],
      "source": [
        "# Import \n",
        "from tensorflow.keras import Sequential, layers\n",
        "from tensorflow.keras.callbacks import EarlyStopping\n",
        "from tensorflow.keras.layers.experimental.preprocessing import Rescaling\n",
        "\n",
        "# Definir a arquitetura da CNN -> camada de extração de features\n",
        "hand_model = Sequential()\n",
        "hand_model.add( Rescaling(1./255, input_shape=(150, 150, 3)))\n",
        "\n",
        "hand_model.add( layers.Conv2D(16, kernel_size=10, activation=\"relu\") )\n",
        "hand_model.add( layers.MaxPooling2D(3) ) \n",
        "\n",
        "hand_model.add( layers.Conv2D(32, kernel_size=8, activation=\"relu\") )\n",
        "hand_model.add( layers.MaxPooling2D(2) ) \n",
        "\n",
        "hand_model.add( layers.Conv2D(32, kernel_size=6, activation=\"relu\") )\n",
        "hand_model.add( layers.MaxPooling2D(2) ) \n",
        "\n",
        "# Definir a arquitetura da CNN -> camada de decisão (classificação)\n",
        "hand_model.add( layers.Flatten() )\n",
        "hand_model.add( layers.Dense(50, activation=\"relu\") )\n",
        "hand_model.add( layers.Dense(20, activation=\"relu\") )\n",
        "hand_model.add( layers.Dense(5, activation=\"sigmoid\") )\n",
        "\n",
        "# Compila o modelo\n",
        "hand_model.compile(\n",
        "    optimizer=\"adam\",\n",
        "    loss=\"binary_crossentropy\",\n",
        "    metrics=[\"accuracy\"]\n",
        ")\n",
        "\n",
        "# Definir a estratégia de Early Stopping\n",
        "es = EarlyStopping(monitor=\"val_accuracy\", \n",
        "                   patience=5, \n",
        "                   restore_best_weights=True)\n",
        "\n",
        "# Treinamento do modelo \n",
        "with tf.device(\"/device:GPU:0\"):\n",
        "  hand_model.fit(train_ds, train_labels,\n",
        "                 epochs=50,\n",
        "                 validation_split=0.2,\n",
        "                 batch_size=32,\n",
        "                 callbacks=[es])"
      ]
    },
    {
      "cell_type": "code",
      "execution_count": null,
      "metadata": {
        "colab": {
          "base_uri": "https://localhost:8080/"
        },
        "id": "gfIb_XOWFiAg",
        "outputId": "26e6b234-9dcb-4353-ec00-d428f4f0f5b2"
      },
      "outputs": [
        {
          "name": "stdout",
          "output_type": "stream",
          "text": [
            "35/35 [==============================] - 0s 13ms/step - loss: 0.6650 - accuracy: 0.7620\n",
            "A loss do modelo é 0.67 e a ACC é: 0.76\n"
          ]
        }
      ],
      "source": [
        "# Avaliação do modelo\n",
        "loss, acc = hand_model.evaluate(test_ds, test_labels)\n",
        "\n",
        "print(f\"A loss do modelo é {loss:.2f} e a ACC é: {acc:.2f}\")"
      ]
    },
    {
      "cell_type": "code",
      "execution_count": null,
      "metadata": {
        "id": "-jh3Qt_2F5-Z"
      },
      "outputs": [],
      "source": [
        "# Michel TODO - trazer a matriz de confusão e gráficos de loss/accuracy"
      ]
    },
    {
      "cell_type": "code",
      "execution_count": null,
      "metadata": {
        "id": "h704FfUwotR-"
      },
      "outputs": [],
      "source": [
        "import seaborn as sns\n",
        "from sklearn.metrics import confusion_matrix \n",
        "\n",
        "def plot_confusion_matrix(y_test, y_pred):\n",
        "  labels = list(map(np.argmax, y_test))\n",
        "  labels_pred = list(map(np.argmax,y_pred))\n",
        "\n",
        "  cf_matrix = confusion_matrix(labels, labels_pred)\n",
        "  sns.heatmap(cf_matrix, annot=True)"
      ]
    },
    {
      "cell_type": "code",
      "execution_count": null,
      "metadata": {
        "colab": {
          "base_uri": "https://localhost:8080/",
          "height": 265
        },
        "id": "iEtZnjDs9I7s",
        "outputId": "6aa91986-4369-440f-df72-f0ad1e839cbb"
      },
      "outputs": [
        {
          "data": {
            "image/png": "[encoded data removed]",
            "text/plain": [
              "<Figure size 432x288 with 2 Axes>"
            ]
          },
          "metadata": {
            "needs_background": "light"
          },
          "output_type": "display_data"
        }
      ],
      "source": [
        "pred = hand_model.predict(test_ds)\n",
        "plot_confusion_matrix(test_labels, pred)"
      ]
    },
    {
      "cell_type": "markdown",
      "metadata": {
        "id": "jW30XUqa9uOW"
      },
      "source": [
        "## Trabalhando com Transfer Learning do modelo VGG16"
      ]
    },
    {
      "cell_type": "code",
      "execution_count": null,
      "metadata": {
        "colab": {
          "base_uri": "https://localhost:8080/"
        },
        "id": "yFByP14v9tTe",
        "outputId": "a453bf65-d567-4f51-c2a9-72dc1bcd75d5"
      },
      "outputs": [
        {
          "name": "stdout",
          "output_type": "stream",
          "text": [
            "Downloading data from https://storage.googleapis.com/tensorflow/keras-applications/vgg16/vgg16_weights_tf_dim_ordering_tf_kernels_notop.h5\n",
            "58892288/58889256 [==============================] - 1s 0us/step\n",
            "58900480/58889256 [==============================] - 1s 0us/step\n"
          ]
        }
      ],
      "source": [
        "# import \n",
        "from tensorflow.keras.applications.vgg16 import VGG16\n",
        "from tensorflow.keras.applications.vgg16 import preprocess_input\n",
        "\n",
        "# Preprocessa os dados de treinamento e teste \n",
        "train_ds = preprocess_input(train_ds)\n",
        "test_ds = preprocess_input(test_ds)\n",
        "\n",
        "# Importa o modelo de base, que será a VGG16 ***sem*** a camada de decisão\n",
        "\n",
        "base_model = VGG16(weights = \"imagenet\", include_top= False,\n",
        "                    input_shape=train_ds[0].shape)\n",
        "\n",
        "# Usar os mesmos pesos da rede treinada (sem fine tunning)\n",
        "base_model.trainable = False\n"
      ]
    },
    {
      "cell_type": "code",
      "execution_count": null,
      "metadata": {
        "colab": {
          "base_uri": "https://localhost:8080/"
        },
        "id": "alc9WdJW_56d",
        "outputId": "3809784f-6ac1-4ce0-c1d7-5cbef319cbcc"
      },
      "outputs": [
        {
          "name": "stdout",
          "output_type": "stream",
          "text": [
            "Model: \"vgg16\"\n",
            "_________________________________________________________________\n",
            " Layer (type)                Output Shape              Param #   \n",
            "=================================================================\n",
            " input_1 (InputLayer)        [(None, 150, 150, 3)]     0         \n",
            "                                                                 \n",
            " block1_conv1 (Conv2D)       (None, 150, 150, 64)      1792      \n",
            "                                                                 \n",
            " block1_conv2 (Conv2D)       (None, 150, 150, 64)      36928     \n",
            "                                                                 \n",
            " block1_pool (MaxPooling2D)  (None, 75, 75, 64)        0         \n",
            "                                                                 \n",
            " block2_conv1 (Conv2D)       (None, 75, 75, 128)       73856     \n",
            "                                                                 \n",
            " block2_conv2 (Conv2D)       (None, 75, 75, 128)       147584    \n",
            "                                                                 \n",
            " block2_pool (MaxPooling2D)  (None, 37, 37, 128)       0         \n",
            "                                                                 \n",
            " block3_conv1 (Conv2D)       (None, 37, 37, 256)       295168    \n",
            "                                                                 \n",
            " block3_conv2 (Conv2D)       (None, 37, 37, 256)       590080    \n",
            "                                                                 \n",
            " block3_conv3 (Conv2D)       (None, 37, 37, 256)       590080    \n",
            "                                                                 \n",
            " block3_pool (MaxPooling2D)  (None, 18, 18, 256)       0         \n",
            "                                                                 \n",
            " block4_conv1 (Conv2D)       (None, 18, 18, 512)       1180160   \n",
            "                                                                 \n",
            " block4_conv2 (Conv2D)       (None, 18, 18, 512)       2359808   \n",
            "                                                                 \n",
            " block4_conv3 (Conv2D)       (None, 18, 18, 512)       2359808   \n",
            "                                                                 \n",
            " block4_pool (MaxPooling2D)  (None, 9, 9, 512)         0         \n",
            "                                                                 \n",
            " block5_conv1 (Conv2D)       (None, 9, 9, 512)         2359808   \n",
            "                                                                 \n",
            " block5_conv2 (Conv2D)       (None, 9, 9, 512)         2359808   \n",
            "                                                                 \n",
            " block5_conv3 (Conv2D)       (None, 9, 9, 512)         2359808   \n",
            "                                                                 \n",
            " block5_pool (MaxPooling2D)  (None, 4, 4, 512)         0         \n",
            "                                                                 \n",
            "=================================================================\n",
            "Total params: 14,714,688\n",
            "Trainable params: 0\n",
            "Non-trainable params: 14,714,688\n",
            "_________________________________________________________________\n"
          ]
        }
      ],
      "source": [
        "# Observa a estrutura do modelo importado\n",
        "base_model.summary()"
      ]
    },
    {
      "cell_type": "markdown",
      "metadata": {
        "id": "j5vTy2p8ATwm"
      },
      "source": [
        "### Adicionar a camada de decisão (classificação)"
      ]
    },
    {
      "cell_type": "code",
      "execution_count": null,
      "metadata": {
        "id": "QuDRogxVAZzH"
      },
      "outputs": [],
      "source": [
        "from tensorflow.keras import layers, models\n",
        "\n",
        "# Definir as camadas\n",
        "flatten_layer = layers.Flatten()\n",
        "dense_layer_1 = layers.Dense(50, activation = \"relu\")\n",
        "dense_layer_2 = layers.Dense(20, activation = \"relu\")\n",
        "prediction_layer = layers.Dense(5, activation = \"softmax\")\n",
        "\n",
        "# Estabelece o modelo completo:\n",
        "model = models.Sequential([\n",
        "    base_model,               # A base CNN da VGG16\n",
        "    flatten_layer,            # Achata as features que saem da VGG16 (base_model)\n",
        "    dense_layer_1,            # 1 camada oculta fully connected\n",
        "    dense_layer_2,            # 2 camada oculta fully connected\n",
        "    prediction_layer          # Camada de saida, com 5 neuronios para classificação\n",
        "])"
      ]
    },
    {
      "cell_type": "code",
      "execution_count": null,
      "metadata": {
        "colab": {
          "base_uri": "https://localhost:8080/"
        },
        "id": "5r5zvtgWBg07",
        "outputId": "71352a69-3637-4e31-fbf7-6b6fc97557c7"
      },
      "outputs": [
        {
          "name": "stdout",
          "output_type": "stream",
          "text": [
            "Model: \"sequential_2\"\n",
            "_________________________________________________________________\n",
            " Layer (type)                Output Shape              Param #   \n",
            "=================================================================\n",
            " vgg16 (Functional)          (None, 4, 4, 512)         14714688  \n",
            "                                                                 \n",
            " flatten_3 (Flatten)         (None, 8192)              0         \n",
            "                                                                 \n",
            " dense_9 (Dense)             (None, 50)                409650    \n",
            "                                                                 \n",
            " dense_10 (Dense)            (None, 20)                1020      \n",
            "                                                                 \n",
            " dense_11 (Dense)            (None, 5)                 105       \n",
            "                                                                 \n",
            "=================================================================\n",
            "Total params: 15,125,463\n",
            "Trainable params: 410,775\n",
            "Non-trainable params: 14,714,688\n",
            "_________________________________________________________________\n"
          ]
        }
      ],
      "source": [
        "model.summary()"
      ]
    },
    {
      "cell_type": "markdown",
      "metadata": {
        "id": "O-p-9aVNCZy1"
      },
      "source": [
        "### Treinamento do modelo"
      ]
    },
    {
      "cell_type": "code",
      "execution_count": null,
      "metadata": {
        "colab": {
          "base_uri": "https://localhost:8080/"
        },
        "id": "21M1CM-hCcMy",
        "outputId": "a36f9cac-bc4e-4c00-91fc-64af053d9c20"
      },
      "outputs": [
        {
          "name": "stdout",
          "output_type": "stream",
          "text": [
            "Epoch 1/50\n",
            "65/65 [==============================] - 10s 122ms/step - loss: 1.9418 - accuracy: 0.4959 - val_loss: 1.1351 - val_accuracy: 0.6167\n",
            "Epoch 2/50\n",
            "65/65 [==============================] - 6s 97ms/step - loss: 0.7320 - accuracy: 0.7392 - val_loss: 0.9085 - val_accuracy: 0.6693\n",
            "Epoch 3/50\n",
            "65/65 [==============================] - 6s 96ms/step - loss: 0.4540 - accuracy: 0.8311 - val_loss: 0.8981 - val_accuracy: 0.6693\n",
            "Epoch 4/50\n",
            "65/65 [==============================] - 6s 96ms/step - loss: 0.2833 - accuracy: 0.9041 - val_loss: 0.9411 - val_accuracy: 0.6848\n",
            "Epoch 5/50\n",
            "65/65 [==============================] - 6s 98ms/step - loss: 0.1950 - accuracy: 0.9377 - val_loss: 0.9511 - val_accuracy: 0.6984\n",
            "Epoch 6/50\n",
            "65/65 [==============================] - 6s 97ms/step - loss: 0.1369 - accuracy: 0.9616 - val_loss: 0.9807 - val_accuracy: 0.7023\n",
            "Epoch 7/50\n",
            "65/65 [==============================] - 6s 100ms/step - loss: 0.0944 - accuracy: 0.9776 - val_loss: 1.0073 - val_accuracy: 0.7062\n",
            "Epoch 8/50\n",
            "65/65 [==============================] - 6s 96ms/step - loss: 0.0651 - accuracy: 0.9873 - val_loss: 1.0715 - val_accuracy: 0.7004\n",
            "Epoch 9/50\n",
            "65/65 [==============================] - 6s 96ms/step - loss: 0.0447 - accuracy: 0.9912 - val_loss: 1.1785 - val_accuracy: 0.7043\n",
            "Epoch 10/50\n",
            "65/65 [==============================] - 6s 97ms/step - loss: 0.0294 - accuracy: 0.9946 - val_loss: 1.1296 - val_accuracy: 0.6984\n",
            "Epoch 11/50\n",
            "65/65 [==============================] - 6s 98ms/step - loss: 0.0208 - accuracy: 0.9966 - val_loss: 1.1988 - val_accuracy: 0.7101\n",
            "Epoch 12/50\n",
            "65/65 [==============================] - 6s 98ms/step - loss: 0.0268 - accuracy: 0.9951 - val_loss: 1.2608 - val_accuracy: 0.7004\n",
            "Epoch 13/50\n",
            "65/65 [==============================] - 7s 101ms/step - loss: 0.0143 - accuracy: 0.9985 - val_loss: 1.3690 - val_accuracy: 0.6965\n",
            "Epoch 14/50\n",
            "65/65 [==============================] - 7s 100ms/step - loss: 0.0092 - accuracy: 0.9995 - val_loss: 1.3502 - val_accuracy: 0.6907\n",
            "Epoch 15/50\n",
            "65/65 [==============================] - 7s 100ms/step - loss: 0.0064 - accuracy: 0.9995 - val_loss: 1.3959 - val_accuracy: 0.6965\n",
            "Epoch 16/50\n",
            "65/65 [==============================] - 8s 123ms/step - loss: 0.0052 - accuracy: 0.9995 - val_loss: 1.4189 - val_accuracy: 0.7043\n"
          ]
        },
        {
          "data": {
            "text/plain": [
              "<keras.callbacks.History at 0x7fc82117e510>"
            ]
          },
          "execution_count": 31,
          "metadata": {},
          "output_type": "execute_result"
        }
      ],
      "source": [
        "from tensorflow.keras.callbacks import EarlyStopping\n",
        "\n",
        "# Compila o novo modelo \n",
        "model.compile(\n",
        "      optimizer = \"adam\",\n",
        "      loss = \"categorical_crossentropy\",\n",
        "      metrics = [\"accuracy\"]\n",
        ")\n",
        "\n",
        "# Define a estratégia de Early Stopping\n",
        "\n",
        "es = EarlyStopping(monitor = \"val_accuracy\", mode = \"max\", patience = 5, restore_best_weights= True)\n",
        "\n",
        "# Treina o modelo\n",
        "model.fit(train_ds,train_labels, epochs = 50, \n",
        "          validation_split= 0.2, batch_size=32,\n",
        "          callbacks=[es])"
      ]
    },
    {
      "cell_type": "code",
      "execution_count": null,
      "metadata": {
        "colab": {
          "base_uri": "https://localhost:8080/"
        },
        "id": "gcGAx4plD-Rq",
        "outputId": "b3c8a55f-b7f9-4495-e861-425ba8321e7b"
      },
      "outputs": [
        {
          "name": "stdout",
          "output_type": "stream",
          "text": [
            "35/35 [==============================] - 4s 108ms/step - loss: 0.0147 - accuracy: 0.9982\n",
            "A loss do modelo é 0.01 e a ACC é: 1.00\n"
          ]
        }
      ],
      "source": [
        "# Avaliação do modelo\n",
        "loss, acc = model.evaluate(test_ds, test_labels)\n",
        "\n",
        "print(f\"A loss do modelo é {loss:.2f} e a ACC é: {acc:.2f}\")"
      ]
    },
    {
      "cell_type": "code",
      "execution_count": null,
      "metadata": {
        "colab": {
          "base_uri": "https://localhost:8080/",
          "height": 265
        },
        "id": "xt2RjApaEw2U",
        "outputId": "dc3c9950-4e4c-41a0-a2e8-ec23f5d75a84"
      },
      "outputs": [
        {
          "data": {
            "image/png": "[encoded data removed]",
            "text/plain": [
              "<Figure size 432x288 with 2 Axes>"
            ]
          },
          "metadata": {
            "needs_background": "light"
          },
          "output_type": "display_data"
        }
      ],
      "source": [
        "pred = model.predict(test_ds)\n",
        "plot_confusion_matrix(test_labels, pred)"
      ]
    },
    {
      "cell_type": "code",
      "execution_count": null,
      "metadata": {},
      "outputs": [],
      "source": []
    }
  ],
  "metadata": {
    "accelerator": "GPU",
    "colab": {
      "collapsed_sections": [],
      "provenance": []
    },
    "gpuClass": "standard",
    "kernelspec": {
      "display_name": "Python 3.10.4 64-bit (microsoft store)",
      "language": "python",
      "name": "python3"
    },
    "language_info": {
      "codemirror_mode": {
        "name": "ipython",
        "version": 3
      },
      "file_extension": ".py",
      "mimetype": "text/x-python",
      "name": "python",
      "nbconvert_exporter": "python",
      "pygments_lexer": "ipython3",
      "version": "3.10.4"
    },
    "vscode": {
      "interpreter": {
        "hash": "0e08af0f12cee5debeb741571517edb6308eea34c0f66b883731c7e0e05f39ab"
      }
    },
    "widgets": {
      "application/vnd.jupyter.widget-state+json": {
        "070055c4a98c4cde9657828009e2baeb": {
          "model_module": "@jupyter-widgets/controls",
          "model_module_version": "1.5.0",
          "model_name": "DescriptionStyleModel",
          "state": {
            "_model_module": "@jupyter-widgets/controls",
            "_model_module_version": "1.5.0",
            "_model_name": "DescriptionStyleModel",
            "_view_count": null,
            "_view_module": "@jupyter-widgets/base",
            "_view_module_version": "1.2.0",
            "_view_name": "StyleView",
            "description_width": ""
          }
        },
        "38034e11db9540eba5ee3edb9e56dbb6": {
          "model_module": "@jupyter-widgets/controls",
          "model_module_version": "1.5.0",
          "model_name": "ProgressStyleModel",
          "state": {
            "_model_module": "@jupyter-widgets/controls",
            "_model_module_version": "1.5.0",
            "_model_name": "ProgressStyleModel",
            "_view_count": null,
            "_view_module": "@jupyter-widgets/base",
            "_view_module_version": "1.2.0",
            "_view_name": "StyleView",
            "bar_color": null,
            "description_width": ""
          }
        },
        "40c8f29ef45d4663923c059fc5c2f6be": {
          "model_module": "@jupyter-widgets/base",
          "model_module_version": "1.2.0",
          "model_name": "LayoutModel",
          "state": {
            "_model_module": "@jupyter-widgets/base",
            "_model_module_version": "1.2.0",
            "_model_name": "LayoutModel",
            "_view_count": null,
            "_view_module": "@jupyter-widgets/base",
            "_view_module_version": "1.2.0",
            "_view_name": "LayoutView",
            "align_content": null,
            "align_items": null,
            "align_self": null,
            "border": null,
            "bottom": null,
            "display": null,
            "flex": null,
            "flex_flow": null,
            "grid_area": null,
            "grid_auto_columns": null,
            "grid_auto_flow": null,
            "grid_auto_rows": null,
            "grid_column": null,
            "grid_gap": null,
            "grid_row": null,
            "grid_template_areas": null,
            "grid_template_columns": null,
            "grid_template_rows": null,
            "height": null,
            "justify_content": null,
            "justify_items": null,
            "left": null,
            "margin": null,
            "max_height": null,
            "max_width": null,
            "min_height": null,
            "min_width": null,
            "object_fit": null,
            "object_position": null,
            "order": null,
            "overflow": null,
            "overflow_x": null,
            "overflow_y": null,
            "padding": null,
            "right": null,
            "top": null,
            "visibility": null,
            "width": null
          }
        },
        "5d61444f4d4c481a8994024d8bf7148b": {
          "model_module": "@jupyter-widgets/controls",
          "model_module_version": "1.5.0",
          "model_name": "FloatProgressModel",
          "state": {
            "_dom_classes": [],
            "_model_module": "@jupyter-widgets/controls",
            "_model_module_version": "1.5.0",
            "_model_name": "FloatProgressModel",
            "_view_count": null,
            "_view_module": "@jupyter-widgets/controls",
            "_view_module_version": "1.5.0",
            "_view_name": "ProgressView",
            "bar_style": "success",
            "description": "",
            "description_tooltip": null,
            "layout": "IPY_MODEL_e034439639764ae5b9c0cf2990e4d933",
            "max": 5,
            "min": 0,
            "orientation": "horizontal",
            "style": "IPY_MODEL_38034e11db9540eba5ee3edb9e56dbb6",
            "value": 5
          }
        },
        "9b9a1d8355244a5d9c5a512e67fc9b2e": {
          "model_module": "@jupyter-widgets/controls",
          "model_module_version": "1.5.0",
          "model_name": "HBoxModel",
          "state": {
            "_dom_classes": [],
            "_model_module": "@jupyter-widgets/controls",
            "_model_module_version": "1.5.0",
            "_model_name": "HBoxModel",
            "_view_count": null,
            "_view_module": "@jupyter-widgets/controls",
            "_view_module_version": "1.5.0",
            "_view_name": "HBoxView",
            "box_style": "",
            "children": [
              "IPY_MODEL_c74bdff2a94f4e1a845de57d5c5b1210",
              "IPY_MODEL_5d61444f4d4c481a8994024d8bf7148b",
              "IPY_MODEL_df248ffcddcd4e25aa788bd42f201951"
            ],
            "layout": "IPY_MODEL_d6a765d5a2324c6ba6f98da8a5a1730c"
          }
        },
        "a5720f373a034ee8b9607e751ac9fc52": {
          "model_module": "@jupyter-widgets/controls",
          "model_module_version": "1.5.0",
          "model_name": "DescriptionStyleModel",
          "state": {
            "_model_module": "@jupyter-widgets/controls",
            "_model_module_version": "1.5.0",
            "_model_name": "DescriptionStyleModel",
            "_view_count": null,
            "_view_module": "@jupyter-widgets/base",
            "_view_module_version": "1.2.0",
            "_view_name": "StyleView",
            "description_width": ""
          }
        },
        "c74bdff2a94f4e1a845de57d5c5b1210": {
          "model_module": "@jupyter-widgets/controls",
          "model_module_version": "1.5.0",
          "model_name": "HTMLModel",
          "state": {
            "_dom_classes": [],
            "_model_module": "@jupyter-widgets/controls",
            "_model_module_version": "1.5.0",
            "_model_name": "HTMLModel",
            "_view_count": null,
            "_view_module": "@jupyter-widgets/controls",
            "_view_module_version": "1.5.0",
            "_view_name": "HTMLView",
            "description": "",
            "description_tooltip": null,
            "layout": "IPY_MODEL_e415f41f74194c04b590f816b53bb088",
            "placeholder": "​",
            "style": "IPY_MODEL_070055c4a98c4cde9657828009e2baeb",
            "value": "Dl Completed...: 100%"
          }
        },
        "d6a765d5a2324c6ba6f98da8a5a1730c": {
          "model_module": "@jupyter-widgets/base",
          "model_module_version": "1.2.0",
          "model_name": "LayoutModel",
          "state": {
            "_model_module": "@jupyter-widgets/base",
            "_model_module_version": "1.2.0",
            "_model_name": "LayoutModel",
            "_view_count": null,
            "_view_module": "@jupyter-widgets/base",
            "_view_module_version": "1.2.0",
            "_view_name": "LayoutView",
            "align_content": null,
            "align_items": null,
            "align_self": null,
            "border": null,
            "bottom": null,
            "display": null,
            "flex": null,
            "flex_flow": null,
            "grid_area": null,
            "grid_auto_columns": null,
            "grid_auto_flow": null,
            "grid_auto_rows": null,
            "grid_column": null,
            "grid_gap": null,
            "grid_row": null,
            "grid_template_areas": null,
            "grid_template_columns": null,
            "grid_template_rows": null,
            "height": null,
            "justify_content": null,
            "justify_items": null,
            "left": null,
            "margin": null,
            "max_height": null,
            "max_width": null,
            "min_height": null,
            "min_width": null,
            "object_fit": null,
            "object_position": null,
            "order": null,
            "overflow": null,
            "overflow_x": null,
            "overflow_y": null,
            "padding": null,
            "right": null,
            "top": null,
            "visibility": null,
            "width": null
          }
        },
        "df248ffcddcd4e25aa788bd42f201951": {
          "model_module": "@jupyter-widgets/controls",
          "model_module_version": "1.5.0",
          "model_name": "HTMLModel",
          "state": {
            "_dom_classes": [],
            "_model_module": "@jupyter-widgets/controls",
            "_model_module_version": "1.5.0",
            "_model_name": "HTMLModel",
            "_view_count": null,
            "_view_module": "@jupyter-widgets/controls",
            "_view_module_version": "1.5.0",
            "_view_name": "HTMLView",
            "description": "",
            "description_tooltip": null,
            "layout": "IPY_MODEL_40c8f29ef45d4663923c059fc5c2f6be",
            "placeholder": "​",
            "style": "IPY_MODEL_a5720f373a034ee8b9607e751ac9fc52",
            "value": " 5/5 [00:03&lt;00:00,  1.05 file/s]"
          }
        },
        "e034439639764ae5b9c0cf2990e4d933": {
          "model_module": "@jupyter-widgets/base",
          "model_module_version": "1.2.0",
          "model_name": "LayoutModel",
          "state": {
            "_model_module": "@jupyter-widgets/base",
            "_model_module_version": "1.2.0",
            "_model_name": "LayoutModel",
            "_view_count": null,
            "_view_module": "@jupyter-widgets/base",
            "_view_module_version": "1.2.0",
            "_view_name": "LayoutView",
            "align_content": null,
            "align_items": null,
            "align_self": null,
            "border": null,
            "bottom": null,
            "display": null,
            "flex": null,
            "flex_flow": null,
            "grid_area": null,
            "grid_auto_columns": null,
            "grid_auto_flow": null,
            "grid_auto_rows": null,
            "grid_column": null,
            "grid_gap": null,
            "grid_row": null,
            "grid_template_areas": null,
            "grid_template_columns": null,
            "grid_template_rows": null,
            "height": null,
            "justify_content": null,
            "justify_items": null,
            "left": null,
            "margin": null,
            "max_height": null,
            "max_width": null,
            "min_height": null,
            "min_width": null,
            "object_fit": null,
            "object_position": null,
            "order": null,
            "overflow": null,
            "overflow_x": null,
            "overflow_y": null,
            "padding": null,
            "right": null,
            "top": null,
            "visibility": null,
            "width": null
          }
        },
        "e415f41f74194c04b590f816b53bb088": {
          "model_module": "@jupyter-widgets/base",
          "model_module_version": "1.2.0",
          "model_name": "LayoutModel",
          "state": {
            "_model_module": "@jupyter-widgets/base",
            "_model_module_version": "1.2.0",
            "_model_name": "LayoutModel",
            "_view_count": null,
            "_view_module": "@jupyter-widgets/base",
            "_view_module_version": "1.2.0",
            "_view_name": "LayoutView",
            "align_content": null,
            "align_items": null,
            "align_self": null,
            "border": null,
            "bottom": null,
            "display": null,
            "flex": null,
            "flex_flow": null,
            "grid_area": null,
            "grid_auto_columns": null,
            "grid_auto_flow": null,
            "grid_auto_rows": null,
            "grid_column": null,
            "grid_gap": null,
            "grid_row": null,
            "grid_template_areas": null,
            "grid_template_columns": null,
            "grid_template_rows": null,
            "height": null,
            "justify_content": null,
            "justify_items": null,
            "left": null,
            "margin": null,
            "max_height": null,
            "max_width": null,
            "min_height": null,
            "min_width": null,
            "object_fit": null,
            "object_position": null,
            "order": null,
            "overflow": null,
            "overflow_x": null,
            "overflow_y": null,
            "padding": null,
            "right": null,
            "top": null,
            "visibility": null,
            "width": null
          }
        }
      }
    }
  },
  "nbformat": 4,
  "nbformat_minor": 0
}
