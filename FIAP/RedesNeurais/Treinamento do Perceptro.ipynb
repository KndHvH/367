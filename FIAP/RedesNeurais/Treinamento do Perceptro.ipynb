{
 "cells": [
  {
   "cell_type": "markdown",
   "metadata": {},
   "source": [
    "FIAP - Redes Neurais Artificiais, Deep Learning e Algoritmos Genéticos \n",
    "\n",
    "# Aula 04 - Treinamento do Perceptron\n",
    "\n",
    "Lembrando do que vimos na matéria de _Machine Learning_, quando desenvolvemos modelos preditivos temos 2 fases: \n",
    "- **treinamento** : construção do modelo\n",
    "- **teste** : uso do modelo construído\n",
    "\n",
    "Na última aula, nós usamos uma rede \"pronta\" para predizer se uma faculdade era uma boa escolha ou não (modelo de classificação) ou prever um score de cada faculdade para criar um ranking (modelo de regressão).\n",
    "\n",
    "Note que os pesos já foram fornecidos, ou seja, o modelo já estava \"treinado\": \n",
    "\n",
    "```python\n",
    "pesos = [ 0.10, 0.05, 0.05, 0.2, 0.25, 0.3, 0.05 ]\n",
    "```\n",
    "\n",
    "Mas e se os pesos não fossem dados? Como poderíamos encontrar os melhores pesos para o problema? Daí surge o **treinamento dos modelos**, ou seja, encontrar os pesos adequados para modelar o problema. "
   ]
  },
  {
   "cell_type": "markdown",
   "metadata": {},
   "source": [
    "## Treinamento do Perceptron \n",
    "\n",
    "Aprendendo os melhores pesos para modelar o problema. \n",
    "\n",
    "\n",
    "... passos do algoritmo\n"
   ]
  },
  {
   "cell_type": "code",
   "execution_count": null,
   "metadata": {},
   "outputs": [],
   "source": []
  },
  {
   "cell_type": "code",
   "execution_count": null,
   "metadata": {},
   "outputs": [],
   "source": []
  },
  {
   "cell_type": "code",
   "execution_count": null,
   "metadata": {},
   "outputs": [],
   "source": []
  },
  {
   "cell_type": "code",
   "execution_count": null,
   "metadata": {},
   "outputs": [],
   "source": []
  },
  {
   "cell_type": "markdown",
   "metadata": {},
   "source": [
    "## Para casa\n",
    "\n",
    "Altere os valores dos pesos iniciais e da taxa de aprendizagem e observe o impacto no treinamento da rede. \n",
    "\n",
    "Note que eventualmente você pode chegar em uma configuração que a rede não converge para os pesos adequados (ou seja, o laço `while` continua a rodar infinitamente. Se isso ocorrer, pare a execução no botão STOP (interrupt the kernel), ou vá em Kernel > Restart. "
   ]
  },
  {
   "cell_type": "code",
   "execution_count": null,
   "metadata": {},
   "outputs": [],
   "source": []
  }
 ],
 "metadata": {
  "kernelspec": {
   "display_name": "Python 3",
   "language": "python",
   "name": "python3"
  },
  "language_info": {
   "codemirror_mode": {
    "name": "ipython",
    "version": 3
   },
   "file_extension": ".py",
   "mimetype": "text/x-python",
   "name": "python",
   "nbconvert_exporter": "python",
   "pygments_lexer": "ipython3",
   "version": "3.7.3"
  }
 },
 "nbformat": 4,
 "nbformat_minor": 4
}
