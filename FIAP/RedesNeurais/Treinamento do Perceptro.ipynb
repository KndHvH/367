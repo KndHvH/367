{
  "cells": [
    {
      "cell_type": "markdown",
      "metadata": {
        "id": "R58tfKHg6JU1"
      },
      "source": [
        "FIAP - Redes Neurais Artificiais, Deep Learning e Algoritmos Genéticos \n",
        "\n",
        "# Aula 04 - Treinamento do Perceptron\n",
        "\n",
        "Lembrando do que vimos na matéria de _Machine Learning_, quando desenvolvemos modelos preditivos temos 2 fases: \n",
        "- **treinamento** : construção do modelo\n",
        "- **teste** : uso do modelo construído\n",
        "\n",
        "Na última aula, nós usamos uma rede \"pronta\" para predizer se uma faculdade era uma boa escolha ou não (modelo de classificação) ou prever um score de cada faculdade para criar um ranking (modelo de regressão).\n",
        "\n",
        "Note que os pesos já foram fornecidos, ou seja, o modelo já estava \"treinado\": \n",
        "\n",
        "```python\n",
        "pesos = [ 0.10, 0.05, 0.05, 0.2, 0.25, 0.3, 0.05 ]\n",
        "```\n",
        "\n",
        "Mas e se os pesos não fossem dados? Como poderíamos encontrar os melhores pesos para o problema? Daí surge o **treinamento dos modelos**, ou seja, encontrar os pesos adequados para modelar o problema. "
      ]
    },
    {
      "cell_type": "markdown",
      "metadata": {
        "id": "NvdK_F5d6JU7"
      },
      "source": [
        "## Treinamento do Perceptron \n",
        "\n",
        "Aprendendo os melhores pesos para modelar o problema. \n",
        "\n",
        "\n",
        "1- inicializar os pesos(tudo zerado ou valores aleatorios)\n",
        "\n",
        "2- para todo dado de treinamento\n",
        "  - calcular as predições com pesos corrente e as entradase a funcao de ativacao\n",
        "  - calcular os erros das predicoes em relacao aos labels\n",
        "  - para cada peso:\n",
        "    - atualiza-lo mediante o erro calculado e a formula de atualiz de peso\n",
        "\n"
      ]
    },
    {
      "cell_type": "code",
      "execution_count": 27,
      "metadata": {
        "id": "8IwB12xC6JU8"
      },
      "outputs": [],
      "source": [
        "import numpy as np\n",
        "entradas = np.array([\n",
        "     [0,0],     \n",
        "     [0,1],    \n",
        "     [1,0],    \n",
        "     [1,1],                \n",
        "])\n",
        "\n",
        "saidas = np.array([0,0,0,1])\n",
        "pesos = np.array([0.0,0.0])\n",
        "\n",
        "taxa_aprendizagem = 0.01\n",
        "\n",
        "pesos_finais = pesos"
      ]
    },
    {
      "cell_type": "code",
      "execution_count": 21,
      "metadata": {
        "id": "u_ISJLpO6JU8"
      },
      "outputs": [],
      "source": [
        "def funcao_ativacao(soma):\n",
        "  if soma >= 1:\n",
        "    return 1\n",
        "  else:\n",
        "    return 0\n",
        "\n",
        "def calcula_saida(registro):\n",
        "  soma = registro.dot(pesos)\n",
        "  return funcao_ativacao(soma)\n",
        "\n",
        "def treino():\n",
        "  erro_total = 1\n",
        "\n",
        "  while erro_total != 0:\n",
        "    erro_total = 0\n",
        "    for i in range(len(saidas)):\n",
        "      saida_calculada = calcula_saida(entradas[i])\n",
        "      erro = saidas[i] - saida_calculada\n",
        "      erro_total = erro_total + erro\n",
        "\n",
        "      print(f\"\\t--------------------------------\")\n",
        "      print(f\"\\tDado: {i}\")\n",
        "\n",
        "      for j in range(len(pesos)):\n",
        "        pesos[j] = pesos[j] + (entradas[i][j] * erro * taxa_aprendizagem)\n",
        "        print(f\"\\t\\tPeso atualizado {j}: {pesos[j]}\")\n",
        "        pesos_finais[j] = pesos[j]\n",
        "      print(\"Total de erros:\",erro_total)\n",
        "\n",
        "  print(f\"\\t\\t\\n\\nPesos Finais: {pesos_finais}\")\n",
        "\n"
      ]
    },
    {
      "cell_type": "code",
      "execution_count": null,
      "metadata": {
        "id": "8RBVaXkn6JU9"
      },
      "outputs": [],
      "source": [
        "treino()"
      ]
    },
    {
      "cell_type": "code",
      "execution_count": null,
      "metadata": {
        "id": "lWKnJ2gS6JU9"
      },
      "outputs": [],
      "source": [
        ""
      ]
    },
    {
      "cell_type": "markdown",
      "metadata": {
        "id": "IqrojGEU6JU-"
      },
      "source": [
        "## Para casa\n",
        "\n",
        "Altere os valores dos pesos iniciais e da taxa de aprendizagem e observe o impacto no treinamento da rede. \n",
        "\n",
        "Note que eventualmente você pode chegar em uma configuração que a rede não converge para os pesos adequados (ou seja, o laço `while` continua a rodar infinitamente. Se isso ocorrer, pare a execução no botão STOP (interrupt the kernel), ou vá em Kernel > Restart. "
      ]
    },
    {
      "cell_type": "code",
      "execution_count": null,
      "metadata": {
        "id": "AjeD5llm6JU-"
      },
      "outputs": [],
      "source": [
        ""
      ]
    }
  ],
  "metadata": {
    "kernelspec": {
      "display_name": "Python 3",
      "language": "python",
      "name": "python3"
    },
    "language_info": {
      "codemirror_mode": {
        "name": "ipython",
        "version": 3
      },
      "file_extension": ".py",
      "mimetype": "text/x-python",
      "name": "python",
      "nbconvert_exporter": "python",
      "pygments_lexer": "ipython3",
      "version": "3.7.3"
    },
    "colab": {
      "name": "Treinamento do Perceptro.ipynb",
      "provenance": []
    }
  },
  "nbformat": 4,
  "nbformat_minor": 0
}