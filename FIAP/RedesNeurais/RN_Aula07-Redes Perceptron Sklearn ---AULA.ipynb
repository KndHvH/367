{
 "cells": [
  {
   "cell_type": "markdown",
   "metadata": {
    "id": "2zJ4a5PfpwVs",
    "pycharm": {
     "name": "#%% md\n"
    }
   },
   "source": [
    "FIAP - Redes Neurais Artificiais, Deep Learning e Algoritmos Genéticos \n",
    "\n",
    "# Aula 07 - Redes Perceptron com Sklearn\n",
    "\n",
    "Vamos utilizar o [Iris dataset](https://archive.ics.uci.edu/ml/datasets/iris) para modelar Redes Neruais baseadas no Perceptron"
   ]
  },
  {
   "cell_type": "code",
   "execution_count": null,
   "outputs": [
    {
     "name": "stdout",
     "output_type": "stream",
     "text": [
      "Requirement already satisfied: pandas in c:\\users\\mathe\\pycharmprojects\\pythonproject\\venv\\lib\\site-packages (1.4.2)\n",
      "Requirement already satisfied: pytz>=2020.1 in c:\\users\\mathe\\pycharmprojects\\pythonproject\\venv\\lib\\site-packages (from pandas) (2022.1)\n",
      "Requirement already satisfied: numpy>=1.21.0 in c:\\users\\mathe\\pycharmprojects\\pythonproject\\venv\\lib\\site-packages (from pandas) (1.22.3)\n",
      "Requirement already satisfied: python-dateutil>=2.8.1 in c:\\users\\mathe\\pycharmprojects\\pythonproject\\venv\\lib\\site-packages (from pandas) (2.8.2)\n",
      "Requirement already satisfied: six>=1.5 in c:\\users\\mathe\\pycharmprojects\\pythonproject\\venv\\lib\\site-packages (from python-dateutil>=2.8.1->pandas) (1.16.0)\n"
     ]
    },
    {
     "name": "stderr",
     "output_type": "stream",
     "text": [
      "WARNING: You are using pip version 21.3.1; however, version 22.0.4 is available.\n",
      "You should consider upgrading via the 'C:\\Users\\mathe\\PycharmProjects\\pythonProject\\venv\\Scripts\\python.exe -m pip install --upgrade pip' command.\n",
      "ERROR: Could not find a version that satisfies the requirement warnings (from versions: none)\n",
      "ERROR: No matching distribution found for warnings\n",
      "WARNING: You are using pip version 21.3.1; however, version 22.0.4 is available.\n",
      "You should consider upgrading via the 'C:\\Users\\mathe\\PycharmProjects\\pythonProject\\venv\\Scripts\\python.exe -m pip install --upgrade pip' command.\n"
     ]
    }
   ],
   "source": [
    "!pip install pandas\n",
    "!pip install warnings\n",
    "!pip install seaborn\n"
   ],
   "metadata": {
    "collapsed": false,
    "pycharm": {
     "name": "#%%\n",
     "is_executing": true
    }
   }
  },
  {
   "cell_type": "code",
   "execution_count": null,
   "metadata": {
    "executionInfo": {
     "elapsed": 1846,
     "status": "ok",
     "timestamp": 1603760217335,
     "user": {
      "displayName": "Thais Rodrigues Neubauer",
      "photoUrl": "https://lh3.googleusercontent.com/a-/AOh14GgmOUNQ0X3l6ckfa9x5ujB2P5C0QQqglAl44VHZNw=s64",
      "userId": "03562214994457129962"
     },
     "user_tz": 180
    },
    "id": "IyCP5bxeig04",
    "pycharm": {
     "name": "#%%\n",
     "is_executing": true
    }
   },
   "outputs": [],
   "source": [
    "# Apenas para evitar warnings \n",
    "import warnings\n",
    "warnings.filterwarnings('ignore')\n",
    "\n",
    "# Bibliotecas de Data Science\n",
    "import pandas as pd\n",
    "import seaborn as sns \n",
    "\n",
    "# Separação dos dados\n",
    "from sklearn.model_selection import train_test_split\n",
    "\n",
    "# Modelos a serem utilizados\n",
    "from sklearn.linear_model import Perceptron\n",
    "from sklearn.neural_network import MLPClassifier\n",
    "\n",
    "# Métricas de avaliação\n",
    "from sklearn.metrics import plot_confusion_matrix\n",
    "from sklearn.metrics import accuracy_score"
   ]
  },
  {
   "cell_type": "markdown",
   "metadata": {
    "id": "j_U-ATvMiaoG",
    "pycharm": {
     "name": "#%% md\n"
    }
   },
   "source": [
    "## Lendo o dataset\n",
    "\n",
    "Como se trata de um dataset MUITO famoso em Ciência de Dados, o próprio sklearn já possui os dados salvos"
   ]
  },
  {
   "cell_type": "code",
   "execution_count": null,
   "metadata": {
    "colab": {
     "base_uri": "https://localhost:8080/",
     "height": 204
    },
    "executionInfo": {
     "elapsed": 1803,
     "status": "ok",
     "timestamp": 1603719907877,
     "user": {
      "displayName": "Thais Rodrigues Neubauer",
      "photoUrl": "https://lh3.googleusercontent.com/a-/AOh14GgmOUNQ0X3l6ckfa9x5ujB2P5C0QQqglAl44VHZNw=s64",
      "userId": "03562214994457129962"
     },
     "user_tz": 180
    },
    "id": "PRiN_EnHU1jE",
    "outputId": "4c766ceb-4159-4424-a3d4-eeb59d051aba",
    "pycharm": {
     "name": "#%%\n",
     "is_executing": true
    }
   },
   "outputs": [],
   "source": [
    "from sklearn.datasets import load_iris\n",
    "iris = load_iris()\n",
    "iris"
   ]
  },
  {
   "cell_type": "code",
   "execution_count": null,
   "metadata": {
    "pycharm": {
     "name": "#%%\n",
     "is_executing": true
    }
   },
   "outputs": [],
   "source": [
    "# Podemos fuçar em parâmetros prontos do dataset, por exemplo, o nome das classes\n",
    "iris.target_names"
   ]
  },
  {
   "cell_type": "code",
   "execution_count": null,
   "metadata": {
    "pycharm": {
     "name": "#%%\n",
     "is_executing": true
    }
   },
   "outputs": [],
   "source": [
    "# Transformando em Dataframe Pandas: \n",
    "#   - os dados são iris.data\n",
    "#   - as colunas são os nomes das características\n"
   ]
  },
  {
   "cell_type": "code",
   "execution_count": null,
   "metadata": {
    "colab": {
     "base_uri": "https://localhost:8080/",
     "height": 34
    },
    "executionInfo": {
     "elapsed": 1759,
     "status": "ok",
     "timestamp": 1603719907878,
     "user": {
      "displayName": "Thais Rodrigues Neubauer",
      "photoUrl": "https://lh3.googleusercontent.com/a-/AOh14GgmOUNQ0X3l6ckfa9x5ujB2P5C0QQqglAl44VHZNw=s64",
      "userId": "03562214994457129962"
     },
     "user_tz": 180
    },
    "id": "tDpZtundrsns",
    "outputId": "8d695808-78c8-48fd-ae7e-7cec4d44ae36",
    "pycharm": {
     "name": "#%%\n",
     "is_executing": true
    }
   },
   "outputs": [],
   "source": [
    "data = pd.DataFrame(iris.data, colums=iris.featured_names)\n",
    "data['class'] = iris.target\n",
    "data"
   ]
  },
  {
   "cell_type": "markdown",
   "metadata": {
    "pycharm": {
     "name": "#%% md\n"
    }
   },
   "source": [
    "## Dividindo os dados em TREINO e TESTE"
   ]
  },
  {
   "cell_type": "code",
   "execution_count": null,
   "metadata": {
    "pycharm": {
     "name": "#%%\n"
    }
   },
   "outputs": [],
   "source": []
  },
  {
   "cell_type": "markdown",
   "metadata": {
    "id": "4IYJwPZR15bP",
    "pycharm": {
     "name": "#%% md\n"
    }
   },
   "source": [
    "## Perceptron\n",
    "\n",
    "Vamos começar trabalhando com uma rede bem básica: o Perceptron"
   ]
  },
  {
   "cell_type": "code",
   "execution_count": null,
   "metadata": {
    "pycharm": {
     "name": "#%%\n"
    }
   },
   "outputs": [],
   "source": [
    "# Cria um perceptron e o treina (com o fit())\n"
   ]
  },
  {
   "cell_type": "code",
   "execution_count": null,
   "metadata": {
    "pycharm": {
     "name": "#%%\n"
    }
   },
   "outputs": [],
   "source": [
    "# Salva as predições do TESTE na variável y_pred\n"
   ]
  },
  {
   "cell_type": "code",
   "execution_count": null,
   "metadata": {
    "pycharm": {
     "name": "#%%\n"
    }
   },
   "outputs": [],
   "source": []
  },
  {
   "cell_type": "code",
   "execution_count": null,
   "metadata": {
    "pycharm": {
     "name": "#%%\n"
    }
   },
   "outputs": [],
   "source": []
  },
  {
   "cell_type": "code",
   "execution_count": null,
   "metadata": {
    "pycharm": {
     "name": "#%%\n"
    }
   },
   "outputs": [],
   "source": [
    "# Calcula a acurácia deste perceptron, por meio dos valores preditos para o teste\n",
    "# e os valores reais \n"
   ]
  },
  {
   "cell_type": "code",
   "execution_count": null,
   "metadata": {
    "pycharm": {
     "name": "#%%\n"
    }
   },
   "outputs": [],
   "source": [
    "# Estes são os pesos já treinados, sendo 3 classes (linhas) e 4 colunas (features)\n"
   ]
  },
  {
   "cell_type": "code",
   "execution_count": null,
   "metadata": {
    "pycharm": {
     "name": "#%%\n"
    }
   },
   "outputs": [],
   "source": [
    "# Estes são os bias do perceptron\n"
   ]
  },
  {
   "cell_type": "code",
   "execution_count": null,
   "metadata": {
    "pycharm": {
     "name": "#%%\n"
    }
   },
   "outputs": [],
   "source": [
    "# Matriz de confusão do perceptron\n"
   ]
  },
  {
   "cell_type": "code",
   "execution_count": null,
   "metadata": {
    "pycharm": {
     "name": "#%%\n"
    }
   },
   "outputs": [],
   "source": []
  },
  {
   "cell_type": "markdown",
   "metadata": {
    "pycharm": {
     "name": "#%% md\n"
    }
   },
   "source": [
    "## Uma análise do resultado do Perceptron\n",
    "\n",
    "Resultado não foi muito bom ne? Mas faz sentido porque esse tipo de rede resolve bem problemas LINEARMENTE SEPARÁVEIS. Será que é o caso deste dataset? "
   ]
  },
  {
   "cell_type": "code",
   "execution_count": null,
   "metadata": {
    "id": "l2fijjx96kqF",
    "pycharm": {
     "name": "#%%\n"
    }
   },
   "outputs": [],
   "source": [
    "sns.pairplot( data=data, vars=('sepal length (cm)', \\\n",
    "                               'sepal width (cm)', \\\n",
    "                               'petal length (cm)', \\\n",
    "                               'petal width (cm)'), \\\n",
    "             hue='class' );"
   ]
  },
  {
   "cell_type": "markdown",
   "metadata": {
    "id": "mqv0wN4Q3maW",
    "pycharm": {
     "name": "#%% md\n"
    }
   },
   "source": [
    "## Multi-layer Perceptron (MLP)\n",
    "\n",
    "Veja [aqui](https://scikit-learn.org/stable/modules/generated/sklearn.neural_network.MLPClassifier.html#sklearn.neural_network.MLPClassifier) todos os parâmetros e seus significados.\n",
    "\n",
    "Vamos começar com a arquitetura mais simples: \n",
    "\n",
    "![Arquitetura inicial](https://miro.medium.com/max/381/1*Pff-9bCGTqE6iMW2sBSTmw.png)"
   ]
  },
  {
   "cell_type": "code",
   "execution_count": null,
   "metadata": {
    "executionInfo": {
     "elapsed": 2054,
     "status": "ok",
     "timestamp": 1603719908378,
     "user": {
      "displayName": "Thais Rodrigues Neubauer",
      "photoUrl": "https://lh3.googleusercontent.com/a-/AOh14GgmOUNQ0X3l6ckfa9x5ujB2P5C0QQqglAl44VHZNw=s64",
      "userId": "03562214994457129962"
     },
     "user_tz": 180
    },
    "id": "npR4pO0v3lcg",
    "pycharm": {
     "name": "#%%\n"
    }
   },
   "outputs": [],
   "source": [
    "#Arquitetura \n"
   ]
  },
  {
   "cell_type": "markdown",
   "metadata": {
    "id": "l2S_xrof6zE1",
    "pycharm": {
     "name": "#%% md\n"
    }
   },
   "source": [
    "### Ajustando parâmetros...\n",
    "\n",
    "Comparando os diferentes resultados alcançados com a alteração de parâmetros, fica clara (mais uma vez) a **importância de ajustar esses parâmetros**."
   ]
  },
  {
   "cell_type": "code",
   "execution_count": null,
   "metadata": {
    "colab": {
     "base_uri": "https://localhost:8080/",
     "height": 279
    },
    "executionInfo": {
     "elapsed": 2172,
     "status": "ok",
     "timestamp": 1603719908674,
     "user": {
      "displayName": "Thais Rodrigues Neubauer",
      "photoUrl": "https://lh3.googleusercontent.com/a-/AOh14GgmOUNQ0X3l6ckfa9x5ujB2P5C0QQqglAl44VHZNw=s64",
      "userId": "03562214994457129962"
     },
     "user_tz": 180
    },
    "id": "3jm47-Hv4vgI",
    "outputId": "99783647-72c1-4e73-bc52-0fb4c90b58de",
    "pycharm": {
     "name": "#%%\n"
    }
   },
   "outputs": [],
   "source": [
    "#Alterando a função de ativação...\n"
   ]
  },
  {
   "cell_type": "code",
   "execution_count": null,
   "metadata": {
    "colab": {
     "base_uri": "https://localhost:8080/",
     "height": 279
    },
    "executionInfo": {
     "elapsed": 2391,
     "status": "ok",
     "timestamp": 1603719908939,
     "user": {
      "displayName": "Thais Rodrigues Neubauer",
      "photoUrl": "https://lh3.googleusercontent.com/a-/AOh14GgmOUNQ0X3l6ckfa9x5ujB2P5C0QQqglAl44VHZNw=s64",
      "userId": "03562214994457129962"
     },
     "user_tz": 180
    },
    "id": "PzG1eDxw5fKh",
    "outputId": "a463bd7f-de5d-4104-a16e-041cc15e9784",
    "pycharm": {
     "name": "#%%\n"
    }
   },
   "outputs": [],
   "source": [
    "#Alterando o solver para o que a própria documentação aconselha para datasets menores\n"
   ]
  },
  {
   "cell_type": "code",
   "execution_count": null,
   "metadata": {
    "colab": {
     "base_uri": "https://localhost:8080/",
     "height": 279
    },
    "executionInfo": {
     "elapsed": 2696,
     "status": "ok",
     "timestamp": 1603719909276,
     "user": {
      "displayName": "Thais Rodrigues Neubauer",
      "photoUrl": "https://lh3.googleusercontent.com/a-/AOh14GgmOUNQ0X3l6ckfa9x5ujB2P5C0QQqglAl44VHZNw=s64",
      "userId": "03562214994457129962"
     },
     "user_tz": 180
    },
    "id": "dnL19VrBIX68",
    "outputId": "ac3d14ff-99b4-41c8-eeb9-c39ecedc723a",
    "pycharm": {
     "name": "#%%\n"
    }
   },
   "outputs": [],
   "source": [
    "#Testando outra arquitetura...\n"
   ]
  },
  {
   "cell_type": "markdown",
   "metadata": {
    "id": "qa4FWggn8vSu",
    "pycharm": {
     "name": "#%% md\n"
    }
   },
   "source": [
    "### Pesos da rede"
   ]
  },
  {
   "cell_type": "code",
   "execution_count": null,
   "metadata": {
    "colab": {
     "base_uri": "https://localhost:8080/",
     "height": 306
    },
    "executionInfo": {
     "elapsed": 3291,
     "status": "ok",
     "timestamp": 1603719909998,
     "user": {
      "displayName": "Thais Rodrigues Neubauer",
      "photoUrl": "https://lh3.googleusercontent.com/a-/AOh14GgmOUNQ0X3l6ckfa9x5ujB2P5C0QQqglAl44VHZNw=s64",
      "userId": "03562214994457129962"
     },
     "user_tz": 180
    },
    "id": "HNhifDZ28zZm",
    "outputId": "351fc851-7410-4ed4-f89f-fe4897e0ecbc",
    "pycharm": {
     "name": "#%%\n"
    }
   },
   "outputs": [],
   "source": [
    "print(\"pesos entre a camada de ENTRADA (4 neurônios) e a 1ª CAMADA OCULTA (5 neurônios):\")\n",
    "print(mlp.coefs_[0])\n",
    "print(\"\\npesos entre 1ª CAMADA OCULTA (5 neurônios) e a 2ª CAMADA OCULTA (3 neurônios):\")\n",
    "print(mlp.coefs_[1])\n",
    "print(\"\\npesos entre 2ª CAMADA OCULTA (3 neurônios) e camada de SAÍDA (3 neurônios):\")\n",
    "print(mlp.coefs_[2])"
   ]
  },
  {
   "cell_type": "code",
   "execution_count": null,
   "metadata": {
    "executionInfo": {
     "elapsed": 395946,
     "status": "ok",
     "timestamp": 1603720302863,
     "user": {
      "displayName": "Thais Rodrigues Neubauer",
      "photoUrl": "https://lh3.googleusercontent.com/a-/AOh14GgmOUNQ0X3l6ckfa9x5ujB2P5C0QQqglAl44VHZNw=s64",
      "userId": "03562214994457129962"
     },
     "user_tz": 180
    },
    "id": "yobVJSkyGUt2",
    "pycharm": {
     "name": "#%%\n"
    }
   },
   "outputs": [],
   "source": []
  }
 ],
 "metadata": {
  "colab": {
   "authorship_tag": "ABX9TyN12bunyGzaTi3b+wuO9iLQ",
   "collapsed_sections": [],
   "name": "Perceptron",
   "provenance": []
  },
  "kernelspec": {
   "display_name": "Python 3",
   "language": "python",
   "name": "python3"
  },
  "language_info": {
   "codemirror_mode": {
    "name": "ipython",
    "version": 3
   },
   "file_extension": ".py",
   "mimetype": "text/x-python",
   "name": "python",
   "nbconvert_exporter": "python",
   "pygments_lexer": "ipython3",
   "version": "3.7.3"
  }
 },
 "nbformat": 4,
 "nbformat_minor": 1
}