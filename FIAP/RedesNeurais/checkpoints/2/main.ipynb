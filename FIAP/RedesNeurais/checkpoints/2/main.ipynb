{
 "cells": [
  {
   "cell_type": "code",
   "execution_count": 239,
   "metadata": {
    "collapsed": true,
    "pycharm": {
     "name": "#%%\n"
    }
   },
   "outputs": [],
   "source": [
    "import pandas as pd\n",
    "from sklearn.model_selection import train_test_split\n",
    "from sklearn.linear_model import LinearRegression\n",
    "from sklearn.preprocessing import MinMaxScaler\n",
    "from sklearn import metrics\n",
    "import matplotlib.pyplot as plt\n",
    "from sklearn.neighbors import KNeighborsRegressor\n",
    "from sklearn.ensemble import RandomForestRegressor\n",
    "from sklearn.ensemble import HistGradientBoostingRegressor\n",
    "import xgboost as xgb\n",
    "from sklearn.neural_network import MLPRegressor\n",
    "from sklearn.svm import SVR"
   ]
  },
  {
   "cell_type": "code",
   "execution_count": 240,
   "outputs": [],
   "source": [
    "df = pd.read_csv('https://tinyurl.com/alugueis-sp-df')"
   ],
   "metadata": {
    "collapsed": false,
    "pycharm": {
     "name": "#%%\n"
    }
   }
  },
  {
   "cell_type": "code",
   "execution_count": 241,
   "outputs": [
    {
     "data": {
      "text/plain": "        Price  Condo  Size  Rooms  Toilets  Suites  Parking  Elevator  \\\n0         930    220    47      2        2       1        1         0   \n1        1000    148    45      2        2       1        1         0   \n2        1000    100    48      2        2       1        1         0   \n3        1000    200    48      2        2       1        1         0   \n4        1300    410    55      2        2       1        1         1   \n...       ...    ...   ...    ...      ...     ...      ...       ...   \n13635  265000    420    51      2        1       0        1         0   \n13636  545000    630    74      3        2       1        2         0   \n13637  515000   1100   114      3        3       1        1         0   \n13638  345000     48    39      1        2       1        1         0   \n13639  161987      0    44      2        1       0        1         0   \n\n       Furnished  Swimming Pool  New                 District  \\\n0              0              0    0    Artur Alvim/São Paulo   \n1              0              0    0    Artur Alvim/São Paulo   \n2              0              0    0    Artur Alvim/São Paulo   \n3              0              0    0    Artur Alvim/São Paulo   \n4              0              0    0    Artur Alvim/São Paulo   \n...          ...            ...  ...                      ...   \n13635          0              0    0      Jabaquara/São Paulo   \n13636          0              1    0      Jabaquara/São Paulo   \n13637          0              1    0      Jabaquara/São Paulo   \n13638          1              1    0      Jabaquara/São Paulo   \n13639          0              0    0  Jardim Ângela/São Paulo   \n\n      Negotiation Type Property Type   Latitude  Longitude  \n0                 rent     apartment -23.543138 -46.479486  \n1                 rent     apartment -23.550239 -46.480718  \n2                 rent     apartment -23.542818 -46.485665  \n3                 rent     apartment -23.547171 -46.483014  \n4                 rent     apartment -23.525025 -46.482436  \n...                ...           ...        ...        ...  \n13635             sale     apartment -23.653004 -46.635463  \n13636             sale     apartment -23.648930 -46.641982  \n13637             sale     apartment -23.649693 -46.649783  \n13638             sale     apartment -23.652060 -46.637046  \n13639             sale     apartment -23.613391 -46.523109  \n\n[13640 rows x 16 columns]",
      "text/html": "<div>\n<style scoped>\n    .dataframe tbody tr th:only-of-type {\n        vertical-align: middle;\n    }\n\n    .dataframe tbody tr th {\n        vertical-align: top;\n    }\n\n    .dataframe thead th {\n        text-align: right;\n    }\n</style>\n<table border=\"1\" class=\"dataframe\">\n  <thead>\n    <tr style=\"text-align: right;\">\n      <th></th>\n      <th>Price</th>\n      <th>Condo</th>\n      <th>Size</th>\n      <th>Rooms</th>\n      <th>Toilets</th>\n      <th>Suites</th>\n      <th>Parking</th>\n      <th>Elevator</th>\n      <th>Furnished</th>\n      <th>Swimming Pool</th>\n      <th>New</th>\n      <th>District</th>\n      <th>Negotiation Type</th>\n      <th>Property Type</th>\n      <th>Latitude</th>\n      <th>Longitude</th>\n    </tr>\n  </thead>\n  <tbody>\n    <tr>\n      <th>0</th>\n      <td>930</td>\n      <td>220</td>\n      <td>47</td>\n      <td>2</td>\n      <td>2</td>\n      <td>1</td>\n      <td>1</td>\n      <td>0</td>\n      <td>0</td>\n      <td>0</td>\n      <td>0</td>\n      <td>Artur Alvim/São Paulo</td>\n      <td>rent</td>\n      <td>apartment</td>\n      <td>-23.543138</td>\n      <td>-46.479486</td>\n    </tr>\n    <tr>\n      <th>1</th>\n      <td>1000</td>\n      <td>148</td>\n      <td>45</td>\n      <td>2</td>\n      <td>2</td>\n      <td>1</td>\n      <td>1</td>\n      <td>0</td>\n      <td>0</td>\n      <td>0</td>\n      <td>0</td>\n      <td>Artur Alvim/São Paulo</td>\n      <td>rent</td>\n      <td>apartment</td>\n      <td>-23.550239</td>\n      <td>-46.480718</td>\n    </tr>\n    <tr>\n      <th>2</th>\n      <td>1000</td>\n      <td>100</td>\n      <td>48</td>\n      <td>2</td>\n      <td>2</td>\n      <td>1</td>\n      <td>1</td>\n      <td>0</td>\n      <td>0</td>\n      <td>0</td>\n      <td>0</td>\n      <td>Artur Alvim/São Paulo</td>\n      <td>rent</td>\n      <td>apartment</td>\n      <td>-23.542818</td>\n      <td>-46.485665</td>\n    </tr>\n    <tr>\n      <th>3</th>\n      <td>1000</td>\n      <td>200</td>\n      <td>48</td>\n      <td>2</td>\n      <td>2</td>\n      <td>1</td>\n      <td>1</td>\n      <td>0</td>\n      <td>0</td>\n      <td>0</td>\n      <td>0</td>\n      <td>Artur Alvim/São Paulo</td>\n      <td>rent</td>\n      <td>apartment</td>\n      <td>-23.547171</td>\n      <td>-46.483014</td>\n    </tr>\n    <tr>\n      <th>4</th>\n      <td>1300</td>\n      <td>410</td>\n      <td>55</td>\n      <td>2</td>\n      <td>2</td>\n      <td>1</td>\n      <td>1</td>\n      <td>1</td>\n      <td>0</td>\n      <td>0</td>\n      <td>0</td>\n      <td>Artur Alvim/São Paulo</td>\n      <td>rent</td>\n      <td>apartment</td>\n      <td>-23.525025</td>\n      <td>-46.482436</td>\n    </tr>\n    <tr>\n      <th>...</th>\n      <td>...</td>\n      <td>...</td>\n      <td>...</td>\n      <td>...</td>\n      <td>...</td>\n      <td>...</td>\n      <td>...</td>\n      <td>...</td>\n      <td>...</td>\n      <td>...</td>\n      <td>...</td>\n      <td>...</td>\n      <td>...</td>\n      <td>...</td>\n      <td>...</td>\n      <td>...</td>\n    </tr>\n    <tr>\n      <th>13635</th>\n      <td>265000</td>\n      <td>420</td>\n      <td>51</td>\n      <td>2</td>\n      <td>1</td>\n      <td>0</td>\n      <td>1</td>\n      <td>0</td>\n      <td>0</td>\n      <td>0</td>\n      <td>0</td>\n      <td>Jabaquara/São Paulo</td>\n      <td>sale</td>\n      <td>apartment</td>\n      <td>-23.653004</td>\n      <td>-46.635463</td>\n    </tr>\n    <tr>\n      <th>13636</th>\n      <td>545000</td>\n      <td>630</td>\n      <td>74</td>\n      <td>3</td>\n      <td>2</td>\n      <td>1</td>\n      <td>2</td>\n      <td>0</td>\n      <td>0</td>\n      <td>1</td>\n      <td>0</td>\n      <td>Jabaquara/São Paulo</td>\n      <td>sale</td>\n      <td>apartment</td>\n      <td>-23.648930</td>\n      <td>-46.641982</td>\n    </tr>\n    <tr>\n      <th>13637</th>\n      <td>515000</td>\n      <td>1100</td>\n      <td>114</td>\n      <td>3</td>\n      <td>3</td>\n      <td>1</td>\n      <td>1</td>\n      <td>0</td>\n      <td>0</td>\n      <td>1</td>\n      <td>0</td>\n      <td>Jabaquara/São Paulo</td>\n      <td>sale</td>\n      <td>apartment</td>\n      <td>-23.649693</td>\n      <td>-46.649783</td>\n    </tr>\n    <tr>\n      <th>13638</th>\n      <td>345000</td>\n      <td>48</td>\n      <td>39</td>\n      <td>1</td>\n      <td>2</td>\n      <td>1</td>\n      <td>1</td>\n      <td>0</td>\n      <td>1</td>\n      <td>1</td>\n      <td>0</td>\n      <td>Jabaquara/São Paulo</td>\n      <td>sale</td>\n      <td>apartment</td>\n      <td>-23.652060</td>\n      <td>-46.637046</td>\n    </tr>\n    <tr>\n      <th>13639</th>\n      <td>161987</td>\n      <td>0</td>\n      <td>44</td>\n      <td>2</td>\n      <td>1</td>\n      <td>0</td>\n      <td>1</td>\n      <td>0</td>\n      <td>0</td>\n      <td>0</td>\n      <td>0</td>\n      <td>Jardim Ângela/São Paulo</td>\n      <td>sale</td>\n      <td>apartment</td>\n      <td>-23.613391</td>\n      <td>-46.523109</td>\n    </tr>\n  </tbody>\n</table>\n<p>13640 rows × 16 columns</p>\n</div>"
     },
     "execution_count": 241,
     "metadata": {},
     "output_type": "execute_result"
    }
   ],
   "source": [
    "df"
   ],
   "metadata": {
    "collapsed": false,
    "pycharm": {
     "name": "#%%\n"
    }
   }
  },
  {
   "cell_type": "code",
   "execution_count": 242,
   "outputs": [
    {
     "data": {
      "text/plain": "array(['rent', 'sale'], dtype=object)"
     },
     "execution_count": 242,
     "metadata": {},
     "output_type": "execute_result"
    }
   ],
   "source": [
    "df[\"Negotiation Type\"].unique()"
   ],
   "metadata": {
    "collapsed": false,
    "pycharm": {
     "name": "#%%\n"
    }
   }
  },
  {
   "cell_type": "code",
   "execution_count": 243,
   "outputs": [],
   "source": [
    "salesDf = df[df[\"Negotiation Type\"] == \"sale\"]"
   ],
   "metadata": {
    "collapsed": false,
    "pycharm": {
     "name": "#%%\n"
    }
   }
  },
  {
   "cell_type": "code",
   "execution_count": 244,
   "outputs": [
    {
     "data": {
      "text/plain": "         Price  Condo  Size  Rooms  Toilets  Suites  Parking  Elevator  \\\n4901    732600   1000    74      1        2       1        2         1   \n4902   1990000   2400   164      4        5       2        3         1   \n4903    720000    700    70      2        2       1        1         1   \n4904   1680000   1580   155      3        5       3        2         1   \n4905   1200000    900    56      2        2       1        2         0   \n...        ...    ...   ...    ...      ...     ...      ...       ...   \n13635   265000    420    51      2        1       0        1         0   \n13636   545000    630    74      3        2       1        2         0   \n13637   515000   1100   114      3        3       1        1         0   \n13638   345000     48    39      1        2       1        1         0   \n13639   161987      0    44      2        1       0        1         0   \n\n       Furnished  Swimming Pool  New                 District  \\\n4901           0              1    0  Vila Madalena/São Paulo   \n4902           1              1    0  Vila Madalena/São Paulo   \n4903           0              1    1  Vila Madalena/São Paulo   \n4904           0              1    0  Vila Madalena/São Paulo   \n4905           1              1    0  Vila Madalena/São Paulo   \n...          ...            ...  ...                      ...   \n13635          0              0    0      Jabaquara/São Paulo   \n13636          0              1    0      Jabaquara/São Paulo   \n13637          0              1    0      Jabaquara/São Paulo   \n13638          1              1    0      Jabaquara/São Paulo   \n13639          0              0    0  Jardim Ângela/São Paulo   \n\n      Negotiation Type Property Type   Latitude  Longitude  \n4901              sale     apartment -23.552129 -46.692244  \n4902              sale     apartment -23.551613 -46.699106  \n4903              sale     apartment -23.547687 -46.692594  \n4904              sale     apartment -23.552590 -46.691104  \n4905              sale     apartment -23.553087 -46.697890  \n...                ...           ...        ...        ...  \n13635             sale     apartment -23.653004 -46.635463  \n13636             sale     apartment -23.648930 -46.641982  \n13637             sale     apartment -23.649693 -46.649783  \n13638             sale     apartment -23.652060 -46.637046  \n13639             sale     apartment -23.613391 -46.523109  \n\n[6412 rows x 16 columns]",
      "text/html": "<div>\n<style scoped>\n    .dataframe tbody tr th:only-of-type {\n        vertical-align: middle;\n    }\n\n    .dataframe tbody tr th {\n        vertical-align: top;\n    }\n\n    .dataframe thead th {\n        text-align: right;\n    }\n</style>\n<table border=\"1\" class=\"dataframe\">\n  <thead>\n    <tr style=\"text-align: right;\">\n      <th></th>\n      <th>Price</th>\n      <th>Condo</th>\n      <th>Size</th>\n      <th>Rooms</th>\n      <th>Toilets</th>\n      <th>Suites</th>\n      <th>Parking</th>\n      <th>Elevator</th>\n      <th>Furnished</th>\n      <th>Swimming Pool</th>\n      <th>New</th>\n      <th>District</th>\n      <th>Negotiation Type</th>\n      <th>Property Type</th>\n      <th>Latitude</th>\n      <th>Longitude</th>\n    </tr>\n  </thead>\n  <tbody>\n    <tr>\n      <th>4901</th>\n      <td>732600</td>\n      <td>1000</td>\n      <td>74</td>\n      <td>1</td>\n      <td>2</td>\n      <td>1</td>\n      <td>2</td>\n      <td>1</td>\n      <td>0</td>\n      <td>1</td>\n      <td>0</td>\n      <td>Vila Madalena/São Paulo</td>\n      <td>sale</td>\n      <td>apartment</td>\n      <td>-23.552129</td>\n      <td>-46.692244</td>\n    </tr>\n    <tr>\n      <th>4902</th>\n      <td>1990000</td>\n      <td>2400</td>\n      <td>164</td>\n      <td>4</td>\n      <td>5</td>\n      <td>2</td>\n      <td>3</td>\n      <td>1</td>\n      <td>1</td>\n      <td>1</td>\n      <td>0</td>\n      <td>Vila Madalena/São Paulo</td>\n      <td>sale</td>\n      <td>apartment</td>\n      <td>-23.551613</td>\n      <td>-46.699106</td>\n    </tr>\n    <tr>\n      <th>4903</th>\n      <td>720000</td>\n      <td>700</td>\n      <td>70</td>\n      <td>2</td>\n      <td>2</td>\n      <td>1</td>\n      <td>1</td>\n      <td>1</td>\n      <td>0</td>\n      <td>1</td>\n      <td>1</td>\n      <td>Vila Madalena/São Paulo</td>\n      <td>sale</td>\n      <td>apartment</td>\n      <td>-23.547687</td>\n      <td>-46.692594</td>\n    </tr>\n    <tr>\n      <th>4904</th>\n      <td>1680000</td>\n      <td>1580</td>\n      <td>155</td>\n      <td>3</td>\n      <td>5</td>\n      <td>3</td>\n      <td>2</td>\n      <td>1</td>\n      <td>0</td>\n      <td>1</td>\n      <td>0</td>\n      <td>Vila Madalena/São Paulo</td>\n      <td>sale</td>\n      <td>apartment</td>\n      <td>-23.552590</td>\n      <td>-46.691104</td>\n    </tr>\n    <tr>\n      <th>4905</th>\n      <td>1200000</td>\n      <td>900</td>\n      <td>56</td>\n      <td>2</td>\n      <td>2</td>\n      <td>1</td>\n      <td>2</td>\n      <td>0</td>\n      <td>1</td>\n      <td>1</td>\n      <td>0</td>\n      <td>Vila Madalena/São Paulo</td>\n      <td>sale</td>\n      <td>apartment</td>\n      <td>-23.553087</td>\n      <td>-46.697890</td>\n    </tr>\n    <tr>\n      <th>...</th>\n      <td>...</td>\n      <td>...</td>\n      <td>...</td>\n      <td>...</td>\n      <td>...</td>\n      <td>...</td>\n      <td>...</td>\n      <td>...</td>\n      <td>...</td>\n      <td>...</td>\n      <td>...</td>\n      <td>...</td>\n      <td>...</td>\n      <td>...</td>\n      <td>...</td>\n      <td>...</td>\n    </tr>\n    <tr>\n      <th>13635</th>\n      <td>265000</td>\n      <td>420</td>\n      <td>51</td>\n      <td>2</td>\n      <td>1</td>\n      <td>0</td>\n      <td>1</td>\n      <td>0</td>\n      <td>0</td>\n      <td>0</td>\n      <td>0</td>\n      <td>Jabaquara/São Paulo</td>\n      <td>sale</td>\n      <td>apartment</td>\n      <td>-23.653004</td>\n      <td>-46.635463</td>\n    </tr>\n    <tr>\n      <th>13636</th>\n      <td>545000</td>\n      <td>630</td>\n      <td>74</td>\n      <td>3</td>\n      <td>2</td>\n      <td>1</td>\n      <td>2</td>\n      <td>0</td>\n      <td>0</td>\n      <td>1</td>\n      <td>0</td>\n      <td>Jabaquara/São Paulo</td>\n      <td>sale</td>\n      <td>apartment</td>\n      <td>-23.648930</td>\n      <td>-46.641982</td>\n    </tr>\n    <tr>\n      <th>13637</th>\n      <td>515000</td>\n      <td>1100</td>\n      <td>114</td>\n      <td>3</td>\n      <td>3</td>\n      <td>1</td>\n      <td>1</td>\n      <td>0</td>\n      <td>0</td>\n      <td>1</td>\n      <td>0</td>\n      <td>Jabaquara/São Paulo</td>\n      <td>sale</td>\n      <td>apartment</td>\n      <td>-23.649693</td>\n      <td>-46.649783</td>\n    </tr>\n    <tr>\n      <th>13638</th>\n      <td>345000</td>\n      <td>48</td>\n      <td>39</td>\n      <td>1</td>\n      <td>2</td>\n      <td>1</td>\n      <td>1</td>\n      <td>0</td>\n      <td>1</td>\n      <td>1</td>\n      <td>0</td>\n      <td>Jabaquara/São Paulo</td>\n      <td>sale</td>\n      <td>apartment</td>\n      <td>-23.652060</td>\n      <td>-46.637046</td>\n    </tr>\n    <tr>\n      <th>13639</th>\n      <td>161987</td>\n      <td>0</td>\n      <td>44</td>\n      <td>2</td>\n      <td>1</td>\n      <td>0</td>\n      <td>1</td>\n      <td>0</td>\n      <td>0</td>\n      <td>0</td>\n      <td>0</td>\n      <td>Jardim Ângela/São Paulo</td>\n      <td>sale</td>\n      <td>apartment</td>\n      <td>-23.613391</td>\n      <td>-46.523109</td>\n    </tr>\n  </tbody>\n</table>\n<p>6412 rows × 16 columns</p>\n</div>"
     },
     "execution_count": 244,
     "metadata": {},
     "output_type": "execute_result"
    }
   ],
   "source": [
    "salesDf"
   ],
   "metadata": {
    "collapsed": false,
    "pycharm": {
     "name": "#%%\n"
    }
   }
  },
  {
   "cell_type": "code",
   "execution_count": 245,
   "outputs": [],
   "source": [
    "bairroDf = df['District'].str.split('/', expand=True)"
   ],
   "metadata": {
    "collapsed": false,
    "pycharm": {
     "name": "#%%\n"
    }
   }
  },
  {
   "cell_type": "code",
   "execution_count": 246,
   "outputs": [
    {
     "data": {
      "text/plain": "array(['sale'], dtype=object)"
     },
     "execution_count": 246,
     "metadata": {},
     "output_type": "execute_result"
    }
   ],
   "source": [
    "salesDf[\"Negotiation Type\"].unique()"
   ],
   "metadata": {
    "collapsed": false,
    "pycharm": {
     "name": "#%%\n"
    }
   }
  },
  {
   "cell_type": "code",
   "execution_count": 247,
   "outputs": [
    {
     "data": {
      "text/plain": "array(['apartment'], dtype=object)"
     },
     "execution_count": 247,
     "metadata": {},
     "output_type": "execute_result"
    }
   ],
   "source": [
    "salesDf[\"Property Type\"].unique()"
   ],
   "metadata": {
    "collapsed": false,
    "pycharm": {
     "name": "#%%\n"
    }
   }
  },
  {
   "cell_type": "code",
   "execution_count": 248,
   "outputs": [
    {
     "name": "stderr",
     "output_type": "stream",
     "text": [
      "C:\\Users\\mathe\\AppData\\Local\\Temp\\ipykernel_23212\\3596614005.py:1: SettingWithCopyWarning: \n",
      "A value is trying to be set on a copy of a slice from a DataFrame\n",
      "\n",
      "See the caveats in the documentation: https://pandas.pydata.org/pandas-docs/stable/user_guide/indexing.html#returning-a-view-versus-a-copy\n",
      "  salesDf.drop(columns=[\"Negotiation Type\",\"Property Type\"],inplace=True)\n"
     ]
    }
   ],
   "source": [
    "salesDf.drop(columns=[\"Negotiation Type\",\"Property Type\"],inplace=True)"
   ],
   "metadata": {
    "collapsed": false,
    "pycharm": {
     "name": "#%%\n"
    }
   }
  },
  {
   "cell_type": "code",
   "execution_count": 249,
   "outputs": [
    {
     "data": {
      "text/plain": "         Price  Condo  Size  Rooms  Toilets  Suites  Parking  Elevator  \\\n4901    732600   1000    74      1        2       1        2         1   \n4902   1990000   2400   164      4        5       2        3         1   \n4903    720000    700    70      2        2       1        1         1   \n4904   1680000   1580   155      3        5       3        2         1   \n4905   1200000    900    56      2        2       1        2         0   \n...        ...    ...   ...    ...      ...     ...      ...       ...   \n13635   265000    420    51      2        1       0        1         0   \n13636   545000    630    74      3        2       1        2         0   \n13637   515000   1100   114      3        3       1        1         0   \n13638   345000     48    39      1        2       1        1         0   \n13639   161987      0    44      2        1       0        1         0   \n\n       Furnished  Swimming Pool  New                 District   Latitude  \\\n4901           0              1    0  Vila Madalena/São Paulo -23.552129   \n4902           1              1    0  Vila Madalena/São Paulo -23.551613   \n4903           0              1    1  Vila Madalena/São Paulo -23.547687   \n4904           0              1    0  Vila Madalena/São Paulo -23.552590   \n4905           1              1    0  Vila Madalena/São Paulo -23.553087   \n...          ...            ...  ...                      ...        ...   \n13635          0              0    0      Jabaquara/São Paulo -23.653004   \n13636          0              1    0      Jabaquara/São Paulo -23.648930   \n13637          0              1    0      Jabaquara/São Paulo -23.649693   \n13638          1              1    0      Jabaquara/São Paulo -23.652060   \n13639          0              0    0  Jardim Ângela/São Paulo -23.613391   \n\n       Longitude  \n4901  -46.692244  \n4902  -46.699106  \n4903  -46.692594  \n4904  -46.691104  \n4905  -46.697890  \n...          ...  \n13635 -46.635463  \n13636 -46.641982  \n13637 -46.649783  \n13638 -46.637046  \n13639 -46.523109  \n\n[6412 rows x 14 columns]",
      "text/html": "<div>\n<style scoped>\n    .dataframe tbody tr th:only-of-type {\n        vertical-align: middle;\n    }\n\n    .dataframe tbody tr th {\n        vertical-align: top;\n    }\n\n    .dataframe thead th {\n        text-align: right;\n    }\n</style>\n<table border=\"1\" class=\"dataframe\">\n  <thead>\n    <tr style=\"text-align: right;\">\n      <th></th>\n      <th>Price</th>\n      <th>Condo</th>\n      <th>Size</th>\n      <th>Rooms</th>\n      <th>Toilets</th>\n      <th>Suites</th>\n      <th>Parking</th>\n      <th>Elevator</th>\n      <th>Furnished</th>\n      <th>Swimming Pool</th>\n      <th>New</th>\n      <th>District</th>\n      <th>Latitude</th>\n      <th>Longitude</th>\n    </tr>\n  </thead>\n  <tbody>\n    <tr>\n      <th>4901</th>\n      <td>732600</td>\n      <td>1000</td>\n      <td>74</td>\n      <td>1</td>\n      <td>2</td>\n      <td>1</td>\n      <td>2</td>\n      <td>1</td>\n      <td>0</td>\n      <td>1</td>\n      <td>0</td>\n      <td>Vila Madalena/São Paulo</td>\n      <td>-23.552129</td>\n      <td>-46.692244</td>\n    </tr>\n    <tr>\n      <th>4902</th>\n      <td>1990000</td>\n      <td>2400</td>\n      <td>164</td>\n      <td>4</td>\n      <td>5</td>\n      <td>2</td>\n      <td>3</td>\n      <td>1</td>\n      <td>1</td>\n      <td>1</td>\n      <td>0</td>\n      <td>Vila Madalena/São Paulo</td>\n      <td>-23.551613</td>\n      <td>-46.699106</td>\n    </tr>\n    <tr>\n      <th>4903</th>\n      <td>720000</td>\n      <td>700</td>\n      <td>70</td>\n      <td>2</td>\n      <td>2</td>\n      <td>1</td>\n      <td>1</td>\n      <td>1</td>\n      <td>0</td>\n      <td>1</td>\n      <td>1</td>\n      <td>Vila Madalena/São Paulo</td>\n      <td>-23.547687</td>\n      <td>-46.692594</td>\n    </tr>\n    <tr>\n      <th>4904</th>\n      <td>1680000</td>\n      <td>1580</td>\n      <td>155</td>\n      <td>3</td>\n      <td>5</td>\n      <td>3</td>\n      <td>2</td>\n      <td>1</td>\n      <td>0</td>\n      <td>1</td>\n      <td>0</td>\n      <td>Vila Madalena/São Paulo</td>\n      <td>-23.552590</td>\n      <td>-46.691104</td>\n    </tr>\n    <tr>\n      <th>4905</th>\n      <td>1200000</td>\n      <td>900</td>\n      <td>56</td>\n      <td>2</td>\n      <td>2</td>\n      <td>1</td>\n      <td>2</td>\n      <td>0</td>\n      <td>1</td>\n      <td>1</td>\n      <td>0</td>\n      <td>Vila Madalena/São Paulo</td>\n      <td>-23.553087</td>\n      <td>-46.697890</td>\n    </tr>\n    <tr>\n      <th>...</th>\n      <td>...</td>\n      <td>...</td>\n      <td>...</td>\n      <td>...</td>\n      <td>...</td>\n      <td>...</td>\n      <td>...</td>\n      <td>...</td>\n      <td>...</td>\n      <td>...</td>\n      <td>...</td>\n      <td>...</td>\n      <td>...</td>\n      <td>...</td>\n    </tr>\n    <tr>\n      <th>13635</th>\n      <td>265000</td>\n      <td>420</td>\n      <td>51</td>\n      <td>2</td>\n      <td>1</td>\n      <td>0</td>\n      <td>1</td>\n      <td>0</td>\n      <td>0</td>\n      <td>0</td>\n      <td>0</td>\n      <td>Jabaquara/São Paulo</td>\n      <td>-23.653004</td>\n      <td>-46.635463</td>\n    </tr>\n    <tr>\n      <th>13636</th>\n      <td>545000</td>\n      <td>630</td>\n      <td>74</td>\n      <td>3</td>\n      <td>2</td>\n      <td>1</td>\n      <td>2</td>\n      <td>0</td>\n      <td>0</td>\n      <td>1</td>\n      <td>0</td>\n      <td>Jabaquara/São Paulo</td>\n      <td>-23.648930</td>\n      <td>-46.641982</td>\n    </tr>\n    <tr>\n      <th>13637</th>\n      <td>515000</td>\n      <td>1100</td>\n      <td>114</td>\n      <td>3</td>\n      <td>3</td>\n      <td>1</td>\n      <td>1</td>\n      <td>0</td>\n      <td>0</td>\n      <td>1</td>\n      <td>0</td>\n      <td>Jabaquara/São Paulo</td>\n      <td>-23.649693</td>\n      <td>-46.649783</td>\n    </tr>\n    <tr>\n      <th>13638</th>\n      <td>345000</td>\n      <td>48</td>\n      <td>39</td>\n      <td>1</td>\n      <td>2</td>\n      <td>1</td>\n      <td>1</td>\n      <td>0</td>\n      <td>1</td>\n      <td>1</td>\n      <td>0</td>\n      <td>Jabaquara/São Paulo</td>\n      <td>-23.652060</td>\n      <td>-46.637046</td>\n    </tr>\n    <tr>\n      <th>13639</th>\n      <td>161987</td>\n      <td>0</td>\n      <td>44</td>\n      <td>2</td>\n      <td>1</td>\n      <td>0</td>\n      <td>1</td>\n      <td>0</td>\n      <td>0</td>\n      <td>0</td>\n      <td>0</td>\n      <td>Jardim Ângela/São Paulo</td>\n      <td>-23.613391</td>\n      <td>-46.523109</td>\n    </tr>\n  </tbody>\n</table>\n<p>6412 rows × 14 columns</p>\n</div>"
     },
     "execution_count": 249,
     "metadata": {},
     "output_type": "execute_result"
    }
   ],
   "source": [
    "salesDf"
   ],
   "metadata": {
    "collapsed": false,
    "pycharm": {
     "name": "#%%\n"
    }
   }
  },
  {
   "cell_type": "code",
   "execution_count": 250,
   "outputs": [
    {
     "name": "stderr",
     "output_type": "stream",
     "text": [
      "C:\\Users\\mathe\\AppData\\Local\\Temp\\ipykernel_23212\\2451100808.py:1: SettingWithCopyWarning: \n",
      "A value is trying to be set on a copy of a slice from a DataFrame\n",
      "\n",
      "See the caveats in the documentation: https://pandas.pydata.org/pandas-docs/stable/user_guide/indexing.html#returning-a-view-versus-a-copy\n",
      "  salesDf.drop(columns=[\"District\"],inplace=True)\n"
     ]
    }
   ],
   "source": [
    "salesDf.drop(columns=[\"District\"],inplace=True)"
   ],
   "metadata": {
    "collapsed": false,
    "pycharm": {
     "name": "#%%\n"
    }
   }
  },
  {
   "cell_type": "code",
   "execution_count": 251,
   "outputs": [],
   "source": [
    "finalDf = pd.concat([salesDf,bairroDf],axis=1,join=\"inner\")"
   ],
   "metadata": {
    "collapsed": false,
    "pycharm": {
     "name": "#%%\n"
    }
   }
  },
  {
   "cell_type": "code",
   "execution_count": 252,
   "outputs": [
    {
     "data": {
      "text/plain": "         Price  Condo  Size  Rooms  Toilets  Suites  Parking  Elevator  \\\n4901    732600   1000    74      1        2       1        2         1   \n4902   1990000   2400   164      4        5       2        3         1   \n4903    720000    700    70      2        2       1        1         1   \n4904   1680000   1580   155      3        5       3        2         1   \n4905   1200000    900    56      2        2       1        2         0   \n...        ...    ...   ...    ...      ...     ...      ...       ...   \n13635   265000    420    51      2        1       0        1         0   \n13636   545000    630    74      3        2       1        2         0   \n13637   515000   1100   114      3        3       1        1         0   \n13638   345000     48    39      1        2       1        1         0   \n13639   161987      0    44      2        1       0        1         0   \n\n       Furnished  Swimming Pool  New   Latitude  Longitude              0  \\\n4901           0              1    0 -23.552129 -46.692244  Vila Madalena   \n4902           1              1    0 -23.551613 -46.699106  Vila Madalena   \n4903           0              1    1 -23.547687 -46.692594  Vila Madalena   \n4904           0              1    0 -23.552590 -46.691104  Vila Madalena   \n4905           1              1    0 -23.553087 -46.697890  Vila Madalena   \n...          ...            ...  ...        ...        ...            ...   \n13635          0              0    0 -23.653004 -46.635463      Jabaquara   \n13636          0              1    0 -23.648930 -46.641982      Jabaquara   \n13637          0              1    0 -23.649693 -46.649783      Jabaquara   \n13638          1              1    0 -23.652060 -46.637046      Jabaquara   \n13639          0              0    0 -23.613391 -46.523109  Jardim Ângela   \n\n               1  \n4901   São Paulo  \n4902   São Paulo  \n4903   São Paulo  \n4904   São Paulo  \n4905   São Paulo  \n...          ...  \n13635  São Paulo  \n13636  São Paulo  \n13637  São Paulo  \n13638  São Paulo  \n13639  São Paulo  \n\n[6412 rows x 15 columns]",
      "text/html": "<div>\n<style scoped>\n    .dataframe tbody tr th:only-of-type {\n        vertical-align: middle;\n    }\n\n    .dataframe tbody tr th {\n        vertical-align: top;\n    }\n\n    .dataframe thead th {\n        text-align: right;\n    }\n</style>\n<table border=\"1\" class=\"dataframe\">\n  <thead>\n    <tr style=\"text-align: right;\">\n      <th></th>\n      <th>Price</th>\n      <th>Condo</th>\n      <th>Size</th>\n      <th>Rooms</th>\n      <th>Toilets</th>\n      <th>Suites</th>\n      <th>Parking</th>\n      <th>Elevator</th>\n      <th>Furnished</th>\n      <th>Swimming Pool</th>\n      <th>New</th>\n      <th>Latitude</th>\n      <th>Longitude</th>\n      <th>0</th>\n      <th>1</th>\n    </tr>\n  </thead>\n  <tbody>\n    <tr>\n      <th>4901</th>\n      <td>732600</td>\n      <td>1000</td>\n      <td>74</td>\n      <td>1</td>\n      <td>2</td>\n      <td>1</td>\n      <td>2</td>\n      <td>1</td>\n      <td>0</td>\n      <td>1</td>\n      <td>0</td>\n      <td>-23.552129</td>\n      <td>-46.692244</td>\n      <td>Vila Madalena</td>\n      <td>São Paulo</td>\n    </tr>\n    <tr>\n      <th>4902</th>\n      <td>1990000</td>\n      <td>2400</td>\n      <td>164</td>\n      <td>4</td>\n      <td>5</td>\n      <td>2</td>\n      <td>3</td>\n      <td>1</td>\n      <td>1</td>\n      <td>1</td>\n      <td>0</td>\n      <td>-23.551613</td>\n      <td>-46.699106</td>\n      <td>Vila Madalena</td>\n      <td>São Paulo</td>\n    </tr>\n    <tr>\n      <th>4903</th>\n      <td>720000</td>\n      <td>700</td>\n      <td>70</td>\n      <td>2</td>\n      <td>2</td>\n      <td>1</td>\n      <td>1</td>\n      <td>1</td>\n      <td>0</td>\n      <td>1</td>\n      <td>1</td>\n      <td>-23.547687</td>\n      <td>-46.692594</td>\n      <td>Vila Madalena</td>\n      <td>São Paulo</td>\n    </tr>\n    <tr>\n      <th>4904</th>\n      <td>1680000</td>\n      <td>1580</td>\n      <td>155</td>\n      <td>3</td>\n      <td>5</td>\n      <td>3</td>\n      <td>2</td>\n      <td>1</td>\n      <td>0</td>\n      <td>1</td>\n      <td>0</td>\n      <td>-23.552590</td>\n      <td>-46.691104</td>\n      <td>Vila Madalena</td>\n      <td>São Paulo</td>\n    </tr>\n    <tr>\n      <th>4905</th>\n      <td>1200000</td>\n      <td>900</td>\n      <td>56</td>\n      <td>2</td>\n      <td>2</td>\n      <td>1</td>\n      <td>2</td>\n      <td>0</td>\n      <td>1</td>\n      <td>1</td>\n      <td>0</td>\n      <td>-23.553087</td>\n      <td>-46.697890</td>\n      <td>Vila Madalena</td>\n      <td>São Paulo</td>\n    </tr>\n    <tr>\n      <th>...</th>\n      <td>...</td>\n      <td>...</td>\n      <td>...</td>\n      <td>...</td>\n      <td>...</td>\n      <td>...</td>\n      <td>...</td>\n      <td>...</td>\n      <td>...</td>\n      <td>...</td>\n      <td>...</td>\n      <td>...</td>\n      <td>...</td>\n      <td>...</td>\n      <td>...</td>\n    </tr>\n    <tr>\n      <th>13635</th>\n      <td>265000</td>\n      <td>420</td>\n      <td>51</td>\n      <td>2</td>\n      <td>1</td>\n      <td>0</td>\n      <td>1</td>\n      <td>0</td>\n      <td>0</td>\n      <td>0</td>\n      <td>0</td>\n      <td>-23.653004</td>\n      <td>-46.635463</td>\n      <td>Jabaquara</td>\n      <td>São Paulo</td>\n    </tr>\n    <tr>\n      <th>13636</th>\n      <td>545000</td>\n      <td>630</td>\n      <td>74</td>\n      <td>3</td>\n      <td>2</td>\n      <td>1</td>\n      <td>2</td>\n      <td>0</td>\n      <td>0</td>\n      <td>1</td>\n      <td>0</td>\n      <td>-23.648930</td>\n      <td>-46.641982</td>\n      <td>Jabaquara</td>\n      <td>São Paulo</td>\n    </tr>\n    <tr>\n      <th>13637</th>\n      <td>515000</td>\n      <td>1100</td>\n      <td>114</td>\n      <td>3</td>\n      <td>3</td>\n      <td>1</td>\n      <td>1</td>\n      <td>0</td>\n      <td>0</td>\n      <td>1</td>\n      <td>0</td>\n      <td>-23.649693</td>\n      <td>-46.649783</td>\n      <td>Jabaquara</td>\n      <td>São Paulo</td>\n    </tr>\n    <tr>\n      <th>13638</th>\n      <td>345000</td>\n      <td>48</td>\n      <td>39</td>\n      <td>1</td>\n      <td>2</td>\n      <td>1</td>\n      <td>1</td>\n      <td>0</td>\n      <td>1</td>\n      <td>1</td>\n      <td>0</td>\n      <td>-23.652060</td>\n      <td>-46.637046</td>\n      <td>Jabaquara</td>\n      <td>São Paulo</td>\n    </tr>\n    <tr>\n      <th>13639</th>\n      <td>161987</td>\n      <td>0</td>\n      <td>44</td>\n      <td>2</td>\n      <td>1</td>\n      <td>0</td>\n      <td>1</td>\n      <td>0</td>\n      <td>0</td>\n      <td>0</td>\n      <td>0</td>\n      <td>-23.613391</td>\n      <td>-46.523109</td>\n      <td>Jardim Ângela</td>\n      <td>São Paulo</td>\n    </tr>\n  </tbody>\n</table>\n<p>6412 rows × 15 columns</p>\n</div>"
     },
     "execution_count": 252,
     "metadata": {},
     "output_type": "execute_result"
    }
   ],
   "source": [
    "finalDf"
   ],
   "metadata": {
    "collapsed": false,
    "pycharm": {
     "name": "#%%\n"
    }
   }
  },
  {
   "cell_type": "code",
   "execution_count": 253,
   "outputs": [
    {
     "name": "stdout",
     "output_type": "stream",
     "text": [
      "<class 'pandas.core.frame.DataFrame'>\n",
      "Int64Index: 6412 entries, 4901 to 13639\n",
      "Data columns (total 15 columns):\n",
      " #   Column         Non-Null Count  Dtype  \n",
      "---  ------         --------------  -----  \n",
      " 0   Price          6412 non-null   int64  \n",
      " 1   Condo          6412 non-null   int64  \n",
      " 2   Size           6412 non-null   int64  \n",
      " 3   Rooms          6412 non-null   int64  \n",
      " 4   Toilets        6412 non-null   int64  \n",
      " 5   Suites         6412 non-null   int64  \n",
      " 6   Parking        6412 non-null   int64  \n",
      " 7   Elevator       6412 non-null   int64  \n",
      " 8   Furnished      6412 non-null   int64  \n",
      " 9   Swimming Pool  6412 non-null   int64  \n",
      " 10  New            6412 non-null   int64  \n",
      " 11  Latitude       6412 non-null   float64\n",
      " 12  Longitude      6412 non-null   float64\n",
      " 13  0              6412 non-null   object \n",
      " 14  1              6412 non-null   object \n",
      "dtypes: float64(2), int64(11), object(2)\n",
      "memory usage: 801.5+ KB\n"
     ]
    }
   ],
   "source": [
    "finalDf.info()"
   ],
   "metadata": {
    "collapsed": false,
    "pycharm": {
     "name": "#%%\n"
    }
   }
  },
  {
   "cell_type": "code",
   "execution_count": 254,
   "outputs": [],
   "source": [
    "finalDf.rename(columns={0: 'Bairro',1: 'CEDADE'},inplace=True)"
   ],
   "metadata": {
    "collapsed": false,
    "pycharm": {
     "name": "#%%\n"
    }
   }
  },
  {
   "cell_type": "code",
   "execution_count": 255,
   "outputs": [
    {
     "data": {
      "text/plain": "         Price  Condo  Size  Rooms  Toilets  Suites  Parking  Elevator  \\\n4901    732600   1000    74      1        2       1        2         1   \n4902   1990000   2400   164      4        5       2        3         1   \n4903    720000    700    70      2        2       1        1         1   \n4904   1680000   1580   155      3        5       3        2         1   \n4905   1200000    900    56      2        2       1        2         0   \n...        ...    ...   ...    ...      ...     ...      ...       ...   \n13635   265000    420    51      2        1       0        1         0   \n13636   545000    630    74      3        2       1        2         0   \n13637   515000   1100   114      3        3       1        1         0   \n13638   345000     48    39      1        2       1        1         0   \n13639   161987      0    44      2        1       0        1         0   \n\n       Furnished  Swimming Pool  New   Latitude  Longitude         Bairro  \\\n4901           0              1    0 -23.552129 -46.692244  Vila Madalena   \n4902           1              1    0 -23.551613 -46.699106  Vila Madalena   \n4903           0              1    1 -23.547687 -46.692594  Vila Madalena   \n4904           0              1    0 -23.552590 -46.691104  Vila Madalena   \n4905           1              1    0 -23.553087 -46.697890  Vila Madalena   \n...          ...            ...  ...        ...        ...            ...   \n13635          0              0    0 -23.653004 -46.635463      Jabaquara   \n13636          0              1    0 -23.648930 -46.641982      Jabaquara   \n13637          0              1    0 -23.649693 -46.649783      Jabaquara   \n13638          1              1    0 -23.652060 -46.637046      Jabaquara   \n13639          0              0    0 -23.613391 -46.523109  Jardim Ângela   \n\n          CEDADE  \n4901   São Paulo  \n4902   São Paulo  \n4903   São Paulo  \n4904   São Paulo  \n4905   São Paulo  \n...          ...  \n13635  São Paulo  \n13636  São Paulo  \n13637  São Paulo  \n13638  São Paulo  \n13639  São Paulo  \n\n[6412 rows x 15 columns]",
      "text/html": "<div>\n<style scoped>\n    .dataframe tbody tr th:only-of-type {\n        vertical-align: middle;\n    }\n\n    .dataframe tbody tr th {\n        vertical-align: top;\n    }\n\n    .dataframe thead th {\n        text-align: right;\n    }\n</style>\n<table border=\"1\" class=\"dataframe\">\n  <thead>\n    <tr style=\"text-align: right;\">\n      <th></th>\n      <th>Price</th>\n      <th>Condo</th>\n      <th>Size</th>\n      <th>Rooms</th>\n      <th>Toilets</th>\n      <th>Suites</th>\n      <th>Parking</th>\n      <th>Elevator</th>\n      <th>Furnished</th>\n      <th>Swimming Pool</th>\n      <th>New</th>\n      <th>Latitude</th>\n      <th>Longitude</th>\n      <th>Bairro</th>\n      <th>CEDADE</th>\n    </tr>\n  </thead>\n  <tbody>\n    <tr>\n      <th>4901</th>\n      <td>732600</td>\n      <td>1000</td>\n      <td>74</td>\n      <td>1</td>\n      <td>2</td>\n      <td>1</td>\n      <td>2</td>\n      <td>1</td>\n      <td>0</td>\n      <td>1</td>\n      <td>0</td>\n      <td>-23.552129</td>\n      <td>-46.692244</td>\n      <td>Vila Madalena</td>\n      <td>São Paulo</td>\n    </tr>\n    <tr>\n      <th>4902</th>\n      <td>1990000</td>\n      <td>2400</td>\n      <td>164</td>\n      <td>4</td>\n      <td>5</td>\n      <td>2</td>\n      <td>3</td>\n      <td>1</td>\n      <td>1</td>\n      <td>1</td>\n      <td>0</td>\n      <td>-23.551613</td>\n      <td>-46.699106</td>\n      <td>Vila Madalena</td>\n      <td>São Paulo</td>\n    </tr>\n    <tr>\n      <th>4903</th>\n      <td>720000</td>\n      <td>700</td>\n      <td>70</td>\n      <td>2</td>\n      <td>2</td>\n      <td>1</td>\n      <td>1</td>\n      <td>1</td>\n      <td>0</td>\n      <td>1</td>\n      <td>1</td>\n      <td>-23.547687</td>\n      <td>-46.692594</td>\n      <td>Vila Madalena</td>\n      <td>São Paulo</td>\n    </tr>\n    <tr>\n      <th>4904</th>\n      <td>1680000</td>\n      <td>1580</td>\n      <td>155</td>\n      <td>3</td>\n      <td>5</td>\n      <td>3</td>\n      <td>2</td>\n      <td>1</td>\n      <td>0</td>\n      <td>1</td>\n      <td>0</td>\n      <td>-23.552590</td>\n      <td>-46.691104</td>\n      <td>Vila Madalena</td>\n      <td>São Paulo</td>\n    </tr>\n    <tr>\n      <th>4905</th>\n      <td>1200000</td>\n      <td>900</td>\n      <td>56</td>\n      <td>2</td>\n      <td>2</td>\n      <td>1</td>\n      <td>2</td>\n      <td>0</td>\n      <td>1</td>\n      <td>1</td>\n      <td>0</td>\n      <td>-23.553087</td>\n      <td>-46.697890</td>\n      <td>Vila Madalena</td>\n      <td>São Paulo</td>\n    </tr>\n    <tr>\n      <th>...</th>\n      <td>...</td>\n      <td>...</td>\n      <td>...</td>\n      <td>...</td>\n      <td>...</td>\n      <td>...</td>\n      <td>...</td>\n      <td>...</td>\n      <td>...</td>\n      <td>...</td>\n      <td>...</td>\n      <td>...</td>\n      <td>...</td>\n      <td>...</td>\n      <td>...</td>\n    </tr>\n    <tr>\n      <th>13635</th>\n      <td>265000</td>\n      <td>420</td>\n      <td>51</td>\n      <td>2</td>\n      <td>1</td>\n      <td>0</td>\n      <td>1</td>\n      <td>0</td>\n      <td>0</td>\n      <td>0</td>\n      <td>0</td>\n      <td>-23.653004</td>\n      <td>-46.635463</td>\n      <td>Jabaquara</td>\n      <td>São Paulo</td>\n    </tr>\n    <tr>\n      <th>13636</th>\n      <td>545000</td>\n      <td>630</td>\n      <td>74</td>\n      <td>3</td>\n      <td>2</td>\n      <td>1</td>\n      <td>2</td>\n      <td>0</td>\n      <td>0</td>\n      <td>1</td>\n      <td>0</td>\n      <td>-23.648930</td>\n      <td>-46.641982</td>\n      <td>Jabaquara</td>\n      <td>São Paulo</td>\n    </tr>\n    <tr>\n      <th>13637</th>\n      <td>515000</td>\n      <td>1100</td>\n      <td>114</td>\n      <td>3</td>\n      <td>3</td>\n      <td>1</td>\n      <td>1</td>\n      <td>0</td>\n      <td>0</td>\n      <td>1</td>\n      <td>0</td>\n      <td>-23.649693</td>\n      <td>-46.649783</td>\n      <td>Jabaquara</td>\n      <td>São Paulo</td>\n    </tr>\n    <tr>\n      <th>13638</th>\n      <td>345000</td>\n      <td>48</td>\n      <td>39</td>\n      <td>1</td>\n      <td>2</td>\n      <td>1</td>\n      <td>1</td>\n      <td>0</td>\n      <td>1</td>\n      <td>1</td>\n      <td>0</td>\n      <td>-23.652060</td>\n      <td>-46.637046</td>\n      <td>Jabaquara</td>\n      <td>São Paulo</td>\n    </tr>\n    <tr>\n      <th>13639</th>\n      <td>161987</td>\n      <td>0</td>\n      <td>44</td>\n      <td>2</td>\n      <td>1</td>\n      <td>0</td>\n      <td>1</td>\n      <td>0</td>\n      <td>0</td>\n      <td>0</td>\n      <td>0</td>\n      <td>-23.613391</td>\n      <td>-46.523109</td>\n      <td>Jardim Ângela</td>\n      <td>São Paulo</td>\n    </tr>\n  </tbody>\n</table>\n<p>6412 rows × 15 columns</p>\n</div>"
     },
     "execution_count": 255,
     "metadata": {},
     "output_type": "execute_result"
    }
   ],
   "source": [
    "finalDf"
   ],
   "metadata": {
    "collapsed": false,
    "pycharm": {
     "name": "#%%\n"
    }
   }
  },
  {
   "cell_type": "code",
   "execution_count": 256,
   "outputs": [
    {
     "data": {
      "text/plain": "array(['São Paulo'], dtype=object)"
     },
     "execution_count": 256,
     "metadata": {},
     "output_type": "execute_result"
    }
   ],
   "source": [
    "finalDf[\"CEDADE\"].unique()"
   ],
   "metadata": {
    "collapsed": false,
    "pycharm": {
     "name": "#%%\n"
    }
   }
  },
  {
   "cell_type": "code",
   "execution_count": 257,
   "outputs": [],
   "source": [
    "finalDf.drop(columns=[\"CEDADE\"],inplace=True)"
   ],
   "metadata": {
    "collapsed": false,
    "pycharm": {
     "name": "#%%\n"
    }
   }
  },
  {
   "cell_type": "code",
   "execution_count": 258,
   "outputs": [
    {
     "data": {
      "text/plain": "         Price  Condo  Size  Rooms  Toilets  Suites  Parking  Elevator  \\\n4901    732600   1000    74      1        2       1        2         1   \n4902   1990000   2400   164      4        5       2        3         1   \n4903    720000    700    70      2        2       1        1         1   \n4904   1680000   1580   155      3        5       3        2         1   \n4905   1200000    900    56      2        2       1        2         0   \n...        ...    ...   ...    ...      ...     ...      ...       ...   \n13635   265000    420    51      2        1       0        1         0   \n13636   545000    630    74      3        2       1        2         0   \n13637   515000   1100   114      3        3       1        1         0   \n13638   345000     48    39      1        2       1        1         0   \n13639   161987      0    44      2        1       0        1         0   \n\n       Furnished  Swimming Pool  New   Latitude  Longitude         Bairro  \n4901           0              1    0 -23.552129 -46.692244  Vila Madalena  \n4902           1              1    0 -23.551613 -46.699106  Vila Madalena  \n4903           0              1    1 -23.547687 -46.692594  Vila Madalena  \n4904           0              1    0 -23.552590 -46.691104  Vila Madalena  \n4905           1              1    0 -23.553087 -46.697890  Vila Madalena  \n...          ...            ...  ...        ...        ...            ...  \n13635          0              0    0 -23.653004 -46.635463      Jabaquara  \n13636          0              1    0 -23.648930 -46.641982      Jabaquara  \n13637          0              1    0 -23.649693 -46.649783      Jabaquara  \n13638          1              1    0 -23.652060 -46.637046      Jabaquara  \n13639          0              0    0 -23.613391 -46.523109  Jardim Ângela  \n\n[6412 rows x 14 columns]",
      "text/html": "<div>\n<style scoped>\n    .dataframe tbody tr th:only-of-type {\n        vertical-align: middle;\n    }\n\n    .dataframe tbody tr th {\n        vertical-align: top;\n    }\n\n    .dataframe thead th {\n        text-align: right;\n    }\n</style>\n<table border=\"1\" class=\"dataframe\">\n  <thead>\n    <tr style=\"text-align: right;\">\n      <th></th>\n      <th>Price</th>\n      <th>Condo</th>\n      <th>Size</th>\n      <th>Rooms</th>\n      <th>Toilets</th>\n      <th>Suites</th>\n      <th>Parking</th>\n      <th>Elevator</th>\n      <th>Furnished</th>\n      <th>Swimming Pool</th>\n      <th>New</th>\n      <th>Latitude</th>\n      <th>Longitude</th>\n      <th>Bairro</th>\n    </tr>\n  </thead>\n  <tbody>\n    <tr>\n      <th>4901</th>\n      <td>732600</td>\n      <td>1000</td>\n      <td>74</td>\n      <td>1</td>\n      <td>2</td>\n      <td>1</td>\n      <td>2</td>\n      <td>1</td>\n      <td>0</td>\n      <td>1</td>\n      <td>0</td>\n      <td>-23.552129</td>\n      <td>-46.692244</td>\n      <td>Vila Madalena</td>\n    </tr>\n    <tr>\n      <th>4902</th>\n      <td>1990000</td>\n      <td>2400</td>\n      <td>164</td>\n      <td>4</td>\n      <td>5</td>\n      <td>2</td>\n      <td>3</td>\n      <td>1</td>\n      <td>1</td>\n      <td>1</td>\n      <td>0</td>\n      <td>-23.551613</td>\n      <td>-46.699106</td>\n      <td>Vila Madalena</td>\n    </tr>\n    <tr>\n      <th>4903</th>\n      <td>720000</td>\n      <td>700</td>\n      <td>70</td>\n      <td>2</td>\n      <td>2</td>\n      <td>1</td>\n      <td>1</td>\n      <td>1</td>\n      <td>0</td>\n      <td>1</td>\n      <td>1</td>\n      <td>-23.547687</td>\n      <td>-46.692594</td>\n      <td>Vila Madalena</td>\n    </tr>\n    <tr>\n      <th>4904</th>\n      <td>1680000</td>\n      <td>1580</td>\n      <td>155</td>\n      <td>3</td>\n      <td>5</td>\n      <td>3</td>\n      <td>2</td>\n      <td>1</td>\n      <td>0</td>\n      <td>1</td>\n      <td>0</td>\n      <td>-23.552590</td>\n      <td>-46.691104</td>\n      <td>Vila Madalena</td>\n    </tr>\n    <tr>\n      <th>4905</th>\n      <td>1200000</td>\n      <td>900</td>\n      <td>56</td>\n      <td>2</td>\n      <td>2</td>\n      <td>1</td>\n      <td>2</td>\n      <td>0</td>\n      <td>1</td>\n      <td>1</td>\n      <td>0</td>\n      <td>-23.553087</td>\n      <td>-46.697890</td>\n      <td>Vila Madalena</td>\n    </tr>\n    <tr>\n      <th>...</th>\n      <td>...</td>\n      <td>...</td>\n      <td>...</td>\n      <td>...</td>\n      <td>...</td>\n      <td>...</td>\n      <td>...</td>\n      <td>...</td>\n      <td>...</td>\n      <td>...</td>\n      <td>...</td>\n      <td>...</td>\n      <td>...</td>\n      <td>...</td>\n    </tr>\n    <tr>\n      <th>13635</th>\n      <td>265000</td>\n      <td>420</td>\n      <td>51</td>\n      <td>2</td>\n      <td>1</td>\n      <td>0</td>\n      <td>1</td>\n      <td>0</td>\n      <td>0</td>\n      <td>0</td>\n      <td>0</td>\n      <td>-23.653004</td>\n      <td>-46.635463</td>\n      <td>Jabaquara</td>\n    </tr>\n    <tr>\n      <th>13636</th>\n      <td>545000</td>\n      <td>630</td>\n      <td>74</td>\n      <td>3</td>\n      <td>2</td>\n      <td>1</td>\n      <td>2</td>\n      <td>0</td>\n      <td>0</td>\n      <td>1</td>\n      <td>0</td>\n      <td>-23.648930</td>\n      <td>-46.641982</td>\n      <td>Jabaquara</td>\n    </tr>\n    <tr>\n      <th>13637</th>\n      <td>515000</td>\n      <td>1100</td>\n      <td>114</td>\n      <td>3</td>\n      <td>3</td>\n      <td>1</td>\n      <td>1</td>\n      <td>0</td>\n      <td>0</td>\n      <td>1</td>\n      <td>0</td>\n      <td>-23.649693</td>\n      <td>-46.649783</td>\n      <td>Jabaquara</td>\n    </tr>\n    <tr>\n      <th>13638</th>\n      <td>345000</td>\n      <td>48</td>\n      <td>39</td>\n      <td>1</td>\n      <td>2</td>\n      <td>1</td>\n      <td>1</td>\n      <td>0</td>\n      <td>1</td>\n      <td>1</td>\n      <td>0</td>\n      <td>-23.652060</td>\n      <td>-46.637046</td>\n      <td>Jabaquara</td>\n    </tr>\n    <tr>\n      <th>13639</th>\n      <td>161987</td>\n      <td>0</td>\n      <td>44</td>\n      <td>2</td>\n      <td>1</td>\n      <td>0</td>\n      <td>1</td>\n      <td>0</td>\n      <td>0</td>\n      <td>0</td>\n      <td>0</td>\n      <td>-23.613391</td>\n      <td>-46.523109</td>\n      <td>Jardim Ângela</td>\n    </tr>\n  </tbody>\n</table>\n<p>6412 rows × 14 columns</p>\n</div>"
     },
     "execution_count": 258,
     "metadata": {},
     "output_type": "execute_result"
    }
   ],
   "source": [
    "finalDf"
   ],
   "metadata": {
    "collapsed": false,
    "pycharm": {
     "name": "#%%\n"
    }
   }
  },
  {
   "cell_type": "code",
   "execution_count": 259,
   "outputs": [
    {
     "data": {
      "text/plain": "array(['Vila Madalena', 'Mooca', 'Brooklin', 'Vila Olimpia',\n       'Barra Funda', 'Bela Vista', 'Bom Retiro', 'Brás', 'Consolação',\n       'Liberdade', 'Pari', 'República', 'Santa Cecília', 'Sé',\n       'Casa Verde', 'Jaçanã', 'Mandaqui', 'Santana', 'Tremembé',\n       'Tucuruvi', 'Vila Guilherme', 'Vila Maria', 'Medeiros',\n       'Água Rasa', 'Aricanduva', 'Artur Alvim', 'Belém', 'Cangaíba',\n       'Carrão', 'Cidade Líder', 'Cidade Tiradentes',\n       'Ermelino Matarazzo', 'Guaianazes', 'Iguatemi', 'Itaim Paulista',\n       'Itaquera', 'Jardim Helena', 'José Bonifácio', 'Lajeado',\n       'Parque do Carmo', 'Penha', 'Ponte Rasa', 'Sapopemba', 'São Lucas',\n       'São Mateus', 'São Miguel', 'São Rafael', 'Tatuapé', 'Vila Curuçá',\n       'Vila Formosa', 'Vila Jacuí', 'Vila Matilde', 'Vila Prudente',\n       'Cambuci', 'Campo Belo', 'Campo Grande', 'Campo Limpo',\n       'Capão Redondo', 'Cidade Ademar', 'Cidade Dutra', 'Cursino',\n       'Grajaú', 'Ipiranga', 'Itaim Bibi', 'Jabaquara', 'Jardim Ângela',\n       'Jardim Paulista', 'Jardim São Luis', 'Moema', 'Morumbi',\n       'Pedreira', 'Sacomã', 'Santo Amaro', 'Saúde', 'Socorro',\n       'Vila Andrade', 'Vila Mariana', 'Vila Sônia', 'Alto de Pinheiros',\n       'Anhanguera', 'Brasilândia', 'Butantã', 'Cachoeirinha',\n       'Freguesia do Ó', 'Jaguaré', 'Jaraguá', 'Lapa', 'Limão',\n       'Perdizes', 'Perus', 'Pinheiros', 'Pirituba', 'Raposo Tavares',\n       'Rio Pequeno', 'São Domingos', 'Vila Leopoldina'], dtype=object)"
     },
     "execution_count": 259,
     "metadata": {},
     "output_type": "execute_result"
    }
   ],
   "source": [
    "finalDf[\"Bairro\"].unique()"
   ],
   "metadata": {
    "collapsed": false,
    "pycharm": {
     "name": "#%%\n"
    }
   }
  },
  {
   "cell_type": "code",
   "execution_count": 260,
   "outputs": [],
   "source": [
    "bairroDummies = pd.get_dummies(finalDf[\"Bairro\"])"
   ],
   "metadata": {
    "collapsed": false,
    "pycharm": {
     "name": "#%%\n"
    }
   }
  },
  {
   "cell_type": "code",
   "execution_count": 261,
   "outputs": [
    {
     "data": {
      "text/plain": "       Alto de Pinheiros  Anhanguera  Aricanduva  Artur Alvim  Barra Funda  \\\n4901                   0           0           0            0            0   \n4902                   0           0           0            0            0   \n4903                   0           0           0            0            0   \n4904                   0           0           0            0            0   \n4905                   0           0           0            0            0   \n...                  ...         ...         ...          ...          ...   \n13635                  0           0           0            0            0   \n13636                  0           0           0            0            0   \n13637                  0           0           0            0            0   \n13638                  0           0           0            0            0   \n13639                  0           0           0            0            0   \n\n       Bela Vista  Belém  Bom Retiro  Brasilândia  Brooklin  ...  Vila Jacuí  \\\n4901            0      0           0            0         0  ...           0   \n4902            0      0           0            0         0  ...           0   \n4903            0      0           0            0         0  ...           0   \n4904            0      0           0            0         0  ...           0   \n4905            0      0           0            0         0  ...           0   \n...           ...    ...         ...          ...       ...  ...         ...   \n13635           0      0           0            0         0  ...           0   \n13636           0      0           0            0         0  ...           0   \n13637           0      0           0            0         0  ...           0   \n13638           0      0           0            0         0  ...           0   \n13639           0      0           0            0         0  ...           0   \n\n       Vila Leopoldina  Vila Madalena  Vila Maria  Vila Mariana  Vila Matilde  \\\n4901                 0              1           0             0             0   \n4902                 0              1           0             0             0   \n4903                 0              1           0             0             0   \n4904                 0              1           0             0             0   \n4905                 0              1           0             0             0   \n...                ...            ...         ...           ...           ...   \n13635                0              0           0             0             0   \n13636                0              0           0             0             0   \n13637                0              0           0             0             0   \n13638                0              0           0             0             0   \n13639                0              0           0             0             0   \n\n       Vila Olimpia  Vila Prudente  Vila Sônia  Água Rasa  \n4901              0              0           0          0  \n4902              0              0           0          0  \n4903              0              0           0          0  \n4904              0              0           0          0  \n4905              0              0           0          0  \n...             ...            ...         ...        ...  \n13635             0              0           0          0  \n13636             0              0           0          0  \n13637             0              0           0          0  \n13638             0              0           0          0  \n13639             0              0           0          0  \n\n[6412 rows x 96 columns]",
      "text/html": "<div>\n<style scoped>\n    .dataframe tbody tr th:only-of-type {\n        vertical-align: middle;\n    }\n\n    .dataframe tbody tr th {\n        vertical-align: top;\n    }\n\n    .dataframe thead th {\n        text-align: right;\n    }\n</style>\n<table border=\"1\" class=\"dataframe\">\n  <thead>\n    <tr style=\"text-align: right;\">\n      <th></th>\n      <th>Alto de Pinheiros</th>\n      <th>Anhanguera</th>\n      <th>Aricanduva</th>\n      <th>Artur Alvim</th>\n      <th>Barra Funda</th>\n      <th>Bela Vista</th>\n      <th>Belém</th>\n      <th>Bom Retiro</th>\n      <th>Brasilândia</th>\n      <th>Brooklin</th>\n      <th>...</th>\n      <th>Vila Jacuí</th>\n      <th>Vila Leopoldina</th>\n      <th>Vila Madalena</th>\n      <th>Vila Maria</th>\n      <th>Vila Mariana</th>\n      <th>Vila Matilde</th>\n      <th>Vila Olimpia</th>\n      <th>Vila Prudente</th>\n      <th>Vila Sônia</th>\n      <th>Água Rasa</th>\n    </tr>\n  </thead>\n  <tbody>\n    <tr>\n      <th>4901</th>\n      <td>0</td>\n      <td>0</td>\n      <td>0</td>\n      <td>0</td>\n      <td>0</td>\n      <td>0</td>\n      <td>0</td>\n      <td>0</td>\n      <td>0</td>\n      <td>0</td>\n      <td>...</td>\n      <td>0</td>\n      <td>0</td>\n      <td>1</td>\n      <td>0</td>\n      <td>0</td>\n      <td>0</td>\n      <td>0</td>\n      <td>0</td>\n      <td>0</td>\n      <td>0</td>\n    </tr>\n    <tr>\n      <th>4902</th>\n      <td>0</td>\n      <td>0</td>\n      <td>0</td>\n      <td>0</td>\n      <td>0</td>\n      <td>0</td>\n      <td>0</td>\n      <td>0</td>\n      <td>0</td>\n      <td>0</td>\n      <td>...</td>\n      <td>0</td>\n      <td>0</td>\n      <td>1</td>\n      <td>0</td>\n      <td>0</td>\n      <td>0</td>\n      <td>0</td>\n      <td>0</td>\n      <td>0</td>\n      <td>0</td>\n    </tr>\n    <tr>\n      <th>4903</th>\n      <td>0</td>\n      <td>0</td>\n      <td>0</td>\n      <td>0</td>\n      <td>0</td>\n      <td>0</td>\n      <td>0</td>\n      <td>0</td>\n      <td>0</td>\n      <td>0</td>\n      <td>...</td>\n      <td>0</td>\n      <td>0</td>\n      <td>1</td>\n      <td>0</td>\n      <td>0</td>\n      <td>0</td>\n      <td>0</td>\n      <td>0</td>\n      <td>0</td>\n      <td>0</td>\n    </tr>\n    <tr>\n      <th>4904</th>\n      <td>0</td>\n      <td>0</td>\n      <td>0</td>\n      <td>0</td>\n      <td>0</td>\n      <td>0</td>\n      <td>0</td>\n      <td>0</td>\n      <td>0</td>\n      <td>0</td>\n      <td>...</td>\n      <td>0</td>\n      <td>0</td>\n      <td>1</td>\n      <td>0</td>\n      <td>0</td>\n      <td>0</td>\n      <td>0</td>\n      <td>0</td>\n      <td>0</td>\n      <td>0</td>\n    </tr>\n    <tr>\n      <th>4905</th>\n      <td>0</td>\n      <td>0</td>\n      <td>0</td>\n      <td>0</td>\n      <td>0</td>\n      <td>0</td>\n      <td>0</td>\n      <td>0</td>\n      <td>0</td>\n      <td>0</td>\n      <td>...</td>\n      <td>0</td>\n      <td>0</td>\n      <td>1</td>\n      <td>0</td>\n      <td>0</td>\n      <td>0</td>\n      <td>0</td>\n      <td>0</td>\n      <td>0</td>\n      <td>0</td>\n    </tr>\n    <tr>\n      <th>...</th>\n      <td>...</td>\n      <td>...</td>\n      <td>...</td>\n      <td>...</td>\n      <td>...</td>\n      <td>...</td>\n      <td>...</td>\n      <td>...</td>\n      <td>...</td>\n      <td>...</td>\n      <td>...</td>\n      <td>...</td>\n      <td>...</td>\n      <td>...</td>\n      <td>...</td>\n      <td>...</td>\n      <td>...</td>\n      <td>...</td>\n      <td>...</td>\n      <td>...</td>\n      <td>...</td>\n    </tr>\n    <tr>\n      <th>13635</th>\n      <td>0</td>\n      <td>0</td>\n      <td>0</td>\n      <td>0</td>\n      <td>0</td>\n      <td>0</td>\n      <td>0</td>\n      <td>0</td>\n      <td>0</td>\n      <td>0</td>\n      <td>...</td>\n      <td>0</td>\n      <td>0</td>\n      <td>0</td>\n      <td>0</td>\n      <td>0</td>\n      <td>0</td>\n      <td>0</td>\n      <td>0</td>\n      <td>0</td>\n      <td>0</td>\n    </tr>\n    <tr>\n      <th>13636</th>\n      <td>0</td>\n      <td>0</td>\n      <td>0</td>\n      <td>0</td>\n      <td>0</td>\n      <td>0</td>\n      <td>0</td>\n      <td>0</td>\n      <td>0</td>\n      <td>0</td>\n      <td>...</td>\n      <td>0</td>\n      <td>0</td>\n      <td>0</td>\n      <td>0</td>\n      <td>0</td>\n      <td>0</td>\n      <td>0</td>\n      <td>0</td>\n      <td>0</td>\n      <td>0</td>\n    </tr>\n    <tr>\n      <th>13637</th>\n      <td>0</td>\n      <td>0</td>\n      <td>0</td>\n      <td>0</td>\n      <td>0</td>\n      <td>0</td>\n      <td>0</td>\n      <td>0</td>\n      <td>0</td>\n      <td>0</td>\n      <td>...</td>\n      <td>0</td>\n      <td>0</td>\n      <td>0</td>\n      <td>0</td>\n      <td>0</td>\n      <td>0</td>\n      <td>0</td>\n      <td>0</td>\n      <td>0</td>\n      <td>0</td>\n    </tr>\n    <tr>\n      <th>13638</th>\n      <td>0</td>\n      <td>0</td>\n      <td>0</td>\n      <td>0</td>\n      <td>0</td>\n      <td>0</td>\n      <td>0</td>\n      <td>0</td>\n      <td>0</td>\n      <td>0</td>\n      <td>...</td>\n      <td>0</td>\n      <td>0</td>\n      <td>0</td>\n      <td>0</td>\n      <td>0</td>\n      <td>0</td>\n      <td>0</td>\n      <td>0</td>\n      <td>0</td>\n      <td>0</td>\n    </tr>\n    <tr>\n      <th>13639</th>\n      <td>0</td>\n      <td>0</td>\n      <td>0</td>\n      <td>0</td>\n      <td>0</td>\n      <td>0</td>\n      <td>0</td>\n      <td>0</td>\n      <td>0</td>\n      <td>0</td>\n      <td>...</td>\n      <td>0</td>\n      <td>0</td>\n      <td>0</td>\n      <td>0</td>\n      <td>0</td>\n      <td>0</td>\n      <td>0</td>\n      <td>0</td>\n      <td>0</td>\n      <td>0</td>\n    </tr>\n  </tbody>\n</table>\n<p>6412 rows × 96 columns</p>\n</div>"
     },
     "execution_count": 261,
     "metadata": {},
     "output_type": "execute_result"
    }
   ],
   "source": [
    "bairroDummies"
   ],
   "metadata": {
    "collapsed": false,
    "pycharm": {
     "name": "#%%\n"
    }
   }
  },
  {
   "cell_type": "code",
   "execution_count": 262,
   "outputs": [
    {
     "data": {
      "text/plain": "         Price  Condo  Size  Rooms  Toilets  Suites  Parking  Elevator  \\\n4901    732600   1000    74      1        2       1        2         1   \n4902   1990000   2400   164      4        5       2        3         1   \n4903    720000    700    70      2        2       1        1         1   \n4904   1680000   1580   155      3        5       3        2         1   \n4905   1200000    900    56      2        2       1        2         0   \n...        ...    ...   ...    ...      ...     ...      ...       ...   \n13635   265000    420    51      2        1       0        1         0   \n13636   545000    630    74      3        2       1        2         0   \n13637   515000   1100   114      3        3       1        1         0   \n13638   345000     48    39      1        2       1        1         0   \n13639   161987      0    44      2        1       0        1         0   \n\n       Furnished  Swimming Pool  New   Latitude  Longitude         Bairro  \n4901           0              1    0 -23.552129 -46.692244  Vila Madalena  \n4902           1              1    0 -23.551613 -46.699106  Vila Madalena  \n4903           0              1    1 -23.547687 -46.692594  Vila Madalena  \n4904           0              1    0 -23.552590 -46.691104  Vila Madalena  \n4905           1              1    0 -23.553087 -46.697890  Vila Madalena  \n...          ...            ...  ...        ...        ...            ...  \n13635          0              0    0 -23.653004 -46.635463      Jabaquara  \n13636          0              1    0 -23.648930 -46.641982      Jabaquara  \n13637          0              1    0 -23.649693 -46.649783      Jabaquara  \n13638          1              1    0 -23.652060 -46.637046      Jabaquara  \n13639          0              0    0 -23.613391 -46.523109  Jardim Ângela  \n\n[6412 rows x 14 columns]",
      "text/html": "<div>\n<style scoped>\n    .dataframe tbody tr th:only-of-type {\n        vertical-align: middle;\n    }\n\n    .dataframe tbody tr th {\n        vertical-align: top;\n    }\n\n    .dataframe thead th {\n        text-align: right;\n    }\n</style>\n<table border=\"1\" class=\"dataframe\">\n  <thead>\n    <tr style=\"text-align: right;\">\n      <th></th>\n      <th>Price</th>\n      <th>Condo</th>\n      <th>Size</th>\n      <th>Rooms</th>\n      <th>Toilets</th>\n      <th>Suites</th>\n      <th>Parking</th>\n      <th>Elevator</th>\n      <th>Furnished</th>\n      <th>Swimming Pool</th>\n      <th>New</th>\n      <th>Latitude</th>\n      <th>Longitude</th>\n      <th>Bairro</th>\n    </tr>\n  </thead>\n  <tbody>\n    <tr>\n      <th>4901</th>\n      <td>732600</td>\n      <td>1000</td>\n      <td>74</td>\n      <td>1</td>\n      <td>2</td>\n      <td>1</td>\n      <td>2</td>\n      <td>1</td>\n      <td>0</td>\n      <td>1</td>\n      <td>0</td>\n      <td>-23.552129</td>\n      <td>-46.692244</td>\n      <td>Vila Madalena</td>\n    </tr>\n    <tr>\n      <th>4902</th>\n      <td>1990000</td>\n      <td>2400</td>\n      <td>164</td>\n      <td>4</td>\n      <td>5</td>\n      <td>2</td>\n      <td>3</td>\n      <td>1</td>\n      <td>1</td>\n      <td>1</td>\n      <td>0</td>\n      <td>-23.551613</td>\n      <td>-46.699106</td>\n      <td>Vila Madalena</td>\n    </tr>\n    <tr>\n      <th>4903</th>\n      <td>720000</td>\n      <td>700</td>\n      <td>70</td>\n      <td>2</td>\n      <td>2</td>\n      <td>1</td>\n      <td>1</td>\n      <td>1</td>\n      <td>0</td>\n      <td>1</td>\n      <td>1</td>\n      <td>-23.547687</td>\n      <td>-46.692594</td>\n      <td>Vila Madalena</td>\n    </tr>\n    <tr>\n      <th>4904</th>\n      <td>1680000</td>\n      <td>1580</td>\n      <td>155</td>\n      <td>3</td>\n      <td>5</td>\n      <td>3</td>\n      <td>2</td>\n      <td>1</td>\n      <td>0</td>\n      <td>1</td>\n      <td>0</td>\n      <td>-23.552590</td>\n      <td>-46.691104</td>\n      <td>Vila Madalena</td>\n    </tr>\n    <tr>\n      <th>4905</th>\n      <td>1200000</td>\n      <td>900</td>\n      <td>56</td>\n      <td>2</td>\n      <td>2</td>\n      <td>1</td>\n      <td>2</td>\n      <td>0</td>\n      <td>1</td>\n      <td>1</td>\n      <td>0</td>\n      <td>-23.553087</td>\n      <td>-46.697890</td>\n      <td>Vila Madalena</td>\n    </tr>\n    <tr>\n      <th>...</th>\n      <td>...</td>\n      <td>...</td>\n      <td>...</td>\n      <td>...</td>\n      <td>...</td>\n      <td>...</td>\n      <td>...</td>\n      <td>...</td>\n      <td>...</td>\n      <td>...</td>\n      <td>...</td>\n      <td>...</td>\n      <td>...</td>\n      <td>...</td>\n    </tr>\n    <tr>\n      <th>13635</th>\n      <td>265000</td>\n      <td>420</td>\n      <td>51</td>\n      <td>2</td>\n      <td>1</td>\n      <td>0</td>\n      <td>1</td>\n      <td>0</td>\n      <td>0</td>\n      <td>0</td>\n      <td>0</td>\n      <td>-23.653004</td>\n      <td>-46.635463</td>\n      <td>Jabaquara</td>\n    </tr>\n    <tr>\n      <th>13636</th>\n      <td>545000</td>\n      <td>630</td>\n      <td>74</td>\n      <td>3</td>\n      <td>2</td>\n      <td>1</td>\n      <td>2</td>\n      <td>0</td>\n      <td>0</td>\n      <td>1</td>\n      <td>0</td>\n      <td>-23.648930</td>\n      <td>-46.641982</td>\n      <td>Jabaquara</td>\n    </tr>\n    <tr>\n      <th>13637</th>\n      <td>515000</td>\n      <td>1100</td>\n      <td>114</td>\n      <td>3</td>\n      <td>3</td>\n      <td>1</td>\n      <td>1</td>\n      <td>0</td>\n      <td>0</td>\n      <td>1</td>\n      <td>0</td>\n      <td>-23.649693</td>\n      <td>-46.649783</td>\n      <td>Jabaquara</td>\n    </tr>\n    <tr>\n      <th>13638</th>\n      <td>345000</td>\n      <td>48</td>\n      <td>39</td>\n      <td>1</td>\n      <td>2</td>\n      <td>1</td>\n      <td>1</td>\n      <td>0</td>\n      <td>1</td>\n      <td>1</td>\n      <td>0</td>\n      <td>-23.652060</td>\n      <td>-46.637046</td>\n      <td>Jabaquara</td>\n    </tr>\n    <tr>\n      <th>13639</th>\n      <td>161987</td>\n      <td>0</td>\n      <td>44</td>\n      <td>2</td>\n      <td>1</td>\n      <td>0</td>\n      <td>1</td>\n      <td>0</td>\n      <td>0</td>\n      <td>0</td>\n      <td>0</td>\n      <td>-23.613391</td>\n      <td>-46.523109</td>\n      <td>Jardim Ângela</td>\n    </tr>\n  </tbody>\n</table>\n<p>6412 rows × 14 columns</p>\n</div>"
     },
     "execution_count": 262,
     "metadata": {},
     "output_type": "execute_result"
    }
   ],
   "source": [
    "finalDf"
   ],
   "metadata": {
    "collapsed": false,
    "pycharm": {
     "name": "#%%\n"
    }
   }
  },
  {
   "cell_type": "code",
   "execution_count": 263,
   "outputs": [],
   "source": [
    "bairroLessDf = finalDf.drop(columns=[\"Bairro\"])"
   ],
   "metadata": {
    "collapsed": false,
    "pycharm": {
     "name": "#%%\n"
    }
   }
  },
  {
   "cell_type": "code",
   "execution_count": 264,
   "outputs": [
    {
     "data": {
      "text/plain": "         Price  Condo  Size  Rooms  Toilets  Suites  Parking  Elevator  \\\n4901    732600   1000    74      1        2       1        2         1   \n4902   1990000   2400   164      4        5       2        3         1   \n4903    720000    700    70      2        2       1        1         1   \n4904   1680000   1580   155      3        5       3        2         1   \n4905   1200000    900    56      2        2       1        2         0   \n...        ...    ...   ...    ...      ...     ...      ...       ...   \n13635   265000    420    51      2        1       0        1         0   \n13636   545000    630    74      3        2       1        2         0   \n13637   515000   1100   114      3        3       1        1         0   \n13638   345000     48    39      1        2       1        1         0   \n13639   161987      0    44      2        1       0        1         0   \n\n       Furnished  Swimming Pool  New   Latitude  Longitude  \n4901           0              1    0 -23.552129 -46.692244  \n4902           1              1    0 -23.551613 -46.699106  \n4903           0              1    1 -23.547687 -46.692594  \n4904           0              1    0 -23.552590 -46.691104  \n4905           1              1    0 -23.553087 -46.697890  \n...          ...            ...  ...        ...        ...  \n13635          0              0    0 -23.653004 -46.635463  \n13636          0              1    0 -23.648930 -46.641982  \n13637          0              1    0 -23.649693 -46.649783  \n13638          1              1    0 -23.652060 -46.637046  \n13639          0              0    0 -23.613391 -46.523109  \n\n[6412 rows x 13 columns]",
      "text/html": "<div>\n<style scoped>\n    .dataframe tbody tr th:only-of-type {\n        vertical-align: middle;\n    }\n\n    .dataframe tbody tr th {\n        vertical-align: top;\n    }\n\n    .dataframe thead th {\n        text-align: right;\n    }\n</style>\n<table border=\"1\" class=\"dataframe\">\n  <thead>\n    <tr style=\"text-align: right;\">\n      <th></th>\n      <th>Price</th>\n      <th>Condo</th>\n      <th>Size</th>\n      <th>Rooms</th>\n      <th>Toilets</th>\n      <th>Suites</th>\n      <th>Parking</th>\n      <th>Elevator</th>\n      <th>Furnished</th>\n      <th>Swimming Pool</th>\n      <th>New</th>\n      <th>Latitude</th>\n      <th>Longitude</th>\n    </tr>\n  </thead>\n  <tbody>\n    <tr>\n      <th>4901</th>\n      <td>732600</td>\n      <td>1000</td>\n      <td>74</td>\n      <td>1</td>\n      <td>2</td>\n      <td>1</td>\n      <td>2</td>\n      <td>1</td>\n      <td>0</td>\n      <td>1</td>\n      <td>0</td>\n      <td>-23.552129</td>\n      <td>-46.692244</td>\n    </tr>\n    <tr>\n      <th>4902</th>\n      <td>1990000</td>\n      <td>2400</td>\n      <td>164</td>\n      <td>4</td>\n      <td>5</td>\n      <td>2</td>\n      <td>3</td>\n      <td>1</td>\n      <td>1</td>\n      <td>1</td>\n      <td>0</td>\n      <td>-23.551613</td>\n      <td>-46.699106</td>\n    </tr>\n    <tr>\n      <th>4903</th>\n      <td>720000</td>\n      <td>700</td>\n      <td>70</td>\n      <td>2</td>\n      <td>2</td>\n      <td>1</td>\n      <td>1</td>\n      <td>1</td>\n      <td>0</td>\n      <td>1</td>\n      <td>1</td>\n      <td>-23.547687</td>\n      <td>-46.692594</td>\n    </tr>\n    <tr>\n      <th>4904</th>\n      <td>1680000</td>\n      <td>1580</td>\n      <td>155</td>\n      <td>3</td>\n      <td>5</td>\n      <td>3</td>\n      <td>2</td>\n      <td>1</td>\n      <td>0</td>\n      <td>1</td>\n      <td>0</td>\n      <td>-23.552590</td>\n      <td>-46.691104</td>\n    </tr>\n    <tr>\n      <th>4905</th>\n      <td>1200000</td>\n      <td>900</td>\n      <td>56</td>\n      <td>2</td>\n      <td>2</td>\n      <td>1</td>\n      <td>2</td>\n      <td>0</td>\n      <td>1</td>\n      <td>1</td>\n      <td>0</td>\n      <td>-23.553087</td>\n      <td>-46.697890</td>\n    </tr>\n    <tr>\n      <th>...</th>\n      <td>...</td>\n      <td>...</td>\n      <td>...</td>\n      <td>...</td>\n      <td>...</td>\n      <td>...</td>\n      <td>...</td>\n      <td>...</td>\n      <td>...</td>\n      <td>...</td>\n      <td>...</td>\n      <td>...</td>\n      <td>...</td>\n    </tr>\n    <tr>\n      <th>13635</th>\n      <td>265000</td>\n      <td>420</td>\n      <td>51</td>\n      <td>2</td>\n      <td>1</td>\n      <td>0</td>\n      <td>1</td>\n      <td>0</td>\n      <td>0</td>\n      <td>0</td>\n      <td>0</td>\n      <td>-23.653004</td>\n      <td>-46.635463</td>\n    </tr>\n    <tr>\n      <th>13636</th>\n      <td>545000</td>\n      <td>630</td>\n      <td>74</td>\n      <td>3</td>\n      <td>2</td>\n      <td>1</td>\n      <td>2</td>\n      <td>0</td>\n      <td>0</td>\n      <td>1</td>\n      <td>0</td>\n      <td>-23.648930</td>\n      <td>-46.641982</td>\n    </tr>\n    <tr>\n      <th>13637</th>\n      <td>515000</td>\n      <td>1100</td>\n      <td>114</td>\n      <td>3</td>\n      <td>3</td>\n      <td>1</td>\n      <td>1</td>\n      <td>0</td>\n      <td>0</td>\n      <td>1</td>\n      <td>0</td>\n      <td>-23.649693</td>\n      <td>-46.649783</td>\n    </tr>\n    <tr>\n      <th>13638</th>\n      <td>345000</td>\n      <td>48</td>\n      <td>39</td>\n      <td>1</td>\n      <td>2</td>\n      <td>1</td>\n      <td>1</td>\n      <td>0</td>\n      <td>1</td>\n      <td>1</td>\n      <td>0</td>\n      <td>-23.652060</td>\n      <td>-46.637046</td>\n    </tr>\n    <tr>\n      <th>13639</th>\n      <td>161987</td>\n      <td>0</td>\n      <td>44</td>\n      <td>2</td>\n      <td>1</td>\n      <td>0</td>\n      <td>1</td>\n      <td>0</td>\n      <td>0</td>\n      <td>0</td>\n      <td>0</td>\n      <td>-23.613391</td>\n      <td>-46.523109</td>\n    </tr>\n  </tbody>\n</table>\n<p>6412 rows × 13 columns</p>\n</div>"
     },
     "execution_count": 264,
     "metadata": {},
     "output_type": "execute_result"
    }
   ],
   "source": [
    "bairroLessDf"
   ],
   "metadata": {
    "collapsed": false,
    "pycharm": {
     "name": "#%%\n"
    }
   }
  },
  {
   "cell_type": "code",
   "execution_count": 265,
   "outputs": [],
   "source": [
    "originalDf = finalDf"
   ],
   "metadata": {
    "collapsed": false,
    "pycharm": {
     "name": "#%%\n"
    }
   }
  },
  {
   "cell_type": "code",
   "execution_count": 266,
   "outputs": [],
   "source": [
    "completeDf = pd.concat([bairroLessDf,bairroDummies],axis=1)"
   ],
   "metadata": {
    "collapsed": false,
    "pycharm": {
     "name": "#%%\n"
    }
   }
  },
  {
   "cell_type": "code",
   "execution_count": 267,
   "outputs": [
    {
     "data": {
      "text/plain": "         Price  Condo  Size  Rooms  Toilets  Suites  Parking  Elevator  \\\n4901    732600   1000    74      1        2       1        2         1   \n4902   1990000   2400   164      4        5       2        3         1   \n4903    720000    700    70      2        2       1        1         1   \n4904   1680000   1580   155      3        5       3        2         1   \n4905   1200000    900    56      2        2       1        2         0   \n...        ...    ...   ...    ...      ...     ...      ...       ...   \n13635   265000    420    51      2        1       0        1         0   \n13636   545000    630    74      3        2       1        2         0   \n13637   515000   1100   114      3        3       1        1         0   \n13638   345000     48    39      1        2       1        1         0   \n13639   161987      0    44      2        1       0        1         0   \n\n       Furnished  Swimming Pool  ...  Vila Jacuí  Vila Leopoldina  \\\n4901           0              1  ...           0                0   \n4902           1              1  ...           0                0   \n4903           0              1  ...           0                0   \n4904           0              1  ...           0                0   \n4905           1              1  ...           0                0   \n...          ...            ...  ...         ...              ...   \n13635          0              0  ...           0                0   \n13636          0              1  ...           0                0   \n13637          0              1  ...           0                0   \n13638          1              1  ...           0                0   \n13639          0              0  ...           0                0   \n\n       Vila Madalena  Vila Maria  Vila Mariana  Vila Matilde  Vila Olimpia  \\\n4901               1           0             0             0             0   \n4902               1           0             0             0             0   \n4903               1           0             0             0             0   \n4904               1           0             0             0             0   \n4905               1           0             0             0             0   \n...              ...         ...           ...           ...           ...   \n13635              0           0             0             0             0   \n13636              0           0             0             0             0   \n13637              0           0             0             0             0   \n13638              0           0             0             0             0   \n13639              0           0             0             0             0   \n\n       Vila Prudente  Vila Sônia  Água Rasa  \n4901               0           0          0  \n4902               0           0          0  \n4903               0           0          0  \n4904               0           0          0  \n4905               0           0          0  \n...              ...         ...        ...  \n13635              0           0          0  \n13636              0           0          0  \n13637              0           0          0  \n13638              0           0          0  \n13639              0           0          0  \n\n[6412 rows x 109 columns]",
      "text/html": "<div>\n<style scoped>\n    .dataframe tbody tr th:only-of-type {\n        vertical-align: middle;\n    }\n\n    .dataframe tbody tr th {\n        vertical-align: top;\n    }\n\n    .dataframe thead th {\n        text-align: right;\n    }\n</style>\n<table border=\"1\" class=\"dataframe\">\n  <thead>\n    <tr style=\"text-align: right;\">\n      <th></th>\n      <th>Price</th>\n      <th>Condo</th>\n      <th>Size</th>\n      <th>Rooms</th>\n      <th>Toilets</th>\n      <th>Suites</th>\n      <th>Parking</th>\n      <th>Elevator</th>\n      <th>Furnished</th>\n      <th>Swimming Pool</th>\n      <th>...</th>\n      <th>Vila Jacuí</th>\n      <th>Vila Leopoldina</th>\n      <th>Vila Madalena</th>\n      <th>Vila Maria</th>\n      <th>Vila Mariana</th>\n      <th>Vila Matilde</th>\n      <th>Vila Olimpia</th>\n      <th>Vila Prudente</th>\n      <th>Vila Sônia</th>\n      <th>Água Rasa</th>\n    </tr>\n  </thead>\n  <tbody>\n    <tr>\n      <th>4901</th>\n      <td>732600</td>\n      <td>1000</td>\n      <td>74</td>\n      <td>1</td>\n      <td>2</td>\n      <td>1</td>\n      <td>2</td>\n      <td>1</td>\n      <td>0</td>\n      <td>1</td>\n      <td>...</td>\n      <td>0</td>\n      <td>0</td>\n      <td>1</td>\n      <td>0</td>\n      <td>0</td>\n      <td>0</td>\n      <td>0</td>\n      <td>0</td>\n      <td>0</td>\n      <td>0</td>\n    </tr>\n    <tr>\n      <th>4902</th>\n      <td>1990000</td>\n      <td>2400</td>\n      <td>164</td>\n      <td>4</td>\n      <td>5</td>\n      <td>2</td>\n      <td>3</td>\n      <td>1</td>\n      <td>1</td>\n      <td>1</td>\n      <td>...</td>\n      <td>0</td>\n      <td>0</td>\n      <td>1</td>\n      <td>0</td>\n      <td>0</td>\n      <td>0</td>\n      <td>0</td>\n      <td>0</td>\n      <td>0</td>\n      <td>0</td>\n    </tr>\n    <tr>\n      <th>4903</th>\n      <td>720000</td>\n      <td>700</td>\n      <td>70</td>\n      <td>2</td>\n      <td>2</td>\n      <td>1</td>\n      <td>1</td>\n      <td>1</td>\n      <td>0</td>\n      <td>1</td>\n      <td>...</td>\n      <td>0</td>\n      <td>0</td>\n      <td>1</td>\n      <td>0</td>\n      <td>0</td>\n      <td>0</td>\n      <td>0</td>\n      <td>0</td>\n      <td>0</td>\n      <td>0</td>\n    </tr>\n    <tr>\n      <th>4904</th>\n      <td>1680000</td>\n      <td>1580</td>\n      <td>155</td>\n      <td>3</td>\n      <td>5</td>\n      <td>3</td>\n      <td>2</td>\n      <td>1</td>\n      <td>0</td>\n      <td>1</td>\n      <td>...</td>\n      <td>0</td>\n      <td>0</td>\n      <td>1</td>\n      <td>0</td>\n      <td>0</td>\n      <td>0</td>\n      <td>0</td>\n      <td>0</td>\n      <td>0</td>\n      <td>0</td>\n    </tr>\n    <tr>\n      <th>4905</th>\n      <td>1200000</td>\n      <td>900</td>\n      <td>56</td>\n      <td>2</td>\n      <td>2</td>\n      <td>1</td>\n      <td>2</td>\n      <td>0</td>\n      <td>1</td>\n      <td>1</td>\n      <td>...</td>\n      <td>0</td>\n      <td>0</td>\n      <td>1</td>\n      <td>0</td>\n      <td>0</td>\n      <td>0</td>\n      <td>0</td>\n      <td>0</td>\n      <td>0</td>\n      <td>0</td>\n    </tr>\n    <tr>\n      <th>...</th>\n      <td>...</td>\n      <td>...</td>\n      <td>...</td>\n      <td>...</td>\n      <td>...</td>\n      <td>...</td>\n      <td>...</td>\n      <td>...</td>\n      <td>...</td>\n      <td>...</td>\n      <td>...</td>\n      <td>...</td>\n      <td>...</td>\n      <td>...</td>\n      <td>...</td>\n      <td>...</td>\n      <td>...</td>\n      <td>...</td>\n      <td>...</td>\n      <td>...</td>\n      <td>...</td>\n    </tr>\n    <tr>\n      <th>13635</th>\n      <td>265000</td>\n      <td>420</td>\n      <td>51</td>\n      <td>2</td>\n      <td>1</td>\n      <td>0</td>\n      <td>1</td>\n      <td>0</td>\n      <td>0</td>\n      <td>0</td>\n      <td>...</td>\n      <td>0</td>\n      <td>0</td>\n      <td>0</td>\n      <td>0</td>\n      <td>0</td>\n      <td>0</td>\n      <td>0</td>\n      <td>0</td>\n      <td>0</td>\n      <td>0</td>\n    </tr>\n    <tr>\n      <th>13636</th>\n      <td>545000</td>\n      <td>630</td>\n      <td>74</td>\n      <td>3</td>\n      <td>2</td>\n      <td>1</td>\n      <td>2</td>\n      <td>0</td>\n      <td>0</td>\n      <td>1</td>\n      <td>...</td>\n      <td>0</td>\n      <td>0</td>\n      <td>0</td>\n      <td>0</td>\n      <td>0</td>\n      <td>0</td>\n      <td>0</td>\n      <td>0</td>\n      <td>0</td>\n      <td>0</td>\n    </tr>\n    <tr>\n      <th>13637</th>\n      <td>515000</td>\n      <td>1100</td>\n      <td>114</td>\n      <td>3</td>\n      <td>3</td>\n      <td>1</td>\n      <td>1</td>\n      <td>0</td>\n      <td>0</td>\n      <td>1</td>\n      <td>...</td>\n      <td>0</td>\n      <td>0</td>\n      <td>0</td>\n      <td>0</td>\n      <td>0</td>\n      <td>0</td>\n      <td>0</td>\n      <td>0</td>\n      <td>0</td>\n      <td>0</td>\n    </tr>\n    <tr>\n      <th>13638</th>\n      <td>345000</td>\n      <td>48</td>\n      <td>39</td>\n      <td>1</td>\n      <td>2</td>\n      <td>1</td>\n      <td>1</td>\n      <td>0</td>\n      <td>1</td>\n      <td>1</td>\n      <td>...</td>\n      <td>0</td>\n      <td>0</td>\n      <td>0</td>\n      <td>0</td>\n      <td>0</td>\n      <td>0</td>\n      <td>0</td>\n      <td>0</td>\n      <td>0</td>\n      <td>0</td>\n    </tr>\n    <tr>\n      <th>13639</th>\n      <td>161987</td>\n      <td>0</td>\n      <td>44</td>\n      <td>2</td>\n      <td>1</td>\n      <td>0</td>\n      <td>1</td>\n      <td>0</td>\n      <td>0</td>\n      <td>0</td>\n      <td>...</td>\n      <td>0</td>\n      <td>0</td>\n      <td>0</td>\n      <td>0</td>\n      <td>0</td>\n      <td>0</td>\n      <td>0</td>\n      <td>0</td>\n      <td>0</td>\n      <td>0</td>\n    </tr>\n  </tbody>\n</table>\n<p>6412 rows × 109 columns</p>\n</div>"
     },
     "execution_count": 267,
     "metadata": {},
     "output_type": "execute_result"
    }
   ],
   "source": [
    "completeDf"
   ],
   "metadata": {
    "collapsed": false,
    "pycharm": {
     "name": "#%%\n"
    }
   }
  },
  {
   "cell_type": "code",
   "execution_count": 268,
   "outputs": [
    {
     "data": {
      "text/plain": "         Price  Condo  Size  Rooms  Toilets  Suites  Parking  Elevator  \\\n4901    732600   1000    74      1        2       1        2         1   \n4902   1990000   2400   164      4        5       2        3         1   \n4903    720000    700    70      2        2       1        1         1   \n4904   1680000   1580   155      3        5       3        2         1   \n4905   1200000    900    56      2        2       1        2         0   \n...        ...    ...   ...    ...      ...     ...      ...       ...   \n13635   265000    420    51      2        1       0        1         0   \n13636   545000    630    74      3        2       1        2         0   \n13637   515000   1100   114      3        3       1        1         0   \n13638   345000     48    39      1        2       1        1         0   \n13639   161987      0    44      2        1       0        1         0   \n\n       Furnished  Swimming Pool  New   Latitude  Longitude         Bairro  \n4901           0              1    0 -23.552129 -46.692244  Vila Madalena  \n4902           1              1    0 -23.551613 -46.699106  Vila Madalena  \n4903           0              1    1 -23.547687 -46.692594  Vila Madalena  \n4904           0              1    0 -23.552590 -46.691104  Vila Madalena  \n4905           1              1    0 -23.553087 -46.697890  Vila Madalena  \n...          ...            ...  ...        ...        ...            ...  \n13635          0              0    0 -23.653004 -46.635463      Jabaquara  \n13636          0              1    0 -23.648930 -46.641982      Jabaquara  \n13637          0              1    0 -23.649693 -46.649783      Jabaquara  \n13638          1              1    0 -23.652060 -46.637046      Jabaquara  \n13639          0              0    0 -23.613391 -46.523109  Jardim Ângela  \n\n[6412 rows x 14 columns]",
      "text/html": "<div>\n<style scoped>\n    .dataframe tbody tr th:only-of-type {\n        vertical-align: middle;\n    }\n\n    .dataframe tbody tr th {\n        vertical-align: top;\n    }\n\n    .dataframe thead th {\n        text-align: right;\n    }\n</style>\n<table border=\"1\" class=\"dataframe\">\n  <thead>\n    <tr style=\"text-align: right;\">\n      <th></th>\n      <th>Price</th>\n      <th>Condo</th>\n      <th>Size</th>\n      <th>Rooms</th>\n      <th>Toilets</th>\n      <th>Suites</th>\n      <th>Parking</th>\n      <th>Elevator</th>\n      <th>Furnished</th>\n      <th>Swimming Pool</th>\n      <th>New</th>\n      <th>Latitude</th>\n      <th>Longitude</th>\n      <th>Bairro</th>\n    </tr>\n  </thead>\n  <tbody>\n    <tr>\n      <th>4901</th>\n      <td>732600</td>\n      <td>1000</td>\n      <td>74</td>\n      <td>1</td>\n      <td>2</td>\n      <td>1</td>\n      <td>2</td>\n      <td>1</td>\n      <td>0</td>\n      <td>1</td>\n      <td>0</td>\n      <td>-23.552129</td>\n      <td>-46.692244</td>\n      <td>Vila Madalena</td>\n    </tr>\n    <tr>\n      <th>4902</th>\n      <td>1990000</td>\n      <td>2400</td>\n      <td>164</td>\n      <td>4</td>\n      <td>5</td>\n      <td>2</td>\n      <td>3</td>\n      <td>1</td>\n      <td>1</td>\n      <td>1</td>\n      <td>0</td>\n      <td>-23.551613</td>\n      <td>-46.699106</td>\n      <td>Vila Madalena</td>\n    </tr>\n    <tr>\n      <th>4903</th>\n      <td>720000</td>\n      <td>700</td>\n      <td>70</td>\n      <td>2</td>\n      <td>2</td>\n      <td>1</td>\n      <td>1</td>\n      <td>1</td>\n      <td>0</td>\n      <td>1</td>\n      <td>1</td>\n      <td>-23.547687</td>\n      <td>-46.692594</td>\n      <td>Vila Madalena</td>\n    </tr>\n    <tr>\n      <th>4904</th>\n      <td>1680000</td>\n      <td>1580</td>\n      <td>155</td>\n      <td>3</td>\n      <td>5</td>\n      <td>3</td>\n      <td>2</td>\n      <td>1</td>\n      <td>0</td>\n      <td>1</td>\n      <td>0</td>\n      <td>-23.552590</td>\n      <td>-46.691104</td>\n      <td>Vila Madalena</td>\n    </tr>\n    <tr>\n      <th>4905</th>\n      <td>1200000</td>\n      <td>900</td>\n      <td>56</td>\n      <td>2</td>\n      <td>2</td>\n      <td>1</td>\n      <td>2</td>\n      <td>0</td>\n      <td>1</td>\n      <td>1</td>\n      <td>0</td>\n      <td>-23.553087</td>\n      <td>-46.697890</td>\n      <td>Vila Madalena</td>\n    </tr>\n    <tr>\n      <th>...</th>\n      <td>...</td>\n      <td>...</td>\n      <td>...</td>\n      <td>...</td>\n      <td>...</td>\n      <td>...</td>\n      <td>...</td>\n      <td>...</td>\n      <td>...</td>\n      <td>...</td>\n      <td>...</td>\n      <td>...</td>\n      <td>...</td>\n      <td>...</td>\n    </tr>\n    <tr>\n      <th>13635</th>\n      <td>265000</td>\n      <td>420</td>\n      <td>51</td>\n      <td>2</td>\n      <td>1</td>\n      <td>0</td>\n      <td>1</td>\n      <td>0</td>\n      <td>0</td>\n      <td>0</td>\n      <td>0</td>\n      <td>-23.653004</td>\n      <td>-46.635463</td>\n      <td>Jabaquara</td>\n    </tr>\n    <tr>\n      <th>13636</th>\n      <td>545000</td>\n      <td>630</td>\n      <td>74</td>\n      <td>3</td>\n      <td>2</td>\n      <td>1</td>\n      <td>2</td>\n      <td>0</td>\n      <td>0</td>\n      <td>1</td>\n      <td>0</td>\n      <td>-23.648930</td>\n      <td>-46.641982</td>\n      <td>Jabaquara</td>\n    </tr>\n    <tr>\n      <th>13637</th>\n      <td>515000</td>\n      <td>1100</td>\n      <td>114</td>\n      <td>3</td>\n      <td>3</td>\n      <td>1</td>\n      <td>1</td>\n      <td>0</td>\n      <td>0</td>\n      <td>1</td>\n      <td>0</td>\n      <td>-23.649693</td>\n      <td>-46.649783</td>\n      <td>Jabaquara</td>\n    </tr>\n    <tr>\n      <th>13638</th>\n      <td>345000</td>\n      <td>48</td>\n      <td>39</td>\n      <td>1</td>\n      <td>2</td>\n      <td>1</td>\n      <td>1</td>\n      <td>0</td>\n      <td>1</td>\n      <td>1</td>\n      <td>0</td>\n      <td>-23.652060</td>\n      <td>-46.637046</td>\n      <td>Jabaquara</td>\n    </tr>\n    <tr>\n      <th>13639</th>\n      <td>161987</td>\n      <td>0</td>\n      <td>44</td>\n      <td>2</td>\n      <td>1</td>\n      <td>0</td>\n      <td>1</td>\n      <td>0</td>\n      <td>0</td>\n      <td>0</td>\n      <td>0</td>\n      <td>-23.613391</td>\n      <td>-46.523109</td>\n      <td>Jardim Ângela</td>\n    </tr>\n  </tbody>\n</table>\n<p>6412 rows × 14 columns</p>\n</div>"
     },
     "execution_count": 268,
     "metadata": {},
     "output_type": "execute_result"
    }
   ],
   "source": [
    "finalDf"
   ],
   "metadata": {
    "collapsed": false,
    "pycharm": {
     "name": "#%%\n"
    }
   }
  },
  {
   "cell_type": "code",
   "execution_count": 269,
   "outputs": [
    {
     "data": {
      "text/plain": "         Price  Condo  Size  Rooms  Toilets  Suites  Parking  Elevator  \\\n4901    732600   1000    74      1        2       1        2         1   \n4902   1990000   2400   164      4        5       2        3         1   \n4903    720000    700    70      2        2       1        1         1   \n4904   1680000   1580   155      3        5       3        2         1   \n4905   1200000    900    56      2        2       1        2         0   \n...        ...    ...   ...    ...      ...     ...      ...       ...   \n13635   265000    420    51      2        1       0        1         0   \n13636   545000    630    74      3        2       1        2         0   \n13637   515000   1100   114      3        3       1        1         0   \n13638   345000     48    39      1        2       1        1         0   \n13639   161987      0    44      2        1       0        1         0   \n\n       Furnished  Swimming Pool  New   Latitude  Longitude         Bairro  \n4901           0              1    0 -23.552129 -46.692244  Vila Madalena  \n4902           1              1    0 -23.551613 -46.699106  Vila Madalena  \n4903           0              1    1 -23.547687 -46.692594  Vila Madalena  \n4904           0              1    0 -23.552590 -46.691104  Vila Madalena  \n4905           1              1    0 -23.553087 -46.697890  Vila Madalena  \n...          ...            ...  ...        ...        ...            ...  \n13635          0              0    0 -23.653004 -46.635463      Jabaquara  \n13636          0              1    0 -23.648930 -46.641982      Jabaquara  \n13637          0              1    0 -23.649693 -46.649783      Jabaquara  \n13638          1              1    0 -23.652060 -46.637046      Jabaquara  \n13639          0              0    0 -23.613391 -46.523109  Jardim Ângela  \n\n[6412 rows x 14 columns]",
      "text/html": "<div>\n<style scoped>\n    .dataframe tbody tr th:only-of-type {\n        vertical-align: middle;\n    }\n\n    .dataframe tbody tr th {\n        vertical-align: top;\n    }\n\n    .dataframe thead th {\n        text-align: right;\n    }\n</style>\n<table border=\"1\" class=\"dataframe\">\n  <thead>\n    <tr style=\"text-align: right;\">\n      <th></th>\n      <th>Price</th>\n      <th>Condo</th>\n      <th>Size</th>\n      <th>Rooms</th>\n      <th>Toilets</th>\n      <th>Suites</th>\n      <th>Parking</th>\n      <th>Elevator</th>\n      <th>Furnished</th>\n      <th>Swimming Pool</th>\n      <th>New</th>\n      <th>Latitude</th>\n      <th>Longitude</th>\n      <th>Bairro</th>\n    </tr>\n  </thead>\n  <tbody>\n    <tr>\n      <th>4901</th>\n      <td>732600</td>\n      <td>1000</td>\n      <td>74</td>\n      <td>1</td>\n      <td>2</td>\n      <td>1</td>\n      <td>2</td>\n      <td>1</td>\n      <td>0</td>\n      <td>1</td>\n      <td>0</td>\n      <td>-23.552129</td>\n      <td>-46.692244</td>\n      <td>Vila Madalena</td>\n    </tr>\n    <tr>\n      <th>4902</th>\n      <td>1990000</td>\n      <td>2400</td>\n      <td>164</td>\n      <td>4</td>\n      <td>5</td>\n      <td>2</td>\n      <td>3</td>\n      <td>1</td>\n      <td>1</td>\n      <td>1</td>\n      <td>0</td>\n      <td>-23.551613</td>\n      <td>-46.699106</td>\n      <td>Vila Madalena</td>\n    </tr>\n    <tr>\n      <th>4903</th>\n      <td>720000</td>\n      <td>700</td>\n      <td>70</td>\n      <td>2</td>\n      <td>2</td>\n      <td>1</td>\n      <td>1</td>\n      <td>1</td>\n      <td>0</td>\n      <td>1</td>\n      <td>1</td>\n      <td>-23.547687</td>\n      <td>-46.692594</td>\n      <td>Vila Madalena</td>\n    </tr>\n    <tr>\n      <th>4904</th>\n      <td>1680000</td>\n      <td>1580</td>\n      <td>155</td>\n      <td>3</td>\n      <td>5</td>\n      <td>3</td>\n      <td>2</td>\n      <td>1</td>\n      <td>0</td>\n      <td>1</td>\n      <td>0</td>\n      <td>-23.552590</td>\n      <td>-46.691104</td>\n      <td>Vila Madalena</td>\n    </tr>\n    <tr>\n      <th>4905</th>\n      <td>1200000</td>\n      <td>900</td>\n      <td>56</td>\n      <td>2</td>\n      <td>2</td>\n      <td>1</td>\n      <td>2</td>\n      <td>0</td>\n      <td>1</td>\n      <td>1</td>\n      <td>0</td>\n      <td>-23.553087</td>\n      <td>-46.697890</td>\n      <td>Vila Madalena</td>\n    </tr>\n    <tr>\n      <th>...</th>\n      <td>...</td>\n      <td>...</td>\n      <td>...</td>\n      <td>...</td>\n      <td>...</td>\n      <td>...</td>\n      <td>...</td>\n      <td>...</td>\n      <td>...</td>\n      <td>...</td>\n      <td>...</td>\n      <td>...</td>\n      <td>...</td>\n      <td>...</td>\n    </tr>\n    <tr>\n      <th>13635</th>\n      <td>265000</td>\n      <td>420</td>\n      <td>51</td>\n      <td>2</td>\n      <td>1</td>\n      <td>0</td>\n      <td>1</td>\n      <td>0</td>\n      <td>0</td>\n      <td>0</td>\n      <td>0</td>\n      <td>-23.653004</td>\n      <td>-46.635463</td>\n      <td>Jabaquara</td>\n    </tr>\n    <tr>\n      <th>13636</th>\n      <td>545000</td>\n      <td>630</td>\n      <td>74</td>\n      <td>3</td>\n      <td>2</td>\n      <td>1</td>\n      <td>2</td>\n      <td>0</td>\n      <td>0</td>\n      <td>1</td>\n      <td>0</td>\n      <td>-23.648930</td>\n      <td>-46.641982</td>\n      <td>Jabaquara</td>\n    </tr>\n    <tr>\n      <th>13637</th>\n      <td>515000</td>\n      <td>1100</td>\n      <td>114</td>\n      <td>3</td>\n      <td>3</td>\n      <td>1</td>\n      <td>1</td>\n      <td>0</td>\n      <td>0</td>\n      <td>1</td>\n      <td>0</td>\n      <td>-23.649693</td>\n      <td>-46.649783</td>\n      <td>Jabaquara</td>\n    </tr>\n    <tr>\n      <th>13638</th>\n      <td>345000</td>\n      <td>48</td>\n      <td>39</td>\n      <td>1</td>\n      <td>2</td>\n      <td>1</td>\n      <td>1</td>\n      <td>0</td>\n      <td>1</td>\n      <td>1</td>\n      <td>0</td>\n      <td>-23.652060</td>\n      <td>-46.637046</td>\n      <td>Jabaquara</td>\n    </tr>\n    <tr>\n      <th>13639</th>\n      <td>161987</td>\n      <td>0</td>\n      <td>44</td>\n      <td>2</td>\n      <td>1</td>\n      <td>0</td>\n      <td>1</td>\n      <td>0</td>\n      <td>0</td>\n      <td>0</td>\n      <td>0</td>\n      <td>-23.613391</td>\n      <td>-46.523109</td>\n      <td>Jardim Ângela</td>\n    </tr>\n  </tbody>\n</table>\n<p>6412 rows × 14 columns</p>\n</div>"
     },
     "execution_count": 269,
     "metadata": {},
     "output_type": "execute_result"
    }
   ],
   "source": [
    "originalDf"
   ],
   "metadata": {
    "collapsed": false,
    "pycharm": {
     "name": "#%%\n"
    }
   }
  },
  {
   "cell_type": "code",
   "execution_count": 326,
   "outputs": [
    {
     "data": {
      "text/plain": "<Figure size 432x288 with 1 Axes>",
      "image/png": "[encoded data removed]"
     },
     "metadata": {
      "needs_background": "light"
     },
     "output_type": "display_data"
    },
    {
     "data": {
      "text/plain": "<Figure size 432x288 with 1 Axes>",
      "image/png": "[encoded data removed]"
     },
     "metadata": {
      "needs_background": "light"
     },
     "output_type": "display_data"
    },
    {
     "data": {
      "text/plain": "<Figure size 432x288 with 1 Axes>",
      "image/png": "[encoded data removed]"
     },
     "metadata": {
      "needs_background": "light"
     },
     "output_type": "display_data"
    },
    {
     "data": {
      "text/plain": "<Figure size 432x288 with 1 Axes>",
      "image/png": "[encoded data removed]"
     },
     "metadata": {
      "needs_background": "light"
     },
     "output_type": "display_data"
    },
    {
     "data": {
      "text/plain": "<Figure size 432x288 with 1 Axes>",
      "image/png": "[encoded data removed]"
     },
     "metadata": {
      "needs_background": "light"
     },
     "output_type": "display_data"
    },
    {
     "data": {
      "text/plain": "<Figure size 432x288 with 1 Axes>",
      "image/png": "[encoded data removed]"
     },
     "metadata": {
      "needs_background": "light"
     },
     "output_type": "display_data"
    },
    {
     "data": {
      "text/plain": "<Figure size 432x288 with 1 Axes>",
      "image/png": "[encoded data removed]"
     },
     "metadata": {
      "needs_background": "light"
     },
     "output_type": "display_data"
    },
    {
     "data": {
      "text/plain": "<Figure size 432x288 with 1 Axes>",
      "image/png": "[encoded data removed]"
     },
     "metadata": {
      "needs_background": "light"
     },
     "output_type": "display_data"
    },
    {
     "data": {
      "text/plain": "<Figure size 432x288 with 1 Axes>",
      "image/png": "[encoded data removed]"
     },
     "metadata": {
      "needs_background": "light"
     },
     "output_type": "display_data"
    },
    {
     "data": {
      "text/plain": "<Figure size 432x288 with 1 Axes>",
      "image/png": "[encoded data removed]"
     },
     "metadata": {
      "needs_background": "light"
     },
     "output_type": "display_data"
    },
    {
     "data": {
      "text/plain": "<Figure size 432x288 with 1 Axes>",
      "image/png": "[encoded data removed]"
     },
     "metadata": {
      "needs_background": "light"
     },
     "output_type": "display_data"
    },
    {
     "data": {
      "text/plain": "<Figure size 432x288 with 1 Axes>",
      "image/png": "[encoded data removed]"
     },
     "metadata": {
      "needs_background": "light"
     },
     "output_type": "display_data"
    },
    {
     "data": {
      "text/plain": "<Figure size 432x288 with 1 Axes>",
      "image/png": "[encoded data removed]"
     },
     "metadata": {
      "needs_background": "light"
     },
     "output_type": "display_data"
    }
   ],
   "source": [
    "for i in bairroLessDf.columns:\n",
    "    bairroLessDf[i].plot.hist( legend=True )\n",
    "    plt.show()"
   ],
   "metadata": {
    "collapsed": false,
    "pycharm": {
     "name": "#%%\n"
    }
   }
  },
  {
   "cell_type": "code",
   "execution_count": 327,
   "outputs": [],
   "source": [
    "x = bairroLessDf.drop(columns=[\"Price\"])\n",
    "y = bairroLessDf[\"Price\"]\n",
    "\n",
    "x_train, x_test, y_train, y_test = train_test_split(x, y,\n",
    "                                                   test_size=0.2,\n",
    "                                                   random_state=22)"
   ],
   "metadata": {
    "collapsed": false,
    "pycharm": {
     "name": "#%%\n"
    }
   }
  },
  {
   "cell_type": "code",
   "execution_count": 347,
   "outputs": [
    {
     "data": {
      "text/plain": "11629    1000000\n13343     285000\n11953     339000\n8943     1400000\n6333      174000\n          ...   \n12706     300000\n5544      930000\n12136    2300000\n13504     309000\n8121      550000\nName: Price, Length: 5129, dtype: int64"
     },
     "execution_count": 347,
     "metadata": {},
     "output_type": "execute_result"
    }
   ],
   "source": [
    "y_train"
   ],
   "metadata": {
    "collapsed": false,
    "pycharm": {
     "name": "#%%\n"
    }
   }
  },
  {
   "cell_type": "code",
   "execution_count": null,
   "outputs": [],
   "source": [],
   "metadata": {
    "collapsed": false,
    "pycharm": {
     "name": "#%%\n"
    }
   }
  },
  {
   "cell_type": "code",
   "execution_count": 341,
   "outputs": [
    {
     "data": {
      "text/plain": "array([[0.04147982, 0.04067797, 0.2       , ..., 0.        , 0.49718083,\n        0.05387033],\n       [0.04932735, 0.05084746, 0.4       , ..., 0.        , 0.49488233,\n        0.05716405],\n       [0.44843049, 0.34237288, 0.6       , ..., 0.        , 0.49580452,\n        0.05419963],\n       ...,\n       [0.2544843 , 0.1440678 , 0.4       , ..., 0.        , 0.49478298,\n        0.05428746],\n       [0.02970852, 0.04915254, 0.4       , ..., 0.        , 0.49494645,\n        0.05813367],\n       [0.0896861 , 0.11016949, 0.6       , ..., 0.        , 0.49501694,\n        0.05283229]])"
     },
     "execution_count": 341,
     "metadata": {},
     "output_type": "execute_result"
    }
   ],
   "source": [
    "minmax = MinMaxScaler()\n",
    "\n",
    "x_train_scaled = minmax.fit_transform(x_train)\n",
    "\n",
    "x_test_scaled = minmax.transform(x_test)\n",
    "\n",
    "x_train_scaled\n",
    "x_test_scaled"
   ],
   "metadata": {
    "collapsed": false,
    "pycharm": {
     "name": "#%%\n"
    }
   }
  },
  {
   "cell_type": "code",
   "execution_count": null,
   "outputs": [],
   "source": [],
   "metadata": {
    "collapsed": false,
    "pycharm": {
     "name": "#%%\n",
     "is_executing": true
    }
   }
  },
  {
   "cell_type": "code",
   "execution_count": 329,
   "outputs": [],
   "source": [
    "def adjusted_r2(y_test, y_pred,X_train):\n",
    "\n",
    "    from sklearn.metrics import r2_score\n",
    "\n",
    "\n",
    "\n",
    "    adj_r2 = (1 - ((1 - r2_score(y_test, y_pred)) * (len(y_test) - 1)) /\n",
    "    (len(y_test) - X_train.shape[1] - 1))\n",
    "\n",
    "    return adj_r2\n"
   ],
   "metadata": {
    "collapsed": false,
    "pycharm": {
     "name": "#%%\n"
    }
   }
  },
  {
   "cell_type": "code",
   "execution_count": 330,
   "outputs": [],
   "source": [
    "def metrics_builder(y_test,y_pred):\n",
    "    # import numpy as np\n",
    "\n",
    "    # RAjusted = adjusted_r2(y_test,y_pred,x_train)\n",
    "    MSE = metrics.mean_squared_error(y_test,y_pred)\n",
    "    # RMSE = metrics.mean_squared_error(y_test,y_pred,squared=False)\n",
    "    MAE = metrics.mean_absolute_error(y_test,y_pred)\n",
    "    # MAPE = np.mean(np.abs((y_test - y_pred) / y_test)) * 100\n",
    "    # RMSLE = metrics.mean_squared_log_error(y_test,y_pred)\n",
    "\n",
    "    # print(\"RAjusted: \",RAjusted)\n",
    "    print(\"MSE: \",MSE)\n",
    "    # print(\"RMSE: \",RMSE)\n",
    "    print(\"MAE: \",MAE)\n",
    "    # print(\"MAPE: \",MAPE)\n",
    "    # print(\"RMSLE: \",RMSLE)"
   ],
   "metadata": {
    "collapsed": false,
    "pycharm": {
     "name": "#%%\n"
    }
   }
  },
  {
   "cell_type": "code",
   "execution_count": 333,
   "outputs": [],
   "source": [
    "def mine_knn(x_train, x_test, y_train, y_test, k=0):\n",
    "\n",
    "    if k == 0:\n",
    "        k = int( (len(y_train) + len(y_test)) ** 0.5 )\n",
    "\n",
    "\n",
    "    knn = KNeighborsRegressor(n_neighbors=k)\n",
    "\n",
    "    knn.fit(x_train, y_train)\n",
    "\n",
    "    y_pred = knn.predict(x_test)\n",
    "\n",
    "    print(\"k:\",k)\n",
    "\n",
    "    metrics_builder(y_test,y_pred)\n"
   ],
   "metadata": {
    "collapsed": false,
    "pycharm": {
     "name": "#%%\n"
    }
   }
  },
  {
   "cell_type": "code",
   "execution_count": 334,
   "outputs": [
    {
     "name": "stdout",
     "output_type": "stream",
     "text": [
      "k: 80\n",
      "MSE:  287205569072.89606\n",
      "MAE:  219634.98271628993\n"
     ]
    }
   ],
   "source": [
    "mine_knn(x_train_scaled, x_test_scaled, y_train, y_test)"
   ],
   "metadata": {
    "collapsed": false,
    "pycharm": {
     "name": "#%%\n"
    }
   }
  },
  {
   "cell_type": "code",
   "execution_count": 335,
   "outputs": [
    {
     "name": "stdout",
     "output_type": "stream",
     "text": [
      "k: 80\n",
      "MSE:  287205569072.89606\n",
      "MAE:  219634.98271628993\n",
      "k: 1\n",
      "MSE:  216971297695.93686\n",
      "MAE:  203264.06313328136\n",
      "k: 2\n",
      "MSE:  186968556113.9657\n",
      "MAE:  187821.37022603274\n",
      "k: 3\n",
      "MSE:  174040912014.4201\n",
      "MAE:  181080.1156144453\n",
      "k: 4\n",
      "MSE:  159942988291.5818\n",
      "MAE:  172554.72310989868\n",
      "k: 5\n",
      "MSE:  160786906499.42807\n",
      "MAE:  172079.54325798908\n",
      "k: 6\n",
      "MSE:  164579004178.46628\n",
      "MAE:  171770.18511301637\n",
      "k: 7\n",
      "MSE:  158582607033.1082\n",
      "MAE:  171349.13016367887\n",
      "k: 8\n",
      "MSE:  153787588681.80408\n",
      "MAE:  170033.1043452845\n",
      "k: 9\n",
      "MSE:  158728696226.14087\n",
      "MAE:  171258.40045033343\n",
      "k: 10\n",
      "MSE:  163109243774.26993\n",
      "MAE:  172867.4539360873\n",
      "k: 11\n",
      "MSE:  164888305096.6575\n",
      "MAE:  174389.8302274499\n",
      "k: 12\n",
      "MSE:  169346024487.2632\n",
      "MAE:  175013.4293322941\n",
      "k: 13\n",
      "MSE:  170335085451.88422\n",
      "MAE:  176490.88284669345\n",
      "k: 14\n",
      "MSE:  171119747159.0112\n",
      "MAE:  176629.06591693574\n",
      "k: 15\n",
      "MSE:  174870673623.12595\n",
      "MAE:  178634.66287347363\n",
      "k: 16\n",
      "MSE:  178834685597.4875\n",
      "MAE:  180491.8079696025\n",
      "k: 17\n",
      "MSE:  183437841197.24704\n",
      "MAE:  182410.57154646737\n",
      "k: 18\n",
      "MSE:  188655423590.2334\n",
      "MAE:  184509.64570884212\n",
      "k: 19\n",
      "MSE:  194997763533.64194\n",
      "MAE:  186135.8325060508\n"
     ]
    }
   ],
   "source": [
    "for i in range(0,20,1):\n",
    "    mine_knn(x_train_scaled, x_test_scaled, y_train, y_test,k=i)"
   ],
   "metadata": {
    "collapsed": false,
    "pycharm": {
     "name": "#%%\n"
    }
   }
  },
  {
   "cell_type": "code",
   "execution_count": 336,
   "outputs": [],
   "source": [
    "def call_floresta(x_train, x_test, y_train, y_test,estimators, depth, impurity):\n",
    "    #floresta = RandomForestRegressor(n_estimators=estimators,max_depth=depth,min_impurity_decrease=impurity,random_state=22)\n",
    "    floresta = RandomForestRegressor(n_estimators=estimators,random_state=22)\n",
    "    floresta.fit(x_train,y_train)\n",
    "\n",
    "    y_pred = floresta.predict(x_test)\n",
    "\n",
    "    print(f\"Estim -> {estimators} = Depth: {depth}, Impurity: {impurity}\")\n",
    "\n",
    "\n",
    "    metrics_builder(y_test,y_pred)"
   ],
   "metadata": {
    "collapsed": false,
    "pycharm": {
     "name": "#%%\n"
    }
   }
  },
  {
   "cell_type": "code",
   "execution_count": 337,
   "outputs": [
    {
     "name": "stdout",
     "output_type": "stream",
     "text": [
      "Estim -> 1 = Depth: 5, Impurity: 0.0001\n",
      "MSE:  125165640666.65025\n",
      "MAE:  162397.3702732705\n",
      "Estim -> 3 = Depth: 5, Impurity: 0.0001\n",
      "MSE:  76268450871.27432\n",
      "MAE:  126839.92362439675\n",
      "Estim -> 5 = Depth: 5, Impurity: 0.0001\n",
      "MSE:  64806705223.40568\n",
      "MAE:  115467.23119866972\n",
      "Estim -> 7 = Depth: 5, Impurity: 0.0001\n",
      "MSE:  62383987145.320244\n",
      "MAE:  110315.49055054795\n",
      "Estim -> 9 = Depth: 5, Impurity: 0.0001\n",
      "MSE:  61496244735.45719\n",
      "MAE:  108793.64073808999\n",
      "Estim -> 11 = Depth: 5, Impurity: 0.0001\n",
      "MSE:  59733039173.59385\n",
      "MAE:  107263.43857230774\n",
      "Estim -> 13 = Depth: 5, Impurity: 0.0001\n",
      "MSE:  58267054652.05986\n",
      "MAE:  106405.96422359043\n",
      "Estim -> 15 = Depth: 5, Impurity: 0.0001\n",
      "MSE:  57866377949.43025\n",
      "MAE:  106055.13377292117\n",
      "Estim -> 17 = Depth: 5, Impurity: 0.0001\n",
      "MSE:  57666913086.9522\n",
      "MAE:  105567.22517829371\n",
      "Estim -> 19 = Depth: 5, Impurity: 0.0001\n",
      "MSE:  56227246806.39926\n",
      "MAE:  104285.53274064661\n"
     ]
    }
   ],
   "source": [
    "for i in range(1,21,2):\n",
    "    call_floresta(x_train_scaled, x_test_scaled, y_train, y_test,estimators = i, depth = 5, impurity = 0.0001)"
   ],
   "metadata": {
    "collapsed": false,
    "pycharm": {
     "name": "#%%\n"
    }
   }
  },
  {
   "cell_type": "code",
   "execution_count": 338,
   "outputs": [],
   "source": [
    "def call_mlp(x_train, x_test, y_train, y_test, l_s, epochs=100):\n",
    "    mlp = MLPRegressor(hidden_layer_sizes=l_s,max_iter=epochs,random_state=22)\n",
    "    mlp.fit(x_train,y_train)\n",
    "\n",
    "    y_pred = mlp.predict(x_test)\n",
    "\n",
    "    print(\"Hidden layers:\",l_s)\n",
    "    print(\"Epochs\",epochs)\n",
    "\n",
    "    metrics_builder(y_test,y_pred)"
   ],
   "metadata": {
    "collapsed": false,
    "pycharm": {
     "name": "#%%\n"
    }
   }
  },
  {
   "cell_type": "code",
   "execution_count": 350,
   "outputs": [
    {
     "name": "stdout",
     "output_type": "stream",
     "text": [
      "Hidden layers: (12, 5)\n",
      "Epochs 200000000000000000000000000000000\n",
      "MSE:  126200078785.88728\n",
      "MAE:  175968.5790706537\n"
     ]
    },
    {
     "name": "stderr",
     "output_type": "stream",
     "text": [
      "C:\\Users\\mathe\\PycharmProjects\\120121\\venv\\lib\\site-packages\\sklearn\\neural_network\\_multilayer_perceptron.py:699: UserWarning: Training interrupted by user.\n",
      "  warnings.warn(\"Training interrupted by user.\")\n"
     ]
    }
   ],
   "source": [
    "call_mlp(x_train,x_test,y_train,y_test,(12,5),200000000000000000000000000000000)"
   ],
   "metadata": {
    "collapsed": false,
    "pycharm": {
     "name": "#%%\n"
    }
   }
  },
  {
   "cell_type": "code",
   "execution_count": 344,
   "outputs": [
    {
     "name": "stdout",
     "output_type": "stream",
     "text": [
      "Hidden layers: (3, 3)\n",
      "Epochs 400\n",
      "MSE:  281798410140.3835\n",
      "MAE:  256292.6949220419\n"
     ]
    },
    {
     "name": "stderr",
     "output_type": "stream",
     "text": [
      "C:\\Users\\mathe\\PycharmProjects\\120121\\venv\\lib\\site-packages\\sklearn\\neural_network\\_multilayer_perceptron.py:692: ConvergenceWarning: Stochastic Optimizer: Maximum iterations (400) reached and the optimization hasn't converged yet.\n",
      "  warnings.warn(\n"
     ]
    }
   ],
   "source": [],
   "metadata": {
    "collapsed": false,
    "pycharm": {
     "name": "#%%\n"
    }
   }
  },
  {
   "cell_type": "code",
   "execution_count": null,
   "outputs": [],
   "source": [
    "281798410140\n",
    "128786211997"
   ],
   "metadata": {
    "collapsed": false,
    "pycharm": {
     "name": "#%%\n"
    }
   }
  }
 ],
 "metadata": {
  "kernelspec": {
   "display_name": "Python 3",
   "language": "python",
   "name": "python3"
  },
  "language_info": {
   "codemirror_mode": {
    "name": "ipython",
    "version": 2
   },
   "file_extension": ".py",
   "mimetype": "text/x-python",
   "name": "python",
   "nbconvert_exporter": "python",
   "pygments_lexer": "ipython2",
   "version": "2.7.6"
  }
 },
 "nbformat": 4,
 "nbformat_minor": 0
}