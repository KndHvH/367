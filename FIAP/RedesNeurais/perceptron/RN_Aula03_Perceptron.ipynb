{
 "cells": [
  {
   "cell_type": "markdown",
   "metadata": {
    "id": "QKRXt9ru0Ato"
   },
   "source": [
    "FIAP - Redes Neurais Artificiais, Deep Learning e Algoritmos Genéticos \n",
    "\n",
    "# Aula 03 - Trabalhando com Perceptron\n",
    "\n",
    "## Implementação de um Perceptron simples"
   ]
  },
  {
   "cell_type": "code",
   "execution_count": 8,
   "outputs": [
    {
     "name": "stdout",
     "output_type": "stream",
     "text": [
      "Collecting openpyxl\n",
      "  Downloading openpyxl-3.0.9-py2.py3-none-any.whl (242 kB)\n",
      "     -------------------------------------- 242.2/242.2 KB 7.2 MB/s eta 0:00:00\n",
      "Collecting et-xmlfile\n",
      "  Downloading et_xmlfile-1.1.0-py3-none-any.whl (4.7 kB)\n",
      "Installing collected packages: et-xmlfile, openpyxl\n",
      "Successfully installed et-xmlfile-1.1.0 openpyxl-3.0.9\n"
     ]
    }
   ],
   "source": [
    "!pip install openpyxl"
   ],
   "metadata": {
    "collapsed": false,
    "pycharm": {
     "name": "#%%\n"
    }
   }
  },
  {
   "cell_type": "code",
   "execution_count": 1,
   "outputs": [],
   "source": [
    "# Definir a função de agregação de informação (soma poderada)\n",
    "def soma(X, W):\n",
    "    soma = 0\n",
    "    for i in range(len(X)):\n",
    "        soma += X[i]*W[i]\n",
    "    return soma"
   ],
   "metadata": {
    "collapsed": false,
    "pycharm": {
     "name": "#%%\n"
    }
   }
  },
  {
   "cell_type": "code",
   "execution_count": 2,
   "outputs": [],
   "source": [
    "# Definir a função de ativação: FUNÇÃO DEGRAU\n",
    "def funcao_ativacao_degrau(u, b=0):\n",
    "    if u+b>=0:\n",
    "        return 1\n",
    "    else:\n",
    "        return 0"
   ],
   "metadata": {
    "collapsed": false,
    "pycharm": {
     "name": "#%%\n"
    }
   }
  },
  {
   "cell_type": "code",
   "execution_count": 3,
   "outputs": [],
   "source": [
    "X = [1, 2, 3]       # entradas\n",
    "W = [0.1, 0.2, 0.3] # pesos\n",
    "b = 0               # viés"
   ],
   "metadata": {
    "collapsed": false,
    "pycharm": {
     "name": "#%%\n"
    }
   }
  },
  {
   "cell_type": "code",
   "execution_count": 4,
   "outputs": [
    {
     "name": "stdout",
     "output_type": "stream",
     "text": [
      "Para os parametros de entrada (X e W), o neurônio foi ativado, pois o f(1.40)=1\n"
     ]
    }
   ],
   "source": [
    "u = soma(X, W)\n",
    "resposta = funcao_ativacao_degrau(u, b)\n",
    "print(\"Para os parametros de entrada (X e W), o neurônio{0} foi ativado, pois o f({1:.2f})={2}\".\n",
    "      format(\"\" if resposta == 1 else \" não\",\n",
    "             u,\n",
    "             resposta))"
   ],
   "metadata": {
    "collapsed": false,
    "pycharm": {
     "name": "#%%\n"
    }
   }
  },
  {
   "cell_type": "markdown",
   "source": [
    "## Casos de aplicação do perceptron\n",
    "\n",
    "Vamos analisar a base `escolha_faculdade.xlsx` com exemplos de faculdades identificadas pelo ID e com um conjunto de variáveis que as descrevem. As variáveis são:\n",
    "\n",
    "- reconhecida_MEC: a faculdade é reconhecida pelo MEC? 1=sim ; 0=não\n",
    "- facilidade_pagamento: a faculdade apresenta facilidades para pagamento? 1=sim ; 0=não\n",
    "- flexibilidade_ensino: o quão flexível é o método de ensino? 1=somente presencial ; 2=somente EAD ; 3=misto\n",
    "- entrada_mercado: o que a faculdade oferece para facilitar a entrada do aluno no mercado de trabalho? 0=sem suporte ; 1=feiras ; 2=feiras e estágios ; 3=feiras, estágios e convênios com empresas\n",
    "- score_infraestrutura: qual nota de 0 a 100 a escola possui para sua infraestrutura?\n",
    "- empregabilidade: qual a porcentagem de alunos egressos empregados?\n",
    "- acesso_facil: a localização possui fácil acesso, como metrô, ônibus, estacionamento? 1=sim ; 0=não"
   ],
   "metadata": {
    "collapsed": false
   }
  },
  {
   "cell_type": "code",
   "execution_count": 5,
   "outputs": [],
   "source": [
    "# Pesos já fornecidos\n",
    "pesos = [ 0.10, 0.05, 0.05, 0.2, 0.25, 0.3, 0.05 ]"
   ],
   "metadata": {
    "collapsed": false,
    "pycharm": {
     "name": "#%%\n"
    }
   }
  },
  {
   "cell_type": "code",
   "execution_count": 6,
   "outputs": [],
   "source": [
    "import pandas as pd\n",
    "import math"
   ],
   "metadata": {
    "collapsed": false,
    "pycharm": {
     "name": "#%%\n"
    }
   }
  },
  {
   "cell_type": "code",
   "execution_count": 9,
   "outputs": [],
   "source": [
    "df = pd.read_excel(\"escolha_faculdade.xlsx\", index_col=\"ID\")"
   ],
   "metadata": {
    "collapsed": false,
    "pycharm": {
     "name": "#%%\n"
    }
   }
  },
  {
   "cell_type": "code",
   "execution_count": null,
   "metadata": {
    "colab": {
     "base_uri": "https://localhost:8080/",
     "height": 299
    },
    "id": "GRuc3G1k0Att",
    "outputId": "9f7818aa-0819-4d0b-eab1-ffc5eec35f35",
    "pycharm": {
     "is_executing": true
    }
   },
   "outputs": [],
   "source": [
    "df.head()"
   ]
  },
  {
   "cell_type": "code",
   "execution_count": 12,
   "metadata": {
    "id": "SSWXDP6t0Atu"
   },
   "outputs": [],
   "source": [
    "escolas = df.T"
   ]
  },
  {
   "cell_type": "code",
   "execution_count": null,
   "metadata": {
    "colab": {
     "base_uri": "https://localhost:8080/",
     "height": 266
    },
    "id": "hUMytZzk0Atu",
    "outputId": "481cacb8-07dc-409b-aea9-aeaa39bc0a66",
    "pycharm": {
     "is_executing": true
    }
   },
   "outputs": [],
   "source": [
    "escolas"
   ]
  },
  {
   "cell_type": "code",
   "execution_count": null,
   "metadata": {
    "colab": {
     "base_uri": "https://localhost:8080/"
    },
    "id": "thmZ1_h10Atu",
    "outputId": "5b7f3e77-97aa-402a-9046-c47f835865bd",
    "pycharm": {
     "is_executing": true
    }
   },
   "outputs": [],
   "source": [
    "soma(escolas[1],pesos)"
   ]
  },
  {
   "cell_type": "code",
   "execution_count": 15,
   "metadata": {
    "id": "LQzQf1jy0Atu"
   },
   "outputs": [],
   "source": [
    "def funcao_classificacao(u,b=0):\n",
    "  if u+b>35:         #35 é um limi\n",
    "    return \"Sim\"\n",
    "  else:\n",
    "    return \"Nao\""
   ]
  },
  {
   "cell_type": "code",
   "execution_count": 16,
   "metadata": {
    "id": "r1ErNDlx0Atv"
   },
   "outputs": [],
   "source": [
    "elegibilidade=[]\n",
    "for i in range(1,11):\n",
    "  \n",
    "  u = soma(escolas[i],pesos)\n",
    "  resp = funcao_classificacao(u,)\n",
    "  elegibilidade.append(resp)\n"
   ]
  },
  {
   "cell_type": "code",
   "execution_count": 17,
   "metadata": {
    "id": "q5LQFGkF0Atv"
   },
   "outputs": [],
   "source": [
    "df[\"Elegivel?\"] = elegibilidade"
   ]
  },
  {
   "cell_type": "code",
   "execution_count": null,
   "metadata": {
    "colab": {
     "base_uri": "https://localhost:8080/",
     "height": 266
    },
    "id": "uuOy3nK20Atv",
    "outputId": "1502730c-bc91-4105-db9d-d21052663ce0",
    "pycharm": {
     "is_executing": true
    }
   },
   "outputs": [],
   "source": [
    "df"
   ]
  },
  {
   "cell_type": "code",
   "execution_count": null,
   "metadata": {
    "colab": {
     "base_uri": "https://localhost:8080/",
     "height": 330
    },
    "id": "x2yRUiTT0Atv",
    "outputId": "53363e14-f7ea-4f6d-90d6-3c599cebcba8",
    "pycharm": {
     "is_executing": true
    }
   },
   "outputs": [],
   "source": [
    "df[ df[\"Elegivel?\"] == \"Sim\"]"
   ]
  },
  {
   "cell_type": "code",
   "source": [
    "def funcao_regressao(u,b=0):\n",
    "  return (u*u+b)"
   ],
   "metadata": {
    "id": "owf2yf8O40uB"
   },
   "execution_count": 26,
   "outputs": []
  },
  {
   "cell_type": "code",
   "source": [
    "funcao_regressao(3)"
   ],
   "metadata": {
    "id": "y9RZ8cxw40wJ",
    "outputId": "8321066e-e186-45c6-f1e3-cfd951d3f91a",
    "colab": {
     "base_uri": "https://localhost:8080/"
    },
    "pycharm": {
     "is_executing": true
    }
   },
   "execution_count": null,
   "outputs": []
  },
  {
   "cell_type": "code",
   "source": [
    "scores =[]\n",
    "\n",
    "for i in range(1,11):\n",
    "  u = soma(escolas[i],pesos)\n",
    "  resp = funcao_regressao(u,0)\n",
    "  scores.append(resp)"
   ],
   "metadata": {
    "id": "nAQISI0b40yR"
   },
   "execution_count": 28,
   "outputs": []
  },
  {
   "cell_type": "code",
   "source": [
    "\n",
    "resp"
   ],
   "metadata": {
    "id": "TNJcxSjDAZHL",
    "pycharm": {
     "is_executing": true
    }
   },
   "execution_count": null,
   "outputs": []
  },
  {
   "cell_type": "code",
   "source": [
    "pesos=[0]\n",
    "certa = 1"
   ],
   "metadata": {
    "id": "qEeyShJhAZI4"
   },
   "execution_count": 28,
   "outputs": []
  },
  {
   "cell_type": "code",
   "source": [
    "#pesos(n+1) = peso(n) + (taxaAprendizagem * entrada * erro)\n",
    "erro = 1\n",
    "while erro != 0:\n",
    "  i=0\n",
    "  pesos[i+1] = pesos[i] + (0.1 * 1 *erro)\n",
    "\n",
    "\n",
    "  resposta = (pesos[i+1] *1) + (pesos[i+1] *1)\n",
    "\n",
    "\n",
    "  i+=1\n",
    "  erro = certa-resposta\n",
    "for i in pesos:\n",
    "  print(pesos[i])"
   ],
   "metadata": {
    "id": "Yyh5WnP7AZxh",
    "outputId": "5214864a-5c1c-493b-8d6f-9c377d4f1f96",
    "colab": {
     "base_uri": "https://localhost:8080/",
     "height": 232
    }
   },
   "execution_count": 32,
   "outputs": [
    {
     "output_type": "error",
     "ename": "IndexError",
     "evalue": "ignored",
     "traceback": [
      "\u001B[0;31m---------------------------------------------------------------------------\u001B[0m",
      "\u001B[0;31mIndexError\u001B[0m                                Traceback (most recent call last)",
      "\u001B[0;32m<ipython-input-32-68e0444a9d1e>\u001B[0m in \u001B[0;36m<module>\u001B[0;34m()\u001B[0m\n\u001B[1;32m      3\u001B[0m \u001B[0;32mwhile\u001B[0m \u001B[0merro\u001B[0m \u001B[0;34m!=\u001B[0m \u001B[0;36m0\u001B[0m\u001B[0;34m:\u001B[0m\u001B[0;34m\u001B[0m\u001B[0;34m\u001B[0m\u001B[0m\n\u001B[1;32m      4\u001B[0m   \u001B[0mi\u001B[0m\u001B[0;34m=\u001B[0m\u001B[0;36m1\u001B[0m\u001B[0;34m\u001B[0m\u001B[0;34m\u001B[0m\u001B[0m\n\u001B[0;32m----> 5\u001B[0;31m   \u001B[0mpesos\u001B[0m\u001B[0;34m[\u001B[0m\u001B[0mi\u001B[0m\u001B[0;34m+\u001B[0m\u001B[0;36m1\u001B[0m\u001B[0;34m]\u001B[0m \u001B[0;34m=\u001B[0m \u001B[0mpesos\u001B[0m\u001B[0;34m[\u001B[0m\u001B[0mi\u001B[0m\u001B[0;34m]\u001B[0m \u001B[0;34m+\u001B[0m \u001B[0;34m(\u001B[0m\u001B[0;36m0.1\u001B[0m \u001B[0;34m*\u001B[0m \u001B[0;36m1\u001B[0m \u001B[0;34m*\u001B[0m\u001B[0merro\u001B[0m\u001B[0;34m)\u001B[0m\u001B[0;34m\u001B[0m\u001B[0;34m\u001B[0m\u001B[0m\n\u001B[0m\u001B[1;32m      6\u001B[0m \u001B[0;34m\u001B[0m\u001B[0m\n\u001B[1;32m      7\u001B[0m \u001B[0;34m\u001B[0m\u001B[0m\n",
      "\u001B[0;31mIndexError\u001B[0m: list index out of range"
     ]
    }
   ]
  }
 ],
 "metadata": {
  "kernelspec": {
   "display_name": "Python 3",
   "language": "python",
   "name": "python3"
  },
  "language_info": {
   "codemirror_mode": {
    "name": "ipython",
    "version": 3
   },
   "file_extension": ".py",
   "mimetype": "text/x-python",
   "name": "python",
   "nbconvert_exporter": "python",
   "pygments_lexer": "ipython3",
   "version": "3.7.3"
  },
  "colab": {
   "name": "RN_Aula03_Perceptron --- AULA 29mar.ipynb",
   "provenance": []
  }
 },
 "nbformat": 4,
 "nbformat_minor": 0
}