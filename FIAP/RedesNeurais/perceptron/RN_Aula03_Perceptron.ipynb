{
 "cells": [
  {
   "cell_type": "markdown",
   "metadata": {
    "id": "QKRXt9ru0Ato"
   },
   "source": [
    "FIAP - Redes Neurais Artificiais, Deep Learning e Algoritmos Genéticos \n",
    "\n",
    "# Aula 03 - Trabalhando com Perceptron\n",
    "\n",
    "## Implementação de um Perceptron simples"
   ]
  },
  {
   "cell_type": "code",
   "execution_count": null,
   "outputs": [],
   "source": [
    "!pip install openpyxl"
   ],
   "metadata": {
    "pycharm": {
     "name": "#%%\n"
    },
    "id": "d_RjLin-16NN"
   }
  },
  {
   "cell_type": "code",
   "execution_count": null,
   "outputs": [],
   "source": [
    "# Definir a função de agregação de informação (soma poderada)\n",
    "def soma(X, W):\n",
    "    soma = 0\n",
    "    for i in range(len(X)):\n",
    "        soma += X[i]*W[i]\n",
    "    return soma"
   ],
   "metadata": {
    "pycharm": {
     "name": "#%%\n"
    },
    "id": "SJuBkmJJ16NP"
   }
  },
  {
   "cell_type": "code",
   "execution_count": null,
   "outputs": [],
   "source": [
    "# Definir a função de ativação: FUNÇÃO DEGRAU\n",
    "def funcao_ativacao_degrau(u, b=0):\n",
    "    if u+b>=0:\n",
    "        return 1\n",
    "    else:\n",
    "        return 0"
   ],
   "metadata": {
    "pycharm": {
     "name": "#%%\n"
    },
    "id": "jHFAwR6S16NQ"
   }
  },
  {
   "cell_type": "code",
   "execution_count": null,
   "outputs": [],
   "source": [
    "X = [1, 2, 3]       # entradas\n",
    "W = [0.1, 0.2, 0.3] # pesos\n",
    "b = 0               # viés"
   ],
   "metadata": {
    "pycharm": {
     "name": "#%%\n"
    },
    "id": "KGlVkkoS16NQ"
   }
  },
  {
   "cell_type": "code",
   "execution_count": null,
   "outputs": [
    {
     "name": "stdout",
     "output_type": "stream",
     "text": [
      "Para os parametros de entrada (X e W), o neurônio foi ativado, pois o f(1.40)=1\n"
     ]
    }
   ],
   "source": [
    "u = soma(X, W)\n",
    "resposta = funcao_ativacao_degrau(u, b)\n",
    "print(\"Para os parametros de entrada (X e W), o neurônio{0} foi ativado, pois o f({1:.2f})={2}\".\n",
    "      format(\"\" if resposta == 1 else \" não\",\n",
    "             u,\n",
    "             resposta))"
   ],
   "metadata": {
    "pycharm": {
     "name": "#%%\n"
    },
    "id": "8CZRhGP716NR",
    "outputId": "c8c9e2a3-169d-4bf3-8570-03a2cde25152"
   }
  },
  {
   "cell_type": "markdown",
   "source": [
    "## Casos de aplicação do perceptron\n",
    "\n",
    "Vamos analisar a base `escolha_faculdade.xlsx` com exemplos de faculdades identificadas pelo ID e com um conjunto de variáveis que as descrevem. As variáveis são:\n",
    "\n",
    "- reconhecida_MEC: a faculdade é reconhecida pelo MEC? 1=sim ; 0=não\n",
    "- facilidade_pagamento: a faculdade apresenta facilidades para pagamento? 1=sim ; 0=não\n",
    "- flexibilidade_ensino: o quão flexível é o método de ensino? 1=somente presencial ; 2=somente EAD ; 3=misto\n",
    "- entrada_mercado: o que a faculdade oferece para facilitar a entrada do aluno no mercado de trabalho? 0=sem suporte ; 1=feiras ; 2=feiras e estágios ; 3=feiras, estágios e convênios com empresas\n",
    "- score_infraestrutura: qual nota de 0 a 100 a escola possui para sua infraestrutura?\n",
    "- empregabilidade: qual a porcentagem de alunos egressos empregados?\n",
    "- acesso_facil: a localização possui fácil acesso, como metrô, ônibus, estacionamento? 1=sim ; 0=não"
   ],
   "metadata": {
    "collapsed": false,
    "id": "8uNvs88f16NS"
   }
  },
  {
   "cell_type": "code",
   "execution_count": null,
   "outputs": [],
   "source": [
    "# Pesos já fornecidos\n",
    "pesos = [ 0.10, 0.05, 0.05, 0.2, 0.25, 0.3, 0.05 ]"
   ],
   "metadata": {
    "pycharm": {
     "name": "#%%\n"
    },
    "id": "yHmgoENJ16NT"
   }
  },
  {
   "cell_type": "code",
   "execution_count": null,
   "outputs": [],
   "source": [
    "import pandas as pd\n",
    "import math"
   ],
   "metadata": {
    "pycharm": {
     "name": "#%%\n"
    },
    "id": "ebhjTlic16NT"
   }
  },
  {
   "cell_type": "code",
   "execution_count": null,
   "outputs": [],
   "source": [
    "df = pd.read_excel(\"escolha_faculdade.xlsx\", index_col=\"ID\")"
   ],
   "metadata": {
    "pycharm": {
     "name": "#%%\n"
    },
    "id": "uP0Xd9MT16NU"
   }
  },
  {
   "cell_type": "code",
   "execution_count": null,
   "metadata": {
    "id": "GRuc3G1k0Att",
    "pycharm": {
     "is_executing": true
    }
   },
   "outputs": [],
   "source": [
    "df.head()"
   ]
  },
  {
   "cell_type": "code",
   "execution_count": null,
   "metadata": {
    "id": "SSWXDP6t0Atu"
   },
   "outputs": [],
   "source": [
    "escolas = df.T"
   ]
  },
  {
   "cell_type": "code",
   "execution_count": null,
   "metadata": {
    "id": "hUMytZzk0Atu",
    "pycharm": {
     "is_executing": true
    }
   },
   "outputs": [],
   "source": [
    "escolas"
   ]
  },
  {
   "cell_type": "code",
   "execution_count": null,
   "metadata": {
    "id": "thmZ1_h10Atu",
    "pycharm": {
     "is_executing": true
    }
   },
   "outputs": [],
   "source": [
    "soma(escolas[1],pesos)"
   ]
  },
  {
   "cell_type": "code",
   "execution_count": null,
   "metadata": {
    "id": "LQzQf1jy0Atu"
   },
   "outputs": [],
   "source": [
    "def funcao_classificacao(u,b=0):\n",
    "  if u+b>35:         #35 é um limi\n",
    "    return \"Sim\"\n",
    "  else:\n",
    "    return \"Nao\""
   ]
  },
  {
   "cell_type": "code",
   "execution_count": null,
   "metadata": {
    "id": "r1ErNDlx0Atv"
   },
   "outputs": [],
   "source": [
    "elegibilidade=[]\n",
    "for i in range(1,11):\n",
    "  \n",
    "  u = soma(escolas[i],pesos)\n",
    "  resp = funcao_classificacao(u,)\n",
    "  elegibilidade.append(resp)\n"
   ]
  },
  {
   "cell_type": "code",
   "execution_count": null,
   "metadata": {
    "id": "q5LQFGkF0Atv"
   },
   "outputs": [],
   "source": [
    "df[\"Elegivel?\"] = elegibilidade"
   ]
  },
  {
   "cell_type": "code",
   "execution_count": null,
   "metadata": {
    "id": "uuOy3nK20Atv",
    "pycharm": {
     "is_executing": true
    }
   },
   "outputs": [],
   "source": [
    "df"
   ]
  },
  {
   "cell_type": "code",
   "execution_count": null,
   "metadata": {
    "id": "x2yRUiTT0Atv",
    "pycharm": {
     "is_executing": true
    }
   },
   "outputs": [],
   "source": [
    "df[ df[\"Elegivel?\"] == \"Sim\"]"
   ]
  },
  {
   "cell_type": "code",
   "source": [
    "def funcao_regressao(u,b=0):\n",
    "  return (u*u+b)"
   ],
   "metadata": {
    "id": "owf2yf8O40uB"
   },
   "execution_count": null,
   "outputs": []
  },
  {
   "cell_type": "code",
   "source": [
    "funcao_regressao(3)"
   ],
   "metadata": {
    "id": "y9RZ8cxw40wJ",
    "pycharm": {
     "is_executing": true
    }
   },
   "execution_count": null,
   "outputs": []
  },
  {
   "cell_type": "code",
   "source": [
    "scores =[]\n",
    "\n",
    "for i in range(1,11):\n",
    "  u = soma(escolas[i],pesos)\n",
    "  resp = funcao_regressao(u,0)\n",
    "  scores.append(resp)"
   ],
   "metadata": {
    "id": "nAQISI0b40yR"
   },
   "execution_count": null,
   "outputs": []
  },
  {
   "cell_type": "code",
   "source": [
    "\n",
    "resp"
   ],
   "metadata": {
    "id": "TNJcxSjDAZHL",
    "pycharm": {
     "is_executing": true
    }
   },
   "execution_count": null,
   "outputs": []
  },
  {
   "cell_type": "code",
   "source": [
    "pesos=[]\n",
    "pesos.append(0)\n",
    "certa = 1"
   ],
   "metadata": {
    "id": "qEeyShJhAZI4"
   },
   "execution_count": 2,
   "outputs": []
  },
  {
   "cell_type": "code",
   "source": [
    "#pesos(n+1) = peso(n) + (taxaAprendizagem * entrada * erro)\n",
    "\n",
    "\n",
    "erro = 1\n",
    "i=0\n",
    "while erro != 0:\n",
    "\n",
    "  pesos.append(pesos[i] + (0.1 * 1 *erro)) \n",
    "\n",
    "\n",
    "  resposta =(pesos[i+1] *1)\n",
    "\n",
    "\n",
    "  i+=1\n",
    "\n",
    "  erro = certa-resposta\n",
    "for i in pesos:\n",
    "  print(pesos[i])"
   ],
   "metadata": {
    "id": "Yyh5WnP7AZxh"
   },
   "execution_count": null,
   "outputs": []
  }
 ],
 "metadata": {
  "kernelspec": {
   "display_name": "Python 3",
   "language": "python",
   "name": "python3"
  },
  "language_info": {
   "codemirror_mode": {
    "name": "ipython",
    "version": 3
   },
   "file_extension": ".py",
   "mimetype": "text/x-python",
   "name": "python",
   "nbconvert_exporter": "python",
   "pygments_lexer": "ipython3",
   "version": "3.7.3"
  },
  "colab": {
   "name": "RN_Aula03_Perceptron --- AULA 29mar.ipynb",
   "provenance": []
  }
 },
 "nbformat": 4,
 "nbformat_minor": 0
}