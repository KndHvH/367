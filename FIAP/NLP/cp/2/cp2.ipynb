{
  "nbformat": 4,
  "nbformat_minor": 0,
  "metadata": {
    "colab": {
      "provenance": []
    },
    "kernelspec": {
      "name": "python3",
      "display_name": "Python 3"
    },
    "language_info": {
      "name": "python"
    }
  },
  "cells": [
    {
      "cell_type": "markdown",
      "source": [
        "# Checkpoint 2"
      ],
      "metadata": {
        "id": "Gs45XgnBg2sJ"
      }
    },
    {
      "cell_type": "markdown",
      "source": [
        "1 - Contrua uma rede de relacionamento entre os personagens do livro: \"Memórias Póstumas de Brás Cubas (1881)\". Contando quantas vezes os nomes dos personagens aparecem juntos a cada conjunto de 20 palavras. \n",
        "\n",
        "2 - Faça uma visualização da rede construída\n",
        "\n",
        "3 - De acordo com sua opinião, quem são os personagens principais desse livro?\n",
        " 1º, 2º e 3º \n",
        "\n",
        "**Pergunta bônus - valendo 2 pontos no global solution**: qual o personagem do texto que tem o estilo de texto mais próximo do bras cubas? E qual personagem tem o estilo de texto mais diferente?\n",
        "\n",
        "Dica: revise os materiais das aulas 3 e 4, inclusive o código de comunidades em textos de rap."
      ],
      "metadata": {
        "id": "SP9D8_gZhKRc"
      }
    },
    {
      "cell_type": "markdown",
      "source": [
        "## Detalhes da entrega"
      ],
      "metadata": {
        "id": "jzHjshAikbu5"
      }
    },
    {
      "cell_type": "markdown",
      "source": [
        "**Prazo:** 19/05/2023\n",
        "\n",
        "**Entrega deve ser feita em formato de código executável, exemplo:** Notebook, colab, conda, etc."
      ],
      "metadata": {
        "id": "nzpLDp3ckApu"
      }
    },
    {
      "cell_type": "markdown",
      "source": [
        "# Textos brasileiros disponíveis no NLTK"
      ],
      "metadata": {
        "id": "rbQiPznYexeE"
      }
    },
    {
      "cell_type": "code",
      "source": [
        "#Exemplos\n",
        "# ex1= Text(machado.words('romance/marm08.txt'), name=\"Dom Casmurro (1899)\")\n",
        "# ex2 = Text(genesis.words('portuguese.txt'), name=\"Gênesis\")\n",
        "# ex3 = Text(mac_morpho.words('mu94se01.txt'), name=\"Folha de Sao Paulo (1994)\")\n",
        "\n",
        "# https://www.nltk.org/data.html"
      ],
      "metadata": {
        "id": "5GdOtw1ZfOef"
      },
      "execution_count": null,
      "outputs": []
    },
    {
      "cell_type": "markdown",
      "source": [
        "## Como importar o texto do Machado de Assis?"
      ],
      "metadata": {
        "id": "DOl6jwZxg782"
      }
    },
    {
      "cell_type": "code",
      "source": [
        "!pip3 install nltk"
      ],
      "metadata": {
        "colab": {
          "base_uri": "https://localhost:8080/"
        },
        "id": "m4XcjU8dWLS2",
        "outputId": "9b6ad032-1ed0-454a-ed59-417955f43676"
      },
      "execution_count": null,
      "outputs": [
        {
          "output_type": "stream",
          "name": "stdout",
          "text": [
            "Looking in indexes: https://pypi.org/simple, https://us-python.pkg.dev/colab-wheels/public/simple/\n",
            "Requirement already satisfied: nltk in /usr/local/lib/python3.10/dist-packages (3.8.1)\n",
            "Requirement already satisfied: tqdm in /usr/local/lib/python3.10/dist-packages (from nltk) (4.65.0)\n",
            "Requirement already satisfied: regex>=2021.8.3 in /usr/local/lib/python3.10/dist-packages (from nltk) (2022.10.31)\n",
            "Requirement already satisfied: joblib in /usr/local/lib/python3.10/dist-packages (from nltk) (1.2.0)\n",
            "Requirement already satisfied: click in /usr/local/lib/python3.10/dist-packages (from nltk) (8.1.3)\n"
          ]
        }
      ]
    },
    {
      "cell_type": "code",
      "source": [
        "import nltk\n",
        "from nltk.corpus import machado\n",
        "from nltk.text import Text\n",
        "\n",
        "\n",
        "nltk.download('machado')\n",
        "machado_bras_cubas = Text(machado.words('romance/marm05.txt'), name=\"Memórias Póstumas de Brás Cubas (1881)\")\n"
      ],
      "metadata": {
        "colab": {
          "base_uri": "https://localhost:8080/"
        },
        "id": "FibreKdMe5D8",
        "outputId": "cb82e274-cb2d-4414-d093-257e8fff3834"
      },
      "execution_count": null,
      "outputs": [
        {
          "output_type": "stream",
          "name": "stderr",
          "text": [
            "[nltk_data] Downloading package machado to /root/nltk_data...\n"
          ]
        }
      ]
    },
    {
      "cell_type": "markdown",
      "source": [
        "## Quais são os personagens principais do texto?"
      ],
      "metadata": {
        "id": "9cmHFSYkhDtY"
      }
    },
    {
      "cell_type": "code",
      "source": [
        "personagens_bras_cubas = [\n",
        "\n",
        "'BRÁS CUBAS',\n",
        "'VIRGÍLIA',\n",
        "'CONSELHEIRO DUTRA',\n",
        "'SABINA',\n",
        "'MARCELA',\n",
        "'EUGÊNIA',\n",
        "'NHÃ-LOLÓ',\n",
        "'LOBO NEVES',\n",
        "'QUINCAS BORBA',\n",
        "'DONA PLÁCIDA',\n",
        "'PRUDÊNCIO',\n",
        "'COTRIM']"
      ],
      "metadata": {
        "id": "YSFC3o4cf1G_"
      },
      "execution_count": null,
      "outputs": []
    }
  ]
}